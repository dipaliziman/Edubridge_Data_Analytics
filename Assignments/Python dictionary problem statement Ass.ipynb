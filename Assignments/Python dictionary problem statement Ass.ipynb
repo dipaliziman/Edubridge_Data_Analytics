{
 "cells": [
  {
   "cell_type": "markdown",
   "id": "85c0eca6-b733-4a25-bca4-16c21dcc197c",
   "metadata": {},
   "source": [
    "Delete a list of keys from a dictionary"
   ]
  },
  {
   "cell_type": "code",
   "execution_count": 7,
   "id": "3e84e65c-c544-4114-b106-49769ad2b223",
   "metadata": {},
   "outputs": [
    {
     "name": "stdout",
     "output_type": "stream",
     "text": [
      "{'age': 25, 'city': 'New Yourk'}\n"
     ]
    }
   ],
   "source": [
    "sample_dict = {\"name\":\"kelly\", \"age\":25,\"salary\":8000, \"city\":\"New Yourk\"}\n",
    "del(sample_dict[\"name\"])\n",
    "del(sample_dict[\"salary\"])\n",
    "print(sample_dict)\n"
   ]
  },
  {
   "cell_type": "markdown",
   "id": "556eb146-8b60-421c-b1d4-cd52b0990ae1",
   "metadata": {},
   "source": [
    "Check if a value exists in a dictionary"
   ]
  },
  {
   "cell_type": "code",
   "execution_count": 16,
   "id": "a5fea17d-b6e1-459d-b299-8f215f94a395",
   "metadata": {},
   "outputs": [
    {
     "data": {
      "text/plain": [
       "True"
      ]
     },
     "execution_count": 16,
     "metadata": {},
     "output_type": "execute_result"
    }
   ],
   "source": [
    "sample_dict = {'a':100, 'b':200, 'c':300}\n",
    "\"b\" in sample_dict\n",
    "    \n",
    "               "
   ]
  },
  {
   "cell_type": "markdown",
   "id": "3ae84660-cef6-43a2-b7be-dc155692c482",
   "metadata": {},
   "source": [
    "Rename key of a dictionary"
   ]
  },
  {
   "cell_type": "code",
   "execution_count": 5,
   "id": "3647a0c9-934b-412d-90f0-1ee31d293e6e",
   "metadata": {},
   "outputs": [
    {
     "name": "stdout",
     "output_type": "stream",
     "text": [
      "{'name': 'kelly', 'age': 25, 'salary': 8000, 'location': 'New Yourk'}\n"
     ]
    }
   ],
   "source": [
    "sample_dict = {\"name\":\"kelly\", \"age\":25,\"salary\":8000, \"city\":\"New Yourk\"}\n",
    "new_key=\"location\"\n",
    "old_key=\"city\"\n",
    "sample_dict[new_key] = sample_dict.pop(old_key)\n",
    "print(sample_dict)"
   ]
  },
  {
   "cell_type": "markdown",
   "id": "2f2e0b50-2193-41ec-a9d2-9cf73d45337e",
   "metadata": {},
   "source": [
    "Get the key of a minimum value from the following dictionary"
   ]
  },
  {
   "cell_type": "code",
   "execution_count": 11,
   "id": "47e092e7-1a4a-42ee-9a01-2b40da3aebb4",
   "metadata": {},
   "outputs": [
    {
     "name": "stdout",
     "output_type": "stream",
     "text": [
      "65\n"
     ]
    }
   ],
   "source": [
    "sample_dict = {\"physics\":82,\"math\":65,\"history\":75}\n",
    "x= min(82,65,75)\n",
    "print(x)"
   ]
  },
  {
   "cell_type": "markdown",
   "id": "cd79976a-421d-4112-93ae-411b4c4d1eba",
   "metadata": {},
   "source": [
    "Change value of a key in a nested dictionary"
   ]
  },
  {
   "cell_type": "code",
   "execution_count": 15,
   "id": "b421c336-0bbd-435f-9820-254f348ad214",
   "metadata": {},
   "outputs": [
    {
     "name": "stdout",
     "output_type": "stream",
     "text": [
      "{'emp1': {'name': 'jhon', 'salary': 7500}, 'emp2': {'name': 'emma', 'salary': 8000}, 'emp3': {'name': 'brad', 'salary': 8500}}\n"
     ]
    }
   ],
   "source": [
    "sample_dict = {'emp1':{'name':'jhon','salary':7500},\n",
    "               'emp2':{'name':'emma','salary':8000},\n",
    "               'emp3':{'name':'brad','salary':500}\n",
    "              }\n",
    "sample_dict['emp3']['salary']=8500\n",
    "print(sample_dict)\n",
    "                      "
   ]
  },
  {
   "cell_type": "code",
   "execution_count": null,
   "id": "bd8be5a7-a19a-4860-a348-a71491103b47",
   "metadata": {},
   "outputs": [],
   "source": []
  }
 ],
 "metadata": {
  "kernelspec": {
   "display_name": "Python 3 (ipykernel)",
   "language": "python",
   "name": "python3"
  },
  "language_info": {
   "codemirror_mode": {
    "name": "ipython",
    "version": 3
   },
   "file_extension": ".py",
   "mimetype": "text/x-python",
   "name": "python",
   "nbconvert_exporter": "python",
   "pygments_lexer": "ipython3",
   "version": "3.9.7"
  }
 },
 "nbformat": 4,
 "nbformat_minor": 5
}
