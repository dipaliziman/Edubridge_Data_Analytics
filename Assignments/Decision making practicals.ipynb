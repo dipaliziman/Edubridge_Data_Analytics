{
 "cells": [
  {
   "cell_type": "markdown",
   "id": "9d5f56a8-eebe-480e-a17c-9283ca6d7e03",
   "metadata": {},
   "source": [
    "Example 1 : Program to check whether a person is eligible to vote or not."
   ]
  },
  {
   "cell_type": "code",
   "execution_count": 2,
   "id": "b3676996-6280-43d6-b7d8-527abd162e1e",
   "metadata": {},
   "outputs": [
    {
     "name": "stdout",
     "output_type": "stream",
     "text": [
      "person is elgible to vote\n"
     ]
    }
   ],
   "source": [
    "age=20\n",
    "if age>=18:\n",
    "    print(\"person is elgible to vote\")\n",
    "else:\n",
    "    print(\"sorry:not elgible to vote\")"
   ]
  },
  {
   "cell_type": "code",
   "execution_count": 3,
   "id": "2dcbb7e8-6554-4cf0-a55a-9d99a571663c",
   "metadata": {},
   "outputs": [
    {
     "name": "stdin",
     "output_type": "stream",
     "text": [
      "Enter your age 18\n"
     ]
    },
    {
     "name": "stdout",
     "output_type": "stream",
     "text": [
      "person is elgible to vote\n"
     ]
    }
   ],
   "source": [
    "age=int(input (\"Enter your age\"))\n",
    "if age>=18:\n",
    "    print(\"person is elgible to vote\")\n",
    "else:\n",
    "    print(\"sorry:not elgible to vote\")"
   ]
  },
  {
   "cell_type": "markdown",
   "id": "94888e2d-fe8e-4969-8827-30215a2ea9b6",
   "metadata": {},
   "source": [
    "Example 2: Program to check whether a number is even or not."
   ]
  },
  {
   "cell_type": "code",
   "execution_count": 21,
   "id": "2e114b38-5ee7-4450-8af4-cc2fbf2bc01d",
   "metadata": {},
   "outputs": [
    {
     "name": "stdin",
     "output_type": "stream",
     "text": [
      "Enter a number 23\n"
     ]
    },
    {
     "name": "stdout",
     "output_type": "stream",
     "text": [
      "number, is an odd number\n"
     ]
    }
   ],
   "source": [
    "number=int(input(\"Enter a number\"))\n",
    "if (number % 2== 0):\n",
    "    print(\"number,is an even number\")\n",
    "else:\n",
    "    print(\"number, is an odd number\")"
   ]
  },
  {
   "cell_type": "markdown",
   "id": "c035a5fd-4c56-4a3e-a4f8-a38b02fd24f2",
   "metadata": {},
   "source": [
    "Example 3: Program to print the largest of the three numbers."
   ]
  },
  {
   "cell_type": "code",
   "execution_count": null,
   "id": "14a043ba-eff4-473e-9e6a-a478bf3e15d0",
   "metadata": {},
   "outputs": [],
   "source": []
  },
  {
   "cell_type": "markdown",
   "id": "065fbf19-17d1-4aa8-80e0-a23c1b4236f3",
   "metadata": {},
   "source": [
    "1.Write a program for if statement"
   ]
  },
  {
   "cell_type": "code",
   "execution_count": 26,
   "id": "6c66f0ee-b05b-4ff8-88a7-901681490a1f",
   "metadata": {},
   "outputs": [
    {
     "name": "stdout",
     "output_type": "stream",
     "text": [
      "a is greater than 5\n"
     ]
    }
   ],
   "source": [
    "a=10\n",
    "if (a>5):\n",
    "   print(\"a is greater than 5\")\n"
   ]
  },
  {
   "cell_type": "markdown",
   "id": "37ebb1ad-1611-4e8b-829d-d529f77b3515",
   "metadata": {},
   "source": [
    "\n",
    "2.Write a program and check if x is greater than y and print using if else statement\n"
   ]
  },
  {
   "cell_type": "code",
   "execution_count": 23,
   "id": "1baf0605-99cb-4940-85d1-31d69ffaf27c",
   "metadata": {},
   "outputs": [
    {
     "name": "stdout",
     "output_type": "stream",
     "text": [
      "x is greater than y\n"
     ]
    }
   ],
   "source": [
    "x=20\n",
    "y=18\n",
    "if x>y:\n",
    "    print(\"x is greater than y\")\n",
    "else:\n",
    "    print(\"x is less than y\")\n"
   ]
  },
  {
   "cell_type": "markdown",
   "id": "993ff4de-44fd-4d43-b531-7abbcd321878",
   "metadata": {},
   "source": [
    "3..Write a program for nested if. "
   ]
  },
  {
   "cell_type": "code",
   "execution_count": 24,
   "id": "9118f409-8c97-4c90-99d4-e369332ad69e",
   "metadata": {},
   "outputs": [
    {
     "name": "stdout",
     "output_type": "stream",
     "text": [
      "x is equal to y\n"
     ]
    }
   ],
   "source": [
    "x=50\n",
    "y=50\n",
    "if x>y:\n",
    "    print(\"x is greater than y\")\n",
    "elif x==y:\n",
    "    print(\"x is equal to y\")\n",
    "else:\n",
    "    print(\"x is less than y\")"
   ]
  }
 ],
 "metadata": {
  "kernelspec": {
   "display_name": "Python 3 (ipykernel)",
   "language": "python",
   "name": "python3"
  },
  "language_info": {
   "codemirror_mode": {
    "name": "ipython",
    "version": 3
   },
   "file_extension": ".py",
   "mimetype": "text/x-python",
   "name": "python",
   "nbconvert_exporter": "python",
   "pygments_lexer": "ipython3",
   "version": "3.9.7"
  }
 },
 "nbformat": 4,
 "nbformat_minor": 5
}
