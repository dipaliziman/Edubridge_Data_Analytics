{
 "cells": [
  {
   "cell_type": "markdown",
   "id": "795d4210-0710-4f59-9b4f-d494e40b6635",
   "metadata": {},
   "source": [
    "1.create dictionary and print it"
   ]
  },
  {
   "cell_type": "code",
   "execution_count": 4,
   "id": "a6e3ead6-bc2f-4cf5-8c81-28e84c54441a",
   "metadata": {},
   "outputs": [
    {
     "name": "stdout",
     "output_type": "stream",
     "text": [
      "{'int': 5, 'float': 5.6, 'boolean': True, 'colors': ['yellow', 'blue', 'black']}\n"
     ]
    }
   ],
   "source": [
    "dict={'int':5,'float':5.6,'boolean':True,'colors':['yellow','blue','black']}\n",
    "print(dict)"
   ]
  },
  {
   "cell_type": "markdown",
   "id": "85b98afc-0b39-47d1-9f20-1ed842b821b6",
   "metadata": {},
   "source": [
    "2.Print the Length of the dictionary"
   ]
  },
  {
   "cell_type": "code",
   "execution_count": 5,
   "id": "de122297-fc90-4b48-a82e-972e13c492a5",
   "metadata": {},
   "outputs": [
    {
     "name": "stdout",
     "output_type": "stream",
     "text": [
      "4\n"
     ]
    }
   ],
   "source": [
    "dict={'int':5,'float':5.6,'boolean':True,'colors':['yellow','blue','black']}\n",
    "print(len(dict))"
   ]
  },
  {
   "cell_type": "markdown",
   "id": "af30f38c-f93a-4a82-bb58-5ac7a924f8f3",
   "metadata": {},
   "source": [
    "3.Do all the operations conducted in the sessions(access the items,add item,remove item etc)"
   ]
  },
  {
   "cell_type": "code",
   "execution_count": 19,
   "id": "e4dff011-9e86-45e6-9eea-e822ce85829d",
   "metadata": {},
   "outputs": [
    {
     "name": "stdout",
     "output_type": "stream",
     "text": [
      "5.6\n",
      "['yellow', 'blue', 'black']\n"
     ]
    },
    {
     "data": {
      "text/plain": [
       "5.6"
      ]
     },
     "execution_count": 19,
     "metadata": {},
     "output_type": "execute_result"
    }
   ],
   "source": [
    "dict={'int':5,'float':5.6,'boolean':True,'colors':['yellow','blue','black']}\n",
    "x=dict['float']# accessing items\n",
    "print(x)\n",
    "y=dict['colors']# accessing items\n",
    "print(y)\n",
    "dict.get('float')# accessing items by another method\n"
   ]
  },
  {
   "cell_type": "code",
   "execution_count": 37,
   "id": "9a25df54-7033-4aca-b93e-6e2dd3f4113c",
   "metadata": {},
   "outputs": [
    {
     "name": "stdout",
     "output_type": "stream",
     "text": [
      "dict_keys(['int', 'float', 'boolean', 'colors'])\n",
      "dict_values([5, 5.6, True, ['yellow', 'blue', 'black']])\n"
     ]
    },
    {
     "data": {
      "text/plain": [
       "dict_values([5, 5.6, True, ['yellow', 'blue', 'black']])"
      ]
     },
     "execution_count": 37,
     "metadata": {},
     "output_type": "execute_result"
    }
   ],
   "source": [
    "dict={'int':5,'float':5.6,'boolean':True,'colors':['yellow','blue','black']}\n",
    "x=dict.keys() #get keys\n",
    "print(x)\n",
    "y=dict.values() #get values\n",
    "print(y)\n",
    "dict.values() #get values"
   ]
  },
  {
   "cell_type": "code",
   "execution_count": 47,
   "id": "15d89ba1-ba7f-4688-8403-2b0609f6d6c6",
   "metadata": {},
   "outputs": [
    {
     "name": "stdout",
     "output_type": "stream",
     "text": [
      "{'int': 5, 'float': 5.6, 'boolean': False, 'colors': ['yellow', 'blue', 'black']}\n",
      "{'int': 5, 'float': 5.6, 'boolean': False, 'colors': ['yellow', 'blue', 'black'], 'name': 'dipali'}\n"
     ]
    }
   ],
   "source": [
    "dict={'int':5,'float':5.6,'boolean':True,'colors':['yellow','blue','black']}\n",
    "dict['boolean']=False #update value \n",
    "print(dict)\n",
    "dict['name']='dipali' #update new value \n",
    "print(dict)"
   ]
  },
  {
   "cell_type": "code",
   "execution_count": 36,
   "id": "6fe77d51-421b-4119-b037-549367b74860",
   "metadata": {},
   "outputs": [
    {
     "name": "stdout",
     "output_type": "stream",
     "text": [
      "{'int': 5, 'boolean': True, 'colors': ['yellow', 'blue', 'black']}\n",
      "{'boolean': True, 'colors': ['yellow', 'blue', 'black']}\n"
     ]
    }
   ],
   "source": [
    "dict={'int':5,'float':5.6,'boolean':True,'colors':['yellow','blue','black']}\n",
    "del dict['float'] # delete keys\n",
    "print(dict)\n",
    "dict.pop('int') # delete keys by pop\n",
    "print(dict)"
   ]
  },
  {
   "cell_type": "code",
   "execution_count": 44,
   "id": "220132be-2a4b-4620-97c1-9b6a56611692",
   "metadata": {},
   "outputs": [
    {
     "data": {
      "text/plain": [
       "True"
      ]
     },
     "execution_count": 44,
     "metadata": {},
     "output_type": "execute_result"
    }
   ],
   "source": [
    "'colors' in dict # verify the key\n"
   ]
  },
  {
   "cell_type": "code",
   "execution_count": 46,
   "id": "de9bf2f0-2671-4c4a-a185-c25901d73bf5",
   "metadata": {},
   "outputs": [
    {
     "name": "stdout",
     "output_type": "stream",
     "text": [
      "{'int': 5, 'float': 5.6, 'boolean': True, 'colors': ['yellow', 'blue', 'black'], 'a': 2, 'b': 2.5, 'c': 'dipali'}\n"
     ]
    }
   ],
   "source": [
    "dict={'int':5,'float':5.6,'boolean':True,'colors':['yellow','blue','black']}\n",
    "dict1={'a':2,'b':2.5,'c':'dipali'}\n",
    "dict.update(dict1) # adding 2 dictionary\n",
    "print(dict)"
   ]
  },
  {
   "cell_type": "code",
   "execution_count": null,
   "id": "e8d80221-22b1-427f-bea8-9e5201ed8e0b",
   "metadata": {},
   "outputs": [],
   "source": []
  }
 ],
 "metadata": {
  "kernelspec": {
   "display_name": "Python 3 (ipykernel)",
   "language": "python",
   "name": "python3"
  },
  "language_info": {
   "codemirror_mode": {
    "name": "ipython",
    "version": 3
   },
   "file_extension": ".py",
   "mimetype": "text/x-python",
   "name": "python",
   "nbconvert_exporter": "python",
   "pygments_lexer": "ipython3",
   "version": "3.9.7"
  }
 },
 "nbformat": 4,
 "nbformat_minor": 5
}
