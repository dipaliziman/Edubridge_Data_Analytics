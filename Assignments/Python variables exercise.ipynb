{
 "cells": [
  {
   "cell_type": "markdown",
   "id": "13121889-285d-4688-8dc0-5e2d00f8fa14",
   "metadata": {},
   "source": [
    "1.Create a variable named carname and assign the value Volvo to it and print it"
   ]
  },
  {
   "cell_type": "code",
   "execution_count": 1,
   "id": "f82428e9-82c3-456f-9430-2ffcbf8de65f",
   "metadata": {},
   "outputs": [
    {
     "name": "stdout",
     "output_type": "stream",
     "text": [
      "volvo\n"
     ]
    }
   ],
   "source": [
    "carname='volvo'\n",
    "print(carname)"
   ]
  },
  {
   "cell_type": "markdown",
   "id": "fbfebfc8-0531-4850-9422-7834d7c51d36",
   "metadata": {},
   "source": [
    "2.Create a variable named x and assign the value 50 to it and print it."
   ]
  },
  {
   "cell_type": "code",
   "execution_count": 2,
   "id": "cba15af9-90c7-4463-8b6d-8c0f5517f763",
   "metadata": {},
   "outputs": [
    {
     "name": "stdout",
     "output_type": "stream",
     "text": [
      "50\n"
     ]
    }
   ],
   "source": [
    "x=50\n",
    "print(x)"
   ]
  },
  {
   "cell_type": "markdown",
   "id": "2258ffda-39d8-436d-a916-660ad4c24e45",
   "metadata": {},
   "source": [
    "3.Display the sum of 5 + 10, using two variables: x and y and print it"
   ]
  },
  {
   "cell_type": "code",
   "execution_count": 3,
   "id": "b52b49c0-14f3-4b0a-a47e-8bf902716413",
   "metadata": {},
   "outputs": [
    {
     "name": "stdout",
     "output_type": "stream",
     "text": [
      "15\n"
     ]
    }
   ],
   "source": [
    "x=5\n",
    "y=10\n",
    "z=x+y\n",
    "print(z)"
   ]
  },
  {
   "cell_type": "markdown",
   "id": "b9a9dd23-b185-431c-bdf1-aadf9081bf91",
   "metadata": {},
   "source": [
    "4.Create a variable called z, assign x + y to it, and display the result."
   ]
  },
  {
   "cell_type": "code",
   "execution_count": 4,
   "id": "2d1227ae-973f-40c5-a0be-0216de816631",
   "metadata": {},
   "outputs": [
    {
     "name": "stdout",
     "output_type": "stream",
     "text": [
      "15\n"
     ]
    }
   ],
   "source": [
    "z=(x+y)\n",
    "print(z)"
   ]
  },
  {
   "cell_type": "markdown",
   "id": "8661e0ff-e456-430a-a38e-0a8129f74a8b",
   "metadata": {},
   "source": [
    "5.Remove the illegal characters in the variable name:2my-first_name = \"John\""
   ]
  },
  {
   "cell_type": "code",
   "execution_count": 8,
   "id": "04a8110c-9f97-4aa2-ab50-bdb3a48dd03c",
   "metadata": {},
   "outputs": [
    {
     "ename": "SyntaxError",
     "evalue": "cannot assign to literal (Temp/ipykernel_9184/1176633023.py, line 1)",
     "output_type": "error",
     "traceback": [
      "\u001b[1;36m  File \u001b[1;32m\"C:\\Users\\Lenovo\\AppData\\Local\\Temp/ipykernel_9184/1176633023.py\"\u001b[1;36m, line \u001b[1;32m1\u001b[0m\n\u001b[1;33m    \"my_first_name\" =\"John\"\u001b[0m\n\u001b[1;37m    ^\u001b[0m\n\u001b[1;31mSyntaxError\u001b[0m\u001b[1;31m:\u001b[0m cannot assign to literal\n"
     ]
    }
   ],
   "source": [
    "my_first_name=\"John\"\n",
    "print(my_frist_name)"
   ]
  },
  {
   "cell_type": "markdown",
   "id": "8b9f479d-c364-4b13-8479-d2e0ba9d5b95",
   "metadata": {},
   "source": [
    "6.Insert the correct syntax to assign the same value to all three variables in one code line."
   ]
  },
  {
   "cell_type": "code",
   "execution_count": 9,
   "id": "088d4af3-5d0f-45b5-a6c8-db70f1b15c69",
   "metadata": {},
   "outputs": [
    {
     "name": "stdout",
     "output_type": "stream",
     "text": [
      "2\n",
      "2\n",
      "2\n"
     ]
    }
   ],
   "source": [
    "h=i=j=2\n",
    "print(h)\n",
    "print(i)\n",
    "print(j)"
   ]
  },
  {
   "cell_type": "markdown",
   "id": "7c1da2cf-11e9-43c2-abcd-e97bfb4751f3",
   "metadata": {},
   "source": [
    "7.Create variable name ,age,salary and assign values to it with comments and print it."
   ]
  },
  {
   "cell_type": "code",
   "execution_count": 11,
   "id": "9ee61b1b-2eaf-40ef-83a4-d874c622e648",
   "metadata": {},
   "outputs": [
    {
     "name": "stdout",
     "output_type": "stream",
     "text": [
      "dipali\n",
      "20\n",
      "25000\n"
     ]
    }
   ],
   "source": [
    "name='dipali'#name of person\n",
    "age=20 #age of person\n",
    "salary=25000  #salary of person\n",
    "print(name)\n",
    "print(age)\n",
    "print(salary)"
   ]
  },
  {
   "cell_type": "markdown",
   "id": "bed97306-dd05-4655-8046-608006bdb0f0",
   "metadata": {},
   "source": [
    "8. Create a variable name “var” and assign different values in it and print its type."
   ]
  },
  {
   "cell_type": "code",
   "execution_count": 17,
   "id": "8b854093-cd42-48cf-b33a-46413a1da585",
   "metadata": {},
   "outputs": [
    {
     "name": "stdout",
     "output_type": "stream",
     "text": [
      "type[20]\n"
     ]
    }
   ],
   "source": [
    "var=(20,55.5,'Abhi',True)\n",
    "print(type[20])"
   ]
  },
  {
   "cell_type": "code",
   "execution_count": null,
   "id": "5838842b-19a4-4b9f-95a7-f866f1557aed",
   "metadata": {},
   "outputs": [],
   "source": []
  },
  {
   "cell_type": "code",
   "execution_count": null,
   "id": "2e06971d-eedc-4c1e-8c63-261ffe351925",
   "metadata": {},
   "outputs": [],
   "source": []
  }
 ],
 "metadata": {
  "kernelspec": {
   "display_name": "Python 3 (ipykernel)",
   "language": "python",
   "name": "python3"
  },
  "language_info": {
   "codemirror_mode": {
    "name": "ipython",
    "version": 3
   },
   "file_extension": ".py",
   "mimetype": "text/x-python",
   "name": "python",
   "nbconvert_exporter": "python",
   "pygments_lexer": "ipython3",
   "version": "3.9.7"
  }
 },
 "nbformat": 4,
 "nbformat_minor": 5
}
