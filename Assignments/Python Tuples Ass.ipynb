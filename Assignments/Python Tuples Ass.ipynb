{
 "cells": [
  {
   "cell_type": "markdown",
   "id": "838774b2-a2db-48fa-9951-c1b2a3e522ad",
   "metadata": {},
   "source": [
    "Create two tuples and do indexing and slicing."
   ]
  },
  {
   "cell_type": "code",
   "execution_count": 1,
   "id": "a566e1d4-1e56-4241-993b-c620e3996099",
   "metadata": {},
   "outputs": [
    {
     "name": "stdout",
     "output_type": "stream",
     "text": [
      "('apple', 'grapes', 'pen', 'pencil', 'apple', 'pen')\n",
      "('abhi', 'dip', 'raju', 'karan', 'abhi', 'dip')\n"
     ]
    }
   ],
   "source": [
    "tup1=('apple','grapes','pen','pencil','apple','pen')\n",
    "tup2=('abhi','dip','raju','karan','abhi','dip')\n",
    "print(tup1)\n",
    "print(tup2)"
   ]
  },
  {
   "cell_type": "code",
   "execution_count": 4,
   "id": "7a5b658e-2869-42a8-97fd-39b9e4f11045",
   "metadata": {},
   "outputs": [
    {
     "name": "stdout",
     "output_type": "stream",
     "text": [
      "pencil\n",
      "('apple', 'pen')\n"
     ]
    }
   ],
   "source": [
    "print(tup1[3])\n",
    "print(tup1[4:])"
   ]
  },
  {
   "cell_type": "code",
   "execution_count": 5,
   "id": "15ac0f07-848b-4032-bd04-73dc3412550b",
   "metadata": {},
   "outputs": [
    {
     "name": "stdout",
     "output_type": "stream",
     "text": [
      "('dip', 'raju', 'karan')\n"
     ]
    }
   ],
   "source": [
    "print(tup2[1:4])"
   ]
  },
  {
   "cell_type": "code",
   "execution_count": 6,
   "id": "4f37133e-8684-4c51-954d-b6868e32159a",
   "metadata": {},
   "outputs": [
    {
     "name": "stdout",
     "output_type": "stream",
     "text": [
      "('abhi', 'dip', 'raju', 'karan')\n"
     ]
    }
   ],
   "source": [
    "print(tup2[:4])"
   ]
  },
  {
   "cell_type": "code",
   "execution_count": 7,
   "id": "3d8d9415-7156-4cd8-821e-14b3d2f74fe2",
   "metadata": {},
   "outputs": [
    {
     "name": "stdout",
     "output_type": "stream",
     "text": [
      "('apple', 'grapes', 'pen', 'pencil', 'apple', 'pen')\n"
     ]
    }
   ],
   "source": [
    "print(tup1[:])"
   ]
  },
  {
   "cell_type": "code",
   "execution_count": 8,
   "id": "e9c28aee-5163-470f-a346-049c3abb3e0a",
   "metadata": {},
   "outputs": [
    {
     "data": {
      "text/plain": [
       "6"
      ]
     },
     "execution_count": 8,
     "metadata": {},
     "output_type": "execute_result"
    }
   ],
   "source": [
    "len(tup2)"
   ]
  },
  {
   "cell_type": "code",
   "execution_count": 9,
   "id": "4f1074a8-2a1c-4c73-b5ff-e052beca8240",
   "metadata": {},
   "outputs": [
    {
     "name": "stdout",
     "output_type": "stream",
     "text": [
      "pen\n"
     ]
    }
   ],
   "source": [
    "print(tup1[2])"
   ]
  },
  {
   "cell_type": "code",
   "execution_count": 10,
   "id": "76e8edcc-c8ab-4970-a409-16c8ce04e0c6",
   "metadata": {},
   "outputs": [
    {
     "name": "stdout",
     "output_type": "stream",
     "text": [
      "karan\n"
     ]
    }
   ],
   "source": [
    "print(tup2[-3])"
   ]
  },
  {
   "cell_type": "code",
   "execution_count": 12,
   "id": "0a34ac73-9dea-4129-ac41-1540228b7c0c",
   "metadata": {},
   "outputs": [
    {
     "name": "stdout",
     "output_type": "stream",
     "text": [
      "raju\n"
     ]
    }
   ],
   "source": [
    "print(tup2[2])"
   ]
  },
  {
   "cell_type": "code",
   "execution_count": 13,
   "id": "279e8aa4-367a-4bdb-8e42-329fb2b9fd49",
   "metadata": {},
   "outputs": [
    {
     "name": "stdout",
     "output_type": "stream",
     "text": [
      "apple\n"
     ]
    }
   ],
   "source": [
    "print(tup1[-2])"
   ]
  },
  {
   "cell_type": "code",
   "execution_count": null,
   "id": "b217a394-932c-4c5f-90fd-fc91825620cb",
   "metadata": {},
   "outputs": [],
   "source": []
  }
 ],
 "metadata": {
  "kernelspec": {
   "display_name": "Python 3 (ipykernel)",
   "language": "python",
   "name": "python3"
  },
  "language_info": {
   "codemirror_mode": {
    "name": "ipython",
    "version": 3
   },
   "file_extension": ".py",
   "mimetype": "text/x-python",
   "name": "python",
   "nbconvert_exporter": "python",
   "pygments_lexer": "ipython3",
   "version": "3.9.7"
  }
 },
 "nbformat": 4,
 "nbformat_minor": 5
}
