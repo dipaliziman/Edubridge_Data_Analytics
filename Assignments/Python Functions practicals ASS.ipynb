{
 "cells": [
  {
   "cell_type": "markdown",
   "id": "bb3323a9-426f-4246-a7ea-f2c0a96d65d1",
   "metadata": {},
   "source": [
    "1.\tWrite a Python function to sum all the numbers in a list.\n",
    "Sample List : (8, 2, 3, 0, 7)\n",
    "Expected Output : 20\n"
   ]
  },
  {
   "cell_type": "code",
   "execution_count": 1,
   "id": "5fd40cca-3e28-43fe-a5e3-5ceac7373cf4",
   "metadata": {},
   "outputs": [
    {
     "name": "stdout",
     "output_type": "stream",
     "text": [
      "20\n"
     ]
    }
   ],
   "source": [
    "def sum(numbers):\n",
    "    total = 0\n",
    "    for x in numbers:\n",
    "        total += x\n",
    "    return total\n",
    "print(sum((8, 2, 3, 0, 7)))"
   ]
  },
  {
   "cell_type": "markdown",
   "id": "bae9f254-5dae-415b-882d-edcd84057774",
   "metadata": {},
   "source": [
    "2.\tWrite a Python function to multiply all the numbers in a list.\n",
    "Sample List : (8, 2, 3, -1, 7)\n",
    "Expected Output : -336\n"
   ]
  },
  {
   "cell_type": "code",
   "execution_count": 3,
   "id": "6df6b3e0-80b5-49ce-94c3-919079ae7450",
   "metadata": {},
   "outputs": [
    {
     "name": "stdout",
     "output_type": "stream",
     "text": [
      "-336\n"
     ]
    }
   ],
   "source": [
    "def mul(numbers):\n",
    "    total = 1\n",
    "    for x in numbers:\n",
    "        total *= x\n",
    "    return total\n",
    "print(mul((8, 2, 3, -1, 7)))"
   ]
  },
  {
   "cell_type": "markdown",
   "id": "ef82de9e-6bf0-4cd0-b313-fc142b38c240",
   "metadata": {},
   "source": [
    "3.\tWrite a program to create function func1() to accept a variable length of arguments and print their value."
   ]
  },
  {
   "cell_type": "code",
   "execution_count": 4,
   "id": "66cfba82-1e1e-4696-bae9-39f0ceb14532",
   "metadata": {},
   "outputs": [
    {
     "name": "stdout",
     "output_type": "stream",
     "text": [
      "20\n",
      "40\n",
      "60\n"
     ]
    }
   ],
   "source": [
    "def func1(*args):#3argument\n",
    "    for i in args:\n",
    "        print(i)\n",
    "func1(20,40,60)"
   ]
  },
  {
   "cell_type": "code",
   "execution_count": 5,
   "id": "25db53f5-9994-4275-a7b2-c6c21e7fe53b",
   "metadata": {},
   "outputs": [
    {
     "name": "stdout",
     "output_type": "stream",
     "text": [
      "80\n",
      "100\n"
     ]
    }
   ],
   "source": [
    "def func1(*args):#2argument\n",
    "    for i in args:\n",
    "        print(i)\n",
    "func1(80,100)"
   ]
  },
  {
   "cell_type": "markdown",
   "id": "d1af4fba-06a9-4a0e-b115-8e03071f8f7a",
   "metadata": {},
   "source": [
    "4.Write a program to create function calculation() such that it can accept two variables and calculate addition and subtraction. Also, it must return both addition and subtraction in a single return call."
   ]
  },
  {
   "cell_type": "code",
   "execution_count": 6,
   "id": "9d0d9d2e-32b6-4b43-bc2f-1dfc77a08be5",
   "metadata": {},
   "outputs": [
    {
     "name": "stdout",
     "output_type": "stream",
     "text": [
      "(50, 30)\n"
     ]
    }
   ],
   "source": [
    "def calculation(a,b):\n",
    "    return a+b, a-b\n",
    "res = calculation(40,10)\n",
    "print(res)"
   ]
  },
  {
   "cell_type": "markdown",
   "id": "8e4e09b7-a399-4e62-b9bd-36784595a446",
   "metadata": {},
   "source": [
    "6.Assign a different name to function and call it through the new name"
   ]
  },
  {
   "cell_type": "code",
   "execution_count": 8,
   "id": "4830a796-ea8b-4048-a132-998d06bde238",
   "metadata": {},
   "outputs": [
    {
     "name": "stdout",
     "output_type": "stream",
     "text": [
      "emma 26\n",
      "Dipali 26\n"
     ]
    }
   ],
   "source": [
    "def display_student(name,age):\n",
    "    print(name,age)\n",
    "display_student(\"emma\",26)\n",
    "show_student = display_student\n",
    "show_student(\"Dipali\",26)"
   ]
  },
  {
   "cell_type": "markdown",
   "id": "9959440e-0120-40d6-a22f-dcc3671bb72c",
   "metadata": {},
   "source": [
    "\n",
    "5.Write a program to create a function show_employee() using the following conditions.\n",
    "•\tIt should accept the employee’s name and salary and display both.\n",
    "•\tIf the salary is missing in the function call then assign default value 9000 to salary\n"
   ]
  },
  {
   "cell_type": "code",
   "execution_count": 9,
   "id": "5e84f3d6-df42-464c-8fcc-a4c6022fd4e8",
   "metadata": {},
   "outputs": [
    {
     "name": "stdout",
     "output_type": "stream",
     "text": [
      "('ben', 12000)\n",
      "('jessa', 545)\n"
     ]
    }
   ],
   "source": [
    "def show_employee(name,salary):\n",
    "    return(name,salary)\n",
    "    salary=9000\n",
    "print(show_employee(\"ben\",12000))\n",
    "print(show_employee(\"jessa\",545))\n"
   ]
  },
  {
   "cell_type": "markdown",
   "id": "fd10b1a2-014f-4194-b3c3-9942f2569b9b",
   "metadata": {},
   "source": [
    "7.PROBLEM STATEMENTS"
   ]
  },
  {
   "cell_type": "markdown",
   "id": "ff0668e7-9902-4cf5-8b24-f250fe99c721",
   "metadata": {},
   "source": [
    "Problem 1"
   ]
  },
  {
   "cell_type": "code",
   "execution_count": 10,
   "id": "4d40c621-5837-4d79-9abe-eec0e2ef3d69",
   "metadata": {},
   "outputs": [
    {
     "name": "stdout",
     "output_type": "stream",
     "text": [
      "75.0\n"
     ]
    }
   ],
   "source": [
    "def Area_of_Triangle (height,base):\n",
    "    Area = (base*height)/2 #Area\n",
    "    print(Area)\n",
    "Area_of_Triangle(10,15)"
   ]
  },
  {
   "cell_type": "markdown",
   "id": "eb850bad-44d0-4bd2-94df-e2c10a38e001",
   "metadata": {},
   "source": [
    "Problem 2 "
   ]
  },
  {
   "cell_type": "code",
   "execution_count": 11,
   "id": "9986f0fc-f342-4976-a44d-3176528f228f",
   "metadata": {},
   "outputs": [
    {
     "name": "stdin",
     "output_type": "stream",
     "text": [
      "Enter a number:  5\n",
      "Enter a second number:  12\n"
     ]
    },
    {
     "name": "stdout",
     "output_type": "stream",
     "text": [
      "sum of 5.0 and 12.0 is 17.0\n",
      "Difference of 5.0 and 12.0 is -7.0\n",
      "Product of 5.0 and 12.0 is 60.0\n",
      "Quotient of 5.0 and 12.0 is 0.4166666666666667\n"
     ]
    }
   ],
   "source": [
    "def Compute(num1,num2):\n",
    "    sum=num1 + num2\n",
    "    diff=num1 - num2\n",
    "    product=num1 * num2\n",
    "    quotient=num1 / num2\n",
    "    return sum, diff, product, quotient\n",
    "\n",
    "n1=float(input(\"Enter a number: \"))\n",
    "n2=float(input(\"Enter a second number: \"))\n",
    "s,d,p,q = Compute(n1,n2)\n",
    "print(f\"sum of {n1} and {n2} is {s}\")\n",
    "print(f\"Difference of {n1} and {n2} is {d}\")\n",
    "print(f\"Product of {n1} and {n2} is {p}\")\n",
    "print(f\"Quotient of {n1} and {n2} is {q}\")"
   ]
  },
  {
   "cell_type": "code",
   "execution_count": null,
   "id": "2231f322-017a-4b7c-854b-f9e4c413b024",
   "metadata": {},
   "outputs": [],
   "source": []
  }
 ],
 "metadata": {
  "kernelspec": {
   "display_name": "Python 3 (ipykernel)",
   "language": "python",
   "name": "python3"
  },
  "language_info": {
   "codemirror_mode": {
    "name": "ipython",
    "version": 3
   },
   "file_extension": ".py",
   "mimetype": "text/x-python",
   "name": "python",
   "nbconvert_exporter": "python",
   "pygments_lexer": "ipython3",
   "version": "3.9.7"
  }
 },
 "nbformat": 4,
 "nbformat_minor": 5
}
