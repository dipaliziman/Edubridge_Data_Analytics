{
 "cells": [
  {
   "cell_type": "markdown",
   "id": "1ef694ff-cccf-4eb5-bce8-040072e2fd1b",
   "metadata": {},
   "source": [
    "1.\tPrint the second item in the ‘grocery’ list and print it"
   ]
  },
  {
   "cell_type": "code",
   "execution_count": 13,
   "id": "659a6180-f6f6-4e03-8834-fe40055d2d78",
   "metadata": {},
   "outputs": [
    {
     "name": "stdout",
     "output_type": "stream",
     "text": [
      "['tea', 'sugar', 'oil', 'soya']\n",
      "sugar\n"
     ]
    }
   ],
   "source": [
    "grocery=['tea','sugar','oil','soya']\n",
    "print(grocery)\n",
    "print(grocery[1])\n"
   ]
  },
  {
   "cell_type": "markdown",
   "id": "95080f31-c348-4768-9119-a25dbec8f1d2",
   "metadata": {},
   "source": [
    "2.\tChange the value from “tea\" to \"coffee\", in the ‘items’ list."
   ]
  },
  {
   "cell_type": "code",
   "execution_count": 9,
   "id": "1fd222ac-f040-4bb8-86a1-bd11b8db194d",
   "metadata": {},
   "outputs": [
    {
     "name": "stdout",
     "output_type": "stream",
     "text": [
      "['coffee', 'sugar', 'oil', 'soya']\n"
     ]
    }
   ],
   "source": [
    "grocery[0]=\"coffee\"\n",
    "print(grocery)"
   ]
  },
  {
   "cell_type": "markdown",
   "id": "c9145158-8156-494d-90fc-2218c3b02330",
   "metadata": {},
   "source": [
    "3.\tUse the append method to add \"orange\" to the fruits list."
   ]
  },
  {
   "cell_type": "code",
   "execution_count": 10,
   "id": "f6e88ffe-fbd4-4a58-8e14-40fb75205e39",
   "metadata": {},
   "outputs": [
    {
     "name": "stdout",
     "output_type": "stream",
     "text": [
      "['kiwi', 'banana', 'grapes', 'watermelon', 'orange']\n"
     ]
    }
   ],
   "source": [
    "fruit=['kiwi','banana','grapes','watermelon']\n",
    "fruit.append('orange')\n",
    "print(fruit)"
   ]
  },
  {
   "cell_type": "markdown",
   "id": "1ff2eca5-18c2-4845-bc55-56880a67a356",
   "metadata": {},
   "source": [
    "4.\tUse the insert method to add \"lemon\" as the second item in the fruits list."
   ]
  },
  {
   "cell_type": "code",
   "execution_count": 30,
   "id": "4f451a39-de71-45af-83cb-fdeb783d3cd3",
   "metadata": {},
   "outputs": [
    {
     "name": "stdout",
     "output_type": "stream",
     "text": [
      "['kiwi', 'lemon', 'banana', 'grapes', 'watermelon']\n"
     ]
    }
   ],
   "source": [
    "fruit=['kiwi','banana','grapes','watermelon']\n",
    "fruit.insert(1,'lemon')\n",
    "print(fruit)"
   ]
  },
  {
   "cell_type": "markdown",
   "id": "d68a043f-7ebc-4b93-bef8-6e7977b01316",
   "metadata": {},
   "source": [
    "5.\tUse the remove method to remove \"eggs\" from the ‘grocery’ list."
   ]
  },
  {
   "cell_type": "code",
   "execution_count": 14,
   "id": "caf4baab-622d-48b0-9e6a-5ad5db955b24",
   "metadata": {},
   "outputs": [
    {
     "name": "stdout",
     "output_type": "stream",
     "text": [
      "['tea', 'sugar', 'oil', 'soya']\n"
     ]
    }
   ],
   "source": [
    "grocery=['tea','sugar','oil','eggs','soya']\n",
    "grocery.pop(3)\n",
    "print(grocery)"
   ]
  },
  {
   "cell_type": "code",
   "execution_count": 17,
   "id": "44b60f8f-4f5e-4036-aaf3-eef5c7dae5c2",
   "metadata": {},
   "outputs": [
    {
     "name": "stdout",
     "output_type": "stream",
     "text": [
      "['tea', 'sugar', 'oil', 'soya']\n"
     ]
    }
   ],
   "source": [
    "grocery=['tea','sugar','oil','eggs','soya']\n",
    "del grocery[3]\n",
    "print(grocery)"
   ]
  },
  {
   "cell_type": "markdown",
   "id": "4fa4dd89-4b77-4635-9277-9ab98bccd117",
   "metadata": {},
   "source": [
    "6.\tUse negative indexing to print the last item in the list."
   ]
  },
  {
   "cell_type": "code",
   "execution_count": 18,
   "id": "30361014-0c38-477a-95a8-635e885fc159",
   "metadata": {},
   "outputs": [
    {
     "name": "stdout",
     "output_type": "stream",
     "text": [
      "watermelon\n"
     ]
    }
   ],
   "source": [
    "list=['kiwi','banana','grapes','watermelon']\n",
    "print(list[-1])"
   ]
  },
  {
   "cell_type": "markdown",
   "id": "a932a426-eccd-4dea-bf04-6b1411ed3e47",
   "metadata": {},
   "source": [
    "7.\tUse a range of indexes to print the third, fourth, and fifth item in the list."
   ]
  },
  {
   "cell_type": "code",
   "execution_count": 21,
   "id": "ea93486c-1bbb-4bb2-8bfd-d3e369b2282e",
   "metadata": {},
   "outputs": [
    {
     "name": "stdout",
     "output_type": "stream",
     "text": [
      "['watermelon', 'oil', 'eggs']\n"
     ]
    }
   ],
   "source": [
    "list=['kiwi','banana','grapes','watermelon','oil','eggs','soya']\n",
    "print(list[3:6])"
   ]
  },
  {
   "cell_type": "markdown",
   "id": "9be2b968-917a-46fb-8329-c75187667603",
   "metadata": {},
   "source": [
    "8.\tUse the correct syntax to print the number of items in the list."
   ]
  },
  {
   "cell_type": "code",
   "execution_count": 22,
   "id": "a44786be-18eb-430b-bc7d-579e84e50f77",
   "metadata": {},
   "outputs": [
    {
     "data": {
      "text/plain": [
       "7"
      ]
     },
     "execution_count": 22,
     "metadata": {},
     "output_type": "execute_result"
    }
   ],
   "source": [
    "list=['kiwi','banana','grapes','watermelon','oil','eggs','soya']\n",
    "len(list)"
   ]
  },
  {
   "cell_type": "markdown",
   "id": "fe9ab09d-7b32-4056-854b-2370a2ae7d6c",
   "metadata": {},
   "source": [
    "9.\tCreate two list, do the slicing ,concatenating and repetition of the lists."
   ]
  },
  {
   "cell_type": "code",
   "execution_count": 27,
   "id": "246b526a-64ed-4d77-b435-65632f2fd7cf",
   "metadata": {},
   "outputs": [
    {
     "name": "stdout",
     "output_type": "stream",
     "text": [
      "['kiwi', 'banana', 'grapes', 'watermelon', 'dipali', 'abhi', 'raju']\n",
      "['dipali', 'abhi', 'raju', 'dipali', 'abhi', 'raju', 'dipali', 'abhi', 'raju']\n",
      "['banana', 'grapes', 'watermelon']\n",
      "['banana', 'grapes']\n"
     ]
    }
   ],
   "source": [
    "L1=['kiwi','banana','grapes','watermelon']\n",
    "L2=['dipali','abhi','raju']\n",
    "print(L1+L2) #concatenating\n",
    "print(3*L2) #Repetations\n",
    "print(L1[1:]) # slicing\n",
    "print(L1[1:3]) # slicing"
   ]
  },
  {
   "cell_type": "markdown",
   "id": "af298f00-b323-4a9e-9ffd-06907d29b11e",
   "metadata": {},
   "source": [
    "10.\tCheck if \"Rayan\" is present in the name list:"
   ]
  },
  {
   "cell_type": "code",
   "execution_count": 25,
   "id": "68565177-6328-4a47-93bc-1a8a42cc6156",
   "metadata": {},
   "outputs": [
    {
     "data": {
      "text/plain": [
       "False"
      ]
     },
     "execution_count": 25,
     "metadata": {},
     "output_type": "execute_result"
    }
   ],
   "source": [
    "L2=['dipali','abhi','raju']\n",
    "'Rayan' in L2\n"
   ]
  },
  {
   "cell_type": "code",
   "execution_count": null,
   "id": "c3049a1a-d3ec-4c84-ad8e-b399f5d5b8f0",
   "metadata": {},
   "outputs": [],
   "source": []
  }
 ],
 "metadata": {
  "kernelspec": {
   "display_name": "Python 3 (ipykernel)",
   "language": "python",
   "name": "python3"
  },
  "language_info": {
   "codemirror_mode": {
    "name": "ipython",
    "version": 3
   },
   "file_extension": ".py",
   "mimetype": "text/x-python",
   "name": "python",
   "nbconvert_exporter": "python",
   "pygments_lexer": "ipython3",
   "version": "3.9.7"
  }
 },
 "nbformat": 4,
 "nbformat_minor": 5
}
