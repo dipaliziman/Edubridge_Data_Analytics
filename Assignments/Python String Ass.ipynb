{
 "cells": [
  {
   "cell_type": "markdown",
   "id": "89259257-6823-422c-9cc3-e1fd203ef0f2",
   "metadata": {},
   "source": [
    "1.\tUse the len method to print the length of the string.A=’Data Analytics’"
   ]
  },
  {
   "cell_type": "code",
   "execution_count": 1,
   "id": "96e6d77f-0277-487d-8c58-90728788914f",
   "metadata": {},
   "outputs": [
    {
     "data": {
      "text/plain": [
       "14"
      ]
     },
     "execution_count": 1,
     "metadata": {},
     "output_type": "execute_result"
    }
   ],
   "source": [
    "A='Data Analytics'\n",
    "len(A)"
   ]
  },
  {
   "cell_type": "markdown",
   "id": "77043e53-99d2-42a7-8dc4-ca911ac8fe99",
   "metadata": {},
   "source": [
    "2.\tGet the first character of the string txt=’Data Analytics’"
   ]
  },
  {
   "cell_type": "code",
   "execution_count": 2,
   "id": "ad9fae32-4393-43d7-be51-d21b1e6c0ac7",
   "metadata": {},
   "outputs": [
    {
     "name": "stdout",
     "output_type": "stream",
     "text": [
      "Data \n",
      "Data \n"
     ]
    }
   ],
   "source": [
    "txt='Data Analytics'\n",
    "print(txt[0:5])\n",
    "print(txt[:-9])"
   ]
  },
  {
   "cell_type": "markdown",
   "id": "c42e6c70-fe31-4a00-ae7e-1c4fa42c6897",
   "metadata": {},
   "source": [
    "3.\tGet the characters from index 2 to index 4 of txt=’Data Analytics’"
   ]
  },
  {
   "cell_type": "code",
   "execution_count": 3,
   "id": "ea6bc6bc-01c5-4153-bd8b-3c2afb6169f8",
   "metadata": {},
   "outputs": [
    {
     "name": "stdout",
     "output_type": "stream",
     "text": [
      "ta \n"
     ]
    }
   ],
   "source": [
    "txt='Data Analytics'\n",
    "print(txt[2:5])"
   ]
  },
  {
   "cell_type": "markdown",
   "id": "2a56bbf6-1765-4054-bcaa-36a2c1aec875",
   "metadata": {},
   "source": [
    "4.\tReplace the characterF  with a J for ‘Functions’"
   ]
  },
  {
   "cell_type": "code",
   "execution_count": 4,
   "id": "fdcfb188-e2b4-47ac-8eae-ae20d13a6df2",
   "metadata": {},
   "outputs": [
    {
     "name": "stdout",
     "output_type": "stream",
     "text": [
      "junctions\n"
     ]
    }
   ],
   "source": [
    "a='functions'\n",
    "print(a.replace('f','j'))"
   ]
  },
  {
   "cell_type": "markdown",
   "id": "d0a79a55-81d0-4d14-ad50-001af5cc8742",
   "metadata": {},
   "source": [
    "5.\tWrite a Python program to create two strings s1 and s2. Assign in s1 as ‘Python’ and in s2 as ‘Strings. Print the character from 2nd index to 5th index of s1.Print the characters from 2nd to end.Concatenate both s1 and s2. Repeat s2 three times."
   ]
  },
  {
   "cell_type": "code",
   "execution_count": 5,
   "id": "e90e1aed-4f51-4f0c-803b-feb68d582711",
   "metadata": {},
   "outputs": [
    {
     "name": "stdout",
     "output_type": "stream",
     "text": [
      "thon\n",
      "thon\n",
      "ring\n",
      "pythonstring\n",
      "pythonstring\n",
      "stringstringstring\n"
     ]
    }
   ],
   "source": [
    "s1='python'\n",
    "s2='string'\n",
    "print(s1[2:6]) # 2 to 5 idex of s1\n",
    "print(s1[2:]) # print char from 2 to end s1\n",
    "print(s2[2:]) # print char from 2 to end s2\n",
    "print(s1+s2) #Concatenate\n",
    "s3=s1+s2 #Concatenate\n",
    "print(s3)\n",
    "print(s2*3)#Repetations"
   ]
  },
  {
   "cell_type": "code",
   "execution_count": null,
   "id": "550365ed-7137-41a1-847b-7c9674818784",
   "metadata": {},
   "outputs": [],
   "source": []
  }
 ],
 "metadata": {
  "kernelspec": {
   "display_name": "Python 3 (ipykernel)",
   "language": "python",
   "name": "python3"
  },
  "language_info": {
   "codemirror_mode": {
    "name": "ipython",
    "version": 3
   },
   "file_extension": ".py",
   "mimetype": "text/x-python",
   "name": "python",
   "nbconvert_exporter": "python",
   "pygments_lexer": "ipython3",
   "version": "3.9.7"
  }
 },
 "nbformat": 4,
 "nbformat_minor": 5
}
