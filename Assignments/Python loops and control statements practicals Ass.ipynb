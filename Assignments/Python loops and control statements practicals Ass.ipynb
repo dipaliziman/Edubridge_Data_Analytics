{
 "cells": [
  {
   "cell_type": "markdown",
   "id": "90c7acfb",
   "metadata": {},
   "source": [
    "1.Iterating string using for loop"
   ]
  },
  {
   "cell_type": "code",
   "execution_count": 1,
   "id": "0f62a863",
   "metadata": {},
   "outputs": [
    {
     "name": "stdout",
     "output_type": "stream",
     "text": [
      "python\n",
      "python\n",
      "python\n",
      "python\n",
      "python\n",
      "python\n"
     ]
    }
   ],
   "source": [
    "str='python'\n",
    "for i in str:\n",
    "    print (str)"
   ]
  },
  {
   "cell_type": "markdown",
   "id": "0caba21d",
   "metadata": {},
   "source": [
    "2. program to print the table of given number"
   ]
  },
  {
   "cell_type": "code",
   "execution_count": 2,
   "id": "e52eec91",
   "metadata": {},
   "outputs": [
    {
     "name": "stdout",
     "output_type": "stream",
     "text": [
      "5\n",
      "10\n",
      "15\n",
      "20\n",
      "25\n",
      "30\n",
      "35\n",
      "40\n",
      "45\n",
      "50\n"
     ]
    }
   ],
   "source": [
    "list=[1,2,3,4,5,6,7,8,9,10]\n",
    "n=5\n",
    "for i in list:\n",
    "    c=n*i\n",
    "    print(c)"
   ]
  },
  {
   "cell_type": "markdown",
   "id": "ac046158",
   "metadata": {},
   "source": [
    "3. program to the sum of given list"
   ]
  },
  {
   "cell_type": "code",
   "execution_count": 3,
   "id": "bde4fb93",
   "metadata": {},
   "outputs": [
    {
     "name": "stdout",
     "output_type": "stream",
     "text": [
      "the sum is 183\n"
     ]
    }
   ],
   "source": [
    "list=[10,23,30,43,65,12]\n",
    "sum=0\n",
    "for i in list:\n",
    "    sum=sum+i\n",
    "print(\"the sum is\",sum)\n"
   ]
  },
  {
   "cell_type": "markdown",
   "id": "a49b0166",
   "metadata": {},
   "source": [
    "4.program to print the number in sequence"
   ]
  },
  {
   "cell_type": "code",
   "execution_count": 4,
   "id": "77d49724",
   "metadata": {},
   "outputs": [
    {
     "name": "stdout",
     "output_type": "stream",
     "text": [
      "0 1 2 3 4 5 6 7 8 9 "
     ]
    }
   ],
   "source": [
    "for i in range(10):\n",
    "    print(i,end=' ')  #end function\n"
   ]
  },
  {
   "cell_type": "markdown",
   "id": "dc4f1e66",
   "metadata": {},
   "source": [
    "5.program to print table of given number"
   ]
  },
  {
   "cell_type": "code",
   "execution_count": 5,
   "id": "e7a07dc1",
   "metadata": {},
   "outputs": [
    {
     "name": "stdout",
     "output_type": "stream",
     "text": [
      "number: 61\n",
      "61 * 1 = 61\n",
      "61 * 2 = 122\n",
      "61 * 3 = 183\n",
      "61 * 4 = 244\n",
      "61 * 5 = 305\n",
      "61 * 6 = 366\n",
      "61 * 7 = 427\n",
      "61 * 8 = 488\n",
      "61 * 9 = 549\n",
      "61 * 10 = 610\n"
     ]
    }
   ],
   "source": [
    "n=int(input(\"number: \"))\n",
    "for i in range(1,11):\n",
    "    c=i*n\n",
    "    #print(c)\n",
    "    print(n,\"*\",i,\"=\",c)"
   ]
  },
  {
   "cell_type": "markdown",
   "id": "94b559f3",
   "metadata": {},
   "source": [
    "Range and Len Function finding list"
   ]
  },
  {
   "cell_type": "code",
   "execution_count": 6,
   "id": "a6f0e180",
   "metadata": {},
   "outputs": [
    {
     "name": "stdout",
     "output_type": "stream",
     "text": [
      "hello peter\n",
      "hello david\n",
      "hello himansh\n",
      "hello suresh\n"
     ]
    }
   ],
   "source": [
    "list=['peter','david','himansh','suresh']\n",
    "for i in range(len(list)):  #len\n",
    "    print(\"hello\",list[i]) #list"
   ]
  },
  {
   "cell_type": "markdown",
   "id": "925a5861",
   "metadata": {},
   "source": [
    "while loop"
   ]
  },
  {
   "cell_type": "code",
   "execution_count": 7,
   "id": "f9212b94",
   "metadata": {},
   "outputs": [
    {
     "name": "stdout",
     "output_type": "stream",
     "text": [
      "number: 0\n",
      "number: 1\n",
      "number: 2\n",
      "number: 3\n",
      "number: 4\n",
      "number: 5\n",
      "number: 6\n",
      "number: 7\n",
      "number: 8\n",
      "number: 9\n",
      "bye\n"
     ]
    }
   ],
   "source": [
    "count=0\n",
    "while count<=9:\n",
    "    print('number:',count)\n",
    "    count+=1  \n",
    "print(\"bye\")\n"
   ]
  },
  {
   "cell_type": "code",
   "execution_count": 8,
   "id": "1b01ca59",
   "metadata": {},
   "outputs": [
    {
     "name": "stdout",
     "output_type": "stream",
     "text": [
      "current Fruit apple\n",
      "current Fruit banana\n",
      "current Fruit orange\n",
      "current Fruit mango\n"
     ]
    }
   ],
   "source": [
    "Fruits=['apple','banana','orange','mango']\n",
    "for index in range(len(Fruits)):  #len\n",
    "    print(\"current Fruit\",Fruits[index]) #list"
   ]
  },
  {
   "cell_type": "markdown",
   "id": "ba6aaf5b",
   "metadata": {},
   "source": [
    " iterating over range 0 to n-1"
   ]
  },
  {
   "cell_type": "code",
   "execution_count": 9,
   "id": "9453aeea",
   "metadata": {},
   "outputs": [
    {
     "name": "stdout",
     "output_type": "stream",
     "text": [
      "0\n",
      "1\n",
      "2\n",
      "3\n"
     ]
    }
   ],
   "source": [
    "n=4\n",
    "for i in range(0,n):\n",
    "    print(i)"
   ]
  },
  {
   "cell_type": "code",
   "execution_count": 10,
   "id": "c45029af",
   "metadata": {},
   "outputs": [
    {
     "name": "stdout",
     "output_type": "stream",
     "text": [
      "Red\n",
      "blue\n",
      "greeen\n",
      "black\n"
     ]
    }
   ],
   "source": [
    "color_list=[\"Red\",\"blue\",\"greeen\",\"black\"]\n",
    "for c in color_list:\n",
    "    print(c)"
   ]
  },
  {
   "cell_type": "code",
   "execution_count": 11,
   "id": "a2986980",
   "metadata": {},
   "outputs": [
    {
     "name": "stdout",
     "output_type": "stream",
     "text": [
      "2\n",
      "3\n",
      "4\n",
      "5\n",
      "6\n"
     ]
    }
   ],
   "source": [
    "for a in range(2,7):\n",
    "    print(a)"
   ]
  },
  {
   "cell_type": "markdown",
   "id": "22736491",
   "metadata": {},
   "source": [
    " Showing Different Type of item"
   ]
  },
  {
   "cell_type": "code",
   "execution_count": 12,
   "id": "7b0b8496",
   "metadata": {},
   "outputs": [
    {
     "name": "stdout",
     "output_type": "stream",
     "text": [
      "type of 1452 is--> <class 'int'>\n",
      "type of 11.23 is--> <class 'float'>\n",
      "type of (1+2j) is--> <class 'complex'>\n",
      "type of True is--> <class 'bool'>\n",
      "type of w3source is--> <class 'str'>\n",
      "type of (0, -1) is--> <class 'tuple'>\n",
      "type of [5, 12] is--> <class 'list'>\n",
      "type of {'class': 'v', 'section': 'a'} is--> <class 'dict'>\n"
     ]
    }
   ],
   "source": [
    "datalist=[1452,11.23,1+2j,True,'w3source',(0,-1),[5,12],{'class':\"v\",\"section\":'a'}]\n",
    "for item in datalist:\n",
    "    print(\"type of\",item,\"is-->\", type(item))\n"
   ]
  },
  {
   "cell_type": "markdown",
   "id": "3c1b59e2",
   "metadata": {},
   "source": [
    "is operator"
   ]
  },
  {
   "cell_type": "code",
   "execution_count": 13,
   "id": "f9452fd7",
   "metadata": {},
   "outputs": [
    {
     "name": "stdout",
     "output_type": "stream",
     "text": [
      "False\n",
      "True\n",
      "True\n"
     ]
    }
   ],
   "source": [
    "x=[\"India\"]\n",
    "y=[\"india\"]\n",
    "z=x\n",
    "print(x is y)\n",
    "print(x is z)\n",
    "print(y is not z)"
   ]
  }
 ],
 "metadata": {
  "kernelspec": {
   "display_name": "Python 3 (ipykernel)",
   "language": "python",
   "name": "python3"
  },
  "language_info": {
   "codemirror_mode": {
    "name": "ipython",
    "version": 3
   },
   "file_extension": ".py",
   "mimetype": "text/x-python",
   "name": "python",
   "nbconvert_exporter": "python",
   "pygments_lexer": "ipython3",
   "version": "3.9.7"
  }
 },
 "nbformat": 4,
 "nbformat_minor": 5
}
