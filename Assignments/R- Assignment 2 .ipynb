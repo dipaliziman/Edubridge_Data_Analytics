{
 "cells": [
  {
   "cell_type": "code",
   "execution_count": 1,
   "id": "0e6cf1b4",
   "metadata": {},
   "outputs": [
    {
     "name": "stderr",
     "output_type": "stream",
     "text": [
      "Warning message:\n",
      "\"package 'dplyr' was built under R version 3.6.3\"\n",
      "Attaching package: 'dplyr'\n",
      "\n",
      "The following objects are masked from 'package:stats':\n",
      "\n",
      "    filter, lag\n",
      "\n",
      "The following objects are masked from 'package:base':\n",
      "\n",
      "    intersect, setdiff, setequal, union\n",
      "\n",
      "Loading required package: ggplot2\n",
      "\n",
      "Attaching package: 'plotly'\n",
      "\n",
      "The following object is masked from 'package:ggplot2':\n",
      "\n",
      "    last_plot\n",
      "\n",
      "The following object is masked from 'package:stats':\n",
      "\n",
      "    filter\n",
      "\n",
      "The following object is masked from 'package:graphics':\n",
      "\n",
      "    layout\n",
      "\n",
      "Warning message:\n",
      "\"package 'hrbrthemes' was built under R version 3.6.3\"NOTE: Either Arial Narrow or Roboto Condensed fonts are required to use these themes.\n",
      "      Please use hrbrthemes::import_roboto_condensed() to install Roboto Condensed and\n",
      "      if Arial Narrow is not on your system, please see https://bit.ly/arialnarrow\n",
      "Warning message:\n",
      "\"package 'tidyr' was built under R version 3.6.3\""
     ]
    }
   ],
   "source": [
    "library(dplyr)\n",
    "library(plotly)\n",
    "library(ggplot2)     #imports library ggplot2\n",
    "library(hrbrthemes)  #imports library hrbrthemes\n",
    "library (tidyr)  "
   ]
  },
  {
   "cell_type": "markdown",
   "id": "ec520029",
   "metadata": {},
   "source": [
    "#### 1. To take input from the user and display the values "
   ]
  },
  {
   "cell_type": "code",
   "execution_count": 2,
   "id": "dd579ec9",
   "metadata": {},
   "outputs": [
    {
     "name": "stdout",
     "output_type": "stream",
     "text": [
      "Enter name: Ayisha\n",
      "Enter age: 33\n",
      "[1] \"Ayisha is 33 years old.\"\n"
     ]
    }
   ],
   "source": [
    "name <- readline(\"Enter name: \")\n",
    "age <- readline(\"Enter age: \")\n",
    "my.age <- as.integer(age)\n",
    "print(paste(name, \"is\", age, \"years old.\"))"
   ]
  },
  {
   "cell_type": "markdown",
   "id": "8f8156a9",
   "metadata": {},
   "source": [
    "#### To create a sequence of numbers from 20 to 50 and find the mean of numbers from 20 to 60 and sum of numbers from 51 to 91"
   ]
  },
  {
   "cell_type": "code",
   "execution_count": 4,
   "id": "93fd41c1",
   "metadata": {},
   "outputs": [
    {
     "name": "stdout",
     "output_type": "stream",
     "text": [
      "[1] \"Sequence of numbers between 20 to 50:\"\n",
      " [1] 20 21 22 23 24 25 26 27 28 29 30 31 32 33 34 35 36 37 38 39 40 41 42 43 44\n",
      "[26] 45 46 47 48 49 50\n"
     ]
    }
   ],
   "source": [
    "print(paste(\"Sequence of numbers between 20 to 50:\"))\n",
    "print(seq(20,50))"
   ]
  },
  {
   "cell_type": "code",
   "execution_count": 7,
   "id": "1643c52f",
   "metadata": {},
   "outputs": [
    {
     "name": "stdout",
     "output_type": "stream",
     "text": [
      "[1] \"Mean of numbers from 20 to 60:\"\n",
      "[1] 40\n"
     ]
    }
   ],
   "source": [
    "print(\"Mean of numbers from 20 to 60:\")\n",
    "print(mean(20:60))\n"
   ]
  },
  {
   "cell_type": "code",
   "execution_count": 8,
   "id": "e7d831b8",
   "metadata": {},
   "outputs": [
    {
     "name": "stdout",
     "output_type": "stream",
     "text": [
      "[1] \"Sum of numbers from 51 to 91:\"\n",
      "[1] 2911\n"
     ]
    }
   ],
   "source": [
    "print(\"Sum of numbers from 51 to 91:\")\n",
    "print(sum(51:91))"
   ]
  },
  {
   "cell_type": "markdown",
   "id": "a7322cf9",
   "metadata": {},
   "source": [
    "#### Write a R program to create a vector which contains 10 random integer values between -50 and +50."
   ]
  },
  {
   "cell_type": "code",
   "execution_count": 9,
   "id": "ca59a772",
   "metadata": {},
   "outputs": [
    {
     "name": "stdout",
     "output_type": "stream",
     "text": [
      "[1] \"10 random integer values between -50 and +50:\"\n",
      " [1]  33  36 -12 -37  46  10  23  15  20 -40\n"
     ]
    }
   ],
   "source": [
    "v = sample(-50:50, 10, replace=TRUE)\n",
    "print(\"10 random integer values between -50 and +50:\")\n",
    "print(v)"
   ]
  },
  {
   "cell_type": "markdown",
   "id": "ae126fcb",
   "metadata": {},
   "source": [
    "#### Write a R program to get the first 10 Fibonacci numbers."
   ]
  },
  {
   "cell_type": "code",
   "execution_count": 11,
   "id": "ea14a5a2",
   "metadata": {},
   "outputs": [
    {
     "name": "stdout",
     "output_type": "stream",
     "text": [
      "How many terms? 10\n",
      "[1] \"Fibonacci sequence:\"\n",
      "[1] 0\n",
      "[1] 1\n",
      "[1] 1\n",
      "[1] 2\n",
      "[1] 3\n",
      "[1] 5\n",
      "[1] 8\n",
      "[1] 13\n",
      "[1] 21\n",
      "[1] 34\n"
     ]
    }
   ],
   "source": [
    "n = as.integer(readline(\"How many terms? \"))\n",
    "n1 = 0\n",
    "n2 = 1\n",
    "count = 2\n",
    "if(n <= 0) {\n",
    "print(\"invalid number\")\n",
    "} else {\n",
    "if(n == 1) {\n",
    "print(\"Fibonacci sequence:\")\n",
    "print(n1)\n",
    "} else {\n",
    "print(\"Fibonacci sequence:\")\n",
    "print(n1)\n",
    "print(n2)\n",
    "while(count < n) {\n",
    "new = n1 + n2\n",
    "print(new)\n",
    "\n",
    "n1 = n2\n",
    "n2 = new\n",
    "count = count + 1\n",
    "}\n",
    "}\n",
    "}"
   ]
  },
  {
   "cell_type": "markdown",
   "id": "8bf260c2",
   "metadata": {},
   "source": [
    "#### To write all prime numbers up to a given number "
   ]
  },
  {
   "cell_type": "code",
   "execution_count": 13,
   "id": "d1d33471",
   "metadata": {},
   "outputs": [
    {
     "name": "stdout",
     "output_type": "stream",
     "text": [
      "Enter the range10\n"
     ]
    },
    {
     "data": {
      "text/html": [
       "<ol class=list-inline>\n",
       "\t<li>2</li>\n",
       "\t<li>3</li>\n",
       "\t<li>5</li>\n",
       "\t<li>7</li>\n",
       "</ol>\n"
      ],
      "text/latex": [
       "\\begin{enumerate*}\n",
       "\\item 2\n",
       "\\item 3\n",
       "\\item 5\n",
       "\\item 7\n",
       "\\end{enumerate*}\n"
      ],
      "text/markdown": [
       "1. 2\n",
       "2. 3\n",
       "3. 5\n",
       "4. 7\n",
       "\n",
       "\n"
      ],
      "text/plain": [
       "[1] 2 3 5 7"
      ]
     },
     "metadata": {},
     "output_type": "display_data"
    }
   ],
   "source": [
    "prime <- function(n)\n",
    "{\n",
    "if (n >= 2) \n",
    "{\n",
    " x = seq(2, n)\n",
    " prime_nums = c()\n",
    " for (i in seq(2, n))\n",
    " {\n",
    " if (any(x == i)) \n",
    " {\n",
    " prime_nums = c(prime_nums, i)\n",
    " x = c(x[(x %% i) != 0], i)\n",
    " }\n",
    " }\n",
    " return(prime_nums)\n",
    " }\n",
    " else \n",
    " {\n",
    " stop(\"Input number should be at least 2.\")\n",
    " }\n",
    " } \n",
    "n<-as.integer(readline(\"Enter the range\"))\n",
    "prime(n)"
   ]
  },
  {
   "cell_type": "code",
   "execution_count": null,
   "id": "c59855e6",
   "metadata": {},
   "outputs": [],
   "source": []
  }
 ],
 "metadata": {
  "kernelspec": {
   "display_name": "R",
   "language": "R",
   "name": "ir"
  },
  "language_info": {
   "codemirror_mode": "r",
   "file_extension": ".r",
   "mimetype": "text/x-r-source",
   "name": "R",
   "pygments_lexer": "r",
   "version": "3.6.1"
  }
 },
 "nbformat": 4,
 "nbformat_minor": 5
}
