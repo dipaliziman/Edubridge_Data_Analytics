{
 "cells": [
  {
   "cell_type": "markdown",
   "id": "376f6dee-39d5-47ff-bb8f-0256ef79e005",
   "metadata": {},
   "source": [
    "1.Program to add Two numbers"
   ]
  },
  {
   "cell_type": "code",
   "execution_count": 1,
   "id": "a7721687-0283-4267-82b0-5193c3f2510e",
   "metadata": {},
   "outputs": [
    {
     "name": "stdin",
     "output_type": "stream",
     "text": [
      "Type a number:  20\n",
      "Type another number:  42\n"
     ]
    },
    {
     "name": "stdout",
     "output_type": "stream",
     "text": [
      "The sum is:  62\n"
     ]
    }
   ],
   "source": [
    "x = input(\"Type a number: \")\n",
    "y = input(\"Type another number: \")\n",
    "\n",
    "sum = int(x) + int(y)\n",
    "\n",
    "print(\"The sum is: \", sum)"
   ]
  },
  {
   "cell_type": "markdown",
   "id": "e2a5243e-7077-41ad-8d10-5c6e8b75cc16",
   "metadata": {},
   "source": [
    "2.write a Python program to display the monthly calendar "
   ]
  },
  {
   "cell_type": "code",
   "execution_count": 5,
   "id": "a39816da-c1fb-45c7-95bc-9b1e00b2c7d2",
   "metadata": {},
   "outputs": [
    {
     "name": "stdin",
     "output_type": "stream",
     "text": [
      "Enter year:  2022\n",
      "Enter month:  1\n"
     ]
    },
    {
     "name": "stdout",
     "output_type": "stream",
     "text": [
      "    January 2022\n",
      "Mo Tu We Th Fr Sa Su\n",
      "                1  2\n",
      " 3  4  5  6  7  8  9\n",
      "10 11 12 13 14 15 16\n",
      "17 18 19 20 21 22 23\n",
      "24 25 26 27 28 29 30\n",
      "31\n",
      "\n"
     ]
    }
   ],
   "source": [
    "import calendar  \n",
    "# Enter the month and year  \n",
    "yy = int(input(\"Enter year: \"))  \n",
    "mm = int(input(\"Enter month: \"))  \n",
    "  \n",
    "# display the calendar  \n",
    "print(calendar.month(yy,mm)) "
   ]
  },
  {
   "cell_type": "markdown",
   "id": "bd12daae-5311-4ab3-abcf-17e6e33818a5",
   "metadata": {},
   "source": [
    "3.Write a Python Program to Print Odd Numbers from 1 to N using While Loop and For Loop with an example."
   ]
  },
  {
   "cell_type": "code",
   "execution_count": 8,
   "id": "3679a58f-c285-43d7-9dbb-2b65b546fa69",
   "metadata": {},
   "outputs": [
    {
     "name": "stdin",
     "output_type": "stream",
     "text": [
      " Please Enter the Maximum Value :  20\n"
     ]
    },
    {
     "name": "stdout",
     "output_type": "stream",
     "text": [
      "1\n",
      "3\n",
      "5\n",
      "7\n",
      "9\n",
      "11\n",
      "13\n",
      "15\n",
      "17\n",
      "19\n"
     ]
    }
   ],
   "source": [
    "maximum = int(input(\" Please Enter the Maximum Value : \"))\n",
    "\n",
    "number = 1\n",
    "\n",
    "while number <= maximum:\n",
    "    if(number % 2 != 0):\n",
    "        print(\"{0}\".format(number))\n",
    "    number = number + 1"
   ]
  },
  {
   "cell_type": "code",
   "execution_count": 1,
   "id": "5d0b4659-6d91-4261-b690-4f8b2c628114",
   "metadata": {},
   "outputs": [
    {
     "name": "stdin",
     "output_type": "stream",
     "text": [
      " Please Enter any Maximum Value :  20\n"
     ]
    },
    {
     "name": "stdout",
     "output_type": "stream",
     "text": [
      "1\n",
      "3\n",
      "5\n",
      "7\n",
      "9\n",
      "11\n",
      "13\n",
      "15\n",
      "17\n",
      "19\n"
     ]
    }
   ],
   "source": [
    "maximum = int(input(\" Please Enter any Maximum Value : \"))\n",
    "\n",
    "for number in range(1, maximum + 1):\n",
    "    if(number % 2 != 0):\n",
    "        print(\"{0}\".format(number))"
   ]
  },
  {
   "cell_type": "markdown",
   "id": "9ccd690c-8750-419c-9ca9-140ead93ece4",
   "metadata": {},
   "source": [
    "4.Write a Python Program to Print Even Numbers from 1 to N using While Loop and For Loop with an example."
   ]
  },
  {
   "cell_type": "code",
   "execution_count": 6,
   "id": "5f34e08f-531d-433f-8e98-0d6f55891c14",
   "metadata": {},
   "outputs": [
    {
     "name": "stdin",
     "output_type": "stream",
     "text": [
      " Please Enter the Maximum Value :  20\n"
     ]
    },
    {
     "name": "stdout",
     "output_type": "stream",
     "text": [
      "2\n",
      "4\n",
      "6\n",
      "8\n",
      "10\n",
      "12\n",
      "14\n",
      "16\n",
      "18\n",
      "20\n"
     ]
    }
   ],
   "source": [
    "maximum = int(input(\" Please Enter the Maximum Value : \"))\n",
    "\n",
    "number = 1\n",
    "\n",
    "while number <= maximum:\n",
    "    if(number % 2 == 0):\n",
    "        print(\"{0}\".format(number))\n",
    "    number = number + 1"
   ]
  },
  {
   "cell_type": "code",
   "execution_count": 7,
   "id": "e3bd57c7-7dd9-47a2-aee0-e73f7a670791",
   "metadata": {},
   "outputs": [
    {
     "name": "stdin",
     "output_type": "stream",
     "text": [
      " Please Enter the Maximum Value :  20\n"
     ]
    },
    {
     "name": "stdout",
     "output_type": "stream",
     "text": [
      "2\n",
      "4\n",
      "6\n",
      "8\n",
      "10\n",
      "12\n",
      "14\n",
      "16\n",
      "18\n",
      "20\n"
     ]
    }
   ],
   "source": [
    "maximum = int(input(\" Please Enter the Maximum Value : \"))\n",
    "\n",
    "for number in range(1, maximum+1):\n",
    "    if(number % 2 == 0):\n",
    "        print(\"{0}\".format(number))"
   ]
  },
  {
   "cell_type": "markdown",
   "id": "88c2abc0-5198-4b55-ab60-c8b8210b1af3",
   "metadata": {},
   "source": [
    "5.Write a Python program to find the largest of Two Numbers using Elif Statement and Nested If statement with an example."
   ]
  },
  {
   "cell_type": "code",
   "execution_count": 2,
   "id": "4d120ba3-412a-4b06-ac77-40dc6387d2b8",
   "metadata": {},
   "outputs": [
    {
     "name": "stdin",
     "output_type": "stream",
     "text": [
      " Please Enter the First Value a:  55\n",
      " Please Enter the Second Value b:  83\n"
     ]
    },
    {
     "name": "stdout",
     "output_type": "stream",
     "text": [
      "83 is the Largest Value\n"
     ]
    }
   ],
   "source": [
    "a = int(input(\" Enter the First Value a: \"))\n",
    "b = int(input(\" Enter the Second Value b: \"))\n",
    "\n",
    "if(a == b):\n",
    "    print(\"a and b are Equal\")\n",
    "else:\n",
    "    largest = a if a > b else b\n",
    "    print(\"{0} is the Largest Value\".format(largest))"
   ]
  },
  {
   "cell_type": "code",
   "execution_count": 3,
   "id": "43861839-b523-46d7-bddf-3c966739a59a",
   "metadata": {},
   "outputs": [
    {
     "name": "stdin",
     "output_type": "stream",
     "text": [
      " Enter the First Value a:  55\n",
      " Enter the Second Value b:  83\n"
     ]
    },
    {
     "name": "stdout",
     "output_type": "stream",
     "text": [
      "83 b is Greater than a 55\n"
     ]
    }
   ],
   "source": [
    "a = int(input(\" Enter the First Value a: \"))\n",
    "b = int(input(\" Enter the Second Value b: \"))\n",
    "\n",
    "if(a > b):\n",
    "    print(\"{0} a is Greater than b {1}\".format(a, b))\n",
    "elif(b > a):\n",
    "    print(\"{0} b is Greater than a {1}\".format(b, a))\n",
    "else:\n",
    "    print(\"a and b are Equal\")"
   ]
  },
  {
   "cell_type": "markdown",
   "id": "5fcc32fe-c102-4ed3-bee3-b565f47cb848",
   "metadata": {},
   "source": [
    "6. Python Program to find Cube of a Number"
   ]
  },
  {
   "cell_type": "code",
   "execution_count": 5,
   "id": "20225dde-7580-467a-9f0e-a5a1ebc4fffc",
   "metadata": {},
   "outputs": [
    {
     "name": "stdin",
     "output_type": "stream",
     "text": [
      " Please Enter any number :  5.0\n"
     ]
    },
    {
     "name": "stdout",
     "output_type": "stream",
     "text": [
      "The Cube of a Given Number 5.0  = 125.0\n"
     ]
    }
   ],
   "source": [
    "number = float(input(\" Please Enter any number : \"))\n",
    "cube = number ** 3\n",
    "print(\"The Cube of a Given Number {0}  = {1}\".format(number, cube))"
   ]
  },
  {
   "cell_type": "markdown",
   "id": "d524ef70-ca66-428f-8c42-55b5c503ace4",
   "metadata": {},
   "source": [
    "7.Python Program to Calculate Square of a Number"
   ]
  },
  {
   "cell_type": "code",
   "execution_count": 6,
   "id": "60aab9ff-4e9e-4e25-8205-33d3b896d61e",
   "metadata": {},
   "outputs": [
    {
     "name": "stdin",
     "output_type": "stream",
     "text": [
      " Please Enter any number :  5\n"
     ]
    },
    {
     "name": "stdout",
     "output_type": "stream",
     "text": [
      "The Square of a Given Number 5.0  = 25.0\n"
     ]
    }
   ],
   "source": [
    "number = float(input(\" Please Enter any number : \"))\n",
    "square = number ** 2\n",
    "print(\"The Square of a Given Number {0}  = {1}\".format(number, square))"
   ]
  },
  {
   "cell_type": "markdown",
   "id": "3b4b95e4-6325-4b8d-a730-ac8cef85735d",
   "metadata": {},
   "source": [
    "8.Python Program to Print Multiplication Table using For loop"
   ]
  },
  {
   "cell_type": "code",
   "execution_count": 7,
   "id": "5674bfe1-9375-4796-b321-8651c054c238",
   "metadata": {},
   "outputs": [
    {
     "name": "stdin",
     "output_type": "stream",
     "text": [
      " Please Enter any Positive Integer lessthan 10 :  9\n"
     ]
    },
    {
     "name": "stdout",
     "output_type": "stream",
     "text": [
      " Multiplication Table \n",
      "9  *  1  =  9\n",
      "9  *  2  =  18\n",
      "9  *  3  =  27\n",
      "9  *  4  =  36\n",
      "9  *  5  =  45\n",
      "9  *  6  =  54\n",
      "9  *  7  =  63\n",
      "9  *  8  =  72\n",
      "9  *  9  =  81\n",
      "9  *  10  =  90\n",
      "==============\n"
     ]
    }
   ],
   "source": [
    "num = int(input(\" Please Enter any Positive Integer lessthan 10 : \"))\n",
    "\n",
    "print(\" Multiplication Table \")\n",
    "\n",
    "for i in range(num, 10):\n",
    "    for j in range(1, 11):\n",
    "        print('{0}  *  {1}  =  {2}'.format(i, j, i*j))\n",
    "    print('==============')"
   ]
  },
  {
   "cell_type": "markdown",
   "id": "10e26561-9662-4bc2-8011-4cd1dc4e33d9",
   "metadata": {},
   "source": [
    "9.Python Program to Concatenate Strings\n"
   ]
  },
  {
   "cell_type": "code",
   "execution_count": 12,
   "id": "13c7257a-7106-425b-9084-a64efed8c73c",
   "metadata": {},
   "outputs": [
    {
     "name": "stdout",
     "output_type": "stream",
     "text": [
      "Hello Dipali\n"
     ]
    }
   ],
   "source": [
    "a = \"Hello\"\n",
    "b = \"Dipali\"\n",
    "c = a + \" \" + b\n",
    "print(c)"
   ]
  },
  {
   "cell_type": "markdown",
   "id": "6f2eb2a5-834b-4d37-88a1-ace714813f56",
   "metadata": {},
   "source": [
    "10.Python Program to Reverse String"
   ]
  },
  {
   "cell_type": "code",
   "execution_count": 18,
   "id": "eea78786-9b1b-4432-8dc8-3742c3cbf20f",
   "metadata": {},
   "outputs": [
    {
     "name": "stdout",
     "output_type": "stream",
     "text": [
      "ilapiD olleH\n"
     ]
    }
   ],
   "source": [
    "txt = \"Hello Dipali\"[::-1]\n",
    "print(txt)"
   ]
  },
  {
   "cell_type": "markdown",
   "id": "3daa416c-0cbf-47bc-8c2d-ed0911c0daff",
   "metadata": {},
   "source": [
    "11.Python Program to Add Key-Value Pair to a Dictionary "
   ]
  },
  {
   "cell_type": "code",
   "execution_count": 14,
   "id": "d6a431b6-c3bc-44c2-86b0-f02ab9e4e5c6",
   "metadata": {},
   "outputs": [
    {
     "name": "stdout",
     "output_type": "stream",
     "text": [
      "{'India': 91, 'UK': 44, 'USA': 1}\n",
      "{'India': 91, 'UK': 44, 'USA': 1, 'Spain': 34}\n"
     ]
    }
   ],
   "source": [
    "CountryCodeDict = {\"India\": 91, \"UK\" : 44 , \"USA\" : 1}\n",
    "print(CountryCodeDict)\n",
    "CountryCodeDict[\"Spain\"]= 34\n",
    "print(CountryCodeDict)"
   ]
  },
  {
   "cell_type": "code",
   "execution_count": null,
   "id": "6c15c04d-9a78-4f00-b84b-3b7cbab698c4",
   "metadata": {},
   "outputs": [],
   "source": []
  }
 ],
 "metadata": {
  "kernelspec": {
   "display_name": "Python 3 (ipykernel)",
   "language": "python",
   "name": "python3"
  },
  "language_info": {
   "codemirror_mode": {
    "name": "ipython",
    "version": 3
   },
   "file_extension": ".py",
   "mimetype": "text/x-python",
   "name": "python",
   "nbconvert_exporter": "python",
   "pygments_lexer": "ipython3",
   "version": "3.9.7"
  }
 },
 "nbformat": 4,
 "nbformat_minor": 5
}
