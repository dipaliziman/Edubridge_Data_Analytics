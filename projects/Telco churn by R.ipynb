{
 "cells": [
  {
   "cell_type": "markdown",
   "id": "733ebb53",
   "metadata": {},
   "source": [
    "# Telco-Customer-Churn"
   ]
  },
  {
   "cell_type": "markdown",
   "id": "aaa87680",
   "metadata": {},
   "source": [
    "## Importing library"
   ]
  },
  {
   "cell_type": "code",
   "execution_count": 1,
   "id": "f2465096",
   "metadata": {},
   "outputs": [
    {
     "name": "stderr",
     "output_type": "stream",
     "text": [
      "Warning message:\n",
      "\"package 'dplyr' was built under R version 3.6.3\"\n",
      "Attaching package: 'dplyr'\n",
      "\n",
      "The following objects are masked from 'package:stats':\n",
      "\n",
      "    filter, lag\n",
      "\n",
      "The following objects are masked from 'package:base':\n",
      "\n",
      "    intersect, setdiff, setequal, union\n",
      "\n"
     ]
    }
   ],
   "source": [
    "library(dplyr)"
   ]
  },
  {
   "cell_type": "code",
   "execution_count": 2,
   "id": "1a42773c",
   "metadata": {},
   "outputs": [
    {
     "name": "stderr",
     "output_type": "stream",
     "text": [
      "Warning message:\n",
      "\"package 'tidyverse' was built under R version 3.6.3\""
     ]
    },
    {
     "ename": "ERROR",
     "evalue": "Error: package or namespace load failed for 'tidyverse' in loadNamespace(j <- i[[1L]], c(lib.loc, .libPaths()), versionCheck = vI[[j]]):\n namespace 'jsonlite' 1.6 is already loaded, but >= 1.7.2 is required\n",
     "output_type": "error",
     "traceback": [
      "Error: package or namespace load failed for 'tidyverse' in loadNamespace(j <- i[[1L]], c(lib.loc, .libPaths()), versionCheck = vI[[j]]):\n namespace 'jsonlite' 1.6 is already loaded, but >= 1.7.2 is required\nTraceback:\n",
      "1. library(tidyverse)",
      "2. tryCatch({\n .     attr(package, \"LibPath\") <- which.lib.loc\n .     ns <- loadNamespace(package, lib.loc)\n .     env <- attachNamespace(ns, pos = pos, deps, exclude, include.only)\n . }, error = function(e) {\n .     P <- if (!is.null(cc <- conditionCall(e))) \n .         paste(\" in\", deparse(cc)[1L])\n .     else \"\"\n .     msg <- gettextf(\"package or namespace load failed for %s%s:\\n %s\", \n .         sQuote(package), P, conditionMessage(e))\n .     if (logical.return) \n .         message(paste(\"Error:\", msg), domain = NA)\n .     else stop(msg, call. = FALSE, domain = NA)\n . })",
      "3. tryCatchList(expr, classes, parentenv, handlers)",
      "4. tryCatchOne(expr, names, parentenv, handlers[[1L]])",
      "5. value[[3L]](cond)",
      "6. stop(msg, call. = FALSE, domain = NA)"
     ]
    }
   ],
   "source": [
    "library(tidyverse)"
   ]
  },
  {
   "cell_type": "markdown",
   "id": "d1a21af6",
   "metadata": {},
   "source": [
    "## Reading data"
   ]
  },
  {
   "cell_type": "code",
   "execution_count": 7,
   "id": "3e6dfbc3",
   "metadata": {},
   "outputs": [
    {
     "name": "stderr",
     "output_type": "stream",
     "text": [
      "Warning message:\n",
      "\"package 'readr' was built under R version 3.6.3\""
     ]
    }
   ],
   "source": [
    "library(readr)"
   ]
  },
  {
   "cell_type": "code",
   "execution_count": 17,
   "id": "9f2ecd39",
   "metadata": {},
   "outputs": [
    {
     "name": "stderr",
     "output_type": "stream",
     "text": [
      "\n",
      "-- Column specification --------------------------------------------------------\n",
      "cols(\n",
      "  .default = col_character(),\n",
      "  SeniorCitizen = col_double(),\n",
      "  tenure = col_double(),\n",
      "  MonthlyCharges = col_double(),\n",
      "  TotalCharges = col_double()\n",
      ")\n",
      "i Use `spec()` for the full column specifications.\n",
      "\n"
     ]
    }
   ],
   "source": [
    "data1<- read_csv(\"C:/Users/Lenovo/Desktop/Edu bridge/EDU/New folder/WA_Fn-UseC_-Telco-Customer-Churn.csv\")"
   ]
  },
  {
   "cell_type": "markdown",
   "id": "f71b9b8d",
   "metadata": {},
   "source": [
    "## Checking Rows and column"
   ]
  },
  {
   "cell_type": "code",
   "execution_count": 10,
   "id": "97d001e9",
   "metadata": {},
   "outputs": [
    {
     "data": {
      "text/html": [
       "<ol class=list-inline>\n",
       "\t<li>7043</li>\n",
       "\t<li>21</li>\n",
       "</ol>\n"
      ],
      "text/latex": [
       "\\begin{enumerate*}\n",
       "\\item 7043\n",
       "\\item 21\n",
       "\\end{enumerate*}\n"
      ],
      "text/markdown": [
       "1. 7043\n",
       "2. 21\n",
       "\n",
       "\n"
      ],
      "text/plain": [
       "[1] 7043   21"
      ]
     },
     "metadata": {},
     "output_type": "display_data"
    }
   ],
   "source": [
    "dim(data1)"
   ]
  },
  {
   "cell_type": "markdown",
   "id": "c763260f",
   "metadata": {},
   "source": [
    "## Checking top and bottom data"
   ]
  },
  {
   "cell_type": "code",
   "execution_count": 11,
   "id": "feb7ad85",
   "metadata": {},
   "outputs": [
    {
     "data": {
      "text/html": [
       "<table>\n",
       "<thead><tr><th scope=col>customerID</th><th scope=col>gender</th><th scope=col>SeniorCitizen</th><th scope=col>Partner</th><th scope=col>Dependents</th><th scope=col>tenure</th><th scope=col>PhoneService</th><th scope=col>MultipleLines</th><th scope=col>InternetService</th><th scope=col>OnlineSecurity</th><th scope=col>...</th><th scope=col>DeviceProtection</th><th scope=col>TechSupport</th><th scope=col>StreamingTV</th><th scope=col>StreamingMovies</th><th scope=col>Contract</th><th scope=col>PaperlessBilling</th><th scope=col>PaymentMethod</th><th scope=col>MonthlyCharges</th><th scope=col>TotalCharges</th><th scope=col>Churn</th></tr></thead>\n",
       "<tbody>\n",
       "\t<tr><td>7590-VHVEG               </td><td>Female                   </td><td>0                        </td><td>Yes                      </td><td>No                       </td><td> 1                       </td><td>No                       </td><td>No phone service         </td><td>DSL                      </td><td>No                       </td><td>...                      </td><td>No                       </td><td>No                       </td><td>No                       </td><td>No                       </td><td>Month-to-month           </td><td>Yes                      </td><td>Electronic check         </td><td> 29.85                   </td><td>  29.85                  </td><td>No                       </td></tr>\n",
       "\t<tr><td>5575-GNVDE               </td><td>Male                     </td><td>0                        </td><td>No                       </td><td>No                       </td><td>34                       </td><td>Yes                      </td><td>No                       </td><td>DSL                      </td><td>Yes                      </td><td>...                      </td><td>Yes                      </td><td>No                       </td><td>No                       </td><td>No                       </td><td>One year                 </td><td>No                       </td><td>Mailed check             </td><td> 56.95                   </td><td>1889.50                  </td><td>No                       </td></tr>\n",
       "\t<tr><td>3668-QPYBK               </td><td>Male                     </td><td>0                        </td><td>No                       </td><td>No                       </td><td> 2                       </td><td>Yes                      </td><td>No                       </td><td>DSL                      </td><td>Yes                      </td><td>...                      </td><td>No                       </td><td>No                       </td><td>No                       </td><td>No                       </td><td>Month-to-month           </td><td>Yes                      </td><td>Mailed check             </td><td> 53.85                   </td><td> 108.15                  </td><td>Yes                      </td></tr>\n",
       "\t<tr><td>7795-CFOCW               </td><td>Male                     </td><td>0                        </td><td>No                       </td><td>No                       </td><td>45                       </td><td>No                       </td><td>No phone service         </td><td>DSL                      </td><td>Yes                      </td><td>...                      </td><td>Yes                      </td><td>Yes                      </td><td>No                       </td><td>No                       </td><td>One year                 </td><td>No                       </td><td>Bank transfer (automatic)</td><td> 42.30                   </td><td>1840.75                  </td><td>No                       </td></tr>\n",
       "\t<tr><td>9237-HQITU               </td><td>Female                   </td><td>0                        </td><td>No                       </td><td>No                       </td><td> 2                       </td><td>Yes                      </td><td>No                       </td><td>Fiber optic              </td><td>No                       </td><td>...                      </td><td>No                       </td><td>No                       </td><td>No                       </td><td>No                       </td><td>Month-to-month           </td><td>Yes                      </td><td>Electronic check         </td><td> 70.70                   </td><td> 151.65                  </td><td>Yes                      </td></tr>\n",
       "\t<tr><td>9305-CDSKC               </td><td>Female                   </td><td>0                        </td><td>No                       </td><td>No                       </td><td> 8                       </td><td>Yes                      </td><td>Yes                      </td><td>Fiber optic              </td><td>No                       </td><td>...                      </td><td>Yes                      </td><td>No                       </td><td>Yes                      </td><td>Yes                      </td><td>Month-to-month           </td><td>Yes                      </td><td>Electronic check         </td><td> 99.65                   </td><td> 820.50                  </td><td>Yes                      </td></tr>\n",
       "\t<tr><td>1452-KIOVK               </td><td>Male                     </td><td>0                        </td><td>No                       </td><td>Yes                      </td><td>22                       </td><td>Yes                      </td><td>Yes                      </td><td>Fiber optic              </td><td>No                       </td><td>...                      </td><td>No                       </td><td>No                       </td><td>Yes                      </td><td>No                       </td><td>Month-to-month           </td><td>Yes                      </td><td>Credit card (automatic)  </td><td> 89.10                   </td><td>1949.40                  </td><td>No                       </td></tr>\n",
       "\t<tr><td>6713-OKOMC               </td><td>Female                   </td><td>0                        </td><td>No                       </td><td>No                       </td><td>10                       </td><td>No                       </td><td>No phone service         </td><td>DSL                      </td><td>Yes                      </td><td>...                      </td><td>No                       </td><td>No                       </td><td>No                       </td><td>No                       </td><td>Month-to-month           </td><td>No                       </td><td>Mailed check             </td><td> 29.75                   </td><td> 301.90                  </td><td>No                       </td></tr>\n",
       "\t<tr><td>7892-POOKP               </td><td>Female                   </td><td>0                        </td><td>Yes                      </td><td>No                       </td><td>28                       </td><td>Yes                      </td><td>Yes                      </td><td>Fiber optic              </td><td>No                       </td><td>...                      </td><td>Yes                      </td><td>Yes                      </td><td>Yes                      </td><td>Yes                      </td><td>Month-to-month           </td><td>Yes                      </td><td>Electronic check         </td><td>104.80                   </td><td>3046.05                  </td><td>Yes                      </td></tr>\n",
       "\t<tr><td>6388-TABGU               </td><td>Male                     </td><td>0                        </td><td>No                       </td><td>Yes                      </td><td>62                       </td><td>Yes                      </td><td>No                       </td><td>DSL                      </td><td>Yes                      </td><td>...                      </td><td>No                       </td><td>No                       </td><td>No                       </td><td>No                       </td><td>One year                 </td><td>No                       </td><td>Bank transfer (automatic)</td><td> 56.15                   </td><td>3487.95                  </td><td>No                       </td></tr>\n",
       "</tbody>\n",
       "</table>\n"
      ],
      "text/latex": [
       "\\begin{tabular}{r|lllllllllllllllllllll}\n",
       " customerID & gender & SeniorCitizen & Partner & Dependents & tenure & PhoneService & MultipleLines & InternetService & OnlineSecurity & ... & DeviceProtection & TechSupport & StreamingTV & StreamingMovies & Contract & PaperlessBilling & PaymentMethod & MonthlyCharges & TotalCharges & Churn\\\\\n",
       "\\hline\n",
       "\t 7590-VHVEG                & Female                    & 0                         & Yes                       & No                        &  1                        & No                        & No phone service          & DSL                       & No                        & ...                       & No                        & No                        & No                        & No                        & Month-to-month            & Yes                       & Electronic check          &  29.85                    &   29.85                   & No                       \\\\\n",
       "\t 5575-GNVDE                & Male                      & 0                         & No                        & No                        & 34                        & Yes                       & No                        & DSL                       & Yes                       & ...                       & Yes                       & No                        & No                        & No                        & One year                  & No                        & Mailed check              &  56.95                    & 1889.50                   & No                       \\\\\n",
       "\t 3668-QPYBK                & Male                      & 0                         & No                        & No                        &  2                        & Yes                       & No                        & DSL                       & Yes                       & ...                       & No                        & No                        & No                        & No                        & Month-to-month            & Yes                       & Mailed check              &  53.85                    &  108.15                   & Yes                      \\\\\n",
       "\t 7795-CFOCW                & Male                      & 0                         & No                        & No                        & 45                        & No                        & No phone service          & DSL                       & Yes                       & ...                       & Yes                       & Yes                       & No                        & No                        & One year                  & No                        & Bank transfer (automatic) &  42.30                    & 1840.75                   & No                       \\\\\n",
       "\t 9237-HQITU                & Female                    & 0                         & No                        & No                        &  2                        & Yes                       & No                        & Fiber optic               & No                        & ...                       & No                        & No                        & No                        & No                        & Month-to-month            & Yes                       & Electronic check          &  70.70                    &  151.65                   & Yes                      \\\\\n",
       "\t 9305-CDSKC                & Female                    & 0                         & No                        & No                        &  8                        & Yes                       & Yes                       & Fiber optic               & No                        & ...                       & Yes                       & No                        & Yes                       & Yes                       & Month-to-month            & Yes                       & Electronic check          &  99.65                    &  820.50                   & Yes                      \\\\\n",
       "\t 1452-KIOVK                & Male                      & 0                         & No                        & Yes                       & 22                        & Yes                       & Yes                       & Fiber optic               & No                        & ...                       & No                        & No                        & Yes                       & No                        & Month-to-month            & Yes                       & Credit card (automatic)   &  89.10                    & 1949.40                   & No                       \\\\\n",
       "\t 6713-OKOMC                & Female                    & 0                         & No                        & No                        & 10                        & No                        & No phone service          & DSL                       & Yes                       & ...                       & No                        & No                        & No                        & No                        & Month-to-month            & No                        & Mailed check              &  29.75                    &  301.90                   & No                       \\\\\n",
       "\t 7892-POOKP                & Female                    & 0                         & Yes                       & No                        & 28                        & Yes                       & Yes                       & Fiber optic               & No                        & ...                       & Yes                       & Yes                       & Yes                       & Yes                       & Month-to-month            & Yes                       & Electronic check          & 104.80                    & 3046.05                   & Yes                      \\\\\n",
       "\t 6388-TABGU                & Male                      & 0                         & No                        & Yes                       & 62                        & Yes                       & No                        & DSL                       & Yes                       & ...                       & No                        & No                        & No                        & No                        & One year                  & No                        & Bank transfer (automatic) &  56.15                    & 3487.95                   & No                       \\\\\n",
       "\\end{tabular}\n"
      ],
      "text/markdown": [
       "\n",
       "| customerID | gender | SeniorCitizen | Partner | Dependents | tenure | PhoneService | MultipleLines | InternetService | OnlineSecurity | ... | DeviceProtection | TechSupport | StreamingTV | StreamingMovies | Contract | PaperlessBilling | PaymentMethod | MonthlyCharges | TotalCharges | Churn |\n",
       "|---|---|---|---|---|---|---|---|---|---|---|---|---|---|---|---|---|---|---|---|---|\n",
       "| 7590-VHVEG                | Female                    | 0                         | Yes                       | No                        |  1                        | No                        | No phone service          | DSL                       | No                        | ...                       | No                        | No                        | No                        | No                        | Month-to-month            | Yes                       | Electronic check          |  29.85                    |   29.85                   | No                        |\n",
       "| 5575-GNVDE                | Male                      | 0                         | No                        | No                        | 34                        | Yes                       | No                        | DSL                       | Yes                       | ...                       | Yes                       | No                        | No                        | No                        | One year                  | No                        | Mailed check              |  56.95                    | 1889.50                   | No                        |\n",
       "| 3668-QPYBK                | Male                      | 0                         | No                        | No                        |  2                        | Yes                       | No                        | DSL                       | Yes                       | ...                       | No                        | No                        | No                        | No                        | Month-to-month            | Yes                       | Mailed check              |  53.85                    |  108.15                   | Yes                       |\n",
       "| 7795-CFOCW                | Male                      | 0                         | No                        | No                        | 45                        | No                        | No phone service          | DSL                       | Yes                       | ...                       | Yes                       | Yes                       | No                        | No                        | One year                  | No                        | Bank transfer (automatic) |  42.30                    | 1840.75                   | No                        |\n",
       "| 9237-HQITU                | Female                    | 0                         | No                        | No                        |  2                        | Yes                       | No                        | Fiber optic               | No                        | ...                       | No                        | No                        | No                        | No                        | Month-to-month            | Yes                       | Electronic check          |  70.70                    |  151.65                   | Yes                       |\n",
       "| 9305-CDSKC                | Female                    | 0                         | No                        | No                        |  8                        | Yes                       | Yes                       | Fiber optic               | No                        | ...                       | Yes                       | No                        | Yes                       | Yes                       | Month-to-month            | Yes                       | Electronic check          |  99.65                    |  820.50                   | Yes                       |\n",
       "| 1452-KIOVK                | Male                      | 0                         | No                        | Yes                       | 22                        | Yes                       | Yes                       | Fiber optic               | No                        | ...                       | No                        | No                        | Yes                       | No                        | Month-to-month            | Yes                       | Credit card (automatic)   |  89.10                    | 1949.40                   | No                        |\n",
       "| 6713-OKOMC                | Female                    | 0                         | No                        | No                        | 10                        | No                        | No phone service          | DSL                       | Yes                       | ...                       | No                        | No                        | No                        | No                        | Month-to-month            | No                        | Mailed check              |  29.75                    |  301.90                   | No                        |\n",
       "| 7892-POOKP                | Female                    | 0                         | Yes                       | No                        | 28                        | Yes                       | Yes                       | Fiber optic               | No                        | ...                       | Yes                       | Yes                       | Yes                       | Yes                       | Month-to-month            | Yes                       | Electronic check          | 104.80                    | 3046.05                   | Yes                       |\n",
       "| 6388-TABGU                | Male                      | 0                         | No                        | Yes                       | 62                        | Yes                       | No                        | DSL                       | Yes                       | ...                       | No                        | No                        | No                        | No                        | One year                  | No                        | Bank transfer (automatic) |  56.15                    | 3487.95                   | No                        |\n",
       "\n"
      ],
      "text/plain": [
       "   customerID gender SeniorCitizen Partner Dependents tenure PhoneService\n",
       "1  7590-VHVEG Female 0             Yes     No          1     No          \n",
       "2  5575-GNVDE Male   0             No      No         34     Yes         \n",
       "3  3668-QPYBK Male   0             No      No          2     Yes         \n",
       "4  7795-CFOCW Male   0             No      No         45     No          \n",
       "5  9237-HQITU Female 0             No      No          2     Yes         \n",
       "6  9305-CDSKC Female 0             No      No          8     Yes         \n",
       "7  1452-KIOVK Male   0             No      Yes        22     Yes         \n",
       "8  6713-OKOMC Female 0             No      No         10     No          \n",
       "9  7892-POOKP Female 0             Yes     No         28     Yes         \n",
       "10 6388-TABGU Male   0             No      Yes        62     Yes         \n",
       "   MultipleLines    InternetService OnlineSecurity ... DeviceProtection\n",
       "1  No phone service DSL             No             ... No              \n",
       "2  No               DSL             Yes            ... Yes             \n",
       "3  No               DSL             Yes            ... No              \n",
       "4  No phone service DSL             Yes            ... Yes             \n",
       "5  No               Fiber optic     No             ... No              \n",
       "6  Yes              Fiber optic     No             ... Yes             \n",
       "7  Yes              Fiber optic     No             ... No              \n",
       "8  No phone service DSL             Yes            ... No              \n",
       "9  Yes              Fiber optic     No             ... Yes             \n",
       "10 No               DSL             Yes            ... No              \n",
       "   TechSupport StreamingTV StreamingMovies Contract       PaperlessBilling\n",
       "1  No          No          No              Month-to-month Yes             \n",
       "2  No          No          No              One year       No              \n",
       "3  No          No          No              Month-to-month Yes             \n",
       "4  Yes         No          No              One year       No              \n",
       "5  No          No          No              Month-to-month Yes             \n",
       "6  No          Yes         Yes             Month-to-month Yes             \n",
       "7  No          Yes         No              Month-to-month Yes             \n",
       "8  No          No          No              Month-to-month No              \n",
       "9  Yes         Yes         Yes             Month-to-month Yes             \n",
       "10 No          No          No              One year       No              \n",
       "   PaymentMethod             MonthlyCharges TotalCharges Churn\n",
       "1  Electronic check           29.85           29.85      No   \n",
       "2  Mailed check               56.95         1889.50      No   \n",
       "3  Mailed check               53.85          108.15      Yes  \n",
       "4  Bank transfer (automatic)  42.30         1840.75      No   \n",
       "5  Electronic check           70.70          151.65      Yes  \n",
       "6  Electronic check           99.65          820.50      Yes  \n",
       "7  Credit card (automatic)    89.10         1949.40      No   \n",
       "8  Mailed check               29.75          301.90      No   \n",
       "9  Electronic check          104.80         3046.05      Yes  \n",
       "10 Bank transfer (automatic)  56.15         3487.95      No   "
      ]
     },
     "metadata": {},
     "output_type": "display_data"
    }
   ],
   "source": [
    "head(data1,n=10)"
   ]
  },
  {
   "cell_type": "code",
   "execution_count": 12,
   "id": "f4738209",
   "metadata": {},
   "outputs": [
    {
     "data": {
      "text/html": [
       "<table>\n",
       "<thead><tr><th scope=col>customerID</th><th scope=col>gender</th><th scope=col>SeniorCitizen</th><th scope=col>Partner</th><th scope=col>Dependents</th><th scope=col>tenure</th><th scope=col>PhoneService</th><th scope=col>MultipleLines</th><th scope=col>InternetService</th><th scope=col>OnlineSecurity</th><th scope=col>...</th><th scope=col>DeviceProtection</th><th scope=col>TechSupport</th><th scope=col>StreamingTV</th><th scope=col>StreamingMovies</th><th scope=col>Contract</th><th scope=col>PaperlessBilling</th><th scope=col>PaymentMethod</th><th scope=col>MonthlyCharges</th><th scope=col>TotalCharges</th><th scope=col>Churn</th></tr></thead>\n",
       "<tbody>\n",
       "\t<tr><td>9767-FFLEM               </td><td>Male                     </td><td>0                        </td><td>No                       </td><td>No                       </td><td>38                       </td><td>Yes                      </td><td>No                       </td><td>Fiber optic              </td><td>No                       </td><td>...                      </td><td>No                       </td><td>No                       </td><td>No                       </td><td>No                       </td><td>Month-to-month           </td><td>Yes                      </td><td>Credit card (automatic)  </td><td> 69.50                   </td><td>2625.25                  </td><td>No                       </td></tr>\n",
       "\t<tr><td>0639-TSIQW               </td><td>Female                   </td><td>0                        </td><td>No                       </td><td>No                       </td><td>67                       </td><td>Yes                      </td><td>Yes                      </td><td>Fiber optic              </td><td>Yes                      </td><td>...                      </td><td>Yes                      </td><td>No                       </td><td>Yes                      </td><td>No                       </td><td>Month-to-month           </td><td>Yes                      </td><td>Credit card (automatic)  </td><td>102.95                   </td><td>6886.25                  </td><td>Yes                      </td></tr>\n",
       "\t<tr><td>8456-QDAVC               </td><td>Male                     </td><td>0                        </td><td>No                       </td><td>No                       </td><td>19                       </td><td>Yes                      </td><td>No                       </td><td>Fiber optic              </td><td>No                       </td><td>...                      </td><td>No                       </td><td>No                       </td><td>Yes                      </td><td>No                       </td><td>Month-to-month           </td><td>Yes                      </td><td>Bank transfer (automatic)</td><td> 78.70                   </td><td>1495.10                  </td><td>No                       </td></tr>\n",
       "\t<tr><td>7750-EYXWZ               </td><td>Female                   </td><td>0                        </td><td>No                       </td><td>No                       </td><td>12                       </td><td>No                       </td><td>No phone service         </td><td>DSL                      </td><td>No                       </td><td>...                      </td><td>Yes                      </td><td>Yes                      </td><td>Yes                      </td><td>Yes                      </td><td>One year                 </td><td>No                       </td><td>Electronic check         </td><td> 60.65                   </td><td> 743.30                  </td><td>No                       </td></tr>\n",
       "\t<tr><td>2569-WGERO               </td><td>Female                   </td><td>0                        </td><td>No                       </td><td>No                       </td><td>72                       </td><td>Yes                      </td><td>No                       </td><td>No                       </td><td>No internet service      </td><td>...                      </td><td>No internet service      </td><td>No internet service      </td><td>No internet service      </td><td>No internet service      </td><td>Two year                 </td><td>Yes                      </td><td>Bank transfer (automatic)</td><td> 21.15                   </td><td>1419.40                  </td><td>No                       </td></tr>\n",
       "\t<tr><td>6840-RESVB               </td><td>Male                     </td><td>0                        </td><td>Yes                      </td><td>Yes                      </td><td>24                       </td><td>Yes                      </td><td>Yes                      </td><td>DSL                      </td><td>Yes                      </td><td>...                      </td><td>Yes                      </td><td>Yes                      </td><td>Yes                      </td><td>Yes                      </td><td>One year                 </td><td>Yes                      </td><td>Mailed check             </td><td> 84.80                   </td><td>1990.50                  </td><td>No                       </td></tr>\n",
       "\t<tr><td>2234-XADUH               </td><td>Female                   </td><td>0                        </td><td>Yes                      </td><td>Yes                      </td><td>72                       </td><td>Yes                      </td><td>Yes                      </td><td>Fiber optic              </td><td>No                       </td><td>...                      </td><td>Yes                      </td><td>No                       </td><td>Yes                      </td><td>Yes                      </td><td>One year                 </td><td>Yes                      </td><td>Credit card (automatic)  </td><td>103.20                   </td><td>7362.90                  </td><td>No                       </td></tr>\n",
       "\t<tr><td>4801-JZAZL               </td><td>Female                   </td><td>0                        </td><td>Yes                      </td><td>Yes                      </td><td>11                       </td><td>No                       </td><td>No phone service         </td><td>DSL                      </td><td>Yes                      </td><td>...                      </td><td>No                       </td><td>No                       </td><td>No                       </td><td>No                       </td><td>Month-to-month           </td><td>Yes                      </td><td>Electronic check         </td><td> 29.60                   </td><td> 346.45                  </td><td>No                       </td></tr>\n",
       "\t<tr><td>8361-LTMKD               </td><td>Male                     </td><td>1                        </td><td>Yes                      </td><td>No                       </td><td> 4                       </td><td>Yes                      </td><td>Yes                      </td><td>Fiber optic              </td><td>No                       </td><td>...                      </td><td>No                       </td><td>No                       </td><td>No                       </td><td>No                       </td><td>Month-to-month           </td><td>Yes                      </td><td>Mailed check             </td><td> 74.40                   </td><td> 306.60                  </td><td>Yes                      </td></tr>\n",
       "\t<tr><td>3186-AJIEK               </td><td>Male                     </td><td>0                        </td><td>No                       </td><td>No                       </td><td>66                       </td><td>Yes                      </td><td>No                       </td><td>Fiber optic              </td><td>Yes                      </td><td>...                      </td><td>Yes                      </td><td>Yes                      </td><td>Yes                      </td><td>Yes                      </td><td>Two year                 </td><td>Yes                      </td><td>Bank transfer (automatic)</td><td>105.65                   </td><td>6844.50                  </td><td>No                       </td></tr>\n",
       "</tbody>\n",
       "</table>\n"
      ],
      "text/latex": [
       "\\begin{tabular}{r|lllllllllllllllllllll}\n",
       " customerID & gender & SeniorCitizen & Partner & Dependents & tenure & PhoneService & MultipleLines & InternetService & OnlineSecurity & ... & DeviceProtection & TechSupport & StreamingTV & StreamingMovies & Contract & PaperlessBilling & PaymentMethod & MonthlyCharges & TotalCharges & Churn\\\\\n",
       "\\hline\n",
       "\t 9767-FFLEM                & Male                      & 0                         & No                        & No                        & 38                        & Yes                       & No                        & Fiber optic               & No                        & ...                       & No                        & No                        & No                        & No                        & Month-to-month            & Yes                       & Credit card (automatic)   &  69.50                    & 2625.25                   & No                       \\\\\n",
       "\t 0639-TSIQW                & Female                    & 0                         & No                        & No                        & 67                        & Yes                       & Yes                       & Fiber optic               & Yes                       & ...                       & Yes                       & No                        & Yes                       & No                        & Month-to-month            & Yes                       & Credit card (automatic)   & 102.95                    & 6886.25                   & Yes                      \\\\\n",
       "\t 8456-QDAVC                & Male                      & 0                         & No                        & No                        & 19                        & Yes                       & No                        & Fiber optic               & No                        & ...                       & No                        & No                        & Yes                       & No                        & Month-to-month            & Yes                       & Bank transfer (automatic) &  78.70                    & 1495.10                   & No                       \\\\\n",
       "\t 7750-EYXWZ                & Female                    & 0                         & No                        & No                        & 12                        & No                        & No phone service          & DSL                       & No                        & ...                       & Yes                       & Yes                       & Yes                       & Yes                       & One year                  & No                        & Electronic check          &  60.65                    &  743.30                   & No                       \\\\\n",
       "\t 2569-WGERO                & Female                    & 0                         & No                        & No                        & 72                        & Yes                       & No                        & No                        & No internet service       & ...                       & No internet service       & No internet service       & No internet service       & No internet service       & Two year                  & Yes                       & Bank transfer (automatic) &  21.15                    & 1419.40                   & No                       \\\\\n",
       "\t 6840-RESVB                & Male                      & 0                         & Yes                       & Yes                       & 24                        & Yes                       & Yes                       & DSL                       & Yes                       & ...                       & Yes                       & Yes                       & Yes                       & Yes                       & One year                  & Yes                       & Mailed check              &  84.80                    & 1990.50                   & No                       \\\\\n",
       "\t 2234-XADUH                & Female                    & 0                         & Yes                       & Yes                       & 72                        & Yes                       & Yes                       & Fiber optic               & No                        & ...                       & Yes                       & No                        & Yes                       & Yes                       & One year                  & Yes                       & Credit card (automatic)   & 103.20                    & 7362.90                   & No                       \\\\\n",
       "\t 4801-JZAZL                & Female                    & 0                         & Yes                       & Yes                       & 11                        & No                        & No phone service          & DSL                       & Yes                       & ...                       & No                        & No                        & No                        & No                        & Month-to-month            & Yes                       & Electronic check          &  29.60                    &  346.45                   & No                       \\\\\n",
       "\t 8361-LTMKD                & Male                      & 1                         & Yes                       & No                        &  4                        & Yes                       & Yes                       & Fiber optic               & No                        & ...                       & No                        & No                        & No                        & No                        & Month-to-month            & Yes                       & Mailed check              &  74.40                    &  306.60                   & Yes                      \\\\\n",
       "\t 3186-AJIEK                & Male                      & 0                         & No                        & No                        & 66                        & Yes                       & No                        & Fiber optic               & Yes                       & ...                       & Yes                       & Yes                       & Yes                       & Yes                       & Two year                  & Yes                       & Bank transfer (automatic) & 105.65                    & 6844.50                   & No                       \\\\\n",
       "\\end{tabular}\n"
      ],
      "text/markdown": [
       "\n",
       "| customerID | gender | SeniorCitizen | Partner | Dependents | tenure | PhoneService | MultipleLines | InternetService | OnlineSecurity | ... | DeviceProtection | TechSupport | StreamingTV | StreamingMovies | Contract | PaperlessBilling | PaymentMethod | MonthlyCharges | TotalCharges | Churn |\n",
       "|---|---|---|---|---|---|---|---|---|---|---|---|---|---|---|---|---|---|---|---|---|\n",
       "| 9767-FFLEM                | Male                      | 0                         | No                        | No                        | 38                        | Yes                       | No                        | Fiber optic               | No                        | ...                       | No                        | No                        | No                        | No                        | Month-to-month            | Yes                       | Credit card (automatic)   |  69.50                    | 2625.25                   | No                        |\n",
       "| 0639-TSIQW                | Female                    | 0                         | No                        | No                        | 67                        | Yes                       | Yes                       | Fiber optic               | Yes                       | ...                       | Yes                       | No                        | Yes                       | No                        | Month-to-month            | Yes                       | Credit card (automatic)   | 102.95                    | 6886.25                   | Yes                       |\n",
       "| 8456-QDAVC                | Male                      | 0                         | No                        | No                        | 19                        | Yes                       | No                        | Fiber optic               | No                        | ...                       | No                        | No                        | Yes                       | No                        | Month-to-month            | Yes                       | Bank transfer (automatic) |  78.70                    | 1495.10                   | No                        |\n",
       "| 7750-EYXWZ                | Female                    | 0                         | No                        | No                        | 12                        | No                        | No phone service          | DSL                       | No                        | ...                       | Yes                       | Yes                       | Yes                       | Yes                       | One year                  | No                        | Electronic check          |  60.65                    |  743.30                   | No                        |\n",
       "| 2569-WGERO                | Female                    | 0                         | No                        | No                        | 72                        | Yes                       | No                        | No                        | No internet service       | ...                       | No internet service       | No internet service       | No internet service       | No internet service       | Two year                  | Yes                       | Bank transfer (automatic) |  21.15                    | 1419.40                   | No                        |\n",
       "| 6840-RESVB                | Male                      | 0                         | Yes                       | Yes                       | 24                        | Yes                       | Yes                       | DSL                       | Yes                       | ...                       | Yes                       | Yes                       | Yes                       | Yes                       | One year                  | Yes                       | Mailed check              |  84.80                    | 1990.50                   | No                        |\n",
       "| 2234-XADUH                | Female                    | 0                         | Yes                       | Yes                       | 72                        | Yes                       | Yes                       | Fiber optic               | No                        | ...                       | Yes                       | No                        | Yes                       | Yes                       | One year                  | Yes                       | Credit card (automatic)   | 103.20                    | 7362.90                   | No                        |\n",
       "| 4801-JZAZL                | Female                    | 0                         | Yes                       | Yes                       | 11                        | No                        | No phone service          | DSL                       | Yes                       | ...                       | No                        | No                        | No                        | No                        | Month-to-month            | Yes                       | Electronic check          |  29.60                    |  346.45                   | No                        |\n",
       "| 8361-LTMKD                | Male                      | 1                         | Yes                       | No                        |  4                        | Yes                       | Yes                       | Fiber optic               | No                        | ...                       | No                        | No                        | No                        | No                        | Month-to-month            | Yes                       | Mailed check              |  74.40                    |  306.60                   | Yes                       |\n",
       "| 3186-AJIEK                | Male                      | 0                         | No                        | No                        | 66                        | Yes                       | No                        | Fiber optic               | Yes                       | ...                       | Yes                       | Yes                       | Yes                       | Yes                       | Two year                  | Yes                       | Bank transfer (automatic) | 105.65                    | 6844.50                   | No                        |\n",
       "\n"
      ],
      "text/plain": [
       "   customerID gender SeniorCitizen Partner Dependents tenure PhoneService\n",
       "1  9767-FFLEM Male   0             No      No         38     Yes         \n",
       "2  0639-TSIQW Female 0             No      No         67     Yes         \n",
       "3  8456-QDAVC Male   0             No      No         19     Yes         \n",
       "4  7750-EYXWZ Female 0             No      No         12     No          \n",
       "5  2569-WGERO Female 0             No      No         72     Yes         \n",
       "6  6840-RESVB Male   0             Yes     Yes        24     Yes         \n",
       "7  2234-XADUH Female 0             Yes     Yes        72     Yes         \n",
       "8  4801-JZAZL Female 0             Yes     Yes        11     No          \n",
       "9  8361-LTMKD Male   1             Yes     No          4     Yes         \n",
       "10 3186-AJIEK Male   0             No      No         66     Yes         \n",
       "   MultipleLines    InternetService OnlineSecurity      ... DeviceProtection   \n",
       "1  No               Fiber optic     No                  ... No                 \n",
       "2  Yes              Fiber optic     Yes                 ... Yes                \n",
       "3  No               Fiber optic     No                  ... No                 \n",
       "4  No phone service DSL             No                  ... Yes                \n",
       "5  No               No              No internet service ... No internet service\n",
       "6  Yes              DSL             Yes                 ... Yes                \n",
       "7  Yes              Fiber optic     No                  ... Yes                \n",
       "8  No phone service DSL             Yes                 ... No                 \n",
       "9  Yes              Fiber optic     No                  ... No                 \n",
       "10 No               Fiber optic     Yes                 ... Yes                \n",
       "   TechSupport         StreamingTV         StreamingMovies     Contract      \n",
       "1  No                  No                  No                  Month-to-month\n",
       "2  No                  Yes                 No                  Month-to-month\n",
       "3  No                  Yes                 No                  Month-to-month\n",
       "4  Yes                 Yes                 Yes                 One year      \n",
       "5  No internet service No internet service No internet service Two year      \n",
       "6  Yes                 Yes                 Yes                 One year      \n",
       "7  No                  Yes                 Yes                 One year      \n",
       "8  No                  No                  No                  Month-to-month\n",
       "9  No                  No                  No                  Month-to-month\n",
       "10 Yes                 Yes                 Yes                 Two year      \n",
       "   PaperlessBilling PaymentMethod             MonthlyCharges TotalCharges Churn\n",
       "1  Yes              Credit card (automatic)    69.50         2625.25      No   \n",
       "2  Yes              Credit card (automatic)   102.95         6886.25      Yes  \n",
       "3  Yes              Bank transfer (automatic)  78.70         1495.10      No   \n",
       "4  No               Electronic check           60.65          743.30      No   \n",
       "5  Yes              Bank transfer (automatic)  21.15         1419.40      No   \n",
       "6  Yes              Mailed check               84.80         1990.50      No   \n",
       "7  Yes              Credit card (automatic)   103.20         7362.90      No   \n",
       "8  Yes              Electronic check           29.60          346.45      No   \n",
       "9  Yes              Mailed check               74.40          306.60      Yes  \n",
       "10 Yes              Bank transfer (automatic) 105.65         6844.50      No   "
      ]
     },
     "metadata": {},
     "output_type": "display_data"
    }
   ],
   "source": [
    "tail(data1,n=10)"
   ]
  },
  {
   "cell_type": "markdown",
   "id": "b7604bf4",
   "metadata": {},
   "source": [
    "## Info about Data"
   ]
  },
  {
   "cell_type": "code",
   "execution_count": 14,
   "id": "8ad246a2",
   "metadata": {},
   "outputs": [
    {
     "name": "stdout",
     "output_type": "stream",
     "text": [
      "spec_tbl_df [7,043 x 21] (S3: spec_tbl_df/tbl_df/tbl/data.frame)\n",
      " $ customerID      : chr [1:7043] \"7590-VHVEG\" \"5575-GNVDE\" \"3668-QPYBK\" \"7795-CFOCW\" ...\n",
      " $ gender          : chr [1:7043] \"Female\" \"Male\" \"Male\" \"Male\" ...\n",
      " $ SeniorCitizen   : num [1:7043] 0 0 0 0 0 0 0 0 0 0 ...\n",
      " $ Partner         : chr [1:7043] \"Yes\" \"No\" \"No\" \"No\" ...\n",
      " $ Dependents      : chr [1:7043] \"No\" \"No\" \"No\" \"No\" ...\n",
      " $ tenure          : num [1:7043] 1 34 2 45 2 8 22 10 28 62 ...\n",
      " $ PhoneService    : chr [1:7043] \"No\" \"Yes\" \"Yes\" \"No\" ...\n",
      " $ MultipleLines   : chr [1:7043] \"No phone service\" \"No\" \"No\" \"No phone service\" ...\n",
      " $ InternetService : chr [1:7043] \"DSL\" \"DSL\" \"DSL\" \"DSL\" ...\n",
      " $ OnlineSecurity  : chr [1:7043] \"No\" \"Yes\" \"Yes\" \"Yes\" ...\n",
      " $ OnlineBackup    : chr [1:7043] \"Yes\" \"No\" \"Yes\" \"No\" ...\n",
      " $ DeviceProtection: chr [1:7043] \"No\" \"Yes\" \"No\" \"Yes\" ...\n",
      " $ TechSupport     : chr [1:7043] \"No\" \"No\" \"No\" \"Yes\" ...\n",
      " $ StreamingTV     : chr [1:7043] \"No\" \"No\" \"No\" \"No\" ...\n",
      " $ StreamingMovies : chr [1:7043] \"No\" \"No\" \"No\" \"No\" ...\n",
      " $ Contract        : chr [1:7043] \"Month-to-month\" \"One year\" \"Month-to-month\" \"One year\" ...\n",
      " $ PaperlessBilling: chr [1:7043] \"Yes\" \"No\" \"Yes\" \"No\" ...\n",
      " $ PaymentMethod   : chr [1:7043] \"Electronic check\" \"Mailed check\" \"Mailed check\" \"Bank transfer (automatic)\" ...\n",
      " $ MonthlyCharges  : num [1:7043] 29.9 57 53.9 42.3 70.7 ...\n",
      " $ TotalCharges    : num [1:7043] 29.9 1889.5 108.2 1840.8 151.7 ...\n",
      " $ Churn           : chr [1:7043] \"No\" \"No\" \"Yes\" \"No\" ...\n",
      " - attr(*, \"spec\")=\n",
      "  .. cols(\n",
      "  ..   customerID = col_character(),\n",
      "  ..   gender = col_character(),\n",
      "  ..   SeniorCitizen = col_double(),\n",
      "  ..   Partner = col_character(),\n",
      "  ..   Dependents = col_character(),\n",
      "  ..   tenure = col_double(),\n",
      "  ..   PhoneService = col_character(),\n",
      "  ..   MultipleLines = col_character(),\n",
      "  ..   InternetService = col_character(),\n",
      "  ..   OnlineSecurity = col_character(),\n",
      "  ..   OnlineBackup = col_character(),\n",
      "  ..   DeviceProtection = col_character(),\n",
      "  ..   TechSupport = col_character(),\n",
      "  ..   StreamingTV = col_character(),\n",
      "  ..   StreamingMovies = col_character(),\n",
      "  ..   Contract = col_character(),\n",
      "  ..   PaperlessBilling = col_character(),\n",
      "  ..   PaymentMethod = col_character(),\n",
      "  ..   MonthlyCharges = col_double(),\n",
      "  ..   TotalCharges = col_double(),\n",
      "  ..   Churn = col_character()\n",
      "  .. )\n"
     ]
    }
   ],
   "source": [
    "str(data1)"
   ]
  },
  {
   "cell_type": "code",
   "execution_count": 15,
   "id": "03ab4ad6",
   "metadata": {},
   "outputs": [
    {
     "data": {
      "text/plain": [
       "  customerID           gender          SeniorCitizen      Partner         \n",
       " Length:7043        Length:7043        Min.   :0.0000   Length:7043       \n",
       " Class :character   Class :character   1st Qu.:0.0000   Class :character  \n",
       " Mode  :character   Mode  :character   Median :0.0000   Mode  :character  \n",
       "                                       Mean   :0.1621                     \n",
       "                                       3rd Qu.:0.0000                     \n",
       "                                       Max.   :1.0000                     \n",
       "                                                                          \n",
       "  Dependents            tenure      PhoneService       MultipleLines     \n",
       " Length:7043        Min.   : 0.00   Length:7043        Length:7043       \n",
       " Class :character   1st Qu.: 9.00   Class :character   Class :character  \n",
       " Mode  :character   Median :29.00   Mode  :character   Mode  :character  \n",
       "                    Mean   :32.37                                        \n",
       "                    3rd Qu.:55.00                                        \n",
       "                    Max.   :72.00                                        \n",
       "                                                                         \n",
       " InternetService    OnlineSecurity     OnlineBackup       DeviceProtection  \n",
       " Length:7043        Length:7043        Length:7043        Length:7043       \n",
       " Class :character   Class :character   Class :character   Class :character  \n",
       " Mode  :character   Mode  :character   Mode  :character   Mode  :character  \n",
       "                                                                            \n",
       "                                                                            \n",
       "                                                                            \n",
       "                                                                            \n",
       " TechSupport        StreamingTV        StreamingMovies      Contract        \n",
       " Length:7043        Length:7043        Length:7043        Length:7043       \n",
       " Class :character   Class :character   Class :character   Class :character  \n",
       " Mode  :character   Mode  :character   Mode  :character   Mode  :character  \n",
       "                                                                            \n",
       "                                                                            \n",
       "                                                                            \n",
       "                                                                            \n",
       " PaperlessBilling   PaymentMethod      MonthlyCharges    TotalCharges   \n",
       " Length:7043        Length:7043        Min.   : 18.25   Min.   :  18.8  \n",
       " Class :character   Class :character   1st Qu.: 35.50   1st Qu.: 401.4  \n",
       " Mode  :character   Mode  :character   Median : 70.35   Median :1397.5  \n",
       "                                       Mean   : 64.76   Mean   :2283.3  \n",
       "                                       3rd Qu.: 89.85   3rd Qu.:3794.7  \n",
       "                                       Max.   :118.75   Max.   :8684.8  \n",
       "                                                        NA's   :11      \n",
       "    Churn          \n",
       " Length:7043       \n",
       " Class :character  \n",
       " Mode  :character  \n",
       "                   \n",
       "                   \n",
       "                   \n",
       "                   "
      ]
     },
     "metadata": {},
     "output_type": "display_data"
    }
   ],
   "source": [
    "summary(data1)"
   ]
  },
  {
   "cell_type": "code",
   "execution_count": 16,
   "id": "47ad9048",
   "metadata": {},
   "outputs": [
    {
     "name": "stdout",
     "output_type": "stream",
     "text": [
      "Rows: 7,043\n",
      "Columns: 21\n",
      "$ customerID       <chr> \"7590-VHVEG\", \"5575-GNVDE\", \"3668-QPYBK\", \"7795-CFOCW~\n",
      "$ gender           <chr> \"Female\", \"Male\", \"Male\", \"Male\", \"Female\", \"Female\",~\n",
      "$ SeniorCitizen    <dbl> 0, 0, 0, 0, 0, 0, 0, 0, 0, 0, 0, 0, 0, 0, 0, 0, 0, 0,~\n",
      "$ Partner          <chr> \"Yes\", \"No\", \"No\", \"No\", \"No\", \"No\", \"No\", \"No\", \"Yes~\n",
      "$ Dependents       <chr> \"No\", \"No\", \"No\", \"No\", \"No\", \"No\", \"Yes\", \"No\", \"No\"~\n",
      "$ tenure           <dbl> 1, 34, 2, 45, 2, 8, 22, 10, 28, 62, 13, 16, 58, 49, 2~\n",
      "$ PhoneService     <chr> \"No\", \"Yes\", \"Yes\", \"No\", \"Yes\", \"Yes\", \"Yes\", \"No\", ~\n",
      "$ MultipleLines    <chr> \"No phone service\", \"No\", \"No\", \"No phone service\", \"~\n",
      "$ InternetService  <chr> \"DSL\", \"DSL\", \"DSL\", \"DSL\", \"Fiber optic\", \"Fiber opt~\n",
      "$ OnlineSecurity   <chr> \"No\", \"Yes\", \"Yes\", \"Yes\", \"No\", \"No\", \"No\", \"Yes\", \"~\n",
      "$ OnlineBackup     <chr> \"Yes\", \"No\", \"Yes\", \"No\", \"No\", \"No\", \"Yes\", \"No\", \"N~\n",
      "$ DeviceProtection <chr> \"No\", \"Yes\", \"No\", \"Yes\", \"No\", \"Yes\", \"No\", \"No\", \"Y~\n",
      "$ TechSupport      <chr> \"No\", \"No\", \"No\", \"Yes\", \"No\", \"No\", \"No\", \"No\", \"Yes~\n",
      "$ StreamingTV      <chr> \"No\", \"No\", \"No\", \"No\", \"No\", \"Yes\", \"Yes\", \"No\", \"Ye~\n",
      "$ StreamingMovies  <chr> \"No\", \"No\", \"No\", \"No\", \"No\", \"Yes\", \"No\", \"No\", \"Yes~\n",
      "$ Contract         <chr> \"Month-to-month\", \"One year\", \"Month-to-month\", \"One ~\n",
      "$ PaperlessBilling <chr> \"Yes\", \"No\", \"Yes\", \"No\", \"Yes\", \"Yes\", \"Yes\", \"No\", ~\n",
      "$ PaymentMethod    <chr> \"Electronic check\", \"Mailed check\", \"Mailed check\", \"~\n",
      "$ MonthlyCharges   <dbl> 29.85, 56.95, 53.85, 42.30, 70.70, 99.65, 89.10, 29.7~\n",
      "$ TotalCharges     <dbl> 29.85, 1889.50, 108.15, 1840.75, 151.65, 820.50, 1949~\n",
      "$ Churn            <chr> \"No\", \"No\", \"Yes\", \"No\", \"Yes\", \"Yes\", \"No\", \"No\", \"Y~\n"
     ]
    }
   ],
   "source": [
    "glimpse(data1)"
   ]
  },
  {
   "cell_type": "markdown",
   "id": "980fa702",
   "metadata": {},
   "source": [
    "## Checkin null value"
   ]
  },
  {
   "cell_type": "code",
   "execution_count": 18,
   "id": "2afb62ae",
   "metadata": {},
   "outputs": [
    {
     "data": {
      "text/html": [
       "FALSE"
      ],
      "text/latex": [
       "FALSE"
      ],
      "text/markdown": [
       "FALSE"
      ],
      "text/plain": [
       "[1] FALSE"
      ]
     },
     "metadata": {},
     "output_type": "display_data"
    }
   ],
   "source": [
    "is.null(data1)"
   ]
  },
  {
   "cell_type": "markdown",
   "id": "11c56725",
   "metadata": {},
   "source": [
    "## Dropping column"
   ]
  },
  {
   "cell_type": "code",
   "execution_count": 19,
   "id": "ea55c96a",
   "metadata": {},
   "outputs": [],
   "source": [
    "data1=data1 %>%\n",
    "    select(Churn,everything(),-c(customerID)) "
   ]
  },
  {
   "cell_type": "code",
   "execution_count": 20,
   "id": "b4c90e11",
   "metadata": {},
   "outputs": [
    {
     "data": {
      "text/html": [
       "<table>\n",
       "<thead><tr><th scope=col>Churn</th><th scope=col>gender</th><th scope=col>SeniorCitizen</th><th scope=col>Partner</th><th scope=col>Dependents</th><th scope=col>tenure</th><th scope=col>PhoneService</th><th scope=col>MultipleLines</th><th scope=col>InternetService</th><th scope=col>OnlineSecurity</th><th scope=col>OnlineBackup</th><th scope=col>DeviceProtection</th><th scope=col>TechSupport</th><th scope=col>StreamingTV</th><th scope=col>StreamingMovies</th><th scope=col>Contract</th><th scope=col>PaperlessBilling</th><th scope=col>PaymentMethod</th><th scope=col>MonthlyCharges</th><th scope=col>TotalCharges</th></tr></thead>\n",
       "<tbody>\n",
       "\t<tr><td>No                       </td><td>Female                   </td><td>0                        </td><td>Yes                      </td><td>No                       </td><td> 1                       </td><td>No                       </td><td>No phone service         </td><td>DSL                      </td><td>No                       </td><td>Yes                      </td><td>No                       </td><td>No                       </td><td>No                       </td><td>No                       </td><td>Month-to-month           </td><td>Yes                      </td><td>Electronic check         </td><td>29.85                    </td><td>  29.85                  </td></tr>\n",
       "\t<tr><td>No                       </td><td>Male                     </td><td>0                        </td><td>No                       </td><td>No                       </td><td>34                       </td><td>Yes                      </td><td>No                       </td><td>DSL                      </td><td>Yes                      </td><td>No                       </td><td>Yes                      </td><td>No                       </td><td>No                       </td><td>No                       </td><td>One year                 </td><td>No                       </td><td>Mailed check             </td><td>56.95                    </td><td>1889.50                  </td></tr>\n",
       "\t<tr><td>Yes                      </td><td>Male                     </td><td>0                        </td><td>No                       </td><td>No                       </td><td> 2                       </td><td>Yes                      </td><td>No                       </td><td>DSL                      </td><td>Yes                      </td><td>Yes                      </td><td>No                       </td><td>No                       </td><td>No                       </td><td>No                       </td><td>Month-to-month           </td><td>Yes                      </td><td>Mailed check             </td><td>53.85                    </td><td> 108.15                  </td></tr>\n",
       "\t<tr><td>No                       </td><td>Male                     </td><td>0                        </td><td>No                       </td><td>No                       </td><td>45                       </td><td>No                       </td><td>No phone service         </td><td>DSL                      </td><td>Yes                      </td><td>No                       </td><td>Yes                      </td><td>Yes                      </td><td>No                       </td><td>No                       </td><td>One year                 </td><td>No                       </td><td>Bank transfer (automatic)</td><td>42.30                    </td><td>1840.75                  </td></tr>\n",
       "\t<tr><td>Yes                      </td><td>Female                   </td><td>0                        </td><td>No                       </td><td>No                       </td><td> 2                       </td><td>Yes                      </td><td>No                       </td><td>Fiber optic              </td><td>No                       </td><td>No                       </td><td>No                       </td><td>No                       </td><td>No                       </td><td>No                       </td><td>Month-to-month           </td><td>Yes                      </td><td>Electronic check         </td><td>70.70                    </td><td> 151.65                  </td></tr>\n",
       "\t<tr><td>Yes                      </td><td>Female                   </td><td>0                        </td><td>No                       </td><td>No                       </td><td> 8                       </td><td>Yes                      </td><td>Yes                      </td><td>Fiber optic              </td><td>No                       </td><td>No                       </td><td>Yes                      </td><td>No                       </td><td>Yes                      </td><td>Yes                      </td><td>Month-to-month           </td><td>Yes                      </td><td>Electronic check         </td><td>99.65                    </td><td> 820.50                  </td></tr>\n",
       "</tbody>\n",
       "</table>\n"
      ],
      "text/latex": [
       "\\begin{tabular}{r|llllllllllllllllllll}\n",
       " Churn & gender & SeniorCitizen & Partner & Dependents & tenure & PhoneService & MultipleLines & InternetService & OnlineSecurity & OnlineBackup & DeviceProtection & TechSupport & StreamingTV & StreamingMovies & Contract & PaperlessBilling & PaymentMethod & MonthlyCharges & TotalCharges\\\\\n",
       "\\hline\n",
       "\t No                        & Female                    & 0                         & Yes                       & No                        &  1                        & No                        & No phone service          & DSL                       & No                        & Yes                       & No                        & No                        & No                        & No                        & Month-to-month            & Yes                       & Electronic check          & 29.85                     &   29.85                  \\\\\n",
       "\t No                        & Male                      & 0                         & No                        & No                        & 34                        & Yes                       & No                        & DSL                       & Yes                       & No                        & Yes                       & No                        & No                        & No                        & One year                  & No                        & Mailed check              & 56.95                     & 1889.50                  \\\\\n",
       "\t Yes                       & Male                      & 0                         & No                        & No                        &  2                        & Yes                       & No                        & DSL                       & Yes                       & Yes                       & No                        & No                        & No                        & No                        & Month-to-month            & Yes                       & Mailed check              & 53.85                     &  108.15                  \\\\\n",
       "\t No                        & Male                      & 0                         & No                        & No                        & 45                        & No                        & No phone service          & DSL                       & Yes                       & No                        & Yes                       & Yes                       & No                        & No                        & One year                  & No                        & Bank transfer (automatic) & 42.30                     & 1840.75                  \\\\\n",
       "\t Yes                       & Female                    & 0                         & No                        & No                        &  2                        & Yes                       & No                        & Fiber optic               & No                        & No                        & No                        & No                        & No                        & No                        & Month-to-month            & Yes                       & Electronic check          & 70.70                     &  151.65                  \\\\\n",
       "\t Yes                       & Female                    & 0                         & No                        & No                        &  8                        & Yes                       & Yes                       & Fiber optic               & No                        & No                        & Yes                       & No                        & Yes                       & Yes                       & Month-to-month            & Yes                       & Electronic check          & 99.65                     &  820.50                  \\\\\n",
       "\\end{tabular}\n"
      ],
      "text/markdown": [
       "\n",
       "| Churn | gender | SeniorCitizen | Partner | Dependents | tenure | PhoneService | MultipleLines | InternetService | OnlineSecurity | OnlineBackup | DeviceProtection | TechSupport | StreamingTV | StreamingMovies | Contract | PaperlessBilling | PaymentMethod | MonthlyCharges | TotalCharges |\n",
       "|---|---|---|---|---|---|---|---|---|---|---|---|---|---|---|---|---|---|---|---|\n",
       "| No                        | Female                    | 0                         | Yes                       | No                        |  1                        | No                        | No phone service          | DSL                       | No                        | Yes                       | No                        | No                        | No                        | No                        | Month-to-month            | Yes                       | Electronic check          | 29.85                     |   29.85                   |\n",
       "| No                        | Male                      | 0                         | No                        | No                        | 34                        | Yes                       | No                        | DSL                       | Yes                       | No                        | Yes                       | No                        | No                        | No                        | One year                  | No                        | Mailed check              | 56.95                     | 1889.50                   |\n",
       "| Yes                       | Male                      | 0                         | No                        | No                        |  2                        | Yes                       | No                        | DSL                       | Yes                       | Yes                       | No                        | No                        | No                        | No                        | Month-to-month            | Yes                       | Mailed check              | 53.85                     |  108.15                   |\n",
       "| No                        | Male                      | 0                         | No                        | No                        | 45                        | No                        | No phone service          | DSL                       | Yes                       | No                        | Yes                       | Yes                       | No                        | No                        | One year                  | No                        | Bank transfer (automatic) | 42.30                     | 1840.75                   |\n",
       "| Yes                       | Female                    | 0                         | No                        | No                        |  2                        | Yes                       | No                        | Fiber optic               | No                        | No                        | No                        | No                        | No                        | No                        | Month-to-month            | Yes                       | Electronic check          | 70.70                     |  151.65                   |\n",
       "| Yes                       | Female                    | 0                         | No                        | No                        |  8                        | Yes                       | Yes                       | Fiber optic               | No                        | No                        | Yes                       | No                        | Yes                       | Yes                       | Month-to-month            | Yes                       | Electronic check          | 99.65                     |  820.50                   |\n",
       "\n"
      ],
      "text/plain": [
       "  Churn gender SeniorCitizen Partner Dependents tenure PhoneService\n",
       "1 No    Female 0             Yes     No          1     No          \n",
       "2 No    Male   0             No      No         34     Yes         \n",
       "3 Yes   Male   0             No      No          2     Yes         \n",
       "4 No    Male   0             No      No         45     No          \n",
       "5 Yes   Female 0             No      No          2     Yes         \n",
       "6 Yes   Female 0             No      No          8     Yes         \n",
       "  MultipleLines    InternetService OnlineSecurity OnlineBackup DeviceProtection\n",
       "1 No phone service DSL             No             Yes          No              \n",
       "2 No               DSL             Yes            No           Yes             \n",
       "3 No               DSL             Yes            Yes          No              \n",
       "4 No phone service DSL             Yes            No           Yes             \n",
       "5 No               Fiber optic     No             No           No              \n",
       "6 Yes              Fiber optic     No             No           Yes             \n",
       "  TechSupport StreamingTV StreamingMovies Contract       PaperlessBilling\n",
       "1 No          No          No              Month-to-month Yes             \n",
       "2 No          No          No              One year       No              \n",
       "3 No          No          No              Month-to-month Yes             \n",
       "4 Yes         No          No              One year       No              \n",
       "5 No          No          No              Month-to-month Yes             \n",
       "6 No          Yes         Yes             Month-to-month Yes             \n",
       "  PaymentMethod             MonthlyCharges TotalCharges\n",
       "1 Electronic check          29.85            29.85     \n",
       "2 Mailed check              56.95          1889.50     \n",
       "3 Mailed check              53.85           108.15     \n",
       "4 Bank transfer (automatic) 42.30          1840.75     \n",
       "5 Electronic check          70.70           151.65     \n",
       "6 Electronic check          99.65           820.50     "
      ]
     },
     "metadata": {},
     "output_type": "display_data"
    }
   ],
   "source": [
    "head(data1)"
   ]
  },
  {
   "cell_type": "markdown",
   "id": "19f5cb83",
   "metadata": {},
   "source": [
    "## Sorting data"
   ]
  },
  {
   "cell_type": "code",
   "execution_count": 21,
   "id": "b7d13d8b",
   "metadata": {},
   "outputs": [
    {
     "data": {
      "text/html": [
       "<ol class=list-inline>\n",
       "\t<li>18.8</li>\n",
       "\t<li>18.85</li>\n",
       "\t<li>18.85</li>\n",
       "\t<li>18.9</li>\n",
       "\t<li>19</li>\n",
       "\t<li>19.05</li>\n",
       "</ol>\n"
      ],
      "text/latex": [
       "\\begin{enumerate*}\n",
       "\\item 18.8\n",
       "\\item 18.85\n",
       "\\item 18.85\n",
       "\\item 18.9\n",
       "\\item 19\n",
       "\\item 19.05\n",
       "\\end{enumerate*}\n"
      ],
      "text/markdown": [
       "1. 18.8\n",
       "2. 18.85\n",
       "3. 18.85\n",
       "4. 18.9\n",
       "5. 19\n",
       "6. 19.05\n",
       "\n",
       "\n"
      ],
      "text/plain": [
       "[1] 18.80 18.85 18.85 18.90 19.00 19.05"
      ]
     },
     "metadata": {},
     "output_type": "display_data"
    }
   ],
   "source": [
    "head(sort(data1$TotalCharges))"
   ]
  },
  {
   "cell_type": "code",
   "execution_count": 22,
   "id": "6287ed18",
   "metadata": {},
   "outputs": [
    {
     "data": {
      "text/html": [
       "<ol class=list-inline>\n",
       "\t<li>0</li>\n",
       "\t<li>0</li>\n",
       "\t<li>0</li>\n",
       "\t<li>0</li>\n",
       "\t<li>0</li>\n",
       "\t<li>0</li>\n",
       "\t<li>0</li>\n",
       "\t<li>0</li>\n",
       "\t<li>0</li>\n",
       "\t<li>0</li>\n",
       "\t<li>0</li>\n",
       "\t<li>1</li>\n",
       "\t<li>1</li>\n",
       "</ol>\n"
      ],
      "text/latex": [
       "\\begin{enumerate*}\n",
       "\\item 0\n",
       "\\item 0\n",
       "\\item 0\n",
       "\\item 0\n",
       "\\item 0\n",
       "\\item 0\n",
       "\\item 0\n",
       "\\item 0\n",
       "\\item 0\n",
       "\\item 0\n",
       "\\item 0\n",
       "\\item 1\n",
       "\\item 1\n",
       "\\end{enumerate*}\n"
      ],
      "text/markdown": [
       "1. 0\n",
       "2. 0\n",
       "3. 0\n",
       "4. 0\n",
       "5. 0\n",
       "6. 0\n",
       "7. 0\n",
       "8. 0\n",
       "9. 0\n",
       "10. 0\n",
       "11. 0\n",
       "12. 1\n",
       "13. 1\n",
       "\n",
       "\n"
      ],
      "text/plain": [
       " [1] 0 0 0 0 0 0 0 0 0 0 0 1 1"
      ]
     },
     "metadata": {},
     "output_type": "display_data"
    }
   ],
   "source": [
    "head(sort(data1$tenure),n=13)"
   ]
  },
  {
   "cell_type": "markdown",
   "id": "8a679288",
   "metadata": {},
   "source": [
    "## Removes duplicate rows based on each columns"
   ]
  },
  {
   "cell_type": "code",
   "execution_count": 23,
   "id": "0545a7a5",
   "metadata": {},
   "outputs": [
    {
     "data": {
      "text/html": [
       "<ol class=list-inline>\n",
       "\t<li>7021</li>\n",
       "\t<li>20</li>\n",
       "</ol>\n"
      ],
      "text/latex": [
       "\\begin{enumerate*}\n",
       "\\item 7021\n",
       "\\item 20\n",
       "\\end{enumerate*}\n"
      ],
      "text/markdown": [
       "1. 7021\n",
       "2. 20\n",
       "\n",
       "\n"
      ],
      "text/plain": [
       "[1] 7021   20"
      ]
     },
     "metadata": {},
     "output_type": "display_data"
    }
   ],
   "source": [
    "dim(distinct(data1)) "
   ]
  },
  {
   "cell_type": "markdown",
   "id": "bd1c4443",
   "metadata": {},
   "source": [
    "## Applying filte for EDA"
   ]
  },
  {
   "cell_type": "code",
   "execution_count": 24,
   "id": "cca07d39",
   "metadata": {},
   "outputs": [
    {
     "data": {
      "text/html": [
       "<ol class=list-inline>\n",
       "\t<li>1655</li>\n",
       "\t<li>20</li>\n",
       "</ol>\n"
      ],
      "text/latex": [
       "\\begin{enumerate*}\n",
       "\\item 1655\n",
       "\\item 20\n",
       "\\end{enumerate*}\n"
      ],
      "text/markdown": [
       "1. 1655\n",
       "2. 20\n",
       "\n",
       "\n"
      ],
      "text/plain": [
       "[1] 1655   20"
      ]
     },
     "metadata": {},
     "output_type": "display_data"
    }
   ],
   "source": [
    "dim(data1 %>% filter(data1$Churn == 'Yes', data1$Contract=='Month-to-month'))"
   ]
  },
  {
   "cell_type": "code",
   "execution_count": 25,
   "id": "3bcccec4",
   "metadata": {},
   "outputs": [
    {
     "data": {
      "text/html": [
       "<ol class=list-inline>\n",
       "\t<li>3875</li>\n",
       "\t<li>20</li>\n",
       "</ol>\n"
      ],
      "text/latex": [
       "\\begin{enumerate*}\n",
       "\\item 3875\n",
       "\\item 20\n",
       "\\end{enumerate*}\n"
      ],
      "text/markdown": [
       "1. 3875\n",
       "2. 20\n",
       "\n",
       "\n"
      ],
      "text/plain": [
       "[1] 3875   20"
      ]
     },
     "metadata": {},
     "output_type": "display_data"
    }
   ],
   "source": [
    "dim(data1 %>% filter( data1$Contract=='Month-to-month'))"
   ]
  },
  {
   "cell_type": "code",
   "execution_count": 26,
   "id": "61b435ab",
   "metadata": {},
   "outputs": [
    {
     "data": {
      "image/png": "[encoded data removed]",
      "text/plain": [
       "Plot with title \"Monthly charges vs. Total charges\""
      ]
     },
     "metadata": {},
     "output_type": "display_data"
    }
   ],
   "source": [
    "par(mfrow=c(2,2)) \n",
    "plot(data1$tenure~data1$MonthlyCharges,main='Tenure vs. Monthly charges',xlab='charges',ylab='Tenure',col=2)\n",
    "plot(data1$tenure~data1$TotalCharges,main='Tenure vs.Total Charges',xlab='charges',ylab='Tenure',col=3 )\n",
    "plot(data1$MonthlyCharges~data1$TotalCharges, main='Monthly charges vs. Total charges',xlab='Total',ylab='Monthly',col=5)\n",
    "par(mfrow=c(1,1))"
   ]
  },
  {
   "cell_type": "markdown",
   "id": "fa59cb56",
   "metadata": {},
   "source": [
    "Only a few things that stood out to me from the plots. \n",
    "There seems to be a gap in the area around total charges of 2000. \n",
    "As monthly charges increase the upper limite of total charges increases for the most part. \n",
    "Monthly charges between 25 and 40 seem to have a weak fill for tenure."
   ]
  },
  {
   "cell_type": "code",
   "execution_count": 27,
   "id": "b688331a",
   "metadata": {},
   "outputs": [
    {
     "data": {
      "image/png": "[encoded data removed]",
      "text/plain": [
       "Plot with title \"Monthly charges freq histo\""
      ]
     },
     "metadata": {},
     "output_type": "display_data"
    }
   ],
   "source": [
    "par(mfrow=c(2,2))\n",
    "\n",
    "b<-hist(data1$tenure,xlim=c(0,80),breaks=10,main='Tenure freq histo',ylab='freq',xlab='Tenure',col=2)\n",
    "text(b$mids,b$counts,labels=b$counts, adj=c(0.5, 1))\n",
    "\n",
    "e<-hist(data1$TotalCharges,xlim=c(0,10000),breaks=8,main='Total Charges freq histo',ylab='freq',xlab='Total Charges',col=3 )\n",
    "text(e$mids,e$counts,labels=e$counts, adj=c(0.5,1))\n",
    "\n",
    "t<-hist(data1$MonthlyCharges,xlim=c(0,120),breaks=8, main='Monthly charges freq histo',ylab='freq',xlab='Monthly charges',col=5)\n",
    "text(t$mids,t$counts,labels=t$counts, adj=c(0.5, 1))"
   ]
  },
  {
   "cell_type": "markdown",
   "id": "342e1d7e",
   "metadata": {},
   "source": [
    "Seems from the freq histograms that the large cluster of customers have high total charges (2904 customers). \n",
    "A large cluster of customers have a low teneure count (1970 customers). \n",
    "Monthly charges seem to be less skewed , but its interesting to see two extremely low clusters."
   ]
  },
  {
   "cell_type": "code",
   "execution_count": 28,
   "id": "814db600",
   "metadata": {},
   "outputs": [],
   "source": [
    "library(ggplot2)"
   ]
  },
  {
   "cell_type": "code",
   "execution_count": 29,
   "id": "cb45e10f",
   "metadata": {},
   "outputs": [
    {
     "name": "stderr",
     "output_type": "stream",
     "text": [
      "Warning message:\n",
      "\"Removed 11 rows containing non-finite values (stat_density).\""
     ]
    },
    {
     "data": {
      "image/png": "[encoded data removed]",
      "text/plain": [
       "plot without title"
      ]
     },
     "metadata": {},
     "output_type": "display_data"
    }
   ],
   "source": [
    "data1 %>% ggplot(aes(x=TotalCharges,fill=Churn))+ geom_density(alpha=0.8)+scale_fill_manual(values=c('red','yellow'))+labs(title='Total Charges desnisty split churn vs non churn' )"
   ]
  },
  {
   "cell_type": "markdown",
   "id": "f1c513e3",
   "metadata": {},
   "source": [
    "From 0 to roughly 1250 , and roughly around 2500 are locations that can be grouped as churn indicators."
   ]
  },
  {
   "cell_type": "code",
   "execution_count": 31,
   "id": "96b106cd",
   "metadata": {},
   "outputs": [
    {
     "data": {
      "image/png": "[encoded data removed]",
      "text/plain": [
       "plot without title"
      ]
     },
     "metadata": {},
     "output_type": "display_data"
    }
   ],
   "source": [
    "data1 %>% ggplot(aes(x=MonthlyCharges,fill=Churn))+ geom_density(alpha=0.8)+scale_fill_manual(values=c('green','blue'))+labs(title='Monthly Charges desnisty split churn vs non churn' )"
   ]
  },
  {
   "cell_type": "code",
   "execution_count": 32,
   "id": "3b28c4ed",
   "metadata": {},
   "outputs": [
    {
     "data": {
      "image/png": "[encoded data removed]",
      "text/plain": [
       "plot without title"
      ]
     },
     "metadata": {},
     "output_type": "display_data"
    }
   ],
   "source": [
    "data1 %>% ggplot(aes(x=tenure,fill=Churn))+ geom_density(alpha=0.8)+scale_fill_manual(values=c('pink','purple'))+labs(title='tenure desnisty split churn vs non churn' )"
   ]
  },
  {
   "cell_type": "code",
   "execution_count": null,
   "id": "dc4f94a4",
   "metadata": {},
   "outputs": [],
   "source": []
  }
 ],
 "metadata": {
  "kernelspec": {
   "display_name": "R",
   "language": "R",
   "name": "ir"
  },
  "language_info": {
   "codemirror_mode": "r",
   "file_extension": ".r",
   "mimetype": "text/x-r-source",
   "name": "R",
   "pygments_lexer": "r",
   "version": "3.6.1"
  }
 },
 "nbformat": 4,
 "nbformat_minor": 5
}
