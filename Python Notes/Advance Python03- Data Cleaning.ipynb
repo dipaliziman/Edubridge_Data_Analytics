{
 "cells": [
  {
   "cell_type": "markdown",
   "id": "3d195b6a",
   "metadata": {},
   "source": [
    "## Data Cleaning\n",
    "\n",
    "- data cleaning means fixing bad data in your dataset\n",
    "- Bad data could be empty set,wrong data duplicates, empty cell\n"
   ]
  },
  {
   "cell_type": "markdown",
   "id": "dae18f7e",
   "metadata": {},
   "source": [
    "## Handling missing values(Na 0r NAN) Using Python\n",
    "\n",
    "- using re-indexing we are creating dataframe with missing values \n",
    "\n",
    "\n"
   ]
  },
  {
   "cell_type": "markdown",
   "id": "8b1ab3c8",
   "metadata": {},
   "source": [
    "# import  "
   ]
  }
 ],
 "metadata": {
  "kernelspec": {
   "display_name": "Python 3 (ipykernel)",
   "language": "python",
   "name": "python3"
  },
  "language_info": {
   "codemirror_mode": {
    "name": "ipython",
    "version": 3
   },
   "file_extension": ".py",
   "mimetype": "text/x-python",
   "name": "python",
   "nbconvert_exporter": "python",
   "pygments_lexer": "ipython3",
   "version": "3.9.7"
  }
 },
 "nbformat": 4,
 "nbformat_minor": 5
}
