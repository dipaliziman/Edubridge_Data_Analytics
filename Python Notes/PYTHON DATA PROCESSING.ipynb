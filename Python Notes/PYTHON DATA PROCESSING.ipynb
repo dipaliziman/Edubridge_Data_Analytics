{
 "cells": [
  {
   "cell_type": "markdown",
   "id": "35653978",
   "metadata": {},
   "source": [
    "# DATA PROCESSING:\n",
    "    \n",
    "        > Using python we can export and import CSV data, JSON data, NoSQL data, relational databases.\n",
    "        > We will study the process of CSV file.\n",
    "        \n",
    "            1. Input as CSV file\n",
    "                > The CSV file is a text file in which the values in the column are seperated by commas.\n",
    "                > You can create a file using windows notepad with the some datas and save it using (.CSV) extension."
   ]
  },
  {
   "cell_type": "markdown",
   "id": "118c31bf",
   "metadata": {},
   "source": [
    "# Reading the CSV file:\n",
    "\n",
    "        > \n",
    "        > The function can read the files from the os by using the proper path to the file."
   ]
  },
  {
   "cell_type": "code",
   "execution_count": 2,
   "id": "0c0b1699",
   "metadata": {},
   "outputs": [
    {
     "data": {
      "text/html": [
       "<div>\n",
       "<style scoped>\n",
       "    .dataframe tbody tr th:only-of-type {\n",
       "        vertical-align: middle;\n",
       "    }\n",
       "\n",
       "    .dataframe tbody tr th {\n",
       "        vertical-align: top;\n",
       "    }\n",
       "\n",
       "    .dataframe thead th {\n",
       "        text-align: right;\n",
       "    }\n",
       "</style>\n",
       "<table border=\"1\" class=\"dataframe\">\n",
       "  <thead>\n",
       "    <tr style=\"text-align: right;\">\n",
       "      <th></th>\n",
       "      <th>id</th>\n",
       "      <th>name</th>\n",
       "      <th>salary</th>\n",
       "      <th>start_date</th>\n",
       "      <th>dept</th>\n",
       "    </tr>\n",
       "  </thead>\n",
       "  <tbody>\n",
       "    <tr>\n",
       "      <th>0</th>\n",
       "      <td>1</td>\n",
       "      <td>Rick</td>\n",
       "      <td>623.3</td>\n",
       "      <td>2012-01-01</td>\n",
       "      <td>IT</td>\n",
       "    </tr>\n",
       "    <tr>\n",
       "      <th>1</th>\n",
       "      <td>2</td>\n",
       "      <td>Dan</td>\n",
       "      <td>515.2</td>\n",
       "      <td>2013-09-23</td>\n",
       "      <td>Operations</td>\n",
       "    </tr>\n",
       "    <tr>\n",
       "      <th>2</th>\n",
       "      <td>3</td>\n",
       "      <td>Tusar</td>\n",
       "      <td>611.0</td>\n",
       "      <td>2014-11-15</td>\n",
       "      <td>IT</td>\n",
       "    </tr>\n",
       "  </tbody>\n",
       "</table>\n",
       "</div>"
      ],
      "text/plain": [
       "   id   name  salary  start_date        dept\n",
       "0   1   Rick   623.3  2012-01-01          IT\n",
       "1   2    Dan   515.2  2013-09-23  Operations\n",
       "2   3  Tusar   611.0  2014-11-15          IT"
      ]
     },
     "execution_count": 2,
     "metadata": {},
     "output_type": "execute_result"
    }
   ],
   "source": [
    "# Reading a CSV file:\n",
    "\n",
    "import pandas as pd\n",
    "data=pd.read_csv(\"Desktop/input.csv\")\n",
    "data"
   ]
  },
  {
   "cell_type": "markdown",
   "id": "a08961f9",
   "metadata": {},
   "source": [
    "# Reading specific rows:\n",
    "\n",
    "        > The read_csv of the pandas library can also be used to read some rows for a given column.\n",
    "        > We slice the result from read_csv function using the code shown below for first 2 rows for the column named \n",
    "          \"salary\""
   ]
  },
  {
   "cell_type": "code",
   "execution_count": 3,
   "id": "be5a2c66",
   "metadata": {},
   "outputs": [
    {
     "name": "stdout",
     "output_type": "stream",
     "text": [
      "0    623.3\n",
      "1    515.2\n",
      "Name: salary, dtype: float64\n"
     ]
    }
   ],
   "source": [
    "# We slice the result from read_csv function using the code shown below for first 2 rows for the column named \"salary\"\n",
    "# Slice the results for first 2 rows\n",
    "\n",
    "import pandas as pd\n",
    "data=pd.read_csv(\"Desktop/input.csv\")\n",
    "data \n",
    "print(data[0:2][\"salary\"])"
   ]
  },
  {
   "cell_type": "markdown",
   "id": "e9fe63e4",
   "metadata": {},
   "source": [
    "# Reading specific columns and rows:\n",
    "\n",
    "        > The read_csv of the pandas librarycan also be used to read some specific columns and specific rows.\n",
    "        > We use the multi-axes indexing method called \".loc()\" for dis purpose."
   ]
  },
  {
   "cell_type": "code",
   "execution_count": 6,
   "id": "67832791",
   "metadata": {},
   "outputs": [
    {
     "name": "stdout",
     "output_type": "stream",
     "text": [
      "   salary   name\n",
      "0   623.3   Rick\n",
      "2   611.0  Tusar\n"
     ]
    }
   ],
   "source": [
    "# uses multi-axes indexing function\n",
    "\n",
    "print(data.loc[[0,2],[\"salary\",\"name\"]])"
   ]
  },
  {
   "cell_type": "markdown",
   "id": "95da4f58",
   "metadata": {},
   "source": [
    "# Viewing the data:\n",
    "\n",
    "        > One of the most used method for getting a quick overview of the dataframe head()\n",
    "        > The head() method will return the headers and specified number of rows starting from the top."
   ]
  },
  {
   "cell_type": "code",
   "execution_count": 3,
   "id": "d52faeb2",
   "metadata": {},
   "outputs": [
    {
     "name": "stdout",
     "output_type": "stream",
     "text": [
      "   id   name  salary  start_date        dept\n",
      "0   1   Rick   623.3  2012-01-01          IT\n",
      "1   2    Dan   515.2  2013-09-23  Operations\n",
      "2   3  Tusar   611.0  2014-11-15          IT\n"
     ]
    }
   ],
   "source": [
    "import pandas as pd\n",
    "data=pd.read_csv(\"Desktop/input.csv\")\n",
    "\n",
    "print(data.head())"
   ]
  },
  {
   "cell_type": "markdown",
   "id": "9d78566a",
   "metadata": {},
   "source": [
    "# Tail():\n",
    "\n",
    "        > The tail() is the method for viewing the last rows of the dataframe.\n",
    "        > The tail() method returns the specified number of  rows starting from the bottom."
   ]
  },
  {
   "cell_type": "code",
   "execution_count": 4,
   "id": "0da795e0",
   "metadata": {},
   "outputs": [
    {
     "name": "stdout",
     "output_type": "stream",
     "text": [
      "   id   name  salary  start_date        dept\n",
      "0   1   Rick   623.3  2012-01-01          IT\n",
      "1   2    Dan   515.2  2013-09-23  Operations\n",
      "2   3  Tusar   611.0  2014-11-15          IT\n"
     ]
    }
   ],
   "source": [
    "print(data.tail())"
   ]
  },
  {
   "cell_type": "markdown",
   "id": "de8bc259",
   "metadata": {},
   "source": [
    "# Info() about the dataset:\n",
    "\n",
    "        > The dataframe has the object called info() that will gives you more information about the dataset."
   ]
  },
  {
   "cell_type": "code",
   "execution_count": 5,
   "id": "a520a06d",
   "metadata": {},
   "outputs": [
    {
     "name": "stdout",
     "output_type": "stream",
     "text": [
      "<class 'pandas.core.frame.DataFrame'>\n",
      "RangeIndex: 3 entries, 0 to 2\n",
      "Data columns (total 5 columns):\n",
      " #   Column      Non-Null Count  Dtype  \n",
      "---  ------      --------------  -----  \n",
      " 0   id          3 non-null      int64  \n",
      " 1   name        3 non-null      object \n",
      " 2   salary      3 non-null      float64\n",
      " 3   start_date  3 non-null      object \n",
      " 4   dept        3 non-null      object \n",
      "dtypes: float64(1), int64(1), object(3)\n",
      "memory usage: 248.0+ bytes\n",
      "None\n"
     ]
    }
   ],
   "source": [
    "print(data.info())"
   ]
  },
  {
   "cell_type": "markdown",
   "id": "b4785275",
   "metadata": {},
   "source": [
    "# Max rows:\n",
    "\n",
    "     > To check the max rows you can use (\"pd.options.display.max_rows\")"
   ]
  },
  {
   "cell_type": "markdown",
   "id": "6a8ae198",
   "metadata": {},
   "source": [
    "# Discovering duplicates/Removing duplicates:\n",
    "\n",
    "        > Duplicate rows are the rows that have been registerd more than one time.\n",
    "        > To discover duplicates we can use \"duplicated()\" method.\n",
    "        > The duplicated method returns the booleans values for each row.\n",
    "        > Returns TRUE for every row that is the duplicate otherwise FALSE."
   ]
  },
  {
   "cell_type": "code",
   "execution_count": 8,
   "id": "08a85f19",
   "metadata": {},
   "outputs": [
    {
     "name": "stdout",
     "output_type": "stream",
     "text": [
      "0    False\n",
      "1    False\n",
      "2    False\n",
      "dtype: bool\n"
     ]
    }
   ],
   "source": [
    "print(data.duplicated())"
   ]
  },
  {
   "cell_type": "code",
   "execution_count": 10,
   "id": "81f6e071",
   "metadata": {},
   "outputs": [
    {
     "name": "stdout",
     "output_type": "stream",
     "text": [
      "3\n"
     ]
    }
   ],
   "source": [
    "print(data.duplicated().count())"
   ]
  },
  {
   "cell_type": "code",
   "execution_count": null,
   "id": "58b6fd93",
   "metadata": {},
   "outputs": [],
   "source": []
  }
 ],
 "metadata": {
  "kernelspec": {
   "display_name": "Python 3 (ipykernel)",
   "language": "python",
   "name": "python3"
  },
  "language_info": {
   "codemirror_mode": {
    "name": "ipython",
    "version": 3
   },
   "file_extension": ".py",
   "mimetype": "text/x-python",
   "name": "python",
   "nbconvert_exporter": "python",
   "pygments_lexer": "ipython3",
   "version": "3.9.7"
  }
 },
 "nbformat": 4,
 "nbformat_minor": 5
}
