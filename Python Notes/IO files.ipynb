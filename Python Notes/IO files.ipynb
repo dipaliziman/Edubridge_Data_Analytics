{
 "cells": [
  {
   "cell_type": "markdown",
   "id": "81c3e217",
   "metadata": {},
   "source": [
    "##Python I/O files"
   ]
  },
  {
   "cell_type": "code",
   "execution_count": 3,
   "id": "abc55871",
   "metadata": {},
   "outputs": [
    {
     "name": "stdout",
     "output_type": "stream",
     "text": [
      "File is opened successfully\n"
     ]
    }
   ],
   "source": [
    "fileptr=open(\"testing.txt\",\"r\")\n",
    "if fileptr:\n",
    "    print(\"File is opened successfully\") "
   ]
  },
  {
   "cell_type": "code",
   "execution_count": 12,
   "id": "d9c8fde4",
   "metadata": {
    "scrolled": true
   },
   "outputs": [
    {
     "name": "stdout",
     "output_type": "stream",
     "text": [
      "Guido van Rosum created Python In the year 1960\n"
     ]
    }
   ],
   "source": [
    "with open(\"testing.txt\",\"r\") as f:\n",
    "    content=f.read()\n",
    "    print(content)"
   ]
  },
  {
   "cell_type": "code",
   "execution_count": 11,
   "id": "40932081",
   "metadata": {},
   "outputs": [],
   "source": [
    "fileptr=open(\"testing.txt\",\"w\")\n",
    "fileptr.write(\"Guido van Rosum created Python\")\n",
    "fileptr.write(\" In the year 1960\")#Writing text\n",
    "fileptr.close()"
   ]
  },
  {
   "cell_type": "code",
   "execution_count": 13,
   "id": "c0724469",
   "metadata": {},
   "outputs": [],
   "source": [
    "fileptr=open(\"testing.txt\",\"a\")\n",
    "fileptr.write(\"Python is an extensible language\")#appending text\n",
    "fileptr.close()"
   ]
  },
  {
   "cell_type": "code",
   "execution_count": 16,
   "id": "0fca054a",
   "metadata": {},
   "outputs": [
    {
     "name": "stdout",
     "output_type": "stream",
     "text": [
      "<class 'str'>\n",
      "Guido\n"
     ]
    }
   ],
   "source": [
    "fileptr=open(\"testing.txt\",\"r\")\n",
    "content=fileptr.read(5)\n",
    "print(type(content))\n",
    "print(content)"
   ]
  },
  {
   "cell_type": "code",
   "execution_count": 17,
   "id": "23abbd60",
   "metadata": {},
   "outputs": [
    {
     "name": "stdout",
     "output_type": "stream",
     "text": [
      "Guido van Rosum created Python \n",
      "\n",
      "\n",
      "\n",
      "In the year 1960\n",
      "\n",
      "\n",
      "\n",
      "Python is an extensible language\n"
     ]
    }
   ],
   "source": [
    "fileptr=open(\"testing.txt\",\"r\")\n",
    "for i in fileptr:\n",
    "    print(i)"
   ]
  },
  {
   "cell_type": "code",
   "execution_count": 22,
   "id": "3e0a5ab4",
   "metadata": {},
   "outputs": [
    {
     "name": "stdout",
     "output_type": "stream",
     "text": [
      "Guido van Rosum created Python \n",
      "\n",
      "In the year 1960\n",
      "\n",
      "Python is an extensible language\n"
     ]
    }
   ],
   "source": [
    "fileptr=open(\"testing.txt\",\"r\")\n",
    "content=fileptr.readline()\n",
    "content1=fileptr.readline()\n",
    "content2=fileptr.readline()\n",
    "print(content)\n",
    "print(content1)\n",
    "print(content2)"
   ]
  },
  {
   "cell_type": "code",
   "execution_count": null,
   "id": "e27de07e",
   "metadata": {},
   "outputs": [],
   "source": []
  }
 ],
 "metadata": {
  "kernelspec": {
   "display_name": "Python 3",
   "language": "python",
   "name": "python3"
  },
  "language_info": {
   "codemirror_mode": {
    "name": "ipython",
    "version": 3
   },
   "file_extension": ".py",
   "mimetype": "text/x-python",
   "name": "python",
   "nbconvert_exporter": "python",
   "pygments_lexer": "ipython3",
   "version": "3.8.8"
  }
 },
 "nbformat": 4,
 "nbformat_minor": 5
}
