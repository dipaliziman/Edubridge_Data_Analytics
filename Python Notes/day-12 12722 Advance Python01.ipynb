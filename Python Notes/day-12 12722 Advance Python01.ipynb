{
 "cells": [
  {
   "cell_type": "markdown",
   "id": "2c87b87c",
   "metadata": {},
   "source": [
    "At end of the module you will able to understand\n",
    "__1.the various libraries in Python \n",
    "__2. various operation using pandas and numpy \n",
    "__3. Data Cleaning operation\n",
    "__4. data processing \n",
    "__5.Data Wrangling/Munging(data cleaning) \n",
    "__6.Data visualizing "
   ]
  },
  {
   "cell_type": "markdown",
   "id": "79917bb4",
   "metadata": {},
   "source": [
    "## Python Libraries"
   ]
  },
  {
   "cell_type": "markdown",
   "id": "4393c12a",
   "metadata": {},
   "source": [
    "following are the few important libraries which is used for scientific computation and analysis\n",
    "__1 Pandas\n",
    "          Pandas are used for structure data operations and manipulations.\n",
    "          it is extensively used in data scienties communities\n",
    "\n",
    "__2.Numpy\n",
    "          stands for numerical python.one of the most powerful feature is n-dimensional arreys.This library also contains basic linear algebra functions, fouriers transforms, advance random number capabilities and tools for integration with high/low level languages.\n",
    "\n",
    "__3.Matplotlib \n",
    "           1.it is used for vast varieties of graphs starting from histograms to line plot to heat plot. \n",
    "           2.you can use pylab feature in ipython notebook(inline)\n",
    "\n",
    "__4.SciPy\n",
    "        Stands for scientific python. it is build on numpy.it is one of the most useful libraries for variety of high level science and engineering modules, discrete Fourier transform,Linear Algebra,Sparse matrices,optimisation. \n",
    "     \n",
    "__5.scikit\n",
    "        build on numpy,sciPy and matplotlib,thislibrary contains lot of efficient tool for machine learning and statistical modeling including classification,regression, clustering etc \n",
    "        \n",
    "__Additional Libraries you Might need :\n",
    "       Os for Operating system and file operation\n",
    "       networkX and igraph for data manipulation\n",
    "       Regular Expression for finding patterns in text data\n",
    "       BeautifulSoup for Scrappig the web. it will extract information from just single webpage \n",
    "  \n",
    "                "
   ]
  },
  {
   "cell_type": "markdown",
   "id": "5ed0f833",
   "metadata": {},
   "source": [
    "## 1.Pandas"
   ]
  },
  {
   "cell_type": "markdown",
   "id": "796a02a8",
   "metadata": {},
   "source": [
    "__1.pandas is one of the most useful data analysis library in python\n",
    "\n",
    "__2.it is open source-python library used for high performance data manipulation and data analysis using its powerful data structure\n",
    "\n",
    "__3.python with pandas is used in variety of academic and commercial domains including finance,statistics,web analytic and many more\n",
    "\n",
    "__4.using pandas we can accomplish  five typical tasks for processing and analysis of data (load,organize,manipulate,model and analyse the data)\n",
    "\n",
    "__5.Two Key  data structure are \"series and dataframes(df)\""
   ]
  },
  {
   "cell_type": "markdown",
   "id": "bee9a1eb",
   "metadata": {},
   "source": [
    "__1. Series\n",
    "   one-Dimentional array-like structure with homogeneous data\n",
    " \n",
    " # for  example-- \n",
    " \n",
    " Collection of integers like 10,20,30,42,41,......\n",
    "__Key points\n",
    " \n",
    " 1.Homogeneous data\n",
    " 2.size immutable(doesnt change)\n",
    " 3. values of data mutable (changable)\n",
    "\n",
    "__2.DataFrames (df) \n",
    "     Two-dimentional arrays with heterogeneous data\n",
    "     \n",
    " # for Example\n",
    " \n",
    "   name,age,salary,rating in table format(rows and column format)\n",
    "   \n",
    "__Key Point\n",
    "\n",
    "1. Heterogeneous data\n",
    "2.size mutable(changable)\n",
    "3.values of data mutable(changable)\n",
    " "
   ]
  },
  {
   "cell_type": "markdown",
   "id": "8955fd2a",
   "metadata": {},
   "source": [
    "## Pandas Series example\n"
   ]
  },
  {
   "cell_type": "code",
   "execution_count": 8,
   "id": "c2bfc07a",
   "metadata": {},
   "outputs": [
    {
     "name": "stdout",
     "output_type": "stream",
     "text": [
      "0    1\n",
      "1    2\n",
      "2    3\n",
      "dtype: int64\n",
      "3\n"
     ]
    },
    {
     "data": {
      "text/plain": [
       "2"
      ]
     },
     "execution_count": 8,
     "metadata": {},
     "output_type": "execute_result"
    }
   ],
   "source": [
    "#create simple pandas series from a list\n",
    "import pandas as pd\n",
    "a=[1,2,3]\n",
    "my_var=pd.Series(a) #series function call\n",
    "print(my_var)  #varriable with print\n",
    "print(my_var[2])   # index calling variable with print\n",
    "#my_var # calling variable without print\n",
    "my_var[1]  # index calling variable without print"
   ]
  },
  {
   "cell_type": "markdown",
   "id": "7a1caf9e",
   "metadata": {},
   "source": [
    "## Create Labels\n",
    "with the index argument you can name your own labels"
   ]
  },
  {
   "cell_type": "code",
   "execution_count": 11,
   "id": "df58b2b3",
   "metadata": {},
   "outputs": [
    {
     "name": "stdout",
     "output_type": "stream",
     "text": [
      "x    1\n",
      "y    2\n",
      "z    3\n",
      "dtype: int64\n",
      "3\n"
     ]
    }
   ],
   "source": [
    "a=[1,2,3]\n",
    "my_var=pd.Series(a,index=[\"x\",\"y\",\"z\"]) #creating indexes with label series function \n",
    "print(my_var)  #varriable with print\n",
    "print(my_var[\"z\"])\n"
   ]
  },
  {
   "cell_type": "markdown",
   "id": "0dfdb408",
   "metadata": {},
   "source": [
    "## Key/Value Objects as series\n",
    "\n",
    "You can also use a key/value as object like dictionary when creating Series"
   ]
  },
  {
   "cell_type": "code",
   "execution_count": 15,
   "id": "66fafbec",
   "metadata": {},
   "outputs": [
    {
     "data": {
      "text/plain": [
       "day1    420\n",
       "day2    320\n",
       "day3    390\n",
       "dtype: int64"
      ]
     },
     "execution_count": 15,
     "metadata": {},
     "output_type": "execute_result"
    }
   ],
   "source": [
    "calories={\"day1\":420,\n",
    "          \"day2\":320,\n",
    "         \"day3\":390}\n",
    "my_var1=pd.Series(calories)\n",
    "my_var1\n",
    "#my_var1[2]"
   ]
  },
  {
   "cell_type": "markdown",
   "id": "78bcddf5",
   "metadata": {},
   "source": [
    "## Data Frames\n",
    "it is in table format,it is whole table format"
   ]
  },
  {
   "cell_type": "code",
   "execution_count": 29,
   "id": "43dd0b13",
   "metadata": {},
   "outputs": [
    {
     "data": {
      "text/html": [
       "<div>\n",
       "<style scoped>\n",
       "    .dataframe tbody tr th:only-of-type {\n",
       "        vertical-align: middle;\n",
       "    }\n",
       "\n",
       "    .dataframe tbody tr th {\n",
       "        vertical-align: top;\n",
       "    }\n",
       "\n",
       "    .dataframe thead th {\n",
       "        text-align: right;\n",
       "    }\n",
       "</style>\n",
       "<table border=\"1\" class=\"dataframe\">\n",
       "  <thead>\n",
       "    <tr style=\"text-align: right;\">\n",
       "      <th></th>\n",
       "      <th>calories</th>\n",
       "      <th>Duration</th>\n",
       "    </tr>\n",
       "  </thead>\n",
       "  <tbody>\n",
       "    <tr>\n",
       "      <th>0</th>\n",
       "      <td>420</td>\n",
       "      <td>40</td>\n",
       "    </tr>\n",
       "    <tr>\n",
       "      <th>1</th>\n",
       "      <td>320</td>\n",
       "      <td>30</td>\n",
       "    </tr>\n",
       "    <tr>\n",
       "      <th>2</th>\n",
       "      <td>390</td>\n",
       "      <td>20</td>\n",
       "    </tr>\n",
       "  </tbody>\n",
       "</table>\n",
       "</div>"
      ],
      "text/plain": [
       "   calories  Duration\n",
       "0       420        40\n",
       "1       320        30\n",
       "2       390        20"
      ]
     },
     "execution_count": 29,
     "metadata": {},
     "output_type": "execute_result"
    }
   ],
   "source": [
    "# Creat a data frame from 2 series\n",
    "data={\"calories\":[420,320,390],\n",
    "     \"Duration\":[40,30,20]}\n",
    "my_var2= pd.DataFrame(data)\n",
    "my_var2"
   ]
  },
  {
   "cell_type": "code",
   "execution_count": 31,
   "id": "939b2313",
   "metadata": {},
   "outputs": [
    {
     "data": {
      "text/html": [
       "<div>\n",
       "<style scoped>\n",
       "    .dataframe tbody tr th:only-of-type {\n",
       "        vertical-align: middle;\n",
       "    }\n",
       "\n",
       "    .dataframe tbody tr th {\n",
       "        vertical-align: top;\n",
       "    }\n",
       "\n",
       "    .dataframe thead th {\n",
       "        text-align: right;\n",
       "    }\n",
       "</style>\n",
       "<table border=\"1\" class=\"dataframe\">\n",
       "  <thead>\n",
       "    <tr style=\"text-align: right;\">\n",
       "      <th></th>\n",
       "      <th>name</th>\n",
       "      <th>age</th>\n",
       "      <th>salary</th>\n",
       "    </tr>\n",
       "  </thead>\n",
       "  <tbody>\n",
       "    <tr>\n",
       "      <th>0</th>\n",
       "      <td>chandu</td>\n",
       "      <td>25</td>\n",
       "      <td>10000</td>\n",
       "    </tr>\n",
       "    <tr>\n",
       "      <th>1</th>\n",
       "      <td>dipali</td>\n",
       "      <td>25</td>\n",
       "      <td>20000</td>\n",
       "    </tr>\n",
       "    <tr>\n",
       "      <th>2</th>\n",
       "      <td>ayesha</td>\n",
       "      <td>24</td>\n",
       "      <td>30000</td>\n",
       "    </tr>\n",
       "  </tbody>\n",
       "</table>\n",
       "</div>"
      ],
      "text/plain": [
       "     name  age  salary\n",
       "0  chandu   25   10000\n",
       "1  dipali   25   20000\n",
       "2  ayesha   24   30000"
      ]
     },
     "execution_count": 31,
     "metadata": {},
     "output_type": "execute_result"
    }
   ],
   "source": [
    "data1={\"name\":[\"chandu\",\"dipali\",\"ayesha\"],\n",
    "       \"age\":[25,25,24],\n",
    "     \"salary\":[10000,20000,30000]}\n",
    "df= pd.DataFrame(data1)\n",
    "df"
   ]
  },
  {
   "cell_type": "code",
   "execution_count": 38,
   "id": "0244157b",
   "metadata": {
    "scrolled": true
   },
   "outputs": [
    {
     "data": {
      "text/html": [
       "<div>\n",
       "<style scoped>\n",
       "    .dataframe tbody tr th:only-of-type {\n",
       "        vertical-align: middle;\n",
       "    }\n",
       "\n",
       "    .dataframe tbody tr th {\n",
       "        vertical-align: top;\n",
       "    }\n",
       "\n",
       "    .dataframe thead th {\n",
       "        text-align: right;\n",
       "    }\n",
       "</style>\n",
       "<table border=\"1\" class=\"dataframe\">\n",
       "  <thead>\n",
       "    <tr style=\"text-align: right;\">\n",
       "      <th></th>\n",
       "      <th>name</th>\n",
       "      <th>age</th>\n",
       "      <th>salary</th>\n",
       "    </tr>\n",
       "  </thead>\n",
       "  <tbody>\n",
       "    <tr>\n",
       "      <th>rank 1</th>\n",
       "      <td>chandu</td>\n",
       "      <td>25</td>\n",
       "      <td>10000</td>\n",
       "    </tr>\n",
       "    <tr>\n",
       "      <th>rank 2</th>\n",
       "      <td>dipali</td>\n",
       "      <td>25</td>\n",
       "      <td>20000</td>\n",
       "    </tr>\n",
       "    <tr>\n",
       "      <th>rank 3</th>\n",
       "      <td>ayesha</td>\n",
       "      <td>24</td>\n",
       "      <td>30000</td>\n",
       "    </tr>\n",
       "  </tbody>\n",
       "</table>\n",
       "</div>"
      ],
      "text/plain": [
       "          name  age  salary\n",
       "rank 1  chandu   25   10000\n",
       "rank 2  dipali   25   20000\n",
       "rank 3  ayesha   24   30000"
      ]
     },
     "execution_count": 38,
     "metadata": {},
     "output_type": "execute_result"
    }
   ],
   "source": [
    "data1={\"name\":[\"chandu\",\"dipali\",\"ayesha\"],\n",
    "       \"age\":[25,25,24],\n",
    "     \"salary\":[10000,20000,30000]}\n",
    "df= pd.DataFrame(data1,index=[\"rank 1\",\"rank 2\",\"rank 3\"])\n",
    "df"
   ]
  },
  {
   "cell_type": "markdown",
   "id": "fdb0b727",
   "metadata": {},
   "source": [
    "\n"
   ]
  },
  {
   "cell_type": "code",
   "execution_count": null,
   "id": "e34ef581",
   "metadata": {},
   "outputs": [],
   "source": []
  },
  {
   "cell_type": "code",
   "execution_count": null,
   "id": "478c0ecf",
   "metadata": {},
   "outputs": [],
   "source": []
  },
  {
   "cell_type": "code",
   "execution_count": null,
   "id": "81689989",
   "metadata": {},
   "outputs": [],
   "source": []
  }
 ],
 "metadata": {
  "kernelspec": {
   "display_name": "Python 3 (ipykernel)",
   "language": "python",
   "name": "python3"
  },
  "language_info": {
   "codemirror_mode": {
    "name": "ipython",
    "version": 3
   },
   "file_extension": ".py",
   "mimetype": "text/x-python",
   "name": "python",
   "nbconvert_exporter": "python",
   "pygments_lexer": "ipython3",
   "version": "3.9.7"
  }
 },
 "nbformat": 4,
 "nbformat_minor": 5
}
