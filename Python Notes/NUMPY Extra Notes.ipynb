{
 "cells": [
  {
   "cell_type": "markdown",
   "id": "5b25e133",
   "metadata": {},
   "source": [
    "# Numpy array indexing\n",
    "\n",
    "__1. Accessing 2-D arrays: To access elements from 2-D array we can use commas seperate integers representing the \n",
    "                           dimensions and index of the element.\n",
    "                         "
   ]
  },
  {
   "cell_type": "code",
   "execution_count": 2,
   "id": "9d99e0da",
   "metadata": {},
   "outputs": [
    {
     "name": "stdout",
     "output_type": "stream",
     "text": [
      "Second element on first row: 2\n"
     ]
    }
   ],
   "source": [
    "import numpy as np\n",
    "\n",
    "arr=np.array([[1,2,3,4,5], [6,7,8,9,10]])\n",
    "print(\"Second element on first row:\",arr[0,1])"
   ]
  },
  {
   "cell_type": "code",
   "execution_count": 4,
   "id": "9a70f099",
   "metadata": {},
   "outputs": [
    {
     "name": "stdout",
     "output_type": "stream",
     "text": [
      "Fifth element on second row: 10\n"
     ]
    }
   ],
   "source": [
    "import numpy as np\n",
    "\n",
    "arr=np.array([[1,2,3,4,5], [6,7,8,9,10]])\n",
    "print(\"Fifth element on second row:\",arr[1,4])"
   ]
  },
  {
   "cell_type": "markdown",
   "id": "f660dd40",
   "metadata": {},
   "source": [
    "# Negative Indexing:\n",
    "\n",
    "Use negative indexing to access an array from the end."
   ]
  },
  {
   "cell_type": "code",
   "execution_count": 5,
   "id": "e7015297",
   "metadata": {},
   "outputs": [
    {
     "name": "stdout",
     "output_type": "stream",
     "text": [
      "Last element from second dimension: 10\n"
     ]
    }
   ],
   "source": [
    "import numpy as np\n",
    "\n",
    "arr=np.array([[1,2,3,4,5], [6,7,8,9,10]])\n",
    "print(\"Last element from second dimension:\",arr[1,-1])"
   ]
  },
  {
   "cell_type": "markdown",
   "id": "126892b7",
   "metadata": {},
   "source": [
    "# Numpy array copy vs view:\n",
    "\n",
    "        > The main difference between a copy and a view of an array is that, the copy is the new array, and view is just the view of the original array.\n",
    "        > The copy owns the data and any changes made to the copy will not affect the original array, and the any changes made to the original array will not effect the copy.\n",
    "        > The view does'nt own the data and any changes made to the view will affect the original array, and any changes made the original array will effect the view."
   ]
  },
  {
   "cell_type": "code",
   "execution_count": 9,
   "id": "2f4e883e",
   "metadata": {},
   "outputs": [
    {
     "name": "stdout",
     "output_type": "stream",
     "text": [
      "[42  2  3  4  5]\n",
      "[1 2 3 4 5]\n"
     ]
    }
   ],
   "source": [
    "# copy()\n",
    "# make a copy change the original array and display both the arrays\n",
    "\n",
    "import numpy as np\n",
    "array=np.array([1,2,3,4,5])\n",
    "x=array.copy()\n",
    "array[0]=42\n",
    "print(array)\n",
    "print(x)\n",
    "\n",
    "\n",
    "# NOTE: The copy SHOULD NOT be affected  by the changes made to the original array."
   ]
  },
  {
   "cell_type": "code",
   "execution_count": 10,
   "id": "47a71604",
   "metadata": {},
   "outputs": [
    {
     "name": "stdout",
     "output_type": "stream",
     "text": [
      "[42  2  3  4  5]\n",
      "[42  2  3  4  5]\n"
     ]
    }
   ],
   "source": [
    "# view()\n",
    "# make a view change the original array and display both the arrays\n",
    "\n",
    "import numpy as np\n",
    "array=np.array([1,2,3,4,5])\n",
    "x=array.view()\n",
    "array[0]=42\n",
    "print(array)\n",
    "print(x)\n",
    "\n",
    "\n",
    "# NOTE: The view SHOULD be affected by the changes made to the original array."
   ]
  },
  {
   "cell_type": "markdown",
   "id": "7efa8ab2",
   "metadata": {},
   "source": [
    "# Numpy Array Shape:\n",
    "    \n",
    "        > The shape of an array is the number of elements in each dimensions.\n",
    "        > Numpy array have an attribute called \"SHAPE\"."
   ]
  },
  {
   "cell_type": "code",
   "execution_count": 11,
   "id": "21ccb4c5",
   "metadata": {},
   "outputs": [
    {
     "name": "stdout",
     "output_type": "stream",
     "text": [
      "(2, 4)\n"
     ]
    }
   ],
   "source": [
    "import numpy as np\n",
    "\n",
    "array=np.array([[1, 2, 3, 4], [5, 6, 7, 8]])\n",
    "print(array.shape)\n",
    "\n",
    "\n",
    "# The example above (2,4) which means that, the array has 2-dimensions where the first has 2 elements and second has 4 \n",
    "# elements"
   ]
  },
  {
   "cell_type": "markdown",
   "id": "ecc4a029",
   "metadata": {},
   "source": [
    "# Numpy array reshaping:\n",
    "\n",
    "            > Reshaping means changing the shape of an array.\n",
    "            > The shape of an array is the number of dimensions in each elements.\n",
    "            > By reshaping we can add or remove dimensions or change number of elements in each dimensions."
   ]
  },
  {
   "cell_type": "code",
   "execution_count": 12,
   "id": "7b30c790",
   "metadata": {},
   "outputs": [
    {
     "name": "stdout",
     "output_type": "stream",
     "text": [
      "[[ 1  2  3]\n",
      " [ 4  5  6]\n",
      " [ 7  8  9]\n",
      " [10 11 12]]\n"
     ]
    }
   ],
   "source": [
    "# Reshaping from 1-D to 2-D\n",
    "# Converting the following 1-D array with 12 elements into a 2-D array.\n",
    "\n",
    "import numpy as np\n",
    "\n",
    "array=np.array([1,2,3,4,5,6,7,8,9,10,11,12])\n",
    "new_array=array.reshape(4,3)\n",
    "print(new_array)"
   ]
  },
  {
   "cell_type": "code",
   "execution_count": 13,
   "id": "506a1107",
   "metadata": {},
   "outputs": [
    {
     "name": "stdout",
     "output_type": "stream",
     "text": [
      "[[[ 1  2]\n",
      "  [ 3  4]\n",
      "  [ 5  6]]\n",
      "\n",
      " [[ 7  8]\n",
      "  [ 9 10]\n",
      "  [11 12]]]\n"
     ]
    }
   ],
   "source": [
    "# Reshaping from 1-D to 3-D\n",
    "\n",
    "import numpy as np\n",
    "\n",
    "array=np.array([1,2,3,4,5,6,7,8,9,10,11,12])\n",
    "new_array=array.reshape(2,3,2)\n",
    "print(new_array)"
   ]
  },
  {
   "cell_type": "markdown",
   "id": "17b40d5e",
   "metadata": {},
   "source": [
    "# Numpy array iterating:\n",
    "\n",
    "        > Iterating means going to elements one-by-one.\n",
    "        > As, we deal with multi-dimensional arrays in numpy we can use it by for loop in python.\n",
    "        > If we iterate on a 1-D array it will go through each element one by one."
   ]
  },
  {
   "cell_type": "code",
   "execution_count": 14,
   "id": "5c03a5b6",
   "metadata": {},
   "outputs": [
    {
     "name": "stdout",
     "output_type": "stream",
     "text": [
      "1\n",
      "2\n",
      "3\n",
      "4\n",
      "5\n"
     ]
    }
   ],
   "source": [
    "array=np.array([1,2,3,4,5])\n",
    "for x in array:\n",
    "    print(x)"
   ]
  },
  {
   "cell_type": "markdown",
   "id": "c1d43036",
   "metadata": {},
   "source": [
    "# Iterating 2-D arrays:"
   ]
  },
  {
   "cell_type": "code",
   "execution_count": 16,
   "id": "a46708e1",
   "metadata": {},
   "outputs": [
    {
     "name": "stdout",
     "output_type": "stream",
     "text": [
      "[1 2 3]\n",
      "[4 5 6]\n"
     ]
    }
   ],
   "source": [
    "array=np.array([[1,2,3],[4,5,6]])\n",
    "for x in array:\n",
    "    print(x)"
   ]
  },
  {
   "cell_type": "markdown",
   "id": "f9793fa5",
   "metadata": {},
   "source": [
    "# Numpy Joining array:\n",
    "\n",
    "        > Joining means putting contents of 2 or more arrays in single array.\n",
    "        > We pass a sequence of arrays that we want to join to concatenate function along with the axis.\n",
    "        > If the axis is not explicitly pass it will be taken zero."
   ]
  },
  {
   "cell_type": "code",
   "execution_count": 18,
   "id": "f69fceb8",
   "metadata": {},
   "outputs": [
    {
     "data": {
      "text/plain": [
       "array([1, 2, 3, 4, 5, 6])"
      ]
     },
     "execution_count": 18,
     "metadata": {},
     "output_type": "execute_result"
    }
   ],
   "source": [
    "array1=np.array([1,2,3])\n",
    "array2=np.array([4,5,6])\n",
    "\n",
    "new_array=np.concatenate((array1,array2))\n",
    "new_array"
   ]
  },
  {
   "cell_type": "code",
   "execution_count": 21,
   "id": "21a754d3",
   "metadata": {},
   "outputs": [
    {
     "data": {
      "text/plain": [
       "array([[1, 2, 5, 6],\n",
       "       [3, 4, 7, 8]])"
      ]
     },
     "execution_count": 21,
     "metadata": {},
     "output_type": "execute_result"
    }
   ],
   "source": [
    "array1=np.array([[1,2],[3,4]])\n",
    "array2=np.array([[5,6],[7,8]])\n",
    "\n",
    "new_array=np.concatenate((array1,array2),axis=1)\n",
    "new_array"
   ]
  },
  {
   "cell_type": "code",
   "execution_count": 22,
   "id": "1b93b2eb",
   "metadata": {},
   "outputs": [
    {
     "data": {
      "text/plain": [
       "array([[1, 2],\n",
       "       [3, 4],\n",
       "       [5, 6],\n",
       "       [7, 8]])"
      ]
     },
     "execution_count": 22,
     "metadata": {},
     "output_type": "execute_result"
    }
   ],
   "source": [
    "array1=np.array([[1,2],[3,4]])\n",
    "array2=np.array([[5,6],[7,8]])\n",
    "\n",
    "new_array=np.concatenate((array1,array2),axis=0)\n",
    "new_array"
   ]
  },
  {
   "cell_type": "markdown",
   "id": "6f41e8bd",
   "metadata": {},
   "source": [
    "# Joining arrays using stack function:\n",
    "\n",
    "        > Stack is same as concatenation, the only difference is that stacking is done along the new axis.\n",
    "        > We pass a sequence of array that we want to join the stack method."
   ]
  },
  {
   "cell_type": "code",
   "execution_count": 23,
   "id": "693a8a62",
   "metadata": {},
   "outputs": [
    {
     "data": {
      "text/plain": [
       "array([[1, 4],\n",
       "       [2, 5],\n",
       "       [3, 6]])"
      ]
     },
     "execution_count": 23,
     "metadata": {},
     "output_type": "execute_result"
    }
   ],
   "source": [
    "array1=np.array([1,2,3])\n",
    "array2=np.array([4,5,6])\n",
    "\n",
    "new_array=np.stack((array1,array2),axis=1)\n",
    "new_array"
   ]
  },
  {
   "cell_type": "code",
   "execution_count": 25,
   "id": "08d88407",
   "metadata": {},
   "outputs": [
    {
     "data": {
      "text/plain": [
       "array([[1, 2, 3],\n",
       "       [4, 5, 6]])"
      ]
     },
     "execution_count": 25,
     "metadata": {},
     "output_type": "execute_result"
    }
   ],
   "source": [
    "array1=np.array([1,2,3])\n",
    "array2=np.array([4,5,6])\n",
    "\n",
    "new_array=np.stack((array1,array2),axis=0)\n",
    "new_array"
   ]
  },
  {
   "cell_type": "code",
   "execution_count": null,
   "id": "24565210",
   "metadata": {},
   "outputs": [],
   "source": []
  },
  {
   "cell_type": "code",
   "execution_count": null,
   "id": "b915e74a",
   "metadata": {},
   "outputs": [],
   "source": []
  },
  {
   "cell_type": "code",
   "execution_count": null,
   "id": "7b29fdc7",
   "metadata": {},
   "outputs": [],
   "source": []
  },
  {
   "cell_type": "code",
   "execution_count": null,
   "id": "54739e11",
   "metadata": {},
   "outputs": [],
   "source": []
  }
 ],
 "metadata": {
  "kernelspec": {
   "display_name": "Python 3 (ipykernel)",
   "language": "python",
   "name": "python3"
  },
  "language_info": {
   "codemirror_mode": {
    "name": "ipython",
    "version": 3
   },
   "file_extension": ".py",
   "mimetype": "text/x-python",
   "name": "python",
   "nbconvert_exporter": "python",
   "pygments_lexer": "ipython3",
   "version": "3.9.7"
  }
 },
 "nbformat": 4,
 "nbformat_minor": 5
}
