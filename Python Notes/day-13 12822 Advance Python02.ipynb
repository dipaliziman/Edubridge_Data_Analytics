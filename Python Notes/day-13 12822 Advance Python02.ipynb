{
 "cells": [
  {
   "cell_type": "markdown",
   "id": "381f8ea7",
   "metadata": {},
   "source": [
    "## Numpy\n",
    "\n",
    "1.numpy is a python package which stands for numerical python\n",
    "\n",
    "2. it is a library consisting of multi dimentional array objects an a collection of routines, processing of arrays\n",
    "\n",
    "## operation using Numpy\n",
    "\n",
    "1.using numpy a developer can perform the following operations\n",
    "\n",
    "       \"mathematical and logical oeration on array\"\n",
    "       \"fourier transform and routines for shape manupulation \"\n",
    "       \"operations related to linear algebra\"\n",
    "\n",
    "## ndarray \n",
    "\n",
    "1.The most important object in numpy is \"N-dimensional array\" type called as ndarray\n",
    "2.It describes collectin item of same type\n",
    "3.Item in collection can be accessed using a zero-base index.\n",
    "4.We can create a numpy ndarray object by using the array function.\n",
    "\n",
    "\n"
   ]
  },
  {
   "cell_type": "code",
   "execution_count": 3,
   "id": "bf3fb054",
   "metadata": {},
   "outputs": [
    {
     "name": "stdout",
     "output_type": "stream",
     "text": [
      "[1 2 3 4 5]\n",
      "<class 'numpy.ndarray'>\n"
     ]
    }
   ],
   "source": [
    "## Example\n",
    "import numpy as np     # np is extention of numpy\n",
    "arr=np.array([1,2,3,4,5])   #taking array\n",
    "print(arr)\n",
    "print(type(arr))"
   ]
  },
  {
   "cell_type": "markdown",
   "id": "cf08229e",
   "metadata": {},
   "source": [
    "## Accessing Array Elements\n",
    "\n",
    "1. array indexing is same as accessing an array element\n",
    "2. You can Access an array element by refering to its index number"
   ]
  },
  {
   "cell_type": "code",
   "execution_count": 4,
   "id": "4ee88ddb",
   "metadata": {},
   "outputs": [
    {
     "name": "stdout",
     "output_type": "stream",
     "text": [
      "2\n"
     ]
    }
   ],
   "source": [
    "## Example\n",
    "import numpy as np     # np is extention of numpy\n",
    "arr=np.array([1,2,3,4,5])   #taking array\n",
    "print(arr[1])\n",
    "##print(type(arr))"
   ]
  },
  {
   "cell_type": "code",
   "execution_count": 5,
   "id": "c77e3fc8",
   "metadata": {},
   "outputs": [
    {
     "name": "stdout",
     "output_type": "stream",
     "text": [
      "7\n"
     ]
    }
   ],
   "source": [
    "#example- Get 3rd and 4th element from following array and add them\n",
    "import numpy as np     # np is extention of numpy\n",
    "arr=np.array([1,2,3,4,5])   #taking array 3+4=7\n",
    "print(arr[2]+arr[3])\n",
    "##print(type(arr))"
   ]
  },
  {
   "cell_type": "code",
   "execution_count": 9,
   "id": "9e724cbb",
   "metadata": {},
   "outputs": [
    {
     "name": "stdout",
     "output_type": "stream",
     "text": [
      "[[1 2]\n",
      " [3 4]]\n"
     ]
    }
   ],
   "source": [
    "#example - more than one-dimensional array\n",
    "arr1=np.array([[1,2],\n",
    "               [3,4]])\n",
    "print(arr1)"
   ]
  },
  {
   "cell_type": "code",
   "execution_count": 10,
   "id": "e4b58906",
   "metadata": {},
   "outputs": [
    {
     "name": "stdout",
     "output_type": "stream",
     "text": [
      "[1.+0.j 2.+0.j 3.+0.j]\n"
     ]
    }
   ],
   "source": [
    "#example - complex-dimensional array\n",
    "arr2=np.array([1, 2, 3], dtype = complex)\n",
    "\n",
    "print(arr2)"
   ]
  },
  {
   "cell_type": "code",
   "execution_count": null,
   "id": "27d959c6",
   "metadata": {},
   "outputs": [],
   "source": []
  }
 ],
 "metadata": {
  "kernelspec": {
   "display_name": "Python 3 (ipykernel)",
   "language": "python",
   "name": "python3"
  },
  "language_info": {
   "codemirror_mode": {
    "name": "ipython",
    "version": 3
   },
   "file_extension": ".py",
   "mimetype": "text/x-python",
   "name": "python",
   "nbconvert_exporter": "python",
   "pygments_lexer": "ipython3",
   "version": "3.9.7"
  }
 },
 "nbformat": 4,
 "nbformat_minor": 5
}
