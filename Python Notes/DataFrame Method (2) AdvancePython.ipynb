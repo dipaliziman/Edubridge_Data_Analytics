{
 "cells": [
  {
   "cell_type": "markdown",
   "id": "ccd70d54",
   "metadata": {},
   "source": [
    "## Pandas DataFrame.append()\n",
    "\n",
    "-this function is used to add the other dataframe to end of the given dataframe,returning new dataframe object\n",
    "\n",
    "-new columns and new cells are inserted into original dataframe that are populated with NaN value (not number value)\n",
    "\n",
    "#syntax =   DataFrame.append(other, ignore_index=False, verify_integrity=False, sort=None)\n",
    "\n",
    "- parameter  \n",
    "\n",
    "       1.other- DataFrame or series/Dict-like Object or list of these.It refers to the data to be appended\n",
    "       \n",
    "       2.ignore_index- if it is true it doesnt use index labels\n",
    "       \n",
    "       3.verify_integrity- if it is true it returns value error on creating an index with duplicates\n",
    "       \n",
    "       4.sort-It sort the columns if columns of the cell are not aligned. We pass sort=True explicitly for silence the warning and sort.We pass sort=False explicitly for silence the warning is not sort.\n"
   ]
  },
  {
   "cell_type": "code",
   "execution_count": 4,
   "id": "6e302833",
   "metadata": {},
   "outputs": [
    {
     "data": {
      "text/html": [
       "<div>\n",
       "<style scoped>\n",
       "    .dataframe tbody tr th:only-of-type {\n",
       "        vertical-align: middle;\n",
       "    }\n",
       "\n",
       "    .dataframe tbody tr th {\n",
       "        vertical-align: top;\n",
       "    }\n",
       "\n",
       "    .dataframe thead th {\n",
       "        text-align: right;\n",
       "    }\n",
       "</style>\n",
       "<table border=\"1\" class=\"dataframe\">\n",
       "  <thead>\n",
       "    <tr style=\"text-align: right;\">\n",
       "      <th></th>\n",
       "      <th>name</th>\n",
       "      <th>age</th>\n",
       "      <th>salary</th>\n",
       "      <th>designation</th>\n",
       "    </tr>\n",
       "  </thead>\n",
       "  <tbody>\n",
       "    <tr>\n",
       "      <th>0</th>\n",
       "      <td>manoj</td>\n",
       "      <td>24.0</td>\n",
       "      <td>NaN</td>\n",
       "      <td>NaN</td>\n",
       "    </tr>\n",
       "    <tr>\n",
       "      <th>1</th>\n",
       "      <td>sushant</td>\n",
       "      <td>25.0</td>\n",
       "      <td>NaN</td>\n",
       "      <td>NaN</td>\n",
       "    </tr>\n",
       "    <tr>\n",
       "      <th>2</th>\n",
       "      <td>reshma</td>\n",
       "      <td>21.0</td>\n",
       "      <td>NaN</td>\n",
       "      <td>NaN</td>\n",
       "    </tr>\n",
       "    <tr>\n",
       "      <th>3</th>\n",
       "      <td>NaN</td>\n",
       "      <td>NaN</td>\n",
       "      <td>25000.0</td>\n",
       "      <td>Assistant</td>\n",
       "    </tr>\n",
       "    <tr>\n",
       "      <th>4</th>\n",
       "      <td>NaN</td>\n",
       "      <td>NaN</td>\n",
       "      <td>240000.0</td>\n",
       "      <td>executive</td>\n",
       "    </tr>\n",
       "    <tr>\n",
       "      <th>5</th>\n",
       "      <td>NaN</td>\n",
       "      <td>NaN</td>\n",
       "      <td>29000.0</td>\n",
       "      <td>manager</td>\n",
       "    </tr>\n",
       "  </tbody>\n",
       "</table>\n",
       "</div>"
      ],
      "text/plain": [
       "      name   age    salary designation\n",
       "0    manoj  24.0       NaN         NaN\n",
       "1  sushant  25.0       NaN         NaN\n",
       "2   reshma  21.0       NaN         NaN\n",
       "3      NaN   NaN   25000.0   Assistant\n",
       "4      NaN   NaN  240000.0   executive\n",
       "5      NaN   NaN   29000.0     manager"
      ]
     },
     "execution_count": 4,
     "metadata": {},
     "output_type": "execute_result"
    }
   ],
   "source": [
    "##Example \n",
    "import pandas as pd\n",
    "\n",
    "#Create first dataframe using dictionary\n",
    "\n",
    "data=pd.DataFrame({'name':['manoj','sushant','reshma'],'age':[24,25,21]})\n",
    "#data\n",
    "\n",
    "#create second dataframe using dictionary\n",
    "\n",
    "data1=pd.DataFrame({'salary':[25000,240000,29000],'designation':['Assistant',\"executive\",'manager']})\n",
    "#data1\n",
    "\n",
    "#append data1 to data    \n",
    "data.append(data1,ignore_index=True)\n"
   ]
  },
  {
   "cell_type": "markdown",
   "id": "045a9cd9",
   "metadata": {},
   "source": [
    "## DataFrame.describe()\n",
    "\n",
    "- This method is used for calculating some statistical data like percentile,mean ,standard deviation of the series or dataframe\n",
    "\n",
    "-it analyzes both numeric and object series and also dataframe columns sets of next datatype\n",
    "\n",
    "#syntax :   DataFrame.describe(percentiles=None, include=None, exclude=None)\n",
    "\n",
    "       - parameter\n",
    "       \n",
    "        1.percentile- it is an optional parameter.its default value is  [.25,.50,.75] which returns 25th,50th,75th percentile \n",
    "        th\n",
    "        2.include- it is an optional parameter\n",
    "        \n",
    "        3.exclude- it is an optional parameter"
   ]
  },
  {
   "cell_type": "code",
   "execution_count": 5,
   "id": "0974dec2",
   "metadata": {},
   "outputs": [
    {
     "data": {
      "text/html": [
       "<div>\n",
       "<style scoped>\n",
       "    .dataframe tbody tr th:only-of-type {\n",
       "        vertical-align: middle;\n",
       "    }\n",
       "\n",
       "    .dataframe tbody tr th {\n",
       "        vertical-align: top;\n",
       "    }\n",
       "\n",
       "    .dataframe thead th {\n",
       "        text-align: right;\n",
       "    }\n",
       "</style>\n",
       "<table border=\"1\" class=\"dataframe\">\n",
       "  <thead>\n",
       "    <tr style=\"text-align: right;\">\n",
       "      <th></th>\n",
       "      <th>age</th>\n",
       "    </tr>\n",
       "  </thead>\n",
       "  <tbody>\n",
       "    <tr>\n",
       "      <th>count</th>\n",
       "      <td>3.000000</td>\n",
       "    </tr>\n",
       "    <tr>\n",
       "      <th>mean</th>\n",
       "      <td>23.333333</td>\n",
       "    </tr>\n",
       "    <tr>\n",
       "      <th>std</th>\n",
       "      <td>2.081666</td>\n",
       "    </tr>\n",
       "    <tr>\n",
       "      <th>min</th>\n",
       "      <td>21.000000</td>\n",
       "    </tr>\n",
       "    <tr>\n",
       "      <th>25%</th>\n",
       "      <td>22.500000</td>\n",
       "    </tr>\n",
       "    <tr>\n",
       "      <th>50%</th>\n",
       "      <td>24.000000</td>\n",
       "    </tr>\n",
       "    <tr>\n",
       "      <th>75%</th>\n",
       "      <td>24.500000</td>\n",
       "    </tr>\n",
       "    <tr>\n",
       "      <th>max</th>\n",
       "      <td>25.000000</td>\n",
       "    </tr>\n",
       "  </tbody>\n",
       "</table>\n",
       "</div>"
      ],
      "text/plain": [
       "             age\n",
       "count   3.000000\n",
       "mean   23.333333\n",
       "std     2.081666\n",
       "min    21.000000\n",
       "25%    22.500000\n",
       "50%    24.000000\n",
       "75%    24.500000\n",
       "max    25.000000"
      ]
     },
     "execution_count": 5,
     "metadata": {},
     "output_type": "execute_result"
    }
   ],
   "source": [
    "data.describe()"
   ]
  },
  {
   "cell_type": "code",
   "execution_count": 6,
   "id": "b93358b3",
   "metadata": {},
   "outputs": [
    {
     "name": "stdout",
     "output_type": "stream",
     "text": [
      "<class 'pandas.core.frame.DataFrame'>\n",
      "RangeIndex: 3 entries, 0 to 2\n",
      "Data columns (total 2 columns):\n",
      " #   Column  Non-Null Count  Dtype \n",
      "---  ------  --------------  ----- \n",
      " 0   name    3 non-null      object\n",
      " 1   age     3 non-null      int64 \n",
      "dtypes: int64(1), object(1)\n",
      "memory usage: 176.0+ bytes\n"
     ]
    }
   ],
   "source": [
    "data.info()"
   ]
  }
 ],
 "metadata": {
  "kernelspec": {
   "display_name": "Python 3 (ipykernel)",
   "language": "python",
   "name": "python3"
  },
  "language_info": {
   "codemirror_mode": {
    "name": "ipython",
    "version": 3
   },
   "file_extension": ".py",
   "mimetype": "text/x-python",
   "name": "python",
   "nbconvert_exporter": "python",
   "pygments_lexer": "ipython3",
   "version": "3.9.7"
  }
 },
 "nbformat": 4,
 "nbformat_minor": 5
}
