{
 "cells": [
  {
   "cell_type": "markdown",
   "id": "5fbd171f",
   "metadata": {},
   "source": [
    "# python oops-object oriented programs\n",
    "python  is also an objected oriented language since its beginning.it allows to develop applications using an object-oriented approach.\n",
    "1.In python we can easily create and use classes and objects\n",
    "2.An object oriented pardigm is to design the  program using classes and objects\n",
    "3.the object is related to real world entities.such as book , class, pencil..etc\n",
    "4.Major  principles of object oriented programic systems are \n",
    "a.class b.object c.method d.inheritance e.polymorphism f.data abstraction g.encapsulation\n",
    "\n",
    "A.class-it is defined as collection of objects it is a logical entity that has some specific attributes and methods\n",
    "for ex: if you have a empolyee class then it should it contain attributes  and method i.e. EMPLOYEE ID,NAME , AGE,SALARY\n",
    "#syntax:\n",
    "    class ClassName:     \n",
    "        <statement-1>     \n",
    "        .     \n",
    "        .      \n",
    "        <statement-N>\n",
    "B.OBJECT - it is an entity  that has the state and behaviour it may be any real world object like the mouse ,keyboard,chair.etc.\n",
    " i)everything in python is an object. almost everything has attributes and methods .\n",
    " ii)all functions have a built-in attributes(_doc_)which returns the \"docstrings\" defined inthe function source code.\n",
    " iii) when we define a class it needs to create an object to allocate the memory.\n",
    " C.METHOD -it is function that is assocaited with the object \n",
    "       1.In python the method is not unique to class intance \n",
    "       2.Any object type can have methods\n",
    "\n",
    "#C.INHERITANCE:it is the most important aspect of object-oriented programming which simulates the real-world concepts of inheritance.it specfices  that the child object acquires all the properties and behaviour of the parent object.\"By using inheritance we can create a class which uses all the  properties and behavior of another class.\n",
    "     The new class is a derived class or child class  and the one whose properties are acquired is known as base class or parent class  it provides the reuseability of the code \n",
    "*POLYMORPHISM:it contains two word \"poly\" and \"moprhs\" poly means \"many\" ,MORPH means \"shape\".\n",
    "     1.by polymorphism we can understand that one task is performed in different ways.for EX:you have a class animal and all animals,speak but they speak differently. the \"SPEAK\" behaviour is polymorphic and depends on animal.\n",
    "\n",
    "#ENCAPULASTION:it is another important aspect of object-oriented programming it is used to restrict the access to methods and variables. \n",
    "   a) In encapusulation code and data are wrapped together within a single unit from being modified by accident.\n",
    "            \n",
    "$DATA ABSTRACTION: data abstraction and encapsulation both are same.BOTH are synonms because data abstraction is achieved through encapsulation\n",
    "            "
   ]
  },
  {
   "cell_type": "code",
   "execution_count": null,
   "id": "c76be39f",
   "metadata": {},
   "outputs": [],
   "source": []
  },
  {
   "cell_type": "markdown",
   "id": "3df15148",
   "metadata": {},
   "source": [
    "# python class-creating classes in python \n",
    "1. inpython class can be created using the keyword class , followed by the class name\n",
    "#syntax:\n",
    "class ClassName:     \n",
    "        <statement-1>     \n",
    "        .     \n",
    "        .      \n",
    "        <statement-N>\n",
    "          \n",
    " #ex:create a class employee which contains two fields employee  id and name. \n",
    "     The class will also contain the function display() which will display the information of the employees.\n",
    "     In display you can use (self)  parameter to give reference to my attributes\n",
    " "
   ]
  },
  {
   "cell_type": "code",
   "execution_count": 4,
   "id": "c098592c",
   "metadata": {},
   "outputs": [],
   "source": [
    "#eg:\n",
    "class employee:\n",
    "    id=23\n",
    "    name=\"jagadeesh\"\n",
    "def display(self):\n",
    "    print(self.id,self.name)\n",
    "    \n",
    "#self is used as a reference variable which will refers to current class objects.it is always the 1St arguement in the function \n",
    "# defination however using self is optional in the functoin call"
   ]
  },
  {
   "cell_type": "code",
   "execution_count": 7,
   "id": "52d15e5c",
   "metadata": {},
   "outputs": [
    {
     "name": "stdout",
     "output_type": "stream",
     "text": [
      "id:23 \n",
      " name:jagadeesh\n"
     ]
    }
   ],
   "source": [
    "#creating an instance of the class .A class needs to be instantiated if we wanted to use the class attributes in another class \n",
    "#methods.THe class can be instantiated by calling the class using the classs  name. \n",
    "#syntax:\n",
    "#object-name> = <class-name>(<arguments>)\n",
    "\n",
    "class employee:\n",
    "    id=23\n",
    "    name=\"jagadeesh\"\n",
    "    def display(self):\n",
    "        print(\"id:%d \\n name:%s\" %(self.id,self.name))\n",
    "emp=employee() #creating an emp of instance class\n",
    "emp.display()\n",
    "    \n",
    "    \n"
   ]
  },
  {
   "cell_type": "code",
   "execution_count": 8,
   "id": "fec2095c",
   "metadata": {},
   "outputs": [
    {
     "ename": "AttributeError",
     "evalue": "id",
     "output_type": "error",
     "traceback": [
      "\u001b[1;31m---------------------------------------------------------------------------\u001b[0m",
      "\u001b[1;31mAttributeError\u001b[0m                            Traceback (most recent call last)",
      "\u001b[1;32m~\\AppData\\Local\\Temp/ipykernel_18424/992078281.py\u001b[0m in \u001b[0;36m<module>\u001b[1;34m\u001b[0m\n\u001b[0;32m      7\u001b[0m \u001b[0memp\u001b[0m\u001b[1;33m=\u001b[0m\u001b[0memployee\u001b[0m\u001b[1;33m(\u001b[0m\u001b[1;33m)\u001b[0m \u001b[1;31m#creating an emp of instance class\u001b[0m\u001b[1;33m\u001b[0m\u001b[1;33m\u001b[0m\u001b[0m\n\u001b[0;32m      8\u001b[0m \u001b[1;31m#deleting the property of the  object\u001b[0m\u001b[1;33m\u001b[0m\u001b[1;33m\u001b[0m\u001b[0m\n\u001b[1;32m----> 9\u001b[1;33m \u001b[1;32mdel\u001b[0m \u001b[0memp\u001b[0m\u001b[1;33m.\u001b[0m\u001b[0mid\u001b[0m\u001b[1;33m\u001b[0m\u001b[1;33m\u001b[0m\u001b[0m\n\u001b[0m\u001b[0;32m     10\u001b[0m \u001b[1;31m#deleting the object itself\u001b[0m\u001b[1;33m\u001b[0m\u001b[1;33m\u001b[0m\u001b[0m\n\u001b[0;32m     11\u001b[0m \u001b[1;32mdel\u001b[0m \u001b[0memp\u001b[0m\u001b[1;33m\u001b[0m\u001b[1;33m\u001b[0m\u001b[0m\n",
      "\u001b[1;31mAttributeError\u001b[0m: id"
     ]
    }
   ],
   "source": [
    "#delete the object -we can delete the properties of  the object or the object itself by using the \"del\" keyword\n",
    "class employee:\n",
    "    id=23\n",
    "    name=\"jagadeesh\"\n",
    "    def display(self):\n",
    "        print(\"id:%d \\n name:%s\" %(self.id,self.name))\n",
    "emp=employee() #creating an emp of instance class\n",
    "#deleting the property of the  object \n",
    "del emp.id\n",
    "#deleting the object itself \n",
    "del emp \n",
    "emp.display()"
   ]
  },
  {
   "cell_type": "code",
   "execution_count": null,
   "id": "b8c2511a",
   "metadata": {},
   "outputs": [],
   "source": []
  },
  {
   "cell_type": "raw",
   "id": "7402770d",
   "metadata": {},
   "source": [
    "# python constructors  \n",
    "constructor is a special type of method(funtion) which is used to initialize the instance member of the class .\n",
    "In java and c++ the constructor has the same name as its as the class but it treats  constructors differently in python it is  to create an object.\n",
    "Constructors are of two types \n",
    "1.parameterized constructors \n",
    "2.NON-Parameterozed constructors\n",
    "#creating the constructor in python"
   ]
  }
 ],
 "metadata": {
  "kernelspec": {
   "display_name": "Python 3 (ipykernel)",
   "language": "python",
   "name": "python3"
  },
  "language_info": {
   "codemirror_mode": {
    "name": "ipython",
    "version": 3
   },
   "file_extension": ".py",
   "mimetype": "text/x-python",
   "name": "python",
   "nbconvert_exporter": "python",
   "pygments_lexer": "ipython3",
   "version": "3.9.7"
  }
 },
 "nbformat": 4,
 "nbformat_minor": 5
}
