{
 "cells": [
  {
   "cell_type": "markdown",
   "id": "5ba5ca6c",
   "metadata": {},
   "source": [
    "# Python Function"
   ]
  },
  {
   "cell_type": "code",
   "execution_count": 3,
   "id": "9b861e4b",
   "metadata": {},
   "outputs": [],
   "source": [
    "#Creating a function-a function is defined using the (def) keyword\n",
    "#Eg:\n",
    "def my_function():\n",
    "    print(\"Hello from a function\")\n",
    "    "
   ]
  },
  {
   "cell_type": "code",
   "execution_count": 6,
   "id": "76987a43",
   "metadata": {},
   "outputs": [
    {
     "name": "stdout",
     "output_type": "stream",
     "text": [
      "Hello from a function\n"
     ]
    }
   ],
   "source": [
    "#Calling a function\n",
    "#Eg:\n",
    "def my_function():\n",
    "    print(\"Hello from a function\")\n",
    "my_function()"
   ]
  },
  {
   "cell_type": "code",
   "execution_count": 10,
   "id": "74d46fec",
   "metadata": {},
   "outputs": [
    {
     "name": "stdout",
     "output_type": "stream",
     "text": [
      "Emil Hi\n"
     ]
    }
   ],
   "source": [
    "#Arguements-information can be passed into functions as arguements\n",
    "#-Arguements are specified after the function name,inside the paranthesis.\n",
    "#-you can add as many arguements as you need with a comma.\n",
    "#eg:\n",
    "def my_function(fname):\n",
    "    print(fname+\" Hi\")\n",
    "my_function(\"Emil\")\n",
    "#my_function(\"Tobias\")\n",
    "#my_function(\"linus\")"
   ]
  },
  {
   "cell_type": "code",
   "execution_count": 11,
   "id": "44e12102",
   "metadata": {},
   "outputs": [
    {
     "name": "stdout",
     "output_type": "stream",
     "text": [
      "Emil Tobias\n"
     ]
    }
   ],
   "source": [
    "#Number of arguements\n",
    "#eg:\n",
    "def my_function(fname,lname):\n",
    "    print(fname +\" \"+ lname)\n",
    "my_function(\"Emil\",\"Tobias\")"
   ]
  },
  {
   "cell_type": "code",
   "execution_count": 12,
   "id": "737c47b9",
   "metadata": {},
   "outputs": [
    {
     "ename": "TypeError",
     "evalue": "my_function() missing 1 required positional argument: 'lname'",
     "output_type": "error",
     "traceback": [
      "\u001b[1;31m---------------------------------------------------------------------------\u001b[0m",
      "\u001b[1;31mTypeError\u001b[0m                                 Traceback (most recent call last)",
      "\u001b[1;32m<ipython-input-12-e361c4284096>\u001b[0m in \u001b[0;36m<module>\u001b[1;34m\u001b[0m\n\u001b[0;32m      3\u001b[0m \u001b[1;32mdef\u001b[0m \u001b[0mmy_function\u001b[0m\u001b[1;33m(\u001b[0m\u001b[0mfname\u001b[0m\u001b[1;33m,\u001b[0m\u001b[0mlname\u001b[0m\u001b[1;33m)\u001b[0m\u001b[1;33m:\u001b[0m\u001b[1;33m\u001b[0m\u001b[1;33m\u001b[0m\u001b[0m\n\u001b[0;32m      4\u001b[0m     \u001b[0mprint\u001b[0m\u001b[1;33m(\u001b[0m\u001b[0mfname\u001b[0m \u001b[1;33m+\u001b[0m\u001b[1;34m\" \"\u001b[0m\u001b[1;33m+\u001b[0m \u001b[0mlname\u001b[0m\u001b[1;33m)\u001b[0m\u001b[1;33m\u001b[0m\u001b[1;33m\u001b[0m\u001b[0m\n\u001b[1;32m----> 5\u001b[1;33m \u001b[0mmy_function\u001b[0m\u001b[1;33m(\u001b[0m\u001b[1;34m\"Emil\"\u001b[0m\u001b[1;33m)\u001b[0m\u001b[1;33m\u001b[0m\u001b[1;33m\u001b[0m\u001b[0m\n\u001b[0m",
      "\u001b[1;31mTypeError\u001b[0m: my_function() missing 1 required positional argument: 'lname'"
     ]
    }
   ],
   "source": [
    "#another Example(number of arguements)\n",
    "#eg:\n",
    "def my_function(fname,lname):\n",
    "    print(fname +\" \"+ lname)\n",
    "my_function(\"Emil\")"
   ]
  },
  {
   "cell_type": "code",
   "execution_count": 15,
   "id": "6ce5ca4c",
   "metadata": {},
   "outputs": [
    {
     "name": "stdout",
     "output_type": "stream",
     "text": [
      "The youngest child is Emil\n"
     ]
    }
   ],
   "source": [
    "#Arbitary arguements *args\n",
    "#eg:\n",
    "def my_function(*kids):\n",
    "    print(\"The youngest child is \" +kids[0])\n",
    "my_function(\"Emil\",\"Fredy\",\"lilly\",\"ayesha\")"
   ]
  },
  {
   "cell_type": "code",
   "execution_count": 19,
   "id": "fbf07727",
   "metadata": {},
   "outputs": [
    {
     "name": "stdout",
     "output_type": "stream",
     "text": [
      "The youngest child is Fredy\n"
     ]
    }
   ],
   "source": [
    "#Keyword arguements-You can also send arguements with the key=value syntax\n",
    "#Eg:\n",
    "def my_function(child1,child2,child3,child4):\n",
    "    print(\"The youngest child is \" +child2)\n",
    "my_function(child1=\"Emil\",child2=\"Fredy\",child3=\"lilly\",child4=\"ayesha\")"
   ]
  },
  {
   "cell_type": "code",
   "execution_count": 21,
   "id": "a54f93b5",
   "metadata": {},
   "outputs": [
    {
     "name": "stdout",
     "output_type": "stream",
     "text": [
      "Her last name is sam\n"
     ]
    }
   ],
   "source": [
    "#Arbitary keyword arguements,**kwargs-if you do not know how many keyword arguements that will be passes into your function, add \n",
    "#two asterik **before the arguements\n",
    "#Eg:\n",
    "def my_function(**kids):\n",
    "    print(\"Her last name is \" +kids[\"lname\"])\n",
    "my_function(fname=\"lilly\",lname=\"sam\")"
   ]
  },
  {
   "cell_type": "code",
   "execution_count": 22,
   "id": "3128379c",
   "metadata": {},
   "outputs": [
    {
     "name": "stdout",
     "output_type": "stream",
     "text": [
      "I am fromlondon\n",
      "I am fromIndia\n",
      "I am fromNorway\n",
      "I am fromBrazil\n"
     ]
    }
   ],
   "source": [
    "#Default parameter value-if we call the function without arguements,it uses the default value\n",
    "def my_countries(country=\"Norway\"):\n",
    "    print(\"I am from\"+ country)\n",
    "my_countries(\"london\")\n",
    "my_countries(\"India\")\n",
    "my_countries()\n",
    "my_countries(\"Brazil\")"
   ]
  },
  {
   "cell_type": "code",
   "execution_count": 23,
   "id": "4e9b92e2",
   "metadata": {},
   "outputs": [
    {
     "name": "stdout",
     "output_type": "stream",
     "text": [
      "apple\n",
      "banana\n",
      "cherry\n"
     ]
    }
   ],
   "source": [
    "#Passing a list as an Arguement-you can send any datatypes of arguements to a function (string,number,list,dictionary etc)\n",
    "#and it will reated as the same data type inside the function\n",
    "#Eg:\n",
    "def my_function(food):\n",
    "    for x in food:\n",
    "        print(x)\n",
    "fruits=[\"apple\",\"banana\",\"cherry\"]\n",
    "my_function(fruits)"
   ]
  },
  {
   "cell_type": "code",
   "execution_count": 27,
   "id": "fa91d785",
   "metadata": {},
   "outputs": [
    {
     "name": "stdout",
     "output_type": "stream",
     "text": [
      "8\n",
      "11\n"
     ]
    }
   ],
   "source": [
    "#Return values:To return a value,use the return statement\n",
    "#eg:\n",
    "def add(x):\n",
    "    return 5+x\n",
    "print(add(3))\n",
    "print(add(6))"
   ]
  },
  {
   "cell_type": "code",
   "execution_count": 28,
   "id": "5583bd95",
   "metadata": {},
   "outputs": [
    {
     "name": "stdout",
     "output_type": "stream",
     "text": [
      "15\n"
     ]
    }
   ],
   "source": [
    "#Python Lambda-A lambda function is a small anonymous function\n",
    "#-A lambda function can take any number of arguements,but can only have one expression\n",
    "#Syntax: Lambda arguements:expression\n",
    "#EG:\n",
    "x=lambda a:a+10\n",
    "print(x(5))"
   ]
  },
  {
   "cell_type": "code",
   "execution_count": 32,
   "id": "34c6a726",
   "metadata": {},
   "outputs": [
    {
     "name": "stdout",
     "output_type": "stream",
     "text": [
      "30\n"
     ]
    }
   ],
   "source": [
    "#Multiply arguement a with arguement b and return the result\n",
    "x=lambda a,b:a*b\n",
    "print(x(5,6))"
   ]
  },
  {
   "cell_type": "code",
   "execution_count": 33,
   "id": "e8d250c0",
   "metadata": {},
   "outputs": [
    {
     "name": "stdout",
     "output_type": "stream",
     "text": [
      "300\n"
     ]
    }
   ],
   "source": [
    "#Python scope-A variable is only available from inside the region it is created. This is called as scope\n",
    "#Local scope:-A varibale created inside a function belongs to the local scope of that function, and can only be used inside \n",
    "#that function\n",
    "#eg:\n",
    "def myfunc():\n",
    "    x=300\n",
    "    print(x)\n",
    "myfunc()"
   ]
  },
  {
   "cell_type": "code",
   "execution_count": 34,
   "id": "65212610",
   "metadata": {},
   "outputs": [
    {
     "name": "stdout",
     "output_type": "stream",
     "text": [
      "300\n"
     ]
    }
   ],
   "source": [
    "#Function inside function-The local variable can be accessed from a function within the function\n",
    "#Eg:\n",
    "def myfunc():\n",
    "    x=300\n",
    "    def myinnerfun():\n",
    "        print(x)\n",
    "    myinnerfun()\n",
    "myfunc()"
   ]
  },
  {
   "cell_type": "code",
   "execution_count": 37,
   "id": "350cb663",
   "metadata": {},
   "outputs": [
    {
     "name": "stdout",
     "output_type": "stream",
     "text": [
      "300\n",
      "300\n"
     ]
    }
   ],
   "source": [
    "#Global Scope-A variable created in the main body of the python code is a global variable and belongs to the global scope\n",
    "#-Global variables are available from within any scope,global and local\n",
    "#eg:\n",
    "x=300\n",
    "def myfunc():\n",
    "    print(x)\n",
    "myfunc()\n",
    "print(x)"
   ]
  },
  {
   "cell_type": "code",
   "execution_count": 39,
   "id": "0b8d98c8",
   "metadata": {},
   "outputs": [
    {
     "name": "stdout",
     "output_type": "stream",
     "text": [
      "200\n",
      "300\n"
     ]
    }
   ],
   "source": [
    "#Naming the variables:if you operate with the same variable name inside and outside of a function,python will treat them as two \n",
    "#separate variables.one available in the global scope(outside the function) and one available in the local scope(inside the function)\n",
    "#eg:\n",
    "x=300\n",
    "def myfunc():\n",
    "    x=200\n",
    "    print(x)\n",
    "myfunc()\n",
    "print(x)"
   ]
  },
  {
   "cell_type": "code",
   "execution_count": 42,
   "id": "067b019b",
   "metadata": {},
   "outputs": [
    {
     "name": "stdout",
     "output_type": "stream",
     "text": [
      "300\n"
     ]
    }
   ],
   "source": [
    "#Global keyword-if you need to create a global variable,but are stuck in the local scope,you can use global keyword\n",
    "#The (global)keyword makes the variable global\n",
    "#eg:\n",
    "def myfunc():\n",
    "    global x\n",
    "    x=300\n",
    "myfunc()\n",
    "print(x)"
   ]
  },
  {
   "cell_type": "code",
   "execution_count": 46,
   "id": "e5f740f3",
   "metadata": {},
   "outputs": [
    {
     "name": "stdout",
     "output_type": "stream",
     "text": [
      "200\n",
      "300\n"
     ]
    }
   ],
   "source": [
    "#EG:\n",
    "x=300\n",
    "def myfunc():\n",
    "    x=200\n",
    "    print(x)\n",
    "myfunc()\n",
    "print(x)"
   ]
  },
  {
   "cell_type": "code",
   "execution_count": 2,
   "id": "e88877a9",
   "metadata": {},
   "outputs": [
    {
     "name": "stdout",
     "output_type": "stream",
     "text": [
      "The sum is 5\n",
      "The sum is 1\n"
     ]
    }
   ],
   "source": [
    "# Function Body\n",
    "def add_numbers(n1,n2):\n",
    "    sum_of_numbers = n1 + n2\n",
    "    return sum_of_numbers\n",
    "#a = int(input(\"Enter first number: \"))\n",
    "#b = int(input(\"Enter second number: \"))\n",
    "addition = add_numbers(3,2)\n",
    "print(\"The sum is\",addition)\n",
    "def sub_numbers(n1,n2):\n",
    "    sub_of_numbers = n1 - n2\n",
    "    return sub_of_numbers\n",
    "#a = int(input(\"Enter first number: \"))\n",
    "#b = int(input(\"Enter second number: \"))\n",
    "sub = sub_numbers(3,2)\n",
    "print(\"The sum is\",sub)"
   ]
  },
  {
   "cell_type": "markdown",
   "id": "2e230e45",
   "metadata": {},
   "source": [
    "# Problem statement \n",
    "Write a program to create a function that takes two arguements,name and age  and print the value\n",
    "Show hint: *use the def keyword with the function to define a function\n",
    "*Next,take two parameters\n",
    "*Print them using the print() function\n",
    "*Call function by passing name and age"
   ]
  },
  {
   "cell_type": "code",
   "execution_count": 3,
   "id": "5af0a986",
   "metadata": {},
   "outputs": [
    {
     "name": "stdout",
     "output_type": "stream",
     "text": [
      "Rachel 23\n"
     ]
    }
   ],
   "source": [
    "def data(name,age):\n",
    "    print(name,age)\n",
    "data(\"Rachel\",23)"
   ]
  },
  {
   "cell_type": "markdown",
   "id": "a04234dc",
   "metadata": {},
   "source": [
    "# # Problem statement\n",
    "Area of triange"
   ]
  },
  {
   "cell_type": "code",
   "execution_count": null,
   "id": "1f3f2286",
   "metadata": {},
   "outputs": [],
   "source": [
    "def areaT(base,height):\n",
    "    return base * height/2\n",
    "b=float(input(\"Enter base of triangle: \"))\n",
    "h=float(input(\"Enter height of traingle \"))\n",
    "print(\"Area of triangle with base {b} and height {h} is \",areaT(b,h))"
   ]
  },
  {
   "cell_type": "markdown",
   "id": "a5455455",
   "metadata": {},
   "source": [
    "# #Problem statement\n",
    "calculations"
   ]
  },
  {
   "cell_type": "code",
   "execution_count": 5,
   "id": "d07a00d9",
   "metadata": {},
   "outputs": [
    {
     "name": "stdout",
     "output_type": "stream",
     "text": [
      "Enter a number: 3.0\n",
      "Enter a second number: 7.0\n",
      "sum of 3.0 and 7.0 is 10.0\n",
      "Difference of 3.0 and 7.0 is -4.0\n",
      "Product of 3.0 and 7.0 is 21.0\n",
      "Quotient of 3.0 and 7.0 is 0.42857142857142855\n"
     ]
    }
   ],
   "source": [
    "def Compute(num1,num2):\n",
    "    sum=num1 + num2\n",
    "    diff=num1 - num2\n",
    "    product=num1 * num2\n",
    "    quotient=num1 / num2\n",
    "    return sum, diff, product, quotient\n",
    "\n",
    "n1=float(input(\"Enter a number: \"))\n",
    "n2=float(input(\"Enter a second number: \"))\n",
    "s,d,p,q = Compute(n1,n2)\n",
    "print(f\"sum of {n1} and {n2} is {s}\")\n",
    "print(f\"Difference of {n1} and {n2} is {d}\")\n",
    "print(f\"Product of {n1} and {n2} is {p}\")\n",
    "print(f\"Quotient of {n1} and {n2} is {q}\")"
   ]
  },
  {
   "cell_type": "code",
   "execution_count": 6,
   "id": "4eefedb1",
   "metadata": {},
   "outputs": [
    {
     "name": "stdout",
     "output_type": "stream",
     "text": [
      "vijay,i want to say thank you\n"
     ]
    }
   ],
   "source": [
    "def my_function(name,gcode=5):\n",
    "    if gcode==1:\n",
    "        greet=\"shukran\"\n",
    "    elif gcode==2:\n",
    "        greet=\"merci\"\n",
    "    elif gcode==3:\n",
    "        greet=\"salamat\"\n",
    "    elif gcode==4:\n",
    "        greet=\"xixi\"\n",
    "    elif gcode==5:\n",
    "        greet=\"thank you\"\n",
    "    else:\n",
    "        greet=\"updating the database\"\n",
    "    print(f\"{name},i want to say {greet}\")\n",
    "\n",
    "my_function(\"vijay\")"
   ]
  },
  {
   "cell_type": "code",
   "execution_count": null,
   "id": "0a87e85e",
   "metadata": {},
   "outputs": [],
   "source": []
  }
 ],
 "metadata": {
  "kernelspec": {
   "display_name": "Python 3",
   "language": "python",
   "name": "python3"
  },
  "language_info": {
   "codemirror_mode": {
    "name": "ipython",
    "version": 3
   },
   "file_extension": ".py",
   "mimetype": "text/x-python",
   "name": "python",
   "nbconvert_exporter": "python",
   "pygments_lexer": "ipython3",
   "version": "3.8.8"
  }
 },
 "nbformat": 4,
 "nbformat_minor": 5
}
