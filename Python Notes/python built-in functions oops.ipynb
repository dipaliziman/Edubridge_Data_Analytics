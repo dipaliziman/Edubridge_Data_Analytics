{
 "cells": [
  {
   "cell_type": "markdown",
   "id": "058f4116",
   "metadata": {},
   "source": [
    "# python built-in class functions \n",
    "there are 4 built-in functions they are:\n",
    "1:getattr(obj,name,default)--it is  used to get the access the attribute  of the object \n",
    "2:setattr(obj, name,value)--it is used to set a particular value to specfic attribute of an object.\n",
    "3:delattr(obj, name)--it is used to delete the particular specific attribute \n",
    "4:hasattr(obj, name)--it returns  true if the object contains some specific attirbute.\n",
    "\n",
    "\n",
    "\n"
   ]
  },
  {
   "cell_type": "code",
   "execution_count": 15,
   "id": "7694ec3d",
   "metadata": {},
   "outputs": [
    {
     "name": "stdout",
     "output_type": "stream",
     "text": [
      "david\n",
      "23\n",
      "True\n"
     ]
    },
    {
     "ename": "AttributeError",
     "evalue": "'student' object has no attribute 'age'",
     "output_type": "error",
     "traceback": [
      "\u001b[1;31m---------------------------------------------------------------------------\u001b[0m",
      "\u001b[1;31mAttributeError\u001b[0m                            Traceback (most recent call last)",
      "\u001b[1;32m~\\AppData\\Local\\Temp/ipykernel_11440/149530272.py\u001b[0m in \u001b[0;36m<module>\u001b[1;34m\u001b[0m\n\u001b[0;32m     17\u001b[0m \u001b[1;31m#delete the attribute age\u001b[0m\u001b[1;33m\u001b[0m\u001b[1;33m\u001b[0m\u001b[0m\n\u001b[0;32m     18\u001b[0m \u001b[0mdelattr\u001b[0m\u001b[1;33m(\u001b[0m\u001b[0ms\u001b[0m\u001b[1;33m,\u001b[0m\u001b[1;34m\"age\"\u001b[0m\u001b[1;33m)\u001b[0m\u001b[1;33m\u001b[0m\u001b[1;33m\u001b[0m\u001b[0m\n\u001b[1;32m---> 19\u001b[1;33m \u001b[0mprint\u001b[0m\u001b[1;33m(\u001b[0m\u001b[0ms\u001b[0m\u001b[1;33m.\u001b[0m\u001b[0mage\u001b[0m\u001b[1;33m)\u001b[0m\u001b[1;33m\u001b[0m\u001b[1;33m\u001b[0m\u001b[0m\n\u001b[0m",
      "\u001b[1;31mAttributeError\u001b[0m: 'student' object has no attribute 'age'"
     ]
    }
   ],
   "source": [
    "#eg:\n",
    "class student:\n",
    "    def __init__(self,name,id,age):\n",
    "        self.name =name\n",
    "        self.id=id\n",
    "        self.age=age\n",
    "#creates the object of the class student\n",
    "s=student(\"david\",245,35)\n",
    "#print the attribute name of the object\n",
    "print(getattr(s,\"name\"))\n",
    "#reset the value  of the attribute age to 23\n",
    "setattr(s,\"age\",23)\n",
    "#print the modified value of the age\n",
    "print(getattr(s,\"age\"))\n",
    "#prints true if the student contains the attribute with the id\n",
    "print(hasattr(s,\"id\"))\n",
    "#delete the attribute age\n",
    "delattr(s,\"age\")\n",
    "print(s.age)"
   ]
  },
  {
   "cell_type": "markdown",
   "id": "2d7fb31d",
   "metadata": {},
   "source": [
    "#python in built attributes -- \n",
    "along with other attributes python class also contains somme built-in class attributes which provides some information about the class\n",
    "1:__dict__  ==  it provides the dictionary containning the information about the class\n",
    "2:__doc__  ==  it contains the string which has the class documentation\n",
    "3:__name__ == it used to access the  class name  \n",
    "4:__module__ == it is used to access the module in which the class is  defined.\n",
    "5:__bases__ == it contains tuple including all base class."
   ]
  },
  {
   "cell_type": "code",
   "execution_count": 22,
   "id": "a73139a4",
   "metadata": {},
   "outputs": [
    {
     "name": "stdout",
     "output_type": "stream",
     "text": [
      "{'name': 'david', 'id': 345, 'age': 54}\n",
      "None\n",
      "<class '__main__.student'>\n"
     ]
    },
    {
     "ename": "AttributeError",
     "evalue": "'student' object has no attribute '__bases__'",
     "output_type": "error",
     "traceback": [
      "\u001b[1;31m---------------------------------------------------------------------------\u001b[0m",
      "\u001b[1;31mAttributeError\u001b[0m                            Traceback (most recent call last)",
      "\u001b[1;32m~\\AppData\\Local\\Temp/ipykernel_11440/1047363555.py\u001b[0m in \u001b[0;36m<module>\u001b[1;34m\u001b[0m\n\u001b[0;32m     10\u001b[0m \u001b[0mprint\u001b[0m\u001b[1;33m(\u001b[0m\u001b[0ms\u001b[0m\u001b[1;33m.\u001b[0m\u001b[0m__doc__\u001b[0m\u001b[1;33m)\u001b[0m\u001b[1;33m\u001b[0m\u001b[1;33m\u001b[0m\u001b[0m\n\u001b[0;32m     11\u001b[0m \u001b[0mprint\u001b[0m\u001b[1;33m(\u001b[0m\u001b[0ms\u001b[0m\u001b[1;33m.\u001b[0m\u001b[0m__class__\u001b[0m\u001b[1;33m)\u001b[0m\u001b[1;33m\u001b[0m\u001b[1;33m\u001b[0m\u001b[0m\n\u001b[1;32m---> 12\u001b[1;33m \u001b[0mprint\u001b[0m\u001b[1;33m(\u001b[0m\u001b[0ms\u001b[0m\u001b[1;33m.\u001b[0m\u001b[0m__bases__\u001b[0m\u001b[1;33m)\u001b[0m\u001b[1;33m\u001b[0m\u001b[1;33m\u001b[0m\u001b[0m\n\u001b[0m",
      "\u001b[1;31mAttributeError\u001b[0m: 'student' object has no attribute '__bases__'"
     ]
    }
   ],
   "source": [
    "class student:\n",
    "    def __init__(self,name,id,age):\n",
    "        self.name =name\n",
    "        self.id=id\n",
    "        self.age=age\n",
    "    def display(self):\n",
    "        print('name:%s,id:%d,age:%d' %(self.name,self.id,self.age))\n",
    "s=student(\"david\",345,54)\n",
    "print(s.__dict__)\n",
    "print(s.__doc__)\n",
    "print(s.__class__)\n",
    "print(s.__bases__)"
   ]
  },
  {
   "cell_type": "markdown",
   "id": "bb2412e6",
   "metadata": {},
   "source": [
    "# python inheritance \n",
    "in inheritance the child class acquires the properties and can access all the date members and functions defined in the parent class.\n",
    "#syntax:\n",
    "class derived-class(base class):  \n",
    "    <class-suite>\n",
    "if a class can inherit multiple classses by mentioning all of them inside the brackets.\n",
    "   #syntax:\n",
    "    class derive-class(<base class 1>, <base class 2>, ..... <base class n>):  \n",
    "    <class - suite>"
   ]
  },
  {
   "cell_type": "code",
   "execution_count": 24,
   "id": "4b34ded3",
   "metadata": {},
   "outputs": [
    {
     "name": "stdout",
     "output_type": "stream",
     "text": [
      "dog is barking\n",
      "animal speaking\n"
     ]
    }
   ],
   "source": [
    "#eg:\n",
    "class animal:\n",
    "    def speak(self):\n",
    "        print(\"animal speaking\")\n",
    "#child class dog will inherit the base class animal.\n",
    "class dog(animal):\n",
    "    def bark(self):\n",
    "        print(\"dog is barking\")\n",
    "d=dog()\n",
    "d.bark()\n",
    "d.speak()\n",
    "\n",
    "    "
   ]
  },
  {
   "cell_type": "markdown",
   "id": "1dab174b",
   "metadata": {},
   "source": []
  },
  {
   "cell_type": "markdown",
   "id": "29f180ee",
   "metadata": {},
   "source": [
    "#python multi-level inheritance\n",
    "it is possible in python like other object-oriented languages\n",
    "1.multi-level inhertiance is archived when a derived  class inherites another derived class.\n",
    "#syntax:\n",
    "class class1:  \n",
    "    <class-suite>   \n",
    "class class2(class1):  \n",
    "    <class suite>  \n",
    "class class3(class2):  \n",
    "    <class suite>"
   ]
  },
  {
   "cell_type": "code",
   "execution_count": 26,
   "id": "1ffe276c",
   "metadata": {},
   "outputs": [
    {
     "name": "stdout",
     "output_type": "stream",
     "text": [
      "dog is barking\n",
      "animal speaking\n",
      "dog is eating\n"
     ]
    }
   ],
   "source": [
    "#eg:\n",
    "class animal:\n",
    "    def speak(self):\n",
    "        print(\"animal speaking\")\n",
    "#child class dog will inherit the base class animal.\n",
    "class dog(animal):\n",
    "    def bark(self):\n",
    "        print(\"dog is barking\")\n",
    "#the child class -dogchild inherites  another child class dog \n",
    "class dogchild(dog):\n",
    "    def eat(self):\n",
    "        print(\"dog is eating\")\n",
    "d=dogchild()\n",
    "d.bark()\n",
    "d.speak()\n",
    "d.eat()\n"
   ]
  },
  {
   "cell_type": "markdown",
   "id": "eee4d122",
   "metadata": {},
   "source": [
    "#python multiple inheritance-- python provide us the flexibilty to inherit multiple base classes in child class\n",
    "#syntax:\n",
    "class Base1:  \n",
    "    <class-suite>  \n",
    "  \n",
    "class Base2:  \n",
    "    <class-suite>  \n",
    ".  \n",
    ".  \n",
    ".  \n",
    "class BaseN:  \n",
    "    <class-suite>  \n",
    "  \n",
    "class Derived(Base1, Base2, ...... BaseN):  \n",
    "    <class-suite>\n"
   ]
  },
  {
   "cell_type": "code",
   "execution_count": 30,
   "id": "99ee5b1c",
   "metadata": {},
   "outputs": [
    {
     "name": "stdout",
     "output_type": "stream",
     "text": [
      "-10\n",
      "200\n",
      "4.0\n"
     ]
    }
   ],
   "source": [
    "#Eg:\n",
    "class calculation1:\n",
    "    def summation(self,a,b):\n",
    "        return a+b;\n",
    "class calculation2:\n",
    "    def multiplication(self,a,b):\n",
    "        return a*b;\n",
    "class derived(calculation1, calculation2):\n",
    "    def division (self,a,b):\n",
    "        return a/b;\n",
    "d=derived()\n",
    "print(d.summation(10,-20))\n",
    "print (d.multiplication(10,20))\n",
    "print(d.division(24,6))\n",
    "    \n",
    "        "
   ]
  },
  {
   "cell_type": "markdown",
   "id": "84eb89a0",
   "metadata": {},
   "source": [
    "# The issubclass(sub,sup) method\n",
    "this is used to check the relationships between specified classes \n",
    "it returns true, if the 1st class is the sub class of the second class otherwise it is false.\n"
   ]
  },
  {
   "cell_type": "code",
   "execution_count": 36,
   "id": "afbf4e4c",
   "metadata": {},
   "outputs": [
    {
     "name": "stdout",
     "output_type": "stream",
     "text": [
      "True\n",
      "False\n"
     ]
    }
   ],
   "source": [
    "#eg:\n",
    "class calculation1:\n",
    "    def summation(self,a,b):\n",
    "        return a+b;\n",
    "class calculation2:\n",
    "    def multiplication(self,a,b):\n",
    "        return a*b;\n",
    "class derived(calculation1, calculation2):\n",
    "    def division (self,a,b):\n",
    "        return a/b;\n",
    "d=derived()\n",
    "print(issubclass(derived,calculation1))\n",
    "print(issubclass (calculation1,calculation2))\n"
   ]
  },
  {
   "cell_type": "markdown",
   "id": "47628bfe",
   "metadata": {},
   "source": [
    "# The isinstance (obj, class) method\n",
    "this method is used to check the  relationship  between the objects and the classes.\n"
   ]
  },
  {
   "cell_type": "code",
   "execution_count": 43,
   "id": "d121d9ee",
   "metadata": {},
   "outputs": [
    {
     "name": "stdout",
     "output_type": "stream",
     "text": [
      "True\n"
     ]
    }
   ],
   "source": [
    "#eg:\n",
    "class calculation1:\n",
    "    def summation(self,a,b):\n",
    "        return a+b;\n",
    "class calculation2:\n",
    "    def multiplication(self,a,b):\n",
    "        return a*b;\n",
    "class derived(calculation1, calculation2):\n",
    "    def division (self,a,b):\n",
    "        return a/b;\n",
    "d=derived()\n",
    "print(isinstance(d,derived))\n"
   ]
  },
  {
   "cell_type": "markdown",
   "id": "7188ed3c",
   "metadata": {},
   "source": [
    "# method overriding:\n",
    "we can provide some specfic implementation of parent class method in our child class\n",
    "1.when the parent class  method is defined in the child class with some specific implentation then the concept is called as method overriding.\n",
    "2.we need to perfrom method overriding in the scenario where the different defination of a parent class method is needed in the child class."
   ]
  },
  {
   "cell_type": "code",
   "execution_count": 45,
   "id": "865bca9f",
   "metadata": {},
   "outputs": [
    {
     "name": "stdout",
     "output_type": "stream",
     "text": [
      "barking\n"
     ]
    }
   ],
   "source": [
    "#eg:\n",
    "class animal:\n",
    "    def speak(self):\n",
    "        print (\"animal is speaking\")\n",
    "class dog(animal):\n",
    "    def speak(self):\n",
    "        print(\"barking\")\n",
    "d=dog()\n",
    "d.speak()\n"
   ]
  },
  {
   "cell_type": "code",
   "execution_count": 47,
   "id": "3cbd068a",
   "metadata": {},
   "outputs": [
    {
     "name": "stdout",
     "output_type": "stream",
     "text": [
      "Bank Rate of interest: 20\n",
      "SBI Rate of interest: 5\n",
      "ICICI Rate of interest: 6\n"
     ]
    }
   ],
   "source": [
    "class Bank:  \n",
    "    def getroi(self):  \n",
    "        return 20;  \n",
    "class SBI(Bank):  \n",
    "    def getroi(self):  \n",
    "        return 5;  \n",
    "class ICICI(Bank):  \n",
    "    def getroi(self):  \n",
    "        return 6;  \n",
    "b1 = Bank()  \n",
    "b2 = SBI()  \n",
    "b3 = ICICI()  \n",
    "print(\"Bank Rate of interest:\",b1.getroi());  \n",
    "print(\"SBI Rate of interest:\",b2.getroi());  \n",
    "print(\"ICICI Rate of interest:\",b3.getroi());\n"
   ]
  },
  {
   "cell_type": "markdown",
   "id": "233cab5a",
   "metadata": {},
   "source": [
    "# python polymorphism:\n",
    "poly means many and morph means shape\n",
    "eg:you have a class animal and all animals,speak but they speak differently. the \"SPEAK\" behaviour is polymorphic and depends on animal.\n"
   ]
  },
  {
   "cell_type": "code",
   "execution_count": 49,
   "id": "d36e09e4",
   "metadata": {},
   "outputs": [
    {
     "name": "stdout",
     "output_type": "stream",
     "text": [
      "hello\n",
      "bonjour\n"
     ]
    }
   ],
   "source": [
    "#eg:create two classes such as english and french.Both the classes have greeting()method\n",
    "#both the classes create different greetings\n",
    "#create two corresponding objects from the two classes above and call the actions of these two objects in the same function\n",
    "#eg:\n",
    "class english:\n",
    "    def greeting(self):\n",
    "        print(\"hello\")\n",
    "class  french:\n",
    "    def greeting(self):\n",
    "        print(\"bonjour\")\n",
    "def intro(language):\n",
    "    language.greeting()\n",
    "flora=english()\n",
    "fuana=french()\n",
    "intro(flora) \n",
    "intro(fuana)\n"
   ]
  },
  {
   "cell_type": "code",
   "execution_count": null,
   "id": "86c33eb0",
   "metadata": {},
   "outputs": [],
   "source": []
  }
 ],
 "metadata": {
  "kernelspec": {
   "display_name": "Python 3 (ipykernel)",
   "language": "python",
   "name": "python3"
  },
  "language_info": {
   "codemirror_mode": {
    "name": "ipython",
    "version": 3
   },
   "file_extension": ".py",
   "mimetype": "text/x-python",
   "name": "python",
   "nbconvert_exporter": "python",
   "pygments_lexer": "ipython3",
   "version": "3.9.7"
  }
 },
 "nbformat": 4,
 "nbformat_minor": 5
}
