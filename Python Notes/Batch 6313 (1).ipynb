{
 "cells": [
  {
   "cell_type": "code",
   "execution_count": 22,
   "id": "44de2652",
   "metadata": {},
   "outputs": [
    {
     "name": "stdout",
     "output_type": "stream",
     "text": [
      "Hello, Edubridge\n"
     ]
    }
   ],
   "source": [
    "#This is to print the first line\n",
    "print(\"Hello, Edubridge\")"
   ]
  },
  {
   "cell_type": "code",
   "execution_count": 2,
   "id": "16df174a",
   "metadata": {},
   "outputs": [
    {
     "name": "stdout",
     "output_type": "stream",
     "text": [
      "Hello,Edubridge\n"
     ]
    }
   ],
   "source": [
    "print('Hello,Edubridge')"
   ]
  },
  {
   "cell_type": "code",
   "execution_count": 3,
   "id": "1a87ca03",
   "metadata": {},
   "outputs": [
    {
     "name": "stdout",
     "output_type": "stream",
     "text": [
      "word\n"
     ]
    }
   ],
   "source": [
    "word='word'\n",
    "print(word)"
   ]
  },
  {
   "cell_type": "code",
   "execution_count": 4,
   "id": "7ba4fa14",
   "metadata": {},
   "outputs": [
    {
     "name": "stdout",
     "output_type": "stream",
     "text": [
      "this is a sentence\n"
     ]
    }
   ],
   "source": [
    "sentence=\"this is a sentence\"\n",
    "print(sentence)"
   ]
  },
  {
   "cell_type": "code",
   "execution_count": 11,
   "id": "7126d662",
   "metadata": {},
   "outputs": [
    {
     "name": "stdout",
     "output_type": "stream",
     "text": [
      "My name is Praisy.I am ,\n",
      "the master Trainer in Edubridge.\n",
      "I take PG in DA.\n"
     ]
    }
   ],
   "source": [
    "#This will print a paragraph\n",
    "paragraph=\"\"\"My name is Praisy.I am ,\n",
    "the master Trainer in Edubridge.\n",
    "I take PG in DA.\"\"\"\n",
    "print(paragraph)"
   ]
  },
  {
   "cell_type": "code",
   "execution_count": 15,
   "id": "ae3b4d73",
   "metadata": {},
   "outputs": [
    {
     "name": "stdout",
     "output_type": "stream",
     "text": [
      "50\n",
      "John\n",
      "<class 'int'>\n",
      "<class 'str'>\n",
      "<class 'bool'>\n",
      "<class 'float'>\n"
     ]
    }
   ],
   "source": [
    "#Creating variables\n",
    "x=50 #type int\n",
    "y='John'#type string\n",
    "z=True\n",
    "a=3.9\n",
    "print(x)\n",
    "print(y)\n",
    "print(type(x))\n",
    "print(type(y))\n",
    "print(type(z))\n",
    "print(type(a))"
   ]
  },
  {
   "cell_type": "code",
   "execution_count": 22,
   "id": "41da585e",
   "metadata": {},
   "outputs": [
    {
     "name": "stdout",
     "output_type": "stream",
     "text": [
      "4\n"
     ]
    }
   ],
   "source": [
    "x='sally' #x is of type str\n",
    "x=4\n",
    "print(x)"
   ]
  },
  {
   "cell_type": "code",
   "execution_count": null,
   "id": "697616ac",
   "metadata": {},
   "outputs": [],
   "source": [
    "type()-get the datatype of the variable."
   ]
  },
  {
   "cell_type": "code",
   "execution_count": 23,
   "id": "a8c39952",
   "metadata": {},
   "outputs": [
    {
     "name": "stdout",
     "output_type": "stream",
     "text": [
      "john\n"
     ]
    }
   ],
   "source": [
    "x=\"john\"\n",
    "print(x)"
   ]
  },
  {
   "cell_type": "code",
   "execution_count": 24,
   "id": "c0fc269a",
   "metadata": {},
   "outputs": [
    {
     "name": "stdout",
     "output_type": "stream",
     "text": [
      "john\n"
     ]
    }
   ],
   "source": [
    "x='john'\n",
    "print(x)"
   ]
  },
  {
   "cell_type": "code",
   "execution_count": 2,
   "id": "28729c17",
   "metadata": {},
   "outputs": [
    {
     "name": "stdout",
     "output_type": "stream",
     "text": [
      "John\n"
     ]
    },
    {
     "ename": "NameError",
     "evalue": "name 'A' is not defined",
     "output_type": "error",
     "traceback": [
      "\u001b[1;31m---------------------------------------------------------------------------\u001b[0m",
      "\u001b[1;31mNameError\u001b[0m                                 Traceback (most recent call last)",
      "\u001b[1;32m<ipython-input-2-7b02fca69cb3>\u001b[0m in \u001b[0;36m<module>\u001b[1;34m\u001b[0m\n\u001b[0;32m      1\u001b[0m \u001b[0ma\u001b[0m\u001b[1;33m=\u001b[0m\u001b[1;34m'John'\u001b[0m\u001b[1;33m\u001b[0m\u001b[1;33m\u001b[0m\u001b[0m\n\u001b[0;32m      2\u001b[0m \u001b[0mprint\u001b[0m\u001b[1;33m(\u001b[0m\u001b[0ma\u001b[0m\u001b[1;33m)\u001b[0m\u001b[1;33m\u001b[0m\u001b[1;33m\u001b[0m\u001b[0m\n\u001b[1;32m----> 3\u001b[1;33m \u001b[0mprint\u001b[0m\u001b[1;33m(\u001b[0m\u001b[0mA\u001b[0m\u001b[1;33m)\u001b[0m\u001b[1;33m\u001b[0m\u001b[1;33m\u001b[0m\u001b[0m\n\u001b[0m",
      "\u001b[1;31mNameError\u001b[0m: name 'A' is not defined"
     ]
    }
   ],
   "source": [
    "a='John'\n",
    "print(a)\n",
    "print(A)"
   ]
  },
  {
   "cell_type": "code",
   "execution_count": 3,
   "id": "432f04ba",
   "metadata": {},
   "outputs": [
    {
     "name": "stdout",
     "output_type": "stream",
     "text": [
      "1\n",
      "1\n",
      "1\n"
     ]
    }
   ],
   "source": [
    "a=b=c=1\n",
    "print(a)\n",
    "print(b)\n",
    "print(c)"
   ]
  },
  {
   "cell_type": "code",
   "execution_count": 4,
   "id": "43b1b51d",
   "metadata": {},
   "outputs": [
    {
     "name": "stdout",
     "output_type": "stream",
     "text": [
      "orange\n",
      "mango\n",
      "kiwi\n"
     ]
    }
   ],
   "source": [
    "a,b,c='orange','mango','kiwi'\n",
    "print(a)\n",
    "print(b)\n",
    "print(c)"
   ]
  },
  {
   "cell_type": "code",
   "execution_count": 5,
   "id": "01df7785",
   "metadata": {},
   "outputs": [
    {
     "name": "stdout",
     "output_type": "stream",
     "text": [
      "1\n",
      "2\n",
      "Praisy\n"
     ]
    }
   ],
   "source": [
    "a,b,c=1,2,'Praisy'\n",
    "print(a)\n",
    "print(b)\n",
    "print(c)"
   ]
  },
  {
   "cell_type": "code",
   "execution_count": 6,
   "id": "6c16171e",
   "metadata": {},
   "outputs": [
    {
     "name": "stdout",
     "output_type": "stream",
     "text": [
      "3\n",
      "hello\n"
     ]
    }
   ],
   "source": [
    "a=3\n",
    "b=a\n",
    "c=a\n",
    "print(a)\n",
    "a='hello'\n",
    "#b=a\n",
    "#c=a\n",
    "print(a)"
   ]
  },
  {
   "cell_type": "code",
   "execution_count": 10,
   "id": "88c192c3",
   "metadata": {},
   "outputs": [
    {
     "name": "stdout",
     "output_type": "stream",
     "text": [
      "Python is awsome\n"
     ]
    }
   ],
   "source": [
    "#python output variables\n",
    "x='awsome'\n",
    "print(\"Python is \"+x)"
   ]
  },
  {
   "cell_type": "code",
   "execution_count": 13,
   "id": "a671fd85",
   "metadata": {},
   "outputs": [
    {
     "name": "stdout",
     "output_type": "stream",
     "text": [
      "Praisy is a Master Trainer\n"
     ]
    }
   ],
   "source": [
    "x='Praisy is '\n",
    "y='a Master Trainer'\n",
    "z=x+y\n",
    "print(z)"
   ]
  },
  {
   "cell_type": "code",
   "execution_count": 14,
   "id": "d248052a",
   "metadata": {},
   "outputs": [
    {
     "name": "stdout",
     "output_type": "stream",
     "text": [
      "string\n",
      "string\n",
      "3\n"
     ]
    }
   ],
   "source": [
    "#memory allocation\n",
    "a=3\n",
    "b=a\n",
    "c=a\n",
    "#print(a)\n",
    "a='string'\n",
    "b=a\n",
    "print(a)\n",
    "print(b)\n",
    "print(c)\n",
    "#print(a)\n"
   ]
  },
  {
   "cell_type": "code",
   "execution_count": 24,
   "id": "039a000c",
   "metadata": {},
   "outputs": [
    {
     "name": "stdout",
     "output_type": "stream",
     "text": [
      " \n",
      "HEL\n",
      " \n",
      " HELLO   HELLO \n",
      " HELLO  HELLO \n",
      "LLO\n",
      " hello \n",
      " HELLO \n",
      "HELLO\n",
      " JELLO \n"
     ]
    }
   ],
   "source": [
    "b=\" HELLO \"\n",
    "print(b[0])\n",
    "#print(b[])\n",
    "print(b[1:4])\n",
    "print(b[6:])\n",
    "print(b+\" \"+b)\n",
    "print(b*2)\n",
    "print(b[-4:-1])\n",
    "print(b.lower())\n",
    "print(b.upper())\n",
    "print(b.strip())#Hello\n",
    "print(b.replace('H','J'))"
   ]
  },
  {
   "cell_type": "code",
   "execution_count": 18,
   "id": "662a1679",
   "metadata": {},
   "outputs": [
    {
     "name": "stdout",
     "output_type": "stream",
     "text": [
      "Dear Learners\n"
     ]
    }
   ],
   "source": [
    "#String concatenation\n",
    "a='Dear'\n",
    "b='Learners'\n",
    "c=a+\" \"+b\n",
    "print(c)"
   ]
  },
  {
   "cell_type": "code",
   "execution_count": 20,
   "id": "65bd9ba6",
   "metadata": {},
   "outputs": [
    {
     "name": "stdout",
     "output_type": "stream",
     "text": [
      "['Hello', ' World!']\n"
     ]
    }
   ],
   "source": [
    "a = \"Hello, World!\"\n",
    "print(a.split(\",\"))"
   ]
  },
  {
   "cell_type": "code",
   "execution_count": 37,
   "id": "6a108f18",
   "metadata": {},
   "outputs": [
    {
     "name": "stdout",
     "output_type": "stream",
     "text": [
      "Hi John Hi John Hi John \n"
     ]
    }
   ],
   "source": [
    "str='Hi John '\n",
    "print(str * 3)"
   ]
  },
  {
   "cell_type": "code",
   "execution_count": 38,
   "id": "9502f70f",
   "metadata": {},
   "outputs": [
    {
     "name": "stdout",
     "output_type": "stream",
     "text": [
      "str1 + str2 =  HelloWorld!\n",
      "str1 * 3 = HelloHelloHello\n"
     ]
    }
   ],
   "source": [
    "# Python String Operations\n",
    "str1 = 'Hello'\n",
    "str2 ='World!'\n",
    "# using +\n",
    "print('str1 + str2 = ', str1 + str2)\n",
    "# using *\n",
    "print('str1 * 3 =', str1 * 3)"
   ]
  },
  {
   "cell_type": "code",
   "execution_count": 5,
   "id": "de90c7ae",
   "metadata": {},
   "outputs": [
    {
     "name": "stdout",
     "output_type": "stream",
     "text": [
      "['apple', 'mango', 'orange', 'grapes']\n",
      "4\n",
      "orange\n",
      "['apple', 'mango', 'orange', 'grapes']\n"
     ]
    }
   ],
   "source": [
    "#create list\n",
    "list=[\"apple\",\"mango\",\"orange\",\"grapes\"]\n",
    "print(list)\n",
    "print(len(list))\n",
    "print(list[2])\n",
    "print(list[:])\n",
    "#print(list[])"
   ]
  },
  {
   "cell_type": "code",
   "execution_count": null,
   "id": "67bdd893",
   "metadata": {},
   "outputs": [],
   "source": [
    "#create three list with three datatypes and print the type of that lists."
   ]
  },
  {
   "cell_type": "code",
   "execution_count": 9,
   "id": "928a3c81",
   "metadata": {},
   "outputs": [
    {
     "name": "stdout",
     "output_type": "stream",
     "text": [
      "d\n",
      "c\n",
      "c\n"
     ]
    }
   ],
   "source": [
    "#Negative indexing in list\n",
    "#-starts from end\n",
    "#-1 refers to the last item\n",
    "list=[\"a\",\"b\",\"c\",\"d\",\"e\"]\n",
    "print(list[-2])\n",
    "print(list[2])\n",
    "print(list[-3])"
   ]
  },
  {
   "cell_type": "code",
   "execution_count": 12,
   "id": "2b2431b5",
   "metadata": {},
   "outputs": [
    {
     "name": "stdout",
     "output_type": "stream",
     "text": [
      "['c', 'd', 'e']\n",
      "['a', 'b', 'c']\n"
     ]
    }
   ],
   "source": [
    "#Range of index\n",
    "#can specify a range of index by specifying where to start and where to end.\n",
    "list=[\"a\",\"b\",\"c\",\"d\",\"e\"]\n",
    "print(list[2:])\n",
    "print(list[:3])"
   ]
  },
  {
   "cell_type": "code",
   "execution_count": 6,
   "id": "ee94568c",
   "metadata": {},
   "outputs": [
    {
     "name": "stdout",
     "output_type": "stream",
     "text": [
      "Yes,'engineer' is in the l1 list\n"
     ]
    }
   ],
   "source": [
    "#Check  if item exists- To determine if a specified item is present in a list we use 'in'keyword/operator\n",
    "#eg: check if \"engineer\" is present in my designation list\n",
    "\n",
    "l1=[\"doctor\",\"engineer\",\"teacher\",\"nurse\"]\n",
    "if \"engineer\" in l1:\n",
    "    print(\"Yes,'engineer' is in the l1 list\")"
   ]
  },
  {
   "cell_type": "code",
   "execution_count": 13,
   "id": "9a125955",
   "metadata": {},
   "outputs": [
    {
     "name": "stdout",
     "output_type": "stream",
     "text": [
      "['kiwi', 'watermelon', 'banana', 'grapes']\n"
     ]
    }
   ],
   "source": [
    "#Change list items-to change the value of a specific item, refer to another index number\n",
    "#eg\n",
    "fruits=[\"kiwi\",\"apple\",\"banana\",\"grapes\"]\n",
    "fruits[1]=\"watermelon\"\n",
    "print(fruits)"
   ]
  },
  {
   "cell_type": "code",
   "execution_count": 14,
   "id": "dbda7fee",
   "metadata": {},
   "outputs": [
    {
     "name": "stdout",
     "output_type": "stream",
     "text": [
      "['kiwi', 'apple', 'watermelon', 'banana', 'grapes']\n"
     ]
    }
   ],
   "source": [
    "#Insert items-to insert a new item,without replacing any of the existing values ,we can use insert() method\n",
    "#-insert() methods an item at the specified index\n",
    "#eg: insert \"watermelon\" as the third item\n",
    "fruits=[\"kiwi\",\"apple\",\"banana\",\"grapes\"]\n",
    "fruits.insert(2,\"watermelon\")\n",
    "print(fruits)"
   ]
  },
  {
   "cell_type": "code",
   "execution_count": 15,
   "id": "db76e9c4",
   "metadata": {},
   "outputs": [
    {
     "name": "stdout",
     "output_type": "stream",
     "text": [
      "['kiwi', 'apple', 'banana', 'grapes', 'strawberry']\n"
     ]
    }
   ],
   "source": [
    "#Python-Add items(append)-to add an item to the end of the list,use append() method\n",
    "#eg:\n",
    "fruits=[\"kiwi\",\"apple\",\"banana\",\"grapes\"]\n",
    "fruits.append(\"strawberry\")\n",
    "print(fruits)"
   ]
  },
  {
   "cell_type": "code",
   "execution_count": 16,
   "id": "653cd0d4",
   "metadata": {},
   "outputs": [
    {
     "name": "stdout",
     "output_type": "stream",
     "text": [
      "['priya', 'rahul', 'girish', 'ayesha', 'poonam']\n"
     ]
    }
   ],
   "source": [
    "#Python-Extend lists-to append elements from another list to the current list,we use extend() method\n",
    "#eg:add the elements of the list2 to list 1\n",
    "list1=[\"priya\",\"rahul\",\"girish\"]\n",
    "list2=[\"ayesha\",\"poonam\"]\n",
    "list1.extend(list2)\n",
    "print(list1)"
   ]
  },
  {
   "cell_type": "code",
   "execution_count": null,
   "id": "7718dc81",
   "metadata": {},
   "outputs": [],
   "source": [
    "#Python-Remove list items-remove specified item-The remove() method removes the specified item\n",
    "#eg:\n",
    "#Learners will create an example"
   ]
  },
  {
   "cell_type": "code",
   "execution_count": 17,
   "id": "448f8d0e",
   "metadata": {},
   "outputs": [
    {
     "name": "stdout",
     "output_type": "stream",
     "text": [
      "['priya', 'girish']\n"
     ]
    }
   ],
   "source": [
    "#Remove specified index-the pop() method removes the specified index\n",
    "#eg:\n",
    "list1=[\"priya\",\"rahul\",\"girish\"]\n",
    "list1.pop(1)\n",
    "print(list1)"
   ]
  },
  {
   "cell_type": "code",
   "execution_count": 18,
   "id": "de9d5073",
   "metadata": {},
   "outputs": [
    {
     "name": "stdout",
     "output_type": "stream",
     "text": [
      "['priya', 'rahul']\n"
     ]
    }
   ],
   "source": [
    "#if you do not specify the index, the pop() method removes the last item\n",
    "#eg:\n",
    "list1=[\"priya\",\"rahul\",\"girish\"]\n",
    "list1.pop()\n",
    "print(list1)"
   ]
  },
  {
   "cell_type": "code",
   "execution_count": 22,
   "id": "297079db",
   "metadata": {},
   "outputs": [
    {
     "name": "stdout",
     "output_type": "stream",
     "text": [
      "['eggs', 'bread', 'fruits']\n"
     ]
    }
   ],
   "source": [
    "#del-keyword -also removes the specified index\n",
    "items=[\"milk\",\"eggs\",\"bread\",\"fruits\"]\n",
    "del items[0]\n",
    "print(items)"
   ]
  },
  {
   "cell_type": "code",
   "execution_count": 25,
   "id": "ecad4f4e",
   "metadata": {},
   "outputs": [],
   "source": [
    "#del-keyword can also delete the list completely\n",
    "items=[\"milk\",\"eggs\",\"bread\",\"fruits\"]\n",
    "del items\n",
    "#print(items)"
   ]
  },
  {
   "cell_type": "code",
   "execution_count": 24,
   "id": "265ac67a",
   "metadata": {},
   "outputs": [
    {
     "name": "stdout",
     "output_type": "stream",
     "text": [
      "[]\n"
     ]
    }
   ],
   "source": [
    "#clear the list-clear() method empties the list\n",
    "#-list still remains but there will be no content\n",
    "#eg:\n",
    "items=[\"milk\",\"eggs\",\"bread\",\"fruits\"]\n",
    "items.clear()\n",
    "print(items)"
   ]
  },
  {
   "cell_type": "code",
   "execution_count": null,
   "id": "5e1f9fab",
   "metadata": {},
   "outputs": [],
   "source": [
    "#create two list and perform slicing ,concatenate and repeat it"
   ]
  },
  {
   "cell_type": "markdown",
   "id": "79dcf38d",
   "metadata": {},
   "source": [
    "## Python -Tuples\n"
   ]
  },
  {
   "cell_type": "code",
   "execution_count": 27,
   "id": "612c4db5",
   "metadata": {},
   "outputs": [
    {
     "name": "stdout",
     "output_type": "stream",
     "text": [
      "('apple', 'grapes', 'kiwi')\n"
     ]
    }
   ],
   "source": [
    "#Create tuples\n",
    "tuple=(\"apple\",\"grapes\",\"kiwi\")\n",
    "print(tuple)"
   ]
  },
  {
   "cell_type": "code",
   "execution_count": null,
   "id": "365a93d1",
   "metadata": {},
   "outputs": [],
   "source": [
    "#Tuple items- tuple items are ordered ,unchangeable, and allow duplicate values\n",
    "#-Tuple items are indexed\n",
    "\n",
    "#ordered- tuples are in a defined order \n",
    "#-It will not change\n",
    "\n",
    "#Unchangeable-cannot add,remove,items after the tuple has been created."
   ]
  },
  {
   "cell_type": "code",
   "execution_count": 28,
   "id": "a01c914e",
   "metadata": {},
   "outputs": [
    {
     "name": "stdout",
     "output_type": "stream",
     "text": [
      "('pen', 'pencil', 'book', 'book', 'pencil')\n"
     ]
    }
   ],
   "source": [
    "#allow duplicates-Tuples are indexed\n",
    "#-can have items with the same value\n",
    "#eg:\n",
    "tuple=(\"pen\",\"pencil\",\"book\",\"book\",\"pencil\")\n",
    "print(tuple)"
   ]
  },
  {
   "cell_type": "code",
   "execution_count": 29,
   "id": "5b655814",
   "metadata": {},
   "outputs": [
    {
     "name": "stdout",
     "output_type": "stream",
     "text": [
      "5\n"
     ]
    }
   ],
   "source": [
    "#Tuple length-to determine how many items a tuple has,use the len()function\n",
    "#eg:\n",
    "tuple=(\"pen\",\"pencil\",\"book\",\"book\",\"pencil\")\n",
    "print(len(tuple))"
   ]
  },
  {
   "cell_type": "code",
   "execution_count": 31,
   "id": "ad371940",
   "metadata": {},
   "outputs": [
    {
     "name": "stdout",
     "output_type": "stream",
     "text": [
      "5\n",
      "book\n",
      "('pen', 'pencil', 'book', 'book')\n",
      "('pen', 'pencil', 'book', 'book', 'pencil', 'pen', 'pencil', 'book', 'book', 'pencil', 'pen', 'pencil', 'book', 'book', 'pencil')\n",
      "('pen', 'pencil', 'book', 'book', 'pencil', 'pen', 'pencil', 'book', 'book', 'pencil')\n"
     ]
    }
   ],
   "source": [
    "#Access the items in tuple using positions\n",
    "data=(\"pen\",\"pencil\",\"book\",\"book\",\"pencil\")\n",
    "print(len(data))\n",
    "print(data[3])\n",
    "print(data[:4])\n",
    "print(data+data+data)\n",
    "print(data * 2)"
   ]
  },
  {
   "cell_type": "code",
   "execution_count": 34,
   "id": "07ce3b85",
   "metadata": {},
   "outputs": [
    {
     "name": "stdout",
     "output_type": "stream",
     "text": [
      "<class 'tuple'>\n",
      "<class 'str'>\n"
     ]
    }
   ],
   "source": [
    "#create tuple with one item- you have to add a comma after the item, otherwise the python interpreter will not recognize it as a\n",
    "tuple\n",
    "#eg:\n",
    "thistuple=(\"apple\",)\n",
    "print(type(thistuple))\n",
    "\n",
    "#not a tuple\n",
    "thistuple=(\"apple\")\n",
    "print(type(thistuple))"
   ]
  },
  {
   "cell_type": "code",
   "execution_count": 36,
   "id": "0fa10e9c",
   "metadata": {},
   "outputs": [
    {
     "name": "stdout",
     "output_type": "stream",
     "text": [
      "('joins', 'innerjoin', 'outerjoin')\n",
      "(1, 3, 5, 6)\n",
      "(True, False)\n"
     ]
    }
   ],
   "source": [
    "#Tuple items-Datatypes -can be of any datatyp\n",
    "#eg:\n",
    "tup1=(\"joins\",\"innerjoin\",\"outerjoin\")\n",
    "tup2=(1,3,5,6)\n",
    "tup3=(True,False)\n",
    "print(tup1)\n",
    "print(tup2)\n",
    "print(tup3)"
   ]
  },
  {
   "cell_type": "code",
   "execution_count": 38,
   "id": "41647251",
   "metadata": {},
   "outputs": [
    {
     "name": "stdout",
     "output_type": "stream",
     "text": [
      "('abc', 0.4, 45, False, 'male')\n"
     ]
    }
   ],
   "source": [
    "#Tuple can contain different datatypes\n",
    "#eg:\n",
    "tup=(\"abc\",0.4,45,False,\"male\")\n",
    "print(tup)"
   ]
  },
  {
   "cell_type": "code",
   "execution_count": 2,
   "id": "f35370a1",
   "metadata": {},
   "outputs": [
    {
     "name": "stdout",
     "output_type": "stream",
     "text": [
      "('apple', 'banana', 'cherry')\n"
     ]
    }
   ],
   "source": [
    "#the tuple()constructor-possible to use the tuple() constructor to make a tuple\n",
    "#eg:\n",
    "thistuple=tuple((\"apple\",\"banana\",\"cherry\"))\n",
    "print(thistuple)"
   ]
  },
  {
   "cell_type": "code",
   "execution_count": 1,
   "id": "b7c3fe8d",
   "metadata": {},
   "outputs": [
    {
     "name": "stdout",
     "output_type": "stream",
     "text": [
      "('biriyani', 'Chicken Mughalai', 'kabab', 'dal', 'rice')\n"
     ]
    }
   ],
   "source": [
    "#Python-update tuple-changing tuple values cannot happen\n",
    "#-Tuples are immutable\n",
    "#-But there are workarounds\n",
    "#-You can convert the tuple into list, change the list and convert the list back to tuple.\n",
    "#eg:\n",
    "x=(\"biriyani\",\"salad\",\"kabab\",\"dal\",\"rice\")\n",
    "y=list(x)\n",
    "y[1]=\"Chicken Mughalai\"\n",
    "x=tuple(y)\n",
    "print(x)"
   ]
  },
  {
   "cell_type": "markdown",
   "id": "4ca58541",
   "metadata": {},
   "source": [
    "## Python -Dictionary"
   ]
  },
  {
   "cell_type": "code",
   "execution_count": 3,
   "id": "cd867310",
   "metadata": {},
   "outputs": [
    {
     "name": "stdout",
     "output_type": "stream",
     "text": [
      "{'name': 'Praisy', 'age': 24, 'salary': 20000}\n",
      "{'name': 'raju', 'sub': 'Physics', 'design': 'Trainer'}\n"
     ]
    }
   ],
   "source": [
    "#Create a dictionary-dictionaries are used to store data values in key:value pairs\n",
    "#-A dictionary is a collection which is ordered,changeable, and do not allow duplicate\n",
    "#-Enclosed in ({}) and have keys and values\n",
    "#eg:\n",
    "dict1={'name':'Praisy',\n",
    "      'age':24,\n",
    "      'salary':20000\n",
    "     }\n",
    "dict2={'name':'raju',\n",
    "      'sub':'Physics',\n",
    "      'design':'Trainer'\n",
    "      }\n",
    "print(dict1)\n",
    "print(dict2)"
   ]
  },
  {
   "cell_type": "code",
   "execution_count": 7,
   "id": "9b86061e",
   "metadata": {},
   "outputs": [
    {
     "name": "stdout",
     "output_type": "stream",
     "text": [
      "{'name': 'Praisy', 'age': 24, 'salary': 20000, 'year': 2022}\n"
     ]
    }
   ],
   "source": [
    "#Duplicates not allowed-Dictionaries cannot have two items with the same key\n",
    "#eg:-duplicate values will overwrite existing values\n",
    "dict1={'name':'Praisy',\n",
    "      'age':24,\n",
    "      'salary':20000,\n",
    "       'year':2020,\n",
    "       'year':2022\n",
    "      }\n",
    "print(dict1)"
   ]
  },
  {
   "cell_type": "code",
   "execution_count": 8,
   "id": "638a17ce",
   "metadata": {},
   "outputs": [
    {
     "name": "stdout",
     "output_type": "stream",
     "text": [
      "{'name': 'Praisy', 'age': 24, 'salary': 20000, 'year': 2020}\n",
      "4\n",
      "20000\n"
     ]
    }
   ],
   "source": [
    "#Dictionary length-len()function\n",
    "#eg:\n",
    "dict1={'name':'Praisy',\n",
    "      'age':24,\n",
    "      'salary':20000,\n",
    "       'year':2019,\n",
    "       'year':2020\n",
    "      }\n",
    "print(dict1)\n",
    "print(len(dict1))\n",
    "#x=dict1['salary']\n",
    "#print(x)"
   ]
  },
  {
   "cell_type": "markdown",
   "id": "a58dcb6c",
   "metadata": {},
   "source": [
    "#Dictionary -datatypes: -the values in dictionary items can be of any datatype\n",
    "#eg: string,int,boolean,list"
   ]
  },
  {
   "cell_type": "code",
   "execution_count": 1,
   "id": "6108b537",
   "metadata": {},
   "outputs": [
    {
     "name": "stdout",
     "output_type": "stream",
     "text": [
      "{'name': 'Praisy', 'age': 24, 'salary': 30000, 'year': 2020}\n"
     ]
    }
   ],
   "source": [
    "#update-() method\n",
    "#eg:\n",
    "dict1={'name':'Praisy',\n",
    "      'age':24,\n",
    "      'salary':20000,\n",
    "       'year':2019,\n",
    "       'year':2020\n",
    "      }\n",
    "dict1.update({'salary':30000})\n",
    "print(dict1)"
   ]
  },
  {
   "cell_type": "code",
   "execution_count": 2,
   "id": "b532914b",
   "metadata": {},
   "outputs": [
    {
     "name": "stdout",
     "output_type": "stream",
     "text": [
      "{'age': 24, 'salary': 20000, 'year': 2020}\n"
     ]
    }
   ],
   "source": [
    "#Removing Items:-pop() method removes the item with specified keyname\n",
    "#eg:\n",
    "dict1={'name':'Praisy',\n",
    "      'age':24,\n",
    "      'salary':20000,\n",
    "       'year':2019,\n",
    "       'year':2020\n",
    "      }\n",
    "dict1.pop(\"name\")\n",
    "print(dict1)"
   ]
  },
  {
   "cell_type": "code",
   "execution_count": 5,
   "id": "dbfc7d17",
   "metadata": {},
   "outputs": [
    {
     "name": "stdout",
     "output_type": "stream",
     "text": [
      "{'name': 'Praisy', 'age': 24}\n"
     ]
    }
   ],
   "source": [
    "#popitem()method removes the last inserted item\n",
    "#eg:\n",
    "dict1={'name':'Praisy',\n",
    "      'age':24,\n",
    "      'salary':20000,\n",
    "      }\n",
    "dict1.popitem()\n",
    "print(dict1)"
   ]
  },
  {
   "cell_type": "code",
   "execution_count": 6,
   "id": "7d2bb76a",
   "metadata": {},
   "outputs": [
    {
     "name": "stdout",
     "output_type": "stream",
     "text": [
      "{'name': 'Praisy', 'salary': 20000, 'year': 2020}\n"
     ]
    }
   ],
   "source": [
    "#del keyword-removes the item with the specified keyname\n",
    "#eg:\n",
    "dict1={'name':'Praisy',\n",
    "      'age':24,\n",
    "      'salary':20000,\n",
    "       'year':2019,\n",
    "       'year':2020\n",
    "      }\n",
    "del dict1[\"age\"]\n",
    "print(dict1)"
   ]
  },
  {
   "cell_type": "code",
   "execution_count": 7,
   "id": "624023b7",
   "metadata": {},
   "outputs": [
    {
     "ename": "NameError",
     "evalue": "name 'dict1' is not defined",
     "output_type": "error",
     "traceback": [
      "\u001b[1;31m---------------------------------------------------------------------------\u001b[0m",
      "\u001b[1;31mNameError\u001b[0m                                 Traceback (most recent call last)",
      "\u001b[1;32m<ipython-input-7-9155f029a758>\u001b[0m in \u001b[0;36m<module>\u001b[1;34m\u001b[0m\n\u001b[0;32m      8\u001b[0m       }\n\u001b[0;32m      9\u001b[0m \u001b[1;32mdel\u001b[0m \u001b[0mdict1\u001b[0m\u001b[1;33m\u001b[0m\u001b[1;33m\u001b[0m\u001b[0m\n\u001b[1;32m---> 10\u001b[1;33m \u001b[0mprint\u001b[0m\u001b[1;33m(\u001b[0m\u001b[0mdict1\u001b[0m\u001b[1;33m)\u001b[0m\u001b[1;33m\u001b[0m\u001b[1;33m\u001b[0m\u001b[0m\n\u001b[0m",
      "\u001b[1;31mNameError\u001b[0m: name 'dict1' is not defined"
     ]
    }
   ],
   "source": [
    "#the del keyword can aslo delete the complete dictionary\n",
    "#eg:\n",
    "dict1={'name':'Praisy',\n",
    "      'age':24,\n",
    "      'salary':20000,\n",
    "       'year':2019,\n",
    "       'year':2020\n",
    "      }\n",
    "del dict1\n",
    "print(dict1)"
   ]
  },
  {
   "cell_type": "code",
   "execution_count": 8,
   "id": "ac1c14a6",
   "metadata": {},
   "outputs": [
    {
     "name": "stdout",
     "output_type": "stream",
     "text": [
      "{}\n"
     ]
    }
   ],
   "source": [
    "#clear()-empties the dictionary\n",
    "#eg:\n",
    "dict1={'name':'Praisy',\n",
    "      'age':24,\n",
    "      'salary':20000,\n",
    "       'year':2019,\n",
    "       'year':2020\n",
    "      }\n",
    "dict1.clear()\n",
    "print(dict1)"
   ]
  },
  {
   "cell_type": "markdown",
   "id": "a4457f05",
   "metadata": {},
   "source": [
    "## Sets"
   ]
  },
  {
   "cell_type": "code",
   "execution_count": null,
   "id": "c8735632",
   "metadata": {},
   "outputs": [],
   "source": [
    "#-set is a collection which is unordered and unindexed\n",
    "#-sets are written in curly brackets\n",
    "#-Equivalent to sets in Mathematics\n",
    "#-Order of elements in a set is undefined\n",
    "#-you can add and delete the elements of a sets, you can iterate the elements of the set\n",
    "#-you can perform standard operations(union,intersection,difference etc)"
   ]
  },
  {
   "cell_type": "code",
   "execution_count": 1,
   "id": "c6694786",
   "metadata": {},
   "outputs": [
    {
     "name": "stdout",
     "output_type": "stream",
     "text": [
      "{'c', 'd', 'e', 'a', 'b'}\n"
     ]
    }
   ],
   "source": [
    "#creata a set\n",
    "set={\"a\",\"b\",\"c\",\"d\",\"e\"}\n",
    "print(set)\n",
    "#note: Sets are unordered ,so you cannot be sure in which order the items will appear."
   ]
  },
  {
   "cell_type": "code",
   "execution_count": null,
   "id": "5c878254",
   "metadata": {},
   "outputs": [],
   "source": [
    "#set items: are ordered,unchangeable and do not allow duplicate values\n",
    "#unordered: *items in a set do not have a defined order\n",
    "#*set items can appear in a different order everytime you use them and cannot be referred to by index or key\n",
    "#Unchangeable:-set items are unchangeable ,meaning we cannot change the items after the set has been created.\n",
    "#*once a set is cretaed ,you cannot change its items, but you can remove and add items."
   ]
  },
  {
   "cell_type": "code",
   "execution_count": 2,
   "id": "521a8b54",
   "metadata": {},
   "outputs": [
    {
     "name": "stdout",
     "output_type": "stream",
     "text": [
      "{'c', 'd', 'e', 'a', 'b'}\n"
     ]
    }
   ],
   "source": [
    "#Duplicates are not allowed-sets cannot have two items with the same value\n",
    "#eg:\n",
    "set={\"a\",\"b\",\"c\",\"d\",\"e\",\"a\",\"d\"}\n",
    "print(set)"
   ]
  },
  {
   "cell_type": "code",
   "execution_count": 3,
   "id": "77254fe6",
   "metadata": {},
   "outputs": [
    {
     "name": "stdout",
     "output_type": "stream",
     "text": [
      "5\n"
     ]
    }
   ],
   "source": [
    "#get the length -use len() method\n",
    "#eg:\n",
    "print(len(set))"
   ]
  },
  {
   "cell_type": "code",
   "execution_count": 5,
   "id": "1a9cb8bc",
   "metadata": {},
   "outputs": [
    {
     "name": "stdout",
     "output_type": "stream",
     "text": [
      "{'c', 'd', 'e', 'a', 'b'}\n",
      "{1, 4, 5, 6}\n",
      "{True}\n"
     ]
    }
   ],
   "source": [
    "#Set datatypes:set items can be of any datatype\n",
    "#eg:\n",
    "set1={\"a\",\"b\",\"c\",\"d\",\"e\",\"a\",\"d\"}\n",
    "set2={1,4,5,6}\n",
    "set3={True,True}\n",
    "print(set1)\n",
    "print(set2)\n",
    "print(set3)"
   ]
  },
  {
   "cell_type": "code",
   "execution_count": 2,
   "id": "9494c731",
   "metadata": {},
   "outputs": [
    {
     "name": "stdout",
     "output_type": "stream",
     "text": [
      "{True, 'female', 40, 24, 'abc'}\n"
     ]
    }
   ],
   "source": [
    "#sets can contain different datatypes\n",
    "#eg: \n",
    "set1={\"abc\",24,True,40,\"female\"}\n",
    "print(set1)"
   ]
  },
  {
   "cell_type": "code",
   "execution_count": 2,
   "id": "48da569d",
   "metadata": {},
   "outputs": [
    {
     "name": "stdout",
     "output_type": "stream",
     "text": [
      "<class 'set'>\n"
     ]
    }
   ],
   "source": [
    "#type()\n",
    "#eg:\n",
    "set1={\"abc\",24,True,40,\"female\"}\n",
    "print(type(set1))"
   ]
  },
  {
   "cell_type": "code",
   "execution_count": 3,
   "id": "78ce0812",
   "metadata": {},
   "outputs": [
    {
     "name": "stdout",
     "output_type": "stream",
     "text": [
      "{'apple', 'banana', 'cherry'}\n"
     ]
    }
   ],
   "source": [
    "#set() constructor\n",
    "thisset=set((\"apple\",\"banana\",\"cherry\"))#note the rounded brackets\n",
    "print(thisset)"
   ]
  },
  {
   "cell_type": "markdown",
   "id": "d25d2a8a",
   "metadata": {},
   "source": [
    "# Frozensets-working with different operations"
   ]
  },
  {
   "cell_type": "code",
   "execution_count": null,
   "id": "e842f077",
   "metadata": {},
   "outputs": [],
   "source": [
    "#Refer the word document for reference.\n",
    "\n",
    "#Frozen set: Frozenset has the characteristics present in sets.\n",
    "#-you cannot change the elements once it is assigned\n",
    "#Frozenset can be created by using the function frozenset()\n",
    "#this datatype supports different operations: union(),intersection,difference(),symmetric difference,isdisjoint(),issubset() etc"
   ]
  },
  {
   "cell_type": "code",
   "execution_count": 8,
   "id": "527c9d94",
   "metadata": {},
   "outputs": [
    {
     "name": "stdout",
     "output_type": "stream",
     "text": [
      "frozenset({10, 20})\n",
      "frozenset({40, 50})\n"
     ]
    }
   ],
   "source": [
    "#Frozenset-difference()\n",
    "A = frozenset({10, 20, 30})\n",
    "B = frozenset({30, 40, 50})\n",
    "print(A.difference(B))\n",
    "print(B.difference(A))"
   ]
  },
  {
   "cell_type": "code",
   "execution_count": 15,
   "id": "b9926d3a",
   "metadata": {},
   "outputs": [
    {
     "name": "stdout",
     "output_type": "stream",
     "text": [
      "frozenset({1, 2, 3, 4})\n"
     ]
    }
   ],
   "source": [
    "#Frozenset operations:\n",
    "A=frozenset({1,2,3,4})\n",
    "B=frozenset({3,4,5,6})\n",
    "#copying a frozenset\n",
    "c=A.copy()\n",
    "print(c)"
   ]
  },
  {
   "cell_type": "code",
   "execution_count": 10,
   "id": "cb360bff",
   "metadata": {},
   "outputs": [
    {
     "name": "stdout",
     "output_type": "stream",
     "text": [
      "frozenset({1, 2, 3, 4, 5, 6})\n"
     ]
    }
   ],
   "source": [
    "#union\n",
    "print(A.union(B))"
   ]
  },
  {
   "cell_type": "code",
   "execution_count": 11,
   "id": "cf7ab874",
   "metadata": {},
   "outputs": [
    {
     "name": "stdout",
     "output_type": "stream",
     "text": [
      "frozenset({3, 4})\n"
     ]
    }
   ],
   "source": [
    "#intersection\n",
    "print(A.intersection(B))"
   ]
  },
  {
   "cell_type": "code",
   "execution_count": 12,
   "id": "81b87932",
   "metadata": {},
   "outputs": [
    {
     "name": "stdout",
     "output_type": "stream",
     "text": [
      "frozenset({1, 2})\n"
     ]
    }
   ],
   "source": [
    "#difference\n",
    "print(A.difference(B))"
   ]
  },
  {
   "cell_type": "code",
   "execution_count": 13,
   "id": "6136e9fc",
   "metadata": {},
   "outputs": [
    {
     "name": "stdout",
     "output_type": "stream",
     "text": [
      "frozenset({1, 2, 5, 6})\n"
     ]
    }
   ],
   "source": [
    "#symmetric difference\n",
    "print(A.symmetric_difference(B))"
   ]
  },
  {
   "cell_type": "code",
   "execution_count": 16,
   "id": "381da663",
   "metadata": {},
   "outputs": [
    {
     "name": "stdout",
     "output_type": "stream",
     "text": [
      "True\n"
     ]
    }
   ],
   "source": [
    "#Example\n",
    "A=frozenset([1,2,3,4])\n",
    "B=frozenset([3,4,5,6])\n",
    "C=frozenset([5,6])\n",
    "#disjoint()method\n",
    "print(A.isdisjoint(C))"
   ]
  },
  {
   "cell_type": "code",
   "execution_count": 17,
   "id": "ca7c3354",
   "metadata": {},
   "outputs": [
    {
     "name": "stdout",
     "output_type": "stream",
     "text": [
      "True\n"
     ]
    }
   ],
   "source": [
    "#issubset()method\n",
    "print(C.issubset(B))"
   ]
  },
  {
   "cell_type": "code",
   "execution_count": 18,
   "id": "d36cc896",
   "metadata": {},
   "outputs": [
    {
     "name": "stdout",
     "output_type": "stream",
     "text": [
      "True\n"
     ]
    }
   ],
   "source": [
    "#issuperset()method\n",
    "print(B.issuperset(C))"
   ]
  },
  {
   "cell_type": "markdown",
   "id": "07a99990",
   "metadata": {},
   "source": [
    "# Python operators"
   ]
  },
  {
   "cell_type": "code",
   "execution_count": 24,
   "id": "11be149d",
   "metadata": {},
   "outputs": [
    {
     "name": "stdout",
     "output_type": "stream",
     "text": [
      "Line 1-x is not available in the given list\n",
      "Line 2-y is avaibale in the given list\n"
     ]
    }
   ],
   "source": [
    "#membership operators:\n",
    "#Eg:Here we check whether the value of x=4 and value of y=8 is available in list or not, by using in and not in operators\n",
    "x=10\n",
    "y=5\n",
    "list=[1,2,3,4,5]\n",
    "if(x in list):\n",
    "    print(\"Line 1-x is available in the given list\")\n",
    "else:\n",
    "    print(\"Line 1-x is not available in the given list\")\n",
    "if(y not in list):\n",
    "    print(\"Line 2-y is not available in the given list\")\n",
    "else:\n",
    "    print(\"Line 2-y is avaibale in the given list\")"
   ]
  },
  {
   "cell_type": "code",
   "execution_count": 25,
   "id": "ac89b51d",
   "metadata": {},
   "outputs": [
    {
     "name": "stdout",
     "output_type": "stream",
     "text": [
      "True\n",
      "False\n",
      "True\n"
     ]
    }
   ],
   "source": [
    "#Identity operator\n",
    "#eg:\n",
    "x=[\"apple\",\"banana\"]\n",
    "y=[\"apple\",\"banana\"]\n",
    "z=x\n",
    "print(x is z)#prints true because z is the same object as x\n",
    "print(x is y)#returns false because x is not the same as y,but they have the same content\n",
    "print(x==y)#returns true x is equal to y"
   ]
  },
  {
   "cell_type": "markdown",
   "id": "d6782268",
   "metadata": {},
   "source": [
    "## Python Decision Making"
   ]
  },
  {
   "cell_type": "code",
   "execution_count": 26,
   "id": "48efe4da",
   "metadata": {},
   "outputs": [
    {
     "name": "stdout",
     "output_type": "stream",
     "text": [
      "a is greater than 10\n"
     ]
    }
   ],
   "source": [
    "#syntax: if statement\n",
    "#if expression\n",
    "    #statements\n",
    "#eg:\n",
    "a=15\n",
    "if (a>10):\n",
    "    print(\"a is greater than 10\")"
   ]
  },
  {
   "cell_type": "code",
   "execution_count": 27,
   "id": "f57080fb",
   "metadata": {},
   "outputs": [
    {
     "name": "stdout",
     "output_type": "stream",
     "text": [
      "b is greater than a\n"
     ]
    }
   ],
   "source": [
    "#syntax: if else statement\n",
    "#if expression\n",
    "    #statements\n",
    "#else:\n",
    "    #statements\n",
    "#eg:\n",
    "a=15\n",
    "b=20\n",
    "if a > b:\n",
    "    print(\"a is greater than b\")\n",
    "else:\n",
    "    print(\"b is greater than a\")"
   ]
  },
  {
   "cell_type": "code",
   "execution_count": 28,
   "id": "001f490b",
   "metadata": {},
   "outputs": [
    {
     "name": "stdout",
     "output_type": "stream",
     "text": [
      "Enter your age39\n",
      "Person is eligible to vote\n"
     ]
    }
   ],
   "source": [
    "#Example:\n",
    "age=int(input(\"Enter your age\"))\n",
    "if age >=18:\n",
    "    print(\"Person is eligible to vote\")\n",
    "else:\n",
    "    print(\"Sorry!, you will have to wait\")"
   ]
  },
  {
   "cell_type": "code",
   "execution_count": 31,
   "id": "70971297",
   "metadata": {},
   "outputs": [
    {
     "name": "stdout",
     "output_type": "stream",
     "text": [
      "a is equal to b\n"
     ]
    }
   ],
   "source": [
    "#Nested if- syntax:\n",
    "#if expression:\n",
    "    #execute your code:\n",
    "#elseif expression:\n",
    "    #execute the code:\n",
    "#else:\n",
    "    #execute the code:\n",
    "#eg:\n",
    "a=15\n",
    "b=15\n",
    "if a>b:\n",
    "    print(\"a is greater than b\")\n",
    "elif a==b:\n",
    "    print(\"a is equal to b\")\n",
    "else:\n",
    "    print(\"a is not equal to b\")"
   ]
  },
  {
   "cell_type": "code",
   "execution_count": 33,
   "id": "ead13794",
   "metadata": {},
   "outputs": [
    {
     "name": "stdout",
     "output_type": "stream",
     "text": [
      "enter a number4\n",
      "Number is even\n"
     ]
    }
   ],
   "source": [
    "#Check whether number is even \n",
    "num=int(input(\"enter a number\"))\n",
    "if num%2==0:\n",
    "    print(\"Number is even\")\n",
    "else:\n",
    "    print(\"Number is odd\")"
   ]
  },
  {
   "cell_type": "code",
   "execution_count": null,
   "id": "bc0a431d",
   "metadata": {},
   "outputs": [],
   "source": []
  }
 ],
 "metadata": {
  "kernelspec": {
   "display_name": "Python 3",
   "language": "python",
   "name": "python3"
  },
  "language_info": {
   "codemirror_mode": {
    "name": "ipython",
    "version": 3
   },
   "file_extension": ".py",
   "mimetype": "text/x-python",
   "name": "python",
   "nbconvert_exporter": "python",
   "pygments_lexer": "ipython3",
   "version": "3.8.8"
  }
 },
 "nbformat": 4,
 "nbformat_minor": 5
}
