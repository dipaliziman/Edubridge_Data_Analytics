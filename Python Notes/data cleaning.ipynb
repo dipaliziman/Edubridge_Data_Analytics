{
 "cells": [
  {
   "cell_type": "markdown",
   "id": "c4185a1a",
   "metadata": {},
   "source": [
    "## data cleaning\n",
    ">data cleaning means fixing bad data inyour dataset. bad data  could be empty dataset, wrong data format,duplicates,empty cell"
   ]
  },
  {
   "cell_type": "markdown",
   "id": "549c804d",
   "metadata": {},
   "source": [
    "## handling missing values(Na or NAN) using python\n",
    ">\n"
   ]
  },
  {
   "cell_type": "code",
   "execution_count": 1,
   "id": "2f54abc7",
   "metadata": {},
   "outputs": [
    {
     "name": "stdout",
     "output_type": "stream",
     "text": [
      "        One       Two     Three\n",
      "a  0.283695  1.367830 -1.057755\n",
      "b       NaN       NaN       NaN\n",
      "c  0.091942  0.271002 -1.532848\n",
      "d       NaN       NaN       NaN\n",
      "e  0.407063 -0.628318 -0.930745\n",
      "f  0.921777  0.019223  2.596933\n",
      "g       NaN       NaN       NaN\n",
      "h -1.739654  0.341404 -0.610352\n"
     ]
    }
   ],
   "source": [
    "#import the pandas library \n",
    "#using reindexing we are creating data frame\n",
    "import pandas as pd\n",
    "import numpy as np\n",
    "df=pd.DataFrame(np.random.randn(5, 3),index=['a','c','e','f','h'],columns=['One','Two','Three'])\n",
    "df=df.reindex(['a','b','c','d','e','f','g','h'])\n",
    "print(df)"
   ]
  },
  {
   "cell_type": "code",
   "execution_count": 2,
   "id": "d390ecea",
   "metadata": {},
   "outputs": [
    {
     "name": "stdout",
     "output_type": "stream",
     "text": [
      "a    False\n",
      "b     True\n",
      "c    False\n",
      "d     True\n",
      "e    False\n",
      "f    False\n",
      "g     True\n",
      "h    False\n",
      "Name: One, dtype: bool\n"
     ]
    }
   ],
   "source": [
    "#check for missing values\n",
    "#to make detecting missing values easier pandas provide two functions: isnull() and notnull()\n",
    "#example\n",
    "import pandas as pd\n",
    "import numpy as np\n",
    "df=pd.DataFrame(np.random.randn(5, 3),index=['a','c','e','f','h'],columns=['One','Two','Three'])\n",
    "df=df.reindex(['a','b','c','d','e','f','g','h'])\n",
    "print(df['One'].isnull())\n"
   ]
  },
  {
   "cell_type": "code",
   "execution_count": 3,
   "id": "40f522db",
   "metadata": {},
   "outputs": [
    {
     "name": "stdout",
     "output_type": "stream",
     "text": [
      "a     True\n",
      "b    False\n",
      "c     True\n",
      "d    False\n",
      "e     True\n",
      "f     True\n",
      "g    False\n",
      "h     True\n",
      "Name: Two, dtype: bool\n"
     ]
    }
   ],
   "source": [
    "import pandas as pd\n",
    "import numpy as np\n",
    "df=pd.DataFrame(np.random.randn(5, 3),index=['a','c','e','f','h'],columns=['One','Two','Three'])\n",
    "df=df.reindex(['a','b','c','d','e','f','g','h'])\n",
    "print(df['Two'].notnull())"
   ]
  },
  {
   "cell_type": "code",
   "execution_count": null,
   "id": "cb9bd8dc",
   "metadata": {},
   "outputs": [],
   "source": [
    "#Cleaning/filling missing data\n",
    ">pandas provide various methods for cleaning the missing values\n",
    ">the fillna can fill in \"NA\" values with non-null data\n",
    ">there are four ways to clean the missing file \n",
    "  1. dropping missing values\n",
    "  2. replacing missing values\n",
    "  3. replacing with scalar values\n",
    "  4. filling forward or backward\n",
    "\n",
    "1. Drop missing values\n",
    "    if you want to simply exclude the missing values then use the dropna() function along with the access argument\n",
    "    by default,axis=0, that is,along row which means that if any value within the row NA then the whole row is excluded\n",
    "  "
   ]
  },
  {
   "cell_type": "code",
   "execution_count": 5,
   "id": "dd4017d3",
   "metadata": {},
   "outputs": [
    {
     "name": "stdout",
     "output_type": "stream",
     "text": [
      "        One       Two     Three\n",
      "a -0.605865  1.396687 -1.450389\n",
      "c  0.287168 -0.898479 -0.782294\n",
      "e  1.055680  0.860933  0.210615\n",
      "f  0.107723 -0.496248 -0.578501\n",
      "h  1.486646 -0.015885  0.769428\n"
     ]
    }
   ],
   "source": [
    "#dropping missing values using dropna()\n",
    "import pandas as pd\n",
    "import numpy as np\n",
    "df=pd.DataFrame(np.random.randn(5, 3),index=['a','c','e','f','h'],columns=['One','Two','Three'])\n",
    "df=df.reindex(['a','b','c','d','e','f','g','h'])\n",
    "print(df.dropna())"
   ]
  },
  {
   "cell_type": "code",
   "execution_count": null,
   "id": "0d65ba01",
   "metadata": {},
   "outputs": [],
   "source": [
    "#Replacing or generatic values\n",
    ">we have to replace a generic value with some specific value\n",
    ">we can achieve this by the replace method\n",
    ">this is similar to fillna() function\n"
   ]
  },
  {
   "cell_type": "code",
   "execution_count": 6,
   "id": "f177053c",
   "metadata": {},
   "outputs": [
    {
     "name": "stdout",
     "output_type": "stream",
     "text": [
      "   one  two\n",
      "0   10   10\n",
      "1   20    0\n",
      "2   30   30\n",
      "3   40   40\n",
      "4   50   50\n",
      "5   60   60\n"
     ]
    }
   ],
   "source": [
    "#example\n",
    "import pandas as pd\n",
    "import numpy as np\n",
    "df=pd.DataFrame({'one':[10,20,30,40,50,2000],\n",
    "                'two':[1000,0,30,40,50,60]})\n",
    "print(df.replace({1000:10,2000:60}))"
   ]
  },
  {
   "cell_type": "code",
   "execution_count": 8,
   "id": "515ac8fc",
   "metadata": {},
   "outputs": [
    {
     "name": "stdout",
     "output_type": "stream",
     "text": [
      "        one       two     three\n",
      "a -0.206730  1.434772  0.186403\n",
      "b       NaN       NaN       NaN\n",
      "c -0.139858  1.569435 -1.758473\n",
      "NAN replaced with zero\n",
      "        one       two     three\n",
      "a -0.206730  1.434772  0.186403\n",
      "b  0.000000  0.000000  0.000000\n",
      "c -0.139858  1.569435 -1.758473\n"
     ]
    }
   ],
   "source": [
    "#Replacing NAN with a scalar value\n",
    "#the following program shows how you can replace NAN with zeros\n",
    "import pandas as pd\n",
    "import numpy as np\n",
    "df=pd.DataFrame(np.random.randn(3,3),index=['a','c','e'],columns=['one','two','three'])\n",
    "df=df.reindex(['a','b','c'])\n",
    "print(df)\n",
    "print(\"NAN replaced with zero\")\n",
    "print(df.fillna(0))"
   ]
  },
  {
   "cell_type": "code",
   "execution_count": null,
   "id": "3a27eb2e",
   "metadata": {},
   "outputs": [],
   "source": []
  }
 ],
 "metadata": {
  "kernelspec": {
   "display_name": "Python 3 (ipykernel)",
   "language": "python",
   "name": "python3"
  },
  "language_info": {
   "codemirror_mode": {
    "name": "ipython",
    "version": 3
   },
   "file_extension": ".py",
   "mimetype": "text/x-python",
   "name": "python",
   "nbconvert_exporter": "python",
   "pygments_lexer": "ipython3",
   "version": "3.9.7"
  }
 },
 "nbformat": 4,
 "nbformat_minor": 5
}
