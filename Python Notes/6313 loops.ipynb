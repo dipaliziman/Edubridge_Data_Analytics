{
 "cells": [
  {
   "cell_type": "code",
   "execution_count": 4,
   "id": "79ad658d",
   "metadata": {},
   "outputs": [
    {
     "name": "stdout",
     "output_type": "stream",
     "text": [
      "2\n",
      "3\n",
      "4\n",
      "5\n",
      "6\n",
      "Good bye\n"
     ]
    }
   ],
   "source": [
    "#while loop first example\n",
    "count=2\n",
    "while count<7:\n",
    "    print(count)\n",
    "    count+=1\n",
    "print(\"Good bye\")"
   ]
  },
  {
   "cell_type": "code",
   "execution_count": 8,
   "id": "5ebc2467",
   "metadata": {},
   "outputs": [
    {
     "name": "stdout",
     "output_type": "stream",
     "text": [
      "Hello Learners\n",
      "Welcome to edubridge!\n",
      "Hello Learners\n",
      "Welcome to edubridge!\n",
      "Hello Learners\n",
      "Welcome to edubridge!\n"
     ]
    }
   ],
   "source": [
    "#while loop second example\n",
    "count = 0\n",
    "while (count < 3):   \n",
    "    count = count + 1\n",
    "    print(\"Hello Learners\")\n",
    "    print(\"Welcome to edubridge!\")"
   ]
  },
  {
   "cell_type": "code",
   "execution_count": 9,
   "id": "e6e0c8fe",
   "metadata": {},
   "outputs": [
    {
     "name": "stdout",
     "output_type": "stream",
     "text": [
      "Blackforest\n",
      "Darkchocolate\n",
      "velcetcake\n",
      "whiteforest\n"
     ]
    }
   ],
   "source": [
    "#for loop first example\n",
    "pasteries=[\"Blackforest\",\"Darkchocolate\",\"velvetcake\",\"whiteforest\"]\n",
    "for x in pasteries:\n",
    "    print(x)"
   ]
  },
  {
   "cell_type": "code",
   "execution_count": 12,
   "id": "08779fdd",
   "metadata": {},
   "outputs": [
    {
     "name": "stdout",
     "output_type": "stream",
     "text": [
      "13\n",
      "26\n",
      "39\n",
      "52\n",
      "65\n",
      "78\n",
      "91\n",
      "104\n",
      "117\n",
      "130\n"
     ]
    }
   ],
   "source": [
    "#for loop second example(program to print the table of a given number)\n",
    "list=[1,2,3,4,5,6,7,8,9,10]\n",
    "data=13\n",
    "for i in list:\n",
    "    c=data*i\n",
    "    print(c)"
   ]
  },
  {
   "cell_type": "code",
   "execution_count": 13,
   "id": "459b9e44",
   "metadata": {},
   "outputs": [
    {
     "name": "stdout",
     "output_type": "stream",
     "text": [
      "Current letter is: I\n",
      "Current letter is: C\n",
      "Current letter is: E\n",
      "Current letter is: C\n",
      "Current letter is: R\n",
      "Current letter is: E\n",
      "Current letter is: A\n",
      "Current letter is: M\n"
     ]
    }
   ],
   "source": [
    "#For loop 3rd example\n",
    "for letter in 'ICECREAM':\n",
    "    print(\"Current letter is:\",letter)"
   ]
  },
  {
   "cell_type": "code",
   "execution_count": 14,
   "id": "f3a0a90f",
   "metadata": {},
   "outputs": [
    {
     "name": "stdout",
     "output_type": "stream",
     "text": [
      "print: a\n",
      "print: b\n",
      "print: c\n"
     ]
    }
   ],
   "source": [
    "for i in 'abc':\n",
    "    print(\"print:\",i)"
   ]
  },
  {
   "cell_type": "code",
   "execution_count": 16,
   "id": "376eea0e",
   "metadata": {},
   "outputs": [
    {
     "name": "stdout",
     "output_type": "stream",
     "text": [
      "apple red\n",
      "apple big\n",
      "apple tasty\n",
      "banana red\n",
      "banana big\n",
      "banana tasty\n",
      "cherry red\n",
      "cherry big\n",
      "cherry tasty\n"
     ]
    }
   ],
   "source": [
    "#Nested loop first example\n",
    "adj=[\"red\",\"big\",\"tasty\"]\n",
    "fruits=[\"apple\",\"banana\",\"cherry\"]\n",
    "for x in fruits:\n",
    "    for y in adj:\n",
    "        print(x,y)"
   ]
  },
  {
   "cell_type": "code",
   "execution_count": 4,
   "id": "3a6ffbc4",
   "metadata": {},
   "outputs": [
    {
     "name": "stdout",
     "output_type": "stream",
     "text": [
      "1*1=1\n",
      "1*2=2\n",
      "1*3=3\n",
      "1*4=4\n",
      "1*5=5\n",
      "2*1=2\n",
      "2*2=4\n",
      "2*3=6\n",
      "2*4=8\n",
      "2*5=10\n",
      "3*1=3\n",
      "3*2=6\n",
      "3*3=9\n",
      "3*4=12\n",
      "3*5=15\n",
      "4*1=4\n",
      "4*2=8\n",
      "4*3=12\n",
      "4*4=16\n",
      "4*5=20\n",
      "5*1=5\n",
      "5*2=10\n",
      "5*3=15\n",
      "5*4=20\n",
      "5*5=25\n",
      "6*1=6\n",
      "6*2=12\n",
      "6*3=18\n",
      "6*4=24\n",
      "6*5=30\n",
      "7*1=7\n",
      "7*2=14\n",
      "7*3=21\n",
      "7*4=28\n",
      "7*5=35\n"
     ]
    }
   ],
   "source": [
    "#Nested loop second example\n",
    "for i in range(1,8):\n",
    "    for j in range(1,6):\n",
    "        print(\"%d*%d=%d\" %(i,j,i*j))"
   ]
  },
  {
   "cell_type": "code",
   "execution_count": 7,
   "id": "9f867e6e",
   "metadata": {},
   "outputs": [
    {
     "name": "stdout",
     "output_type": "stream",
     "text": [
      "Current letter: P\n",
      "Current letter: y\n",
      "Current letter: t\n"
     ]
    }
   ],
   "source": [
    "#Loop control statements\n",
    "#Break\n",
    "for letter in 'Python':\n",
    "    if letter=='h':\n",
    "        break\n",
    "    print(\"Current letter:\",letter)"
   ]
  },
  {
   "cell_type": "code",
   "execution_count": 8,
   "id": "87b6cef9",
   "metadata": {},
   "outputs": [
    {
     "name": "stdout",
     "output_type": "stream",
     "text": [
      "Current variable value: 10\n",
      "Current variable value: 9\n",
      "Current variable value: 8\n",
      "Current variable value: 7\n",
      "Current variable value: 6\n",
      "Good bye!\n"
     ]
    }
   ],
   "source": [
    "#break second example\n",
    "var=10\n",
    "while var>0:\n",
    "    print(\"Current variable value:\",var)\n",
    "    var=var-1\n",
    "    if var==5:\n",
    "        break\n",
    "print(\"Good bye!\")"
   ]
  },
  {
   "cell_type": "code",
   "execution_count": 13,
   "id": "59b98626",
   "metadata": {},
   "outputs": [
    {
     "name": "stdout",
     "output_type": "stream",
     "text": [
      "apple\n",
      "banana\n"
     ]
    }
   ],
   "source": [
    "#break third example\n",
    "fruits=[\"apple\",\"banana\",\"cherry\",\"orange\"]\n",
    "for x in fruits:\n",
    "    if x==\"cherry\":\n",
    "        break\n",
    "    print(x)"
   ]
  },
  {
   "cell_type": "code",
   "execution_count": 17,
   "id": "bba9e936",
   "metadata": {},
   "outputs": [
    {
     "name": "stdout",
     "output_type": "stream",
     "text": [
      "current variable value: 4\n",
      "current variable value: 3\n",
      "current variable value: 1\n",
      "current variable value: 0\n",
      "BYE\n"
     ]
    }
   ],
   "source": [
    "#continue learners will do\n",
    "var=5\n",
    "while var>0:\n",
    "    var=var-1\n",
    "    if var==2:\n",
    "        continue\n",
    "    print(\"current variable value:\",var)\n",
    "print(\"BYE\")\n"
   ]
  },
  {
   "cell_type": "code",
   "execution_count": 18,
   "id": "4c42fc13",
   "metadata": {},
   "outputs": [
    {
     "name": "stdout",
     "output_type": "stream",
     "text": [
      "Current letter: P\n",
      "Current letter: y\n",
      "Current letter: t\n",
      "Current letter: o\n",
      "Current letter: n\n"
     ]
    }
   ],
   "source": [
    "#continue\n",
    "for letter in 'Python':\n",
    "    if letter=='h':\n",
    "        continue\n",
    "    print(\"Current letter:\",letter)"
   ]
  },
  {
   "cell_type": "code",
   "execution_count": 22,
   "id": "0be3e392",
   "metadata": {},
   "outputs": [
    {
     "name": "stdout",
     "output_type": "stream",
     "text": [
      "Current letter is: T\n",
      "Current letter is: u\n",
      "Current letter is: t\n",
      "Current letter is: o\n",
      "Current letter is: r\n",
      "Current letter is: i\n",
      "Current letter is: a\n",
      "Current letter is: l\n",
      "Current letter is: s\n",
      "Pass block\n",
      "Current letter is: C\n",
      "Current letter is: l\n",
      "Current letter is: o\n",
      "Current letter is: u\n",
      "Current letter is: d\n"
     ]
    }
   ],
   "source": [
    "#pass statement\n",
    "for letter in 'TutorialsCloud': \n",
    "    if letter == 'C':\n",
    "        pass\n",
    "        print ('Pass block')\n",
    "    print ('Current letter is:', letter)"
   ]
  },
  {
   "cell_type": "code",
   "execution_count": 25,
   "id": "db3cd216",
   "metadata": {},
   "outputs": [
    {
     "name": "stdout",
     "output_type": "stream",
     "text": [
      "Current letter: P\n",
      "Current letter: y\n",
      "Current letter: t\n",
      "This is Pass block\n",
      "Current letter: h\n",
      "Current letter: o\n",
      "Current letter: n\n"
     ]
    }
   ],
   "source": [
    "for letter in 'Python':\n",
    "    if letter=='h':\n",
    "        pass\n",
    "        print(\"This is Pass block\")\n",
    "    print(\"Current letter:\",letter)"
   ]
  },
  {
   "cell_type": "code",
   "execution_count": null,
   "id": "881e7929",
   "metadata": {},
   "outputs": [],
   "source": [
    "#difference between range and xrange()\n",
    "#1) Return type \n",
    "      -range() returns the list as return type\n",
    "      -xrange() return as object\n",
    "#2)Memory\n",
    "    -range() takes more memory as compared to variable storing the range using xrange()\n",
    "#3)Operation usage()\n",
    "      -AS range() returns the list ,all the operations that can be applied on the list can be used on it  \n",
    "      -xrange() returns the xrange() object ,operations associated to list cannot be applied on them, hence it is a disadvantage\n",
    "#4)Speed-\n",
    "      -xrange() evaluate the generator object containing only the values that are required by lazy evaluation"
   ]
  },
  {
   "cell_type": "code",
   "execution_count": 29,
   "id": "0c144e05",
   "metadata": {},
   "outputs": [
    {
     "name": "stdout",
     "output_type": "stream",
     "text": [
      "0 jan\n",
      "1 feb\n",
      "2 march\n",
      "3 april\n"
     ]
    }
   ],
   "source": [
    "#\"enumerate\" function for loop\n",
    "#-does two things: 1- return the index number for the member \n",
    "                  #2-and the member of the collection that we are looking at\n",
    "                  #3-enumerate function is used for the numbering or indexing the members in the list.\n",
    "        \n",
    "#Suppose we want to do numbering for our month(jan,feb etc) so we declare the variable i that enumerate the numbers \n",
    "#while m will print the number of the month in the list\n",
    "#use a for loop over a collection\n",
    "months=[\"jan\",\"feb\",\"march\",\"april\"]\n",
    "for i,m in enumerate(months):\n",
    "    print(i,m)"
   ]
  },
  {
   "cell_type": "code",
   "execution_count": null,
   "id": "5b63c0f5",
   "metadata": {},
   "outputs": [],
   "source": []
  }
 ],
 "metadata": {
  "kernelspec": {
   "display_name": "Python 3",
   "language": "python",
   "name": "python3"
  },
  "language_info": {
   "codemirror_mode": {
    "name": "ipython",
    "version": 3
   },
   "file_extension": ".py",
   "mimetype": "text/x-python",
   "name": "python",
   "nbconvert_exporter": "python",
   "pygments_lexer": "ipython3",
   "version": "3.8.8"
  }
 },
 "nbformat": 4,
 "nbformat_minor": 5
}
