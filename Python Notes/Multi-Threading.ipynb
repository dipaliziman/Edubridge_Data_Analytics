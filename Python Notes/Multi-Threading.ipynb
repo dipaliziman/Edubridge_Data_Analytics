{
 "cells": [
  {
   "cell_type": "markdown",
   "id": "dd1c5867",
   "metadata": {},
   "source": [
    "## Multi-Threading In Python"
   ]
  },
  {
   "cell_type": "markdown",
   "id": "62b36ec8",
   "metadata": {},
   "source": [
    "## Thread\n",
    "> Thread has beginning , Execution sequence and a conclusion\n",
    "> Thread is an entity within a process that can be schedule for execution.\n",
    "> It is smallest unit of processing that can be performed in an os(Operating System)\n",
    "> in simple words, A thread is asequence of instructions within program that can be executed independently other code\n"
   ]
  },
  {
   "cell_type": "markdown",
   "id": "24cfc8a1",
   "metadata": {},
   "source": [
    "## TCB (Thread Control Block)\n",
    ">Thread Identifier (TID)- Is assign to every new thread\n",
    ">Stack Pointer - Points to threads stack in the process. it contains local variable\n",
    ">Program Counter - A register which store the Address of the instruction currently being executed by the thread\n",
    ">Thread States- can be Running,Ready,Waiting,Start or Done\n",
    ">Threads Register State - Registers assing to thread for computation \n",
    ">Parent Process Pointer - Pointer to PCB of the process that the threads lives on\n"
   ]
  },
  {
   "cell_type": "markdown",
   "id": "7073ce5e",
   "metadata": {},
   "source": [
    "## Multi-Threading\n",
    "> Multiple Threads can exist within one process where :1.each thread contains its own register sets and local variable(stored in stack). 2.All Thread of a process share global variables(stored HEAP)and program code.3. it is define as ability of a processor  to execute multiple thread concurrently.\n",
    "> in python threading module provides very simple multiple threads in program\n"
   ]
  },
  {
   "cell_type": "code",
   "execution_count": 4,
   "id": "cff8f208",
   "metadata": {},
   "outputs": [
    {
     "name": "stdout",
     "output_type": "stream",
     "text": [
      "Cube: 1000\n",
      "square: 81\n",
      "done\n"
     ]
    }
   ],
   "source": [
    "# Pytho Program to illustrate concept of threading\n",
    "#importing the threading module\n",
    "import threading\n",
    "\n",
    "def print_cube(num):   #function to print cube of  given number\n",
    "    print(\"Cube: {}\".format(num *num *num))\n",
    "def print_square(num):   #function to print square of given number\n",
    "    print(\"square: {}\".format(num *num)) \n",
    "if __name__ ==\"__main__\":\n",
    "    #Creating thread\n",
    "    t1=threading.Thread(target=print_cube,args=(10,))\n",
    "    t2=threading.Thread(target=print_square,args=(9,))\n",
    "    # Starting thread 1\n",
    "    t1.start()\n",
    "    # starting thread 2\n",
    "    t2.start()\n",
    "    #wait untill thread 1 is executed\n",
    "    t1.join()\n",
    "    # wait untill thread 2 is executed\n",
    "    t2.join()\n",
    "    #both thread completely executed\n",
    "    print(\"done\")\n",
    "\n"
   ]
  },
  {
   "cell_type": "code",
   "execution_count": null,
   "id": "cedfba7b",
   "metadata": {},
   "outputs": [],
   "source": []
  }
 ],
 "metadata": {
  "kernelspec": {
   "display_name": "Python 3 (ipykernel)",
   "language": "python",
   "name": "python3"
  },
  "language_info": {
   "codemirror_mode": {
    "name": "ipython",
    "version": 3
   },
   "file_extension": ".py",
   "mimetype": "text/x-python",
   "name": "python",
   "nbconvert_exporter": "python",
   "pygments_lexer": "ipython3",
   "version": "3.9.7"
  }
 },
 "nbformat": 4,
 "nbformat_minor": 5
}
