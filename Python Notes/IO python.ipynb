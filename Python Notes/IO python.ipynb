{
 "cells": [
  {
   "cell_type": "code",
   "execution_count": 1,
   "id": "081ca1d0-016a-417d-8a81-9675619d9211",
   "metadata": {},
   "outputs": [
    {
     "name": "stdout",
     "output_type": "stream",
     "text": [
      "file is opened successfully\n"
     ]
    }
   ],
   "source": [
    "fileptr=open(\"text.txt\",\"r\")\n",
    "if fileptr:\n",
    "    print(\"file is opened successfully\")"
   ]
  },
  {
   "cell_type": "code",
   "execution_count": 2,
   "id": "a2c40642-2b20-4e1f-b7bd-ed52673cec7a",
   "metadata": {},
   "outputs": [
    {
     "name": "stdout",
     "output_type": "stream",
     "text": [
      "gudio van rosum created python\n"
     ]
    }
   ],
   "source": [
    "with open (\"text.txt\",\"r\") as f:\n",
    "    content=f.read()\n",
    "    print(content)"
   ]
  },
  {
   "cell_type": "code",
   "execution_count": 8,
   "id": "c29cb3d2-ba9c-4da0-9856-84e8a6f47cf3",
   "metadata": {},
   "outputs": [],
   "source": [
    "fileptr=open(\"text.txt\",\"w\")\n",
    "fileptr.write(\"I am student\")\n",
    "fileptr.write(\"my name is dipali\")\n",
    "fileptr.write(\"learning the python\")\n",
    "fileptr.write(\"python is easy language\")\n",
    "fileptr.close()\n"
   ]
  },
  {
   "cell_type": "code",
   "execution_count": 7,
   "id": "162bc956-6b7a-46b9-90fe-bb65e62885d9",
   "metadata": {},
   "outputs": [],
   "source": [
    "fileptr=open(\"text.txt\",\"a\")\n",
    "fileptr.write(\"python is an extensible\")\n",
    "fileptr.close()\n"
   ]
  },
  {
   "cell_type": "code",
   "execution_count": 11,
   "id": "c3376673-3f6c-4d31-b064-31593d5485d2",
   "metadata": {},
   "outputs": [
    {
     "name": "stdout",
     "output_type": "stream",
     "text": [
      "I am student\n",
      "\n",
      "my name is dipali\n",
      "\n",
      "learning the python\n",
      "\n",
      "python is easy language\n",
      "\n",
      "python is an extensible\n"
     ]
    }
   ],
   "source": [
    "fileptr=open(\"text.txt\",\"r\")\n",
    "for i in fileptr:\n",
    "    print(i)"
   ]
  },
  {
   "cell_type": "code",
   "execution_count": 14,
   "id": "529001c0-8fe8-4f63-9caf-c745f888d463",
   "metadata": {},
   "outputs": [
    {
     "name": "stdout",
     "output_type": "stream",
     "text": [
      "<class 'str'>\n",
      "I am \n"
     ]
    }
   ],
   "source": [
    "fileptr=open(\"text.txt\",\"r\")\n",
    "content=fileptr.read(5)\n",
    "print(type(content))\n",
    "print(content)"
   ]
  },
  {
   "cell_type": "code",
   "execution_count": 1,
   "id": "df65fbf1-2cba-4a37-8643-11f0811070eb",
   "metadata": {},
   "outputs": [],
   "source": [
    "fileptr=open(\"text.txt\",\"r\")\n",
    "content=fileptr.readline()\n",
    "content1=fileptr.readline()\n",
    "content2=fileptr.readline()\n",
    "content3=fileptr.readline()"
   ]
  },
  {
   "cell_type": "code",
   "execution_count": null,
   "id": "fa895cc2-062d-4493-98fe-c08182c2c4b8",
   "metadata": {},
   "outputs": [],
   "source": []
  }
 ],
 "metadata": {
  "kernelspec": {
   "display_name": "Python 3 (ipykernel)",
   "language": "python",
   "name": "python3"
  },
  "language_info": {
   "codemirror_mode": {
    "name": "ipython",
    "version": 3
   },
   "file_extension": ".py",
   "mimetype": "text/x-python",
   "name": "python",
   "nbconvert_exporter": "python",
   "pygments_lexer": "ipython3",
   "version": "3.9.7"
  }
 },
 "nbformat": 4,
 "nbformat_minor": 5
}
