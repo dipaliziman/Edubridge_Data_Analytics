{
 "cells": [
  {
   "cell_type": "markdown",
   "id": "44985a01",
   "metadata": {},
   "source": [
    "## Data Type Conversion\n",
    "> sometimes you may need to perform conversions between buit-in type\n",
    "> To convert between type you simply use type_name as function.\n",
    "> There are several built_in function to perform conversions from one data type to another\n",
    "> these function retuns new object representing the converted values\n",
    "> the process of Converting the value of one data type(int,str,float) to another data type is called type conversion.\n",
    "> Python has two types of type conversion 1.implicit type conversion 2.Explicit type Conversion\n",
    " "
   ]
  },
  {
   "cell_type": "markdown",
   "id": "5a44e927",
   "metadata": {},
   "source": [
    "## Implicit Type Conversion\n",
    "In this method python converts data type into another data type automatically\n",
    "In this process there is no user involvement"
   ]
  },
  {
   "cell_type": "code",
   "execution_count": 1,
   "id": "90ec13f0",
   "metadata": {},
   "outputs": [
    {
     "name": "stdout",
     "output_type": "stream",
     "text": [
      "<class 'int'>\n",
      "<class 'float'>\n",
      "10.14\n",
      "<class 'float'>\n",
      "21.98\n",
      "<class 'float'>\n"
     ]
    }
   ],
   "source": [
    "## Example of implicit type conversion\n",
    "a=7\n",
    "print(type (a)) # python automatically convert a into int\n",
    "\n",
    "b=3.14\n",
    "print(type (b)) # python automatically convert b into float\n",
    "\n",
    "c=a+b\n",
    "print(c)\n",
    "print(type(c)) ## python automatically convert c into float addition\n",
    "\n",
    "d=a*b\n",
    "print(d)\n",
    "print(type(d)) ## python automatically convert d into float multiplication\n",
    "\n"
   ]
  },
  {
   "cell_type": "code",
   "execution_count": 2,
   "id": "c353bf4f",
   "metadata": {},
   "outputs": [
    {
     "name": "stdout",
     "output_type": "stream",
     "text": [
      "datatype of num_int: <class 'int'>\n",
      "datatype of num_flo: <class 'float'>\n",
      "Value of num_new: 124.23\n",
      "datatype of num_new: <class 'float'>\n"
     ]
    }
   ],
   "source": [
    "# example 2 implicit type conversion\n",
    "num_int = 123   #int value\n",
    "num_flo=1.23    #float value\n",
    "num_new = num_int + num_flo\n",
    "print(\"datatype of num_int:\",type(num_int))\n",
    "print(\"datatype of num_flo:\",type(num_flo))\n",
    "print(\"Value of num_new:\",num_new)\n",
    "print(\"datatype of num_new:\",type(num_new))\n"
   ]
  },
  {
   "cell_type": "markdown",
   "id": "af297025",
   "metadata": {},
   "source": [
    "## Explicit Type Conversion\n",
    "> In this method python needs user involvement to convert variable data type to certain data type in order to perform required operation\n",
    "> Mainly  type casting can be done following (int(),float(),str())\n",
    "> Int()-  This function takes float or string as an argument and return int type object\n",
    ">float()- This function takes int or String as an argumet and return float type object\n",
    ">string()-This function takes float or int as an argument and return str type object "
   ]
  },
  {
   "cell_type": "code",
   "execution_count": 3,
   "id": "9d273f84",
   "metadata": {},
   "outputs": [
    {
     "name": "stdout",
     "output_type": "stream",
     "text": [
      "5.0\n",
      "<class 'float'>\n"
     ]
    }
   ],
   "source": [
    "## type  casting int into float\n",
    "#here we are casting int object to float object with float() function\n",
    "a=5 #int variable\n",
    "n=float(a) #type cast to float \n",
    "print(n)\n",
    "print(type(n))"
   ]
  },
  {
   "cell_type": "code",
   "execution_count": 4,
   "id": "722aba6c",
   "metadata": {},
   "outputs": [
    {
     "name": "stdout",
     "output_type": "stream",
     "text": [
      "5\n",
      "<class 'int'>\n"
     ]
    }
   ],
   "source": [
    "# Type casting float into integer\n",
    "#here we are casting float object to int object with int() function\n",
    "a=5.25 #Ffloat variable\n",
    "n=int(a) #type cast to int\n",
    "print(n)\n",
    "print(type(n))"
   ]
  },
  {
   "cell_type": "code",
   "execution_count": 5,
   "id": "a503721d",
   "metadata": {},
   "outputs": [
    {
     "name": "stdout",
     "output_type": "stream",
     "text": [
      "5\n",
      "<class 'str'>\n"
     ]
    }
   ],
   "source": [
    "# Type casting int into string\n",
    "#here we are casting int object to string object with str() function\n",
    "a=5 #int variable\n",
    "n=str(a) #type cast to str\n",
    "print(n)\n",
    "print(type(n))"
   ]
  },
  {
   "cell_type": "code",
   "execution_count": 6,
   "id": "29efb8c7",
   "metadata": {},
   "outputs": [
    {
     "name": "stdout",
     "output_type": "stream",
     "text": [
      "5\n",
      "<class 'int'>\n"
     ]
    }
   ],
   "source": [
    "# Type casting string into int\n",
    "#here we are casting string object to int object with int() function\n",
    "a=\"5\" # str  variable\n",
    "n=int(a) #type cast to int\n",
    "print(n)\n",
    "print(type(n))"
   ]
  },
  {
   "cell_type": "code",
   "execution_count": 7,
   "id": "90f7a0a7",
   "metadata": {},
   "outputs": [
    {
     "name": "stdout",
     "output_type": "stream",
     "text": [
      "5.0\n",
      "<class 'float'>\n"
     ]
    }
   ],
   "source": [
    "# Type casting string into float\n",
    "#here we are casting string object to float object with float() function\n",
    "a=\"5\" # str  variable\n",
    "n=float(a) #type cast to int\n",
    "print(n)\n",
    "print(type(n))"
   ]
  },
  {
   "cell_type": "code",
   "execution_count": 8,
   "id": "7472237c",
   "metadata": {},
   "outputs": [
    {
     "name": "stdout",
     "output_type": "stream",
     "text": [
      "5.25\n",
      "<class 'str'>\n"
     ]
    }
   ],
   "source": [
    "# Type casting  float into str\n",
    "#here we are casting float object to str object with str() function\n",
    "a= 5.25 # float  variable\n",
    "n=str(a) #type cast to str\n",
    "print(n)\n",
    "print(type(n))"
   ]
  },
  {
   "cell_type": "code",
   "execution_count": 9,
   "id": "97158d71",
   "metadata": {},
   "outputs": [
    {
     "name": "stdout",
     "output_type": "stream",
     "text": [
      "Data type of num_int: <class 'int'>\n",
      "Data type of num_str before Type Casting: <class 'str'>\n",
      "Data type of num_str after Type Casting: <class 'int'>\n",
      "Sum of num_int and num_str: 579\n",
      "Data type of the sum: <class 'int'>\n"
     ]
    }
   ],
   "source": [
    "# Example\n",
    "num_int = 123\n",
    "num_str = \"456\"\n",
    "print(\"Data type of num_int:\",type(num_int))\n",
    "print(\"Data type of num_str before Type Casting:\",type(num_str))\n",
    "num_str = int(num_str)\n",
    "print(\"Data type of num_str after Type Casting:\",type(num_str))\n",
    "num_sum = num_int + num_str\n",
    "print(\"Sum of num_int and num_str:\",num_sum)\n",
    "print(\"Data type of the sum:\",type(num_sum))\n"
   ]
  },
  {
   "cell_type": "code",
   "execution_count": null,
   "id": "1ee50b52",
   "metadata": {},
   "outputs": [],
   "source": []
  }
 ],
 "metadata": {
  "kernelspec": {
   "display_name": "Python 3 (ipykernel)",
   "language": "python",
   "name": "python3"
  },
  "language_info": {
   "codemirror_mode": {
    "name": "ipython",
    "version": 3
   },
   "file_extension": ".py",
   "mimetype": "text/x-python",
   "name": "python",
   "nbconvert_exporter": "python",
   "pygments_lexer": "ipython3",
   "version": "3.9.7"
  }
 },
 "nbformat": 4,
 "nbformat_minor": 5
}
