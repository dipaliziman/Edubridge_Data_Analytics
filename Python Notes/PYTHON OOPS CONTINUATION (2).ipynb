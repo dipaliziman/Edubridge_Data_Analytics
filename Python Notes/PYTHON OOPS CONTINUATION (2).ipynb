{
 "cells": [
  {
   "cell_type": "markdown",
   "id": "4be13568",
   "metadata": {},
   "source": [
    "# PYTHON ABSTRACTION:\n",
    "\n",
    "        > Abstraction is used to hide the internal functionality of the function from the user.\n",
    "        > The users only interact with the basic implementation of the function, but inner working is hidden.\n",
    "        > User is familiar \"what function does\" but they \"dont know how it does\" \n",
    "Example:\n",
    "When we use a TV remote to increase the volume we dont know how to pressing the key increases the volume of the key.\n",
    "We only know to press the + button to increase the button, that is excatly the abstraction that works in the object-oriented concepts."
   ]
  },
  {
   "cell_type": "markdown",
   "id": "46b94a11",
   "metadata": {},
   "source": [
    "# WHY ABSTRACTION IS IMPORTANT?\n",
    "\n",
    "        > In python, the abstraction is used to hide the irrelavent data/class in order to reduce the complexity.\n",
    "        "
   ]
  },
  {
   "cell_type": "markdown",
   "id": "ab7e9b0c",
   "metadata": {},
   "source": [
    "# ABSTRACTION CLASSESS IN PYTHON:\n",
    "\n",
    "        > Abstraction can be acheived by using abstract classess interfaces.\n",
    "        > Abstraction classess are meant to be the blue-print of the other class.\n",
    "        > Python provides the ABC module to use the abstraction in the python program.\n",
    "        \n",
    "# Syntax:\n",
    "\n",
    "from abc import ABC  \n",
    "class ClassName(ABC):\n",
    "\n",
    "We import the ABC class from the abc module."
   ]
  },
  {
   "cell_type": "markdown",
   "id": "7f7bde75",
   "metadata": {},
   "source": [
    "# WORKING OF THE ABSTRACT CLASSESS:\n",
    "\n",
    "        > We need to import the abc module which provides the base for defining abstract base classess(ABC).\n",
    "       "
   ]
  },
  {
   "cell_type": "code",
   "execution_count": 1,
   "id": "7585a710",
   "metadata": {},
   "outputs": [
    {
     "name": "stdout",
     "output_type": "stream",
     "text": [
      "the mileage of the car is 30kmph\n",
      "the mileage of the car is 25kmph\n",
      "the mileage of the car is 35kmph\n",
      "the mileage of the car is 40kmph\n"
     ]
    }
   ],
   "source": [
    "# Example:\n",
    "# Python program that demonstrate abstract base class work\n",
    "\n",
    "from abc import ABC, abstractmethod\n",
    "class car(ABC):\n",
    "    def mileage(self):\n",
    "        pass\n",
    "class tesla(car):\n",
    "    def mileage(self):\n",
    "        print(\"the mileage of the car is 30kmph\")\n",
    "class suzuk(car):\n",
    "    def mileage(self):\n",
    "        print(\"the mileage of the car is 25kmph\")\n",
    "class duster(car):\n",
    "    def mileage(self):\n",
    "        print(\"the mileage of the car is 40kmph\")\n",
    "class Audi(car):\n",
    "    def mileage(self):\n",
    "        print(\"the mileage of the car is 35kmph\")\n",
    "        \n",
    "# driver code:\n",
    "T=tesla()\n",
    "T.mileage()\n",
    "S=suzuk()\n",
    "S.mileage()\n",
    "A=Audi()\n",
    "A.mileage()\n",
    "D=duster()\n",
    "D.mileage()\n",
    "\n",
    "# In the above code we have imported ABC module to create the abstract base class.\n",
    "# We created the car class that inherited the ABC class and define the abstract method (mileage())\n",
    "# We have then inherited the base class from the 4 different sub-classess and implemented the abstract method differently.\n",
    "# We created the objects to call the abstract method."
   ]
  },
  {
   "cell_type": "code",
   "execution_count": 2,
   "id": "bf30a052",
   "metadata": {},
   "outputs": [
    {
     "name": "stdout",
     "output_type": "stream",
     "text": [
      "Triangle has 3 sides\n",
      "Square has 4 sides\n",
      "pentagon has 5 sides\n"
     ]
    }
   ],
   "source": [
    "# Example for Python program to define abstract class:\n",
    "\n",
    "from abc import ABC, abstractmethod\n",
    "class shapes(ABC):\n",
    "    def sides(self):\n",
    "        pass\n",
    "class triangle(shapes):\n",
    "    def sides(self):\n",
    "        print(\"Triangle has 3 sides\")\n",
    "class square(shapes):\n",
    "    def sides(self):\n",
    "        print(\"Square has 4 sides\")\n",
    "class pentagon(shapes):\n",
    "    def sides(self):\n",
    "        print(\"pentagon has 5 sides\")\n",
    "\n",
    "# driver code:\n",
    "\n",
    "A=triangle()\n",
    "A.sides()\n",
    "B=square()\n",
    "B.sides()\n",
    "C=pentagon()\n",
    "C.sides()\n",
    "\n",
    "# In the above code we have defined the abstract base class name shape and we also defined the abstract method.\n",
    "# This base class inherited by the various sub-classes.\n",
    "# We implemented the abstract method in each sub-class.\n",
    "# We created the object of the sub-classess and invoke the sides method.\n",
    "# The hidden implementations for sides() methods inside each sub-class comes into play.\n",
    "# The abstract method sides defined in the abstract classess never invoked."
   ]
  },
  {
   "cell_type": "markdown",
   "id": "552a892b",
   "metadata": {},
   "source": [
    "# ENCAPSULATION:\n",
    "\n",
    "        > Encapsulation is also the feature of object-oriented programming language.\n",
    "        > It is used to restrict access to methods and variables.\n",
    "        > In encapsulation, code and data are wrapped together within a single unit from being modified by accident.\n",
    "        "
   ]
  },
  {
   "cell_type": "code",
   "execution_count": 9,
   "id": "30a574d7",
   "metadata": {},
   "outputs": [
    {
     "name": "stdout",
     "output_type": "stream",
     "text": [
      "driving.maxspeed 200\n",
      " driving.name Supercar\n",
      "driving.maxspeed 200\n",
      " driving.name Supercar\n",
      "driving.maxspeed 200\n",
      " driving.name Supercar\n"
     ]
    }
   ],
   "source": [
    "# Example:\n",
    "\n",
    "class car:\n",
    "    __maxspeed =0\n",
    "    __name =\"\"\n",
    "    def __init__(self):\n",
    "        self.__maxspeed=200\n",
    "        self.__name=\"Supercar\"\n",
    "    def drive(self):\n",
    "        print(\"driving.maxspeed\" + str(self.__maxspeed))\n",
    "        print(\" driving.name \" + str(self.__name))\n",
    "redcar=car()\n",
    "redcar.drive()\n",
    "redcar.__maxspeed=10    # will not change the variable because it is private\n",
    "redcar.drive()\n",
    "redcar.__name=\"john\"\n",
    "redcar.drive()"
   ]
  },
  {
   "cell_type": "markdown",
   "id": "ec323a30",
   "metadata": {},
   "source": [
    "# PYTHON INHERITENCE SUPERFUNCTION():\n",
    "\n",
    "        > With inheritence, the superfunction() comes in quite handy.\n",
    "        > It allows us to call a method from a parent class."
   ]
  },
  {
   "cell_type": "code",
   "execution_count": 11,
   "id": "c4537598",
   "metadata": {},
   "outputs": [
    {
     "name": "stdout",
     "output_type": "stream",
     "text": [
      "start the engine\n",
      "I have two wheels\n",
      "stop engine\n",
      "stop\n"
     ]
    }
   ],
   "source": [
    "# Example:\n",
    "\n",
    "class vehicle:\n",
    "    def start(self):\n",
    "        print(\"start the engine\")\n",
    "    def stop(self):\n",
    "        print(\"stop engine\")\n",
    "class twowheeler(vehicle):\n",
    "    def display(self):\n",
    "        super().start()\n",
    "        print(\"I have two wheels\")\n",
    "        super().stop()\n",
    "        print(\"stop\")\n",
    "    \n",
    "pulser=twowheeler()\n",
    "pulser.display()"
   ]
  },
  {
   "cell_type": "code",
   "execution_count": null,
   "id": "b174af4d",
   "metadata": {},
   "outputs": [],
   "source": []
  },
  {
   "cell_type": "code",
   "execution_count": null,
   "id": "01b444ca",
   "metadata": {},
   "outputs": [],
   "source": []
  },
  {
   "cell_type": "code",
   "execution_count": null,
   "id": "f8440f2a",
   "metadata": {},
   "outputs": [],
   "source": []
  },
  {
   "cell_type": "code",
   "execution_count": null,
   "id": "84c99106",
   "metadata": {},
   "outputs": [],
   "source": []
  },
  {
   "cell_type": "code",
   "execution_count": null,
   "id": "f2e36e4a",
   "metadata": {},
   "outputs": [],
   "source": []
  }
 ],
 "metadata": {
  "kernelspec": {
   "display_name": "Python 3",
   "language": "python",
   "name": "python3"
  },
  "language_info": {
   "codemirror_mode": {
    "name": "ipython",
    "version": 3
   },
   "file_extension": ".py",
   "mimetype": "text/x-python",
   "name": "python",
   "nbconvert_exporter": "python",
   "pygments_lexer": "ipython3",
   "version": "3.8.8"
  }
 },
 "nbformat": 4,
 "nbformat_minor": 5
}
