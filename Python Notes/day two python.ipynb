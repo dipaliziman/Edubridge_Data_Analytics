{
 "cells": [
  {
   "cell_type": "markdown",
   "id": "4fe5ab7e",
   "metadata": {},
   "source": [
    "## Basics \n",
    "\n"
   ]
  },
  {
   "cell_type": "code",
   "execution_count": 1,
   "id": "f1cd7cc4",
   "metadata": {},
   "outputs": [
    {
     "name": "stdout",
     "output_type": "stream",
     "text": [
      "H\n",
      "ell\n",
      "Hello EdubridgeHello Edubridge\n"
     ]
    }
   ],
   "source": [
    "#BAsics of Concatination\n",
    "v=\"Hello Edubridge\"\n",
    "print(v[0])  #indexing\n",
    "#print(v[])\n",
    "print(v[1:4]) #slicing\n",
    "print(v+v)  #concetanation\n"
   ]
  },
  {
   "cell_type": "markdown",
   "id": "6264d8b6",
   "metadata": {},
   "source": [
    "## Negative Indexing"
   ]
  },
  {
   "cell_type": "code",
   "execution_count": 2,
   "id": "28091e80",
   "metadata": {},
   "outputs": [
    {
     "name": "stdout",
     "output_type": "stream",
     "text": [
      "idg\n",
      "Hello Edubridge\n"
     ]
    }
   ],
   "source": [
    "v=\"Hello Edubridge\"\n",
    "print(v[-4:-1])  #indexing Negative\n",
    "print(v.strip()) \n"
   ]
  },
  {
   "cell_type": "markdown",
   "id": "7dcbdefe",
   "metadata": {},
   "source": [
    "## Modifying String "
   ]
  },
  {
   "cell_type": "code",
   "execution_count": 3,
   "id": "94281e7c",
   "metadata": {},
   "outputs": [
    {
     "name": "stdout",
     "output_type": "stream",
     "text": [
      " edubridge \n",
      " EDUBRIDGE \n",
      " Edobridge \n",
      "Edubridge\n"
     ]
    }
   ],
   "source": [
    "v=\" Edubridge \"\n",
    "print(v.lower()) \n",
    "print(v.upper()) \n",
    "print(v.replace('u','o'))\n",
    "print(v.strip()) \n",
    "\n"
   ]
  },
  {
   "cell_type": "markdown",
   "id": "a65c86d1",
   "metadata": {},
   "source": [
    "## concatenation with int "
   ]
  },
  {
   "cell_type": "code",
   "execution_count": 4,
   "id": "249b0b9c",
   "metadata": {},
   "outputs": [
    {
     "name": "stdout",
     "output_type": "stream",
     "text": [
      "my name is i am 36\n"
     ]
    }
   ],
   "source": [
    "age= 36\n",
    "txt= \"my name is i am {}\"\n",
    "print(txt.format(age))\n",
    "\n"
   ]
  },
  {
   "cell_type": "code",
   "execution_count": 5,
   "id": "b74d0151",
   "metadata": {},
   "outputs": [
    {
     "name": "stdout",
     "output_type": "stream",
     "text": [
      "i want 3 piece of item 500 for 58.6 dollars\n"
     ]
    }
   ],
   "source": [
    "quantity=3\n",
    "itemno=500\n",
    "price= 58.6\n",
    "myorder=\"i want {} piece of item {} for {} dollars\"\n",
    "print(myorder.format(quantity,itemno,price))"
   ]
  },
  {
   "cell_type": "markdown",
   "id": "7f13c3c8",
   "metadata": {},
   "source": [
    "## Create two strings and do the slicing, conactenate, repetition."
   ]
  },
  {
   "cell_type": "code",
   "execution_count": 6,
   "id": "e9c73bb5",
   "metadata": {},
   "outputs": [
    {
     "name": "stdout",
     "output_type": "stream",
     "text": [
      "llo\n",
      "wor\n",
      "helloworld\n",
      "hellohello\n",
      "worldworldworld\n"
     ]
    }
   ],
   "source": [
    "str1=\"hello\"\n",
    "str2=\"world\"\n",
    "print(str1[2:])  #slicing\n",
    "print(str2[0:3])\n",
    "print(str1+str2)  #conactenate\n",
    "print(str1*2)  #repitation\n",
    "print(str2*3)\n"
   ]
  },
  {
   "cell_type": "markdown",
   "id": "db680400",
   "metadata": {},
   "source": [
    "## 1. Use the len method to print the length of the string.A=’Data Analytics’\n"
   ]
  },
  {
   "cell_type": "code",
   "execution_count": 8,
   "id": "e93ffd2c",
   "metadata": {},
   "outputs": [
    {
     "name": "stdout",
     "output_type": "stream",
     "text": [
      "14\n"
     ]
    }
   ],
   "source": [
    "String=\"Data Analytics\"\n",
    "x=len(String)\n",
    "print(x)\n"
   ]
  },
  {
   "cell_type": "markdown",
   "id": "61b111df",
   "metadata": {},
   "source": [
    "## 2.\tGet the first character of the string txt=’Data Analytics’"
   ]
  },
  {
   "cell_type": "code",
   "execution_count": 9,
   "id": "94a5f345",
   "metadata": {},
   "outputs": [
    {
     "name": "stdout",
     "output_type": "stream",
     "text": [
      "d\n"
     ]
    }
   ],
   "source": [
    "txt=\"data analytics\"\n",
    "print(txt[:-13])\n"
   ]
  },
  {
   "cell_type": "markdown",
   "id": "68c61386",
   "metadata": {},
   "source": [
    "## 3.\tGet the characters from index 2 to index 4 of txt=’Data Analytics’"
   ]
  },
  {
   "cell_type": "code",
   "execution_count": 10,
   "id": "ed7a7918",
   "metadata": {},
   "outputs": [
    {
     "name": "stdout",
     "output_type": "stream",
     "text": [
      "ta \n"
     ]
    }
   ],
   "source": [
    "txt=\"data analytics\"\n",
    "print(txt[2:5])"
   ]
  },
  {
   "cell_type": "markdown",
   "id": "e96ee1d1",
   "metadata": {},
   "source": [
    "## 4.\tReplace the character F  with a J for ‘Functions’\n"
   ]
  },
  {
   "cell_type": "code",
   "execution_count": 11,
   "id": "4f46850c",
   "metadata": {},
   "outputs": [
    {
     "name": "stdout",
     "output_type": "stream",
     "text": [
      "Junctions\n"
     ]
    }
   ],
   "source": [
    "txt=\"Functions\"\n",
    "print(txt.replace('F','J'))"
   ]
  },
  {
   "cell_type": "markdown",
   "id": "4ccc5eb9",
   "metadata": {},
   "source": [
    "## 5.\tWrite a Python program to create two strings s1 and s2. Assign in s1 as ‘Python’ and in s2 as ‘Strings. Print the character from 2nd index to 5th index of s1.Print the characters from 2nd to end.Concatenate both s1 and s2. Repeat s2 three times."
   ]
  },
  {
   "cell_type": "code",
   "execution_count": 12,
   "id": "bc8eab55",
   "metadata": {},
   "outputs": [
    {
     "name": "stdout",
     "output_type": "stream",
     "text": [
      "tho\n",
      "rings\n",
      "Python Strings\n",
      "StringsStringsStrings\n"
     ]
    }
   ],
   "source": [
    "str1='Python'\n",
    "str2='Strings'\n",
    "print(str1[2:5])\n",
    "print(str2[2:])  \n",
    "print(str1+ \" \"+str2)\n",
    "print(str2*3)\n"
   ]
  },
  {
   "cell_type": "markdown",
   "id": "1ac71883",
   "metadata": {},
   "source": [
    "## Quotes"
   ]
  },
  {
   "cell_type": "code",
   "execution_count": null,
   "id": "1ad57f06",
   "metadata": {},
   "outputs": [],
   "source": [
    "my_string = 'Hello'\n",
    "print(my_string)\n",
    "\n",
    "my_string = \"Hello\"\n",
    "print(my_string)\n",
    "\n",
    "my_string = '''Hello'''\n",
    "print(my_string)\n",
    "\n",
    "my_string = \"\"\"Hello, welcome to the world of Python\"\"\"\n",
    "print(my_string)"
   ]
  },
  {
   "cell_type": "markdown",
   "id": "759bb831",
   "metadata": {},
   "source": [
    "##  Accessing string characters in Python"
   ]
  },
  {
   "cell_type": "code",
   "execution_count": null,
   "id": "43c92325",
   "metadata": {},
   "outputs": [],
   "source": [
    "str = 'programiz'\n",
    "print('str = ', str)\n",
    "print('str[0] = ', str[0]) #first charectr\n"
   ]
  },
  {
   "cell_type": "markdown",
   "id": "1c7fc201",
   "metadata": {},
   "source": [
    "## Python String Operations"
   ]
  },
  {
   "cell_type": "code",
   "execution_count": null,
   "id": "c3e2c0ed",
   "metadata": {},
   "outputs": [],
   "source": [
    "str1 = 'Hello'\n",
    "str2 ='World!'\n",
    "print('str1 + str2 = ', str1 + str2) # + operator\n",
    "print('str1 * 3 =', str1 * 3)\n"
   ]
  },
  {
   "cell_type": "code",
   "execution_count": null,
   "id": "4f1eb87c",
   "metadata": {},
   "outputs": [],
   "source": [
    "name = \"Devansh\"   \n",
    "age = 20  \n",
    "marks = 80.50     \n",
    "print(name) \n",
    "print(age)   \n",
    "print(marks)  "
   ]
  },
  {
   "cell_type": "code",
   "execution_count": null,
   "id": "5b770a27",
   "metadata": {},
   "outputs": [],
   "source": [
    "name = \"A\"   \n",
    "Name = \"B\"   \n",
    "naMe = \"C\"    \n",
    "NAME = \"D\"    \n",
    "n_a_m_e = \"E\"   \n",
    "_name = \"F\"   \n",
    "name_ = \"G\"   \n",
    "_name_ = \"H\"   \n",
    "na56me = \"I\"       \n",
    "print(name,Name,naMe,NAME,n_a_m_e, _name,name_, _name_,na56me)"
   ]
  }
 ],
 "metadata": {
  "kernelspec": {
   "display_name": "Python 3 (ipykernel)",
   "language": "python",
   "name": "python3"
  },
  "language_info": {
   "codemirror_mode": {
    "name": "ipython",
    "version": 3
   },
   "file_extension": ".py",
   "mimetype": "text/x-python",
   "name": "python",
   "nbconvert_exporter": "python",
   "pygments_lexer": "ipython3",
   "version": "3.9.7"
  }
 },
 "nbformat": 4,
 "nbformat_minor": 5
}
