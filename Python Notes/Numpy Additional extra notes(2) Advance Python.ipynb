{
 "cells": [
  {
   "cell_type": "markdown",
   "id": "eb06af30",
   "metadata": {},
   "source": [
    "## Numpy Splitting array\n",
    "\n",
    "-- Splitting is reverse operation of joining\n",
    "\n",
    "--Joining merges multiple arrays into one and splitting breaks one array into multiple.\n",
    "\n",
    "--we use array_split() for splitting arrays,we pass it array we want to split and number of splits.\n",
    "\n",
    "\n"
   ]
  },
  {
   "cell_type": "code",
   "execution_count": 2,
   "id": "358f936f",
   "metadata": {},
   "outputs": [
    {
     "data": {
      "text/plain": [
       "[array([1, 2]), array([3, 4]), array([5, 6])]"
      ]
     },
     "execution_count": 2,
     "metadata": {},
     "output_type": "execute_result"
    }
   ],
   "source": [
    "#Example- split the array into 3 parts\n",
    "import numpy as np\n",
    "array=np.array([1,2,3,4,5,6])\n",
    "new_array=np.array_split(array,3)\n",
    "new_array"
   ]
  },
  {
   "cell_type": "code",
   "execution_count": 3,
   "id": "4cab5be3",
   "metadata": {},
   "outputs": [
    {
     "data": {
      "text/plain": [
       "[array([1, 2]), array([3, 4]), array([5, 6])]"
      ]
     },
     "execution_count": 3,
     "metadata": {},
     "output_type": "execute_result"
    }
   ],
   "source": [
    "#Example- split the array into 3 parts\n",
    "import numpy as np\n",
    "array=np.array([1,2,3,4,5,6])\n",
    "new_array=np.split(array,3)\n",
    "new_array"
   ]
  },
  {
   "cell_type": "code",
   "execution_count": 6,
   "id": "6dd80e42",
   "metadata": {},
   "outputs": [
    {
     "data": {
      "text/plain": [
       "[array([1, 2]), array([3, 4]), array([5]), array([6])]"
      ]
     },
     "execution_count": 6,
     "metadata": {},
     "output_type": "execute_result"
    }
   ],
   "source": [
    "#split the particular array in 4 parts\n",
    "import numpy as np\n",
    "array=np.array([1,2,3,4,5,6])\n",
    "new_array=np.array_split(array,4)\n",
    "new_array   #if the array has less elements than required it will adjust for end accordingly"
   ]
  },
  {
   "cell_type": "code",
   "execution_count": 8,
   "id": "8f7d2b1b",
   "metadata": {},
   "outputs": [
    {
     "name": "stdout",
     "output_type": "stream",
     "text": [
      "[1 2]\n",
      "[3 4]\n",
      "[5 6]\n"
     ]
    }
   ],
   "source": [
    "## Example-Split into arrays\n",
    "# if you split an array into 3-arrays you can access them from the result just like an array element\n",
    "import numpy as np\n",
    "array=np.array([1,2,3,4,5,6])\n",
    "new_array=np.array_split(array,3)\n",
    "print(new_array[0])\n",
    "print(new_array[1])\n",
    "print(new_array[2])"
   ]
  },
  {
   "cell_type": "code",
   "execution_count": 14,
   "id": "c0864304",
   "metadata": {},
   "outputs": [
    {
     "data": {
      "text/plain": [
       "[array([[ 1,  2, 13],\n",
       "        [ 3,  4, 14]]),\n",
       " array([[ 5,  6, 15],\n",
       "        [ 7,  8, 16]]),\n",
       " array([[ 9, 10, 17],\n",
       "        [11, 12, 18]])]"
      ]
     },
     "execution_count": 14,
     "metadata": {},
     "output_type": "execute_result"
    }
   ],
   "source": [
    "#example- use same syntax when spliting 2d arrays \n",
    "#use the array_split() method,pass on the array you want to split and number of split you want to do\n",
    "#split the 2d arrays into three 2-d array\n",
    "\n",
    "import numpy as np\n",
    "array=np.array([[1,2,13],[3,4,14],[5,6,15],[7,8,16],[9,10,17],[11,12,18]])\n",
    "new_array=np.array_split(array,3)\n",
    "new_array\n"
   ]
  },
  {
   "cell_type": "code",
   "execution_count": 15,
   "id": "cec92b12",
   "metadata": {},
   "outputs": [
    {
     "data": {
      "text/plain": [
       "[array([[ 1],\n",
       "        [ 3],\n",
       "        [ 5],\n",
       "        [ 7],\n",
       "        [ 9],\n",
       "        [11]]),\n",
       " array([[ 2],\n",
       "        [ 4],\n",
       "        [ 6],\n",
       "        [ 8],\n",
       "        [10],\n",
       "        [12]]),\n",
       " array([[13],\n",
       "        [14],\n",
       "        [15],\n",
       "        [16],\n",
       "        [17],\n",
       "        [18]])]"
      ]
     },
     "execution_count": 15,
     "metadata": {},
     "output_type": "execute_result"
    }
   ],
   "source": [
    "#Example-Split the 2-d array into three 2-d array along rows\n",
    "import numpy as np\n",
    "array=np.array([[1,2,13],[3,4,14],[5,6,15],[7,8,16],[9,10,17],[11,12,18]])\n",
    "new_array=np.array_split(array,3,axis=1)\n",
    "new_array\n"
   ]
  },
  {
   "cell_type": "markdown",
   "id": "3f2d417d",
   "metadata": {},
   "source": [
    "## Numpy array Search \n",
    "\n",
    "-- you can an array for a certain value and return the indexes that get a match \n",
    "\n",
    "-- To search array you can used where() method"
   ]
  },
  {
   "cell_type": "code",
   "execution_count": 16,
   "id": "99a5470d",
   "metadata": {},
   "outputs": [
    {
     "data": {
      "text/plain": [
       "(array([3, 5, 6], dtype=int64),)"
      ]
     },
     "execution_count": 16,
     "metadata": {},
     "output_type": "execute_result"
    }
   ],
   "source": [
    "#Example- find the index where the value is four\n",
    "import numpy as np\n",
    "array=np.array([1,2,3,4,5,4,4])\n",
    "x=np.where(array==4)\n",
    "x"
   ]
  },
  {
   "cell_type": "code",
   "execution_count": 18,
   "id": "3c0e87f1",
   "metadata": {},
   "outputs": [
    {
     "data": {
      "text/plain": [
       "(array([ 1,  3,  5,  6,  8, 10], dtype=int64),)"
      ]
     },
     "execution_count": 18,
     "metadata": {},
     "output_type": "execute_result"
    }
   ],
   "source": [
    "#find the indexes where the values are even\n",
    "import numpy as np\n",
    "array=np.array([1,2,3,4,5,4,4,5,6,7,8])\n",
    "x=np.where(array%2==0)\n",
    "x"
   ]
  },
  {
   "cell_type": "code",
   "execution_count": 20,
   "id": "4c61de21",
   "metadata": {},
   "outputs": [
    {
     "data": {
      "text/plain": [
       "(array([0, 2, 4, 7, 9], dtype=int64),)"
      ]
     },
     "execution_count": 20,
     "metadata": {},
     "output_type": "execute_result"
    }
   ],
   "source": [
    "#find the indexes where the values are odd\n",
    "import numpy as np\n",
    "array=np.array([1,2,3,4,5,4,4,5,6,7,8])\n",
    "x=np.where(array%2!=0)\n",
    "x"
   ]
  },
  {
   "cell_type": "markdown",
   "id": "e305cb8d",
   "metadata": {},
   "source": [
    "## Search Sorted\n",
    "\n",
    "-- this method perform binary search in the array and return the index where the specified value would be inserted to maintain search order.\n"
   ]
  },
  {
   "cell_type": "code",
   "execution_count": 21,
   "id": "768f8a7a",
   "metadata": {},
   "outputs": [
    {
     "data": {
      "text/plain": [
       "1"
      ]
     },
     "execution_count": 21,
     "metadata": {},
     "output_type": "execute_result"
    }
   ],
   "source": [
    "# Example-\n",
    "array=np.array([6,7,8,9])\n",
    "x=np.searchsorted(array,7)\n",
    "x"
   ]
  },
  {
   "cell_type": "code",
   "execution_count": 22,
   "id": "7aecdf0a",
   "metadata": {},
   "outputs": [
    {
     "data": {
      "text/plain": [
       "2"
      ]
     },
     "execution_count": 22,
     "metadata": {},
     "output_type": "execute_result"
    }
   ],
   "source": [
    "# Example-\n",
    "array=np.array([6,7,8,9])\n",
    "x=np.searchsorted(array,7,side='right')\n",
    "x"
   ]
  },
  {
   "cell_type": "markdown",
   "id": "cd931af7",
   "metadata": {},
   "source": [
    "## np array sort\n",
    "\n",
    "-- sorting means putting in ordered sequence\n",
    "\n",
    "--np, ndarray object has function called sort() "
   ]
  },
  {
   "cell_type": "code",
   "execution_count": 23,
   "id": "57ee22bd",
   "metadata": {},
   "outputs": [
    {
     "name": "stdout",
     "output_type": "stream",
     "text": [
      "[0 1 2 3]\n"
     ]
    }
   ],
   "source": [
    "#example- \n",
    "array=np.array([3,2,0,1])\n",
    "print(np.sort(array))"
   ]
  },
  {
   "cell_type": "code",
   "execution_count": 29,
   "id": "ac0a86b3",
   "metadata": {},
   "outputs": [
    {
     "data": {
      "text/plain": [
       "array(['apple', 'banana', 'cherry'], dtype='<U6')"
      ]
     },
     "execution_count": 29,
     "metadata": {},
     "output_type": "execute_result"
    }
   ],
   "source": [
    "#example- sort the array alphabetically\n",
    "array=np.array(['banana','cherry','apple'])\n",
    "np.sort(array)"
   ]
  },
  {
   "cell_type": "code",
   "execution_count": 30,
   "id": "152dde1d",
   "metadata": {},
   "outputs": [
    {
     "data": {
      "text/plain": [
       "array([False,  True,  True])"
      ]
     },
     "execution_count": 30,
     "metadata": {},
     "output_type": "execute_result"
    }
   ],
   "source": [
    "#example- sort the boolean array \n",
    "array=np.array([True,False,True])\n",
    "printnp.sort(array)"
   ]
  },
  {
   "cell_type": "markdown",
   "id": "b50b70ba",
   "metadata": {},
   "source": [
    "## sort 2-d array\n",
    "- if you use sort method on a 2-d array both array will be sorted\n"
   ]
  },
  {
   "cell_type": "code",
   "execution_count": 31,
   "id": "a971a227",
   "metadata": {},
   "outputs": [
    {
     "name": "stdout",
     "output_type": "stream",
     "text": [
      "[[2 3 4]\n",
      " [0 1 5]]\n"
     ]
    }
   ],
   "source": [
    "#example-\n",
    "array=np.array([[3,2,4],[5,0,1]])\n",
    "print(np.sort(array))"
   ]
  },
  {
   "cell_type": "markdown",
   "id": "e942434b",
   "metadata": {},
   "source": [
    "## np array Filter\n",
    "-- getting some element out of existing array and creating new array out of them is called filtering\n",
    "\n",
    "--in np you filter an array using a boolean index list\n",
    "\n",
    "--if the value at an index is true that element is contained in filtered array,if the value of that index is false that element excluded from the filtered array"
   ]
  },
  {
   "cell_type": "code",
   "execution_count": 35,
   "id": "1e642592",
   "metadata": {},
   "outputs": [
    {
     "name": "stdout",
     "output_type": "stream",
     "text": [
      "[42 44]\n"
     ]
    }
   ],
   "source": [
    "#example-create an array from the element 0 and 2 \n",
    "array=np.array([41,42,43,44])\n",
    "x=[False,True,False,True]\n",
    "new_array=array[x]\n",
    "print(new_array)"
   ]
  },
  {
   "cell_type": "code",
   "execution_count": 36,
   "id": "3cf76eb0",
   "metadata": {},
   "outputs": [
    {
     "name": "stdout",
     "output_type": "stream",
     "text": [
      "[False, False, True, True]\n",
      "[43 44]\n"
     ]
    }
   ],
   "source": [
    "#creating filter array that will return values higher than 42\n",
    "import numpy as np\n",
    "\n",
    "arr = np.array([41, 42, 43, 44])\n",
    "\n",
    "# Create an empty list\n",
    "filter_arr = []\n",
    "\n",
    "# go through each element in arr\n",
    "for element in arr:\n",
    "  # if the element is higher than 42, set the value to True, otherwise False:\n",
    "  if element > 42:\n",
    "    filter_arr.append(True)\n",
    "  else:\n",
    "    filter_arr.append(False)\n",
    "\n",
    "newarr = arr[filter_arr]\n",
    "\n",
    "print(filter_arr)\n",
    "print(newarr)\n",
    "\n"
   ]
  },
  {
   "cell_type": "code",
   "execution_count": 37,
   "id": "17dd8ac8",
   "metadata": {},
   "outputs": [
    {
     "name": "stdout",
     "output_type": "stream",
     "text": [
      "[False, True, False, True, False, True, False]\n",
      "[2 4 6]\n"
     ]
    }
   ],
   "source": [
    "#create a filter array that will return only even value\n",
    "\n",
    "import numpy as np\n",
    "\n",
    "arr = np.array([1, 2, 3, 4, 5, 6, 7])\n",
    "\n",
    "# Create an empty list\n",
    "filter_arr = []\n",
    "\n",
    "# go through each element in arr\n",
    "for element in arr:\n",
    "  # if the element is completely divisble by 2, set the value to True, otherwise False\n",
    "  if element % 2 == 0:\n",
    "    filter_arr.append(True)\n",
    "  else:\n",
    "    filter_arr.append(False)\n",
    "\n",
    "newarr = arr[filter_arr]\n",
    "\n",
    "print(filter_arr)\n",
    "print(newarr)\n"
   ]
  },
  {
   "cell_type": "code",
   "execution_count": null,
   "id": "8a7d981d",
   "metadata": {},
   "outputs": [],
   "source": []
  },
  {
   "cell_type": "code",
   "execution_count": null,
   "id": "b846bc46",
   "metadata": {},
   "outputs": [],
   "source": []
  },
  {
   "cell_type": "code",
   "execution_count": null,
   "id": "87f70038",
   "metadata": {},
   "outputs": [],
   "source": []
  },
  {
   "cell_type": "code",
   "execution_count": null,
   "id": "77c7dbd9",
   "metadata": {},
   "outputs": [],
   "source": []
  }
 ],
 "metadata": {
  "kernelspec": {
   "display_name": "Python 3 (ipykernel)",
   "language": "python",
   "name": "python3"
  },
  "language_info": {
   "codemirror_mode": {
    "name": "ipython",
    "version": 3
   },
   "file_extension": ".py",
   "mimetype": "text/x-python",
   "name": "python",
   "nbconvert_exporter": "python",
   "pygments_lexer": "ipython3",
   "version": "3.9.7"
  }
 },
 "nbformat": 4,
 "nbformat_minor": 5
}
