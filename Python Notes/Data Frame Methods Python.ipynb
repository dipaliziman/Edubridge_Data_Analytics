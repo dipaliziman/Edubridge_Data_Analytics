{
 "cells": [
  {
   "cell_type": "markdown",
   "id": "dd85eaaa",
   "metadata": {},
   "source": [
    "## Data Frame Methods\n",
    "\n",
    "--1.index()- this method returns index (row labels) of the data frame.\n",
    "\n",
    "--2. add()- This method returns addition of dataframe and other\n",
    "\n",
    "--3. sub()- This method returns substraction of dataframe and other\n",
    "\n",
    "--4. mul()- This method returns Multiplication of dataframe and other\n",
    "\n",
    "--5. div()- This method returns floating division of dataframe and other\n",
    "         \n",
    "--6. unique() - This method extract the unique values in the dataframe\n",
    "\n",
    "--7.nunique()- This method returns count of unique values in the dataframe\n",
    "\n",
    "--8.value_counts() - This method counts the number of times each unique value occurs within the series\n",
    "\n",
    "--9. axes() -list representing the axes of the dataframe\n",
    "\n",
    "--10.between() - This  method extracts rows where a column value falls in between a predefined range \n",
    "\n",
    "--11.isin()-This method extracts rows from a dataframe where a column value exist in a predefine collection\n",
    "\n",
    "--12.dtypes()-This method return series with the data type of each column\n",
    "\n",
    "--13.astype()- This Method convert the data type in series\n",
    "\n",
    "--14.sort_values() -This method sorts the dataframe in ascending or descending order\n",
    "\n",
    "--15.sort_index()- This method sorts the value in a dataframe based on their index position or labels instead of their values\n",
    "\n",
    "--16. .loc[]- This method retrieves rows based on index labels\n",
    "\n",
    "--17. .iloc[]- This method retrieves rows based on index position\n",
    "\n",
    "--18.ix[]-this method retrieves dataframe rows based on either index labels or index position.this method combines best features of the .loc[] and .iloc[] method.\n",
    "\n",
    "--19.rename()-this method is call on a dataframe to change the names  of the index labels or column names.\n",
    "\n",
    "--20.drop() and pop()-these methods are used to delete rows or columns from a dataframe.\n",
    "\n",
    "--21.sample()-this method pulls out random sample of rows or column of a dataframe\n",
    "\n",
    "--22.nsmallest()-this method pulls out a rows with the smallest values in a column\n",
    "\n",
    "--23.nlargest()-this method pulls out a row with the largest values in a column\n",
    "\n",
    "--24. shape()-this method returns a tuple representing the dimensionality of the data frame\n",
    "\n",
    "--25.ndim()-it returns \"int\" representing a number of axes/array_dimension\n",
    "\n",
    "--26.copy()-methods create independent copies of pandas object\n",
    "\n",
    "--27.duplicated()-this method create boolean series and uses it to extract rows that have duplicate values\n",
    "\n",
    "--28.drop_duplicates()-to identify the duplicate rows and removing them through filtering\n",
    "\n",
    "--29.set_index()-this method sets the dataframe index (row labels) using one or more existing columns\n",
    "\n",
    "--30.reset_index()-this method resets index of a dataframe.this method sets the list of integer ranging from zero to length of data as index.\n",
    "\n",
    "# parameters \n",
    "\n",
    "--1. inplace-if it is true it fill values at an empty place otherwise false (inplace=True, inplace=False)\n",
    "\n",
    "\n",
    "# Functions\n",
    "\n",
    "--1.apply()- This function allows the users to pass a function and apply it to every single value of pandas\n",
    "\n",
    "Syntax  -    \n",
    "\n",
    "          \n",
    "          DataFrame.apply(func, axis=0, broadcast=None, raw=False, reduce=None, result_type=None, args=(), **kwds)\n",
    "          \n",
    "   Parameter description-\n",
    "   \n",
    "      1.func- it is a function that is to be applied to each column or row \n",
    "        \n",
    "      2.axis -(0 or index, 1 or columns default value will be zero). \n",
    "      it is an axis along which the function is applied.it can have two values,\n",
    "      0 or index-it applies the function to each of the column \n",
    "      1 or column-it applies the function to each of the row\n",
    "      \n",
    "      3.broadcast - it is an optional parameter which returns the boolean values.only relevant for aggregation functions:\n",
    "        False  or None: it returns a series whose length will be length of index\n",
    "        True: results will be broadcasted to the frame\n",
    "        \n",
    "      4. raw-bool,default value False(False : it passes each row or column as series  to the function, True:the passed function will received ndarray object) \n",
    "        \n",
    "      5.reduce- default value is none\n",
    "      \n",
    "      6.result_type - default value is none\n",
    "      \n",
    "      7.args()- it is a positional arguments\n",
    "      \n",
    "      8.**kwds- it is an optional keywords arguments\n",
    "\n",
    "\n",
    "\n"
   ]
  },
  {
   "cell_type": "markdown",
   "id": "8a5a6620",
   "metadata": {},
   "source": [
    "## Slicing, indexing,manupulating and cleaning pandas dataframes"
   ]
  },
  {
   "cell_type": "code",
   "execution_count": 5,
   "id": "ec8a9507",
   "metadata": {},
   "outputs": [
    {
     "name": "stdout",
     "output_type": "stream",
     "text": [
      "     name  age  weight     salary\n",
      "0   dhoni   36      75   55000000\n",
      "1   messi   34      69  100000000\n",
      "2   nadal   32      75   75000000\n",
      "3  serena   34      78    8000000\n"
     ]
    }
   ],
   "source": [
    "##slicing rows\n",
    "import pandas as pd \n",
    "#initializing the nested list with dataset\n",
    "player_list=[[\"dhoni\",36,75,55000000],\n",
    "             [\"messi\",34,69,100000000],\n",
    "            [\"nadal\",32,75,75000000],\n",
    "            [\"serena\",34,78,8000000\n",
    "            ]]\n",
    "#Creating pandas dataframe\n",
    "df=pd.DataFrame(player_list,columns=[\"name\",\"age\",\"weight\",\"salary\"])\n",
    "print(df)\n"
   ]
  },
  {
   "cell_type": "code",
   "execution_count": 8,
   "id": "b54af02e",
   "metadata": {},
   "outputs": [
    {
     "data": {
      "text/html": [
       "<div>\n",
       "<style scoped>\n",
       "    .dataframe tbody tr th:only-of-type {\n",
       "        vertical-align: middle;\n",
       "    }\n",
       "\n",
       "    .dataframe tbody tr th {\n",
       "        vertical-align: top;\n",
       "    }\n",
       "\n",
       "    .dataframe thead th {\n",
       "        text-align: right;\n",
       "    }\n",
       "</style>\n",
       "<table border=\"1\" class=\"dataframe\">\n",
       "  <thead>\n",
       "    <tr style=\"text-align: right;\">\n",
       "      <th></th>\n",
       "      <th>name</th>\n",
       "      <th>age</th>\n",
       "      <th>weight</th>\n",
       "      <th>salary</th>\n",
       "    </tr>\n",
       "  </thead>\n",
       "  <tbody>\n",
       "    <tr>\n",
       "      <th>0</th>\n",
       "      <td>dhoni</td>\n",
       "      <td>36</td>\n",
       "      <td>75</td>\n",
       "      <td>55000000</td>\n",
       "    </tr>\n",
       "    <tr>\n",
       "      <th>1</th>\n",
       "      <td>messi</td>\n",
       "      <td>34</td>\n",
       "      <td>69</td>\n",
       "      <td>100000000</td>\n",
       "    </tr>\n",
       "  </tbody>\n",
       "</table>\n",
       "</div>"
      ],
      "text/plain": [
       "    name  age  weight     salary\n",
       "0  dhoni   36      75   55000000\n",
       "1  messi   34      69  100000000"
      ]
     },
     "execution_count": 8,
     "metadata": {},
     "output_type": "execute_result"
    }
   ],
   "source": [
    "#slicing rows in dataframe \n",
    "df1=df.iloc[0:2]\n",
    "df1"
   ]
  },
  {
   "cell_type": "code",
   "execution_count": 9,
   "id": "ac49e3ad",
   "metadata": {},
   "outputs": [
    {
     "data": {
      "text/html": [
       "<div>\n",
       "<style scoped>\n",
       "    .dataframe tbody tr th:only-of-type {\n",
       "        vertical-align: middle;\n",
       "    }\n",
       "\n",
       "    .dataframe tbody tr th {\n",
       "        vertical-align: top;\n",
       "    }\n",
       "\n",
       "    .dataframe thead th {\n",
       "        text-align: right;\n",
       "    }\n",
       "</style>\n",
       "<table border=\"1\" class=\"dataframe\">\n",
       "  <thead>\n",
       "    <tr style=\"text-align: right;\">\n",
       "      <th></th>\n",
       "      <th>name</th>\n",
       "      <th>age</th>\n",
       "    </tr>\n",
       "  </thead>\n",
       "  <tbody>\n",
       "    <tr>\n",
       "      <th>0</th>\n",
       "      <td>dhoni</td>\n",
       "      <td>36</td>\n",
       "    </tr>\n",
       "    <tr>\n",
       "      <th>1</th>\n",
       "      <td>messi</td>\n",
       "      <td>34</td>\n",
       "    </tr>\n",
       "    <tr>\n",
       "      <th>2</th>\n",
       "      <td>nadal</td>\n",
       "      <td>32</td>\n",
       "    </tr>\n",
       "    <tr>\n",
       "      <th>3</th>\n",
       "      <td>serena</td>\n",
       "      <td>34</td>\n",
       "    </tr>\n",
       "  </tbody>\n",
       "</table>\n",
       "</div>"
      ],
      "text/plain": [
       "     name  age\n",
       "0   dhoni   36\n",
       "1   messi   34\n",
       "2   nadal   32\n",
       "3  serena   34"
      ]
     },
     "execution_count": 9,
     "metadata": {},
     "output_type": "execute_result"
    }
   ],
   "source": [
    "#Slicing Columns by using iloc\n",
    "df1=df.iloc[:,0:2]\n",
    "df1\n"
   ]
  },
  {
   "cell_type": "code",
   "execution_count": 10,
   "id": "296b2715",
   "metadata": {},
   "outputs": [
    {
     "name": "stdout",
     "output_type": "stream",
     "text": [
      "     name  age  weight     salary\n",
      "a   dhoni   36      75   55000000\n",
      "b   messi   34      69  100000000\n",
      "c   nadal   32      75   75000000\n",
      "d  serena   34      78    8000000\n"
     ]
    }
   ],
   "source": [
    "#indexing panda dataframe\n",
    "import pandas as pd \n",
    "\n",
    "player_list=[[\"dhoni\",36,75,55000000],\n",
    "             [\"messi\",34,69,100000000],\n",
    "            [\"nadal\",32,75,75000000],\n",
    "            [\"serena\",34,78,8000000 ]]\n",
    "#Creating pandas dataframe\n",
    "df=pd.DataFrame(player_list,columns=[\"name\",\"age\",\"weight\",\"salary\"],index=['a','b','c','d']) ## indexing\n",
    "print(df)"
   ]
  },
  {
   "cell_type": "markdown",
   "id": "1d5106cc",
   "metadata": {},
   "source": [
    "## manuplating pandas dataframe\n",
    "\n",
    "- manuplation of data can be done in multiple ways like applying functions,changing a data type of columns,spliting,adding rows to a dataframe"
   ]
  },
  {
   "cell_type": "code",
   "execution_count": 15,
   "id": "d86134f3",
   "metadata": {},
   "outputs": [
    {
     "data": {
      "text/html": [
       "<div>\n",
       "<style scoped>\n",
       "    .dataframe tbody tr th:only-of-type {\n",
       "        vertical-align: middle;\n",
       "    }\n",
       "\n",
       "    .dataframe tbody tr th {\n",
       "        vertical-align: top;\n",
       "    }\n",
       "\n",
       "    .dataframe thead th {\n",
       "        text-align: right;\n",
       "    }\n",
       "</style>\n",
       "<table border=\"1\" class=\"dataframe\">\n",
       "  <thead>\n",
       "    <tr style=\"text-align: right;\">\n",
       "      <th></th>\n",
       "      <th>name</th>\n",
       "      <th>univ_marks</th>\n",
       "      <th>percentage</th>\n",
       "    </tr>\n",
       "  </thead>\n",
       "  <tbody>\n",
       "    <tr>\n",
       "      <th>0</th>\n",
       "      <td>rohan</td>\n",
       "      <td>454</td>\n",
       "      <td>90.8</td>\n",
       "    </tr>\n",
       "    <tr>\n",
       "      <th>1</th>\n",
       "      <td>Mohan</td>\n",
       "      <td>425</td>\n",
       "      <td>85.0</td>\n",
       "    </tr>\n",
       "    <tr>\n",
       "      <th>2</th>\n",
       "      <td>Shweta</td>\n",
       "      <td>320</td>\n",
       "      <td>64.0</td>\n",
       "    </tr>\n",
       "    <tr>\n",
       "      <th>3</th>\n",
       "      <td>mohini</td>\n",
       "      <td>487</td>\n",
       "      <td>97.4</td>\n",
       "    </tr>\n",
       "    <tr>\n",
       "      <th>4</th>\n",
       "      <td>akash</td>\n",
       "      <td>257</td>\n",
       "      <td>51.4</td>\n",
       "    </tr>\n",
       "    <tr>\n",
       "      <th>5</th>\n",
       "      <td>Swara</td>\n",
       "      <td>489</td>\n",
       "      <td>97.8</td>\n",
       "    </tr>\n",
       "  </tbody>\n",
       "</table>\n",
       "</div>"
      ],
      "text/plain": [
       "     name  univ_marks  percentage\n",
       "0   rohan         454        90.8\n",
       "1   Mohan         425        85.0\n",
       "2  Shweta         320        64.0\n",
       "3  mohini         487        97.4\n",
       "4   akash         257        51.4\n",
       "5   Swara         489        97.8"
      ]
     },
     "execution_count": 15,
     "metadata": {},
     "output_type": "execute_result"
    }
   ],
   "source": [
    "# applying lambda function to a column using dataframe.assign()\n",
    "import pandas as pd\n",
    "#creating and initializing a list\n",
    "values=[[\"rohan\",454],\n",
    "        [\"Mohan\",425],\n",
    "       [\"Shweta\",320],\n",
    "       [\"mohini\",487],\n",
    "       [\"akash\",257],\n",
    "       [\"Swara\",489]]\n",
    "\n",
    "#Creating pandas dataframe\n",
    "df=pd.DataFrame(values,columns=['name','univ_marks'])\n",
    "df\n",
    "\n",
    "#appplying lambda function to find percentage of univ_marks column using df.assign\n",
    "df=df.assign(percentage=lambda x:(x['univ_marks'] / 500 * 100))\n",
    "df"
   ]
  },
  {
   "cell_type": "code",
   "execution_count": 16,
   "id": "9e2ef416",
   "metadata": {},
   "outputs": [
    {
     "name": "stdout",
     "output_type": "stream",
     "text": [
      "     name  age  weight     salary\n",
      "0   dhoni   36      75   55000000\n",
      "1   messi   34      69  100000000\n",
      "2   nadal   32      75   75000000\n",
      "3  serena   34      78    8000000\n"
     ]
    },
    {
     "data": {
      "text/html": [
       "<div>\n",
       "<style scoped>\n",
       "    .dataframe tbody tr th:only-of-type {\n",
       "        vertical-align: middle;\n",
       "    }\n",
       "\n",
       "    .dataframe tbody tr th {\n",
       "        vertical-align: top;\n",
       "    }\n",
       "\n",
       "    .dataframe thead th {\n",
       "        text-align: right;\n",
       "    }\n",
       "</style>\n",
       "<table border=\"1\" class=\"dataframe\">\n",
       "  <thead>\n",
       "    <tr style=\"text-align: right;\">\n",
       "      <th></th>\n",
       "      <th>name</th>\n",
       "      <th>age</th>\n",
       "      <th>weight</th>\n",
       "      <th>salary</th>\n",
       "    </tr>\n",
       "  </thead>\n",
       "  <tbody>\n",
       "    <tr>\n",
       "      <th>1</th>\n",
       "      <td>messi</td>\n",
       "      <td>34</td>\n",
       "      <td>69</td>\n",
       "      <td>100000000</td>\n",
       "    </tr>\n",
       "    <tr>\n",
       "      <th>0</th>\n",
       "      <td>dhoni</td>\n",
       "      <td>36</td>\n",
       "      <td>75</td>\n",
       "      <td>55000000</td>\n",
       "    </tr>\n",
       "    <tr>\n",
       "      <th>2</th>\n",
       "      <td>nadal</td>\n",
       "      <td>32</td>\n",
       "      <td>75</td>\n",
       "      <td>75000000</td>\n",
       "    </tr>\n",
       "    <tr>\n",
       "      <th>3</th>\n",
       "      <td>serena</td>\n",
       "      <td>34</td>\n",
       "      <td>78</td>\n",
       "      <td>8000000</td>\n",
       "    </tr>\n",
       "  </tbody>\n",
       "</table>\n",
       "</div>"
      ],
      "text/plain": [
       "     name  age  weight     salary\n",
       "1   messi   34      69  100000000\n",
       "0   dhoni   36      75   55000000\n",
       "2   nadal   32      75   75000000\n",
       "3  serena   34      78    8000000"
      ]
     },
     "execution_count": 16,
     "metadata": {},
     "output_type": "execute_result"
    }
   ],
   "source": [
    "##sorting the dataframe in ascending order\n",
    "\n",
    "import pandas as pd \n",
    "#initializing the nested list with dataset\n",
    "player_list=[[\"dhoni\",36,75,55000000],\n",
    "             [\"messi\",34,69,100000000],\n",
    "            [\"nadal\",32,75,75000000],\n",
    "            [\"serena\",34,78,8000000\n",
    "            ]]\n",
    "#Creating pandas dataframe\n",
    "df=pd.DataFrame(player_list,columns=[\"name\",\"age\",\"weight\",\"salary\"])\n",
    "print(df)\n",
    "\n",
    "# sorting by column weight\n",
    "df.sort_values(by=['weight'])\n"
   ]
  },
  {
   "cell_type": "code",
   "execution_count": 23,
   "id": "8703dd3f",
   "metadata": {},
   "outputs": [
    {
     "name": "stdout",
     "output_type": "stream",
     "text": [
      "     name  age  weight     salary\n",
      "0   dhoni   36      75   55000000\n",
      "1   messi   34      69  100000000\n",
      "2   nadal   32      75   75000000\n",
      "3  serena   34      78    8000000\n"
     ]
    },
    {
     "data": {
      "text/html": [
       "<div>\n",
       "<style scoped>\n",
       "    .dataframe tbody tr th:only-of-type {\n",
       "        vertical-align: middle;\n",
       "    }\n",
       "\n",
       "    .dataframe tbody tr th {\n",
       "        vertical-align: top;\n",
       "    }\n",
       "\n",
       "    .dataframe thead th {\n",
       "        text-align: right;\n",
       "    }\n",
       "</style>\n",
       "<table border=\"1\" class=\"dataframe\">\n",
       "  <thead>\n",
       "    <tr style=\"text-align: right;\">\n",
       "      <th></th>\n",
       "      <th>name</th>\n",
       "      <th>age</th>\n",
       "      <th>weight</th>\n",
       "      <th>salary</th>\n",
       "    </tr>\n",
       "  </thead>\n",
       "  <tbody>\n",
       "    <tr>\n",
       "      <th>3</th>\n",
       "      <td>serena</td>\n",
       "      <td>34</td>\n",
       "      <td>78</td>\n",
       "      <td>8000000</td>\n",
       "    </tr>\n",
       "    <tr>\n",
       "      <th>0</th>\n",
       "      <td>dhoni</td>\n",
       "      <td>36</td>\n",
       "      <td>75</td>\n",
       "      <td>55000000</td>\n",
       "    </tr>\n",
       "    <tr>\n",
       "      <th>2</th>\n",
       "      <td>nadal</td>\n",
       "      <td>32</td>\n",
       "      <td>75</td>\n",
       "      <td>75000000</td>\n",
       "    </tr>\n",
       "    <tr>\n",
       "      <th>1</th>\n",
       "      <td>messi</td>\n",
       "      <td>34</td>\n",
       "      <td>69</td>\n",
       "      <td>100000000</td>\n",
       "    </tr>\n",
       "  </tbody>\n",
       "</table>\n",
       "</div>"
      ],
      "text/plain": [
       "     name  age  weight     salary\n",
       "3  serena   34      78    8000000\n",
       "0   dhoni   36      75   55000000\n",
       "2   nadal   32      75   75000000\n",
       "1   messi   34      69  100000000"
      ]
     },
     "execution_count": 23,
     "metadata": {},
     "output_type": "execute_result"
    }
   ],
   "source": [
    "##sorting the dataframe in descending order\n",
    "\n",
    "import pandas as pd \n",
    "#initializing the nested list with dataset\n",
    "player_list=[[\"dhoni\",36,75,55000000],\n",
    "             [\"messi\",34,69,100000000],\n",
    "            [\"nadal\",32,75,75000000],\n",
    "            [\"serena\",34,78,8000000\n",
    "            ]]\n",
    "#Creating pandas dataframe\n",
    "df=pd.DataFrame(player_list,columns=[\"name\",\"age\",\"weight\",\"salary\"])\n",
    "print(df)\n",
    "\n",
    "# sorting by column weight\n",
    "df.sort_values(ascending=False ,by=['weight'])\n"
   ]
  },
  {
   "cell_type": "code",
   "execution_count": 3,
   "id": "002c9001",
   "metadata": {},
   "outputs": [
    {
     "name": "stdout",
     "output_type": "stream",
     "text": [
      "     name   age  weight     salary\n",
      "0   dhoni   NaN      75   55000000\n",
      "1   zidan  44.0      69  100000000\n",
      "2   nadal   NaN      75   75000000\n",
      "3  serena  34.0      78    7541254\n"
     ]
    }
   ],
   "source": [
    "# Cleaning pandas dataframe\n",
    "\n",
    "import pandas as pd \n",
    "import numpy as np\n",
    "player_list=[[\"dhoni\",np.nan,75,55000000],\n",
    "             [\"zidan\",44,69,100000000],\n",
    "            [\"nadal\",np.nan,75,75000000],\n",
    "            [\"serena\",34,78,7541254 ]]\n",
    "#Creating pandas dataframe\n",
    "df=pd.DataFrame(player_list,columns=[\"name\",\"age\",\"weight\",\"salary\"]) ## indexing\n",
    "print(df)\n"
   ]
  },
  {
   "cell_type": "code",
   "execution_count": 4,
   "id": "da016ed9",
   "metadata": {},
   "outputs": [
    {
     "data": {
      "text/html": [
       "<div>\n",
       "<style scoped>\n",
       "    .dataframe tbody tr th:only-of-type {\n",
       "        vertical-align: middle;\n",
       "    }\n",
       "\n",
       "    .dataframe tbody tr th {\n",
       "        vertical-align: top;\n",
       "    }\n",
       "\n",
       "    .dataframe thead th {\n",
       "        text-align: right;\n",
       "    }\n",
       "</style>\n",
       "<table border=\"1\" class=\"dataframe\">\n",
       "  <thead>\n",
       "    <tr style=\"text-align: right;\">\n",
       "      <th></th>\n",
       "      <th>name</th>\n",
       "      <th>age</th>\n",
       "      <th>weight</th>\n",
       "      <th>salary</th>\n",
       "    </tr>\n",
       "  </thead>\n",
       "  <tbody>\n",
       "    <tr>\n",
       "      <th>1</th>\n",
       "      <td>zidan</td>\n",
       "      <td>44.0</td>\n",
       "      <td>69</td>\n",
       "      <td>100000000</td>\n",
       "    </tr>\n",
       "    <tr>\n",
       "      <th>3</th>\n",
       "      <td>serena</td>\n",
       "      <td>34.0</td>\n",
       "      <td>78</td>\n",
       "      <td>7541254</td>\n",
       "    </tr>\n",
       "  </tbody>\n",
       "</table>\n",
       "</div>"
      ],
      "text/plain": [
       "     name   age  weight     salary\n",
       "1   zidan  44.0      69  100000000\n",
       "3  serena  34.0      78    7541254"
      ]
     },
     "execution_count": 4,
     "metadata": {},
     "output_type": "execute_result"
    }
   ],
   "source": [
    "df=df.dropna()\n",
    "df"
   ]
  },
  {
   "cell_type": "code",
   "execution_count": 39,
   "id": "3b7686d8",
   "metadata": {},
   "outputs": [
    {
     "data": {
      "text/plain": [
       "name      1\n",
       "age       2\n",
       "weight    0\n",
       "salary    1\n",
       "dtype: int64"
      ]
     },
     "execution_count": 39,
     "metadata": {},
     "output_type": "execute_result"
    }
   ],
   "source": [
    "#checking for missing values\n",
    "df.isnull().sum()"
   ]
  },
  {
   "cell_type": "code",
   "execution_count": 34,
   "id": "ea5b7601",
   "metadata": {},
   "outputs": [
    {
     "data": {
      "text/plain": [
       "name      3\n",
       "age       2\n",
       "weight    4\n",
       "salary    3\n",
       "dtype: int64"
      ]
     },
     "execution_count": 34,
     "metadata": {},
     "output_type": "execute_result"
    }
   ],
   "source": [
    "df.count()"
   ]
  }
 ],
 "metadata": {
  "kernelspec": {
   "display_name": "Python 3 (ipykernel)",
   "language": "python",
   "name": "python3"
  },
  "language_info": {
   "codemirror_mode": {
    "name": "ipython",
    "version": 3
   },
   "file_extension": ".py",
   "mimetype": "text/x-python",
   "name": "python",
   "nbconvert_exporter": "python",
   "pygments_lexer": "ipython3",
   "version": "3.9.7"
  }
 },
 "nbformat": 4,
 "nbformat_minor": 5
}
