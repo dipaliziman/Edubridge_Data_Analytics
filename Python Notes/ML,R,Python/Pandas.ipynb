{
 "cells": [
  {
   "cell_type": "markdown",
   "metadata": {},
   "source": [
    "# Pandas\n",
    "- Pandas is a python library used for working with data sets.\n",
    "- it has functions for analyzing ,cleaning ,exploring and manipulating data.\n",
    "- the name 'Pandas' has a reference to both \"Panel data\" and \"Python data analysis\".\n",
    "- it is suitable for different kinds of data such as:\n",
    "    1. tabular data with heterogeneously -typed columns.\n",
    "    2. ordered and unordered time series data\n",
    "    3. matrix data\n",
    "    4. unlabelled data\n",
    "    5. statistical data sets\n"
   ]
  },
  {
   "cell_type": "markdown",
   "metadata": {},
   "source": [
    "# Core components of Pandas\n",
    "- the primary two components of pandas are the series and data frame.\n",
    "- A series is essentially a column,and  a data frame is a multidimensional table made up of a collection of series."
   ]
  },
  {
   "cell_type": "markdown",
   "metadata": {},
   "source": [
    "# Why use pandas?\n",
    "- Pandas allow us to analyze big data and make conclusions based on statistical theories.\n",
    "- It can clean messy data sets and make them readable and relevant."
   ]
  },
  {
   "cell_type": "code",
   "execution_count": 1,
   "metadata": {},
   "outputs": [],
   "source": [
    "import pandas as pd\n",
    "import numpy as np\n",
    "import warnings \n",
    "warnings.filterwarnings('ignore')"
   ]
  },
  {
   "cell_type": "code",
   "execution_count": 2,
   "metadata": {},
   "outputs": [
    {
     "name": "stdout",
     "output_type": "stream",
     "text": [
      "1.1.3\n"
     ]
    }
   ],
   "source": [
    "#check pandas version\n",
    "print(pd.__version__)"
   ]
  },
  {
   "cell_type": "code",
   "execution_count": 3,
   "metadata": {},
   "outputs": [
    {
     "data": {
      "text/plain": [
       "0    1\n",
       "1    2\n",
       "2    3\n",
       "3    4\n",
       "4    5\n",
       "5    6\n",
       "6    7\n",
       "dtype: int32"
      ]
     },
     "execution_count": 3,
     "metadata": {},
     "output_type": "execute_result"
    }
   ],
   "source": [
    "# create series from numpy array\n",
    "a=np.array([1,2,3,4,5,6,7])\n",
    "v=pd.Series(a)\n",
    "v"
   ]
  },
  {
   "cell_type": "code",
   "execution_count": 4,
   "metadata": {},
   "outputs": [
    {
     "data": {
      "text/plain": [
       "dtype('int32')"
      ]
     },
     "execution_count": 4,
     "metadata": {},
     "output_type": "execute_result"
    }
   ],
   "source": [
    "#data type of series\n",
    "v.dtype"
   ]
  },
  {
   "cell_type": "code",
   "execution_count": 5,
   "metadata": {},
   "outputs": [
    {
     "data": {
      "text/plain": [
       "28"
      ]
     },
     "execution_count": 5,
     "metadata": {},
     "output_type": "execute_result"
    }
   ],
   "source": [
    "v.nbytes"
   ]
  },
  {
   "cell_type": "code",
   "execution_count": 6,
   "metadata": {},
   "outputs": [
    {
     "data": {
      "text/plain": [
       "(7,)"
      ]
     },
     "execution_count": 6,
     "metadata": {},
     "output_type": "execute_result"
    }
   ],
   "source": [
    "v.shape"
   ]
  },
  {
   "cell_type": "code",
   "execution_count": 7,
   "metadata": {},
   "outputs": [
    {
     "data": {
      "text/plain": [
       "1"
      ]
     },
     "execution_count": 7,
     "metadata": {},
     "output_type": "execute_result"
    }
   ],
   "source": [
    "v.ndim"
   ]
  },
  {
   "cell_type": "code",
   "execution_count": 8,
   "metadata": {},
   "outputs": [
    {
     "data": {
      "text/plain": [
       "7"
      ]
     },
     "execution_count": 8,
     "metadata": {},
     "output_type": "execute_result"
    }
   ],
   "source": [
    "len(v)"
   ]
  },
  {
   "cell_type": "code",
   "execution_count": 9,
   "metadata": {},
   "outputs": [
    {
     "data": {
      "text/plain": [
       "7"
      ]
     },
     "execution_count": 9,
     "metadata": {},
     "output_type": "execute_result"
    }
   ],
   "source": [
    "v.count()"
   ]
  },
  {
   "cell_type": "code",
   "execution_count": 10,
   "metadata": {},
   "outputs": [
    {
     "data": {
      "text/plain": [
       "7"
      ]
     },
     "execution_count": 10,
     "metadata": {},
     "output_type": "execute_result"
    }
   ],
   "source": [
    "v.size"
   ]
  },
  {
   "cell_type": "code",
   "execution_count": 11,
   "metadata": {},
   "outputs": [
    {
     "data": {
      "text/plain": [
       "a    1\n",
       "b    2\n",
       "c    3\n",
       "dtype: int64"
      ]
     },
     "execution_count": 11,
     "metadata": {},
     "output_type": "execute_result"
    }
   ],
   "source": [
    "#create series from list\n",
    "s=pd.Series([1,2,3],index=['a','b','c'])\n",
    "s"
   ]
  },
  {
   "cell_type": "code",
   "execution_count": 12,
   "metadata": {},
   "outputs": [
    {
     "data": {
      "text/plain": [
       "a    1\n",
       "b    2\n",
       "c    3\n",
       "d    4\n",
       "e    5\n",
       "f    6\n",
       "g    7\n",
       "dtype: int32"
      ]
     },
     "execution_count": 12,
     "metadata": {},
     "output_type": "execute_result"
    }
   ],
   "source": [
    "#modifying index \n",
    "v.index=['a','b','c','d','e','f','g']\n",
    "v"
   ]
  },
  {
   "cell_type": "code",
   "execution_count": 13,
   "metadata": {},
   "outputs": [
    {
     "data": {
      "text/plain": [
       "array([0.97219773, 0.67427298, 0.87805257, 0.48110805, 0.73285931,\n",
       "       0.13829388, 0.2091136 , 0.19602945, 0.22064395, 0.82233792,\n",
       "       0.19848871, 0.61048574])"
      ]
     },
     "execution_count": 13,
     "metadata": {},
     "output_type": "execute_result"
    }
   ],
   "source": [
    "#create series  using random and range function\n",
    "v1=np.random.random(12)\n",
    "v1"
   ]
  },
  {
   "cell_type": "code",
   "execution_count": 14,
   "metadata": {},
   "outputs": [
    {
     "data": {
      "text/plain": [
       "array([ 2,  3,  4,  5,  6,  7,  8,  9, 10, 11, 12, 13])"
      ]
     },
     "execution_count": 14,
     "metadata": {},
     "output_type": "execute_result"
    }
   ],
   "source": [
    "v2=np.arange(2,14)\n",
    "v2"
   ]
  },
  {
   "cell_type": "code",
   "execution_count": 15,
   "metadata": {},
   "outputs": [
    {
     "data": {
      "text/plain": [
       "2     0.972198\n",
       "3     0.674273\n",
       "4     0.878053\n",
       "5     0.481108\n",
       "6     0.732859\n",
       "7     0.138294\n",
       "8     0.209114\n",
       "9     0.196029\n",
       "10    0.220644\n",
       "11    0.822338\n",
       "12    0.198489\n",
       "13    0.610486\n",
       "dtype: float64"
      ]
     },
     "execution_count": 15,
     "metadata": {},
     "output_type": "execute_result"
    }
   ],
   "source": [
    "s1=pd.Series(v1,v2)\n",
    "s1"
   ]
  },
  {
   "cell_type": "code",
   "execution_count": 16,
   "metadata": {},
   "outputs": [
    {
     "data": {
      "text/plain": [
       "a    10\n",
       "b    20\n",
       "c    30\n",
       "d    40\n",
       "dtype: int64"
      ]
     },
     "execution_count": 16,
     "metadata": {},
     "output_type": "execute_result"
    }
   ],
   "source": [
    "#create series from dictionary\n",
    "d={'a':10,'b':20,'c':30,'d':40}\n",
    "s1=pd.Series(d)\n",
    "s1"
   ]
  },
  {
   "cell_type": "code",
   "execution_count": 17,
   "metadata": {},
   "outputs": [
    {
     "data": {
      "text/plain": [
       "10    34\n",
       "11    34\n",
       "12    34\n",
       "13    34\n",
       "dtype: int64"
      ]
     },
     "execution_count": 17,
     "metadata": {},
     "output_type": "execute_result"
    }
   ],
   "source": [
    "pd.Series(34,index=[10,11,12,13])"
   ]
  },
  {
   "cell_type": "markdown",
   "metadata": {},
   "source": [
    "# slicing of series"
   ]
  },
  {
   "cell_type": "code",
   "execution_count": null,
   "metadata": {},
   "outputs": [],
   "source": [
    "#return all elements of the series"
   ]
  },
  {
   "cell_type": "code",
   "execution_count": null,
   "metadata": {},
   "outputs": [],
   "source": [
    "#first three element of the series"
   ]
  },
  {
   "cell_type": "code",
   "execution_count": null,
   "metadata": {},
   "outputs": [],
   "source": [
    "#last element of the series"
   ]
  },
  {
   "cell_type": "code",
   "execution_count": null,
   "metadata": {},
   "outputs": [],
   "source": [
    "#return all elements of the series except last two elements"
   ]
  },
  {
   "cell_type": "code",
   "execution_count": null,
   "metadata": {},
   "outputs": [],
   "source": [
    "#return all elements of the series except last element"
   ]
  },
  {
   "cell_type": "code",
   "execution_count": null,
   "metadata": {},
   "outputs": [],
   "source": [
    "#return last two elements of the series"
   ]
  },
  {
   "cell_type": "markdown",
   "metadata": {},
   "source": [
    "# Append series"
   ]
  },
  {
   "cell_type": "code",
   "execution_count": 18,
   "metadata": {},
   "outputs": [
    {
     "data": {
      "text/plain": [
       "a    10\n",
       "b    20\n",
       "c    30\n",
       "d    40\n",
       "dtype: int64"
      ]
     },
     "execution_count": 18,
     "metadata": {},
     "output_type": "execute_result"
    }
   ],
   "source": [
    "s2=s1.copy()\n",
    "s2"
   ]
  },
  {
   "cell_type": "code",
   "execution_count": 19,
   "metadata": {},
   "outputs": [
    {
     "data": {
      "text/plain": [
       "e    50\n",
       "f    60\n",
       "g    70\n",
       "h    80\n",
       "dtype: int64"
      ]
     },
     "execution_count": 19,
     "metadata": {},
     "output_type": "execute_result"
    }
   ],
   "source": [
    "d={'e':50,'f':60,'g':70,'h':80}\n",
    "s3=pd.Series(d)\n",
    "s3"
   ]
  },
  {
   "cell_type": "code",
   "execution_count": 20,
   "metadata": {},
   "outputs": [
    {
     "data": {
      "text/plain": [
       "a    10\n",
       "b    20\n",
       "c    30\n",
       "d    40\n",
       "e    50\n",
       "f    60\n",
       "g    70\n",
       "h    80\n",
       "dtype: int64"
      ]
     },
     "execution_count": 20,
     "metadata": {},
     "output_type": "execute_result"
    }
   ],
   "source": [
    "s4=s2.append(s3)\n",
    "s4"
   ]
  },
  {
   "cell_type": "markdown",
   "metadata": {},
   "source": [
    "# operation on series"
   ]
  },
  {
   "cell_type": "code",
   "execution_count": 21,
   "metadata": {},
   "outputs": [
    {
     "data": {
      "text/plain": [
       "a    10\n",
       "b    20\n",
       "c    30\n",
       "d    40\n",
       "dtype: int64"
      ]
     },
     "execution_count": 21,
     "metadata": {},
     "output_type": "execute_result"
    }
   ],
   "source": [
    "s1"
   ]
  },
  {
   "cell_type": "code",
   "execution_count": 22,
   "metadata": {},
   "outputs": [
    {
     "data": {
      "text/plain": [
       "a    10\n",
       "b    20\n",
       "c    30\n",
       "d    40\n",
       "dtype: int64"
      ]
     },
     "execution_count": 22,
     "metadata": {},
     "output_type": "execute_result"
    }
   ],
   "source": [
    "s2"
   ]
  },
  {
   "cell_type": "code",
   "execution_count": 23,
   "metadata": {},
   "outputs": [
    {
     "data": {
      "text/plain": [
       "a    20\n",
       "b    40\n",
       "c    60\n",
       "d    80\n",
       "dtype: int64"
      ]
     },
     "execution_count": 23,
     "metadata": {},
     "output_type": "execute_result"
    }
   ],
   "source": [
    "s1.add(s2)"
   ]
  },
  {
   "cell_type": "code",
   "execution_count": 24,
   "metadata": {},
   "outputs": [
    {
     "data": {
      "text/plain": [
       "(0    10\n",
       " 1    20\n",
       " 2    30\n",
       " 3    40\n",
       " dtype: int32,\n",
       " 0    1\n",
       " 1    2\n",
       " 2    3\n",
       " 3    4\n",
       " dtype: int32)"
      ]
     },
     "execution_count": 24,
     "metadata": {},
     "output_type": "execute_result"
    }
   ],
   "source": [
    "x=np.array([10,20,30,40])\n",
    "y=np.array([1,2,3,4])\n",
    "s1=pd.Series(x)\n",
    "s2=pd.Series(y)\n",
    "s1,s2"
   ]
  },
  {
   "cell_type": "code",
   "execution_count": 25,
   "metadata": {},
   "outputs": [
    {
     "data": {
      "text/plain": [
       "0    11\n",
       "1    22\n",
       "2    33\n",
       "3    44\n",
       "dtype: int32"
      ]
     },
     "execution_count": 25,
     "metadata": {},
     "output_type": "execute_result"
    }
   ],
   "source": [
    "#addition of two series\n",
    "s1.add(s2)"
   ]
  },
  {
   "cell_type": "code",
   "execution_count": 26,
   "metadata": {},
   "outputs": [
    {
     "data": {
      "text/plain": [
       "0     9\n",
       "1    18\n",
       "2    27\n",
       "3    36\n",
       "dtype: int32"
      ]
     },
     "execution_count": 26,
     "metadata": {},
     "output_type": "execute_result"
    }
   ],
   "source": [
    "#subtraction of two series\n",
    "s1.sub(s2)"
   ]
  },
  {
   "cell_type": "code",
   "execution_count": 27,
   "metadata": {},
   "outputs": [
    {
     "data": {
      "text/plain": [
       "0     9\n",
       "1    18\n",
       "2    27\n",
       "3    36\n",
       "dtype: int32"
      ]
     },
     "execution_count": 27,
     "metadata": {},
     "output_type": "execute_result"
    }
   ],
   "source": [
    "#subtraction of two series\n",
    "s1.subtract(s2)"
   ]
  },
  {
   "cell_type": "code",
   "execution_count": 28,
   "metadata": {},
   "outputs": [
    {
     "data": {
      "text/plain": [
       "0     10\n",
       "1     40\n",
       "2     90\n",
       "3    160\n",
       "dtype: int32"
      ]
     },
     "execution_count": 28,
     "metadata": {},
     "output_type": "execute_result"
    }
   ],
   "source": [
    "#multiplication of two series\n",
    "s1.mul(s2)"
   ]
  },
  {
   "cell_type": "code",
   "execution_count": 29,
   "metadata": {},
   "outputs": [
    {
     "data": {
      "text/plain": [
       "0     10\n",
       "1     40\n",
       "2     90\n",
       "3    160\n",
       "dtype: int32"
      ]
     },
     "execution_count": 29,
     "metadata": {},
     "output_type": "execute_result"
    }
   ],
   "source": [
    "#multiplication of two series\n",
    "s1.multiply(s2)"
   ]
  },
  {
   "cell_type": "code",
   "execution_count": 30,
   "metadata": {},
   "outputs": [
    {
     "data": {
      "text/plain": [
       "0    10.0\n",
       "1    10.0\n",
       "2    10.0\n",
       "3    10.0\n",
       "dtype: float64"
      ]
     },
     "execution_count": 30,
     "metadata": {},
     "output_type": "execute_result"
    }
   ],
   "source": [
    "#division of two series\n",
    "s1.divide(s2)"
   ]
  },
  {
   "cell_type": "code",
   "execution_count": 31,
   "metadata": {},
   "outputs": [
    {
     "data": {
      "text/plain": [
       "0    10.0\n",
       "1    10.0\n",
       "2    10.0\n",
       "3    10.0\n",
       "dtype: float64"
      ]
     },
     "execution_count": 31,
     "metadata": {},
     "output_type": "execute_result"
    }
   ],
   "source": [
    "#division of two series\n",
    "s1.div(s2)"
   ]
  },
  {
   "cell_type": "code",
   "execution_count": 32,
   "metadata": {},
   "outputs": [
    {
     "data": {
      "text/plain": [
       "40"
      ]
     },
     "execution_count": 32,
     "metadata": {},
     "output_type": "execute_result"
    }
   ],
   "source": [
    "#maximum number in a series\n",
    "s1.max()"
   ]
  },
  {
   "cell_type": "code",
   "execution_count": 33,
   "metadata": {},
   "outputs": [
    {
     "data": {
      "text/plain": [
       "10"
      ]
     },
     "execution_count": 33,
     "metadata": {},
     "output_type": "execute_result"
    }
   ],
   "source": [
    "#minimum number in a series\n",
    "s1.min()"
   ]
  },
  {
   "cell_type": "code",
   "execution_count": 34,
   "metadata": {},
   "outputs": [
    {
     "data": {
      "text/plain": [
       "25.0"
      ]
     },
     "execution_count": 34,
     "metadata": {},
     "output_type": "execute_result"
    }
   ],
   "source": [
    "#average \n",
    "s1.mean()"
   ]
  },
  {
   "cell_type": "code",
   "execution_count": 35,
   "metadata": {},
   "outputs": [
    {
     "data": {
      "text/plain": [
       "25.0"
      ]
     },
     "execution_count": 35,
     "metadata": {},
     "output_type": "execute_result"
    }
   ],
   "source": [
    "#median\n",
    "s1.median()"
   ]
  },
  {
   "cell_type": "code",
   "execution_count": 36,
   "metadata": {},
   "outputs": [
    {
     "data": {
      "text/plain": [
       "12.909944487358056"
      ]
     },
     "execution_count": 36,
     "metadata": {},
     "output_type": "execute_result"
    }
   ],
   "source": [
    "#standard deviation\n",
    "s1.std()"
   ]
  },
  {
   "cell_type": "code",
   "execution_count": 37,
   "metadata": {},
   "outputs": [
    {
     "data": {
      "text/plain": [
       "0    18\n",
       "1    28\n",
       "2    38\n",
       "3    48\n",
       "dtype: int32"
      ]
     },
     "execution_count": 37,
     "metadata": {},
     "output_type": "execute_result"
    }
   ],
   "source": [
    "#increment all numbers in a series by 8\n",
    "s1.add(8)"
   ]
  },
  {
   "cell_type": "markdown",
   "metadata": {},
   "source": [
    "# series comparison"
   ]
  },
  {
   "cell_type": "code",
   "execution_count": 38,
   "metadata": {},
   "outputs": [
    {
     "data": {
      "text/plain": [
       "0    10\n",
       "1    20\n",
       "2    30\n",
       "3    40\n",
       "dtype: int32"
      ]
     },
     "execution_count": 38,
     "metadata": {},
     "output_type": "execute_result"
    }
   ],
   "source": [
    "s1"
   ]
  },
  {
   "cell_type": "code",
   "execution_count": 39,
   "metadata": {},
   "outputs": [
    {
     "data": {
      "text/plain": [
       "0    1\n",
       "1    2\n",
       "2    3\n",
       "3    4\n",
       "dtype: int32"
      ]
     },
     "execution_count": 39,
     "metadata": {},
     "output_type": "execute_result"
    }
   ],
   "source": [
    "s2"
   ]
  },
  {
   "cell_type": "code",
   "execution_count": 40,
   "metadata": {},
   "outputs": [
    {
     "data": {
      "text/plain": [
       "False"
      ]
     },
     "execution_count": 40,
     "metadata": {},
     "output_type": "execute_result"
    }
   ],
   "source": [
    "s1.equals(s2)"
   ]
  },
  {
   "cell_type": "code",
   "execution_count": 41,
   "metadata": {},
   "outputs": [
    {
     "data": {
      "text/plain": [
       "0    1\n",
       "1    2\n",
       "2    1\n",
       "3    3\n",
       "4    3\n",
       "5    4\n",
       "6    2\n",
       "7    5\n",
       "dtype: int64"
      ]
     },
     "execution_count": 41,
     "metadata": {},
     "output_type": "execute_result"
    }
   ],
   "source": [
    "s5=pd.Series([1,2,1,3,3,4,2,5])\n",
    "s5"
   ]
  },
  {
   "cell_type": "code",
   "execution_count": 42,
   "metadata": {},
   "outputs": [
    {
     "data": {
      "text/plain": [
       "3    2\n",
       "2    2\n",
       "1    2\n",
       "5    1\n",
       "4    1\n",
       "dtype: int64"
      ]
     },
     "execution_count": 42,
     "metadata": {},
     "output_type": "execute_result"
    }
   ],
   "source": [
    "s5.value_counts()"
   ]
  },
  {
   "cell_type": "markdown",
   "metadata": {},
   "source": [
    "# Dataframe"
   ]
  },
  {
   "cell_type": "code",
   "execution_count": 43,
   "metadata": {},
   "outputs": [
    {
     "data": {
      "text/html": [
       "<div>\n",
       "<style scoped>\n",
       "    .dataframe tbody tr th:only-of-type {\n",
       "        vertical-align: middle;\n",
       "    }\n",
       "\n",
       "    .dataframe tbody tr th {\n",
       "        vertical-align: top;\n",
       "    }\n",
       "\n",
       "    .dataframe thead th {\n",
       "        text-align: right;\n",
       "    }\n",
       "</style>\n",
       "<table border=\"1\" class=\"dataframe\">\n",
       "  <thead>\n",
       "    <tr style=\"text-align: right;\">\n",
       "      <th></th>\n",
       "      <th>0</th>\n",
       "    </tr>\n",
       "  </thead>\n",
       "  <tbody>\n",
       "    <tr>\n",
       "      <th>0</th>\n",
       "      <td>divya</td>\n",
       "    </tr>\n",
       "    <tr>\n",
       "      <th>1</th>\n",
       "      <td>karan</td>\n",
       "    </tr>\n",
       "    <tr>\n",
       "      <th>2</th>\n",
       "      <td>jyoti</td>\n",
       "    </tr>\n",
       "    <tr>\n",
       "      <th>3</th>\n",
       "      <td>shika</td>\n",
       "    </tr>\n",
       "  </tbody>\n",
       "</table>\n",
       "</div>"
      ],
      "text/plain": [
       "       0\n",
       "0  divya\n",
       "1  karan\n",
       "2  jyoti\n",
       "3  shika"
      ]
     },
     "execution_count": 43,
     "metadata": {},
     "output_type": "execute_result"
    }
   ],
   "source": [
    "#create dataframe from list\n",
    "l=['divya','karan','jyoti','shika']\n",
    "d=pd.DataFrame(l)\n",
    "d"
   ]
  },
  {
   "cell_type": "code",
   "execution_count": 44,
   "metadata": {},
   "outputs": [
    {
     "data": {
      "text/html": [
       "<div>\n",
       "<style scoped>\n",
       "    .dataframe tbody tr th:only-of-type {\n",
       "        vertical-align: middle;\n",
       "    }\n",
       "\n",
       "    .dataframe tbody tr th {\n",
       "        vertical-align: top;\n",
       "    }\n",
       "\n",
       "    .dataframe thead th {\n",
       "        text-align: right;\n",
       "    }\n",
       "</style>\n",
       "<table border=\"1\" class=\"dataframe\">\n",
       "  <thead>\n",
       "    <tr style=\"text-align: right;\">\n",
       "      <th></th>\n",
       "      <th>0</th>\n",
       "      <th>1</th>\n",
       "    </tr>\n",
       "  </thead>\n",
       "  <tbody>\n",
       "    <tr>\n",
       "      <th>0</th>\n",
       "      <td>divya</td>\n",
       "      <td>67</td>\n",
       "    </tr>\n",
       "    <tr>\n",
       "      <th>1</th>\n",
       "      <td>karan</td>\n",
       "      <td>54</td>\n",
       "    </tr>\n",
       "    <tr>\n",
       "      <th>2</th>\n",
       "      <td>jyoti</td>\n",
       "      <td>89</td>\n",
       "    </tr>\n",
       "    <tr>\n",
       "      <th>3</th>\n",
       "      <td>shika</td>\n",
       "      <td>66</td>\n",
       "    </tr>\n",
       "  </tbody>\n",
       "</table>\n",
       "</div>"
      ],
      "text/plain": [
       "       0   1\n",
       "0  divya  67\n",
       "1  karan  54\n",
       "2  jyoti  89\n",
       "3  shika  66"
      ]
     },
     "execution_count": 44,
     "metadata": {},
     "output_type": "execute_result"
    }
   ],
   "source": [
    "#add column in the data frame\n",
    "marks=[67,54,89,66]\n",
    "d[1]=marks\n",
    "d"
   ]
  },
  {
   "cell_type": "code",
   "execution_count": 45,
   "metadata": {},
   "outputs": [
    {
     "data": {
      "text/html": [
       "<div>\n",
       "<style scoped>\n",
       "    .dataframe tbody tr th:only-of-type {\n",
       "        vertical-align: middle;\n",
       "    }\n",
       "\n",
       "    .dataframe tbody tr th {\n",
       "        vertical-align: top;\n",
       "    }\n",
       "\n",
       "    .dataframe thead th {\n",
       "        text-align: right;\n",
       "    }\n",
       "</style>\n",
       "<table border=\"1\" class=\"dataframe\">\n",
       "  <thead>\n",
       "    <tr style=\"text-align: right;\">\n",
       "      <th></th>\n",
       "      <th>Name</th>\n",
       "      <th>Marks</th>\n",
       "    </tr>\n",
       "  </thead>\n",
       "  <tbody>\n",
       "    <tr>\n",
       "      <th>0</th>\n",
       "      <td>divya</td>\n",
       "      <td>67</td>\n",
       "    </tr>\n",
       "    <tr>\n",
       "      <th>1</th>\n",
       "      <td>karan</td>\n",
       "      <td>54</td>\n",
       "    </tr>\n",
       "    <tr>\n",
       "      <th>2</th>\n",
       "      <td>jyoti</td>\n",
       "      <td>89</td>\n",
       "    </tr>\n",
       "    <tr>\n",
       "      <th>3</th>\n",
       "      <td>shika</td>\n",
       "      <td>66</td>\n",
       "    </tr>\n",
       "  </tbody>\n",
       "</table>\n",
       "</div>"
      ],
      "text/plain": [
       "    Name  Marks\n",
       "0  divya     67\n",
       "1  karan     54\n",
       "2  jyoti     89\n",
       "3  shika     66"
      ]
     },
     "execution_count": 45,
     "metadata": {},
     "output_type": "execute_result"
    }
   ],
   "source": [
    "#give name to columns\n",
    "d.columns=['Name','Marks']\n",
    "d"
   ]
  },
  {
   "cell_type": "code",
   "execution_count": 46,
   "metadata": {},
   "outputs": [
    {
     "data": {
      "text/html": [
       "<div>\n",
       "<style scoped>\n",
       "    .dataframe tbody tr th:only-of-type {\n",
       "        vertical-align: middle;\n",
       "    }\n",
       "\n",
       "    .dataframe tbody tr th {\n",
       "        vertical-align: top;\n",
       "    }\n",
       "\n",
       "    .dataframe thead th {\n",
       "        text-align: right;\n",
       "    }\n",
       "</style>\n",
       "<table border=\"1\" class=\"dataframe\">\n",
       "  <thead>\n",
       "    <tr style=\"text-align: right;\">\n",
       "      <th></th>\n",
       "      <th>ID</th>\n",
       "      <th>name</th>\n",
       "    </tr>\n",
       "  </thead>\n",
       "  <tbody>\n",
       "    <tr>\n",
       "      <th>0</th>\n",
       "      <td>11</td>\n",
       "      <td>divya</td>\n",
       "    </tr>\n",
       "    <tr>\n",
       "      <th>1</th>\n",
       "      <td>22</td>\n",
       "      <td>karan</td>\n",
       "    </tr>\n",
       "    <tr>\n",
       "      <th>2</th>\n",
       "      <td>33</td>\n",
       "      <td>jyoti</td>\n",
       "    </tr>\n",
       "    <tr>\n",
       "      <th>3</th>\n",
       "      <td>44</td>\n",
       "      <td>kirti</td>\n",
       "    </tr>\n",
       "  </tbody>\n",
       "</table>\n",
       "</div>"
      ],
      "text/plain": [
       "   ID   name\n",
       "0  11  divya\n",
       "1  22  karan\n",
       "2  33  jyoti\n",
       "3  44  kirti"
      ]
     },
     "execution_count": 46,
     "metadata": {},
     "output_type": "execute_result"
    }
   ],
   "source": [
    "#create dataframe from dictionary\n",
    "d1=pd.DataFrame({'ID':[11,22,33,44],\"name\":['divya','karan','jyoti','kirti']})\n",
    "d1"
   ]
  },
  {
   "cell_type": "code",
   "execution_count": 47,
   "metadata": {},
   "outputs": [
    {
     "data": {
      "text/plain": [
       "array([[0.45988322, 0.33880436, 0.21839816, 0.27379553, 0.19423174,\n",
       "        0.08823682, 0.20463014],\n",
       "       [0.5162185 , 0.23433227, 0.12298772, 0.14399961, 0.66093471,\n",
       "        0.12833016, 0.76744055],\n",
       "       [0.31979199, 0.97139153, 0.67397589, 0.46002148, 0.03466571,\n",
       "        0.5072107 , 0.88987344],\n",
       "       [0.3909003 , 0.09282576, 0.01762441, 0.70437053, 0.6426382 ,\n",
       "        0.17664079, 0.6864692 ],\n",
       "       [0.88194161, 0.43135545, 0.69599632, 0.79429584, 0.83884636,\n",
       "        0.07458711, 0.85735181],\n",
       "       [0.37244041, 0.91959549, 0.25654392, 0.70225251, 0.99844141,\n",
       "        0.17535955, 0.76905341],\n",
       "       [0.37590871, 0.9243656 , 0.32479285, 0.06004323, 0.51219797,\n",
       "        0.46546599, 0.81625822]])"
      ]
     },
     "execution_count": 47,
     "metadata": {},
     "output_type": "execute_result"
    }
   ],
   "source": [
    "#creating dataframe from random values\n",
    "r=np.random.random((7,7))\n",
    "r"
   ]
  },
  {
   "cell_type": "code",
   "execution_count": 48,
   "metadata": {},
   "outputs": [
    {
     "data": {
      "text/html": [
       "<div>\n",
       "<style scoped>\n",
       "    .dataframe tbody tr th:only-of-type {\n",
       "        vertical-align: middle;\n",
       "    }\n",
       "\n",
       "    .dataframe tbody tr th {\n",
       "        vertical-align: top;\n",
       "    }\n",
       "\n",
       "    .dataframe thead th {\n",
       "        text-align: right;\n",
       "    }\n",
       "</style>\n",
       "<table border=\"1\" class=\"dataframe\">\n",
       "  <thead>\n",
       "    <tr style=\"text-align: right;\">\n",
       "      <th></th>\n",
       "      <th>0</th>\n",
       "      <th>1</th>\n",
       "      <th>2</th>\n",
       "      <th>3</th>\n",
       "      <th>4</th>\n",
       "      <th>5</th>\n",
       "      <th>6</th>\n",
       "    </tr>\n",
       "  </thead>\n",
       "  <tbody>\n",
       "    <tr>\n",
       "      <th>0</th>\n",
       "      <td>0.459883</td>\n",
       "      <td>0.338804</td>\n",
       "      <td>0.218398</td>\n",
       "      <td>0.273796</td>\n",
       "      <td>0.194232</td>\n",
       "      <td>0.088237</td>\n",
       "      <td>0.204630</td>\n",
       "    </tr>\n",
       "    <tr>\n",
       "      <th>1</th>\n",
       "      <td>0.516219</td>\n",
       "      <td>0.234332</td>\n",
       "      <td>0.122988</td>\n",
       "      <td>0.144000</td>\n",
       "      <td>0.660935</td>\n",
       "      <td>0.128330</td>\n",
       "      <td>0.767441</td>\n",
       "    </tr>\n",
       "    <tr>\n",
       "      <th>2</th>\n",
       "      <td>0.319792</td>\n",
       "      <td>0.971392</td>\n",
       "      <td>0.673976</td>\n",
       "      <td>0.460021</td>\n",
       "      <td>0.034666</td>\n",
       "      <td>0.507211</td>\n",
       "      <td>0.889873</td>\n",
       "    </tr>\n",
       "    <tr>\n",
       "      <th>3</th>\n",
       "      <td>0.390900</td>\n",
       "      <td>0.092826</td>\n",
       "      <td>0.017624</td>\n",
       "      <td>0.704371</td>\n",
       "      <td>0.642638</td>\n",
       "      <td>0.176641</td>\n",
       "      <td>0.686469</td>\n",
       "    </tr>\n",
       "    <tr>\n",
       "      <th>4</th>\n",
       "      <td>0.881942</td>\n",
       "      <td>0.431355</td>\n",
       "      <td>0.695996</td>\n",
       "      <td>0.794296</td>\n",
       "      <td>0.838846</td>\n",
       "      <td>0.074587</td>\n",
       "      <td>0.857352</td>\n",
       "    </tr>\n",
       "    <tr>\n",
       "      <th>5</th>\n",
       "      <td>0.372440</td>\n",
       "      <td>0.919595</td>\n",
       "      <td>0.256544</td>\n",
       "      <td>0.702253</td>\n",
       "      <td>0.998441</td>\n",
       "      <td>0.175360</td>\n",
       "      <td>0.769053</td>\n",
       "    </tr>\n",
       "    <tr>\n",
       "      <th>6</th>\n",
       "      <td>0.375909</td>\n",
       "      <td>0.924366</td>\n",
       "      <td>0.324793</td>\n",
       "      <td>0.060043</td>\n",
       "      <td>0.512198</td>\n",
       "      <td>0.465466</td>\n",
       "      <td>0.816258</td>\n",
       "    </tr>\n",
       "  </tbody>\n",
       "</table>\n",
       "</div>"
      ],
      "text/plain": [
       "          0         1         2         3         4         5         6\n",
       "0  0.459883  0.338804  0.218398  0.273796  0.194232  0.088237  0.204630\n",
       "1  0.516219  0.234332  0.122988  0.144000  0.660935  0.128330  0.767441\n",
       "2  0.319792  0.971392  0.673976  0.460021  0.034666  0.507211  0.889873\n",
       "3  0.390900  0.092826  0.017624  0.704371  0.642638  0.176641  0.686469\n",
       "4  0.881942  0.431355  0.695996  0.794296  0.838846  0.074587  0.857352\n",
       "5  0.372440  0.919595  0.256544  0.702253  0.998441  0.175360  0.769053\n",
       "6  0.375909  0.924366  0.324793  0.060043  0.512198  0.465466  0.816258"
      ]
     },
     "execution_count": 48,
     "metadata": {},
     "output_type": "execute_result"
    }
   ],
   "source": [
    "d2=pd.DataFrame(r)\n",
    "d2"
   ]
  },
  {
   "cell_type": "code",
   "execution_count": 49,
   "metadata": {},
   "outputs": [
    {
     "data": {
      "text/plain": [
       "DatetimeIndex(['2021-05-18 14:02:10.086723', '2021-05-19 14:02:10.086723',\n",
       "               '2021-05-20 14:02:10.086723', '2021-05-21 14:02:10.086723',\n",
       "               '2021-05-22 14:02:10.086723', '2021-05-23 14:02:10.086723',\n",
       "               '2021-05-24 14:02:10.086723'],\n",
       "              dtype='datetime64[ns]', freq='D')"
      ]
     },
     "execution_count": 49,
     "metadata": {},
     "output_type": "execute_result"
    }
   ],
   "source": [
    "date1=pd.date_range('today',periods=7)\n",
    "date1"
   ]
  },
  {
   "cell_type": "code",
   "execution_count": 50,
   "metadata": {},
   "outputs": [
    {
     "data": {
      "text/plain": [
       "DatetimeIndex(['2021-01-20', '2021-01-21', '2021-01-22', '2021-01-23',\n",
       "               '2021-01-24', '2021-01-25', '2021-01-26', '2021-01-27',\n",
       "               '2021-01-28', '2021-01-29', '2021-01-30', '2021-01-31',\n",
       "               '2021-02-01', '2021-02-02', '2021-02-03', '2021-02-04',\n",
       "               '2021-02-05'],\n",
       "              dtype='datetime64[ns]', freq='D')"
      ]
     },
     "execution_count": 50,
     "metadata": {},
     "output_type": "execute_result"
    }
   ],
   "source": [
    "date2=pd.date_range(start='2021-01-20',end='2021-02-05')\n",
    "date2"
   ]
  },
  {
   "cell_type": "code",
   "execution_count": 51,
   "metadata": {},
   "outputs": [
    {
     "data": {
      "text/plain": [
       "DatetimeIndex(['2021-01-25', '2021-01-26', '2021-01-27', '2021-01-28',\n",
       "               '2021-01-29', '2021-01-30', '2021-01-31'],\n",
       "              dtype='datetime64[ns]', freq='D')"
      ]
     },
     "execution_count": 51,
     "metadata": {},
     "output_type": "execute_result"
    }
   ],
   "source": [
    "date3=pd.date_range(start='2021-01-25',periods=7)\n",
    "date3"
   ]
  },
  {
   "cell_type": "code",
   "execution_count": 52,
   "metadata": {},
   "outputs": [
    {
     "data": {
      "text/html": [
       "<div>\n",
       "<style scoped>\n",
       "    .dataframe tbody tr th:only-of-type {\n",
       "        vertical-align: middle;\n",
       "    }\n",
       "\n",
       "    .dataframe tbody tr th {\n",
       "        vertical-align: top;\n",
       "    }\n",
       "\n",
       "    .dataframe thead th {\n",
       "        text-align: right;\n",
       "    }\n",
       "</style>\n",
       "<table border=\"1\" class=\"dataframe\">\n",
       "  <thead>\n",
       "    <tr style=\"text-align: right;\">\n",
       "      <th></th>\n",
       "      <th>0</th>\n",
       "      <th>1</th>\n",
       "      <th>2</th>\n",
       "      <th>3</th>\n",
       "      <th>4</th>\n",
       "      <th>5</th>\n",
       "      <th>6</th>\n",
       "    </tr>\n",
       "  </thead>\n",
       "  <tbody>\n",
       "    <tr>\n",
       "      <th>0</th>\n",
       "      <td>0.459883</td>\n",
       "      <td>0.338804</td>\n",
       "      <td>0.218398</td>\n",
       "      <td>0.273796</td>\n",
       "      <td>0.194232</td>\n",
       "      <td>0.088237</td>\n",
       "      <td>0.204630</td>\n",
       "    </tr>\n",
       "    <tr>\n",
       "      <th>1</th>\n",
       "      <td>0.516219</td>\n",
       "      <td>0.234332</td>\n",
       "      <td>0.122988</td>\n",
       "      <td>0.144000</td>\n",
       "      <td>0.660935</td>\n",
       "      <td>0.128330</td>\n",
       "      <td>0.767441</td>\n",
       "    </tr>\n",
       "    <tr>\n",
       "      <th>2</th>\n",
       "      <td>0.319792</td>\n",
       "      <td>0.971392</td>\n",
       "      <td>0.673976</td>\n",
       "      <td>0.460021</td>\n",
       "      <td>0.034666</td>\n",
       "      <td>0.507211</td>\n",
       "      <td>0.889873</td>\n",
       "    </tr>\n",
       "    <tr>\n",
       "      <th>3</th>\n",
       "      <td>0.390900</td>\n",
       "      <td>0.092826</td>\n",
       "      <td>0.017624</td>\n",
       "      <td>0.704371</td>\n",
       "      <td>0.642638</td>\n",
       "      <td>0.176641</td>\n",
       "      <td>0.686469</td>\n",
       "    </tr>\n",
       "    <tr>\n",
       "      <th>4</th>\n",
       "      <td>0.881942</td>\n",
       "      <td>0.431355</td>\n",
       "      <td>0.695996</td>\n",
       "      <td>0.794296</td>\n",
       "      <td>0.838846</td>\n",
       "      <td>0.074587</td>\n",
       "      <td>0.857352</td>\n",
       "    </tr>\n",
       "    <tr>\n",
       "      <th>5</th>\n",
       "      <td>0.372440</td>\n",
       "      <td>0.919595</td>\n",
       "      <td>0.256544</td>\n",
       "      <td>0.702253</td>\n",
       "      <td>0.998441</td>\n",
       "      <td>0.175360</td>\n",
       "      <td>0.769053</td>\n",
       "    </tr>\n",
       "    <tr>\n",
       "      <th>6</th>\n",
       "      <td>0.375909</td>\n",
       "      <td>0.924366</td>\n",
       "      <td>0.324793</td>\n",
       "      <td>0.060043</td>\n",
       "      <td>0.512198</td>\n",
       "      <td>0.465466</td>\n",
       "      <td>0.816258</td>\n",
       "    </tr>\n",
       "  </tbody>\n",
       "</table>\n",
       "</div>"
      ],
      "text/plain": [
       "          0         1         2         3         4         5         6\n",
       "0  0.459883  0.338804  0.218398  0.273796  0.194232  0.088237  0.204630\n",
       "1  0.516219  0.234332  0.122988  0.144000  0.660935  0.128330  0.767441\n",
       "2  0.319792  0.971392  0.673976  0.460021  0.034666  0.507211  0.889873\n",
       "3  0.390900  0.092826  0.017624  0.704371  0.642638  0.176641  0.686469\n",
       "4  0.881942  0.431355  0.695996  0.794296  0.838846  0.074587  0.857352\n",
       "5  0.372440  0.919595  0.256544  0.702253  0.998441  0.175360  0.769053\n",
       "6  0.375909  0.924366  0.324793  0.060043  0.512198  0.465466  0.816258"
      ]
     },
     "execution_count": 52,
     "metadata": {},
     "output_type": "execute_result"
    }
   ],
   "source": [
    "d2"
   ]
  },
  {
   "cell_type": "code",
   "execution_count": 53,
   "metadata": {},
   "outputs": [
    {
     "data": {
      "text/html": [
       "<div>\n",
       "<style scoped>\n",
       "    .dataframe tbody tr th:only-of-type {\n",
       "        vertical-align: middle;\n",
       "    }\n",
       "\n",
       "    .dataframe tbody tr th {\n",
       "        vertical-align: top;\n",
       "    }\n",
       "\n",
       "    .dataframe thead th {\n",
       "        text-align: right;\n",
       "    }\n",
       "</style>\n",
       "<table border=\"1\" class=\"dataframe\">\n",
       "  <thead>\n",
       "    <tr style=\"text-align: right;\">\n",
       "      <th></th>\n",
       "      <th>0</th>\n",
       "      <th>1</th>\n",
       "      <th>2</th>\n",
       "      <th>3</th>\n",
       "      <th>4</th>\n",
       "      <th>5</th>\n",
       "      <th>6</th>\n",
       "    </tr>\n",
       "  </thead>\n",
       "  <tbody>\n",
       "    <tr>\n",
       "      <th>2021-01-25</th>\n",
       "      <td>0.459883</td>\n",
       "      <td>0.338804</td>\n",
       "      <td>0.218398</td>\n",
       "      <td>0.273796</td>\n",
       "      <td>0.194232</td>\n",
       "      <td>0.088237</td>\n",
       "      <td>0.204630</td>\n",
       "    </tr>\n",
       "    <tr>\n",
       "      <th>2021-01-26</th>\n",
       "      <td>0.516219</td>\n",
       "      <td>0.234332</td>\n",
       "      <td>0.122988</td>\n",
       "      <td>0.144000</td>\n",
       "      <td>0.660935</td>\n",
       "      <td>0.128330</td>\n",
       "      <td>0.767441</td>\n",
       "    </tr>\n",
       "    <tr>\n",
       "      <th>2021-01-27</th>\n",
       "      <td>0.319792</td>\n",
       "      <td>0.971392</td>\n",
       "      <td>0.673976</td>\n",
       "      <td>0.460021</td>\n",
       "      <td>0.034666</td>\n",
       "      <td>0.507211</td>\n",
       "      <td>0.889873</td>\n",
       "    </tr>\n",
       "    <tr>\n",
       "      <th>2021-01-28</th>\n",
       "      <td>0.390900</td>\n",
       "      <td>0.092826</td>\n",
       "      <td>0.017624</td>\n",
       "      <td>0.704371</td>\n",
       "      <td>0.642638</td>\n",
       "      <td>0.176641</td>\n",
       "      <td>0.686469</td>\n",
       "    </tr>\n",
       "    <tr>\n",
       "      <th>2021-01-29</th>\n",
       "      <td>0.881942</td>\n",
       "      <td>0.431355</td>\n",
       "      <td>0.695996</td>\n",
       "      <td>0.794296</td>\n",
       "      <td>0.838846</td>\n",
       "      <td>0.074587</td>\n",
       "      <td>0.857352</td>\n",
       "    </tr>\n",
       "    <tr>\n",
       "      <th>2021-01-30</th>\n",
       "      <td>0.372440</td>\n",
       "      <td>0.919595</td>\n",
       "      <td>0.256544</td>\n",
       "      <td>0.702253</td>\n",
       "      <td>0.998441</td>\n",
       "      <td>0.175360</td>\n",
       "      <td>0.769053</td>\n",
       "    </tr>\n",
       "    <tr>\n",
       "      <th>2021-01-31</th>\n",
       "      <td>0.375909</td>\n",
       "      <td>0.924366</td>\n",
       "      <td>0.324793</td>\n",
       "      <td>0.060043</td>\n",
       "      <td>0.512198</td>\n",
       "      <td>0.465466</td>\n",
       "      <td>0.816258</td>\n",
       "    </tr>\n",
       "  </tbody>\n",
       "</table>\n",
       "</div>"
      ],
      "text/plain": [
       "                   0         1         2         3         4         5  \\\n",
       "2021-01-25  0.459883  0.338804  0.218398  0.273796  0.194232  0.088237   \n",
       "2021-01-26  0.516219  0.234332  0.122988  0.144000  0.660935  0.128330   \n",
       "2021-01-27  0.319792  0.971392  0.673976  0.460021  0.034666  0.507211   \n",
       "2021-01-28  0.390900  0.092826  0.017624  0.704371  0.642638  0.176641   \n",
       "2021-01-29  0.881942  0.431355  0.695996  0.794296  0.838846  0.074587   \n",
       "2021-01-30  0.372440  0.919595  0.256544  0.702253  0.998441  0.175360   \n",
       "2021-01-31  0.375909  0.924366  0.324793  0.060043  0.512198  0.465466   \n",
       "\n",
       "                   6  \n",
       "2021-01-25  0.204630  \n",
       "2021-01-26  0.767441  \n",
       "2021-01-27  0.889873  \n",
       "2021-01-28  0.686469  \n",
       "2021-01-29  0.857352  \n",
       "2021-01-30  0.769053  \n",
       "2021-01-31  0.816258  "
      ]
     },
     "execution_count": 53,
     "metadata": {},
     "output_type": "execute_result"
    }
   ],
   "source": [
    "d2=pd.DataFrame(r,date3)\n",
    "d2"
   ]
  },
  {
   "cell_type": "code",
   "execution_count": 54,
   "metadata": {},
   "outputs": [
    {
     "data": {
      "text/html": [
       "<div>\n",
       "<style scoped>\n",
       "    .dataframe tbody tr th:only-of-type {\n",
       "        vertical-align: middle;\n",
       "    }\n",
       "\n",
       "    .dataframe tbody tr th {\n",
       "        vertical-align: top;\n",
       "    }\n",
       "\n",
       "    .dataframe thead th {\n",
       "        text-align: right;\n",
       "    }\n",
       "</style>\n",
       "<table border=\"1\" class=\"dataframe\">\n",
       "  <thead>\n",
       "    <tr style=\"text-align: right;\">\n",
       "      <th></th>\n",
       "      <th>A</th>\n",
       "      <th>B</th>\n",
       "      <th>C</th>\n",
       "      <th>D</th>\n",
       "      <th>E</th>\n",
       "      <th>F</th>\n",
       "      <th>G</th>\n",
       "    </tr>\n",
       "  </thead>\n",
       "  <tbody>\n",
       "    <tr>\n",
       "      <th>2021-01-25</th>\n",
       "      <td>0.459883</td>\n",
       "      <td>0.338804</td>\n",
       "      <td>0.218398</td>\n",
       "      <td>0.273796</td>\n",
       "      <td>0.194232</td>\n",
       "      <td>0.088237</td>\n",
       "      <td>0.204630</td>\n",
       "    </tr>\n",
       "    <tr>\n",
       "      <th>2021-01-26</th>\n",
       "      <td>0.516219</td>\n",
       "      <td>0.234332</td>\n",
       "      <td>0.122988</td>\n",
       "      <td>0.144000</td>\n",
       "      <td>0.660935</td>\n",
       "      <td>0.128330</td>\n",
       "      <td>0.767441</td>\n",
       "    </tr>\n",
       "    <tr>\n",
       "      <th>2021-01-27</th>\n",
       "      <td>0.319792</td>\n",
       "      <td>0.971392</td>\n",
       "      <td>0.673976</td>\n",
       "      <td>0.460021</td>\n",
       "      <td>0.034666</td>\n",
       "      <td>0.507211</td>\n",
       "      <td>0.889873</td>\n",
       "    </tr>\n",
       "    <tr>\n",
       "      <th>2021-01-28</th>\n",
       "      <td>0.390900</td>\n",
       "      <td>0.092826</td>\n",
       "      <td>0.017624</td>\n",
       "      <td>0.704371</td>\n",
       "      <td>0.642638</td>\n",
       "      <td>0.176641</td>\n",
       "      <td>0.686469</td>\n",
       "    </tr>\n",
       "    <tr>\n",
       "      <th>2021-01-29</th>\n",
       "      <td>0.881942</td>\n",
       "      <td>0.431355</td>\n",
       "      <td>0.695996</td>\n",
       "      <td>0.794296</td>\n",
       "      <td>0.838846</td>\n",
       "      <td>0.074587</td>\n",
       "      <td>0.857352</td>\n",
       "    </tr>\n",
       "    <tr>\n",
       "      <th>2021-01-30</th>\n",
       "      <td>0.372440</td>\n",
       "      <td>0.919595</td>\n",
       "      <td>0.256544</td>\n",
       "      <td>0.702253</td>\n",
       "      <td>0.998441</td>\n",
       "      <td>0.175360</td>\n",
       "      <td>0.769053</td>\n",
       "    </tr>\n",
       "    <tr>\n",
       "      <th>2021-01-31</th>\n",
       "      <td>0.375909</td>\n",
       "      <td>0.924366</td>\n",
       "      <td>0.324793</td>\n",
       "      <td>0.060043</td>\n",
       "      <td>0.512198</td>\n",
       "      <td>0.465466</td>\n",
       "      <td>0.816258</td>\n",
       "    </tr>\n",
       "  </tbody>\n",
       "</table>\n",
       "</div>"
      ],
      "text/plain": [
       "                   A         B         C         D         E         F  \\\n",
       "2021-01-25  0.459883  0.338804  0.218398  0.273796  0.194232  0.088237   \n",
       "2021-01-26  0.516219  0.234332  0.122988  0.144000  0.660935  0.128330   \n",
       "2021-01-27  0.319792  0.971392  0.673976  0.460021  0.034666  0.507211   \n",
       "2021-01-28  0.390900  0.092826  0.017624  0.704371  0.642638  0.176641   \n",
       "2021-01-29  0.881942  0.431355  0.695996  0.794296  0.838846  0.074587   \n",
       "2021-01-30  0.372440  0.919595  0.256544  0.702253  0.998441  0.175360   \n",
       "2021-01-31  0.375909  0.924366  0.324793  0.060043  0.512198  0.465466   \n",
       "\n",
       "                   G  \n",
       "2021-01-25  0.204630  \n",
       "2021-01-26  0.767441  \n",
       "2021-01-27  0.889873  \n",
       "2021-01-28  0.686469  \n",
       "2021-01-29  0.857352  \n",
       "2021-01-30  0.769053  \n",
       "2021-01-31  0.816258  "
      ]
     },
     "execution_count": 54,
     "metadata": {},
     "output_type": "execute_result"
    }
   ],
   "source": [
    "#changing column names\n",
    "d2.columns=['A','B','C','D','E','F',\"G\"]\n",
    "d2"
   ]
  },
  {
   "cell_type": "code",
   "execution_count": 55,
   "metadata": {},
   "outputs": [
    {
     "data": {
      "text/plain": [
       "DatetimeIndex(['2021-01-25', '2021-01-26', '2021-01-27', '2021-01-28',\n",
       "               '2021-01-29', '2021-01-30', '2021-01-31'],\n",
       "              dtype='datetime64[ns]', freq='D')"
      ]
     },
     "execution_count": 55,
     "metadata": {},
     "output_type": "execute_result"
    }
   ],
   "source": [
    "#list index\n",
    "d2.index"
   ]
  },
  {
   "cell_type": "code",
   "execution_count": 56,
   "metadata": {},
   "outputs": [
    {
     "data": {
      "text/plain": [
       "Index(['A', 'B', 'C', 'D', 'E', 'F', 'G'], dtype='object')"
      ]
     },
     "execution_count": 56,
     "metadata": {},
     "output_type": "execute_result"
    }
   ],
   "source": [
    "#list column names\n",
    "d2.columns"
   ]
  },
  {
   "cell_type": "code",
   "execution_count": 57,
   "metadata": {},
   "outputs": [
    {
     "data": {
      "text/plain": [
       "A    float64\n",
       "B    float64\n",
       "C    float64\n",
       "D    float64\n",
       "E    float64\n",
       "F    float64\n",
       "G    float64\n",
       "dtype: object"
      ]
     },
     "execution_count": 57,
     "metadata": {},
     "output_type": "execute_result"
    }
   ],
   "source": [
    "#datatype of each column\n",
    "d2.dtypes"
   ]
  },
  {
   "cell_type": "code",
   "execution_count": 58,
   "metadata": {},
   "outputs": [
    {
     "data": {
      "text/html": [
       "<div>\n",
       "<style scoped>\n",
       "    .dataframe tbody tr th:only-of-type {\n",
       "        vertical-align: middle;\n",
       "    }\n",
       "\n",
       "    .dataframe tbody tr th {\n",
       "        vertical-align: top;\n",
       "    }\n",
       "\n",
       "    .dataframe thead th {\n",
       "        text-align: right;\n",
       "    }\n",
       "</style>\n",
       "<table border=\"1\" class=\"dataframe\">\n",
       "  <thead>\n",
       "    <tr style=\"text-align: right;\">\n",
       "      <th></th>\n",
       "      <th>A</th>\n",
       "      <th>B</th>\n",
       "      <th>C</th>\n",
       "      <th>D</th>\n",
       "      <th>E</th>\n",
       "      <th>F</th>\n",
       "      <th>G</th>\n",
       "    </tr>\n",
       "  </thead>\n",
       "  <tbody>\n",
       "    <tr>\n",
       "      <th>2021-01-27</th>\n",
       "      <td>0.319792</td>\n",
       "      <td>0.971392</td>\n",
       "      <td>0.673976</td>\n",
       "      <td>0.460021</td>\n",
       "      <td>0.034666</td>\n",
       "      <td>0.507211</td>\n",
       "      <td>0.889873</td>\n",
       "    </tr>\n",
       "    <tr>\n",
       "      <th>2021-01-30</th>\n",
       "      <td>0.372440</td>\n",
       "      <td>0.919595</td>\n",
       "      <td>0.256544</td>\n",
       "      <td>0.702253</td>\n",
       "      <td>0.998441</td>\n",
       "      <td>0.175360</td>\n",
       "      <td>0.769053</td>\n",
       "    </tr>\n",
       "    <tr>\n",
       "      <th>2021-01-31</th>\n",
       "      <td>0.375909</td>\n",
       "      <td>0.924366</td>\n",
       "      <td>0.324793</td>\n",
       "      <td>0.060043</td>\n",
       "      <td>0.512198</td>\n",
       "      <td>0.465466</td>\n",
       "      <td>0.816258</td>\n",
       "    </tr>\n",
       "    <tr>\n",
       "      <th>2021-01-28</th>\n",
       "      <td>0.390900</td>\n",
       "      <td>0.092826</td>\n",
       "      <td>0.017624</td>\n",
       "      <td>0.704371</td>\n",
       "      <td>0.642638</td>\n",
       "      <td>0.176641</td>\n",
       "      <td>0.686469</td>\n",
       "    </tr>\n",
       "    <tr>\n",
       "      <th>2021-01-25</th>\n",
       "      <td>0.459883</td>\n",
       "      <td>0.338804</td>\n",
       "      <td>0.218398</td>\n",
       "      <td>0.273796</td>\n",
       "      <td>0.194232</td>\n",
       "      <td>0.088237</td>\n",
       "      <td>0.204630</td>\n",
       "    </tr>\n",
       "    <tr>\n",
       "      <th>2021-01-26</th>\n",
       "      <td>0.516219</td>\n",
       "      <td>0.234332</td>\n",
       "      <td>0.122988</td>\n",
       "      <td>0.144000</td>\n",
       "      <td>0.660935</td>\n",
       "      <td>0.128330</td>\n",
       "      <td>0.767441</td>\n",
       "    </tr>\n",
       "    <tr>\n",
       "      <th>2021-01-29</th>\n",
       "      <td>0.881942</td>\n",
       "      <td>0.431355</td>\n",
       "      <td>0.695996</td>\n",
       "      <td>0.794296</td>\n",
       "      <td>0.838846</td>\n",
       "      <td>0.074587</td>\n",
       "      <td>0.857352</td>\n",
       "    </tr>\n",
       "  </tbody>\n",
       "</table>\n",
       "</div>"
      ],
      "text/plain": [
       "                   A         B         C         D         E         F  \\\n",
       "2021-01-27  0.319792  0.971392  0.673976  0.460021  0.034666  0.507211   \n",
       "2021-01-30  0.372440  0.919595  0.256544  0.702253  0.998441  0.175360   \n",
       "2021-01-31  0.375909  0.924366  0.324793  0.060043  0.512198  0.465466   \n",
       "2021-01-28  0.390900  0.092826  0.017624  0.704371  0.642638  0.176641   \n",
       "2021-01-25  0.459883  0.338804  0.218398  0.273796  0.194232  0.088237   \n",
       "2021-01-26  0.516219  0.234332  0.122988  0.144000  0.660935  0.128330   \n",
       "2021-01-29  0.881942  0.431355  0.695996  0.794296  0.838846  0.074587   \n",
       "\n",
       "                   G  \n",
       "2021-01-27  0.889873  \n",
       "2021-01-30  0.769053  \n",
       "2021-01-31  0.816258  \n",
       "2021-01-28  0.686469  \n",
       "2021-01-25  0.204630  \n",
       "2021-01-26  0.767441  \n",
       "2021-01-29  0.857352  "
      ]
     },
     "execution_count": 58,
     "metadata": {},
     "output_type": "execute_result"
    }
   ],
   "source": [
    "#sort dataframe by column 'A ' in ascending order\n",
    "d2.sort_values(by='A')"
   ]
  },
  {
   "cell_type": "code",
   "execution_count": 59,
   "metadata": {},
   "outputs": [
    {
     "data": {
      "text/html": [
       "<div>\n",
       "<style scoped>\n",
       "    .dataframe tbody tr th:only-of-type {\n",
       "        vertical-align: middle;\n",
       "    }\n",
       "\n",
       "    .dataframe tbody tr th {\n",
       "        vertical-align: top;\n",
       "    }\n",
       "\n",
       "    .dataframe thead th {\n",
       "        text-align: right;\n",
       "    }\n",
       "</style>\n",
       "<table border=\"1\" class=\"dataframe\">\n",
       "  <thead>\n",
       "    <tr style=\"text-align: right;\">\n",
       "      <th></th>\n",
       "      <th>A</th>\n",
       "      <th>B</th>\n",
       "      <th>C</th>\n",
       "      <th>D</th>\n",
       "      <th>E</th>\n",
       "      <th>F</th>\n",
       "      <th>G</th>\n",
       "    </tr>\n",
       "  </thead>\n",
       "  <tbody>\n",
       "    <tr>\n",
       "      <th>2021-01-29</th>\n",
       "      <td>0.881942</td>\n",
       "      <td>0.431355</td>\n",
       "      <td>0.695996</td>\n",
       "      <td>0.794296</td>\n",
       "      <td>0.838846</td>\n",
       "      <td>0.074587</td>\n",
       "      <td>0.857352</td>\n",
       "    </tr>\n",
       "    <tr>\n",
       "      <th>2021-01-26</th>\n",
       "      <td>0.516219</td>\n",
       "      <td>0.234332</td>\n",
       "      <td>0.122988</td>\n",
       "      <td>0.144000</td>\n",
       "      <td>0.660935</td>\n",
       "      <td>0.128330</td>\n",
       "      <td>0.767441</td>\n",
       "    </tr>\n",
       "    <tr>\n",
       "      <th>2021-01-25</th>\n",
       "      <td>0.459883</td>\n",
       "      <td>0.338804</td>\n",
       "      <td>0.218398</td>\n",
       "      <td>0.273796</td>\n",
       "      <td>0.194232</td>\n",
       "      <td>0.088237</td>\n",
       "      <td>0.204630</td>\n",
       "    </tr>\n",
       "    <tr>\n",
       "      <th>2021-01-28</th>\n",
       "      <td>0.390900</td>\n",
       "      <td>0.092826</td>\n",
       "      <td>0.017624</td>\n",
       "      <td>0.704371</td>\n",
       "      <td>0.642638</td>\n",
       "      <td>0.176641</td>\n",
       "      <td>0.686469</td>\n",
       "    </tr>\n",
       "    <tr>\n",
       "      <th>2021-01-31</th>\n",
       "      <td>0.375909</td>\n",
       "      <td>0.924366</td>\n",
       "      <td>0.324793</td>\n",
       "      <td>0.060043</td>\n",
       "      <td>0.512198</td>\n",
       "      <td>0.465466</td>\n",
       "      <td>0.816258</td>\n",
       "    </tr>\n",
       "    <tr>\n",
       "      <th>2021-01-30</th>\n",
       "      <td>0.372440</td>\n",
       "      <td>0.919595</td>\n",
       "      <td>0.256544</td>\n",
       "      <td>0.702253</td>\n",
       "      <td>0.998441</td>\n",
       "      <td>0.175360</td>\n",
       "      <td>0.769053</td>\n",
       "    </tr>\n",
       "    <tr>\n",
       "      <th>2021-01-27</th>\n",
       "      <td>0.319792</td>\n",
       "      <td>0.971392</td>\n",
       "      <td>0.673976</td>\n",
       "      <td>0.460021</td>\n",
       "      <td>0.034666</td>\n",
       "      <td>0.507211</td>\n",
       "      <td>0.889873</td>\n",
       "    </tr>\n",
       "  </tbody>\n",
       "</table>\n",
       "</div>"
      ],
      "text/plain": [
       "                   A         B         C         D         E         F  \\\n",
       "2021-01-29  0.881942  0.431355  0.695996  0.794296  0.838846  0.074587   \n",
       "2021-01-26  0.516219  0.234332  0.122988  0.144000  0.660935  0.128330   \n",
       "2021-01-25  0.459883  0.338804  0.218398  0.273796  0.194232  0.088237   \n",
       "2021-01-28  0.390900  0.092826  0.017624  0.704371  0.642638  0.176641   \n",
       "2021-01-31  0.375909  0.924366  0.324793  0.060043  0.512198  0.465466   \n",
       "2021-01-30  0.372440  0.919595  0.256544  0.702253  0.998441  0.175360   \n",
       "2021-01-27  0.319792  0.971392  0.673976  0.460021  0.034666  0.507211   \n",
       "\n",
       "                   G  \n",
       "2021-01-29  0.857352  \n",
       "2021-01-26  0.767441  \n",
       "2021-01-25  0.204630  \n",
       "2021-01-28  0.686469  \n",
       "2021-01-31  0.816258  \n",
       "2021-01-30  0.769053  \n",
       "2021-01-27  0.889873  "
      ]
     },
     "execution_count": 59,
     "metadata": {},
     "output_type": "execute_result"
    }
   ],
   "source": [
    "#sort dataframe by column 'A ' in descending order\n",
    "d2.sort_values(by='A',ascending=False)"
   ]
  },
  {
   "cell_type": "markdown",
   "metadata": {},
   "source": [
    "# Delete column in data frame"
   ]
  },
  {
   "cell_type": "code",
   "execution_count": 60,
   "metadata": {},
   "outputs": [],
   "source": [
    "del d2['C']"
   ]
  },
  {
   "cell_type": "code",
   "execution_count": 61,
   "metadata": {},
   "outputs": [
    {
     "data": {
      "text/html": [
       "<div>\n",
       "<style scoped>\n",
       "    .dataframe tbody tr th:only-of-type {\n",
       "        vertical-align: middle;\n",
       "    }\n",
       "\n",
       "    .dataframe tbody tr th {\n",
       "        vertical-align: top;\n",
       "    }\n",
       "\n",
       "    .dataframe thead th {\n",
       "        text-align: right;\n",
       "    }\n",
       "</style>\n",
       "<table border=\"1\" class=\"dataframe\">\n",
       "  <thead>\n",
       "    <tr style=\"text-align: right;\">\n",
       "      <th></th>\n",
       "      <th>A</th>\n",
       "      <th>B</th>\n",
       "      <th>D</th>\n",
       "      <th>E</th>\n",
       "      <th>F</th>\n",
       "      <th>G</th>\n",
       "    </tr>\n",
       "  </thead>\n",
       "  <tbody>\n",
       "    <tr>\n",
       "      <th>2021-01-25</th>\n",
       "      <td>0.459883</td>\n",
       "      <td>0.338804</td>\n",
       "      <td>0.273796</td>\n",
       "      <td>0.194232</td>\n",
       "      <td>0.088237</td>\n",
       "      <td>0.204630</td>\n",
       "    </tr>\n",
       "    <tr>\n",
       "      <th>2021-01-26</th>\n",
       "      <td>0.516219</td>\n",
       "      <td>0.234332</td>\n",
       "      <td>0.144000</td>\n",
       "      <td>0.660935</td>\n",
       "      <td>0.128330</td>\n",
       "      <td>0.767441</td>\n",
       "    </tr>\n",
       "    <tr>\n",
       "      <th>2021-01-27</th>\n",
       "      <td>0.319792</td>\n",
       "      <td>0.971392</td>\n",
       "      <td>0.460021</td>\n",
       "      <td>0.034666</td>\n",
       "      <td>0.507211</td>\n",
       "      <td>0.889873</td>\n",
       "    </tr>\n",
       "    <tr>\n",
       "      <th>2021-01-28</th>\n",
       "      <td>0.390900</td>\n",
       "      <td>0.092826</td>\n",
       "      <td>0.704371</td>\n",
       "      <td>0.642638</td>\n",
       "      <td>0.176641</td>\n",
       "      <td>0.686469</td>\n",
       "    </tr>\n",
       "    <tr>\n",
       "      <th>2021-01-29</th>\n",
       "      <td>0.881942</td>\n",
       "      <td>0.431355</td>\n",
       "      <td>0.794296</td>\n",
       "      <td>0.838846</td>\n",
       "      <td>0.074587</td>\n",
       "      <td>0.857352</td>\n",
       "    </tr>\n",
       "    <tr>\n",
       "      <th>2021-01-30</th>\n",
       "      <td>0.372440</td>\n",
       "      <td>0.919595</td>\n",
       "      <td>0.702253</td>\n",
       "      <td>0.998441</td>\n",
       "      <td>0.175360</td>\n",
       "      <td>0.769053</td>\n",
       "    </tr>\n",
       "    <tr>\n",
       "      <th>2021-01-31</th>\n",
       "      <td>0.375909</td>\n",
       "      <td>0.924366</td>\n",
       "      <td>0.060043</td>\n",
       "      <td>0.512198</td>\n",
       "      <td>0.465466</td>\n",
       "      <td>0.816258</td>\n",
       "    </tr>\n",
       "  </tbody>\n",
       "</table>\n",
       "</div>"
      ],
      "text/plain": [
       "                   A         B         D         E         F         G\n",
       "2021-01-25  0.459883  0.338804  0.273796  0.194232  0.088237  0.204630\n",
       "2021-01-26  0.516219  0.234332  0.144000  0.660935  0.128330  0.767441\n",
       "2021-01-27  0.319792  0.971392  0.460021  0.034666  0.507211  0.889873\n",
       "2021-01-28  0.390900  0.092826  0.704371  0.642638  0.176641  0.686469\n",
       "2021-01-29  0.881942  0.431355  0.794296  0.838846  0.074587  0.857352\n",
       "2021-01-30  0.372440  0.919595  0.702253  0.998441  0.175360  0.769053\n",
       "2021-01-31  0.375909  0.924366  0.060043  0.512198  0.465466  0.816258"
      ]
     },
     "execution_count": 61,
     "metadata": {},
     "output_type": "execute_result"
    }
   ],
   "source": [
    "d2"
   ]
  },
  {
   "cell_type": "code",
   "execution_count": 62,
   "metadata": {},
   "outputs": [
    {
     "data": {
      "text/plain": [
       "2021-01-25    0.459883\n",
       "2021-01-26    0.516219\n",
       "2021-01-27    0.319792\n",
       "2021-01-28    0.390900\n",
       "2021-01-29    0.881942\n",
       "2021-01-30    0.372440\n",
       "2021-01-31    0.375909\n",
       "Freq: D, Name: A, dtype: float64"
      ]
     },
     "execution_count": 62,
     "metadata": {},
     "output_type": "execute_result"
    }
   ],
   "source": [
    "d2.pop('A')"
   ]
  },
  {
   "cell_type": "code",
   "execution_count": 63,
   "metadata": {},
   "outputs": [
    {
     "data": {
      "text/html": [
       "<div>\n",
       "<style scoped>\n",
       "    .dataframe tbody tr th:only-of-type {\n",
       "        vertical-align: middle;\n",
       "    }\n",
       "\n",
       "    .dataframe tbody tr th {\n",
       "        vertical-align: top;\n",
       "    }\n",
       "\n",
       "    .dataframe thead th {\n",
       "        text-align: right;\n",
       "    }\n",
       "</style>\n",
       "<table border=\"1\" class=\"dataframe\">\n",
       "  <thead>\n",
       "    <tr style=\"text-align: right;\">\n",
       "      <th></th>\n",
       "      <th>B</th>\n",
       "      <th>D</th>\n",
       "      <th>E</th>\n",
       "      <th>F</th>\n",
       "      <th>G</th>\n",
       "    </tr>\n",
       "  </thead>\n",
       "  <tbody>\n",
       "    <tr>\n",
       "      <th>2021-01-25</th>\n",
       "      <td>0.338804</td>\n",
       "      <td>0.273796</td>\n",
       "      <td>0.194232</td>\n",
       "      <td>0.088237</td>\n",
       "      <td>0.204630</td>\n",
       "    </tr>\n",
       "    <tr>\n",
       "      <th>2021-01-26</th>\n",
       "      <td>0.234332</td>\n",
       "      <td>0.144000</td>\n",
       "      <td>0.660935</td>\n",
       "      <td>0.128330</td>\n",
       "      <td>0.767441</td>\n",
       "    </tr>\n",
       "    <tr>\n",
       "      <th>2021-01-27</th>\n",
       "      <td>0.971392</td>\n",
       "      <td>0.460021</td>\n",
       "      <td>0.034666</td>\n",
       "      <td>0.507211</td>\n",
       "      <td>0.889873</td>\n",
       "    </tr>\n",
       "    <tr>\n",
       "      <th>2021-01-28</th>\n",
       "      <td>0.092826</td>\n",
       "      <td>0.704371</td>\n",
       "      <td>0.642638</td>\n",
       "      <td>0.176641</td>\n",
       "      <td>0.686469</td>\n",
       "    </tr>\n",
       "    <tr>\n",
       "      <th>2021-01-29</th>\n",
       "      <td>0.431355</td>\n",
       "      <td>0.794296</td>\n",
       "      <td>0.838846</td>\n",
       "      <td>0.074587</td>\n",
       "      <td>0.857352</td>\n",
       "    </tr>\n",
       "    <tr>\n",
       "      <th>2021-01-30</th>\n",
       "      <td>0.919595</td>\n",
       "      <td>0.702253</td>\n",
       "      <td>0.998441</td>\n",
       "      <td>0.175360</td>\n",
       "      <td>0.769053</td>\n",
       "    </tr>\n",
       "    <tr>\n",
       "      <th>2021-01-31</th>\n",
       "      <td>0.924366</td>\n",
       "      <td>0.060043</td>\n",
       "      <td>0.512198</td>\n",
       "      <td>0.465466</td>\n",
       "      <td>0.816258</td>\n",
       "    </tr>\n",
       "  </tbody>\n",
       "</table>\n",
       "</div>"
      ],
      "text/plain": [
       "                   B         D         E         F         G\n",
       "2021-01-25  0.338804  0.273796  0.194232  0.088237  0.204630\n",
       "2021-01-26  0.234332  0.144000  0.660935  0.128330  0.767441\n",
       "2021-01-27  0.971392  0.460021  0.034666  0.507211  0.889873\n",
       "2021-01-28  0.092826  0.704371  0.642638  0.176641  0.686469\n",
       "2021-01-29  0.431355  0.794296  0.838846  0.074587  0.857352\n",
       "2021-01-30  0.919595  0.702253  0.998441  0.175360  0.769053\n",
       "2021-01-31  0.924366  0.060043  0.512198  0.465466  0.816258"
      ]
     },
     "execution_count": 63,
     "metadata": {},
     "output_type": "execute_result"
    }
   ],
   "source": [
    "d2"
   ]
  },
  {
   "cell_type": "code",
   "execution_count": 64,
   "metadata": {},
   "outputs": [
    {
     "data": {
      "text/html": [
       "<div>\n",
       "<style scoped>\n",
       "    .dataframe tbody tr th:only-of-type {\n",
       "        vertical-align: middle;\n",
       "    }\n",
       "\n",
       "    .dataframe tbody tr th {\n",
       "        vertical-align: top;\n",
       "    }\n",
       "\n",
       "    .dataframe thead th {\n",
       "        text-align: right;\n",
       "    }\n",
       "</style>\n",
       "<table border=\"1\" class=\"dataframe\">\n",
       "  <thead>\n",
       "    <tr style=\"text-align: right;\">\n",
       "      <th></th>\n",
       "      <th>D</th>\n",
       "      <th>E</th>\n",
       "      <th>F</th>\n",
       "      <th>G</th>\n",
       "    </tr>\n",
       "  </thead>\n",
       "  <tbody>\n",
       "    <tr>\n",
       "      <th>2021-01-25</th>\n",
       "      <td>0.273796</td>\n",
       "      <td>0.194232</td>\n",
       "      <td>0.088237</td>\n",
       "      <td>0.204630</td>\n",
       "    </tr>\n",
       "    <tr>\n",
       "      <th>2021-01-26</th>\n",
       "      <td>0.144000</td>\n",
       "      <td>0.660935</td>\n",
       "      <td>0.128330</td>\n",
       "      <td>0.767441</td>\n",
       "    </tr>\n",
       "    <tr>\n",
       "      <th>2021-01-27</th>\n",
       "      <td>0.460021</td>\n",
       "      <td>0.034666</td>\n",
       "      <td>0.507211</td>\n",
       "      <td>0.889873</td>\n",
       "    </tr>\n",
       "    <tr>\n",
       "      <th>2021-01-28</th>\n",
       "      <td>0.704371</td>\n",
       "      <td>0.642638</td>\n",
       "      <td>0.176641</td>\n",
       "      <td>0.686469</td>\n",
       "    </tr>\n",
       "    <tr>\n",
       "      <th>2021-01-29</th>\n",
       "      <td>0.794296</td>\n",
       "      <td>0.838846</td>\n",
       "      <td>0.074587</td>\n",
       "      <td>0.857352</td>\n",
       "    </tr>\n",
       "    <tr>\n",
       "      <th>2021-01-30</th>\n",
       "      <td>0.702253</td>\n",
       "      <td>0.998441</td>\n",
       "      <td>0.175360</td>\n",
       "      <td>0.769053</td>\n",
       "    </tr>\n",
       "    <tr>\n",
       "      <th>2021-01-31</th>\n",
       "      <td>0.060043</td>\n",
       "      <td>0.512198</td>\n",
       "      <td>0.465466</td>\n",
       "      <td>0.816258</td>\n",
       "    </tr>\n",
       "  </tbody>\n",
       "</table>\n",
       "</div>"
      ],
      "text/plain": [
       "                   D         E         F         G\n",
       "2021-01-25  0.273796  0.194232  0.088237  0.204630\n",
       "2021-01-26  0.144000  0.660935  0.128330  0.767441\n",
       "2021-01-27  0.460021  0.034666  0.507211  0.889873\n",
       "2021-01-28  0.704371  0.642638  0.176641  0.686469\n",
       "2021-01-29  0.794296  0.838846  0.074587  0.857352\n",
       "2021-01-30  0.702253  0.998441  0.175360  0.769053\n",
       "2021-01-31  0.060043  0.512198  0.465466  0.816258"
      ]
     },
     "execution_count": 64,
     "metadata": {},
     "output_type": "execute_result"
    }
   ],
   "source": [
    "d2.drop(['B'],axis=1)"
   ]
  },
  {
   "cell_type": "markdown",
   "metadata": {},
   "source": [
    "# delete rows in dataframe"
   ]
  },
  {
   "cell_type": "code",
   "execution_count": 65,
   "metadata": {},
   "outputs": [
    {
     "data": {
      "text/plain": [
       "array([[0.82424566, 0.14607109, 0.15453919, 0.19878185, 0.23249661,\n",
       "        0.11787939, 0.15292361, 0.04551954, 0.50344654, 0.1671549 ],\n",
       "       [0.26052501, 0.72727608, 0.57331708, 0.83208883, 0.19279157,\n",
       "        0.72426887, 0.46297892, 0.09543612, 0.27423734, 0.72915362],\n",
       "       [0.35082473, 0.16624542, 0.86817339, 0.64207955, 0.0631423 ,\n",
       "        0.8922827 , 0.27007771, 0.82814928, 0.22888996, 0.80275456],\n",
       "       [0.26480986, 0.06721936, 0.88068605, 0.29422254, 0.66499477,\n",
       "        0.02604546, 0.60020021, 0.73007009, 0.00796627, 0.55773716],\n",
       "       [0.321976  , 0.6522124 , 0.93161369, 0.40664951, 0.9859776 ,\n",
       "        0.39611908, 0.22372751, 0.77199824, 0.89491788, 0.95967001],\n",
       "       [0.06326791, 0.82414874, 0.39546484, 0.58063726, 0.89429084,\n",
       "        0.82618274, 0.06943461, 0.88075544, 0.30651638, 0.818732  ],\n",
       "       [0.30310151, 0.06472492, 0.636197  , 0.84908283, 0.83307751,\n",
       "        0.23857013, 0.40768873, 0.38757925, 0.52949846, 0.24994796],\n",
       "       [0.53971   , 0.82095259, 0.94896146, 0.01401141, 0.28727912,\n",
       "        0.64147402, 0.21133042, 0.12554473, 0.29283947, 0.57902195],\n",
       "       [0.68102334, 0.08652829, 0.62725626, 0.51523063, 0.02456144,\n",
       "        0.87386181, 0.8534954 , 0.5306418 , 0.98804333, 0.08896161],\n",
       "       [0.32132842, 0.42011809, 0.55455858, 0.88239461, 0.3285328 ,\n",
       "        0.26788366, 0.11115435, 0.95342338, 0.61788642, 0.87169282]])"
      ]
     },
     "execution_count": 65,
     "metadata": {},
     "output_type": "execute_result"
    }
   ],
   "source": [
    "r=np.random.random((10,10))\n",
    "r"
   ]
  },
  {
   "cell_type": "code",
   "execution_count": 66,
   "metadata": {},
   "outputs": [
    {
     "data": {
      "text/html": [
       "<div>\n",
       "<style scoped>\n",
       "    .dataframe tbody tr th:only-of-type {\n",
       "        vertical-align: middle;\n",
       "    }\n",
       "\n",
       "    .dataframe tbody tr th {\n",
       "        vertical-align: top;\n",
       "    }\n",
       "\n",
       "    .dataframe thead th {\n",
       "        text-align: right;\n",
       "    }\n",
       "</style>\n",
       "<table border=\"1\" class=\"dataframe\">\n",
       "  <thead>\n",
       "    <tr style=\"text-align: right;\">\n",
       "      <th></th>\n",
       "      <th>0</th>\n",
       "      <th>1</th>\n",
       "      <th>2</th>\n",
       "      <th>3</th>\n",
       "      <th>4</th>\n",
       "      <th>5</th>\n",
       "      <th>6</th>\n",
       "      <th>7</th>\n",
       "      <th>8</th>\n",
       "      <th>9</th>\n",
       "    </tr>\n",
       "  </thead>\n",
       "  <tbody>\n",
       "    <tr>\n",
       "      <th>0</th>\n",
       "      <td>0.824246</td>\n",
       "      <td>0.146071</td>\n",
       "      <td>0.154539</td>\n",
       "      <td>0.198782</td>\n",
       "      <td>0.232497</td>\n",
       "      <td>0.117879</td>\n",
       "      <td>0.152924</td>\n",
       "      <td>0.045520</td>\n",
       "      <td>0.503447</td>\n",
       "      <td>0.167155</td>\n",
       "    </tr>\n",
       "    <tr>\n",
       "      <th>1</th>\n",
       "      <td>0.260525</td>\n",
       "      <td>0.727276</td>\n",
       "      <td>0.573317</td>\n",
       "      <td>0.832089</td>\n",
       "      <td>0.192792</td>\n",
       "      <td>0.724269</td>\n",
       "      <td>0.462979</td>\n",
       "      <td>0.095436</td>\n",
       "      <td>0.274237</td>\n",
       "      <td>0.729154</td>\n",
       "    </tr>\n",
       "    <tr>\n",
       "      <th>2</th>\n",
       "      <td>0.350825</td>\n",
       "      <td>0.166245</td>\n",
       "      <td>0.868173</td>\n",
       "      <td>0.642080</td>\n",
       "      <td>0.063142</td>\n",
       "      <td>0.892283</td>\n",
       "      <td>0.270078</td>\n",
       "      <td>0.828149</td>\n",
       "      <td>0.228890</td>\n",
       "      <td>0.802755</td>\n",
       "    </tr>\n",
       "    <tr>\n",
       "      <th>3</th>\n",
       "      <td>0.264810</td>\n",
       "      <td>0.067219</td>\n",
       "      <td>0.880686</td>\n",
       "      <td>0.294223</td>\n",
       "      <td>0.664995</td>\n",
       "      <td>0.026045</td>\n",
       "      <td>0.600200</td>\n",
       "      <td>0.730070</td>\n",
       "      <td>0.007966</td>\n",
       "      <td>0.557737</td>\n",
       "    </tr>\n",
       "    <tr>\n",
       "      <th>4</th>\n",
       "      <td>0.321976</td>\n",
       "      <td>0.652212</td>\n",
       "      <td>0.931614</td>\n",
       "      <td>0.406650</td>\n",
       "      <td>0.985978</td>\n",
       "      <td>0.396119</td>\n",
       "      <td>0.223728</td>\n",
       "      <td>0.771998</td>\n",
       "      <td>0.894918</td>\n",
       "      <td>0.959670</td>\n",
       "    </tr>\n",
       "    <tr>\n",
       "      <th>5</th>\n",
       "      <td>0.063268</td>\n",
       "      <td>0.824149</td>\n",
       "      <td>0.395465</td>\n",
       "      <td>0.580637</td>\n",
       "      <td>0.894291</td>\n",
       "      <td>0.826183</td>\n",
       "      <td>0.069435</td>\n",
       "      <td>0.880755</td>\n",
       "      <td>0.306516</td>\n",
       "      <td>0.818732</td>\n",
       "    </tr>\n",
       "    <tr>\n",
       "      <th>6</th>\n",
       "      <td>0.303102</td>\n",
       "      <td>0.064725</td>\n",
       "      <td>0.636197</td>\n",
       "      <td>0.849083</td>\n",
       "      <td>0.833078</td>\n",
       "      <td>0.238570</td>\n",
       "      <td>0.407689</td>\n",
       "      <td>0.387579</td>\n",
       "      <td>0.529498</td>\n",
       "      <td>0.249948</td>\n",
       "    </tr>\n",
       "    <tr>\n",
       "      <th>7</th>\n",
       "      <td>0.539710</td>\n",
       "      <td>0.820953</td>\n",
       "      <td>0.948961</td>\n",
       "      <td>0.014011</td>\n",
       "      <td>0.287279</td>\n",
       "      <td>0.641474</td>\n",
       "      <td>0.211330</td>\n",
       "      <td>0.125545</td>\n",
       "      <td>0.292839</td>\n",
       "      <td>0.579022</td>\n",
       "    </tr>\n",
       "    <tr>\n",
       "      <th>8</th>\n",
       "      <td>0.681023</td>\n",
       "      <td>0.086528</td>\n",
       "      <td>0.627256</td>\n",
       "      <td>0.515231</td>\n",
       "      <td>0.024561</td>\n",
       "      <td>0.873862</td>\n",
       "      <td>0.853495</td>\n",
       "      <td>0.530642</td>\n",
       "      <td>0.988043</td>\n",
       "      <td>0.088962</td>\n",
       "    </tr>\n",
       "    <tr>\n",
       "      <th>9</th>\n",
       "      <td>0.321328</td>\n",
       "      <td>0.420118</td>\n",
       "      <td>0.554559</td>\n",
       "      <td>0.882395</td>\n",
       "      <td>0.328533</td>\n",
       "      <td>0.267884</td>\n",
       "      <td>0.111154</td>\n",
       "      <td>0.953423</td>\n",
       "      <td>0.617886</td>\n",
       "      <td>0.871693</td>\n",
       "    </tr>\n",
       "  </tbody>\n",
       "</table>\n",
       "</div>"
      ],
      "text/plain": [
       "          0         1         2         3         4         5         6  \\\n",
       "0  0.824246  0.146071  0.154539  0.198782  0.232497  0.117879  0.152924   \n",
       "1  0.260525  0.727276  0.573317  0.832089  0.192792  0.724269  0.462979   \n",
       "2  0.350825  0.166245  0.868173  0.642080  0.063142  0.892283  0.270078   \n",
       "3  0.264810  0.067219  0.880686  0.294223  0.664995  0.026045  0.600200   \n",
       "4  0.321976  0.652212  0.931614  0.406650  0.985978  0.396119  0.223728   \n",
       "5  0.063268  0.824149  0.395465  0.580637  0.894291  0.826183  0.069435   \n",
       "6  0.303102  0.064725  0.636197  0.849083  0.833078  0.238570  0.407689   \n",
       "7  0.539710  0.820953  0.948961  0.014011  0.287279  0.641474  0.211330   \n",
       "8  0.681023  0.086528  0.627256  0.515231  0.024561  0.873862  0.853495   \n",
       "9  0.321328  0.420118  0.554559  0.882395  0.328533  0.267884  0.111154   \n",
       "\n",
       "          7         8         9  \n",
       "0  0.045520  0.503447  0.167155  \n",
       "1  0.095436  0.274237  0.729154  \n",
       "2  0.828149  0.228890  0.802755  \n",
       "3  0.730070  0.007966  0.557737  \n",
       "4  0.771998  0.894918  0.959670  \n",
       "5  0.880755  0.306516  0.818732  \n",
       "6  0.387579  0.529498  0.249948  \n",
       "7  0.125545  0.292839  0.579022  \n",
       "8  0.530642  0.988043  0.088962  \n",
       "9  0.953423  0.617886  0.871693  "
      ]
     },
     "execution_count": 66,
     "metadata": {},
     "output_type": "execute_result"
    }
   ],
   "source": [
    "d2=pd.DataFrame(r)\n",
    "d2"
   ]
  },
  {
   "cell_type": "code",
   "execution_count": 67,
   "metadata": {},
   "outputs": [
    {
     "data": {
      "text/html": [
       "<div>\n",
       "<style scoped>\n",
       "    .dataframe tbody tr th:only-of-type {\n",
       "        vertical-align: middle;\n",
       "    }\n",
       "\n",
       "    .dataframe tbody tr th {\n",
       "        vertical-align: top;\n",
       "    }\n",
       "\n",
       "    .dataframe thead th {\n",
       "        text-align: right;\n",
       "    }\n",
       "</style>\n",
       "<table border=\"1\" class=\"dataframe\">\n",
       "  <thead>\n",
       "    <tr style=\"text-align: right;\">\n",
       "      <th></th>\n",
       "      <th>0</th>\n",
       "      <th>1</th>\n",
       "      <th>2</th>\n",
       "      <th>3</th>\n",
       "      <th>4</th>\n",
       "      <th>5</th>\n",
       "      <th>6</th>\n",
       "      <th>7</th>\n",
       "      <th>8</th>\n",
       "      <th>9</th>\n",
       "    </tr>\n",
       "  </thead>\n",
       "  <tbody>\n",
       "    <tr>\n",
       "      <th>0</th>\n",
       "      <td>0.824246</td>\n",
       "      <td>0.146071</td>\n",
       "      <td>0.154539</td>\n",
       "      <td>0.198782</td>\n",
       "      <td>0.232497</td>\n",
       "      <td>0.117879</td>\n",
       "      <td>0.152924</td>\n",
       "      <td>0.045520</td>\n",
       "      <td>0.503447</td>\n",
       "      <td>0.167155</td>\n",
       "    </tr>\n",
       "    <tr>\n",
       "      <th>1</th>\n",
       "      <td>0.260525</td>\n",
       "      <td>0.727276</td>\n",
       "      <td>0.573317</td>\n",
       "      <td>0.832089</td>\n",
       "      <td>0.192792</td>\n",
       "      <td>0.724269</td>\n",
       "      <td>0.462979</td>\n",
       "      <td>0.095436</td>\n",
       "      <td>0.274237</td>\n",
       "      <td>0.729154</td>\n",
       "    </tr>\n",
       "    <tr>\n",
       "      <th>2</th>\n",
       "      <td>0.350825</td>\n",
       "      <td>0.166245</td>\n",
       "      <td>0.868173</td>\n",
       "      <td>0.642080</td>\n",
       "      <td>0.063142</td>\n",
       "      <td>0.892283</td>\n",
       "      <td>0.270078</td>\n",
       "      <td>0.828149</td>\n",
       "      <td>0.228890</td>\n",
       "      <td>0.802755</td>\n",
       "    </tr>\n",
       "    <tr>\n",
       "      <th>3</th>\n",
       "      <td>0.264810</td>\n",
       "      <td>0.067219</td>\n",
       "      <td>0.880686</td>\n",
       "      <td>0.294223</td>\n",
       "      <td>0.664995</td>\n",
       "      <td>0.026045</td>\n",
       "      <td>0.600200</td>\n",
       "      <td>0.730070</td>\n",
       "      <td>0.007966</td>\n",
       "      <td>0.557737</td>\n",
       "    </tr>\n",
       "    <tr>\n",
       "      <th>6</th>\n",
       "      <td>0.303102</td>\n",
       "      <td>0.064725</td>\n",
       "      <td>0.636197</td>\n",
       "      <td>0.849083</td>\n",
       "      <td>0.833078</td>\n",
       "      <td>0.238570</td>\n",
       "      <td>0.407689</td>\n",
       "      <td>0.387579</td>\n",
       "      <td>0.529498</td>\n",
       "      <td>0.249948</td>\n",
       "    </tr>\n",
       "    <tr>\n",
       "      <th>7</th>\n",
       "      <td>0.539710</td>\n",
       "      <td>0.820953</td>\n",
       "      <td>0.948961</td>\n",
       "      <td>0.014011</td>\n",
       "      <td>0.287279</td>\n",
       "      <td>0.641474</td>\n",
       "      <td>0.211330</td>\n",
       "      <td>0.125545</td>\n",
       "      <td>0.292839</td>\n",
       "      <td>0.579022</td>\n",
       "    </tr>\n",
       "    <tr>\n",
       "      <th>8</th>\n",
       "      <td>0.681023</td>\n",
       "      <td>0.086528</td>\n",
       "      <td>0.627256</td>\n",
       "      <td>0.515231</td>\n",
       "      <td>0.024561</td>\n",
       "      <td>0.873862</td>\n",
       "      <td>0.853495</td>\n",
       "      <td>0.530642</td>\n",
       "      <td>0.988043</td>\n",
       "      <td>0.088962</td>\n",
       "    </tr>\n",
       "    <tr>\n",
       "      <th>9</th>\n",
       "      <td>0.321328</td>\n",
       "      <td>0.420118</td>\n",
       "      <td>0.554559</td>\n",
       "      <td>0.882395</td>\n",
       "      <td>0.328533</td>\n",
       "      <td>0.267884</td>\n",
       "      <td>0.111154</td>\n",
       "      <td>0.953423</td>\n",
       "      <td>0.617886</td>\n",
       "      <td>0.871693</td>\n",
       "    </tr>\n",
       "  </tbody>\n",
       "</table>\n",
       "</div>"
      ],
      "text/plain": [
       "          0         1         2         3         4         5         6  \\\n",
       "0  0.824246  0.146071  0.154539  0.198782  0.232497  0.117879  0.152924   \n",
       "1  0.260525  0.727276  0.573317  0.832089  0.192792  0.724269  0.462979   \n",
       "2  0.350825  0.166245  0.868173  0.642080  0.063142  0.892283  0.270078   \n",
       "3  0.264810  0.067219  0.880686  0.294223  0.664995  0.026045  0.600200   \n",
       "6  0.303102  0.064725  0.636197  0.849083  0.833078  0.238570  0.407689   \n",
       "7  0.539710  0.820953  0.948961  0.014011  0.287279  0.641474  0.211330   \n",
       "8  0.681023  0.086528  0.627256  0.515231  0.024561  0.873862  0.853495   \n",
       "9  0.321328  0.420118  0.554559  0.882395  0.328533  0.267884  0.111154   \n",
       "\n",
       "          7         8         9  \n",
       "0  0.045520  0.503447  0.167155  \n",
       "1  0.095436  0.274237  0.729154  \n",
       "2  0.828149  0.228890  0.802755  \n",
       "3  0.730070  0.007966  0.557737  \n",
       "6  0.387579  0.529498  0.249948  \n",
       "7  0.125545  0.292839  0.579022  \n",
       "8  0.530642  0.988043  0.088962  \n",
       "9  0.953423  0.617886  0.871693  "
      ]
     },
     "execution_count": 67,
     "metadata": {},
     "output_type": "execute_result"
    }
   ],
   "source": [
    "d2=d2.drop([4,5],axis=0)\n",
    "d2"
   ]
  },
  {
   "cell_type": "code",
   "execution_count": 68,
   "metadata": {},
   "outputs": [
    {
     "data": {
      "text/html": [
       "<div>\n",
       "<style scoped>\n",
       "    .dataframe tbody tr th:only-of-type {\n",
       "        vertical-align: middle;\n",
       "    }\n",
       "\n",
       "    .dataframe tbody tr th {\n",
       "        vertical-align: top;\n",
       "    }\n",
       "\n",
       "    .dataframe thead th {\n",
       "        text-align: right;\n",
       "    }\n",
       "</style>\n",
       "<table border=\"1\" class=\"dataframe\">\n",
       "  <thead>\n",
       "    <tr style=\"text-align: right;\">\n",
       "      <th></th>\n",
       "      <th>0</th>\n",
       "      <th>1</th>\n",
       "      <th>2</th>\n",
       "      <th>3</th>\n",
       "      <th>4</th>\n",
       "      <th>5</th>\n",
       "      <th>6</th>\n",
       "      <th>7</th>\n",
       "      <th>8</th>\n",
       "      <th>9</th>\n",
       "    </tr>\n",
       "  </thead>\n",
       "  <tbody>\n",
       "    <tr>\n",
       "      <th>0</th>\n",
       "      <td>0.824246</td>\n",
       "      <td>0.146071</td>\n",
       "      <td>0.154539</td>\n",
       "      <td>0.198782</td>\n",
       "      <td>0.232497</td>\n",
       "      <td>0.117879</td>\n",
       "      <td>0.152924</td>\n",
       "      <td>0.045520</td>\n",
       "      <td>0.503447</td>\n",
       "      <td>0.167155</td>\n",
       "    </tr>\n",
       "    <tr>\n",
       "      <th>1</th>\n",
       "      <td>0.260525</td>\n",
       "      <td>0.727276</td>\n",
       "      <td>0.573317</td>\n",
       "      <td>0.832089</td>\n",
       "      <td>0.192792</td>\n",
       "      <td>0.724269</td>\n",
       "      <td>0.462979</td>\n",
       "      <td>0.095436</td>\n",
       "      <td>0.274237</td>\n",
       "      <td>0.729154</td>\n",
       "    </tr>\n",
       "    <tr>\n",
       "      <th>2</th>\n",
       "      <td>0.350825</td>\n",
       "      <td>0.166245</td>\n",
       "      <td>0.868173</td>\n",
       "      <td>0.642080</td>\n",
       "      <td>0.063142</td>\n",
       "      <td>0.892283</td>\n",
       "      <td>0.270078</td>\n",
       "      <td>0.828149</td>\n",
       "      <td>0.228890</td>\n",
       "      <td>0.802755</td>\n",
       "    </tr>\n",
       "    <tr>\n",
       "      <th>6</th>\n",
       "      <td>0.303102</td>\n",
       "      <td>0.064725</td>\n",
       "      <td>0.636197</td>\n",
       "      <td>0.849083</td>\n",
       "      <td>0.833078</td>\n",
       "      <td>0.238570</td>\n",
       "      <td>0.407689</td>\n",
       "      <td>0.387579</td>\n",
       "      <td>0.529498</td>\n",
       "      <td>0.249948</td>\n",
       "    </tr>\n",
       "    <tr>\n",
       "      <th>7</th>\n",
       "      <td>0.539710</td>\n",
       "      <td>0.820953</td>\n",
       "      <td>0.948961</td>\n",
       "      <td>0.014011</td>\n",
       "      <td>0.287279</td>\n",
       "      <td>0.641474</td>\n",
       "      <td>0.211330</td>\n",
       "      <td>0.125545</td>\n",
       "      <td>0.292839</td>\n",
       "      <td>0.579022</td>\n",
       "    </tr>\n",
       "    <tr>\n",
       "      <th>8</th>\n",
       "      <td>0.681023</td>\n",
       "      <td>0.086528</td>\n",
       "      <td>0.627256</td>\n",
       "      <td>0.515231</td>\n",
       "      <td>0.024561</td>\n",
       "      <td>0.873862</td>\n",
       "      <td>0.853495</td>\n",
       "      <td>0.530642</td>\n",
       "      <td>0.988043</td>\n",
       "      <td>0.088962</td>\n",
       "    </tr>\n",
       "    <tr>\n",
       "      <th>9</th>\n",
       "      <td>0.321328</td>\n",
       "      <td>0.420118</td>\n",
       "      <td>0.554559</td>\n",
       "      <td>0.882395</td>\n",
       "      <td>0.328533</td>\n",
       "      <td>0.267884</td>\n",
       "      <td>0.111154</td>\n",
       "      <td>0.953423</td>\n",
       "      <td>0.617886</td>\n",
       "      <td>0.871693</td>\n",
       "    </tr>\n",
       "  </tbody>\n",
       "</table>\n",
       "</div>"
      ],
      "text/plain": [
       "          0         1         2         3         4         5         6  \\\n",
       "0  0.824246  0.146071  0.154539  0.198782  0.232497  0.117879  0.152924   \n",
       "1  0.260525  0.727276  0.573317  0.832089  0.192792  0.724269  0.462979   \n",
       "2  0.350825  0.166245  0.868173  0.642080  0.063142  0.892283  0.270078   \n",
       "6  0.303102  0.064725  0.636197  0.849083  0.833078  0.238570  0.407689   \n",
       "7  0.539710  0.820953  0.948961  0.014011  0.287279  0.641474  0.211330   \n",
       "8  0.681023  0.086528  0.627256  0.515231  0.024561  0.873862  0.853495   \n",
       "9  0.321328  0.420118  0.554559  0.882395  0.328533  0.267884  0.111154   \n",
       "\n",
       "          7         8         9  \n",
       "0  0.045520  0.503447  0.167155  \n",
       "1  0.095436  0.274237  0.729154  \n",
       "2  0.828149  0.228890  0.802755  \n",
       "6  0.387579  0.529498  0.249948  \n",
       "7  0.125545  0.292839  0.579022  \n",
       "8  0.530642  0.988043  0.088962  \n",
       "9  0.953423  0.617886  0.871693  "
      ]
     },
     "execution_count": 68,
     "metadata": {},
     "output_type": "execute_result"
    }
   ],
   "source": [
    "d2=d2.drop([3],axis=0)\n",
    "d2"
   ]
  },
  {
   "cell_type": "code",
   "execution_count": 69,
   "metadata": {},
   "outputs": [
    {
     "data": {
      "text/html": [
       "<div>\n",
       "<style scoped>\n",
       "    .dataframe tbody tr th:only-of-type {\n",
       "        vertical-align: middle;\n",
       "    }\n",
       "\n",
       "    .dataframe tbody tr th {\n",
       "        vertical-align: top;\n",
       "    }\n",
       "\n",
       "    .dataframe thead th {\n",
       "        text-align: right;\n",
       "    }\n",
       "</style>\n",
       "<table border=\"1\" class=\"dataframe\">\n",
       "  <thead>\n",
       "    <tr style=\"text-align: right;\">\n",
       "      <th></th>\n",
       "      <th>0</th>\n",
       "      <th>1</th>\n",
       "      <th>2</th>\n",
       "      <th>3</th>\n",
       "      <th>4</th>\n",
       "      <th>5</th>\n",
       "      <th>6</th>\n",
       "      <th>7</th>\n",
       "      <th>8</th>\n",
       "      <th>9</th>\n",
       "    </tr>\n",
       "  </thead>\n",
       "  <tbody>\n",
       "    <tr>\n",
       "      <th>0</th>\n",
       "      <td>0.824246</td>\n",
       "      <td>0.146071</td>\n",
       "      <td>0.154539</td>\n",
       "      <td>0.198782</td>\n",
       "      <td>0.232497</td>\n",
       "      <td>0.117879</td>\n",
       "      <td>0.152924</td>\n",
       "      <td>0.045520</td>\n",
       "      <td>0.503447</td>\n",
       "      <td>0.167155</td>\n",
       "    </tr>\n",
       "    <tr>\n",
       "      <th>1</th>\n",
       "      <td>0.260525</td>\n",
       "      <td>0.727276</td>\n",
       "      <td>0.573317</td>\n",
       "      <td>0.832089</td>\n",
       "      <td>0.192792</td>\n",
       "      <td>0.724269</td>\n",
       "      <td>0.462979</td>\n",
       "      <td>0.095436</td>\n",
       "      <td>0.274237</td>\n",
       "      <td>0.729154</td>\n",
       "    </tr>\n",
       "    <tr>\n",
       "      <th>6</th>\n",
       "      <td>0.303102</td>\n",
       "      <td>0.064725</td>\n",
       "      <td>0.636197</td>\n",
       "      <td>0.849083</td>\n",
       "      <td>0.833078</td>\n",
       "      <td>0.238570</td>\n",
       "      <td>0.407689</td>\n",
       "      <td>0.387579</td>\n",
       "      <td>0.529498</td>\n",
       "      <td>0.249948</td>\n",
       "    </tr>\n",
       "    <tr>\n",
       "      <th>7</th>\n",
       "      <td>0.539710</td>\n",
       "      <td>0.820953</td>\n",
       "      <td>0.948961</td>\n",
       "      <td>0.014011</td>\n",
       "      <td>0.287279</td>\n",
       "      <td>0.641474</td>\n",
       "      <td>0.211330</td>\n",
       "      <td>0.125545</td>\n",
       "      <td>0.292839</td>\n",
       "      <td>0.579022</td>\n",
       "    </tr>\n",
       "    <tr>\n",
       "      <th>8</th>\n",
       "      <td>0.681023</td>\n",
       "      <td>0.086528</td>\n",
       "      <td>0.627256</td>\n",
       "      <td>0.515231</td>\n",
       "      <td>0.024561</td>\n",
       "      <td>0.873862</td>\n",
       "      <td>0.853495</td>\n",
       "      <td>0.530642</td>\n",
       "      <td>0.988043</td>\n",
       "      <td>0.088962</td>\n",
       "    </tr>\n",
       "    <tr>\n",
       "      <th>9</th>\n",
       "      <td>0.321328</td>\n",
       "      <td>0.420118</td>\n",
       "      <td>0.554559</td>\n",
       "      <td>0.882395</td>\n",
       "      <td>0.328533</td>\n",
       "      <td>0.267884</td>\n",
       "      <td>0.111154</td>\n",
       "      <td>0.953423</td>\n",
       "      <td>0.617886</td>\n",
       "      <td>0.871693</td>\n",
       "    </tr>\n",
       "  </tbody>\n",
       "</table>\n",
       "</div>"
      ],
      "text/plain": [
       "          0         1         2         3         4         5         6  \\\n",
       "0  0.824246  0.146071  0.154539  0.198782  0.232497  0.117879  0.152924   \n",
       "1  0.260525  0.727276  0.573317  0.832089  0.192792  0.724269  0.462979   \n",
       "6  0.303102  0.064725  0.636197  0.849083  0.833078  0.238570  0.407689   \n",
       "7  0.539710  0.820953  0.948961  0.014011  0.287279  0.641474  0.211330   \n",
       "8  0.681023  0.086528  0.627256  0.515231  0.024561  0.873862  0.853495   \n",
       "9  0.321328  0.420118  0.554559  0.882395  0.328533  0.267884  0.111154   \n",
       "\n",
       "          7         8         9  \n",
       "0  0.045520  0.503447  0.167155  \n",
       "1  0.095436  0.274237  0.729154  \n",
       "6  0.387579  0.529498  0.249948  \n",
       "7  0.125545  0.292839  0.579022  \n",
       "8  0.530642  0.988043  0.088962  \n",
       "9  0.953423  0.617886  0.871693  "
      ]
     },
     "execution_count": 69,
     "metadata": {},
     "output_type": "execute_result"
    }
   ],
   "source": [
    "d2.drop(d2.index[2],inplace=True)\n",
    "d2"
   ]
  },
  {
   "cell_type": "code",
   "execution_count": 74,
   "metadata": {},
   "outputs": [
    {
     "data": {
      "text/html": [
       "<div>\n",
       "<style scoped>\n",
       "    .dataframe tbody tr th:only-of-type {\n",
       "        vertical-align: middle;\n",
       "    }\n",
       "\n",
       "    .dataframe tbody tr th {\n",
       "        vertical-align: top;\n",
       "    }\n",
       "\n",
       "    .dataframe thead th {\n",
       "        text-align: right;\n",
       "    }\n",
       "</style>\n",
       "<table border=\"1\" class=\"dataframe\">\n",
       "  <thead>\n",
       "    <tr style=\"text-align: right;\">\n",
       "      <th></th>\n",
       "      <th>0</th>\n",
       "      <th>1</th>\n",
       "      <th>2</th>\n",
       "      <th>3</th>\n",
       "      <th>4</th>\n",
       "      <th>5</th>\n",
       "      <th>6</th>\n",
       "      <th>7</th>\n",
       "      <th>8</th>\n",
       "      <th>9</th>\n",
       "    </tr>\n",
       "  </thead>\n",
       "  <tbody>\n",
       "    <tr>\n",
       "      <th>0</th>\n",
       "      <td>0.824246</td>\n",
       "      <td>0.146071</td>\n",
       "      <td>0.154539</td>\n",
       "      <td>0.198782</td>\n",
       "      <td>0.232497</td>\n",
       "      <td>0.117879</td>\n",
       "      <td>0.152924</td>\n",
       "      <td>0.045520</td>\n",
       "      <td>0.503447</td>\n",
       "      <td>0.167155</td>\n",
       "    </tr>\n",
       "    <tr>\n",
       "      <th>6</th>\n",
       "      <td>0.303102</td>\n",
       "      <td>0.064725</td>\n",
       "      <td>0.636197</td>\n",
       "      <td>0.849083</td>\n",
       "      <td>0.833078</td>\n",
       "      <td>0.238570</td>\n",
       "      <td>0.407689</td>\n",
       "      <td>0.387579</td>\n",
       "      <td>0.529498</td>\n",
       "      <td>0.249948</td>\n",
       "    </tr>\n",
       "    <tr>\n",
       "      <th>7</th>\n",
       "      <td>0.539710</td>\n",
       "      <td>0.820953</td>\n",
       "      <td>0.948961</td>\n",
       "      <td>0.014011</td>\n",
       "      <td>0.287279</td>\n",
       "      <td>0.641474</td>\n",
       "      <td>0.211330</td>\n",
       "      <td>0.125545</td>\n",
       "      <td>0.292839</td>\n",
       "      <td>0.579022</td>\n",
       "    </tr>\n",
       "    <tr>\n",
       "      <th>8</th>\n",
       "      <td>0.681023</td>\n",
       "      <td>0.086528</td>\n",
       "      <td>0.627256</td>\n",
       "      <td>0.515231</td>\n",
       "      <td>0.024561</td>\n",
       "      <td>0.873862</td>\n",
       "      <td>0.853495</td>\n",
       "      <td>0.530642</td>\n",
       "      <td>0.988043</td>\n",
       "      <td>0.088962</td>\n",
       "    </tr>\n",
       "    <tr>\n",
       "      <th>9</th>\n",
       "      <td>0.321328</td>\n",
       "      <td>0.420118</td>\n",
       "      <td>0.554559</td>\n",
       "      <td>0.882395</td>\n",
       "      <td>0.328533</td>\n",
       "      <td>0.267884</td>\n",
       "      <td>0.111154</td>\n",
       "      <td>0.953423</td>\n",
       "      <td>0.617886</td>\n",
       "      <td>0.871693</td>\n",
       "    </tr>\n",
       "  </tbody>\n",
       "</table>\n",
       "</div>"
      ],
      "text/plain": [
       "          0         1         2         3         4         5         6  \\\n",
       "0  0.824246  0.146071  0.154539  0.198782  0.232497  0.117879  0.152924   \n",
       "6  0.303102  0.064725  0.636197  0.849083  0.833078  0.238570  0.407689   \n",
       "7  0.539710  0.820953  0.948961  0.014011  0.287279  0.641474  0.211330   \n",
       "8  0.681023  0.086528  0.627256  0.515231  0.024561  0.873862  0.853495   \n",
       "9  0.321328  0.420118  0.554559  0.882395  0.328533  0.267884  0.111154   \n",
       "\n",
       "          7         8         9  \n",
       "0  0.045520  0.503447  0.167155  \n",
       "6  0.387579  0.529498  0.249948  \n",
       "7  0.125545  0.292839  0.579022  \n",
       "8  0.530642  0.988043  0.088962  \n",
       "9  0.953423  0.617886  0.871693  "
      ]
     },
     "execution_count": 74,
     "metadata": {},
     "output_type": "execute_result"
    }
   ],
   "source": [
    "d2.drop(d2.index[1],inplace=True)\n",
    "d2"
   ]
  },
  {
   "cell_type": "code",
   "execution_count": 75,
   "metadata": {},
   "outputs": [
    {
     "data": {
      "text/html": [
       "<div>\n",
       "<style scoped>\n",
       "    .dataframe tbody tr th:only-of-type {\n",
       "        vertical-align: middle;\n",
       "    }\n",
       "\n",
       "    .dataframe tbody tr th {\n",
       "        vertical-align: top;\n",
       "    }\n",
       "\n",
       "    .dataframe thead th {\n",
       "        text-align: right;\n",
       "    }\n",
       "</style>\n",
       "<table border=\"1\" class=\"dataframe\">\n",
       "  <thead>\n",
       "    <tr style=\"text-align: right;\">\n",
       "      <th></th>\n",
       "      <th>0</th>\n",
       "      <th>1</th>\n",
       "      <th>2</th>\n",
       "      <th>3</th>\n",
       "      <th>4</th>\n",
       "      <th>5</th>\n",
       "      <th>6</th>\n",
       "      <th>7</th>\n",
       "      <th>8</th>\n",
       "      <th>9</th>\n",
       "    </tr>\n",
       "  </thead>\n",
       "  <tbody>\n",
       "    <tr>\n",
       "      <th>7</th>\n",
       "      <td>0.539710</td>\n",
       "      <td>0.820953</td>\n",
       "      <td>0.948961</td>\n",
       "      <td>0.014011</td>\n",
       "      <td>0.287279</td>\n",
       "      <td>0.641474</td>\n",
       "      <td>0.211330</td>\n",
       "      <td>0.125545</td>\n",
       "      <td>0.292839</td>\n",
       "      <td>0.579022</td>\n",
       "    </tr>\n",
       "    <tr>\n",
       "      <th>8</th>\n",
       "      <td>0.681023</td>\n",
       "      <td>0.086528</td>\n",
       "      <td>0.627256</td>\n",
       "      <td>0.515231</td>\n",
       "      <td>0.024561</td>\n",
       "      <td>0.873862</td>\n",
       "      <td>0.853495</td>\n",
       "      <td>0.530642</td>\n",
       "      <td>0.988043</td>\n",
       "      <td>0.088962</td>\n",
       "    </tr>\n",
       "    <tr>\n",
       "      <th>9</th>\n",
       "      <td>0.321328</td>\n",
       "      <td>0.420118</td>\n",
       "      <td>0.554559</td>\n",
       "      <td>0.882395</td>\n",
       "      <td>0.328533</td>\n",
       "      <td>0.267884</td>\n",
       "      <td>0.111154</td>\n",
       "      <td>0.953423</td>\n",
       "      <td>0.617886</td>\n",
       "      <td>0.871693</td>\n",
       "    </tr>\n",
       "  </tbody>\n",
       "</table>\n",
       "</div>"
      ],
      "text/plain": [
       "          0         1         2         3         4         5         6  \\\n",
       "7  0.539710  0.820953  0.948961  0.014011  0.287279  0.641474  0.211330   \n",
       "8  0.681023  0.086528  0.627256  0.515231  0.024561  0.873862  0.853495   \n",
       "9  0.321328  0.420118  0.554559  0.882395  0.328533  0.267884  0.111154   \n",
       "\n",
       "          7         8         9  \n",
       "7  0.125545  0.292839  0.579022  \n",
       "8  0.530642  0.988043  0.088962  \n",
       "9  0.953423  0.617886  0.871693  "
      ]
     },
     "execution_count": 75,
     "metadata": {},
     "output_type": "execute_result"
    }
   ],
   "source": [
    "#delete first two rows\n",
    "d2=d2.iloc[2:,]\n",
    "d2"
   ]
  },
  {
   "cell_type": "code",
   "execution_count": 76,
   "metadata": {},
   "outputs": [
    {
     "data": {
      "text/html": [
       "<div>\n",
       "<style scoped>\n",
       "    .dataframe tbody tr th:only-of-type {\n",
       "        vertical-align: middle;\n",
       "    }\n",
       "\n",
       "    .dataframe tbody tr th {\n",
       "        vertical-align: top;\n",
       "    }\n",
       "\n",
       "    .dataframe thead th {\n",
       "        text-align: right;\n",
       "    }\n",
       "</style>\n",
       "<table border=\"1\" class=\"dataframe\">\n",
       "  <thead>\n",
       "    <tr style=\"text-align: right;\">\n",
       "      <th></th>\n",
       "      <th>0</th>\n",
       "      <th>1</th>\n",
       "      <th>2</th>\n",
       "      <th>3</th>\n",
       "      <th>4</th>\n",
       "      <th>5</th>\n",
       "      <th>6</th>\n",
       "      <th>7</th>\n",
       "      <th>8</th>\n",
       "      <th>9</th>\n",
       "    </tr>\n",
       "  </thead>\n",
       "  <tbody>\n",
       "    <tr>\n",
       "      <th>7</th>\n",
       "      <td>0.53971</td>\n",
       "      <td>0.820953</td>\n",
       "      <td>0.948961</td>\n",
       "      <td>0.014011</td>\n",
       "      <td>0.287279</td>\n",
       "      <td>0.641474</td>\n",
       "      <td>0.21133</td>\n",
       "      <td>0.125545</td>\n",
       "      <td>0.292839</td>\n",
       "      <td>0.579022</td>\n",
       "    </tr>\n",
       "  </tbody>\n",
       "</table>\n",
       "</div>"
      ],
      "text/plain": [
       "         0         1         2         3         4         5        6  \\\n",
       "7  0.53971  0.820953  0.948961  0.014011  0.287279  0.641474  0.21133   \n",
       "\n",
       "          7         8         9  \n",
       "7  0.125545  0.292839  0.579022  "
      ]
     },
     "execution_count": 76,
     "metadata": {},
     "output_type": "execute_result"
    }
   ],
   "source": [
    "#delete last two rows\n",
    "d2=d2.iloc[:-2,]\n",
    "d2"
   ]
  },
  {
   "cell_type": "markdown",
   "metadata": {},
   "source": [
    "# Data selection "
   ]
  },
  {
   "cell_type": "code",
   "execution_count": 77,
   "metadata": {},
   "outputs": [
    {
     "data": {
      "text/html": [
       "<div>\n",
       "<style scoped>\n",
       "    .dataframe tbody tr th:only-of-type {\n",
       "        vertical-align: middle;\n",
       "    }\n",
       "\n",
       "    .dataframe tbody tr th {\n",
       "        vertical-align: top;\n",
       "    }\n",
       "\n",
       "    .dataframe thead th {\n",
       "        text-align: right;\n",
       "    }\n",
       "</style>\n",
       "<table border=\"1\" class=\"dataframe\">\n",
       "  <thead>\n",
       "    <tr style=\"text-align: right;\">\n",
       "      <th></th>\n",
       "      <th>ID</th>\n",
       "      <th>name</th>\n",
       "    </tr>\n",
       "  </thead>\n",
       "  <tbody>\n",
       "    <tr>\n",
       "      <th>0</th>\n",
       "      <td>1</td>\n",
       "      <td>divya</td>\n",
       "    </tr>\n",
       "    <tr>\n",
       "      <th>1</th>\n",
       "      <td>2</td>\n",
       "      <td>karan</td>\n",
       "    </tr>\n",
       "    <tr>\n",
       "      <th>2</th>\n",
       "      <td>3</td>\n",
       "      <td>jyoti</td>\n",
       "    </tr>\n",
       "    <tr>\n",
       "      <th>3</th>\n",
       "      <td>4</td>\n",
       "      <td>kirti</td>\n",
       "    </tr>\n",
       "  </tbody>\n",
       "</table>\n",
       "</div>"
      ],
      "text/plain": [
       "   ID   name\n",
       "0   1  divya\n",
       "1   2  karan\n",
       "2   3  jyoti\n",
       "3   4  kirti"
      ]
     },
     "execution_count": 77,
     "metadata": {},
     "output_type": "execute_result"
    }
   ],
   "source": [
    "d1=pd.DataFrame({'ID':[1,2,3,4],\"name\":['divya','karan','jyoti','kirti']})\n",
    "d1"
   ]
  },
  {
   "cell_type": "code",
   "execution_count": 78,
   "metadata": {},
   "outputs": [
    {
     "data": {
      "text/html": [
       "<div>\n",
       "<style scoped>\n",
       "    .dataframe tbody tr th:only-of-type {\n",
       "        vertical-align: middle;\n",
       "    }\n",
       "\n",
       "    .dataframe tbody tr th {\n",
       "        vertical-align: top;\n",
       "    }\n",
       "\n",
       "    .dataframe thead th {\n",
       "        text-align: right;\n",
       "    }\n",
       "</style>\n",
       "<table border=\"1\" class=\"dataframe\">\n",
       "  <thead>\n",
       "    <tr style=\"text-align: right;\">\n",
       "      <th></th>\n",
       "      <th>ID</th>\n",
       "      <th>name</th>\n",
       "    </tr>\n",
       "  </thead>\n",
       "  <tbody>\n",
       "    <tr>\n",
       "      <th>1</th>\n",
       "      <td>1</td>\n",
       "      <td>divya</td>\n",
       "    </tr>\n",
       "    <tr>\n",
       "      <th>2</th>\n",
       "      <td>2</td>\n",
       "      <td>karan</td>\n",
       "    </tr>\n",
       "    <tr>\n",
       "      <th>3</th>\n",
       "      <td>3</td>\n",
       "      <td>jyoti</td>\n",
       "    </tr>\n",
       "    <tr>\n",
       "      <th>4</th>\n",
       "      <td>4</td>\n",
       "      <td>kirti</td>\n",
       "    </tr>\n",
       "  </tbody>\n",
       "</table>\n",
       "</div>"
      ],
      "text/plain": [
       "   ID   name\n",
       "1   1  divya\n",
       "2   2  karan\n",
       "3   3  jyoti\n",
       "4   4  kirti"
      ]
     },
     "execution_count": 78,
     "metadata": {},
     "output_type": "execute_result"
    }
   ],
   "source": [
    "d1.index=[1,2,3,4]\n",
    "d1"
   ]
  },
  {
   "cell_type": "code",
   "execution_count": 79,
   "metadata": {},
   "outputs": [
    {
     "data": {
      "text/plain": [
       "ID          3\n",
       "name    jyoti\n",
       "Name: 3, dtype: object"
      ]
     },
     "execution_count": 79,
     "metadata": {},
     "output_type": "execute_result"
    }
   ],
   "source": [
    "#data selection using row label\n",
    "d1.loc[3]"
   ]
  },
  {
   "cell_type": "code",
   "execution_count": 80,
   "metadata": {},
   "outputs": [
    {
     "data": {
      "text/plain": [
       "ID          2\n",
       "name    karan\n",
       "Name: 2, dtype: object"
      ]
     },
     "execution_count": 80,
     "metadata": {},
     "output_type": "execute_result"
    }
   ],
   "source": [
    "#data selection using position(integer index based)\n",
    "d1.iloc[1]"
   ]
  },
  {
   "cell_type": "code",
   "execution_count": 81,
   "metadata": {},
   "outputs": [
    {
     "data": {
      "text/html": [
       "<div>\n",
       "<style scoped>\n",
       "    .dataframe tbody tr th:only-of-type {\n",
       "        vertical-align: middle;\n",
       "    }\n",
       "\n",
       "    .dataframe tbody tr th {\n",
       "        vertical-align: top;\n",
       "    }\n",
       "\n",
       "    .dataframe thead th {\n",
       "        text-align: right;\n",
       "    }\n",
       "</style>\n",
       "<table border=\"1\" class=\"dataframe\">\n",
       "  <thead>\n",
       "    <tr style=\"text-align: right;\">\n",
       "      <th></th>\n",
       "      <th>ID</th>\n",
       "      <th>name</th>\n",
       "    </tr>\n",
       "  </thead>\n",
       "  <tbody>\n",
       "    <tr>\n",
       "      <th>1</th>\n",
       "      <td>1</td>\n",
       "      <td>divya</td>\n",
       "    </tr>\n",
       "    <tr>\n",
       "      <th>2</th>\n",
       "      <td>2</td>\n",
       "      <td>karan</td>\n",
       "    </tr>\n",
       "  </tbody>\n",
       "</table>\n",
       "</div>"
      ],
      "text/plain": [
       "   ID   name\n",
       "1   1  divya\n",
       "2   2  karan"
      ]
     },
     "execution_count": 81,
     "metadata": {},
     "output_type": "execute_result"
    }
   ],
   "source": [
    "d1.loc[1:2]"
   ]
  },
  {
   "cell_type": "code",
   "execution_count": 82,
   "metadata": {},
   "outputs": [
    {
     "data": {
      "text/html": [
       "<div>\n",
       "<style scoped>\n",
       "    .dataframe tbody tr th:only-of-type {\n",
       "        vertical-align: middle;\n",
       "    }\n",
       "\n",
       "    .dataframe tbody tr th {\n",
       "        vertical-align: top;\n",
       "    }\n",
       "\n",
       "    .dataframe thead th {\n",
       "        text-align: right;\n",
       "    }\n",
       "</style>\n",
       "<table border=\"1\" class=\"dataframe\">\n",
       "  <thead>\n",
       "    <tr style=\"text-align: right;\">\n",
       "      <th></th>\n",
       "      <th>ID</th>\n",
       "      <th>name</th>\n",
       "    </tr>\n",
       "  </thead>\n",
       "  <tbody>\n",
       "    <tr>\n",
       "      <th>2</th>\n",
       "      <td>2</td>\n",
       "      <td>karan</td>\n",
       "    </tr>\n",
       "  </tbody>\n",
       "</table>\n",
       "</div>"
      ],
      "text/plain": [
       "   ID   name\n",
       "2   2  karan"
      ]
     },
     "execution_count": 82,
     "metadata": {},
     "output_type": "execute_result"
    }
   ],
   "source": [
    "d1.iloc[1:2]"
   ]
  },
  {
   "cell_type": "code",
   "execution_count": 83,
   "metadata": {},
   "outputs": [
    {
     "data": {
      "text/html": [
       "<div>\n",
       "<style scoped>\n",
       "    .dataframe tbody tr th:only-of-type {\n",
       "        vertical-align: middle;\n",
       "    }\n",
       "\n",
       "    .dataframe tbody tr th {\n",
       "        vertical-align: top;\n",
       "    }\n",
       "\n",
       "    .dataframe thead th {\n",
       "        text-align: right;\n",
       "    }\n",
       "</style>\n",
       "<table border=\"1\" class=\"dataframe\">\n",
       "  <thead>\n",
       "    <tr style=\"text-align: right;\">\n",
       "      <th></th>\n",
       "      <th>ID</th>\n",
       "      <th>name</th>\n",
       "    </tr>\n",
       "  </thead>\n",
       "  <tbody>\n",
       "    <tr>\n",
       "      <th>3</th>\n",
       "      <td>3</td>\n",
       "      <td>jyoti</td>\n",
       "    </tr>\n",
       "    <tr>\n",
       "      <th>4</th>\n",
       "      <td>4</td>\n",
       "      <td>kirti</td>\n",
       "    </tr>\n",
       "  </tbody>\n",
       "</table>\n",
       "</div>"
      ],
      "text/plain": [
       "   ID   name\n",
       "3   3  jyoti\n",
       "4   4  kirti"
      ]
     },
     "execution_count": 83,
     "metadata": {},
     "output_type": "execute_result"
    }
   ],
   "source": [
    "d1.loc[d1.ID>2]"
   ]
  },
  {
   "cell_type": "markdown",
   "metadata": {},
   "source": [
    "# set value"
   ]
  },
  {
   "cell_type": "code",
   "execution_count": 3,
   "metadata": {},
   "outputs": [
    {
     "data": {
      "text/html": [
       "<div>\n",
       "<style scoped>\n",
       "    .dataframe tbody tr th:only-of-type {\n",
       "        vertical-align: middle;\n",
       "    }\n",
       "\n",
       "    .dataframe tbody tr th {\n",
       "        vertical-align: top;\n",
       "    }\n",
       "\n",
       "    .dataframe thead th {\n",
       "        text-align: right;\n",
       "    }\n",
       "</style>\n",
       "<table border=\"1\" class=\"dataframe\">\n",
       "  <thead>\n",
       "    <tr style=\"text-align: right;\">\n",
       "      <th></th>\n",
       "      <th>0</th>\n",
       "      <th>1</th>\n",
       "      <th>2</th>\n",
       "      <th>3</th>\n",
       "      <th>4</th>\n",
       "      <th>5</th>\n",
       "      <th>6</th>\n",
       "    </tr>\n",
       "  </thead>\n",
       "  <tbody>\n",
       "    <tr>\n",
       "      <th>0</th>\n",
       "      <td>0.566416</td>\n",
       "      <td>0.166861</td>\n",
       "      <td>0.297047</td>\n",
       "      <td>0.921063</td>\n",
       "      <td>0.239963</td>\n",
       "      <td>0.837217</td>\n",
       "      <td>0.030350</td>\n",
       "    </tr>\n",
       "    <tr>\n",
       "      <th>1</th>\n",
       "      <td>0.580461</td>\n",
       "      <td>0.835640</td>\n",
       "      <td>0.997314</td>\n",
       "      <td>0.857705</td>\n",
       "      <td>0.836288</td>\n",
       "      <td>0.135377</td>\n",
       "      <td>0.307863</td>\n",
       "    </tr>\n",
       "    <tr>\n",
       "      <th>2</th>\n",
       "      <td>0.009246</td>\n",
       "      <td>0.540716</td>\n",
       "      <td>0.918060</td>\n",
       "      <td>0.621360</td>\n",
       "      <td>0.180304</td>\n",
       "      <td>0.509460</td>\n",
       "      <td>0.992327</td>\n",
       "    </tr>\n",
       "    <tr>\n",
       "      <th>3</th>\n",
       "      <td>0.477894</td>\n",
       "      <td>0.716285</td>\n",
       "      <td>0.784014</td>\n",
       "      <td>0.079025</td>\n",
       "      <td>0.878258</td>\n",
       "      <td>0.068715</td>\n",
       "      <td>0.625434</td>\n",
       "    </tr>\n",
       "    <tr>\n",
       "      <th>4</th>\n",
       "      <td>0.530046</td>\n",
       "      <td>0.613213</td>\n",
       "      <td>0.392253</td>\n",
       "      <td>0.807790</td>\n",
       "      <td>0.709655</td>\n",
       "      <td>0.542631</td>\n",
       "      <td>0.373644</td>\n",
       "    </tr>\n",
       "    <tr>\n",
       "      <th>5</th>\n",
       "      <td>0.255070</td>\n",
       "      <td>0.170884</td>\n",
       "      <td>0.505359</td>\n",
       "      <td>0.357064</td>\n",
       "      <td>0.362848</td>\n",
       "      <td>0.447980</td>\n",
       "      <td>0.943366</td>\n",
       "    </tr>\n",
       "    <tr>\n",
       "      <th>6</th>\n",
       "      <td>0.769560</td>\n",
       "      <td>0.425551</td>\n",
       "      <td>0.859313</td>\n",
       "      <td>0.621424</td>\n",
       "      <td>0.223867</td>\n",
       "      <td>0.820559</td>\n",
       "      <td>0.075064</td>\n",
       "    </tr>\n",
       "  </tbody>\n",
       "</table>\n",
       "</div>"
      ],
      "text/plain": [
       "          0         1         2         3         4         5         6\n",
       "0  0.566416  0.166861  0.297047  0.921063  0.239963  0.837217  0.030350\n",
       "1  0.580461  0.835640  0.997314  0.857705  0.836288  0.135377  0.307863\n",
       "2  0.009246  0.540716  0.918060  0.621360  0.180304  0.509460  0.992327\n",
       "3  0.477894  0.716285  0.784014  0.079025  0.878258  0.068715  0.625434\n",
       "4  0.530046  0.613213  0.392253  0.807790  0.709655  0.542631  0.373644\n",
       "5  0.255070  0.170884  0.505359  0.357064  0.362848  0.447980  0.943366\n",
       "6  0.769560  0.425551  0.859313  0.621424  0.223867  0.820559  0.075064"
      ]
     },
     "execution_count": 3,
     "metadata": {},
     "output_type": "execute_result"
    }
   ],
   "source": [
    "date3=pd.date_range(start='2021-01-25',periods=7)\n",
    "date3\n",
    "r=np.random.random((7,7))\n",
    "r\n",
    "d2=pd.DataFrame(r)\n",
    "d2"
   ]
  },
  {
   "cell_type": "code",
   "execution_count": 4,
   "metadata": {},
   "outputs": [
    {
     "data": {
      "text/html": [
       "<div>\n",
       "<style scoped>\n",
       "    .dataframe tbody tr th:only-of-type {\n",
       "        vertical-align: middle;\n",
       "    }\n",
       "\n",
       "    .dataframe tbody tr th {\n",
       "        vertical-align: top;\n",
       "    }\n",
       "\n",
       "    .dataframe thead th {\n",
       "        text-align: right;\n",
       "    }\n",
       "</style>\n",
       "<table border=\"1\" class=\"dataframe\">\n",
       "  <thead>\n",
       "    <tr style=\"text-align: right;\">\n",
       "      <th></th>\n",
       "      <th>0</th>\n",
       "      <th>1</th>\n",
       "      <th>2</th>\n",
       "      <th>3</th>\n",
       "      <th>4</th>\n",
       "      <th>5</th>\n",
       "      <th>6</th>\n",
       "    </tr>\n",
       "  </thead>\n",
       "  <tbody>\n",
       "    <tr>\n",
       "      <th>2021-01-25</th>\n",
       "      <td>0.566416</td>\n",
       "      <td>0.166861</td>\n",
       "      <td>0.297047</td>\n",
       "      <td>0.921063</td>\n",
       "      <td>0.239963</td>\n",
       "      <td>0.837217</td>\n",
       "      <td>0.030350</td>\n",
       "    </tr>\n",
       "    <tr>\n",
       "      <th>2021-01-26</th>\n",
       "      <td>0.580461</td>\n",
       "      <td>0.835640</td>\n",
       "      <td>0.997314</td>\n",
       "      <td>0.857705</td>\n",
       "      <td>0.836288</td>\n",
       "      <td>0.135377</td>\n",
       "      <td>0.307863</td>\n",
       "    </tr>\n",
       "    <tr>\n",
       "      <th>2021-01-27</th>\n",
       "      <td>0.009246</td>\n",
       "      <td>0.540716</td>\n",
       "      <td>0.918060</td>\n",
       "      <td>0.621360</td>\n",
       "      <td>0.180304</td>\n",
       "      <td>0.509460</td>\n",
       "      <td>0.992327</td>\n",
       "    </tr>\n",
       "    <tr>\n",
       "      <th>2021-01-28</th>\n",
       "      <td>0.477894</td>\n",
       "      <td>0.716285</td>\n",
       "      <td>0.784014</td>\n",
       "      <td>0.079025</td>\n",
       "      <td>0.878258</td>\n",
       "      <td>0.068715</td>\n",
       "      <td>0.625434</td>\n",
       "    </tr>\n",
       "    <tr>\n",
       "      <th>2021-01-29</th>\n",
       "      <td>0.530046</td>\n",
       "      <td>0.613213</td>\n",
       "      <td>0.392253</td>\n",
       "      <td>0.807790</td>\n",
       "      <td>0.709655</td>\n",
       "      <td>0.542631</td>\n",
       "      <td>0.373644</td>\n",
       "    </tr>\n",
       "    <tr>\n",
       "      <th>2021-01-30</th>\n",
       "      <td>0.255070</td>\n",
       "      <td>0.170884</td>\n",
       "      <td>0.505359</td>\n",
       "      <td>0.357064</td>\n",
       "      <td>0.362848</td>\n",
       "      <td>0.447980</td>\n",
       "      <td>0.943366</td>\n",
       "    </tr>\n",
       "    <tr>\n",
       "      <th>2021-01-31</th>\n",
       "      <td>0.769560</td>\n",
       "      <td>0.425551</td>\n",
       "      <td>0.859313</td>\n",
       "      <td>0.621424</td>\n",
       "      <td>0.223867</td>\n",
       "      <td>0.820559</td>\n",
       "      <td>0.075064</td>\n",
       "    </tr>\n",
       "  </tbody>\n",
       "</table>\n",
       "</div>"
      ],
      "text/plain": [
       "                   0         1         2         3         4         5  \\\n",
       "2021-01-25  0.566416  0.166861  0.297047  0.921063  0.239963  0.837217   \n",
       "2021-01-26  0.580461  0.835640  0.997314  0.857705  0.836288  0.135377   \n",
       "2021-01-27  0.009246  0.540716  0.918060  0.621360  0.180304  0.509460   \n",
       "2021-01-28  0.477894  0.716285  0.784014  0.079025  0.878258  0.068715   \n",
       "2021-01-29  0.530046  0.613213  0.392253  0.807790  0.709655  0.542631   \n",
       "2021-01-30  0.255070  0.170884  0.505359  0.357064  0.362848  0.447980   \n",
       "2021-01-31  0.769560  0.425551  0.859313  0.621424  0.223867  0.820559   \n",
       "\n",
       "                   6  \n",
       "2021-01-25  0.030350  \n",
       "2021-01-26  0.307863  \n",
       "2021-01-27  0.992327  \n",
       "2021-01-28  0.625434  \n",
       "2021-01-29  0.373644  \n",
       "2021-01-30  0.943366  \n",
       "2021-01-31  0.075064  "
      ]
     },
     "execution_count": 4,
     "metadata": {},
     "output_type": "execute_result"
    }
   ],
   "source": [
    "d2=pd.DataFrame(r,date3)\n",
    "d2"
   ]
  },
  {
   "cell_type": "code",
   "execution_count": 5,
   "metadata": {},
   "outputs": [
    {
     "data": {
      "text/html": [
       "<div>\n",
       "<style scoped>\n",
       "    .dataframe tbody tr th:only-of-type {\n",
       "        vertical-align: middle;\n",
       "    }\n",
       "\n",
       "    .dataframe tbody tr th {\n",
       "        vertical-align: top;\n",
       "    }\n",
       "\n",
       "    .dataframe thead th {\n",
       "        text-align: right;\n",
       "    }\n",
       "</style>\n",
       "<table border=\"1\" class=\"dataframe\">\n",
       "  <thead>\n",
       "    <tr style=\"text-align: right;\">\n",
       "      <th></th>\n",
       "      <th>A</th>\n",
       "      <th>B</th>\n",
       "      <th>C</th>\n",
       "      <th>D</th>\n",
       "      <th>E</th>\n",
       "      <th>F</th>\n",
       "      <th>G</th>\n",
       "    </tr>\n",
       "  </thead>\n",
       "  <tbody>\n",
       "    <tr>\n",
       "      <th>2021-01-25</th>\n",
       "      <td>0.566416</td>\n",
       "      <td>0.166861</td>\n",
       "      <td>0.297047</td>\n",
       "      <td>0.921063</td>\n",
       "      <td>0.239963</td>\n",
       "      <td>0.837217</td>\n",
       "      <td>0.030350</td>\n",
       "    </tr>\n",
       "    <tr>\n",
       "      <th>2021-01-26</th>\n",
       "      <td>0.580461</td>\n",
       "      <td>0.835640</td>\n",
       "      <td>0.997314</td>\n",
       "      <td>0.857705</td>\n",
       "      <td>0.836288</td>\n",
       "      <td>0.135377</td>\n",
       "      <td>0.307863</td>\n",
       "    </tr>\n",
       "    <tr>\n",
       "      <th>2021-01-27</th>\n",
       "      <td>0.009246</td>\n",
       "      <td>0.540716</td>\n",
       "      <td>0.918060</td>\n",
       "      <td>0.621360</td>\n",
       "      <td>0.180304</td>\n",
       "      <td>0.509460</td>\n",
       "      <td>0.992327</td>\n",
       "    </tr>\n",
       "    <tr>\n",
       "      <th>2021-01-28</th>\n",
       "      <td>0.477894</td>\n",
       "      <td>0.716285</td>\n",
       "      <td>0.784014</td>\n",
       "      <td>0.079025</td>\n",
       "      <td>0.878258</td>\n",
       "      <td>0.068715</td>\n",
       "      <td>0.625434</td>\n",
       "    </tr>\n",
       "    <tr>\n",
       "      <th>2021-01-29</th>\n",
       "      <td>0.530046</td>\n",
       "      <td>0.613213</td>\n",
       "      <td>0.392253</td>\n",
       "      <td>0.807790</td>\n",
       "      <td>0.709655</td>\n",
       "      <td>0.542631</td>\n",
       "      <td>0.373644</td>\n",
       "    </tr>\n",
       "    <tr>\n",
       "      <th>2021-01-30</th>\n",
       "      <td>0.255070</td>\n",
       "      <td>0.170884</td>\n",
       "      <td>0.505359</td>\n",
       "      <td>0.357064</td>\n",
       "      <td>0.362848</td>\n",
       "      <td>0.447980</td>\n",
       "      <td>0.943366</td>\n",
       "    </tr>\n",
       "    <tr>\n",
       "      <th>2021-01-31</th>\n",
       "      <td>0.769560</td>\n",
       "      <td>0.425551</td>\n",
       "      <td>0.859313</td>\n",
       "      <td>0.621424</td>\n",
       "      <td>0.223867</td>\n",
       "      <td>0.820559</td>\n",
       "      <td>0.075064</td>\n",
       "    </tr>\n",
       "  </tbody>\n",
       "</table>\n",
       "</div>"
      ],
      "text/plain": [
       "                   A         B         C         D         E         F  \\\n",
       "2021-01-25  0.566416  0.166861  0.297047  0.921063  0.239963  0.837217   \n",
       "2021-01-26  0.580461  0.835640  0.997314  0.857705  0.836288  0.135377   \n",
       "2021-01-27  0.009246  0.540716  0.918060  0.621360  0.180304  0.509460   \n",
       "2021-01-28  0.477894  0.716285  0.784014  0.079025  0.878258  0.068715   \n",
       "2021-01-29  0.530046  0.613213  0.392253  0.807790  0.709655  0.542631   \n",
       "2021-01-30  0.255070  0.170884  0.505359  0.357064  0.362848  0.447980   \n",
       "2021-01-31  0.769560  0.425551  0.859313  0.621424  0.223867  0.820559   \n",
       "\n",
       "                   G  \n",
       "2021-01-25  0.030350  \n",
       "2021-01-26  0.307863  \n",
       "2021-01-27  0.992327  \n",
       "2021-01-28  0.625434  \n",
       "2021-01-29  0.373644  \n",
       "2021-01-30  0.943366  \n",
       "2021-01-31  0.075064  "
      ]
     },
     "execution_count": 5,
     "metadata": {},
     "output_type": "execute_result"
    }
   ],
   "source": [
    "d2.columns=['A','B','C','D','E','F','G']\n",
    "d2"
   ]
  },
  {
   "cell_type": "code",
   "execution_count": 6,
   "metadata": {},
   "outputs": [],
   "source": [
    "d2.at[0:3,'C']=90"
   ]
  },
  {
   "cell_type": "code",
   "execution_count": 7,
   "metadata": {},
   "outputs": [
    {
     "data": {
      "text/html": [
       "<div>\n",
       "<style scoped>\n",
       "    .dataframe tbody tr th:only-of-type {\n",
       "        vertical-align: middle;\n",
       "    }\n",
       "\n",
       "    .dataframe tbody tr th {\n",
       "        vertical-align: top;\n",
       "    }\n",
       "\n",
       "    .dataframe thead th {\n",
       "        text-align: right;\n",
       "    }\n",
       "</style>\n",
       "<table border=\"1\" class=\"dataframe\">\n",
       "  <thead>\n",
       "    <tr style=\"text-align: right;\">\n",
       "      <th></th>\n",
       "      <th>A</th>\n",
       "      <th>B</th>\n",
       "      <th>C</th>\n",
       "      <th>D</th>\n",
       "      <th>E</th>\n",
       "      <th>F</th>\n",
       "      <th>G</th>\n",
       "    </tr>\n",
       "  </thead>\n",
       "  <tbody>\n",
       "    <tr>\n",
       "      <th>2021-01-25</th>\n",
       "      <td>0.566416</td>\n",
       "      <td>0.166861</td>\n",
       "      <td>90.000000</td>\n",
       "      <td>0.921063</td>\n",
       "      <td>0.239963</td>\n",
       "      <td>0.837217</td>\n",
       "      <td>0.030350</td>\n",
       "    </tr>\n",
       "    <tr>\n",
       "      <th>2021-01-26</th>\n",
       "      <td>0.580461</td>\n",
       "      <td>0.835640</td>\n",
       "      <td>90.000000</td>\n",
       "      <td>0.857705</td>\n",
       "      <td>0.836288</td>\n",
       "      <td>0.135377</td>\n",
       "      <td>0.307863</td>\n",
       "    </tr>\n",
       "    <tr>\n",
       "      <th>2021-01-27</th>\n",
       "      <td>0.009246</td>\n",
       "      <td>0.540716</td>\n",
       "      <td>90.000000</td>\n",
       "      <td>0.621360</td>\n",
       "      <td>0.180304</td>\n",
       "      <td>0.509460</td>\n",
       "      <td>0.992327</td>\n",
       "    </tr>\n",
       "    <tr>\n",
       "      <th>2021-01-28</th>\n",
       "      <td>0.477894</td>\n",
       "      <td>0.716285</td>\n",
       "      <td>0.784014</td>\n",
       "      <td>0.079025</td>\n",
       "      <td>0.878258</td>\n",
       "      <td>0.068715</td>\n",
       "      <td>0.625434</td>\n",
       "    </tr>\n",
       "    <tr>\n",
       "      <th>2021-01-29</th>\n",
       "      <td>0.530046</td>\n",
       "      <td>0.613213</td>\n",
       "      <td>0.392253</td>\n",
       "      <td>0.807790</td>\n",
       "      <td>0.709655</td>\n",
       "      <td>0.542631</td>\n",
       "      <td>0.373644</td>\n",
       "    </tr>\n",
       "    <tr>\n",
       "      <th>2021-01-30</th>\n",
       "      <td>0.255070</td>\n",
       "      <td>0.170884</td>\n",
       "      <td>0.505359</td>\n",
       "      <td>0.357064</td>\n",
       "      <td>0.362848</td>\n",
       "      <td>0.447980</td>\n",
       "      <td>0.943366</td>\n",
       "    </tr>\n",
       "    <tr>\n",
       "      <th>2021-01-31</th>\n",
       "      <td>0.769560</td>\n",
       "      <td>0.425551</td>\n",
       "      <td>0.859313</td>\n",
       "      <td>0.621424</td>\n",
       "      <td>0.223867</td>\n",
       "      <td>0.820559</td>\n",
       "      <td>0.075064</td>\n",
       "    </tr>\n",
       "  </tbody>\n",
       "</table>\n",
       "</div>"
      ],
      "text/plain": [
       "                   A         B          C         D         E         F  \\\n",
       "2021-01-25  0.566416  0.166861  90.000000  0.921063  0.239963  0.837217   \n",
       "2021-01-26  0.580461  0.835640  90.000000  0.857705  0.836288  0.135377   \n",
       "2021-01-27  0.009246  0.540716  90.000000  0.621360  0.180304  0.509460   \n",
       "2021-01-28  0.477894  0.716285   0.784014  0.079025  0.878258  0.068715   \n",
       "2021-01-29  0.530046  0.613213   0.392253  0.807790  0.709655  0.542631   \n",
       "2021-01-30  0.255070  0.170884   0.505359  0.357064  0.362848  0.447980   \n",
       "2021-01-31  0.769560  0.425551   0.859313  0.621424  0.223867  0.820559   \n",
       "\n",
       "                   G  \n",
       "2021-01-25  0.030350  \n",
       "2021-01-26  0.307863  \n",
       "2021-01-27  0.992327  \n",
       "2021-01-28  0.625434  \n",
       "2021-01-29  0.373644  \n",
       "2021-01-30  0.943366  \n",
       "2021-01-31  0.075064  "
      ]
     },
     "execution_count": 7,
     "metadata": {},
     "output_type": "execute_result"
    }
   ],
   "source": [
    "d2"
   ]
  },
  {
   "cell_type": "code",
   "execution_count": 8,
   "metadata": {},
   "outputs": [],
   "source": [
    "d2.iat[0,4]=100"
   ]
  },
  {
   "cell_type": "code",
   "execution_count": 9,
   "metadata": {},
   "outputs": [
    {
     "data": {
      "text/html": [
       "<div>\n",
       "<style scoped>\n",
       "    .dataframe tbody tr th:only-of-type {\n",
       "        vertical-align: middle;\n",
       "    }\n",
       "\n",
       "    .dataframe tbody tr th {\n",
       "        vertical-align: top;\n",
       "    }\n",
       "\n",
       "    .dataframe thead th {\n",
       "        text-align: right;\n",
       "    }\n",
       "</style>\n",
       "<table border=\"1\" class=\"dataframe\">\n",
       "  <thead>\n",
       "    <tr style=\"text-align: right;\">\n",
       "      <th></th>\n",
       "      <th>A</th>\n",
       "      <th>B</th>\n",
       "      <th>C</th>\n",
       "      <th>D</th>\n",
       "      <th>E</th>\n",
       "      <th>F</th>\n",
       "      <th>G</th>\n",
       "    </tr>\n",
       "  </thead>\n",
       "  <tbody>\n",
       "    <tr>\n",
       "      <th>2021-01-25</th>\n",
       "      <td>0.566416</td>\n",
       "      <td>0.166861</td>\n",
       "      <td>90.000000</td>\n",
       "      <td>0.921063</td>\n",
       "      <td>100.000000</td>\n",
       "      <td>0.837217</td>\n",
       "      <td>0.030350</td>\n",
       "    </tr>\n",
       "    <tr>\n",
       "      <th>2021-01-26</th>\n",
       "      <td>0.580461</td>\n",
       "      <td>0.835640</td>\n",
       "      <td>90.000000</td>\n",
       "      <td>0.857705</td>\n",
       "      <td>0.836288</td>\n",
       "      <td>0.135377</td>\n",
       "      <td>0.307863</td>\n",
       "    </tr>\n",
       "    <tr>\n",
       "      <th>2021-01-27</th>\n",
       "      <td>0.009246</td>\n",
       "      <td>0.540716</td>\n",
       "      <td>90.000000</td>\n",
       "      <td>0.621360</td>\n",
       "      <td>0.180304</td>\n",
       "      <td>0.509460</td>\n",
       "      <td>0.992327</td>\n",
       "    </tr>\n",
       "    <tr>\n",
       "      <th>2021-01-28</th>\n",
       "      <td>0.477894</td>\n",
       "      <td>0.716285</td>\n",
       "      <td>0.784014</td>\n",
       "      <td>0.079025</td>\n",
       "      <td>0.878258</td>\n",
       "      <td>0.068715</td>\n",
       "      <td>0.625434</td>\n",
       "    </tr>\n",
       "    <tr>\n",
       "      <th>2021-01-29</th>\n",
       "      <td>0.530046</td>\n",
       "      <td>0.613213</td>\n",
       "      <td>0.392253</td>\n",
       "      <td>0.807790</td>\n",
       "      <td>0.709655</td>\n",
       "      <td>0.542631</td>\n",
       "      <td>0.373644</td>\n",
       "    </tr>\n",
       "    <tr>\n",
       "      <th>2021-01-30</th>\n",
       "      <td>0.255070</td>\n",
       "      <td>0.170884</td>\n",
       "      <td>0.505359</td>\n",
       "      <td>0.357064</td>\n",
       "      <td>0.362848</td>\n",
       "      <td>0.447980</td>\n",
       "      <td>0.943366</td>\n",
       "    </tr>\n",
       "    <tr>\n",
       "      <th>2021-01-31</th>\n",
       "      <td>0.769560</td>\n",
       "      <td>0.425551</td>\n",
       "      <td>0.859313</td>\n",
       "      <td>0.621424</td>\n",
       "      <td>0.223867</td>\n",
       "      <td>0.820559</td>\n",
       "      <td>0.075064</td>\n",
       "    </tr>\n",
       "  </tbody>\n",
       "</table>\n",
       "</div>"
      ],
      "text/plain": [
       "                   A         B          C         D           E         F  \\\n",
       "2021-01-25  0.566416  0.166861  90.000000  0.921063  100.000000  0.837217   \n",
       "2021-01-26  0.580461  0.835640  90.000000  0.857705    0.836288  0.135377   \n",
       "2021-01-27  0.009246  0.540716  90.000000  0.621360    0.180304  0.509460   \n",
       "2021-01-28  0.477894  0.716285   0.784014  0.079025    0.878258  0.068715   \n",
       "2021-01-29  0.530046  0.613213   0.392253  0.807790    0.709655  0.542631   \n",
       "2021-01-30  0.255070  0.170884   0.505359  0.357064    0.362848  0.447980   \n",
       "2021-01-31  0.769560  0.425551   0.859313  0.621424    0.223867  0.820559   \n",
       "\n",
       "                   G  \n",
       "2021-01-25  0.030350  \n",
       "2021-01-26  0.307863  \n",
       "2021-01-27  0.992327  \n",
       "2021-01-28  0.625434  \n",
       "2021-01-29  0.373644  \n",
       "2021-01-30  0.943366  \n",
       "2021-01-31  0.075064  "
      ]
     },
     "execution_count": 9,
     "metadata": {},
     "output_type": "execute_result"
    }
   ],
   "source": [
    "d2"
   ]
  },
  {
   "cell_type": "code",
   "execution_count": 10,
   "metadata": {},
   "outputs": [
    {
     "data": {
      "text/html": [
       "<div>\n",
       "<style scoped>\n",
       "    .dataframe tbody tr th:only-of-type {\n",
       "        vertical-align: middle;\n",
       "    }\n",
       "\n",
       "    .dataframe tbody tr th {\n",
       "        vertical-align: top;\n",
       "    }\n",
       "\n",
       "    .dataframe thead th {\n",
       "        text-align: right;\n",
       "    }\n",
       "</style>\n",
       "<table border=\"1\" class=\"dataframe\">\n",
       "  <thead>\n",
       "    <tr style=\"text-align: right;\">\n",
       "      <th></th>\n",
       "      <th>A</th>\n",
       "      <th>B</th>\n",
       "      <th>C</th>\n",
       "      <th>D</th>\n",
       "      <th>E</th>\n",
       "      <th>F</th>\n",
       "      <th>G</th>\n",
       "    </tr>\n",
       "  </thead>\n",
       "  <tbody>\n",
       "    <tr>\n",
       "      <th>2021-01-25</th>\n",
       "      <td>0.566416</td>\n",
       "      <td>0.166861</td>\n",
       "      <td>90.000000</td>\n",
       "      <td>0.921063</td>\n",
       "      <td>88.000000</td>\n",
       "      <td>0.837217</td>\n",
       "      <td>0.030350</td>\n",
       "    </tr>\n",
       "    <tr>\n",
       "      <th>2021-01-26</th>\n",
       "      <td>0.580461</td>\n",
       "      <td>0.835640</td>\n",
       "      <td>90.000000</td>\n",
       "      <td>0.857705</td>\n",
       "      <td>0.836288</td>\n",
       "      <td>0.135377</td>\n",
       "      <td>0.307863</td>\n",
       "    </tr>\n",
       "    <tr>\n",
       "      <th>2021-01-27</th>\n",
       "      <td>0.009246</td>\n",
       "      <td>0.540716</td>\n",
       "      <td>90.000000</td>\n",
       "      <td>0.621360</td>\n",
       "      <td>0.180304</td>\n",
       "      <td>0.509460</td>\n",
       "      <td>0.992327</td>\n",
       "    </tr>\n",
       "    <tr>\n",
       "      <th>2021-01-28</th>\n",
       "      <td>0.477894</td>\n",
       "      <td>0.716285</td>\n",
       "      <td>0.784014</td>\n",
       "      <td>0.079025</td>\n",
       "      <td>0.878258</td>\n",
       "      <td>0.068715</td>\n",
       "      <td>0.625434</td>\n",
       "    </tr>\n",
       "    <tr>\n",
       "      <th>2021-01-29</th>\n",
       "      <td>0.530046</td>\n",
       "      <td>0.613213</td>\n",
       "      <td>0.392253</td>\n",
       "      <td>0.807790</td>\n",
       "      <td>0.709655</td>\n",
       "      <td>0.542631</td>\n",
       "      <td>0.373644</td>\n",
       "    </tr>\n",
       "    <tr>\n",
       "      <th>2021-01-30</th>\n",
       "      <td>0.255070</td>\n",
       "      <td>0.170884</td>\n",
       "      <td>0.505359</td>\n",
       "      <td>0.357064</td>\n",
       "      <td>0.362848</td>\n",
       "      <td>0.447980</td>\n",
       "      <td>0.943366</td>\n",
       "    </tr>\n",
       "    <tr>\n",
       "      <th>2021-01-31</th>\n",
       "      <td>0.769560</td>\n",
       "      <td>0.425551</td>\n",
       "      <td>0.859313</td>\n",
       "      <td>0.621424</td>\n",
       "      <td>0.223867</td>\n",
       "      <td>0.820559</td>\n",
       "      <td>0.075064</td>\n",
       "    </tr>\n",
       "  </tbody>\n",
       "</table>\n",
       "</div>"
      ],
      "text/plain": [
       "                   A         B          C         D          E         F  \\\n",
       "2021-01-25  0.566416  0.166861  90.000000  0.921063  88.000000  0.837217   \n",
       "2021-01-26  0.580461  0.835640  90.000000  0.857705   0.836288  0.135377   \n",
       "2021-01-27  0.009246  0.540716  90.000000  0.621360   0.180304  0.509460   \n",
       "2021-01-28  0.477894  0.716285   0.784014  0.079025   0.878258  0.068715   \n",
       "2021-01-29  0.530046  0.613213   0.392253  0.807790   0.709655  0.542631   \n",
       "2021-01-30  0.255070  0.170884   0.505359  0.357064   0.362848  0.447980   \n",
       "2021-01-31  0.769560  0.425551   0.859313  0.621424   0.223867  0.820559   \n",
       "\n",
       "                   G  \n",
       "2021-01-25  0.030350  \n",
       "2021-01-26  0.307863  \n",
       "2021-01-27  0.992327  \n",
       "2021-01-28  0.625434  \n",
       "2021-01-29  0.373644  \n",
       "2021-01-30  0.943366  \n",
       "2021-01-31  0.075064  "
      ]
     },
     "execution_count": 10,
     "metadata": {},
     "output_type": "execute_result"
    }
   ],
   "source": [
    "d2[d2.isin([100])]=88\n",
    "d2"
   ]
  },
  {
   "cell_type": "code",
   "execution_count": 11,
   "metadata": {},
   "outputs": [
    {
     "data": {
      "text/html": [
       "<div>\n",
       "<style scoped>\n",
       "    .dataframe tbody tr th:only-of-type {\n",
       "        vertical-align: middle;\n",
       "    }\n",
       "\n",
       "    .dataframe tbody tr th {\n",
       "        vertical-align: top;\n",
       "    }\n",
       "\n",
       "    .dataframe thead th {\n",
       "        text-align: right;\n",
       "    }\n",
       "</style>\n",
       "<table border=\"1\" class=\"dataframe\">\n",
       "  <thead>\n",
       "    <tr style=\"text-align: right;\">\n",
       "      <th></th>\n",
       "      <th>A</th>\n",
       "      <th>B</th>\n",
       "      <th>C</th>\n",
       "      <th>D</th>\n",
       "      <th>E</th>\n",
       "      <th>F</th>\n",
       "      <th>G</th>\n",
       "    </tr>\n",
       "  </thead>\n",
       "  <tbody>\n",
       "    <tr>\n",
       "      <th>2021-01-25</th>\n",
       "      <td>0.566416</td>\n",
       "      <td>0.166861</td>\n",
       "      <td>90.0</td>\n",
       "      <td>0.921063</td>\n",
       "      <td>88.0</td>\n",
       "      <td>0.837217</td>\n",
       "      <td>0.03035</td>\n",
       "    </tr>\n",
       "  </tbody>\n",
       "</table>\n",
       "</div>"
      ],
      "text/plain": [
       "                   A         B     C         D     E         F        G\n",
       "2021-01-25  0.566416  0.166861  90.0  0.921063  88.0  0.837217  0.03035"
      ]
     },
     "execution_count": 11,
     "metadata": {},
     "output_type": "execute_result"
    }
   ],
   "source": [
    "#display all rows where value of 'A' is 88\n",
    "d2[d2['E']==88]"
   ]
  },
  {
   "cell_type": "markdown",
   "metadata": {},
   "source": [
    "# Descriptive Statisitics"
   ]
  },
  {
   "cell_type": "code",
   "execution_count": 12,
   "metadata": {},
   "outputs": [
    {
     "data": {
      "text/plain": [
       "A     0.455528\n",
       "B     0.495593\n",
       "C    38.934420\n",
       "D     0.609347\n",
       "E    13.027317\n",
       "F     0.480277\n",
       "G     0.478293\n",
       "dtype: float64"
      ]
     },
     "execution_count": 12,
     "metadata": {},
     "output_type": "execute_result"
    }
   ],
   "source": [
    "#mean of all columns\n",
    "d2.mean()"
   ]
  },
  {
   "cell_type": "code",
   "execution_count": 13,
   "metadata": {},
   "outputs": [
    {
     "data": {
      "text/plain": [
       "A     0.769560\n",
       "B     0.835640\n",
       "C    90.000000\n",
       "D     0.921063\n",
       "E    88.000000\n",
       "F     0.837217\n",
       "G     0.992327\n",
       "dtype: float64"
      ]
     },
     "execution_count": 13,
     "metadata": {},
     "output_type": "execute_result"
    }
   ],
   "source": [
    "#max value per column\n",
    "d2.max()"
   ]
  },
  {
   "cell_type": "code",
   "execution_count": 95,
   "metadata": {},
   "outputs": [
    {
     "data": {
      "text/plain": [
       "A    0.014943\n",
       "B    0.001364\n",
       "C    0.098883\n",
       "D    0.082883\n",
       "E    0.541314\n",
       "F    0.451998\n",
       "G    0.202388\n",
       "dtype: float64"
      ]
     },
     "execution_count": 95,
     "metadata": {},
     "output_type": "execute_result"
    }
   ],
   "source": [
    "#min value per column\n",
    "d2.min()"
   ]
  },
  {
   "cell_type": "code",
   "execution_count": 14,
   "metadata": {},
   "outputs": [
    {
     "data": {
      "text/plain": [
       "A    0.530046\n",
       "B    0.540716\n",
       "C    0.859313\n",
       "D    0.621424\n",
       "E    0.709655\n",
       "F    0.509460\n",
       "G    0.373644\n",
       "dtype: float64"
      ]
     },
     "execution_count": 14,
     "metadata": {},
     "output_type": "execute_result"
    }
   ],
   "source": [
    "#median \n",
    "d2.median()"
   ]
  },
  {
   "cell_type": "code",
   "execution_count": 15,
   "metadata": {},
   "outputs": [
    {
     "data": {
      "text/plain": [
       "A     0.248973\n",
       "B     0.257751\n",
       "C    47.767735\n",
       "D     0.300945\n",
       "E    33.061084\n",
       "F     0.299255\n",
       "G     0.388462\n",
       "dtype: float64"
      ]
     },
     "execution_count": 15,
     "metadata": {},
     "output_type": "execute_result"
    }
   ],
   "source": [
    "#standard deviation\n",
    "d2.std()"
   ]
  },
  {
   "cell_type": "code",
   "execution_count": 98,
   "metadata": {},
   "outputs": [
    {
     "data": {
      "text/plain": [
       "A       0.101122\n",
       "B       0.040137\n",
       "C    2282.795439\n",
       "D       0.084166\n",
       "E    1088.102942\n",
       "F       0.048686\n",
       "G       0.075607\n",
       "dtype: float64"
      ]
     },
     "execution_count": 98,
     "metadata": {},
     "output_type": "execute_result"
    }
   ],
   "source": [
    "#variance\n",
    "d2.var()"
   ]
  },
  {
   "cell_type": "code",
   "execution_count": 16,
   "metadata": {},
   "outputs": [
    {
     "data": {
      "text/plain": [
       "A    0.366482\n",
       "B    0.298218\n",
       "C    0.644687\n",
       "D    0.489212\n",
       "E    0.293357\n",
       "F    0.291679\n",
       "G    0.191464\n",
       "Name: 0.25, dtype: float64"
      ]
     },
     "execution_count": 16,
     "metadata": {},
     "output_type": "execute_result"
    }
   ],
   "source": [
    "#lower quartile/first quartile\n",
    "d2.quantile(0.25)"
   ]
  },
  {
   "cell_type": "code",
   "execution_count": 17,
   "metadata": {},
   "outputs": [
    {
     "data": {
      "text/plain": [
       "A    0.530046\n",
       "B    0.540716\n",
       "C    0.859313\n",
       "D    0.621424\n",
       "E    0.709655\n",
       "F    0.509460\n",
       "G    0.373644\n",
       "Name: 0.5, dtype: float64"
      ]
     },
     "execution_count": 17,
     "metadata": {},
     "output_type": "execute_result"
    }
   ],
   "source": [
    "#second quartile/median\n",
    "d2.quantile(0.50)"
   ]
  },
  {
   "cell_type": "code",
   "execution_count": 18,
   "metadata": {},
   "outputs": [
    {
     "data": {
      "text/plain": [
       "A     0.573438\n",
       "B     0.664749\n",
       "C    90.000000\n",
       "D     0.832747\n",
       "E     0.857273\n",
       "F     0.681595\n",
       "G     0.784400\n",
       "Name: 0.75, dtype: float64"
      ]
     },
     "execution_count": 18,
     "metadata": {},
     "output_type": "execute_result"
    }
   ],
   "source": [
    "#upper quartile\n",
    "d2.quantile(0.75)"
   ]
  },
  {
   "cell_type": "code",
   "execution_count": 19,
   "metadata": {},
   "outputs": [
    {
     "data": {
      "text/plain": [
       "A     0.206956\n",
       "B     0.366531\n",
       "C    89.355313\n",
       "D     0.343535\n",
       "E     0.563915\n",
       "F     0.389916\n",
       "G     0.592936\n",
       "dtype: float64"
      ]
     },
     "execution_count": 19,
     "metadata": {},
     "output_type": "execute_result"
    }
   ],
   "source": [
    "#IQR (interquantile range)\n",
    "d2.quantile(0.75)-d2.quantile(0.25)"
   ]
  },
  {
   "cell_type": "code",
   "execution_count": 20,
   "metadata": {},
   "outputs": [
    {
     "data": {
      "text/plain": [
       "A      3.188693\n",
       "B      3.469151\n",
       "C    272.540939\n",
       "D      4.265431\n",
       "E     91.191219\n",
       "F      3.361940\n",
       "G      3.348048\n",
       "dtype: float64"
      ]
     },
     "execution_count": 20,
     "metadata": {},
     "output_type": "execute_result"
    }
   ],
   "source": [
    "#sum of column values\n",
    "d2.sum()"
   ]
  },
  {
   "cell_type": "code",
   "execution_count": 21,
   "metadata": {},
   "outputs": [
    {
     "data": {
      "text/html": [
       "<div>\n",
       "<style scoped>\n",
       "    .dataframe tbody tr th:only-of-type {\n",
       "        vertical-align: middle;\n",
       "    }\n",
       "\n",
       "    .dataframe tbody tr th {\n",
       "        vertical-align: top;\n",
       "    }\n",
       "\n",
       "    .dataframe thead th {\n",
       "        text-align: right;\n",
       "    }\n",
       "</style>\n",
       "<table border=\"1\" class=\"dataframe\">\n",
       "  <thead>\n",
       "    <tr style=\"text-align: right;\">\n",
       "      <th></th>\n",
       "      <th>A</th>\n",
       "      <th>B</th>\n",
       "      <th>C</th>\n",
       "      <th>D</th>\n",
       "      <th>E</th>\n",
       "      <th>F</th>\n",
       "      <th>G</th>\n",
       "    </tr>\n",
       "  </thead>\n",
       "  <tbody>\n",
       "    <tr>\n",
       "      <th>count</th>\n",
       "      <td>7.000000</td>\n",
       "      <td>7.000000</td>\n",
       "      <td>7.000000</td>\n",
       "      <td>7.000000</td>\n",
       "      <td>7.000000</td>\n",
       "      <td>7.000000</td>\n",
       "      <td>7.000000</td>\n",
       "    </tr>\n",
       "    <tr>\n",
       "      <th>mean</th>\n",
       "      <td>0.455528</td>\n",
       "      <td>0.495593</td>\n",
       "      <td>38.934420</td>\n",
       "      <td>0.609347</td>\n",
       "      <td>13.027317</td>\n",
       "      <td>0.480277</td>\n",
       "      <td>0.478293</td>\n",
       "    </tr>\n",
       "    <tr>\n",
       "      <th>std</th>\n",
       "      <td>0.248973</td>\n",
       "      <td>0.257751</td>\n",
       "      <td>47.767735</td>\n",
       "      <td>0.300945</td>\n",
       "      <td>33.061084</td>\n",
       "      <td>0.299255</td>\n",
       "      <td>0.388462</td>\n",
       "    </tr>\n",
       "    <tr>\n",
       "      <th>min</th>\n",
       "      <td>0.009246</td>\n",
       "      <td>0.166861</td>\n",
       "      <td>0.392253</td>\n",
       "      <td>0.079025</td>\n",
       "      <td>0.180304</td>\n",
       "      <td>0.068715</td>\n",
       "      <td>0.030350</td>\n",
       "    </tr>\n",
       "    <tr>\n",
       "      <th>25%</th>\n",
       "      <td>0.366482</td>\n",
       "      <td>0.298218</td>\n",
       "      <td>0.644687</td>\n",
       "      <td>0.489212</td>\n",
       "      <td>0.293357</td>\n",
       "      <td>0.291679</td>\n",
       "      <td>0.191464</td>\n",
       "    </tr>\n",
       "    <tr>\n",
       "      <th>50%</th>\n",
       "      <td>0.530046</td>\n",
       "      <td>0.540716</td>\n",
       "      <td>0.859313</td>\n",
       "      <td>0.621424</td>\n",
       "      <td>0.709655</td>\n",
       "      <td>0.509460</td>\n",
       "      <td>0.373644</td>\n",
       "    </tr>\n",
       "    <tr>\n",
       "      <th>75%</th>\n",
       "      <td>0.573438</td>\n",
       "      <td>0.664749</td>\n",
       "      <td>90.000000</td>\n",
       "      <td>0.832747</td>\n",
       "      <td>0.857273</td>\n",
       "      <td>0.681595</td>\n",
       "      <td>0.784400</td>\n",
       "    </tr>\n",
       "    <tr>\n",
       "      <th>max</th>\n",
       "      <td>0.769560</td>\n",
       "      <td>0.835640</td>\n",
       "      <td>90.000000</td>\n",
       "      <td>0.921063</td>\n",
       "      <td>88.000000</td>\n",
       "      <td>0.837217</td>\n",
       "      <td>0.992327</td>\n",
       "    </tr>\n",
       "  </tbody>\n",
       "</table>\n",
       "</div>"
      ],
      "text/plain": [
       "              A         B          C         D          E         F         G\n",
       "count  7.000000  7.000000   7.000000  7.000000   7.000000  7.000000  7.000000\n",
       "mean   0.455528  0.495593  38.934420  0.609347  13.027317  0.480277  0.478293\n",
       "std    0.248973  0.257751  47.767735  0.300945  33.061084  0.299255  0.388462\n",
       "min    0.009246  0.166861   0.392253  0.079025   0.180304  0.068715  0.030350\n",
       "25%    0.366482  0.298218   0.644687  0.489212   0.293357  0.291679  0.191464\n",
       "50%    0.530046  0.540716   0.859313  0.621424   0.709655  0.509460  0.373644\n",
       "75%    0.573438  0.664749  90.000000  0.832747   0.857273  0.681595  0.784400\n",
       "max    0.769560  0.835640  90.000000  0.921063  88.000000  0.837217  0.992327"
      ]
     },
     "execution_count": 21,
     "metadata": {},
     "output_type": "execute_result"
    }
   ],
   "source": [
    "#generate descriptive stats\n",
    "d2.describe()"
   ]
  },
  {
   "cell_type": "code",
   "execution_count": 22,
   "metadata": {},
   "outputs": [
    {
     "data": {
      "text/html": [
       "<div>\n",
       "<style scoped>\n",
       "    .dataframe tbody tr th:only-of-type {\n",
       "        vertical-align: middle;\n",
       "    }\n",
       "\n",
       "    .dataframe tbody tr th {\n",
       "        vertical-align: top;\n",
       "    }\n",
       "\n",
       "    .dataframe thead th {\n",
       "        text-align: right;\n",
       "    }\n",
       "</style>\n",
       "<table border=\"1\" class=\"dataframe\">\n",
       "  <thead>\n",
       "    <tr style=\"text-align: right;\">\n",
       "      <th></th>\n",
       "      <th>A</th>\n",
       "      <th>B</th>\n",
       "      <th>C</th>\n",
       "      <th>D</th>\n",
       "      <th>E</th>\n",
       "      <th>F</th>\n",
       "      <th>G</th>\n",
       "    </tr>\n",
       "  </thead>\n",
       "  <tbody>\n",
       "    <tr>\n",
       "      <th>A</th>\n",
       "      <td>1.000000</td>\n",
       "      <td>0.110869</td>\n",
       "      <td>-0.262428</td>\n",
       "      <td>0.261417</td>\n",
       "      <td>0.199488</td>\n",
       "      <td>0.206341</td>\n",
       "      <td>-0.904239</td>\n",
       "    </tr>\n",
       "    <tr>\n",
       "      <th>B</th>\n",
       "      <td>0.110869</td>\n",
       "      <td>1.000000</td>\n",
       "      <td>0.068690</td>\n",
       "      <td>-0.064674</td>\n",
       "      <td>-0.557257</td>\n",
       "      <td>-0.713363</td>\n",
       "      <td>0.016458</td>\n",
       "    </tr>\n",
       "    <tr>\n",
       "      <th>C</th>\n",
       "      <td>-0.262428</td>\n",
       "      <td>0.068690</td>\n",
       "      <td>1.000000</td>\n",
       "      <td>0.591665</td>\n",
       "      <td>0.470936</td>\n",
       "      <td>0.043000</td>\n",
       "      <td>-0.084676</td>\n",
       "    </tr>\n",
       "    <tr>\n",
       "      <th>D</th>\n",
       "      <td>0.261417</td>\n",
       "      <td>-0.064674</td>\n",
       "      <td>0.591665</td>\n",
       "      <td>1.000000</td>\n",
       "      <td>0.456085</td>\n",
       "      <td>0.497539</td>\n",
       "      <td>-0.565672</td>\n",
       "    </tr>\n",
       "    <tr>\n",
       "      <th>E</th>\n",
       "      <td>0.199488</td>\n",
       "      <td>-0.557257</td>\n",
       "      <td>0.470936</td>\n",
       "      <td>0.456085</td>\n",
       "      <td>1.000000</td>\n",
       "      <td>0.520110</td>\n",
       "      <td>-0.510465</td>\n",
       "    </tr>\n",
       "    <tr>\n",
       "      <th>F</th>\n",
       "      <td>0.206341</td>\n",
       "      <td>-0.713363</td>\n",
       "      <td>0.043000</td>\n",
       "      <td>0.497539</td>\n",
       "      <td>0.520110</td>\n",
       "      <td>1.000000</td>\n",
       "      <td>-0.437883</td>\n",
       "    </tr>\n",
       "    <tr>\n",
       "      <th>G</th>\n",
       "      <td>-0.904239</td>\n",
       "      <td>0.016458</td>\n",
       "      <td>-0.084676</td>\n",
       "      <td>-0.565672</td>\n",
       "      <td>-0.510465</td>\n",
       "      <td>-0.437883</td>\n",
       "      <td>1.000000</td>\n",
       "    </tr>\n",
       "  </tbody>\n",
       "</table>\n",
       "</div>"
      ],
      "text/plain": [
       "          A         B         C         D         E         F         G\n",
       "A  1.000000  0.110869 -0.262428  0.261417  0.199488  0.206341 -0.904239\n",
       "B  0.110869  1.000000  0.068690 -0.064674 -0.557257 -0.713363  0.016458\n",
       "C -0.262428  0.068690  1.000000  0.591665  0.470936  0.043000 -0.084676\n",
       "D  0.261417 -0.064674  0.591665  1.000000  0.456085  0.497539 -0.565672\n",
       "E  0.199488 -0.557257  0.470936  0.456085  1.000000  0.520110 -0.510465\n",
       "F  0.206341 -0.713363  0.043000  0.497539  0.520110  1.000000 -0.437883\n",
       "G -0.904239  0.016458 -0.084676 -0.565672 -0.510465 -0.437883  1.000000"
      ]
     },
     "execution_count": 22,
     "metadata": {},
     "output_type": "execute_result"
    }
   ],
   "source": [
    "#correlation\n",
    "d2.corr()"
   ]
  },
  {
   "cell_type": "code",
   "execution_count": 23,
   "metadata": {},
   "outputs": [
    {
     "data": {
      "text/html": [
       "<div>\n",
       "<style scoped>\n",
       "    .dataframe tbody tr th:only-of-type {\n",
       "        vertical-align: middle;\n",
       "    }\n",
       "\n",
       "    .dataframe tbody tr th {\n",
       "        vertical-align: top;\n",
       "    }\n",
       "\n",
       "    .dataframe thead th {\n",
       "        text-align: right;\n",
       "    }\n",
       "</style>\n",
       "<table border=\"1\" class=\"dataframe\">\n",
       "  <thead>\n",
       "    <tr style=\"text-align: right;\">\n",
       "      <th></th>\n",
       "      <th>A</th>\n",
       "      <th>B</th>\n",
       "      <th>C</th>\n",
       "      <th>D</th>\n",
       "      <th>E</th>\n",
       "      <th>F</th>\n",
       "      <th>G</th>\n",
       "    </tr>\n",
       "  </thead>\n",
       "  <tbody>\n",
       "    <tr>\n",
       "      <th>A</th>\n",
       "      <td>0.061987</td>\n",
       "      <td>0.007115</td>\n",
       "      <td>-3.121018</td>\n",
       "      <td>0.019587</td>\n",
       "      <td>1.642048</td>\n",
       "      <td>0.015374</td>\n",
       "      <td>-0.087455</td>\n",
       "    </tr>\n",
       "    <tr>\n",
       "      <th>B</th>\n",
       "      <td>0.007115</td>\n",
       "      <td>0.066436</td>\n",
       "      <td>0.845717</td>\n",
       "      <td>-0.005017</td>\n",
       "      <td>-4.748679</td>\n",
       "      <td>-0.055024</td>\n",
       "      <td>0.001648</td>\n",
       "    </tr>\n",
       "    <tr>\n",
       "      <th>C</th>\n",
       "      <td>-3.121018</td>\n",
       "      <td>0.845717</td>\n",
       "      <td>2281.756497</td>\n",
       "      <td>8.505443</td>\n",
       "      <td>743.726457</td>\n",
       "      <td>0.614666</td>\n",
       "      <td>-1.571248</td>\n",
       "    </tr>\n",
       "    <tr>\n",
       "      <th>D</th>\n",
       "      <td>0.019587</td>\n",
       "      <td>-0.005017</td>\n",
       "      <td>8.505443</td>\n",
       "      <td>0.090568</td>\n",
       "      <td>4.537842</td>\n",
       "      <td>0.044808</td>\n",
       "      <td>-0.066130</td>\n",
       "    </tr>\n",
       "    <tr>\n",
       "      <th>E</th>\n",
       "      <td>1.642048</td>\n",
       "      <td>-4.748679</td>\n",
       "      <td>743.726457</td>\n",
       "      <td>4.537842</td>\n",
       "      <td>1093.035281</td>\n",
       "      <td>5.145800</td>\n",
       "      <td>-6.555892</td>\n",
       "    </tr>\n",
       "    <tr>\n",
       "      <th>F</th>\n",
       "      <td>0.015374</td>\n",
       "      <td>-0.055024</td>\n",
       "      <td>0.614666</td>\n",
       "      <td>0.044808</td>\n",
       "      <td>5.145800</td>\n",
       "      <td>0.089553</td>\n",
       "      <td>-0.050904</td>\n",
       "    </tr>\n",
       "    <tr>\n",
       "      <th>G</th>\n",
       "      <td>-0.087455</td>\n",
       "      <td>0.001648</td>\n",
       "      <td>-1.571248</td>\n",
       "      <td>-0.066130</td>\n",
       "      <td>-6.555892</td>\n",
       "      <td>-0.050904</td>\n",
       "      <td>0.150903</td>\n",
       "    </tr>\n",
       "  </tbody>\n",
       "</table>\n",
       "</div>"
      ],
      "text/plain": [
       "          A         B            C         D            E         F         G\n",
       "A  0.061987  0.007115    -3.121018  0.019587     1.642048  0.015374 -0.087455\n",
       "B  0.007115  0.066436     0.845717 -0.005017    -4.748679 -0.055024  0.001648\n",
       "C -3.121018  0.845717  2281.756497  8.505443   743.726457  0.614666 -1.571248\n",
       "D  0.019587 -0.005017     8.505443  0.090568     4.537842  0.044808 -0.066130\n",
       "E  1.642048 -4.748679   743.726457  4.537842  1093.035281  5.145800 -6.555892\n",
       "F  0.015374 -0.055024     0.614666  0.044808     5.145800  0.089553 -0.050904\n",
       "G -0.087455  0.001648    -1.571248 -0.066130    -6.555892 -0.050904  0.150903"
      ]
     },
     "execution_count": 23,
     "metadata": {},
     "output_type": "execute_result"
    }
   ],
   "source": [
    "#covariance\n",
    "d2.cov()"
   ]
  },
  {
   "cell_type": "code",
   "execution_count": 24,
   "metadata": {},
   "outputs": [
    {
     "data": {
      "text/plain": [
       "0.011778122141245004"
      ]
     },
     "execution_count": 24,
     "metadata": {},
     "output_type": "execute_result"
    }
   ],
   "source": [
    "x=np.percentile(d2,0.25)\n",
    "x"
   ]
  },
  {
   "cell_type": "markdown",
   "metadata": {},
   "source": [
    "### Standard Deviation\n",
    "- A standard deviation is a statistic that measures the dispersion of a dataset relative to its mean and is calculated as the square root of the variance. The standard deviation is calculated as the square root of variance by determining each data point's deviation relative to the mean. If the data points are further from the mean, there is a higher deviation within the data set; thus, the more spread out the data, the higher the stand"
   ]
  },
  {
   "cell_type": "code",
   "execution_count": 25,
   "metadata": {},
   "outputs": [
    {
     "data": {
      "text/plain": [
       "0.2577509166787806"
      ]
     },
     "execution_count": 25,
     "metadata": {},
     "output_type": "execute_result"
    }
   ],
   "source": [
    "#sample standard deviation\n",
    "import statistics as st\n",
    "st.stdev(d2['B'])"
   ]
  },
  {
   "cell_type": "markdown",
   "metadata": {},
   "source": [
    "### Population Standard Deviation \n",
    "- Population standard deviation looks at the square root of the variance of the set of numbers. It's used to determine a confidence interval for drawing conclusions (such as accepting or rejecting a hypothesis). A slightly more complex calculation is called sample standard deviation.\n",
    "- Calculate the mean (simple average of the numbers).\n",
    "- For each number: Subtract the mean. Square the result.\n",
    "- Calculate the mean of those squared differences. This is the variance.\n",
    "- Take the square root of that to obtain the population standard deviation.\n",
    "- Population Standard Deviation Equation"
   ]
  },
  {
   "cell_type": "code",
   "execution_count": 26,
   "metadata": {},
   "outputs": [
    {
     "data": {
      "text/plain": [
       "0.23863097939601524"
      ]
     },
     "execution_count": 26,
     "metadata": {},
     "output_type": "execute_result"
    }
   ],
   "source": [
    "#population standard deviation\n",
    "st.pstdev(d2['B'])"
   ]
  },
  {
   "cell_type": "markdown",
   "metadata": {},
   "source": [
    "# Apply function\n",
    "- it takes a function as an input and applies this function to entire data frame.\n",
    "- if you are working with tabular data,you must specify an axis you want your function to act on (0 for columns and 1 for rows)"
   ]
  },
  {
   "cell_type": "code",
   "execution_count": 117,
   "metadata": {},
   "outputs": [
    {
     "data": {
      "text/html": [
       "<div>\n",
       "<style scoped>\n",
       "    .dataframe tbody tr th:only-of-type {\n",
       "        vertical-align: middle;\n",
       "    }\n",
       "\n",
       "    .dataframe tbody tr th {\n",
       "        vertical-align: top;\n",
       "    }\n",
       "\n",
       "    .dataframe thead th {\n",
       "        text-align: right;\n",
       "    }\n",
       "</style>\n",
       "<table border=\"1\" class=\"dataframe\">\n",
       "  <thead>\n",
       "    <tr style=\"text-align: right;\">\n",
       "      <th></th>\n",
       "      <th>A</th>\n",
       "      <th>B</th>\n",
       "      <th>C</th>\n",
       "      <th>D</th>\n",
       "      <th>E</th>\n",
       "      <th>F</th>\n",
       "      <th>G</th>\n",
       "    </tr>\n",
       "  </thead>\n",
       "  <tbody>\n",
       "    <tr>\n",
       "      <th>2021-01-25</th>\n",
       "      <td>0.912985</td>\n",
       "      <td>0.197622</td>\n",
       "      <td>90.000000</td>\n",
       "      <td>0.709600</td>\n",
       "      <td>88.000000</td>\n",
       "      <td>0.979571</td>\n",
       "      <td>0.417500</td>\n",
       "    </tr>\n",
       "    <tr>\n",
       "      <th>2021-01-26</th>\n",
       "      <td>0.446700</td>\n",
       "      <td>0.001364</td>\n",
       "      <td>90.000000</td>\n",
       "      <td>0.461788</td>\n",
       "      <td>0.864878</td>\n",
       "      <td>0.653015</td>\n",
       "      <td>0.217102</td>\n",
       "    </tr>\n",
       "    <tr>\n",
       "      <th>2021-01-27</th>\n",
       "      <td>0.821728</td>\n",
       "      <td>0.159416</td>\n",
       "      <td>90.000000</td>\n",
       "      <td>0.200498</td>\n",
       "      <td>0.541314</td>\n",
       "      <td>0.975651</td>\n",
       "      <td>0.211824</td>\n",
       "    </tr>\n",
       "    <tr>\n",
       "      <th>2021-01-28</th>\n",
       "      <td>0.306378</td>\n",
       "      <td>0.163487</td>\n",
       "      <td>0.974563</td>\n",
       "      <td>0.082883</td>\n",
       "      <td>0.737515</td>\n",
       "      <td>0.560797</td>\n",
       "      <td>0.582075</td>\n",
       "    </tr>\n",
       "    <tr>\n",
       "      <th>2021-01-29</th>\n",
       "      <td>0.014943</td>\n",
       "      <td>0.035603</td>\n",
       "      <td>0.448451</td>\n",
       "      <td>0.828329</td>\n",
       "      <td>0.759975</td>\n",
       "      <td>0.517076</td>\n",
       "      <td>0.202388</td>\n",
       "    </tr>\n",
       "    <tr>\n",
       "      <th>2021-01-30</th>\n",
       "      <td>0.521055</td>\n",
       "      <td>0.414769</td>\n",
       "      <td>0.098883</td>\n",
       "      <td>0.659142</td>\n",
       "      <td>0.659419</td>\n",
       "      <td>0.451998</td>\n",
       "      <td>0.206139</td>\n",
       "    </tr>\n",
       "    <tr>\n",
       "      <th>2021-01-31</th>\n",
       "      <td>0.246752</td>\n",
       "      <td>0.557241</td>\n",
       "      <td>0.942663</td>\n",
       "      <td>0.762229</td>\n",
       "      <td>0.796516</td>\n",
       "      <td>0.850099</td>\n",
       "      <td>0.924312</td>\n",
       "    </tr>\n",
       "  </tbody>\n",
       "</table>\n",
       "</div>"
      ],
      "text/plain": [
       "                   A         B          C         D          E         F  \\\n",
       "2021-01-25  0.912985  0.197622  90.000000  0.709600  88.000000  0.979571   \n",
       "2021-01-26  0.446700  0.001364  90.000000  0.461788   0.864878  0.653015   \n",
       "2021-01-27  0.821728  0.159416  90.000000  0.200498   0.541314  0.975651   \n",
       "2021-01-28  0.306378  0.163487   0.974563  0.082883   0.737515  0.560797   \n",
       "2021-01-29  0.014943  0.035603   0.448451  0.828329   0.759975  0.517076   \n",
       "2021-01-30  0.521055  0.414769   0.098883  0.659142   0.659419  0.451998   \n",
       "2021-01-31  0.246752  0.557241   0.942663  0.762229   0.796516  0.850099   \n",
       "\n",
       "                   G  \n",
       "2021-01-25  0.417500  \n",
       "2021-01-26  0.217102  \n",
       "2021-01-27  0.211824  \n",
       "2021-01-28  0.582075  \n",
       "2021-01-29  0.202388  \n",
       "2021-01-30  0.206139  \n",
       "2021-01-31  0.924312  "
      ]
     },
     "execution_count": 117,
     "metadata": {},
     "output_type": "execute_result"
    }
   ],
   "source": [
    "d2"
   ]
  },
  {
   "cell_type": "code",
   "execution_count": 27,
   "metadata": {},
   "outputs": [
    {
     "data": {
      "text/plain": [
       "A     0.769560\n",
       "B     0.835640\n",
       "C    90.000000\n",
       "D     0.921063\n",
       "E    88.000000\n",
       "F     0.837217\n",
       "G     0.992327\n",
       "dtype: float64"
      ]
     },
     "execution_count": 27,
     "metadata": {},
     "output_type": "execute_result"
    }
   ],
   "source": [
    "#finding max value in columns\n",
    "d2.apply(max)"
   ]
  },
  {
   "cell_type": "code",
   "execution_count": 28,
   "metadata": {},
   "outputs": [
    {
     "data": {
      "text/plain": [
       "A    0.009246\n",
       "B    0.166861\n",
       "C    0.392253\n",
       "D    0.079025\n",
       "E    0.180304\n",
       "F    0.068715\n",
       "G    0.030350\n",
       "dtype: float64"
      ]
     },
     "execution_count": 28,
     "metadata": {},
     "output_type": "execute_result"
    }
   ],
   "source": [
    "#finding minimum value in column\n",
    "d2.apply(min)"
   ]
  },
  {
   "cell_type": "code",
   "execution_count": 29,
   "metadata": {},
   "outputs": [
    {
     "data": {
      "text/plain": [
       "A      3.188693\n",
       "B      3.469151\n",
       "C    272.540939\n",
       "D      4.265431\n",
       "E     91.191219\n",
       "F      3.361940\n",
       "G      3.348048\n",
       "dtype: float64"
      ]
     },
     "execution_count": 29,
     "metadata": {},
     "output_type": "execute_result"
    }
   ],
   "source": [
    "#sum of column values\n",
    "d2.apply(sum)"
   ]
  },
  {
   "cell_type": "code",
   "execution_count": 30,
   "metadata": {},
   "outputs": [
    {
     "data": {
      "text/plain": [
       "2021-01-25    180.521907\n",
       "2021-01-26     93.553334\n",
       "2021-01-27     92.853414\n",
       "2021-01-28      3.629624\n",
       "2021-01-29      3.969231\n",
       "2021-01-30      3.042572\n",
       "2021-01-31      3.795339\n",
       "Freq: D, dtype: float64"
      ]
     },
     "execution_count": 30,
     "metadata": {},
     "output_type": "execute_result"
    }
   ],
   "source": [
    "#sum of rows\n",
    "d2.apply(np.sum,axis=1)"
   ]
  },
  {
   "cell_type": "code",
   "execution_count": 31,
   "metadata": {},
   "outputs": [
    {
     "data": {
      "text/html": [
       "<div>\n",
       "<style scoped>\n",
       "    .dataframe tbody tr th:only-of-type {\n",
       "        vertical-align: middle;\n",
       "    }\n",
       "\n",
       "    .dataframe tbody tr th {\n",
       "        vertical-align: top;\n",
       "    }\n",
       "\n",
       "    .dataframe thead th {\n",
       "        text-align: right;\n",
       "    }\n",
       "</style>\n",
       "<table border=\"1\" class=\"dataframe\">\n",
       "  <thead>\n",
       "    <tr style=\"text-align: right;\">\n",
       "      <th></th>\n",
       "      <th>A</th>\n",
       "      <th>B</th>\n",
       "      <th>C</th>\n",
       "      <th>D</th>\n",
       "      <th>E</th>\n",
       "      <th>F</th>\n",
       "      <th>G</th>\n",
       "    </tr>\n",
       "  </thead>\n",
       "  <tbody>\n",
       "    <tr>\n",
       "      <th>2021-01-25</th>\n",
       "      <td>0.752606</td>\n",
       "      <td>0.408487</td>\n",
       "      <td>9.486833</td>\n",
       "      <td>0.959720</td>\n",
       "      <td>9.380832</td>\n",
       "      <td>0.914996</td>\n",
       "      <td>0.174213</td>\n",
       "    </tr>\n",
       "    <tr>\n",
       "      <th>2021-01-26</th>\n",
       "      <td>0.761880</td>\n",
       "      <td>0.914133</td>\n",
       "      <td>9.486833</td>\n",
       "      <td>0.926123</td>\n",
       "      <td>0.914488</td>\n",
       "      <td>0.367937</td>\n",
       "      <td>0.554854</td>\n",
       "    </tr>\n",
       "    <tr>\n",
       "      <th>2021-01-27</th>\n",
       "      <td>0.096154</td>\n",
       "      <td>0.735334</td>\n",
       "      <td>9.486833</td>\n",
       "      <td>0.788264</td>\n",
       "      <td>0.424622</td>\n",
       "      <td>0.713765</td>\n",
       "      <td>0.996156</td>\n",
       "    </tr>\n",
       "    <tr>\n",
       "      <th>2021-01-28</th>\n",
       "      <td>0.691299</td>\n",
       "      <td>0.846336</td>\n",
       "      <td>0.885445</td>\n",
       "      <td>0.281114</td>\n",
       "      <td>0.937154</td>\n",
       "      <td>0.262136</td>\n",
       "      <td>0.790844</td>\n",
       "    </tr>\n",
       "    <tr>\n",
       "      <th>2021-01-29</th>\n",
       "      <td>0.728043</td>\n",
       "      <td>0.783079</td>\n",
       "      <td>0.626301</td>\n",
       "      <td>0.898772</td>\n",
       "      <td>0.842410</td>\n",
       "      <td>0.736635</td>\n",
       "      <td>0.611264</td>\n",
       "    </tr>\n",
       "    <tr>\n",
       "      <th>2021-01-30</th>\n",
       "      <td>0.505045</td>\n",
       "      <td>0.413382</td>\n",
       "      <td>0.710886</td>\n",
       "      <td>0.597549</td>\n",
       "      <td>0.602369</td>\n",
       "      <td>0.669313</td>\n",
       "      <td>0.971270</td>\n",
       "    </tr>\n",
       "    <tr>\n",
       "      <th>2021-01-31</th>\n",
       "      <td>0.877246</td>\n",
       "      <td>0.652343</td>\n",
       "      <td>0.926991</td>\n",
       "      <td>0.788304</td>\n",
       "      <td>0.473145</td>\n",
       "      <td>0.905847</td>\n",
       "      <td>0.273979</td>\n",
       "    </tr>\n",
       "  </tbody>\n",
       "</table>\n",
       "</div>"
      ],
      "text/plain": [
       "                   A         B         C         D         E         F  \\\n",
       "2021-01-25  0.752606  0.408487  9.486833  0.959720  9.380832  0.914996   \n",
       "2021-01-26  0.761880  0.914133  9.486833  0.926123  0.914488  0.367937   \n",
       "2021-01-27  0.096154  0.735334  9.486833  0.788264  0.424622  0.713765   \n",
       "2021-01-28  0.691299  0.846336  0.885445  0.281114  0.937154  0.262136   \n",
       "2021-01-29  0.728043  0.783079  0.626301  0.898772  0.842410  0.736635   \n",
       "2021-01-30  0.505045  0.413382  0.710886  0.597549  0.602369  0.669313   \n",
       "2021-01-31  0.877246  0.652343  0.926991  0.788304  0.473145  0.905847   \n",
       "\n",
       "                   G  \n",
       "2021-01-25  0.174213  \n",
       "2021-01-26  0.554854  \n",
       "2021-01-27  0.996156  \n",
       "2021-01-28  0.790844  \n",
       "2021-01-29  0.611264  \n",
       "2021-01-30  0.971270  \n",
       "2021-01-31  0.273979  "
      ]
     },
     "execution_count": 31,
     "metadata": {},
     "output_type": "execute_result"
    }
   ],
   "source": [
    "#square root of all values in a data frame\n",
    "import math\n",
    "d2.applymap(math.sqrt)"
   ]
  },
  {
   "cell_type": "code",
   "execution_count": 32,
   "metadata": {},
   "outputs": [
    {
     "data": {
      "text/plain": [
       "A    0.009246\n",
       "B    0.166861\n",
       "C    0.392253\n",
       "D    0.079025\n",
       "E    0.180304\n",
       "F    0.068715\n",
       "G    0.030350\n",
       "dtype: float64"
      ]
     },
     "execution_count": 32,
     "metadata": {},
     "output_type": "execute_result"
    }
   ],
   "source": [
    "d2.apply(lambda x:min(x))"
   ]
  },
  {
   "cell_type": "code",
   "execution_count": 33,
   "metadata": {},
   "outputs": [
    {
     "data": {
      "text/html": [
       "<div>\n",
       "<style scoped>\n",
       "    .dataframe tbody tr th:only-of-type {\n",
       "        vertical-align: middle;\n",
       "    }\n",
       "\n",
       "    .dataframe tbody tr th {\n",
       "        vertical-align: top;\n",
       "    }\n",
       "\n",
       "    .dataframe thead th {\n",
       "        text-align: right;\n",
       "    }\n",
       "</style>\n",
       "<table border=\"1\" class=\"dataframe\">\n",
       "  <thead>\n",
       "    <tr style=\"text-align: right;\">\n",
       "      <th></th>\n",
       "      <th>A</th>\n",
       "      <th>B</th>\n",
       "      <th>C</th>\n",
       "      <th>D</th>\n",
       "      <th>E</th>\n",
       "      <th>F</th>\n",
       "      <th>G</th>\n",
       "    </tr>\n",
       "  </thead>\n",
       "  <tbody>\n",
       "    <tr>\n",
       "      <th>2021-01-25</th>\n",
       "      <td>0.320827</td>\n",
       "      <td>0.027843</td>\n",
       "      <td>8100.000000</td>\n",
       "      <td>0.848357</td>\n",
       "      <td>7744.000000</td>\n",
       "      <td>0.700933</td>\n",
       "      <td>0.000921</td>\n",
       "    </tr>\n",
       "    <tr>\n",
       "      <th>2021-01-26</th>\n",
       "      <td>0.336935</td>\n",
       "      <td>0.698293</td>\n",
       "      <td>8100.000000</td>\n",
       "      <td>0.735657</td>\n",
       "      <td>0.699377</td>\n",
       "      <td>0.018327</td>\n",
       "      <td>0.094780</td>\n",
       "    </tr>\n",
       "    <tr>\n",
       "      <th>2021-01-27</th>\n",
       "      <td>0.000085</td>\n",
       "      <td>0.292374</td>\n",
       "      <td>8100.000000</td>\n",
       "      <td>0.386088</td>\n",
       "      <td>0.032510</td>\n",
       "      <td>0.259550</td>\n",
       "      <td>0.984714</td>\n",
       "    </tr>\n",
       "    <tr>\n",
       "      <th>2021-01-28</th>\n",
       "      <td>0.228383</td>\n",
       "      <td>0.513064</td>\n",
       "      <td>0.614677</td>\n",
       "      <td>0.006245</td>\n",
       "      <td>0.771336</td>\n",
       "      <td>0.004722</td>\n",
       "      <td>0.391167</td>\n",
       "    </tr>\n",
       "    <tr>\n",
       "      <th>2021-01-29</th>\n",
       "      <td>0.280949</td>\n",
       "      <td>0.376030</td>\n",
       "      <td>0.153862</td>\n",
       "      <td>0.652525</td>\n",
       "      <td>0.503610</td>\n",
       "      <td>0.294448</td>\n",
       "      <td>0.139610</td>\n",
       "    </tr>\n",
       "    <tr>\n",
       "      <th>2021-01-30</th>\n",
       "      <td>0.065061</td>\n",
       "      <td>0.029201</td>\n",
       "      <td>0.255388</td>\n",
       "      <td>0.127495</td>\n",
       "      <td>0.131659</td>\n",
       "      <td>0.200686</td>\n",
       "      <td>0.889939</td>\n",
       "    </tr>\n",
       "    <tr>\n",
       "      <th>2021-01-31</th>\n",
       "      <td>0.592222</td>\n",
       "      <td>0.181094</td>\n",
       "      <td>0.738419</td>\n",
       "      <td>0.386168</td>\n",
       "      <td>0.050116</td>\n",
       "      <td>0.673318</td>\n",
       "      <td>0.005635</td>\n",
       "    </tr>\n",
       "  </tbody>\n",
       "</table>\n",
       "</div>"
      ],
      "text/plain": [
       "                   A         B            C         D            E         F  \\\n",
       "2021-01-25  0.320827  0.027843  8100.000000  0.848357  7744.000000  0.700933   \n",
       "2021-01-26  0.336935  0.698293  8100.000000  0.735657     0.699377  0.018327   \n",
       "2021-01-27  0.000085  0.292374  8100.000000  0.386088     0.032510  0.259550   \n",
       "2021-01-28  0.228383  0.513064     0.614677  0.006245     0.771336  0.004722   \n",
       "2021-01-29  0.280949  0.376030     0.153862  0.652525     0.503610  0.294448   \n",
       "2021-01-30  0.065061  0.029201     0.255388  0.127495     0.131659  0.200686   \n",
       "2021-01-31  0.592222  0.181094     0.738419  0.386168     0.050116  0.673318   \n",
       "\n",
       "                   G  \n",
       "2021-01-25  0.000921  \n",
       "2021-01-26  0.094780  \n",
       "2021-01-27  0.984714  \n",
       "2021-01-28  0.391167  \n",
       "2021-01-29  0.139610  \n",
       "2021-01-30  0.889939  \n",
       "2021-01-31  0.005635  "
      ]
     },
     "execution_count": 33,
     "metadata": {},
     "output_type": "execute_result"
    }
   ],
   "source": [
    "d2.apply(lambda x:x*x)"
   ]
  },
  {
   "cell_type": "markdown",
   "metadata": {},
   "source": [
    "# Merge DataFrames\n",
    "\n"
   ]
  },
  {
   "cell_type": "code",
   "execution_count": 34,
   "metadata": {},
   "outputs": [
    {
     "data": {
      "text/html": [
       "<div>\n",
       "<style scoped>\n",
       "    .dataframe tbody tr th:only-of-type {\n",
       "        vertical-align: middle;\n",
       "    }\n",
       "\n",
       "    .dataframe tbody tr th {\n",
       "        vertical-align: top;\n",
       "    }\n",
       "\n",
       "    .dataframe thead th {\n",
       "        text-align: right;\n",
       "    }\n",
       "</style>\n",
       "<table border=\"1\" class=\"dataframe\">\n",
       "  <thead>\n",
       "    <tr style=\"text-align: right;\">\n",
       "      <th></th>\n",
       "      <th>id</th>\n",
       "      <th>Name</th>\n",
       "    </tr>\n",
       "  </thead>\n",
       "  <tbody>\n",
       "    <tr>\n",
       "      <th>0</th>\n",
       "      <td>1</td>\n",
       "      <td>divya</td>\n",
       "    </tr>\n",
       "    <tr>\n",
       "      <th>1</th>\n",
       "      <td>2</td>\n",
       "      <td>karan</td>\n",
       "    </tr>\n",
       "    <tr>\n",
       "      <th>2</th>\n",
       "      <td>3</td>\n",
       "      <td>jyoti</td>\n",
       "    </tr>\n",
       "    <tr>\n",
       "      <th>3</th>\n",
       "      <td>4</td>\n",
       "      <td>shikha</td>\n",
       "    </tr>\n",
       "  </tbody>\n",
       "</table>\n",
       "</div>"
      ],
      "text/plain": [
       "   id    Name\n",
       "0   1   divya\n",
       "1   2   karan\n",
       "2   3   jyoti\n",
       "3   4  shikha"
      ]
     },
     "execution_count": 34,
     "metadata": {},
     "output_type": "execute_result"
    }
   ],
   "source": [
    "import pandas as pd\n",
    "import numpy as np\n",
    "d=pd.DataFrame({'id':[1,2,3,4],'Name':['divya','karan','jyoti','shikha']})\n",
    "d"
   ]
  },
  {
   "cell_type": "code",
   "execution_count": 35,
   "metadata": {},
   "outputs": [
    {
     "data": {
      "text/html": [
       "<div>\n",
       "<style scoped>\n",
       "    .dataframe tbody tr th:only-of-type {\n",
       "        vertical-align: middle;\n",
       "    }\n",
       "\n",
       "    .dataframe tbody tr th {\n",
       "        vertical-align: top;\n",
       "    }\n",
       "\n",
       "    .dataframe thead th {\n",
       "        text-align: right;\n",
       "    }\n",
       "</style>\n",
       "<table border=\"1\" class=\"dataframe\">\n",
       "  <thead>\n",
       "    <tr style=\"text-align: right;\">\n",
       "      <th></th>\n",
       "      <th>id</th>\n",
       "      <th>Name</th>\n",
       "    </tr>\n",
       "  </thead>\n",
       "  <tbody>\n",
       "    <tr>\n",
       "      <th>0</th>\n",
       "      <td>1</td>\n",
       "      <td>div</td>\n",
       "    </tr>\n",
       "    <tr>\n",
       "      <th>1</th>\n",
       "      <td>3</td>\n",
       "      <td>kirti</td>\n",
       "    </tr>\n",
       "    <tr>\n",
       "      <th>2</th>\n",
       "      <td>5</td>\n",
       "      <td>joy</td>\n",
       "    </tr>\n",
       "    <tr>\n",
       "      <th>3</th>\n",
       "      <td>6</td>\n",
       "      <td>shivani</td>\n",
       "    </tr>\n",
       "  </tbody>\n",
       "</table>\n",
       "</div>"
      ],
      "text/plain": [
       "   id     Name\n",
       "0   1      div\n",
       "1   3    kirti\n",
       "2   5      joy\n",
       "3   6  shivani"
      ]
     },
     "execution_count": 35,
     "metadata": {},
     "output_type": "execute_result"
    }
   ],
   "source": [
    "d1=pd.DataFrame({'id':[1,3,5,6],'Name':['div','kirti','joy','shivani']})\n",
    "d1"
   ]
  },
  {
   "cell_type": "code",
   "execution_count": 36,
   "metadata": {},
   "outputs": [
    {
     "data": {
      "text/html": [
       "<div>\n",
       "<style scoped>\n",
       "    .dataframe tbody tr th:only-of-type {\n",
       "        vertical-align: middle;\n",
       "    }\n",
       "\n",
       "    .dataframe tbody tr th {\n",
       "        vertical-align: top;\n",
       "    }\n",
       "\n",
       "    .dataframe thead th {\n",
       "        text-align: right;\n",
       "    }\n",
       "</style>\n",
       "<table border=\"1\" class=\"dataframe\">\n",
       "  <thead>\n",
       "    <tr style=\"text-align: right;\">\n",
       "      <th></th>\n",
       "      <th>id</th>\n",
       "      <th>Name_x</th>\n",
       "      <th>Name_y</th>\n",
       "    </tr>\n",
       "  </thead>\n",
       "  <tbody>\n",
       "    <tr>\n",
       "      <th>0</th>\n",
       "      <td>1</td>\n",
       "      <td>divya</td>\n",
       "      <td>div</td>\n",
       "    </tr>\n",
       "    <tr>\n",
       "      <th>1</th>\n",
       "      <td>3</td>\n",
       "      <td>jyoti</td>\n",
       "      <td>kirti</td>\n",
       "    </tr>\n",
       "  </tbody>\n",
       "</table>\n",
       "</div>"
      ],
      "text/plain": [
       "   id Name_x Name_y\n",
       "0   1  divya    div\n",
       "1   3  jyoti  kirti"
      ]
     },
     "execution_count": 36,
     "metadata": {},
     "output_type": "execute_result"
    }
   ],
   "source": [
    "#inner join\n",
    "pd.merge(d,d1,on='id',how='inner')"
   ]
  },
  {
   "cell_type": "code",
   "execution_count": 37,
   "metadata": {},
   "outputs": [
    {
     "data": {
      "text/html": [
       "<div>\n",
       "<style scoped>\n",
       "    .dataframe tbody tr th:only-of-type {\n",
       "        vertical-align: middle;\n",
       "    }\n",
       "\n",
       "    .dataframe tbody tr th {\n",
       "        vertical-align: top;\n",
       "    }\n",
       "\n",
       "    .dataframe thead th {\n",
       "        text-align: right;\n",
       "    }\n",
       "</style>\n",
       "<table border=\"1\" class=\"dataframe\">\n",
       "  <thead>\n",
       "    <tr style=\"text-align: right;\">\n",
       "      <th></th>\n",
       "      <th>id</th>\n",
       "      <th>Name_x</th>\n",
       "      <th>Name_y</th>\n",
       "    </tr>\n",
       "  </thead>\n",
       "  <tbody>\n",
       "    <tr>\n",
       "      <th>0</th>\n",
       "      <td>1</td>\n",
       "      <td>divya</td>\n",
       "      <td>div</td>\n",
       "    </tr>\n",
       "    <tr>\n",
       "      <th>1</th>\n",
       "      <td>2</td>\n",
       "      <td>karan</td>\n",
       "      <td>NaN</td>\n",
       "    </tr>\n",
       "    <tr>\n",
       "      <th>2</th>\n",
       "      <td>3</td>\n",
       "      <td>jyoti</td>\n",
       "      <td>kirti</td>\n",
       "    </tr>\n",
       "    <tr>\n",
       "      <th>3</th>\n",
       "      <td>4</td>\n",
       "      <td>shikha</td>\n",
       "      <td>NaN</td>\n",
       "    </tr>\n",
       "    <tr>\n",
       "      <th>4</th>\n",
       "      <td>5</td>\n",
       "      <td>NaN</td>\n",
       "      <td>joy</td>\n",
       "    </tr>\n",
       "    <tr>\n",
       "      <th>5</th>\n",
       "      <td>6</td>\n",
       "      <td>NaN</td>\n",
       "      <td>shivani</td>\n",
       "    </tr>\n",
       "  </tbody>\n",
       "</table>\n",
       "</div>"
      ],
      "text/plain": [
       "   id  Name_x   Name_y\n",
       "0   1   divya      div\n",
       "1   2   karan      NaN\n",
       "2   3   jyoti    kirti\n",
       "3   4  shikha      NaN\n",
       "4   5     NaN      joy\n",
       "5   6     NaN  shivani"
      ]
     },
     "execution_count": 37,
     "metadata": {},
     "output_type": "execute_result"
    }
   ],
   "source": [
    "#full outer join\n",
    "pd.merge(d,d1,on='id',how='outer')"
   ]
  },
  {
   "cell_type": "code",
   "execution_count": 38,
   "metadata": {},
   "outputs": [
    {
     "data": {
      "text/html": [
       "<div>\n",
       "<style scoped>\n",
       "    .dataframe tbody tr th:only-of-type {\n",
       "        vertical-align: middle;\n",
       "    }\n",
       "\n",
       "    .dataframe tbody tr th {\n",
       "        vertical-align: top;\n",
       "    }\n",
       "\n",
       "    .dataframe thead th {\n",
       "        text-align: right;\n",
       "    }\n",
       "</style>\n",
       "<table border=\"1\" class=\"dataframe\">\n",
       "  <thead>\n",
       "    <tr style=\"text-align: right;\">\n",
       "      <th></th>\n",
       "      <th>id</th>\n",
       "      <th>Name_x</th>\n",
       "      <th>Name_y</th>\n",
       "    </tr>\n",
       "  </thead>\n",
       "  <tbody>\n",
       "    <tr>\n",
       "      <th>0</th>\n",
       "      <td>1</td>\n",
       "      <td>divya</td>\n",
       "      <td>div</td>\n",
       "    </tr>\n",
       "    <tr>\n",
       "      <th>1</th>\n",
       "      <td>2</td>\n",
       "      <td>karan</td>\n",
       "      <td>NaN</td>\n",
       "    </tr>\n",
       "    <tr>\n",
       "      <th>2</th>\n",
       "      <td>3</td>\n",
       "      <td>jyoti</td>\n",
       "      <td>kirti</td>\n",
       "    </tr>\n",
       "    <tr>\n",
       "      <th>3</th>\n",
       "      <td>4</td>\n",
       "      <td>shikha</td>\n",
       "      <td>NaN</td>\n",
       "    </tr>\n",
       "  </tbody>\n",
       "</table>\n",
       "</div>"
      ],
      "text/plain": [
       "   id  Name_x Name_y\n",
       "0   1   divya    div\n",
       "1   2   karan    NaN\n",
       "2   3   jyoti  kirti\n",
       "3   4  shikha    NaN"
      ]
     },
     "execution_count": 38,
     "metadata": {},
     "output_type": "execute_result"
    }
   ],
   "source": [
    "#left outer join\n",
    "pd.merge(d,d1,on='id',how='left')"
   ]
  },
  {
   "cell_type": "code",
   "execution_count": 39,
   "metadata": {},
   "outputs": [
    {
     "data": {
      "text/html": [
       "<div>\n",
       "<style scoped>\n",
       "    .dataframe tbody tr th:only-of-type {\n",
       "        vertical-align: middle;\n",
       "    }\n",
       "\n",
       "    .dataframe tbody tr th {\n",
       "        vertical-align: top;\n",
       "    }\n",
       "\n",
       "    .dataframe thead th {\n",
       "        text-align: right;\n",
       "    }\n",
       "</style>\n",
       "<table border=\"1\" class=\"dataframe\">\n",
       "  <thead>\n",
       "    <tr style=\"text-align: right;\">\n",
       "      <th></th>\n",
       "      <th>id</th>\n",
       "      <th>Name_x</th>\n",
       "      <th>Name_y</th>\n",
       "    </tr>\n",
       "  </thead>\n",
       "  <tbody>\n",
       "    <tr>\n",
       "      <th>0</th>\n",
       "      <td>1</td>\n",
       "      <td>divya</td>\n",
       "      <td>div</td>\n",
       "    </tr>\n",
       "    <tr>\n",
       "      <th>1</th>\n",
       "      <td>3</td>\n",
       "      <td>jyoti</td>\n",
       "      <td>kirti</td>\n",
       "    </tr>\n",
       "    <tr>\n",
       "      <th>2</th>\n",
       "      <td>5</td>\n",
       "      <td>NaN</td>\n",
       "      <td>joy</td>\n",
       "    </tr>\n",
       "    <tr>\n",
       "      <th>3</th>\n",
       "      <td>6</td>\n",
       "      <td>NaN</td>\n",
       "      <td>shivani</td>\n",
       "    </tr>\n",
       "  </tbody>\n",
       "</table>\n",
       "</div>"
      ],
      "text/plain": [
       "   id Name_x   Name_y\n",
       "0   1  divya      div\n",
       "1   3  jyoti    kirti\n",
       "2   5    NaN      joy\n",
       "3   6    NaN  shivani"
      ]
     },
     "execution_count": 39,
     "metadata": {},
     "output_type": "execute_result"
    }
   ],
   "source": [
    "#right outer join\n",
    "pd.merge(d,d1,on='id',how='right')"
   ]
  },
  {
   "cell_type": "markdown",
   "metadata": {},
   "source": [
    "# Dealing with null values"
   ]
  },
  {
   "cell_type": "code",
   "execution_count": 139,
   "metadata": {},
   "outputs": [],
   "source": [
    "import numpy as np\n",
    "import pandas as pd"
   ]
  },
  {
   "cell_type": "code",
   "execution_count": 40,
   "metadata": {},
   "outputs": [
    {
     "data": {
      "text/plain": [
       "DatetimeIndex(['2021-01-25', '2021-01-26', '2021-01-27', '2021-01-28',\n",
       "               '2021-01-29', '2021-01-30', '2021-01-31'],\n",
       "              dtype='datetime64[ns]', freq='D')"
      ]
     },
     "execution_count": 40,
     "metadata": {},
     "output_type": "execute_result"
    }
   ],
   "source": [
    "date3=pd.date_range(start='2021-01-25',periods=7)\n",
    "date3\n"
   ]
  },
  {
   "cell_type": "code",
   "execution_count": 41,
   "metadata": {},
   "outputs": [
    {
     "data": {
      "text/plain": [
       "array([[0.5781643 , 0.23816353, 0.87155529, 0.20713533, 0.08335289,\n",
       "        0.76099589, 0.93058819],\n",
       "       [0.30690715, 0.43404167, 0.48475336, 0.90740944, 0.88053244,\n",
       "        0.33517914, 0.68304472],\n",
       "       [0.30141715, 0.98375507, 0.31562976, 0.45048783, 0.85311739,\n",
       "        0.11770628, 0.19784838],\n",
       "       [0.8743778 , 0.09894591, 0.93578372, 0.65582742, 0.07875114,\n",
       "        0.18409309, 0.54459817],\n",
       "       [0.35418578, 0.87968542, 0.51862676, 0.6211325 , 0.12282947,\n",
       "        0.41879195, 0.44618004],\n",
       "       [0.88235951, 0.49272123, 0.94101282, 0.99586259, 0.92406528,\n",
       "        0.43052674, 0.17872407],\n",
       "       [0.6047634 , 0.51457414, 0.66829482, 0.18516716, 0.03306081,\n",
       "        0.15668901, 0.73127093]])"
      ]
     },
     "execution_count": 41,
     "metadata": {},
     "output_type": "execute_result"
    }
   ],
   "source": [
    "r=np.random.random((7,7))\n",
    "r\n"
   ]
  },
  {
   "cell_type": "code",
   "execution_count": 42,
   "metadata": {},
   "outputs": [
    {
     "data": {
      "text/html": [
       "<div>\n",
       "<style scoped>\n",
       "    .dataframe tbody tr th:only-of-type {\n",
       "        vertical-align: middle;\n",
       "    }\n",
       "\n",
       "    .dataframe tbody tr th {\n",
       "        vertical-align: top;\n",
       "    }\n",
       "\n",
       "    .dataframe thead th {\n",
       "        text-align: right;\n",
       "    }\n",
       "</style>\n",
       "<table border=\"1\" class=\"dataframe\">\n",
       "  <thead>\n",
       "    <tr style=\"text-align: right;\">\n",
       "      <th></th>\n",
       "      <th>0</th>\n",
       "      <th>1</th>\n",
       "      <th>2</th>\n",
       "      <th>3</th>\n",
       "      <th>4</th>\n",
       "      <th>5</th>\n",
       "      <th>6</th>\n",
       "    </tr>\n",
       "  </thead>\n",
       "  <tbody>\n",
       "    <tr>\n",
       "      <th>2021-01-25</th>\n",
       "      <td>0.578164</td>\n",
       "      <td>0.238164</td>\n",
       "      <td>0.871555</td>\n",
       "      <td>0.207135</td>\n",
       "      <td>0.083353</td>\n",
       "      <td>0.760996</td>\n",
       "      <td>0.930588</td>\n",
       "    </tr>\n",
       "    <tr>\n",
       "      <th>2021-01-26</th>\n",
       "      <td>0.306907</td>\n",
       "      <td>0.434042</td>\n",
       "      <td>0.484753</td>\n",
       "      <td>0.907409</td>\n",
       "      <td>0.880532</td>\n",
       "      <td>0.335179</td>\n",
       "      <td>0.683045</td>\n",
       "    </tr>\n",
       "    <tr>\n",
       "      <th>2021-01-27</th>\n",
       "      <td>0.301417</td>\n",
       "      <td>0.983755</td>\n",
       "      <td>0.315630</td>\n",
       "      <td>0.450488</td>\n",
       "      <td>0.853117</td>\n",
       "      <td>0.117706</td>\n",
       "      <td>0.197848</td>\n",
       "    </tr>\n",
       "    <tr>\n",
       "      <th>2021-01-28</th>\n",
       "      <td>0.874378</td>\n",
       "      <td>0.098946</td>\n",
       "      <td>0.935784</td>\n",
       "      <td>0.655827</td>\n",
       "      <td>0.078751</td>\n",
       "      <td>0.184093</td>\n",
       "      <td>0.544598</td>\n",
       "    </tr>\n",
       "    <tr>\n",
       "      <th>2021-01-29</th>\n",
       "      <td>0.354186</td>\n",
       "      <td>0.879685</td>\n",
       "      <td>0.518627</td>\n",
       "      <td>0.621133</td>\n",
       "      <td>0.122829</td>\n",
       "      <td>0.418792</td>\n",
       "      <td>0.446180</td>\n",
       "    </tr>\n",
       "    <tr>\n",
       "      <th>2021-01-30</th>\n",
       "      <td>0.882360</td>\n",
       "      <td>0.492721</td>\n",
       "      <td>0.941013</td>\n",
       "      <td>0.995863</td>\n",
       "      <td>0.924065</td>\n",
       "      <td>0.430527</td>\n",
       "      <td>0.178724</td>\n",
       "    </tr>\n",
       "    <tr>\n",
       "      <th>2021-01-31</th>\n",
       "      <td>0.604763</td>\n",
       "      <td>0.514574</td>\n",
       "      <td>0.668295</td>\n",
       "      <td>0.185167</td>\n",
       "      <td>0.033061</td>\n",
       "      <td>0.156689</td>\n",
       "      <td>0.731271</td>\n",
       "    </tr>\n",
       "  </tbody>\n",
       "</table>\n",
       "</div>"
      ],
      "text/plain": [
       "                   0         1         2         3         4         5  \\\n",
       "2021-01-25  0.578164  0.238164  0.871555  0.207135  0.083353  0.760996   \n",
       "2021-01-26  0.306907  0.434042  0.484753  0.907409  0.880532  0.335179   \n",
       "2021-01-27  0.301417  0.983755  0.315630  0.450488  0.853117  0.117706   \n",
       "2021-01-28  0.874378  0.098946  0.935784  0.655827  0.078751  0.184093   \n",
       "2021-01-29  0.354186  0.879685  0.518627  0.621133  0.122829  0.418792   \n",
       "2021-01-30  0.882360  0.492721  0.941013  0.995863  0.924065  0.430527   \n",
       "2021-01-31  0.604763  0.514574  0.668295  0.185167  0.033061  0.156689   \n",
       "\n",
       "                   6  \n",
       "2021-01-25  0.930588  \n",
       "2021-01-26  0.683045  \n",
       "2021-01-27  0.197848  \n",
       "2021-01-28  0.544598  \n",
       "2021-01-29  0.446180  \n",
       "2021-01-30  0.178724  \n",
       "2021-01-31  0.731271  "
      ]
     },
     "execution_count": 42,
     "metadata": {},
     "output_type": "execute_result"
    }
   ],
   "source": [
    "d2=pd.DataFrame(r,date3)\n",
    "d2"
   ]
  },
  {
   "cell_type": "code",
   "execution_count": 43,
   "metadata": {},
   "outputs": [
    {
     "data": {
      "text/html": [
       "<div>\n",
       "<style scoped>\n",
       "    .dataframe tbody tr th:only-of-type {\n",
       "        vertical-align: middle;\n",
       "    }\n",
       "\n",
       "    .dataframe tbody tr th {\n",
       "        vertical-align: top;\n",
       "    }\n",
       "\n",
       "    .dataframe thead th {\n",
       "        text-align: right;\n",
       "    }\n",
       "</style>\n",
       "<table border=\"1\" class=\"dataframe\">\n",
       "  <thead>\n",
       "    <tr style=\"text-align: right;\">\n",
       "      <th></th>\n",
       "      <th>A</th>\n",
       "      <th>B</th>\n",
       "      <th>C</th>\n",
       "      <th>D</th>\n",
       "      <th>E</th>\n",
       "      <th>F</th>\n",
       "      <th>G</th>\n",
       "    </tr>\n",
       "  </thead>\n",
       "  <tbody>\n",
       "    <tr>\n",
       "      <th>2021-01-25</th>\n",
       "      <td>0.578164</td>\n",
       "      <td>0.238164</td>\n",
       "      <td>0.871555</td>\n",
       "      <td>0.207135</td>\n",
       "      <td>0.083353</td>\n",
       "      <td>0.760996</td>\n",
       "      <td>0.930588</td>\n",
       "    </tr>\n",
       "    <tr>\n",
       "      <th>2021-01-26</th>\n",
       "      <td>0.306907</td>\n",
       "      <td>0.434042</td>\n",
       "      <td>0.484753</td>\n",
       "      <td>0.907409</td>\n",
       "      <td>0.880532</td>\n",
       "      <td>0.335179</td>\n",
       "      <td>0.683045</td>\n",
       "    </tr>\n",
       "    <tr>\n",
       "      <th>2021-01-27</th>\n",
       "      <td>0.301417</td>\n",
       "      <td>0.983755</td>\n",
       "      <td>0.315630</td>\n",
       "      <td>0.450488</td>\n",
       "      <td>0.853117</td>\n",
       "      <td>0.117706</td>\n",
       "      <td>0.197848</td>\n",
       "    </tr>\n",
       "    <tr>\n",
       "      <th>2021-01-28</th>\n",
       "      <td>0.874378</td>\n",
       "      <td>0.098946</td>\n",
       "      <td>0.935784</td>\n",
       "      <td>0.655827</td>\n",
       "      <td>0.078751</td>\n",
       "      <td>0.184093</td>\n",
       "      <td>0.544598</td>\n",
       "    </tr>\n",
       "    <tr>\n",
       "      <th>2021-01-29</th>\n",
       "      <td>0.354186</td>\n",
       "      <td>0.879685</td>\n",
       "      <td>0.518627</td>\n",
       "      <td>0.621133</td>\n",
       "      <td>0.122829</td>\n",
       "      <td>0.418792</td>\n",
       "      <td>0.446180</td>\n",
       "    </tr>\n",
       "    <tr>\n",
       "      <th>2021-01-30</th>\n",
       "      <td>0.882360</td>\n",
       "      <td>0.492721</td>\n",
       "      <td>0.941013</td>\n",
       "      <td>0.995863</td>\n",
       "      <td>0.924065</td>\n",
       "      <td>0.430527</td>\n",
       "      <td>0.178724</td>\n",
       "    </tr>\n",
       "    <tr>\n",
       "      <th>2021-01-31</th>\n",
       "      <td>0.604763</td>\n",
       "      <td>0.514574</td>\n",
       "      <td>0.668295</td>\n",
       "      <td>0.185167</td>\n",
       "      <td>0.033061</td>\n",
       "      <td>0.156689</td>\n",
       "      <td>0.731271</td>\n",
       "    </tr>\n",
       "  </tbody>\n",
       "</table>\n",
       "</div>"
      ],
      "text/plain": [
       "                   A         B         C         D         E         F  \\\n",
       "2021-01-25  0.578164  0.238164  0.871555  0.207135  0.083353  0.760996   \n",
       "2021-01-26  0.306907  0.434042  0.484753  0.907409  0.880532  0.335179   \n",
       "2021-01-27  0.301417  0.983755  0.315630  0.450488  0.853117  0.117706   \n",
       "2021-01-28  0.874378  0.098946  0.935784  0.655827  0.078751  0.184093   \n",
       "2021-01-29  0.354186  0.879685  0.518627  0.621133  0.122829  0.418792   \n",
       "2021-01-30  0.882360  0.492721  0.941013  0.995863  0.924065  0.430527   \n",
       "2021-01-31  0.604763  0.514574  0.668295  0.185167  0.033061  0.156689   \n",
       "\n",
       "                   G  \n",
       "2021-01-25  0.930588  \n",
       "2021-01-26  0.683045  \n",
       "2021-01-27  0.197848  \n",
       "2021-01-28  0.544598  \n",
       "2021-01-29  0.446180  \n",
       "2021-01-30  0.178724  \n",
       "2021-01-31  0.731271  "
      ]
     },
     "execution_count": 43,
     "metadata": {},
     "output_type": "execute_result"
    }
   ],
   "source": [
    "d2.columns=['A','B','C','D','E','F','G']\n",
    "d2"
   ]
  },
  {
   "cell_type": "code",
   "execution_count": 44,
   "metadata": {},
   "outputs": [],
   "source": [
    "d2.at[0:8,'E']=np.NaN\n",
    "d2.at[0:2, 'A']=np.NAN\n",
    "d2.at[1:5, 'C']=np.NAN"
   ]
  },
  {
   "cell_type": "code",
   "execution_count": 45,
   "metadata": {},
   "outputs": [
    {
     "data": {
      "text/html": [
       "<div>\n",
       "<style scoped>\n",
       "    .dataframe tbody tr th:only-of-type {\n",
       "        vertical-align: middle;\n",
       "    }\n",
       "\n",
       "    .dataframe tbody tr th {\n",
       "        vertical-align: top;\n",
       "    }\n",
       "\n",
       "    .dataframe thead th {\n",
       "        text-align: right;\n",
       "    }\n",
       "</style>\n",
       "<table border=\"1\" class=\"dataframe\">\n",
       "  <thead>\n",
       "    <tr style=\"text-align: right;\">\n",
       "      <th></th>\n",
       "      <th>A</th>\n",
       "      <th>B</th>\n",
       "      <th>C</th>\n",
       "      <th>D</th>\n",
       "      <th>E</th>\n",
       "      <th>F</th>\n",
       "      <th>G</th>\n",
       "    </tr>\n",
       "  </thead>\n",
       "  <tbody>\n",
       "    <tr>\n",
       "      <th>2021-01-25</th>\n",
       "      <td>NaN</td>\n",
       "      <td>0.238164</td>\n",
       "      <td>0.871555</td>\n",
       "      <td>0.207135</td>\n",
       "      <td>NaN</td>\n",
       "      <td>0.760996</td>\n",
       "      <td>0.930588</td>\n",
       "    </tr>\n",
       "    <tr>\n",
       "      <th>2021-01-26</th>\n",
       "      <td>NaN</td>\n",
       "      <td>0.434042</td>\n",
       "      <td>NaN</td>\n",
       "      <td>0.907409</td>\n",
       "      <td>NaN</td>\n",
       "      <td>0.335179</td>\n",
       "      <td>0.683045</td>\n",
       "    </tr>\n",
       "    <tr>\n",
       "      <th>2021-01-27</th>\n",
       "      <td>0.301417</td>\n",
       "      <td>0.983755</td>\n",
       "      <td>NaN</td>\n",
       "      <td>0.450488</td>\n",
       "      <td>NaN</td>\n",
       "      <td>0.117706</td>\n",
       "      <td>0.197848</td>\n",
       "    </tr>\n",
       "    <tr>\n",
       "      <th>2021-01-28</th>\n",
       "      <td>0.874378</td>\n",
       "      <td>0.098946</td>\n",
       "      <td>NaN</td>\n",
       "      <td>0.655827</td>\n",
       "      <td>NaN</td>\n",
       "      <td>0.184093</td>\n",
       "      <td>0.544598</td>\n",
       "    </tr>\n",
       "    <tr>\n",
       "      <th>2021-01-29</th>\n",
       "      <td>0.354186</td>\n",
       "      <td>0.879685</td>\n",
       "      <td>NaN</td>\n",
       "      <td>0.621133</td>\n",
       "      <td>NaN</td>\n",
       "      <td>0.418792</td>\n",
       "      <td>0.446180</td>\n",
       "    </tr>\n",
       "    <tr>\n",
       "      <th>2021-01-30</th>\n",
       "      <td>0.882360</td>\n",
       "      <td>0.492721</td>\n",
       "      <td>0.941013</td>\n",
       "      <td>0.995863</td>\n",
       "      <td>NaN</td>\n",
       "      <td>0.430527</td>\n",
       "      <td>0.178724</td>\n",
       "    </tr>\n",
       "    <tr>\n",
       "      <th>2021-01-31</th>\n",
       "      <td>0.604763</td>\n",
       "      <td>0.514574</td>\n",
       "      <td>0.668295</td>\n",
       "      <td>0.185167</td>\n",
       "      <td>NaN</td>\n",
       "      <td>0.156689</td>\n",
       "      <td>0.731271</td>\n",
       "    </tr>\n",
       "  </tbody>\n",
       "</table>\n",
       "</div>"
      ],
      "text/plain": [
       "                   A         B         C         D   E         F         G\n",
       "2021-01-25       NaN  0.238164  0.871555  0.207135 NaN  0.760996  0.930588\n",
       "2021-01-26       NaN  0.434042       NaN  0.907409 NaN  0.335179  0.683045\n",
       "2021-01-27  0.301417  0.983755       NaN  0.450488 NaN  0.117706  0.197848\n",
       "2021-01-28  0.874378  0.098946       NaN  0.655827 NaN  0.184093  0.544598\n",
       "2021-01-29  0.354186  0.879685       NaN  0.621133 NaN  0.418792  0.446180\n",
       "2021-01-30  0.882360  0.492721  0.941013  0.995863 NaN  0.430527  0.178724\n",
       "2021-01-31  0.604763  0.514574  0.668295  0.185167 NaN  0.156689  0.731271"
      ]
     },
     "execution_count": 45,
     "metadata": {},
     "output_type": "execute_result"
    }
   ],
   "source": [
    "d2"
   ]
  },
  {
   "cell_type": "code",
   "execution_count": 46,
   "metadata": {},
   "outputs": [
    {
     "data": {
      "text/html": [
       "<div>\n",
       "<style scoped>\n",
       "    .dataframe tbody tr th:only-of-type {\n",
       "        vertical-align: middle;\n",
       "    }\n",
       "\n",
       "    .dataframe tbody tr th {\n",
       "        vertical-align: top;\n",
       "    }\n",
       "\n",
       "    .dataframe thead th {\n",
       "        text-align: right;\n",
       "    }\n",
       "</style>\n",
       "<table border=\"1\" class=\"dataframe\">\n",
       "  <thead>\n",
       "    <tr style=\"text-align: right;\">\n",
       "      <th></th>\n",
       "      <th>A</th>\n",
       "      <th>B</th>\n",
       "      <th>C</th>\n",
       "      <th>D</th>\n",
       "      <th>E</th>\n",
       "      <th>F</th>\n",
       "      <th>G</th>\n",
       "    </tr>\n",
       "  </thead>\n",
       "  <tbody>\n",
       "    <tr>\n",
       "      <th>2021-01-25</th>\n",
       "      <td>False</td>\n",
       "      <td>True</td>\n",
       "      <td>True</td>\n",
       "      <td>True</td>\n",
       "      <td>False</td>\n",
       "      <td>True</td>\n",
       "      <td>True</td>\n",
       "    </tr>\n",
       "    <tr>\n",
       "      <th>2021-01-26</th>\n",
       "      <td>False</td>\n",
       "      <td>True</td>\n",
       "      <td>False</td>\n",
       "      <td>True</td>\n",
       "      <td>False</td>\n",
       "      <td>True</td>\n",
       "      <td>True</td>\n",
       "    </tr>\n",
       "    <tr>\n",
       "      <th>2021-01-27</th>\n",
       "      <td>True</td>\n",
       "      <td>True</td>\n",
       "      <td>False</td>\n",
       "      <td>True</td>\n",
       "      <td>False</td>\n",
       "      <td>True</td>\n",
       "      <td>True</td>\n",
       "    </tr>\n",
       "    <tr>\n",
       "      <th>2021-01-28</th>\n",
       "      <td>True</td>\n",
       "      <td>True</td>\n",
       "      <td>False</td>\n",
       "      <td>True</td>\n",
       "      <td>False</td>\n",
       "      <td>True</td>\n",
       "      <td>True</td>\n",
       "    </tr>\n",
       "    <tr>\n",
       "      <th>2021-01-29</th>\n",
       "      <td>True</td>\n",
       "      <td>True</td>\n",
       "      <td>False</td>\n",
       "      <td>True</td>\n",
       "      <td>False</td>\n",
       "      <td>True</td>\n",
       "      <td>True</td>\n",
       "    </tr>\n",
       "    <tr>\n",
       "      <th>2021-01-30</th>\n",
       "      <td>True</td>\n",
       "      <td>True</td>\n",
       "      <td>True</td>\n",
       "      <td>True</td>\n",
       "      <td>False</td>\n",
       "      <td>True</td>\n",
       "      <td>True</td>\n",
       "    </tr>\n",
       "    <tr>\n",
       "      <th>2021-01-31</th>\n",
       "      <td>True</td>\n",
       "      <td>True</td>\n",
       "      <td>True</td>\n",
       "      <td>True</td>\n",
       "      <td>False</td>\n",
       "      <td>True</td>\n",
       "      <td>True</td>\n",
       "    </tr>\n",
       "  </tbody>\n",
       "</table>\n",
       "</div>"
      ],
      "text/plain": [
       "                A     B      C     D      E     F     G\n",
       "2021-01-25  False  True   True  True  False  True  True\n",
       "2021-01-26  False  True  False  True  False  True  True\n",
       "2021-01-27   True  True  False  True  False  True  True\n",
       "2021-01-28   True  True  False  True  False  True  True\n",
       "2021-01-29   True  True  False  True  False  True  True\n",
       "2021-01-30   True  True   True  True  False  True  True\n",
       "2021-01-31   True  True   True  True  False  True  True"
      ]
     },
     "execution_count": 46,
     "metadata": {},
     "output_type": "execute_result"
    }
   ],
   "source": [
    "#detect non missing values\n",
    "#it will return true for not-null values and false for null values\n",
    "d2.notna()"
   ]
  },
  {
   "cell_type": "code",
   "execution_count": 47,
   "metadata": {},
   "outputs": [
    {
     "data": {
      "text/html": [
       "<div>\n",
       "<style scoped>\n",
       "    .dataframe tbody tr th:only-of-type {\n",
       "        vertical-align: middle;\n",
       "    }\n",
       "\n",
       "    .dataframe tbody tr th {\n",
       "        vertical-align: top;\n",
       "    }\n",
       "\n",
       "    .dataframe thead th {\n",
       "        text-align: right;\n",
       "    }\n",
       "</style>\n",
       "<table border=\"1\" class=\"dataframe\">\n",
       "  <thead>\n",
       "    <tr style=\"text-align: right;\">\n",
       "      <th></th>\n",
       "      <th>A</th>\n",
       "      <th>B</th>\n",
       "      <th>C</th>\n",
       "      <th>D</th>\n",
       "      <th>E</th>\n",
       "      <th>F</th>\n",
       "      <th>G</th>\n",
       "    </tr>\n",
       "  </thead>\n",
       "  <tbody>\n",
       "    <tr>\n",
       "      <th>2021-01-25</th>\n",
       "      <td>NaN</td>\n",
       "      <td>0.238164</td>\n",
       "      <td>0.871555</td>\n",
       "      <td>0.207135</td>\n",
       "      <td>NaN</td>\n",
       "      <td>0.760996</td>\n",
       "      <td>0.930588</td>\n",
       "    </tr>\n",
       "    <tr>\n",
       "      <th>2021-01-26</th>\n",
       "      <td>NaN</td>\n",
       "      <td>0.434042</td>\n",
       "      <td>NaN</td>\n",
       "      <td>0.907409</td>\n",
       "      <td>NaN</td>\n",
       "      <td>0.335179</td>\n",
       "      <td>0.683045</td>\n",
       "    </tr>\n",
       "    <tr>\n",
       "      <th>2021-01-27</th>\n",
       "      <td>0.301417</td>\n",
       "      <td>0.983755</td>\n",
       "      <td>NaN</td>\n",
       "      <td>0.450488</td>\n",
       "      <td>NaN</td>\n",
       "      <td>0.117706</td>\n",
       "      <td>0.197848</td>\n",
       "    </tr>\n",
       "    <tr>\n",
       "      <th>2021-01-28</th>\n",
       "      <td>0.874378</td>\n",
       "      <td>0.098946</td>\n",
       "      <td>NaN</td>\n",
       "      <td>0.655827</td>\n",
       "      <td>NaN</td>\n",
       "      <td>0.184093</td>\n",
       "      <td>0.544598</td>\n",
       "    </tr>\n",
       "    <tr>\n",
       "      <th>2021-01-29</th>\n",
       "      <td>0.354186</td>\n",
       "      <td>0.879685</td>\n",
       "      <td>NaN</td>\n",
       "      <td>0.621133</td>\n",
       "      <td>NaN</td>\n",
       "      <td>0.418792</td>\n",
       "      <td>0.446180</td>\n",
       "    </tr>\n",
       "    <tr>\n",
       "      <th>2021-01-30</th>\n",
       "      <td>0.882360</td>\n",
       "      <td>0.492721</td>\n",
       "      <td>0.941013</td>\n",
       "      <td>0.995863</td>\n",
       "      <td>NaN</td>\n",
       "      <td>0.430527</td>\n",
       "      <td>0.178724</td>\n",
       "    </tr>\n",
       "    <tr>\n",
       "      <th>2021-01-31</th>\n",
       "      <td>0.604763</td>\n",
       "      <td>0.514574</td>\n",
       "      <td>0.668295</td>\n",
       "      <td>0.185167</td>\n",
       "      <td>NaN</td>\n",
       "      <td>0.156689</td>\n",
       "      <td>0.731271</td>\n",
       "    </tr>\n",
       "  </tbody>\n",
       "</table>\n",
       "</div>"
      ],
      "text/plain": [
       "                   A         B         C         D   E         F         G\n",
       "2021-01-25       NaN  0.238164  0.871555  0.207135 NaN  0.760996  0.930588\n",
       "2021-01-26       NaN  0.434042       NaN  0.907409 NaN  0.335179  0.683045\n",
       "2021-01-27  0.301417  0.983755       NaN  0.450488 NaN  0.117706  0.197848\n",
       "2021-01-28  0.874378  0.098946       NaN  0.655827 NaN  0.184093  0.544598\n",
       "2021-01-29  0.354186  0.879685       NaN  0.621133 NaN  0.418792  0.446180\n",
       "2021-01-30  0.882360  0.492721  0.941013  0.995863 NaN  0.430527  0.178724\n",
       "2021-01-31  0.604763  0.514574  0.668295  0.185167 NaN  0.156689  0.731271"
      ]
     },
     "execution_count": 47,
     "metadata": {},
     "output_type": "execute_result"
    }
   ],
   "source": [
    "d2"
   ]
  },
  {
   "cell_type": "code",
   "execution_count": 48,
   "metadata": {},
   "outputs": [
    {
     "data": {
      "text/html": [
       "<div>\n",
       "<style scoped>\n",
       "    .dataframe tbody tr th:only-of-type {\n",
       "        vertical-align: middle;\n",
       "    }\n",
       "\n",
       "    .dataframe tbody tr th {\n",
       "        vertical-align: top;\n",
       "    }\n",
       "\n",
       "    .dataframe thead th {\n",
       "        text-align: right;\n",
       "    }\n",
       "</style>\n",
       "<table border=\"1\" class=\"dataframe\">\n",
       "  <thead>\n",
       "    <tr style=\"text-align: right;\">\n",
       "      <th></th>\n",
       "      <th>A</th>\n",
       "      <th>B</th>\n",
       "      <th>C</th>\n",
       "      <th>D</th>\n",
       "      <th>E</th>\n",
       "      <th>F</th>\n",
       "      <th>G</th>\n",
       "    </tr>\n",
       "  </thead>\n",
       "  <tbody>\n",
       "    <tr>\n",
       "      <th>2021-01-25</th>\n",
       "      <td>True</td>\n",
       "      <td>False</td>\n",
       "      <td>False</td>\n",
       "      <td>False</td>\n",
       "      <td>True</td>\n",
       "      <td>False</td>\n",
       "      <td>False</td>\n",
       "    </tr>\n",
       "    <tr>\n",
       "      <th>2021-01-26</th>\n",
       "      <td>True</td>\n",
       "      <td>False</td>\n",
       "      <td>True</td>\n",
       "      <td>False</td>\n",
       "      <td>True</td>\n",
       "      <td>False</td>\n",
       "      <td>False</td>\n",
       "    </tr>\n",
       "    <tr>\n",
       "      <th>2021-01-27</th>\n",
       "      <td>False</td>\n",
       "      <td>False</td>\n",
       "      <td>True</td>\n",
       "      <td>False</td>\n",
       "      <td>True</td>\n",
       "      <td>False</td>\n",
       "      <td>False</td>\n",
       "    </tr>\n",
       "    <tr>\n",
       "      <th>2021-01-28</th>\n",
       "      <td>False</td>\n",
       "      <td>False</td>\n",
       "      <td>True</td>\n",
       "      <td>False</td>\n",
       "      <td>True</td>\n",
       "      <td>False</td>\n",
       "      <td>False</td>\n",
       "    </tr>\n",
       "    <tr>\n",
       "      <th>2021-01-29</th>\n",
       "      <td>False</td>\n",
       "      <td>False</td>\n",
       "      <td>True</td>\n",
       "      <td>False</td>\n",
       "      <td>True</td>\n",
       "      <td>False</td>\n",
       "      <td>False</td>\n",
       "    </tr>\n",
       "    <tr>\n",
       "      <th>2021-01-30</th>\n",
       "      <td>False</td>\n",
       "      <td>False</td>\n",
       "      <td>False</td>\n",
       "      <td>False</td>\n",
       "      <td>True</td>\n",
       "      <td>False</td>\n",
       "      <td>False</td>\n",
       "    </tr>\n",
       "    <tr>\n",
       "      <th>2021-01-31</th>\n",
       "      <td>False</td>\n",
       "      <td>False</td>\n",
       "      <td>False</td>\n",
       "      <td>False</td>\n",
       "      <td>True</td>\n",
       "      <td>False</td>\n",
       "      <td>False</td>\n",
       "    </tr>\n",
       "  </tbody>\n",
       "</table>\n",
       "</div>"
      ],
      "text/plain": [
       "                A      B      C      D     E      F      G\n",
       "2021-01-25   True  False  False  False  True  False  False\n",
       "2021-01-26   True  False   True  False  True  False  False\n",
       "2021-01-27  False  False   True  False  True  False  False\n",
       "2021-01-28  False  False   True  False  True  False  False\n",
       "2021-01-29  False  False   True  False  True  False  False\n",
       "2021-01-30  False  False  False  False  True  False  False\n",
       "2021-01-31  False  False  False  False  True  False  False"
      ]
     },
     "execution_count": 48,
     "metadata": {},
     "output_type": "execute_result"
    }
   ],
   "source": [
    "#detect missing or NULL values\n",
    "#it will return True for NULL values and False for NOT-NULL values\n",
    "d2.isna()"
   ]
  },
  {
   "cell_type": "code",
   "execution_count": 49,
   "metadata": {},
   "outputs": [
    {
     "data": {
      "text/html": [
       "<div>\n",
       "<style scoped>\n",
       "    .dataframe tbody tr th:only-of-type {\n",
       "        vertical-align: middle;\n",
       "    }\n",
       "\n",
       "    .dataframe tbody tr th {\n",
       "        vertical-align: top;\n",
       "    }\n",
       "\n",
       "    .dataframe thead th {\n",
       "        text-align: right;\n",
       "    }\n",
       "</style>\n",
       "<table border=\"1\" class=\"dataframe\">\n",
       "  <thead>\n",
       "    <tr style=\"text-align: right;\">\n",
       "      <th></th>\n",
       "      <th>A</th>\n",
       "      <th>B</th>\n",
       "      <th>C</th>\n",
       "      <th>D</th>\n",
       "      <th>E</th>\n",
       "      <th>F</th>\n",
       "      <th>G</th>\n",
       "    </tr>\n",
       "  </thead>\n",
       "  <tbody>\n",
       "    <tr>\n",
       "      <th>2021-01-25</th>\n",
       "      <td>102.000000</td>\n",
       "      <td>0.238164</td>\n",
       "      <td>0.871555</td>\n",
       "      <td>0.207135</td>\n",
       "      <td>102.0</td>\n",
       "      <td>0.760996</td>\n",
       "      <td>0.930588</td>\n",
       "    </tr>\n",
       "    <tr>\n",
       "      <th>2021-01-26</th>\n",
       "      <td>102.000000</td>\n",
       "      <td>0.434042</td>\n",
       "      <td>102.000000</td>\n",
       "      <td>0.907409</td>\n",
       "      <td>102.0</td>\n",
       "      <td>0.335179</td>\n",
       "      <td>0.683045</td>\n",
       "    </tr>\n",
       "    <tr>\n",
       "      <th>2021-01-27</th>\n",
       "      <td>0.301417</td>\n",
       "      <td>0.983755</td>\n",
       "      <td>102.000000</td>\n",
       "      <td>0.450488</td>\n",
       "      <td>102.0</td>\n",
       "      <td>0.117706</td>\n",
       "      <td>0.197848</td>\n",
       "    </tr>\n",
       "    <tr>\n",
       "      <th>2021-01-28</th>\n",
       "      <td>0.874378</td>\n",
       "      <td>0.098946</td>\n",
       "      <td>102.000000</td>\n",
       "      <td>0.655827</td>\n",
       "      <td>102.0</td>\n",
       "      <td>0.184093</td>\n",
       "      <td>0.544598</td>\n",
       "    </tr>\n",
       "    <tr>\n",
       "      <th>2021-01-29</th>\n",
       "      <td>0.354186</td>\n",
       "      <td>0.879685</td>\n",
       "      <td>102.000000</td>\n",
       "      <td>0.621133</td>\n",
       "      <td>102.0</td>\n",
       "      <td>0.418792</td>\n",
       "      <td>0.446180</td>\n",
       "    </tr>\n",
       "    <tr>\n",
       "      <th>2021-01-30</th>\n",
       "      <td>0.882360</td>\n",
       "      <td>0.492721</td>\n",
       "      <td>0.941013</td>\n",
       "      <td>0.995863</td>\n",
       "      <td>102.0</td>\n",
       "      <td>0.430527</td>\n",
       "      <td>0.178724</td>\n",
       "    </tr>\n",
       "    <tr>\n",
       "      <th>2021-01-31</th>\n",
       "      <td>0.604763</td>\n",
       "      <td>0.514574</td>\n",
       "      <td>0.668295</td>\n",
       "      <td>0.185167</td>\n",
       "      <td>102.0</td>\n",
       "      <td>0.156689</td>\n",
       "      <td>0.731271</td>\n",
       "    </tr>\n",
       "  </tbody>\n",
       "</table>\n",
       "</div>"
      ],
      "text/plain": [
       "                     A         B           C         D      E         F  \\\n",
       "2021-01-25  102.000000  0.238164    0.871555  0.207135  102.0  0.760996   \n",
       "2021-01-26  102.000000  0.434042  102.000000  0.907409  102.0  0.335179   \n",
       "2021-01-27    0.301417  0.983755  102.000000  0.450488  102.0  0.117706   \n",
       "2021-01-28    0.874378  0.098946  102.000000  0.655827  102.0  0.184093   \n",
       "2021-01-29    0.354186  0.879685  102.000000  0.621133  102.0  0.418792   \n",
       "2021-01-30    0.882360  0.492721    0.941013  0.995863  102.0  0.430527   \n",
       "2021-01-31    0.604763  0.514574    0.668295  0.185167  102.0  0.156689   \n",
       "\n",
       "                   G  \n",
       "2021-01-25  0.930588  \n",
       "2021-01-26  0.683045  \n",
       "2021-01-27  0.197848  \n",
       "2021-01-28  0.544598  \n",
       "2021-01-29  0.446180  \n",
       "2021-01-30  0.178724  \n",
       "2021-01-31  0.731271  "
      ]
     },
     "execution_count": 49,
     "metadata": {},
     "output_type": "execute_result"
    }
   ],
   "source": [
    "#fill all NULL values with 102\n",
    "d2=d2.fillna(102)\n",
    "d2"
   ]
  },
  {
   "cell_type": "code",
   "execution_count": 50,
   "metadata": {},
   "outputs": [],
   "source": [
    "d2.at[2:8,'G']=np.NaN\n",
    "d2.at[0:5, 'B']=np.NAN"
   ]
  },
  {
   "cell_type": "code",
   "execution_count": 51,
   "metadata": {},
   "outputs": [
    {
     "data": {
      "text/html": [
       "<div>\n",
       "<style scoped>\n",
       "    .dataframe tbody tr th:only-of-type {\n",
       "        vertical-align: middle;\n",
       "    }\n",
       "\n",
       "    .dataframe tbody tr th {\n",
       "        vertical-align: top;\n",
       "    }\n",
       "\n",
       "    .dataframe thead th {\n",
       "        text-align: right;\n",
       "    }\n",
       "</style>\n",
       "<table border=\"1\" class=\"dataframe\">\n",
       "  <thead>\n",
       "    <tr style=\"text-align: right;\">\n",
       "      <th></th>\n",
       "      <th>A</th>\n",
       "      <th>B</th>\n",
       "      <th>C</th>\n",
       "      <th>D</th>\n",
       "      <th>E</th>\n",
       "      <th>F</th>\n",
       "      <th>G</th>\n",
       "    </tr>\n",
       "  </thead>\n",
       "  <tbody>\n",
       "    <tr>\n",
       "      <th>2021-01-25</th>\n",
       "      <td>102.000000</td>\n",
       "      <td>NaN</td>\n",
       "      <td>0.871555</td>\n",
       "      <td>0.207135</td>\n",
       "      <td>102.0</td>\n",
       "      <td>0.760996</td>\n",
       "      <td>0.930588</td>\n",
       "    </tr>\n",
       "    <tr>\n",
       "      <th>2021-01-26</th>\n",
       "      <td>102.000000</td>\n",
       "      <td>NaN</td>\n",
       "      <td>102.000000</td>\n",
       "      <td>0.907409</td>\n",
       "      <td>102.0</td>\n",
       "      <td>0.335179</td>\n",
       "      <td>0.683045</td>\n",
       "    </tr>\n",
       "    <tr>\n",
       "      <th>2021-01-27</th>\n",
       "      <td>0.301417</td>\n",
       "      <td>NaN</td>\n",
       "      <td>102.000000</td>\n",
       "      <td>0.450488</td>\n",
       "      <td>102.0</td>\n",
       "      <td>0.117706</td>\n",
       "      <td>NaN</td>\n",
       "    </tr>\n",
       "    <tr>\n",
       "      <th>2021-01-28</th>\n",
       "      <td>0.874378</td>\n",
       "      <td>NaN</td>\n",
       "      <td>102.000000</td>\n",
       "      <td>0.655827</td>\n",
       "      <td>102.0</td>\n",
       "      <td>0.184093</td>\n",
       "      <td>NaN</td>\n",
       "    </tr>\n",
       "    <tr>\n",
       "      <th>2021-01-29</th>\n",
       "      <td>0.354186</td>\n",
       "      <td>NaN</td>\n",
       "      <td>102.000000</td>\n",
       "      <td>0.621133</td>\n",
       "      <td>102.0</td>\n",
       "      <td>0.418792</td>\n",
       "      <td>NaN</td>\n",
       "    </tr>\n",
       "    <tr>\n",
       "      <th>2021-01-30</th>\n",
       "      <td>0.882360</td>\n",
       "      <td>0.492721</td>\n",
       "      <td>0.941013</td>\n",
       "      <td>0.995863</td>\n",
       "      <td>102.0</td>\n",
       "      <td>0.430527</td>\n",
       "      <td>NaN</td>\n",
       "    </tr>\n",
       "    <tr>\n",
       "      <th>2021-01-31</th>\n",
       "      <td>0.604763</td>\n",
       "      <td>0.514574</td>\n",
       "      <td>0.668295</td>\n",
       "      <td>0.185167</td>\n",
       "      <td>102.0</td>\n",
       "      <td>0.156689</td>\n",
       "      <td>NaN</td>\n",
       "    </tr>\n",
       "  </tbody>\n",
       "</table>\n",
       "</div>"
      ],
      "text/plain": [
       "                     A         B           C         D      E         F  \\\n",
       "2021-01-25  102.000000       NaN    0.871555  0.207135  102.0  0.760996   \n",
       "2021-01-26  102.000000       NaN  102.000000  0.907409  102.0  0.335179   \n",
       "2021-01-27    0.301417       NaN  102.000000  0.450488  102.0  0.117706   \n",
       "2021-01-28    0.874378       NaN  102.000000  0.655827  102.0  0.184093   \n",
       "2021-01-29    0.354186       NaN  102.000000  0.621133  102.0  0.418792   \n",
       "2021-01-30    0.882360  0.492721    0.941013  0.995863  102.0  0.430527   \n",
       "2021-01-31    0.604763  0.514574    0.668295  0.185167  102.0  0.156689   \n",
       "\n",
       "                   G  \n",
       "2021-01-25  0.930588  \n",
       "2021-01-26  0.683045  \n",
       "2021-01-27       NaN  \n",
       "2021-01-28       NaN  \n",
       "2021-01-29       NaN  \n",
       "2021-01-30       NaN  \n",
       "2021-01-31       NaN  "
      ]
     },
     "execution_count": 51,
     "metadata": {},
     "output_type": "execute_result"
    }
   ],
   "source": [
    "d2"
   ]
  },
  {
   "cell_type": "code",
   "execution_count": 52,
   "metadata": {},
   "outputs": [],
   "source": [
    "d2=d2.fillna(value={'B':122,'G':125})"
   ]
  },
  {
   "cell_type": "code",
   "execution_count": 53,
   "metadata": {},
   "outputs": [
    {
     "data": {
      "text/html": [
       "<div>\n",
       "<style scoped>\n",
       "    .dataframe tbody tr th:only-of-type {\n",
       "        vertical-align: middle;\n",
       "    }\n",
       "\n",
       "    .dataframe tbody tr th {\n",
       "        vertical-align: top;\n",
       "    }\n",
       "\n",
       "    .dataframe thead th {\n",
       "        text-align: right;\n",
       "    }\n",
       "</style>\n",
       "<table border=\"1\" class=\"dataframe\">\n",
       "  <thead>\n",
       "    <tr style=\"text-align: right;\">\n",
       "      <th></th>\n",
       "      <th>A</th>\n",
       "      <th>B</th>\n",
       "      <th>C</th>\n",
       "      <th>D</th>\n",
       "      <th>E</th>\n",
       "      <th>F</th>\n",
       "      <th>G</th>\n",
       "    </tr>\n",
       "  </thead>\n",
       "  <tbody>\n",
       "    <tr>\n",
       "      <th>2021-01-25</th>\n",
       "      <td>102.000000</td>\n",
       "      <td>122.000000</td>\n",
       "      <td>0.871555</td>\n",
       "      <td>0.207135</td>\n",
       "      <td>102.0</td>\n",
       "      <td>0.760996</td>\n",
       "      <td>0.930588</td>\n",
       "    </tr>\n",
       "    <tr>\n",
       "      <th>2021-01-26</th>\n",
       "      <td>102.000000</td>\n",
       "      <td>122.000000</td>\n",
       "      <td>102.000000</td>\n",
       "      <td>0.907409</td>\n",
       "      <td>102.0</td>\n",
       "      <td>0.335179</td>\n",
       "      <td>0.683045</td>\n",
       "    </tr>\n",
       "    <tr>\n",
       "      <th>2021-01-27</th>\n",
       "      <td>0.301417</td>\n",
       "      <td>122.000000</td>\n",
       "      <td>102.000000</td>\n",
       "      <td>0.450488</td>\n",
       "      <td>102.0</td>\n",
       "      <td>0.117706</td>\n",
       "      <td>125.000000</td>\n",
       "    </tr>\n",
       "    <tr>\n",
       "      <th>2021-01-28</th>\n",
       "      <td>0.874378</td>\n",
       "      <td>122.000000</td>\n",
       "      <td>102.000000</td>\n",
       "      <td>0.655827</td>\n",
       "      <td>102.0</td>\n",
       "      <td>0.184093</td>\n",
       "      <td>125.000000</td>\n",
       "    </tr>\n",
       "    <tr>\n",
       "      <th>2021-01-29</th>\n",
       "      <td>0.354186</td>\n",
       "      <td>122.000000</td>\n",
       "      <td>102.000000</td>\n",
       "      <td>0.621133</td>\n",
       "      <td>102.0</td>\n",
       "      <td>0.418792</td>\n",
       "      <td>125.000000</td>\n",
       "    </tr>\n",
       "    <tr>\n",
       "      <th>2021-01-30</th>\n",
       "      <td>0.882360</td>\n",
       "      <td>0.492721</td>\n",
       "      <td>0.941013</td>\n",
       "      <td>0.995863</td>\n",
       "      <td>102.0</td>\n",
       "      <td>0.430527</td>\n",
       "      <td>125.000000</td>\n",
       "    </tr>\n",
       "    <tr>\n",
       "      <th>2021-01-31</th>\n",
       "      <td>0.604763</td>\n",
       "      <td>0.514574</td>\n",
       "      <td>0.668295</td>\n",
       "      <td>0.185167</td>\n",
       "      <td>102.0</td>\n",
       "      <td>0.156689</td>\n",
       "      <td>125.000000</td>\n",
       "    </tr>\n",
       "  </tbody>\n",
       "</table>\n",
       "</div>"
      ],
      "text/plain": [
       "                     A           B           C         D      E         F  \\\n",
       "2021-01-25  102.000000  122.000000    0.871555  0.207135  102.0  0.760996   \n",
       "2021-01-26  102.000000  122.000000  102.000000  0.907409  102.0  0.335179   \n",
       "2021-01-27    0.301417  122.000000  102.000000  0.450488  102.0  0.117706   \n",
       "2021-01-28    0.874378  122.000000  102.000000  0.655827  102.0  0.184093   \n",
       "2021-01-29    0.354186  122.000000  102.000000  0.621133  102.0  0.418792   \n",
       "2021-01-30    0.882360    0.492721    0.941013  0.995863  102.0  0.430527   \n",
       "2021-01-31    0.604763    0.514574    0.668295  0.185167  102.0  0.156689   \n",
       "\n",
       "                     G  \n",
       "2021-01-25    0.930588  \n",
       "2021-01-26    0.683045  \n",
       "2021-01-27  125.000000  \n",
       "2021-01-28  125.000000  \n",
       "2021-01-29  125.000000  \n",
       "2021-01-30  125.000000  \n",
       "2021-01-31  125.000000  "
      ]
     },
     "execution_count": 53,
     "metadata": {},
     "output_type": "execute_result"
    }
   ],
   "source": [
    "d2"
   ]
  },
  {
   "cell_type": "code",
   "execution_count": 54,
   "metadata": {},
   "outputs": [],
   "source": [
    "d2.at[0:3,'E']=np.NaN"
   ]
  },
  {
   "cell_type": "code",
   "execution_count": 55,
   "metadata": {},
   "outputs": [
    {
     "data": {
      "text/html": [
       "<div>\n",
       "<style scoped>\n",
       "    .dataframe tbody tr th:only-of-type {\n",
       "        vertical-align: middle;\n",
       "    }\n",
       "\n",
       "    .dataframe tbody tr th {\n",
       "        vertical-align: top;\n",
       "    }\n",
       "\n",
       "    .dataframe thead th {\n",
       "        text-align: right;\n",
       "    }\n",
       "</style>\n",
       "<table border=\"1\" class=\"dataframe\">\n",
       "  <thead>\n",
       "    <tr style=\"text-align: right;\">\n",
       "      <th></th>\n",
       "      <th>A</th>\n",
       "      <th>B</th>\n",
       "      <th>C</th>\n",
       "      <th>D</th>\n",
       "      <th>E</th>\n",
       "      <th>F</th>\n",
       "      <th>G</th>\n",
       "    </tr>\n",
       "  </thead>\n",
       "  <tbody>\n",
       "    <tr>\n",
       "      <th>2021-01-25</th>\n",
       "      <td>102.000000</td>\n",
       "      <td>122.000000</td>\n",
       "      <td>0.871555</td>\n",
       "      <td>0.207135</td>\n",
       "      <td>NaN</td>\n",
       "      <td>0.760996</td>\n",
       "      <td>0.930588</td>\n",
       "    </tr>\n",
       "    <tr>\n",
       "      <th>2021-01-26</th>\n",
       "      <td>102.000000</td>\n",
       "      <td>122.000000</td>\n",
       "      <td>102.000000</td>\n",
       "      <td>0.907409</td>\n",
       "      <td>NaN</td>\n",
       "      <td>0.335179</td>\n",
       "      <td>0.683045</td>\n",
       "    </tr>\n",
       "    <tr>\n",
       "      <th>2021-01-27</th>\n",
       "      <td>0.301417</td>\n",
       "      <td>122.000000</td>\n",
       "      <td>102.000000</td>\n",
       "      <td>0.450488</td>\n",
       "      <td>NaN</td>\n",
       "      <td>0.117706</td>\n",
       "      <td>125.000000</td>\n",
       "    </tr>\n",
       "    <tr>\n",
       "      <th>2021-01-28</th>\n",
       "      <td>0.874378</td>\n",
       "      <td>122.000000</td>\n",
       "      <td>102.000000</td>\n",
       "      <td>0.655827</td>\n",
       "      <td>102.0</td>\n",
       "      <td>0.184093</td>\n",
       "      <td>125.000000</td>\n",
       "    </tr>\n",
       "    <tr>\n",
       "      <th>2021-01-29</th>\n",
       "      <td>0.354186</td>\n",
       "      <td>122.000000</td>\n",
       "      <td>102.000000</td>\n",
       "      <td>0.621133</td>\n",
       "      <td>102.0</td>\n",
       "      <td>0.418792</td>\n",
       "      <td>125.000000</td>\n",
       "    </tr>\n",
       "    <tr>\n",
       "      <th>2021-01-30</th>\n",
       "      <td>0.882360</td>\n",
       "      <td>0.492721</td>\n",
       "      <td>0.941013</td>\n",
       "      <td>0.995863</td>\n",
       "      <td>102.0</td>\n",
       "      <td>0.430527</td>\n",
       "      <td>125.000000</td>\n",
       "    </tr>\n",
       "    <tr>\n",
       "      <th>2021-01-31</th>\n",
       "      <td>0.604763</td>\n",
       "      <td>0.514574</td>\n",
       "      <td>0.668295</td>\n",
       "      <td>0.185167</td>\n",
       "      <td>102.0</td>\n",
       "      <td>0.156689</td>\n",
       "      <td>125.000000</td>\n",
       "    </tr>\n",
       "  </tbody>\n",
       "</table>\n",
       "</div>"
      ],
      "text/plain": [
       "                     A           B           C         D      E         F  \\\n",
       "2021-01-25  102.000000  122.000000    0.871555  0.207135    NaN  0.760996   \n",
       "2021-01-26  102.000000  122.000000  102.000000  0.907409    NaN  0.335179   \n",
       "2021-01-27    0.301417  122.000000  102.000000  0.450488    NaN  0.117706   \n",
       "2021-01-28    0.874378  122.000000  102.000000  0.655827  102.0  0.184093   \n",
       "2021-01-29    0.354186  122.000000  102.000000  0.621133  102.0  0.418792   \n",
       "2021-01-30    0.882360    0.492721    0.941013  0.995863  102.0  0.430527   \n",
       "2021-01-31    0.604763    0.514574    0.668295  0.185167  102.0  0.156689   \n",
       "\n",
       "                     G  \n",
       "2021-01-25    0.930588  \n",
       "2021-01-26    0.683045  \n",
       "2021-01-27  125.000000  \n",
       "2021-01-28  125.000000  \n",
       "2021-01-29  125.000000  \n",
       "2021-01-30  125.000000  \n",
       "2021-01-31  125.000000  "
      ]
     },
     "execution_count": 55,
     "metadata": {},
     "output_type": "execute_result"
    }
   ],
   "source": [
    "d2"
   ]
  },
  {
   "cell_type": "code",
   "execution_count": 56,
   "metadata": {},
   "outputs": [
    {
     "data": {
      "text/html": [
       "<div>\n",
       "<style scoped>\n",
       "    .dataframe tbody tr th:only-of-type {\n",
       "        vertical-align: middle;\n",
       "    }\n",
       "\n",
       "    .dataframe tbody tr th {\n",
       "        vertical-align: top;\n",
       "    }\n",
       "\n",
       "    .dataframe thead th {\n",
       "        text-align: right;\n",
       "    }\n",
       "</style>\n",
       "<table border=\"1\" class=\"dataframe\">\n",
       "  <thead>\n",
       "    <tr style=\"text-align: right;\">\n",
       "      <th></th>\n",
       "      <th>A</th>\n",
       "      <th>B</th>\n",
       "      <th>C</th>\n",
       "      <th>D</th>\n",
       "      <th>E</th>\n",
       "      <th>F</th>\n",
       "      <th>G</th>\n",
       "    </tr>\n",
       "  </thead>\n",
       "  <tbody>\n",
       "    <tr>\n",
       "      <th>2021-01-28</th>\n",
       "      <td>0.874378</td>\n",
       "      <td>122.000000</td>\n",
       "      <td>102.000000</td>\n",
       "      <td>0.655827</td>\n",
       "      <td>102.0</td>\n",
       "      <td>0.184093</td>\n",
       "      <td>125.0</td>\n",
       "    </tr>\n",
       "    <tr>\n",
       "      <th>2021-01-29</th>\n",
       "      <td>0.354186</td>\n",
       "      <td>122.000000</td>\n",
       "      <td>102.000000</td>\n",
       "      <td>0.621133</td>\n",
       "      <td>102.0</td>\n",
       "      <td>0.418792</td>\n",
       "      <td>125.0</td>\n",
       "    </tr>\n",
       "    <tr>\n",
       "      <th>2021-01-30</th>\n",
       "      <td>0.882360</td>\n",
       "      <td>0.492721</td>\n",
       "      <td>0.941013</td>\n",
       "      <td>0.995863</td>\n",
       "      <td>102.0</td>\n",
       "      <td>0.430527</td>\n",
       "      <td>125.0</td>\n",
       "    </tr>\n",
       "    <tr>\n",
       "      <th>2021-01-31</th>\n",
       "      <td>0.604763</td>\n",
       "      <td>0.514574</td>\n",
       "      <td>0.668295</td>\n",
       "      <td>0.185167</td>\n",
       "      <td>102.0</td>\n",
       "      <td>0.156689</td>\n",
       "      <td>125.0</td>\n",
       "    </tr>\n",
       "  </tbody>\n",
       "</table>\n",
       "</div>"
      ],
      "text/plain": [
       "                   A           B           C         D      E         F      G\n",
       "2021-01-28  0.874378  122.000000  102.000000  0.655827  102.0  0.184093  125.0\n",
       "2021-01-29  0.354186  122.000000  102.000000  0.621133  102.0  0.418792  125.0\n",
       "2021-01-30  0.882360    0.492721    0.941013  0.995863  102.0  0.430527  125.0\n",
       "2021-01-31  0.604763    0.514574    0.668295  0.185167  102.0  0.156689  125.0"
      ]
     },
     "execution_count": 56,
     "metadata": {},
     "output_type": "execute_result"
    }
   ],
   "source": [
    "d2.dropna()"
   ]
  },
  {
   "cell_type": "code",
   "execution_count": null,
   "metadata": {},
   "outputs": [],
   "source": []
  }
 ],
 "metadata": {
  "kernelspec": {
   "display_name": "Python 3",
   "language": "python",
   "name": "python3"
  },
  "language_info": {
   "codemirror_mode": {
    "name": "ipython",
    "version": 3
   },
   "file_extension": ".py",
   "mimetype": "text/x-python",
   "name": "python",
   "nbconvert_exporter": "python",
   "pygments_lexer": "ipython3",
   "version": "3.8.5"
  }
 },
 "nbformat": 4,
 "nbformat_minor": 4
}
