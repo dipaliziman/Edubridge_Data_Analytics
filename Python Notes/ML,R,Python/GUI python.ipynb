{
 "cells": [
  {
   "cell_type": "code",
   "execution_count": 1,
   "id": "27d62257",
   "metadata": {},
   "outputs": [],
   "source": [
    "from tkinter import *"
   ]
  },
  {
   "cell_type": "code",
   "execution_count": 2,
   "id": "10c64e36",
   "metadata": {},
   "outputs": [],
   "source": [
    "window=Tk()\n",
    "window.mainloop()"
   ]
  },
  {
   "cell_type": "code",
   "execution_count": null,
   "id": "a13f733d",
   "metadata": {},
   "outputs": [],
   "source": [
    "window=Tk()\n",
    "window.title(\"MY App\")\n",
    "window.mainloop()"
   ]
  },
  {
   "cell_type": "code",
   "execution_count": 8,
   "id": "6fd4e0d3",
   "metadata": {},
   "outputs": [],
   "source": [
    "window=Tk()\n",
    "window.title(\"MY App\")\n",
    "window.configure(bg=\"pink\")\n",
    "window.mainloop()"
   ]
  },
  {
   "cell_type": "code",
   "execution_count": 10,
   "id": "055c3810",
   "metadata": {},
   "outputs": [],
   "source": [
    "window=Tk()\n",
    "window.title(\"MY App\")\n",
    "window.geometry('300x300')\n",
    "window.configure(bg=\"pink\")\n",
    "window.mainloop()"
   ]
  },
  {
   "cell_type": "code",
   "execution_count": 11,
   "id": "e8f0d441",
   "metadata": {},
   "outputs": [],
   "source": [
    "window=Tk()\n",
    "window.title(\"MY App\")\n",
    "window.geometry('300x300')\n",
    "window.resizable(False,False)\n",
    "window.configure(bg=\"pink\")\n",
    "window.mainloop()"
   ]
  },
  {
   "cell_type": "code",
   "execution_count": 6,
   "id": "a06a0020",
   "metadata": {},
   "outputs": [],
   "source": [
    "window=Tk()\n",
    "window.title(\"MY App\")\n",
    "window.configure(bg=\"pink\")\n",
    "l=Label(window,text=\"welcome to my app\")\n",
    "l.pack()\n",
    "window.mainloop()"
   ]
  },
  {
   "cell_type": "code",
   "execution_count": 5,
   "id": "074469f9",
   "metadata": {},
   "outputs": [],
   "source": [
    "window=Tk()\n",
    "window.title(\"MY App\")\n",
    "window.configure(bg=\"pink\")\n",
    "l=Label(window,text=\"welcome to my app\")\n",
    "l.grid()\n",
    "window.mainloop()"
   ]
  },
  {
   "cell_type": "code",
   "execution_count": 7,
   "id": "12171f77",
   "metadata": {},
   "outputs": [],
   "source": [
    "window=Tk()\n",
    "window.title(\"MY App\")\n",
    "window.configure(bg=\"pink\")\n",
    "l=Label(window,text=\"welcome to my app\")\n",
    "l.place(x=20,y=30)\n",
    "window.mainloop()"
   ]
  },
  {
   "cell_type": "code",
   "execution_count": 8,
   "id": "89496abb",
   "metadata": {},
   "outputs": [],
   "source": [
    "window=Tk()\n",
    "window.title(\"MY App\")\n",
    "window.configure(bg=\"pink\")\n",
    "l=Label(window,text=\"welcome to my app\",fg=\"white\",bg=\"blue\")\n",
    "l.pack()\n",
    "window.mainloop()"
   ]
  },
  {
   "cell_type": "code",
   "execution_count": 9,
   "id": "2683f2c5",
   "metadata": {},
   "outputs": [],
   "source": [
    "window=Tk()\n",
    "window.title(\"MY App\")\n",
    "window.configure(bg=\"pink\")\n",
    "l=Label(window,text=\"welcome to my app\",fg=\"white\",bg=\"blue\",font=(\"Arial\",15))\n",
    "l.pack()\n",
    "window.mainloop()"
   ]
  },
  {
   "cell_type": "code",
   "execution_count": 10,
   "id": "f36cdba0",
   "metadata": {},
   "outputs": [],
   "source": [
    "window=Tk()\n",
    "window.title(\"MY App\")\n",
    "window.configure(bg=\"pink\")\n",
    "l=Label(window,text=\"welcome to my app\",fg=\"white\",bg=\"blue\",font=(\"Arial\",15),width=15)\n",
    "l.pack()\n",
    "window.mainloop()"
   ]
  },
  {
   "cell_type": "code",
   "execution_count": 11,
   "id": "f8c77f67",
   "metadata": {},
   "outputs": [],
   "source": [
    "window=Tk()\n",
    "window.title(\"MY App\")\n",
    "window.configure(bg=\"pink\")\n",
    "l=Label(window,text=\"welcome to my app\",fg=\"white\",bg=\"blue\",font=(\"Arial\",15),width=15,height=50)\n",
    "l.pack()\n",
    "window.mainloop()"
   ]
  },
  {
   "cell_type": "code",
   "execution_count": null,
   "id": "6b50a952",
   "metadata": {},
   "outputs": [],
   "source": []
  }
 ],
 "metadata": {
  "kernelspec": {
   "display_name": "Python 3 (ipykernel)",
   "language": "python",
   "name": "python3"
  },
  "language_info": {
   "codemirror_mode": {
    "name": "ipython",
    "version": 3
   },
   "file_extension": ".py",
   "mimetype": "text/x-python",
   "name": "python",
   "nbconvert_exporter": "python",
   "pygments_lexer": "ipython3",
   "version": "3.9.7"
  }
 },
 "nbformat": 4,
 "nbformat_minor": 5
}
