{
 "cells": [
  {
   "cell_type": "markdown",
   "id": "e90fac69",
   "metadata": {},
   "source": [
    "1.\tWrite a program to create a string made of the first, middle and last character.\n",
    "Input – “Ramandeep”\n",
    "Output –Rnp\n"
   ]
  },
  {
   "cell_type": "code",
   "execution_count": 1,
   "id": "a1f25a98",
   "metadata": {},
   "outputs": [
    {
     "name": "stdout",
     "output_type": "stream",
     "text": [
      "enter the stringRamandeep\n",
      "Rnp\n"
     ]
    }
   ],
   "source": [
    "str=input(\"enter the string\")\n",
    "x=int(len(str)/2)\n",
    "y=str[0]+str[x-0]+str[-1]\n",
    "print(y)"
   ]
  },
  {
   "cell_type": "markdown",
   "id": "b20baf0d",
   "metadata": {},
   "source": [
    "\n",
    "2.\tWrite a program to count the number of characters (character frequency) in a string.\n"
   ]
  },
  {
   "cell_type": "code",
   "execution_count": 2,
   "id": "d369b28a",
   "metadata": {},
   "outputs": [
    {
     "data": {
      "text/plain": [
       "9"
      ]
     },
     "execution_count": 2,
     "metadata": {},
     "output_type": "execute_result"
    }
   ],
   "source": [
    "str = \"Frequency\"\n",
    "len(str)"
   ]
  },
  {
   "cell_type": "code",
   "execution_count": 3,
   "id": "b6243216",
   "metadata": {},
   "outputs": [
    {
     "name": "stdout",
     "output_type": "stream",
     "text": [
      "2\n"
     ]
    }
   ],
   "source": [
    "str = \"Frequency\"\n",
    "char =\"e\"\n",
    "print(str.count(char))"
   ]
  },
  {
   "cell_type": "markdown",
   "id": "f77b288e",
   "metadata": {},
   "source": [
    "1.\tWrite a Python program that accepts a comma separated sequence of words as input and prints the unique words in sorted form (alphanumerically).\n",
    "Sample Words : red, white, black, red, green, black\n",
    "Expected Result : black, green, red, white,red\n"
   ]
  },
  {
   "cell_type": "code",
   "execution_count": null,
   "id": "96e4a615",
   "metadata": {},
   "outputs": [],
   "source": [
    "word=input().split(\",\")\n",
    "\n",
    "a=list(set(word))\n",
    "\n",
    "a.sort()\n",
    "\n",
    "print(a)"
   ]
  },
  {
   "cell_type": "code",
   "execution_count": null,
   "id": "b62c2673",
   "metadata": {},
   "outputs": [],
   "source": []
  }
 ],
 "metadata": {
  "kernelspec": {
   "display_name": "Python 3 (ipykernel)",
   "language": "python",
   "name": "python3"
  },
  "language_info": {
   "codemirror_mode": {
    "name": "ipython",
    "version": 3
   },
   "file_extension": ".py",
   "mimetype": "text/x-python",
   "name": "python",
   "nbconvert_exporter": "python",
   "pygments_lexer": "ipython3",
   "version": "3.9.7"
  }
 },
 "nbformat": 4,
 "nbformat_minor": 5
}
