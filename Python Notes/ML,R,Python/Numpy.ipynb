{
 "cells": [
  {
   "cell_type": "code",
   "execution_count": 5,
   "id": "713b0f42",
   "metadata": {},
   "outputs": [],
   "source": [
    "import numpy as np"
   ]
  },
  {
   "cell_type": "code",
   "execution_count": null,
   "id": "f4d51995",
   "metadata": {},
   "outputs": [],
   "source": []
  },
  {
   "cell_type": "code",
   "execution_count": null,
   "id": "2a67734b",
   "metadata": {},
   "outputs": [],
   "source": []
  },
  {
   "cell_type": "code",
   "execution_count": null,
   "id": "8b4b0ef7",
   "metadata": {},
   "outputs": [],
   "source": []
  },
  {
   "cell_type": "code",
   "execution_count": null,
   "id": "c7cc49c3",
   "metadata": {},
   "outputs": [],
   "source": []
  },
  {
   "cell_type": "code",
   "execution_count": 20,
   "id": "4bce372d",
   "metadata": {},
   "outputs": [
    {
     "data": {
      "text/plain": [
       "[12, 23, 34, 54, 67, 78]"
      ]
     },
     "execution_count": 20,
     "metadata": {},
     "output_type": "execute_result"
    }
   ],
   "source": [
    "l=[12,23,34,54,67,78]\n",
    "l"
   ]
  },
  {
   "cell_type": "code",
   "execution_count": 21,
   "id": "0f3c1822",
   "metadata": {},
   "outputs": [
    {
     "data": {
      "text/plain": [
       "list"
      ]
     },
     "execution_count": 21,
     "metadata": {},
     "output_type": "execute_result"
    }
   ],
   "source": [
    "type(l)"
   ]
  },
  {
   "cell_type": "code",
   "execution_count": 22,
   "id": "40ee85d0",
   "metadata": {},
   "outputs": [],
   "source": [
    "a1=np.array(l)"
   ]
  },
  {
   "cell_type": "code",
   "execution_count": 23,
   "id": "7d50a67c",
   "metadata": {},
   "outputs": [
    {
     "data": {
      "text/plain": [
       "numpy.ndarray"
      ]
     },
     "execution_count": 23,
     "metadata": {},
     "output_type": "execute_result"
    }
   ],
   "source": [
    "type(a1)"
   ]
  },
  {
   "cell_type": "code",
   "execution_count": 24,
   "id": "32476f74",
   "metadata": {},
   "outputs": [
    {
     "data": {
      "text/plain": [
       "<memory at 0x000001FA2B766580>"
      ]
     },
     "execution_count": 24,
     "metadata": {},
     "output_type": "execute_result"
    }
   ],
   "source": [
    "a1.data#memmory address"
   ]
  },
  {
   "cell_type": "code",
   "execution_count": 25,
   "id": "d1a00d43",
   "metadata": {},
   "outputs": [
    {
     "data": {
      "text/plain": [
       "dtype('int32')"
      ]
     },
     "execution_count": 25,
     "metadata": {},
     "output_type": "execute_result"
    }
   ],
   "source": [
    "a1.dtype"
   ]
  },
  {
   "cell_type": "code",
   "execution_count": 26,
   "id": "2542f750",
   "metadata": {},
   "outputs": [],
   "source": [
    "a1=a1.astype(float)#int to float"
   ]
  },
  {
   "cell_type": "code",
   "execution_count": 28,
   "id": "08abcd6e",
   "metadata": {},
   "outputs": [
    {
     "data": {
      "text/plain": [
       "array([12., 23., 34., 54., 67., 78.])"
      ]
     },
     "execution_count": 28,
     "metadata": {},
     "output_type": "execute_result"
    }
   ],
   "source": [
    "a1"
   ]
  },
  {
   "cell_type": "code",
   "execution_count": 29,
   "id": "e1839c76",
   "metadata": {},
   "outputs": [
    {
     "data": {
      "text/plain": [
       "dtype('float64')"
      ]
     },
     "execution_count": 29,
     "metadata": {},
     "output_type": "execute_result"
    }
   ],
   "source": [
    "a1.dtype"
   ]
  },
  {
   "cell_type": "code",
   "execution_count": 30,
   "id": "2ebbe5ad",
   "metadata": {},
   "outputs": [
    {
     "data": {
      "text/plain": [
       "array([ 0,  1,  2,  3,  4,  5,  6,  7,  8,  9, 10, 11, 12, 13, 14, 15, 16,\n",
       "       17, 18, 19])"
      ]
     },
     "execution_count": 30,
     "metadata": {},
     "output_type": "execute_result"
    }
   ],
   "source": [
    "np.arange(0,20)#equal space between 0 to 20"
   ]
  },
  {
   "cell_type": "code",
   "execution_count": 31,
   "id": "8cad44d7",
   "metadata": {},
   "outputs": [
    {
     "data": {
      "text/plain": [
       "array([ 0,  2,  4,  6,  8, 10, 12, 14, 16, 18, 20])"
      ]
     },
     "execution_count": 31,
     "metadata": {},
     "output_type": "execute_result"
    }
   ],
   "source": [
    "np.arange(0,21,2)# 0to21 with space 2"
   ]
  },
  {
   "cell_type": "code",
   "execution_count": 32,
   "id": "7a5416b2",
   "metadata": {},
   "outputs": [
    {
     "data": {
      "text/plain": [
       "array([ 0,  5, 10, 15, 20, 25, 30, 35, 40, 45])"
      ]
     },
     "execution_count": 32,
     "metadata": {},
     "output_type": "execute_result"
    }
   ],
   "source": [
    "np.arange(0,50,5)#generate no betn 0 to 50 with a space of 5"
   ]
  },
  {
   "cell_type": "code",
   "execution_count": 36,
   "id": "ff7db028",
   "metadata": {},
   "outputs": [
    {
     "data": {
      "text/plain": [
       "array([ 0,  1,  2,  3,  4,  5,  6,  7,  8,  9, 10, 11, 12, 13, 14, 15, 16,\n",
       "       17, 18, 19, 20, 21, 22])"
      ]
     },
     "execution_count": 36,
     "metadata": {},
     "output_type": "execute_result"
    }
   ],
   "source": [
    "a2=np.arange(0,23)\n",
    "a2"
   ]
  },
  {
   "cell_type": "code",
   "execution_count": 37,
   "id": "e85e6e42",
   "metadata": {},
   "outputs": [
    {
     "data": {
      "text/plain": [
       "(23,)"
      ]
     },
     "execution_count": 37,
     "metadata": {},
     "output_type": "execute_result"
    }
   ],
   "source": [
    "a2.shape #shape of array"
   ]
  },
  {
   "cell_type": "code",
   "execution_count": 38,
   "id": "d6a93f00",
   "metadata": {},
   "outputs": [
    {
     "data": {
      "text/plain": [
       "23"
      ]
     },
     "execution_count": 38,
     "metadata": {},
     "output_type": "execute_result"
    }
   ],
   "source": [
    "a2.size #size"
   ]
  },
  {
   "cell_type": "code",
   "execution_count": 39,
   "id": "77ead9dd",
   "metadata": {},
   "outputs": [
    {
     "data": {
      "text/plain": [
       "1"
      ]
     },
     "execution_count": 39,
     "metadata": {},
     "output_type": "execute_result"
    }
   ],
   "source": [
    "a2.ndim #dimension"
   ]
  },
  {
   "cell_type": "code",
   "execution_count": 40,
   "id": "fa4efc62",
   "metadata": {},
   "outputs": [
    {
     "data": {
      "text/plain": [
       "4"
      ]
     },
     "execution_count": 40,
     "metadata": {},
     "output_type": "execute_result"
    }
   ],
   "source": [
    "a2.itemsize #bytes consumed by one element of an array object"
   ]
  },
  {
   "cell_type": "code",
   "execution_count": 41,
   "id": "4e15d81b",
   "metadata": {},
   "outputs": [
    {
     "data": {
      "text/plain": [
       "92"
      ]
     },
     "execution_count": 41,
     "metadata": {},
     "output_type": "execute_result"
    }
   ],
   "source": [
    "a2.nbytes # bytes consumed by an array object"
   ]
  },
  {
   "cell_type": "code",
   "execution_count": 42,
   "id": "a818564f",
   "metadata": {},
   "outputs": [
    {
     "data": {
      "text/plain": [
       "92"
      ]
     },
     "execution_count": 42,
     "metadata": {},
     "output_type": "execute_result"
    }
   ],
   "source": [
    "a2.nbytes"
   ]
  },
  {
   "cell_type": "code",
   "execution_count": 43,
   "id": "4fae2a02",
   "metadata": {},
   "outputs": [
    {
     "data": {
      "text/plain": [
       "23"
      ]
     },
     "execution_count": 43,
     "metadata": {},
     "output_type": "execute_result"
    }
   ],
   "source": [
    "len(a2) #length of array"
   ]
  },
  {
   "cell_type": "code",
   "execution_count": 44,
   "id": "e3859108",
   "metadata": {},
   "outputs": [
    {
     "data": {
      "text/plain": [
       "array([0., 0., 0., 0., 0., 0., 0., 0., 0., 0., 0., 0.])"
      ]
     },
     "execution_count": 44,
     "metadata": {},
     "output_type": "execute_result"
    }
   ],
   "source": [
    "np.zeros(12) # generate array of zeros"
   ]
  },
  {
   "cell_type": "code",
   "execution_count": 45,
   "id": "04dd771d",
   "metadata": {},
   "outputs": [
    {
     "data": {
      "text/plain": [
       "array([1., 1., 1., 1., 1., 1., 1., 1., 1., 1.])"
      ]
     },
     "execution_count": 45,
     "metadata": {},
     "output_type": "execute_result"
    }
   ],
   "source": [
    "np.ones(10) # generate array of ones"
   ]
  },
  {
   "cell_type": "code",
   "execution_count": 46,
   "id": "c4db0960",
   "metadata": {},
   "outputs": [
    {
     "data": {
      "text/plain": [
       "array([5, 5, 5, 5])"
      ]
     },
     "execution_count": 46,
     "metadata": {},
     "output_type": "execute_result"
    }
   ],
   "source": [
    "np.repeat(5,4) #repeat 5 four times in array"
   ]
  },
  {
   "cell_type": "code",
   "execution_count": 48,
   "id": "8255e3f2",
   "metadata": {},
   "outputs": [
    {
     "data": {
      "text/plain": [
       "array([12, 12, 12, 12, 12, 23, 23, 23, 23, 23, 34, 34, 34, 34, 34])"
      ]
     },
     "execution_count": 48,
     "metadata": {},
     "output_type": "execute_result"
    }
   ],
   "source": [
    "a3=np.array([12,23,34]) #repeat each element in array five time\n",
    "np.repeat(a3,5)\n"
   ]
  },
  {
   "cell_type": "code",
   "execution_count": 49,
   "id": "a772ac75",
   "metadata": {},
   "outputs": [
    {
     "data": {
      "text/plain": [
       "array([8, 8, 8, 8, 8])"
      ]
     },
     "execution_count": 49,
     "metadata": {},
     "output_type": "execute_result"
    }
   ],
   "source": [
    "np.full(5,8)"
   ]
  },
  {
   "cell_type": "code",
   "execution_count": 51,
   "id": "bf864918",
   "metadata": {},
   "outputs": [
    {
     "data": {
      "text/plain": [
       "array([ 2,  4,  6,  8, 10, 12, 14, 16, 18, 20, 22, 24, 26, 28, 30, 32, 34,\n",
       "       36, 38, 40, 42, 44, 46, 48, 50, 52, 54, 56, 58, 60, 62, 64, 66, 68,\n",
       "       70, 72, 74, 76, 78, 80, 82, 84, 86, 88, 90, 92, 94, 96, 98])"
      ]
     },
     "execution_count": 51,
     "metadata": {},
     "output_type": "execute_result"
    }
   ],
   "source": [
    "\"\"\"1.generate array of even no\n",
    "   2. generate array of odd no\"\"\"\n",
    "a4=np.arange(1,100)\n",
    "a4[a4%2==0]"
   ]
  },
  {
   "cell_type": "code",
   "execution_count": 52,
   "id": "3ff9bcf9",
   "metadata": {},
   "outputs": [
    {
     "data": {
      "text/plain": [
       "array([ 1,  3,  5,  7,  9, 11, 13, 15, 17, 19, 21, 23, 25, 27, 29, 31, 33,\n",
       "       35, 37, 39, 41, 43, 45, 47, 49, 51, 53, 55, 57, 59, 61, 63, 65, 67,\n",
       "       69, 71, 73, 75, 77, 79, 81, 83, 85, 87, 89, 91, 93, 95, 97, 99])"
      ]
     },
     "execution_count": 52,
     "metadata": {},
     "output_type": "execute_result"
    }
   ],
   "source": [
    "a4=np.arange(1,100)\n",
    "a4[a4%2==1]"
   ]
  },
  {
   "cell_type": "code",
   "execution_count": 54,
   "id": "a541b738",
   "metadata": {},
   "outputs": [
    {
     "data": {
      "text/plain": [
       "array([10., 13., 16., 19., 22., 25.])"
      ]
     },
     "execution_count": 54,
     "metadata": {},
     "output_type": "execute_result"
    }
   ],
   "source": [
    "np.linspace(10,25,6)#generate evenly spaced 4 numbers betn 10to20\n"
   ]
  },
  {
   "cell_type": "code",
   "execution_count": 55,
   "id": "337e2ade",
   "metadata": {},
   "outputs": [
    {
     "data": {
      "text/plain": [
       "array([0.07416038, 0.15448592, 0.22889228, 0.41270735])"
      ]
     },
     "execution_count": 55,
     "metadata": {},
     "output_type": "execute_result"
    }
   ],
   "source": [
    "np.random.random(4) #create random valuve"
   ]
  },
  {
   "cell_type": "code",
   "execution_count": 56,
   "id": "437f4b4e",
   "metadata": {},
   "outputs": [
    {
     "data": {
      "text/plain": [
       "array([20, 15, 47, 52, 93, 34, 52, 60, 49, 34])"
      ]
     },
     "execution_count": 56,
     "metadata": {},
     "output_type": "execute_result"
    }
   ],
   "source": [
    "np.random.randint(0,100,10) #create random integer no"
   ]
  },
  {
   "cell_type": "code",
   "execution_count": 57,
   "id": "6930c904",
   "metadata": {},
   "outputs": [
    {
     "data": {
      "text/plain": [
       "array([9.09187134, 6.98392092, 8.63352697, 9.43277785, 7.50815614,\n",
       "       8.33104354, 5.87828403, 7.01453488])"
      ]
     },
     "execution_count": 57,
     "metadata": {},
     "output_type": "execute_result"
    }
   ],
   "source": [
    "a5=np.random.uniform(5,10,8)\n",
    "a5"
   ]
  },
  {
   "cell_type": "code",
   "execution_count": 58,
   "id": "1aeb80ef",
   "metadata": {},
   "outputs": [
    {
     "data": {
      "text/plain": [
       "array([9., 6., 8., 9., 7., 8., 5., 7.])"
      ]
     },
     "execution_count": 58,
     "metadata": {},
     "output_type": "execute_result"
    }
   ],
   "source": [
    "np.floor(a5)"
   ]
  },
  {
   "cell_type": "code",
   "execution_count": 59,
   "id": "c61c7009",
   "metadata": {},
   "outputs": [
    {
     "data": {
      "text/plain": [
       "array([9., 6., 8., 9., 7., 8., 5., 7.])"
      ]
     },
     "execution_count": 59,
     "metadata": {},
     "output_type": "execute_result"
    }
   ],
   "source": [
    "np.trunc(a5)"
   ]
  },
  {
   "cell_type": "code",
   "execution_count": 61,
   "id": "7a2e549d",
   "metadata": {},
   "outputs": [
    {
     "name": "stdout",
     "output_type": "stream",
     "text": [
      "1.20.3\n"
     ]
    }
   ],
   "source": [
    "#to check the version of numpy\n",
    "print(np.__version__)\n"
   ]
  },
  {
   "cell_type": "code",
   "execution_count": null,
   "id": "87be9956",
   "metadata": {},
   "outputs": [],
   "source": [
    "Data types in Numpy\n",
    "i\n",
    "b\n",
    "u\n",
    "f\n",
    "c\n",
    "m\n",
    "o\n",
    "s\n",
    "u"
   ]
  },
  {
   "cell_type": "code",
   "execution_count": 3,
   "id": "709a13c3",
   "metadata": {},
   "outputs": [],
   "source": [
    "import numpy as np"
   ]
  },
  {
   "cell_type": "code",
   "execution_count": null,
   "id": "372b64ca",
   "metadata": {},
   "outputs": [],
   "source": [
    "ast=np.array(['dipali','karan','joy'])\n",
    "print(ast.dtype)"
   ]
  },
  {
   "cell_type": "code",
   "execution_count": 1,
   "id": "34d052b6",
   "metadata": {},
   "outputs": [
    {
     "ename": "NameError",
     "evalue": "name 'a1' is not defined",
     "output_type": "error",
     "traceback": [
      "\u001b[1;31m---------------------------------------------------------------------------\u001b[0m",
      "\u001b[1;31mNameError\u001b[0m                                 Traceback (most recent call last)",
      "\u001b[1;32m~\\AppData\\Local\\Temp/ipykernel_11008/2610128943.py\u001b[0m in \u001b[0;36m<module>\u001b[1;34m\u001b[0m\n\u001b[1;32m----> 1\u001b[1;33m \u001b[0ma1\u001b[0m\u001b[1;33m\u001b[0m\u001b[1;33m\u001b[0m\u001b[0m\n\u001b[0m",
      "\u001b[1;31mNameError\u001b[0m: name 'a1' is not defined"
     ]
    }
   ],
   "source": [
    "a1"
   ]
  },
  {
   "cell_type": "code",
   "execution_count": null,
   "id": "503a7b0c",
   "metadata": {},
   "outputs": [],
   "source": [
    "Operation on array"
   ]
  },
  {
   "cell_type": "code",
   "execution_count": 5,
   "id": "d1a48969",
   "metadata": {},
   "outputs": [
    {
     "data": {
      "text/plain": [
       "array([0, 1, 2, 3, 4, 5, 6, 7, 8, 9])"
      ]
     },
     "execution_count": 5,
     "metadata": {},
     "output_type": "execute_result"
    }
   ],
   "source": [
    "ar=np.arange(0,10)\n",
    "ar"
   ]
  },
  {
   "cell_type": "code",
   "execution_count": 6,
   "id": "104b2a41",
   "metadata": {},
   "outputs": [
    {
     "data": {
      "text/plain": [
       "45"
      ]
     },
     "execution_count": 6,
     "metadata": {},
     "output_type": "execute_result"
    }
   ],
   "source": [
    "ar.sum()"
   ]
  },
  {
   "cell_type": "code",
   "execution_count": 7,
   "id": "91c35c6f",
   "metadata": {},
   "outputs": [
    {
     "name": "stdout",
     "output_type": "stream",
     "text": [
      "[ 0  1  3  6 10 15 21 28 36 45]\n"
     ]
    }
   ],
   "source": [
    "cs=np.cumsum(ar)\n",
    "print(cs)"
   ]
  },
  {
   "cell_type": "code",
   "execution_count": 8,
   "id": "3f619577",
   "metadata": {},
   "outputs": [
    {
     "name": "stdout",
     "output_type": "stream",
     "text": [
      "[ 0  1  3  6 10 15 21 28 36 45]\n"
     ]
    }
   ],
   "source": [
    "print(np.cumsum(ar))"
   ]
  },
  {
   "cell_type": "markdown",
   "id": "a63a9158",
   "metadata": {},
   "source": []
  },
  {
   "cell_type": "code",
   "execution_count": 9,
   "id": "62bee581",
   "metadata": {},
   "outputs": [
    {
     "data": {
      "text/plain": [
       "0"
      ]
     },
     "execution_count": 9,
     "metadata": {},
     "output_type": "execute_result"
    }
   ],
   "source": [
    "ar.min()"
   ]
  },
  {
   "cell_type": "code",
   "execution_count": 10,
   "id": "b0120998",
   "metadata": {},
   "outputs": [
    {
     "data": {
      "text/plain": [
       "9"
      ]
     },
     "execution_count": 10,
     "metadata": {},
     "output_type": "execute_result"
    }
   ],
   "source": [
    "ar.max()"
   ]
  },
  {
   "cell_type": "code",
   "execution_count": 11,
   "id": "5be80b5d",
   "metadata": {},
   "outputs": [
    {
     "data": {
      "text/plain": [
       "4.5"
      ]
     },
     "execution_count": 11,
     "metadata": {},
     "output_type": "execute_result"
    }
   ],
   "source": [
    "ar.mean()"
   ]
  },
  {
   "cell_type": "code",
   "execution_count": 12,
   "id": "d5df1a8a",
   "metadata": {},
   "outputs": [
    {
     "data": {
      "text/plain": [
       "4.5"
      ]
     },
     "execution_count": 12,
     "metadata": {},
     "output_type": "execute_result"
    }
   ],
   "source": [
    "np.median(ar)"
   ]
  },
  {
   "cell_type": "code",
   "execution_count": 14,
   "id": "6a6c5014",
   "metadata": {},
   "outputs": [
    {
     "data": {
      "text/plain": [
       "array([78, 89, 54, 12, 79, 65])"
      ]
     },
     "execution_count": 14,
     "metadata": {},
     "output_type": "execute_result"
    }
   ],
   "source": [
    "ar=np.array([78,89,54,12,79,65])\n",
    "ar"
   ]
  },
  {
   "cell_type": "code",
   "execution_count": 15,
   "id": "78388b58",
   "metadata": {},
   "outputs": [
    {
     "data": {
      "text/plain": [
       "3"
      ]
     },
     "execution_count": 15,
     "metadata": {},
     "output_type": "execute_result"
    }
   ],
   "source": [
    "ar.argmin()"
   ]
  },
  {
   "cell_type": "code",
   "execution_count": 16,
   "id": "444c7cfc",
   "metadata": {},
   "outputs": [
    {
     "data": {
      "text/plain": [
       "1"
      ]
     },
     "execution_count": 16,
     "metadata": {},
     "output_type": "execute_result"
    }
   ],
   "source": [
    "ar.argmax()"
   ]
  },
  {
   "cell_type": "code",
   "execution_count": 17,
   "id": "cc39e28a",
   "metadata": {},
   "outputs": [
    {
     "data": {
      "text/plain": [
       "640.4722222222222"
      ]
     },
     "execution_count": 17,
     "metadata": {},
     "output_type": "execute_result"
    }
   ],
   "source": [
    "np.var(ar)"
   ]
  },
  {
   "cell_type": "code",
   "execution_count": 18,
   "id": "6b506652",
   "metadata": {},
   "outputs": [
    {
     "data": {
      "text/plain": [
       "25.307552671529148"
      ]
     },
     "execution_count": 18,
     "metadata": {},
     "output_type": "execute_result"
    }
   ],
   "source": [
    "np.std(ar)"
   ]
  },
  {
   "cell_type": "code",
   "execution_count": 19,
   "id": "b6928ee9",
   "metadata": {},
   "outputs": [
    {
     "data": {
      "text/plain": [
       "array([78, 89, 54, 12, 79, 65])"
      ]
     },
     "execution_count": 19,
     "metadata": {},
     "output_type": "execute_result"
    }
   ],
   "source": [
    "ar"
   ]
  },
  {
   "cell_type": "code",
   "execution_count": 21,
   "id": "33d178fc",
   "metadata": {},
   "outputs": [
    {
     "data": {
      "text/plain": [
       "78.75"
      ]
     },
     "execution_count": 21,
     "metadata": {},
     "output_type": "execute_result"
    }
   ],
   "source": [
    "np.percentile(ar,75)"
   ]
  },
  {
   "cell_type": "code",
   "execution_count": 22,
   "id": "2876c503",
   "metadata": {},
   "outputs": [
    {
     "data": {
      "text/plain": [
       "71.5"
      ]
     },
     "execution_count": 22,
     "metadata": {},
     "output_type": "execute_result"
    }
   ],
   "source": [
    "np.percentile(ar,50)"
   ]
  },
  {
   "cell_type": "code",
   "execution_count": 23,
   "id": "e06d5fb3",
   "metadata": {},
   "outputs": [
    {
     "data": {
      "text/plain": [
       "56.75"
      ]
     },
     "execution_count": 23,
     "metadata": {},
     "output_type": "execute_result"
    }
   ],
   "source": [
    "np.percentile(ar,25)"
   ]
  },
  {
   "cell_type": "code",
   "execution_count": 24,
   "id": "74b86231",
   "metadata": {},
   "outputs": [
    {
     "data": {
      "text/plain": [
       "12.0"
      ]
     },
     "execution_count": 24,
     "metadata": {},
     "output_type": "execute_result"
    }
   ],
   "source": [
    "np.percentile(ar,0)"
   ]
  },
  {
   "cell_type": "code",
   "execution_count": 25,
   "id": "610c2f87",
   "metadata": {},
   "outputs": [
    {
     "data": {
      "text/plain": [
       "89.0"
      ]
     },
     "execution_count": 25,
     "metadata": {},
     "output_type": "execute_result"
    }
   ],
   "source": [
    "np.percentile(ar,100)"
   ]
  },
  {
   "cell_type": "code",
   "execution_count": 26,
   "id": "c95057d4",
   "metadata": {},
   "outputs": [
    {
     "data": {
      "text/plain": [
       "78.0"
      ]
     },
     "execution_count": 26,
     "metadata": {},
     "output_type": "execute_result"
    }
   ],
   "source": [
    "np.percentile(ar,60)"
   ]
  },
  {
   "cell_type": "markdown",
   "id": "a5a46cd7",
   "metadata": {},
   "source": [
    "copy of an array\n",
    "copy should not be affected by the changes made to the original array"
   ]
  },
  {
   "cell_type": "code",
   "execution_count": 30,
   "id": "058511af",
   "metadata": {},
   "outputs": [
    {
     "name": "stdout",
     "output_type": "stream",
     "text": [
      "[12 23 34 89 56]\n",
      "[12 23 34 45 56]\n"
     ]
    }
   ],
   "source": [
    "ac=np.array([12,23,34,45,56])\n",
    "y=ac.copy()\n",
    "ac[3]=89\n",
    "print(ac)\n",
    "print(y)"
   ]
  },
  {
   "cell_type": "markdown",
   "id": "c22347b9",
   "metadata": {},
   "source": [
    "View\n",
    "in view should be affected by the changes made to the original array"
   ]
  },
  {
   "cell_type": "code",
   "execution_count": 31,
   "id": "c7c673e3",
   "metadata": {},
   "outputs": [
    {
     "name": "stdout",
     "output_type": "stream",
     "text": [
      "[12 23 34 89 56]\n",
      "[12 23 34 89 56]\n"
     ]
    }
   ],
   "source": [
    "ac=np.array([12,23,34,45,56])\n",
    "y=ac.view()\n",
    "ac[3]=89\n",
    "print(ac)\n",
    "print(y)"
   ]
  },
  {
   "cell_type": "markdown",
   "id": "4cd8439e",
   "metadata": {},
   "source": [
    "Difference betn copy and view\n",
    "copy is a new array and view is just a view of the original array\n"
   ]
  },
  {
   "cell_type": "code",
   "execution_count": 32,
   "id": "05ee2540",
   "metadata": {},
   "outputs": [
    {
     "name": "stdout",
     "output_type": "stream",
     "text": [
      "None\n",
      "[12 23 34 45 56]\n"
     ]
    }
   ],
   "source": [
    "import numpy as np\n",
    "ac=np.array([12,23,34,45,56])\n",
    "y=ac.copy()\n",
    "x=ac.view()\n",
    "\n",
    "print(y.base)\n",
    "print(x.base)"
   ]
  },
  {
   "cell_type": "markdown",
   "id": "e152b87a",
   "metadata": {},
   "source": [
    "reshaping"
   ]
  },
  {
   "cell_type": "code",
   "execution_count": 35,
   "id": "3bceaf45",
   "metadata": {},
   "outputs": [
    {
     "data": {
      "text/plain": [
       "array([ 1,  2, 34, 45, 56, 67, 78, 89])"
      ]
     },
     "execution_count": 35,
     "metadata": {},
     "output_type": "execute_result"
    }
   ],
   "source": [
    "ar=np.array([1,2,34,45,56,67,78,89])\n",
    "ar"
   ]
  },
  {
   "cell_type": "code",
   "execution_count": 36,
   "id": "dac1564a",
   "metadata": {},
   "outputs": [
    {
     "name": "stdout",
     "output_type": "stream",
     "text": [
      "[[ 1  2 34 45]\n",
      " [56 67 78 89]]\n"
     ]
    }
   ],
   "source": [
    "n=ar.reshape(2,4)\n",
    "print(n)"
   ]
  },
  {
   "cell_type": "markdown",
   "id": "ab9e17c5",
   "metadata": {},
   "source": [
    "iterating array"
   ]
  },
  {
   "cell_type": "code",
   "execution_count": 37,
   "id": "8766f789",
   "metadata": {},
   "outputs": [
    {
     "name": "stdout",
     "output_type": "stream",
     "text": [
      "1\n",
      "2\n",
      "34\n",
      "45\n",
      "56\n",
      "67\n",
      "78\n",
      "89\n"
     ]
    }
   ],
   "source": [
    "for i in ar:\n",
    "    print(i)"
   ]
  },
  {
   "cell_type": "code",
   "execution_count": 39,
   "id": "96061d20",
   "metadata": {},
   "outputs": [
    {
     "name": "stdout",
     "output_type": "stream",
     "text": [
      "[ 1  2 34 45]\n",
      "[56 67 78 89]\n"
     ]
    }
   ],
   "source": [
    "for i in n:\n",
    "    print(i)\n",
    "    "
   ]
  },
  {
   "cell_type": "code",
   "execution_count": 40,
   "id": "d0fabcda",
   "metadata": {},
   "outputs": [
    {
     "name": "stdout",
     "output_type": "stream",
     "text": [
      "1\n",
      "2\n",
      "34\n",
      "45\n",
      "56\n",
      "67\n",
      "78\n",
      "89\n"
     ]
    }
   ],
   "source": [
    "for i in n:\n",
    "    for j in i:\n",
    "        print(j)"
   ]
  },
  {
   "cell_type": "code",
   "execution_count": null,
   "id": "78646598",
   "metadata": {},
   "outputs": [],
   "source": [
    "joining array using stack function"
   ]
  },
  {
   "cell_type": "code",
   "execution_count": 41,
   "id": "5af6b364",
   "metadata": {},
   "outputs": [
    {
     "data": {
      "text/plain": [
       "array([1, 2, 3])"
      ]
     },
     "execution_count": 41,
     "metadata": {},
     "output_type": "execute_result"
    }
   ],
   "source": [
    "c=np.array([1,2,3])\n",
    "d=np.array([7,8,12])\n",
    "c"
   ]
  },
  {
   "cell_type": "code",
   "execution_count": 42,
   "id": "6eeae443",
   "metadata": {},
   "outputs": [
    {
     "data": {
      "text/plain": [
       "array([ 7,  8, 12])"
      ]
     },
     "execution_count": 42,
     "metadata": {},
     "output_type": "execute_result"
    }
   ],
   "source": [
    "d"
   ]
  },
  {
   "cell_type": "code",
   "execution_count": 44,
   "id": "46885c80",
   "metadata": {},
   "outputs": [
    {
     "name": "stdout",
     "output_type": "stream",
     "text": [
      "[[ 1  7]\n",
      " [ 2  8]\n",
      " [ 3 12]]\n"
     ]
    }
   ],
   "source": [
    "con1=np.stack((c,d),axis=1)\n",
    "print(con1)"
   ]
  },
  {
   "cell_type": "code",
   "execution_count": 45,
   "id": "b287ebe9",
   "metadata": {},
   "outputs": [
    {
     "name": "stdout",
     "output_type": "stream",
     "text": [
      "[[ 1  2  3]\n",
      " [ 7  8 12]]\n"
     ]
    }
   ],
   "source": [
    "con1=np.stack((c,d),axis=0)\n",
    "print(con1)"
   ]
  },
  {
   "cell_type": "code",
   "execution_count": null,
   "id": "2dcd84a3",
   "metadata": {},
   "outputs": [],
   "source": [
    "hstack\n",
    "along rows"
   ]
  },
  {
   "cell_type": "code",
   "execution_count": 46,
   "id": "ed671960",
   "metadata": {},
   "outputs": [
    {
     "name": "stdout",
     "output_type": "stream",
     "text": [
      "[ 1  2  3  7  8 12]\n"
     ]
    }
   ],
   "source": [
    "c=np.array([1,2,3])\n",
    "d=np.array([7,8,12])\n",
    "con1=np.hstack((c,d))\n",
    "print(con1)"
   ]
  },
  {
   "cell_type": "code",
   "execution_count": null,
   "id": "146936d9",
   "metadata": {},
   "outputs": [],
   "source": [
    "vstack\n",
    "along columns"
   ]
  },
  {
   "cell_type": "code",
   "execution_count": 47,
   "id": "b6566dcf",
   "metadata": {},
   "outputs": [
    {
     "name": "stdout",
     "output_type": "stream",
     "text": [
      "[[ 1  2  3]\n",
      " [ 7  8 12]]\n"
     ]
    }
   ],
   "source": [
    "c=np.array([1,2,3])\n",
    "d=np.array([7,8,12])\n",
    "con1=np.vstack((c,d))\n",
    "print(con1)"
   ]
  },
  {
   "cell_type": "code",
   "execution_count": null,
   "id": "28280e8f",
   "metadata": {},
   "outputs": [],
   "source": [
    "dstack()\n",
    "along height wich is same as depth"
   ]
  },
  {
   "cell_type": "code",
   "execution_count": 49,
   "id": "fef7497f",
   "metadata": {},
   "outputs": [
    {
     "name": "stdout",
     "output_type": "stream",
     "text": [
      "[[[ 1  7]\n",
      "  [ 2  8]\n",
      "  [ 3 12]\n",
      "  [89 75]]]\n"
     ]
    }
   ],
   "source": [
    "c=np.array([1,2,3,89])\n",
    "d=np.array([7,8,12,75])\n",
    "con1=np.dstack((c,d))\n",
    "print(con1)"
   ]
  },
  {
   "cell_type": "code",
   "execution_count": null,
   "id": "fbadcac1",
   "metadata": {},
   "outputs": [],
   "source": [
    "splitting array\n",
    "breaks array into multiple"
   ]
  },
  {
   "cell_type": "code",
   "execution_count": 51,
   "id": "416dc631",
   "metadata": {},
   "outputs": [
    {
     "data": {
      "text/plain": [
       "array([31, 21, 30, 44, 15, 61, 70, 18,  9])"
      ]
     },
     "execution_count": 51,
     "metadata": {},
     "output_type": "execute_result"
    }
   ],
   "source": [
    "a1=np.array([31,21,30,44,15,61,70,18,9])\n",
    "a1"
   ]
  },
  {
   "cell_type": "code",
   "execution_count": 54,
   "id": "f9e64ed9",
   "metadata": {},
   "outputs": [
    {
     "name": "stdout",
     "output_type": "stream",
     "text": [
      "[array([31, 21, 30]), array([44, 15]), array([61, 70]), array([18,  9])]\n"
     ]
    }
   ],
   "source": [
    "n=np.array_split(a1,4)\n",
    "print(n)"
   ]
  },
  {
   "cell_type": "code",
   "execution_count": 55,
   "id": "0cc7bc9e",
   "metadata": {},
   "outputs": [
    {
     "name": "stdout",
     "output_type": "stream",
     "text": [
      "[array([1, 2]), array([3, 4]), array([5, 6]), array([7, 8]), array([9])]\n"
     ]
    }
   ],
   "source": [
    "a1=np.array([1,2,3,4,5,6,7,8,9])\n",
    "n=np.array_split(a1,5)\n",
    "print(n)"
   ]
  },
  {
   "cell_type": "markdown",
   "id": "2a0006be",
   "metadata": {},
   "source": [
    "2D array splitting"
   ]
  },
  {
   "cell_type": "code",
   "execution_count": 56,
   "id": "31aa4ee2",
   "metadata": {},
   "outputs": [
    {
     "name": "stdout",
     "output_type": "stream",
     "text": [
      "[[ 1  2  3]\n",
      " [ 7  8  9]\n",
      " [10 11 12]]\n"
     ]
    }
   ],
   "source": [
    "a2=np.array([[1,2,3],[7,8,9],[10,11,12]])\n",
    "print(a2)"
   ]
  },
  {
   "cell_type": "code",
   "execution_count": 57,
   "id": "1842b665",
   "metadata": {},
   "outputs": [
    {
     "name": "stdout",
     "output_type": "stream",
     "text": [
      "[[10 11 12]]\n"
     ]
    }
   ],
   "source": [
    "n1=np.array_split(a2,2)\n",
    "print(n1[1])"
   ]
  },
  {
   "cell_type": "code",
   "execution_count": 58,
   "id": "761f00ec",
   "metadata": {},
   "outputs": [
    {
     "name": "stdout",
     "output_type": "stream",
     "text": [
      "[[1 2 3]\n",
      " [7 8 9]]\n"
     ]
    }
   ],
   "source": [
    "print(n1[0])"
   ]
  },
  {
   "cell_type": "markdown",
   "id": "76bdbf86",
   "metadata": {},
   "source": [
    "hsplit"
   ]
  },
  {
   "cell_type": "code",
   "execution_count": 59,
   "id": "9c7e1901",
   "metadata": {},
   "outputs": [
    {
     "name": "stdout",
     "output_type": "stream",
     "text": [
      "[[ 1  2  3]\n",
      " [ 7  8  9]\n",
      " [10 11 12]]\n"
     ]
    }
   ],
   "source": [
    "a2=np.array([[1,2,3],[7,8,9],[10,11,12]])\n",
    "print(a2)"
   ]
  },
  {
   "cell_type": "code",
   "execution_count": 60,
   "id": "71589d40",
   "metadata": {},
   "outputs": [
    {
     "name": "stdout",
     "output_type": "stream",
     "text": [
      "[array([[ 1],\n",
      "       [ 7],\n",
      "       [10]]), array([[ 2],\n",
      "       [ 8],\n",
      "       [11]]), array([[ 3],\n",
      "       [ 9],\n",
      "       [12]])]\n"
     ]
    }
   ],
   "source": [
    "n1=np.hsplit(a2,3)\n",
    "print(n1)"
   ]
  },
  {
   "cell_type": "markdown",
   "id": "19a75785",
   "metadata": {},
   "source": [
    "vsplit"
   ]
  },
  {
   "cell_type": "code",
   "execution_count": 63,
   "id": "5a7b3ec8",
   "metadata": {},
   "outputs": [
    {
     "name": "stdout",
     "output_type": "stream",
     "text": [
      "[[ 1  2  3]\n",
      " [ 4  5  6]\n",
      " [ 7  8  9]\n",
      " [10 11 12]]\n"
     ]
    }
   ],
   "source": [
    "a2=np.array([[1,2,3],[4,5,6],[7,8,9],[10,11,12]])\n",
    "print(a2)"
   ]
  },
  {
   "cell_type": "code",
   "execution_count": 64,
   "id": "22d24f8b",
   "metadata": {},
   "outputs": [
    {
     "name": "stdout",
     "output_type": "stream",
     "text": [
      "[array([[1, 2, 3],\n",
      "       [4, 5, 6]]), array([[ 7,  8,  9],\n",
      "       [10, 11, 12]])]\n"
     ]
    }
   ],
   "source": [
    "n1=np.vsplit(a2,2)\n",
    "print(n1)"
   ]
  },
  {
   "cell_type": "markdown",
   "id": "034c09c0",
   "metadata": {},
   "source": [
    "dsplit"
   ]
  },
  {
   "cell_type": "code",
   "execution_count": 66,
   "id": "529b7864",
   "metadata": {},
   "outputs": [
    {
     "data": {
      "text/plain": [
       "array([[[1, 2, 3],\n",
       "        [4, 5, 6],\n",
       "        [7, 8, 9]]])"
      ]
     },
     "execution_count": 66,
     "metadata": {},
     "output_type": "execute_result"
    }
   ],
   "source": [
    "c=np.array([[[1,2,3],[4,5,6],[7,8,9]]])\n",
    "c"
   ]
  },
  {
   "cell_type": "code",
   "execution_count": 69,
   "id": "ac529078",
   "metadata": {},
   "outputs": [
    {
     "name": "stdout",
     "output_type": "stream",
     "text": [
      "[array([[[1],\n",
      "        [4],\n",
      "        [7]]]), array([[[2],\n",
      "        [5],\n",
      "        [8]]]), array([[[3],\n",
      "        [6],\n",
      "        [9]]])]\n"
     ]
    }
   ],
   "source": [
    "con1=np.dsplit(c,3)\n",
    "print(con1)"
   ]
  },
  {
   "cell_type": "code",
   "execution_count": null,
   "id": "96091320",
   "metadata": {},
   "outputs": [],
   "source": [
    "# sum of all numbers in a 2D array\n",
    "# minimum and maximum value\n",
    "# 50 percentile\n",
    "# access all the elements of array except first one\n",
    "# addition of matrix\n"
   ]
  },
  {
   "cell_type": "code",
   "execution_count": null,
   "id": "177a3f19",
   "metadata": {},
   "outputs": [],
   "source": [
    "Searching array"
   ]
  },
  {
   "cell_type": "code",
   "execution_count": 67,
   "id": "5afbd287",
   "metadata": {},
   "outputs": [
    {
     "name": "stdout",
     "output_type": "stream",
     "text": [
      "(array([7, 9], dtype=int64),)\n"
     ]
    }
   ],
   "source": [
    "arr=np.array([78,45,23,12,89,65,80,44,32,44,45])\n",
    "a=np.where(arr==44)\n",
    "print(a)"
   ]
  },
  {
   "cell_type": "code",
   "execution_count": 68,
   "id": "c14d4e34",
   "metadata": {},
   "outputs": [
    {
     "name": "stdout",
     "output_type": "stream",
     "text": [
      "(array([3], dtype=int64),)\n"
     ]
    }
   ],
   "source": [
    "arr=np.array([78,45,23,12,89,65,80,44,32,44,45])\n",
    "a=np.where(arr==12)\n",
    "print(a)"
   ]
  },
  {
   "cell_type": "markdown",
   "id": "dcf0d0d9",
   "metadata": {},
   "source": [
    "Replace element in an array"
   ]
  },
  {
   "cell_type": "code",
   "execution_count": 70,
   "id": "4715cd97",
   "metadata": {},
   "outputs": [
    {
     "data": {
      "text/plain": [
       "array([ 1,  2,  3,  4,  5,  6,  7,  8,  9, 10, 11, 12, 13, 14, 15, 16, 17,\n",
       "       18, 19, 20])"
      ]
     },
     "execution_count": 70,
     "metadata": {},
     "output_type": "execute_result"
    }
   ],
   "source": [
    "ar=np.arange(1,21)\n",
    "ar"
   ]
  },
  {
   "cell_type": "code",
   "execution_count": 71,
   "id": "79c2e524",
   "metadata": {},
   "outputs": [
    {
     "name": "stdout",
     "output_type": "stream",
     "text": [
      "[ 1  0  3  0  5  0  7  0  9  0 11  0 13  0 15  0 17  0 19  0]\n"
     ]
    }
   ],
   "source": [
    "rep=np.where(ar%2==0,0,ar)\n",
    "print(rep)"
   ]
  },
  {
   "cell_type": "markdown",
   "id": "6a5075a2",
   "metadata": {},
   "source": [
    "missing values in array"
   ]
  },
  {
   "cell_type": "code",
   "execution_count": 74,
   "id": "57088188",
   "metadata": {},
   "outputs": [
    {
     "data": {
      "text/plain": [
       "array([ 1., nan, 78., 86., 90., nan,  8., nan])"
      ]
     },
     "execution_count": 74,
     "metadata": {},
     "output_type": "execute_result"
    }
   ],
   "source": [
    "a=np.array([1,np.nan,78,86,90,np.nan,8,np.nan])\n",
    "a"
   ]
  },
  {
   "cell_type": "code",
   "execution_count": 75,
   "id": "b6ff0e8c",
   "metadata": {},
   "outputs": [
    {
     "data": {
      "text/plain": [
       "array([False,  True, False, False, False,  True, False,  True])"
      ]
     },
     "execution_count": 75,
     "metadata": {},
     "output_type": "execute_result"
    }
   ],
   "source": [
    "np.isnan(a)"
   ]
  },
  {
   "cell_type": "code",
   "execution_count": 76,
   "id": "2571c02e",
   "metadata": {},
   "outputs": [
    {
     "data": {
      "text/plain": [
       "array([ 1., nan, 78., 86., 90., nan,  8., nan])"
      ]
     },
     "execution_count": 76,
     "metadata": {},
     "output_type": "execute_result"
    }
   ],
   "source": [
    "a"
   ]
  },
  {
   "cell_type": "code",
   "execution_count": 77,
   "id": "69e3f6e8",
   "metadata": {},
   "outputs": [],
   "source": [
    "a[np.isnan(a)]=65 # replace all missing value"
   ]
  },
  {
   "cell_type": "code",
   "execution_count": 78,
   "id": "7797b3ba",
   "metadata": {},
   "outputs": [
    {
     "data": {
      "text/plain": [
       "array([ 1., 65., 78., 86., 90., 65.,  8., 65.])"
      ]
     },
     "execution_count": 78,
     "metadata": {},
     "output_type": "execute_result"
    }
   ],
   "source": [
    "a"
   ]
  },
  {
   "cell_type": "code",
   "execution_count": 79,
   "id": "e2c40647",
   "metadata": {},
   "outputs": [
    {
     "data": {
      "text/plain": [
       "False"
      ]
     },
     "execution_count": 79,
     "metadata": {},
     "output_type": "execute_result"
    }
   ],
   "source": [
    "np.isnan(a).any() # check array has any null value"
   ]
  },
  {
   "cell_type": "markdown",
   "id": "523b0f0b",
   "metadata": {},
   "source": [
    "common items bet two arrays"
   ]
  },
  {
   "cell_type": "code",
   "execution_count": 81,
   "id": "38bbcffe",
   "metadata": {},
   "outputs": [],
   "source": [
    "a=np.array([10,11,12,13,14,15,16,17])\n",
    "b=np.array([12,13,45,67,34,10,11,78])"
   ]
  },
  {
   "cell_type": "code",
   "execution_count": 83,
   "id": "f21192d3",
   "metadata": {},
   "outputs": [
    {
     "data": {
      "text/plain": [
       "array([10, 11, 12, 13])"
      ]
     },
     "execution_count": 83,
     "metadata": {},
     "output_type": "execute_result"
    }
   ],
   "source": [
    "np.intersect1d(a,b)"
   ]
  },
  {
   "cell_type": "markdown",
   "id": "1e9b8c84",
   "metadata": {},
   "source": [
    "Remove common element"
   ]
  },
  {
   "cell_type": "code",
   "execution_count": 84,
   "id": "eeabd1b3",
   "metadata": {},
   "outputs": [
    {
     "data": {
      "text/plain": [
       "array([10, 11, 12, 13, 14, 15, 16, 17])"
      ]
     },
     "execution_count": 84,
     "metadata": {},
     "output_type": "execute_result"
    }
   ],
   "source": [
    "a"
   ]
  },
  {
   "cell_type": "code",
   "execution_count": 85,
   "id": "30a2ee3c",
   "metadata": {},
   "outputs": [
    {
     "data": {
      "text/plain": [
       "array([12, 13, 45, 67, 34, 10, 11, 78])"
      ]
     },
     "execution_count": 85,
     "metadata": {},
     "output_type": "execute_result"
    }
   ],
   "source": [
    "b"
   ]
  },
  {
   "cell_type": "code",
   "execution_count": 86,
   "id": "db045db3",
   "metadata": {},
   "outputs": [
    {
     "data": {
      "text/plain": [
       "array([14, 15, 16, 17])"
      ]
     },
     "execution_count": 86,
     "metadata": {},
     "output_type": "execute_result"
    }
   ],
   "source": [
    "np.setdiff1d(a,b)"
   ]
  },
  {
   "cell_type": "code",
   "execution_count": 87,
   "id": "7565f740",
   "metadata": {},
   "outputs": [
    {
     "data": {
      "text/plain": [
       "array([34, 45, 67, 78])"
      ]
     },
     "execution_count": 87,
     "metadata": {},
     "output_type": "execute_result"
    }
   ],
   "source": [
    "np.setdiff1d(b,a)"
   ]
  },
  {
   "cell_type": "markdown",
   "id": "fd91699d",
   "metadata": {},
   "source": [
    "check for elements in an array using isin()"
   ]
  },
  {
   "cell_type": "code",
   "execution_count": 91,
   "id": "a45e2c0f",
   "metadata": {},
   "outputs": [
    {
     "data": {
      "text/plain": [
       "array([100,  20, 130,  40, 150,  60,  78])"
      ]
     },
     "execution_count": 91,
     "metadata": {},
     "output_type": "execute_result"
    }
   ],
   "source": [
    "a=np.array([100,20,130,40,150,60,78])\n",
    "a"
   ]
  },
  {
   "cell_type": "code",
   "execution_count": 93,
   "id": "dc05aaf5",
   "metadata": {},
   "outputs": [
    {
     "data": {
      "text/plain": [
       "array([False, False, False,  True, False,  True, False])"
      ]
     },
     "execution_count": 93,
     "metadata": {},
     "output_type": "execute_result"
    }
   ],
   "source": [
    "np.isin(a,[40,60])"
   ]
  },
  {
   "cell_type": "code",
   "execution_count": null,
   "id": "5f22b575",
   "metadata": {},
   "outputs": [],
   "source": [
    "reverse array"
   ]
  },
  {
   "cell_type": "code",
   "execution_count": null,
   "id": "ea0579d5",
   "metadata": {},
   "outputs": [],
   "source": [
    "a=np.array([100,20,130,40,150,60,78])\n",
    "a"
   ]
  },
  {
   "cell_type": "code",
   "execution_count": 89,
   "id": "3c8c2a09",
   "metadata": {},
   "outputs": [
    {
     "data": {
      "text/plain": [
       "array([ 78,  60, 150,  40, 130,  20, 100])"
      ]
     },
     "execution_count": 89,
     "metadata": {},
     "output_type": "execute_result"
    }
   ],
   "source": [
    "np.flip(a)"
   ]
  },
  {
   "cell_type": "code",
   "execution_count": null,
   "id": "ee57b605",
   "metadata": {},
   "outputs": [],
   "source": [
    "sort array\n"
   ]
  },
  {
   "cell_type": "code",
   "execution_count": 94,
   "id": "0e6725b1",
   "metadata": {},
   "outputs": [
    {
     "data": {
      "text/plain": [
       "array([67, 43, 23, 11, 89, 65, 45, 88])"
      ]
     },
     "execution_count": 94,
     "metadata": {},
     "output_type": "execute_result"
    }
   ],
   "source": [
    "b=np.array([67,43,23,11,89,65,45,88])\n",
    "b"
   ]
  },
  {
   "cell_type": "code",
   "execution_count": 95,
   "id": "afc1f284",
   "metadata": {},
   "outputs": [
    {
     "data": {
      "text/plain": [
       "array([11, 23, 43, 45, 65, 67, 88, 89])"
      ]
     },
     "execution_count": 95,
     "metadata": {},
     "output_type": "execute_result"
    }
   ],
   "source": [
    "np.sort(b)"
   ]
  },
  {
   "cell_type": "code",
   "execution_count": null,
   "id": "d8e05cf9",
   "metadata": {},
   "outputs": [],
   "source": [
    "operation 2D array"
   ]
  },
  {
   "cell_type": "code",
   "execution_count": 99,
   "id": "bfef3e56",
   "metadata": {},
   "outputs": [
    {
     "data": {
      "text/plain": [
       "array([[100,   2,  93],\n",
       "       [ 41,   5,   6],\n",
       "       [  7,   8,  90]])"
      ]
     },
     "execution_count": 99,
     "metadata": {},
     "output_type": "execute_result"
    }
   ],
   "source": [
    "a=np.array([[100,2,93],[41,5,6],[7,8,90]])\n",
    "a"
   ]
  },
  {
   "cell_type": "code",
   "execution_count": 100,
   "id": "364aed72",
   "metadata": {},
   "outputs": [
    {
     "data": {
      "text/plain": [
       "array([2, 5, 7])"
      ]
     },
     "execution_count": 100,
     "metadata": {},
     "output_type": "execute_result"
    }
   ],
   "source": [
    "np.amin(a,axis=1)"
   ]
  },
  {
   "cell_type": "code",
   "execution_count": 101,
   "id": "84b20fb7",
   "metadata": {},
   "outputs": [
    {
     "data": {
      "text/plain": [
       "array([7, 2, 6])"
      ]
     },
     "execution_count": 101,
     "metadata": {},
     "output_type": "execute_result"
    }
   ],
   "source": [
    "np.amin(a,axis=0)"
   ]
  },
  {
   "cell_type": "code",
   "execution_count": 102,
   "id": "b9892cf9",
   "metadata": {},
   "outputs": [
    {
     "data": {
      "text/plain": [
       "array([100,  41,  90])"
      ]
     },
     "execution_count": 102,
     "metadata": {},
     "output_type": "execute_result"
    }
   ],
   "source": [
    "np.amax(a,axis=1)"
   ]
  },
  {
   "cell_type": "code",
   "execution_count": 104,
   "id": "f61e96ab",
   "metadata": {},
   "outputs": [
    {
     "data": {
      "text/plain": [
       "array([100,   8,  93])"
      ]
     },
     "execution_count": 104,
     "metadata": {},
     "output_type": "execute_result"
    }
   ],
   "source": [
    "np.amax(a,axis=0)"
   ]
  },
  {
   "cell_type": "code",
   "execution_count": null,
   "id": "d298caad",
   "metadata": {},
   "outputs": [],
   "source": []
  }
 ],
 "metadata": {
  "kernelspec": {
   "display_name": "Python 3 (ipykernel)",
   "language": "python",
   "name": "python3"
  },
  "language_info": {
   "codemirror_mode": {
    "name": "ipython",
    "version": 3
   },
   "file_extension": ".py",
   "mimetype": "text/x-python",
   "name": "python",
   "nbconvert_exporter": "python",
   "pygments_lexer": "ipython3",
   "version": "3.9.7"
  }
 },
 "nbformat": 4,
 "nbformat_minor": 5
}
