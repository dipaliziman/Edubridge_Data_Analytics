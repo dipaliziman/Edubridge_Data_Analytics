{
 "cells": [
  {
   "cell_type": "code",
   "execution_count": 1,
   "id": "6604a10f-6090-4106-9455-e321682b4c35",
   "metadata": {},
   "outputs": [
    {
     "name": "stdout",
     "output_type": "stream",
     "text": [
      "word\n"
     ]
    }
   ],
   "source": [
    "word = \"word\"\n",
    "print (word)"
   ]
  },
  {
   "cell_type": "code",
   "execution_count": 2,
   "id": "72321dae-4655-475d-a711-d5d885cd273f",
   "metadata": {},
   "outputs": [
    {
     "name": "stdout",
     "output_type": "stream",
     "text": [
      "this is a sentence\n"
     ]
    }
   ],
   "source": [
    "sentence = \"this is a sentence\"\n",
    "print (sentence)"
   ]
  },
  {
   "cell_type": "code",
   "execution_count": 3,
   "id": "ab20ee17-817a-4d66-b1bc-dddf672ddc6d",
   "metadata": {},
   "outputs": [
    {
     "name": "stdout",
     "output_type": "stream",
     "text": [
      "this is a paragraph\n",
      "this is a paragraph\n"
     ]
    }
   ],
   "source": [
    "paragraph = \"\"\"this is a paragraph\n",
    "this is a paragraph\"\"\"\n",
    "print (paragraph)"
   ]
  },
  {
   "cell_type": "code",
   "execution_count": 4,
   "id": "0f012af7-b81b-4702-8603-03a90eecb8cc",
   "metadata": {},
   "outputs": [
    {
     "name": "stdout",
     "output_type": "stream",
     "text": [
      "556\n",
      "dgsfsgd\n",
      "65656 sdkjvj\n",
      "112.45\n",
      "<class 'int'>\n",
      "<class 'str'>\n",
      "<class 'str'>\n",
      "<class 'float'>\n"
     ]
    }
   ],
   "source": [
    "# testing variables and values\n",
    "\n",
    "a = 556\n",
    "b = \"dgsfsgd\"\n",
    "c = \"65656 sdkjvj\"\n",
    "d = 112.45\n",
    "print(a)\n",
    "print(b)\n",
    "print(c)\n",
    "print(d)\n",
    "print (type(a))\n",
    "print (type(b))\n",
    "print (type(c))\n",
    "print (type(d))"
   ]
  },
  {
   "cell_type": "code",
   "execution_count": 5,
   "id": "9ecb4bd4-a68c-46b6-98fd-efa8b7663849",
   "metadata": {},
   "outputs": [
    {
     "name": "stdout",
     "output_type": "stream",
     "text": [
      "12 24 48\n"
     ]
    }
   ],
   "source": [
    "# python is case sensitive\n",
    "\n",
    "case = 12\n",
    "CASE = 24\n",
    "cAsE = 48\n",
    "print(case,CASE,cAsE)"
   ]
  },
  {
   "cell_type": "code",
   "execution_count": 6,
   "id": "9905f890-6095-4301-81af-18cdc5377133",
   "metadata": {},
   "outputs": [
    {
     "name": "stdout",
     "output_type": "stream",
     "text": [
      "12 12 12\n"
     ]
    }
   ],
   "source": [
    "a = b = c = 12\n",
    "print(a,b,c)"
   ]
  },
  {
   "cell_type": "code",
   "execution_count": 7,
   "id": "9a729e2c-337c-4c45-b62d-2bdabbe1609d",
   "metadata": {},
   "outputs": [
    {
     "name": "stdout",
     "output_type": "stream",
     "text": [
      "1 2 3\n"
     ]
    }
   ],
   "source": [
    "a,b,c = 1,2,3\n",
    "print(a,b,c)"
   ]
  },
  {
   "cell_type": "code",
   "execution_count": 8,
   "id": "c59b8a02-3074-4a96-a313-f44eaa087ff9",
   "metadata": {},
   "outputs": [
    {
     "name": "stdout",
     "output_type": "stream",
     "text": [
      "IMPOSTER lisa bell\n"
     ]
    }
   ],
   "source": [
    "a = \"sam\"\n",
    "b = \"lisa\"\n",
    "c = \"bell\"\n",
    "a = \"IMPOSTER\"\n",
    "\n",
    "print(a,b,c)"
   ]
  },
  {
   "cell_type": "code",
   "execution_count": 9,
   "id": "e7fca154-25e4-43f4-903f-ea0488d2954d",
   "metadata": {},
   "outputs": [
    {
     "data": {
      "text/plain": [
       "['False',\n",
       " 'None',\n",
       " 'True',\n",
       " '__peg_parser__',\n",
       " 'and',\n",
       " 'as',\n",
       " 'assert',\n",
       " 'async',\n",
       " 'await',\n",
       " 'break',\n",
       " 'class',\n",
       " 'continue',\n",
       " 'def',\n",
       " 'del',\n",
       " 'elif',\n",
       " 'else',\n",
       " 'except',\n",
       " 'finally',\n",
       " 'for',\n",
       " 'from',\n",
       " 'global',\n",
       " 'if',\n",
       " 'import',\n",
       " 'in',\n",
       " 'is',\n",
       " 'lambda',\n",
       " 'nonlocal',\n",
       " 'not',\n",
       " 'or',\n",
       " 'pass',\n",
       " 'raise',\n",
       " 'return',\n",
       " 'try',\n",
       " 'while',\n",
       " 'with',\n",
       " 'yield']"
      ]
     },
     "execution_count": 9,
     "metadata": {},
     "output_type": "execute_result"
    }
   ],
   "source": [
    "import keyword\n",
    "keyword.kwlist"
   ]
  },
  {
   "cell_type": "code",
   "execution_count": 10,
   "id": "2b48d8e5-7070-4144-9b91-977ae649dff2",
   "metadata": {},
   "outputs": [
    {
     "name": "stdout",
     "output_type": "stream",
     "text": [
      "<class 'int'>\n",
      "<class 'str'>\n",
      "<class 'float'>\n"
     ]
    }
   ],
   "source": [
    "var = 1\n",
    "print(type(var))\n",
    "\n",
    "var = \"athul\"\n",
    "print(type(var))\n",
    "\n",
    "var = 2.36\n",
    "print(type(var))"
   ]
  },
  {
   "cell_type": "code",
   "execution_count": 11,
   "id": "d0a30edc-db25-405a-8e7d-79edc08942a8",
   "metadata": {},
   "outputs": [
    {
     "name": "stdout",
     "output_type": "stream",
     "text": [
      "100\n",
      "85.0\n",
      "Edubridge\n"
     ]
    }
   ],
   "source": [
    "total = 100 # An integer assignment\n",
    "marks = 85.0 # A floating point\n",
    "name = \"Edubridge\" # A string\n",
    "print (total) \n",
    "print (marks)\n",
    "print (name)\n"
   ]
  },
  {
   "cell_type": "code",
   "execution_count": 12,
   "id": "d8522257-7eb2-494f-908c-c845af0d2b5c",
   "metadata": {},
   "outputs": [
    {
     "name": "stdout",
     "output_type": "stream",
     "text": [
      "p\n",
      "appl\n",
      "apple\n",
      "e\n",
      "\n",
      "\n"
     ]
    }
   ],
   "source": [
    "#slicing\n",
    " # positive indexing is [0,1,2.....x]   # for indexing we use [x:y] which give values from xth position till y-1 position\n",
    "    \n",
    " # negative indexing is [-x.....-2,-1] \n",
    "\n",
    "x = \"apple\"\n",
    "print(x[2])\n",
    "print(x[:4])\n",
    "print(x[:])\n",
    "print(x[4:])\n",
    "print(x[5:])\n",
    "print(x[122:])"
   ]
  },
  {
   "cell_type": "code",
   "execution_count": 13,
   "id": "ce62807c-3b17-4c7c-bd95-7278826131e2",
   "metadata": {},
   "outputs": [
    {
     "name": "stdout",
     "output_type": "stream",
     "text": [
      "36\n",
      "4.0\n",
      "8\n",
      "33\n"
     ]
    }
   ],
   "source": [
    "x = 12\n",
    "z = x * 3\n",
    "print(z)\n",
    "\n",
    "y = x / 3\n",
    "\n",
    "print(y)\n",
    "\n",
    "w = x - 4\n",
    "\n",
    "print(w)\n",
    "\n",
    "print(x+x+x-3)"
   ]
  },
  {
   "cell_type": "code",
   "execution_count": 14,
   "id": "0d80f1de-6c7f-4c4f-9a3d-46d663455ec9",
   "metadata": {},
   "outputs": [
    {
     "name": "stdout",
     "output_type": "stream",
     "text": [
      "vchgacbsdcbcjhsjk\n",
      "VCHGACBSDCBCJHSJK\n"
     ]
    }
   ],
   "source": [
    "# lower and upper case\n",
    "\n",
    "\n",
    "a = \"vchgacBSDCBCJHSjk\"\n",
    "\n",
    "print(a.lower())\n",
    "print(a.upper())\n"
   ]
  },
  {
   "cell_type": "code",
   "execution_count": 15,
   "id": "95e228cc-cd1c-4cba-8f99-6ba41f8df5aa",
   "metadata": {},
   "outputs": [
    {
     "name": "stdout",
     "output_type": "stream",
     "text": [
      "fdsfdff\n"
     ]
    }
   ],
   "source": [
    "# strip for removing white spaces at the beginning or end\n",
    "\n",
    "\n",
    "c = \"          fdsfdff\"\n",
    "\n",
    "print(c.strip())\n"
   ]
  },
  {
   "cell_type": "code",
   "execution_count": 16,
   "id": "9fc9637c-a445-4d8b-8794-09f900d0e9e5",
   "metadata": {},
   "outputs": [
    {
     "name": "stdout",
     "output_type": "stream",
     "text": [
      "          3ds3d33\n",
      "3ds3d33\n"
     ]
    }
   ],
   "source": [
    "#replace\n",
    "\n",
    "c = \"          fdsfdff\"\n",
    "\n",
    "print(c.replace(\"f\",\"3\"))\n",
    "\n",
    "print(c.strip().replace(\"f\",\"3\"))"
   ]
  },
  {
   "cell_type": "code",
   "execution_count": 17,
   "id": "a0e175b5-088b-41e6-aac3-040ca8652eb6",
   "metadata": {},
   "outputs": [
    {
     "name": "stdout",
     "output_type": "stream",
     "text": [
      "apple and orange\n",
      "apple and orange 222\n"
     ]
    }
   ],
   "source": [
    "# string concatenation\n",
    "\n",
    "\n",
    "x = \"apple\"\n",
    "y = \"and\"\n",
    "z = \"orange\"\n",
    "w = 222\n",
    "\n",
    "a = x + \" \" + y + \" \" + z\n",
    "\n",
    "print(a)\n",
    "\n",
    "# concatenating string with int\n",
    "\n",
    "b = x + \" \" + y + \" \" + z + \" \" + str(w)\n",
    "\n",
    "print(b)"
   ]
  },
  {
   "cell_type": "code",
   "execution_count": 18,
   "id": "cf4d7dfe-3c67-44f4-84d3-9427f678cb07",
   "metadata": {},
   "outputs": [
    {
     "name": "stdout",
     "output_type": "stream",
     "text": [
      "['geeks', 'for', 'geeks']\n",
      "['geeks', ' for', ' geeks']\n",
      "['geeks', 'for', 'geeks']\n",
      "['Ca', 'Ba', 'Sa', 'Fa', 'Or']\n"
     ]
    }
   ],
   "source": [
    "# string split\n",
    "\n",
    "text = 'geeks for geeks'\n",
    "  \n",
    "# Splits at space\n",
    "print(text.split())\n",
    "  \n",
    "word = 'geeks, for, geeks'\n",
    "  \n",
    "# Splits at ','\n",
    "print(word.split(','))\n",
    "  \n",
    "word = 'geeks:for:geeks'\n",
    "  \n",
    "# Splitting at ':'\n",
    "print(word.split(':'))\n",
    "  \n",
    "word = 'CatBatSatFatOr'\n",
    "  \n",
    "# Splitting at t\n",
    "print(word.split('t'))\n"
   ]
  },
  {
   "cell_type": "code",
   "execution_count": 19,
   "id": "33cc18d6-b906-4dae-b950-81504a48681f",
   "metadata": {},
   "outputs": [
    {
     "name": "stdout",
     "output_type": "stream",
     "text": [
      "14\n"
     ]
    }
   ],
   "source": [
    "# exercise\n",
    "\n",
    "#1.\tUse the len method to print the length of the string.A=’Data Analytics’\n",
    "\n",
    "A = \"Data Analytics\"\n",
    "\n",
    "print(len(A))"
   ]
  },
  {
   "cell_type": "code",
   "execution_count": 20,
   "id": "9e33f0d5-416f-434e-aaf1-f254990b6c5b",
   "metadata": {},
   "outputs": [
    {
     "name": "stdout",
     "output_type": "stream",
     "text": [
      "tho\n",
      "rings\n",
      "Python Strings\n",
      "StringsStringsStrings\n",
      "Strings Strings Strings \n"
     ]
    }
   ],
   "source": [
    "# 5.\tWrite a Python program to create two strings s1 and s2. \n",
    "#       Assign in s1 as ‘Python’ and in s2 as ‘Strings.\n",
    "#       Print the character from 2nd index to 5th index of s1.\n",
    "#       Print the characters from 2nd to end.\n",
    "#       Concatenate both s1 and s2.\n",
    "#       Repeat s2 three times.\n",
    "\n",
    "\n",
    "s1 = \"Python\"\n",
    "s2 = \"Strings\"\n",
    "\n",
    "print(s1[2:5])\n",
    "print(s2[2:])\n",
    "\n",
    "print(s1 + \" \" + s2)\n",
    "\n",
    "print(s2 * 3)\n",
    "\n",
    "print   ((s2 +\" \")*3)"
   ]
  },
  {
   "cell_type": "code",
   "execution_count": 21,
   "id": "1854edae-8842-4f27-97be-6f47a84b5e62",
   "metadata": {},
   "outputs": [
    {
     "name": "stdout",
     "output_type": "stream",
     "text": [
      "Hello\n",
      "Hello\n",
      "Hello\n",
      "Hello, welcome to\n",
      "           the world of Python\n"
     ]
    }
   ],
   "source": [
    "# defining strings in Python\n",
    "# all of the following are equivalent\n",
    "my_string = 'Hello'\n",
    "print(my_string)\n",
    "\n",
    "my_string = \"Hello\"\n",
    "print(my_string)\n",
    "\n",
    "my_string = '''Hello'''\n",
    "print(my_string)\n",
    "\n",
    "# triple quotes string can extend multiple lines\n",
    "my_string = \"\"\"Hello, welcome to\n",
    "           the world of Python\"\"\"\n",
    "print(my_string)"
   ]
  },
  {
   "cell_type": "code",
   "execution_count": 22,
   "id": "5ec3521b-e656-4afe-9b87-3373ef06adf8",
   "metadata": {},
   "outputs": [
    {
     "name": "stdout",
     "output_type": "stream",
     "text": [
      "str =  programiz\n",
      "str[0] =  p\n",
      "str[-1] =  z\n",
      "str[1:5] =  rogr\n",
      "str[5:-2] =  am\n",
      "str1 + str2 =  HelloWorld!\n",
      "str1 * 3 = HelloHelloHello\n"
     ]
    }
   ],
   "source": [
    "#Accessing string characters in Python\n",
    "str = 'programiz'\n",
    "print('str = ', str)\n",
    "\n",
    "#first character\n",
    "print('str[0] = ', str[0])\n",
    "\n",
    "#last character\n",
    "print('str[-1] = ', str[-1])\n",
    "\n",
    "#slicing 2nd to 5th character\n",
    "print('str[1:5] = ', str[1:5])\n",
    "\n",
    "#slicing 6th to 2nd last character\n",
    "print('str[5:-2] = ', str[5:-2])\n",
    "# Python String Operations\n",
    "str1 = 'Hello'\n",
    "str2 ='World!'\n",
    "\n",
    "# using +\n",
    "print('str1 + str2 = ', str1 + str2)\n",
    "\n",
    "# using *\n",
    "print('str1 * 3 =', str1 * 3)\n"
   ]
  },
  {
   "cell_type": "code",
   "execution_count": 23,
   "id": "15b4f922-9bc3-4585-957a-508e5d4cd574",
   "metadata": {},
   "outputs": [
    {
     "name": "stdout",
     "output_type": "stream",
     "text": [
      "['a', 'b', 'c', 'd', 'a']\n"
     ]
    }
   ],
   "source": [
    "#list  \n",
    "\n",
    "# list items are ordered, changeable, and allow duplicates\n",
    "\n",
    "\n",
    "\n",
    "\n",
    "x = [\"a\",\"b\",\"c\",\"d\",\"a\"]\n",
    "print(x)"
   ]
  },
  {
   "cell_type": "code",
   "execution_count": 24,
   "id": "8512852b-6b1c-43cc-8161-5f62b1c44297",
   "metadata": {},
   "outputs": [
    {
     "name": "stdout",
     "output_type": "stream",
     "text": [
      "5\n",
      "['a', 'b'] [1, 2, 3] [True, False]\n",
      "<class 'list'>\n",
      "<class 'list'>\n",
      "<class 'list'>\n",
      "['asa', 2132, 2.7567, True]\n"
     ]
    }
   ],
   "source": [
    "x = [\"a\",\"b\",\"c\",\"d\",\"a\"]\n",
    "print(len(x))\n",
    "\n",
    "#can be of any datatypes\n",
    "\n",
    "l1 = [\"a\",\"b\"]\n",
    "l2 = [1,2,3]\n",
    "l3 = [True,False]\n",
    "\n",
    "print(l1,l2,l3)\n",
    "print(type(l1))\n",
    "print(type(l2))\n",
    "print(type(l3))\n",
    "\n",
    "x = [\"asa\", 2132, 2.7567, True]\n",
    "\n",
    "print(x)"
   ]
  },
  {
   "cell_type": "code",
   "execution_count": 25,
   "id": "07ae65f8-ec86-4494-80b3-c8784481aa56",
   "metadata": {},
   "outputs": [
    {
     "name": "stdout",
     "output_type": "stream",
     "text": [
      "['c', 'd', 'a']\n"
     ]
    }
   ],
   "source": [
    "# range of index\n",
    "# can specify a range of index by specifying where to start and where to end\n",
    "\n",
    "x = [\"a\",\"b\",\"c\",\"d\",\"a\"]\n",
    "print(x[2:])"
   ]
  },
  {
   "cell_type": "code",
   "execution_count": 26,
   "id": "ce4e673e-dc8f-4658-bfef-1aaa0520d80f",
   "metadata": {},
   "outputs": [
    {
     "name": "stdout",
     "output_type": "stream",
     "text": [
      "present\n"
     ]
    }
   ],
   "source": [
    "# check if item exist  - to determine if a specified item is present in a list we use \"in\" keyword\n",
    "# eg: to check if \"engineer\" is present in my designation list\n",
    "\n",
    "l1 = [\"doctor\",\"engineer\",\"teacher\",\"nurse\"]\n",
    "\n",
    "if \"engineer\" in l1: \n",
    "    print (\"present\")\n"
   ]
  },
  {
   "cell_type": "code",
   "execution_count": 27,
   "id": "3ba9e539-3196-4591-9681-9b47ed3bdde6",
   "metadata": {},
   "outputs": [
    {
     "name": "stdout",
     "output_type": "stream",
     "text": [
      "['kiwi', 'watermelon', 'banana', 'grapes']\n"
     ]
    }
   ],
   "source": [
    "# change list items to change value of a specific item\n",
    "\n",
    "fruits = [\"kiwi\",\"apple\",\"banana\",\"grapes\"]\n",
    "fruits[1] = \"watermelon\"\n",
    "print(fruits)"
   ]
  },
  {
   "cell_type": "code",
   "execution_count": 28,
   "id": "2188db00-773a-4781-9799-ead1ff4b9567",
   "metadata": {},
   "outputs": [
    {
     "name": "stdout",
     "output_type": "stream",
     "text": [
      "['kiwi', 'apple', 'watermelon', 'banana', 'grapes']\n"
     ]
    }
   ],
   "source": [
    "# add an item in list\n",
    "\n",
    "fruits = [\"kiwi\",\"apple\",\"banana\",\"grapes\"]\n",
    "fruits.insert(2,\"watermelon\")\n",
    "print(fruits)"
   ]
  },
  {
   "cell_type": "code",
   "execution_count": 29,
   "id": "31885cc5-3036-4068-8fae-f561fd074a49",
   "metadata": {},
   "outputs": [
    {
     "name": "stdout",
     "output_type": "stream",
     "text": [
      "['kiwi', 'apple', 'banana', 'grapes', 'watermelon']\n"
     ]
    }
   ],
   "source": [
    "# add an item in the end\n",
    "\n",
    "fruits = [\"kiwi\",\"apple\",\"banana\",\"grapes\"]\n",
    "fruits.append(\"watermelon\")\n",
    "print(fruits)\n"
   ]
  },
  {
   "cell_type": "code",
   "execution_count": 30,
   "id": "513a02ff-8faf-4244-912f-46d36f10167e",
   "metadata": {},
   "outputs": [
    {
     "name": "stdout",
     "output_type": "stream",
     "text": [
      "['kiwi', 'apple', 'banana', 'grapes', 'strawberry', 'plum']\n"
     ]
    }
   ],
   "source": [
    "# extend list\n",
    "\n",
    "fruits = [\"kiwi\",\"apple\",\"banana\",\"grapes\"]\n",
    "fruits2 = [\"strawberry\",\"plum\"]\n",
    "fruits.extend(fruits2)\n",
    "print(fruits)\n"
   ]
  },
  {
   "cell_type": "code",
   "execution_count": 31,
   "id": "14741779-20e0-4335-837d-f78a5c25394b",
   "metadata": {},
   "outputs": [
    {
     "name": "stdout",
     "output_type": "stream",
     "text": [
      "['kiwi', 'apple', 'grapes']\n",
      "['kiwi', 'apple']\n"
     ]
    }
   ],
   "source": [
    "# remove items in list\n",
    "# pop() method removes the specified index\n",
    "\n",
    "fruits = [\"kiwi\",\"apple\",\"banana\",\"grapes\"]\n",
    "fruits.pop(2)\n",
    "print(fruits)\n",
    "fruits.pop()\n",
    "print(fruits)\n"
   ]
  },
  {
   "cell_type": "code",
   "execution_count": 32,
   "id": "97ec03bc-495f-4c96-a5ec-b5cf0152cec7",
   "metadata": {},
   "outputs": [
    {
     "name": "stdout",
     "output_type": "stream",
     "text": [
      "['kiwi', 'apple', 'banana']\n"
     ]
    }
   ],
   "source": [
    "fruits = [\"kiwi\",\"apple\",\"banana\",\"grapes\"]\n",
    "fruits.pop()\n",
    "print(fruits)"
   ]
  },
  {
   "cell_type": "code",
   "execution_count": 33,
   "id": "b79b540b-957c-4a76-899a-578314079ab0",
   "metadata": {},
   "outputs": [
    {
     "name": "stdout",
     "output_type": "stream",
     "text": [
      "['apple', 'banana', 'grapes']\n"
     ]
    }
   ],
   "source": [
    "# deleting item from list\n",
    "\n",
    "fruits = [\"kiwi\",\"apple\",\"banana\",\"grapes\"]\n",
    "del fruits[0]\n",
    "print(fruits)"
   ]
  },
  {
   "cell_type": "code",
   "execution_count": 34,
   "id": "3ffef32c-a87e-494a-95ea-f3c5763c8cc3",
   "metadata": {},
   "outputs": [
    {
     "name": "stdout",
     "output_type": "stream",
     "text": [
      "[]\n"
     ]
    }
   ],
   "source": [
    "fruits = [\"kiwi\",\"apple\",\"banana\",\"grapes\"]\n",
    "del fruits[:]\n",
    "print(fruits)"
   ]
  },
  {
   "cell_type": "code",
   "execution_count": 35,
   "id": "c6b2ac51-618b-4939-8ee7-f147f7044f6b",
   "metadata": {},
   "outputs": [
    {
     "name": "stdout",
     "output_type": "stream",
     "text": [
      "[]\n"
     ]
    }
   ],
   "source": [
    "# clear list\n",
    "fruits = [\"kiwi\",\"apple\",\"banana\",\"grapes\"]\n",
    "fruits.clear()\n",
    "print(fruits)"
   ]
  },
  {
   "cell_type": "code",
   "execution_count": 36,
   "id": "be1363da-ad23-4da8-864e-0c98bd29cc6b",
   "metadata": {},
   "outputs": [
    {
     "name": "stdout",
     "output_type": "stream",
     "text": [
      "['kiwi', 'apple', 'banana', 'grapes', 'tomato', 'ginger']\n",
      "['kiwi', 'apple', 'banana', 'grapes', 'kiwi', 'apple', 'banana', 'grapes', 'kiwi', 'apple', 'banana', 'grapes']\n",
      "banana\n"
     ]
    }
   ],
   "source": [
    "# create two list and perform slicing, concatenate and repeat it\n",
    "\n",
    "fruits = [\"kiwi\",\"apple\",\"banana\",\"grapes\"]\n",
    "vegetables = [\"tomato\",\"ginger\",]\n",
    "print(fruits + vegetables)  # concatenate\n",
    "print(fruits*3)  # multipling\n",
    "print(fruits[2])  # slicing\n"
   ]
  },
  {
   "cell_type": "code",
   "execution_count": 37,
   "id": "5755a563-ed7e-4926-9575-68f9cb9ca6a3",
   "metadata": {},
   "outputs": [
    {
     "name": "stdout",
     "output_type": "stream",
     "text": [
      "['A', 'B', 'C', 'D', 1, 2, 3, 4]\n"
     ]
    }
   ],
   "source": [
    "list1 = [\"A\",\"B\",\"C\",\"D\"]\n",
    "list2 = [1,2,3,4]\n",
    "print(list1 + list2)"
   ]
  },
  {
   "cell_type": "code",
   "execution_count": 38,
   "id": "bd50e9dc-14f7-41d0-aa85-a7470ff4f5f1",
   "metadata": {},
   "outputs": [
    {
     "name": "stdout",
     "output_type": "stream",
     "text": [
      "('A', 'B', 'C', 'D')\n"
     ]
    }
   ],
   "source": [
    "# tuples\n",
    "# tuples use this ()\n",
    "# it is mostly used for reading and it cannot be edited\n",
    "# tuples are in a defined order\n",
    "# it can have same value(duplicates)\n",
    "tuple1 = (\"A\",\"B\",\"C\",\"D\")\n",
    "print(tuple1)\n"
   ]
  },
  {
   "cell_type": "code",
   "execution_count": 39,
   "id": "d6df8e1b-778f-4b5b-8538-33dda0f9c125",
   "metadata": {},
   "outputs": [
    {
     "name": "stdout",
     "output_type": "stream",
     "text": [
      "4\n"
     ]
    }
   ],
   "source": [
    "tuple1 = (\"A\",\"B\",\"C\",\"D\")\n",
    "print(len(tuple1))"
   ]
  },
  {
   "cell_type": "code",
   "execution_count": 40,
   "id": "6d3bcd02-82db-4742-86b0-63225bcf9822",
   "metadata": {},
   "outputs": [
    {
     "name": "stdout",
     "output_type": "stream",
     "text": [
      "('A', 'B', 'C', 'D', 1, 2, 3, 4)\n",
      "D\n",
      "('A', 'B', 'C', 'D', 'A', 'B', 'C', 'D', 'A', 'B', 'C', 'D')\n",
      "tuple[slice(None, 3, None)]\n"
     ]
    }
   ],
   "source": [
    "tuple1 = (\"A\",\"B\",\"C\",\"D\")\n",
    "tuple2 = (1,2,3,4)\n",
    "print(tuple1 + tuple2)\n",
    "print(tuple1[3])\n",
    "print(tuple1 * 3)\n",
    "print(tuple[:3])"
   ]
  },
  {
   "cell_type": "code",
   "execution_count": 41,
   "id": "49c9f696-4b49-4554-a98b-f7e8e0762153",
   "metadata": {},
   "outputs": [
    {
     "name": "stdout",
     "output_type": "stream",
     "text": [
      "<class 'str'>\n",
      "<class 'tuple'>\n"
     ]
    }
   ],
   "source": [
    "# create tuple with one item- you have to add a coma after the item, \n",
    "#otherwise python interpreter will not recognise it as tuple\n",
    "\n",
    "a = (\"b\")\n",
    "print(type(a))\n",
    "\n",
    "c = (\"d\",)\n",
    "print(type(c))"
   ]
  },
  {
   "cell_type": "code",
   "execution_count": 42,
   "id": "5e637026-07ea-4334-bb22-0808be8ad0ff",
   "metadata": {},
   "outputs": [
    {
     "name": "stdout",
     "output_type": "stream",
     "text": [
      "('A', 'B', 'C', 'D') ('a', 'b', 'c', 'd') (1, 2, 3, 4) (True, False)\n"
     ]
    }
   ],
   "source": [
    "# tuple item-datatypes -can be of any datatype\n",
    "\n",
    "a = (\"A\",\"B\",\"C\",\"D\")\n",
    "b = (\"a\",\"b\",\"c\",\"d\")\n",
    "c = (1,2,3,4)\n",
    "d = (True,False)\n",
    "print(a,b,c,d)"
   ]
  },
  {
   "cell_type": "code",
   "execution_count": 43,
   "id": "38aa6c7e-9d67-459d-866b-3fe162799668",
   "metadata": {},
   "outputs": [
    {
     "name": "stdout",
     "output_type": "stream",
     "text": [
      "('A', 1524, True, 12.5)\n"
     ]
    }
   ],
   "source": [
    "# tuple can contain different datatypes\n",
    "\n",
    "a = (\"A\",1524,True,12.5)\n",
    "print(a)"
   ]
  },
  {
   "cell_type": "code",
   "execution_count": 44,
   "id": "19f295f9-6ff7-46d5-bd33-bee95639f48d",
   "metadata": {},
   "outputs": [
    {
     "name": "stdout",
     "output_type": "stream",
     "text": [
      "(1, 2, 3, 4)\n"
     ]
    }
   ],
   "source": [
    "# tuple() constructor- possible to use the tuple() constructor to make a tuple\n",
    "\n",
    "a = tuple((1,2,3,4))\n",
    "print(a)\n"
   ]
  },
  {
   "cell_type": "code",
   "execution_count": 45,
   "id": "ce50fb20-b858-4094-82c6-9acfeb1e355d",
   "metadata": {},
   "outputs": [
    {
     "name": "stdout",
     "output_type": "stream",
     "text": [
      "('aa', 'bb', 'cc', 'dd')\n"
     ]
    }
   ],
   "source": [
    "b = tuple((\"aa\",\"bb\",\"cc\",\"dd\"))\n",
    "print(b)\n"
   ]
  },
  {
   "cell_type": "code",
   "execution_count": 46,
   "id": "dc3b62a2-5449-451b-86ae-7c3cc5da914c",
   "metadata": {},
   "outputs": [
    {
     "name": "stdout",
     "output_type": "stream",
     "text": [
      "('biriyani', 'chicken mughalai', 'kabab', 'dal', 'rice')\n"
     ]
    }
   ],
   "source": [
    "# tuple changing tuple values cannot happen\n",
    "# tuples are immutable\n",
    "# there are work arounds\n",
    "# you can convert the tuple into list, change the list and convert the list back to tuple.\n",
    "\n",
    "x = (\"biriyani\",\"salad\",\"kabab\",\"dal\",\"rice\")\n",
    "y = list(x)\n",
    "y[1] = \"chicken mughalai\"\n",
    "x = tuple(y)\n",
    "print(x)\n"
   ]
  },
  {
   "cell_type": "code",
   "execution_count": 47,
   "id": "0392efbc-4447-4404-b120-9df2d04d48a0",
   "metadata": {},
   "outputs": [
    {
     "name": "stdout",
     "output_type": "stream",
     "text": [
      "{'x': 10, 'y': 20, 'z': 30}\n"
     ]
    }
   ],
   "source": [
    "# dictionary\n",
    "# it is immutable\n",
    "# used to store data values in key:value pairs\n",
    "# it is a collection which is ordered , changeable, and do not allow duplicates\n",
    "# enclosed in {} and have keys and values\n",
    "\n",
    "a = {\"x\":10,\"y\":20,\"z\":30}\n",
    "print(a)"
   ]
  },
  {
   "cell_type": "code",
   "execution_count": 48,
   "id": "17f2e1be-a1a5-49a7-9e0b-85a9550bd566",
   "metadata": {},
   "outputs": [
    {
     "name": "stdout",
     "output_type": "stream",
     "text": [
      "{'x': 30, 'y': 20}\n"
     ]
    }
   ],
   "source": [
    "b = {\"x\":10,\"y\":20,\"x\":30} # duplicate values will be overwritten with last values \n",
    "print(b)\n"
   ]
  },
  {
   "cell_type": "code",
   "execution_count": 49,
   "id": "6f754d57-2a50-4c16-9b54-b841fbc1ab24",
   "metadata": {},
   "outputs": [
    {
     "name": "stdout",
     "output_type": "stream",
     "text": [
      "{'x': 5}\n",
      "1\n"
     ]
    }
   ],
   "source": [
    "c = {\"x\":10,\"x\":20,\"x\":5}\n",
    "print(c)\n",
    "print(len(c))"
   ]
  },
  {
   "cell_type": "code",
   "execution_count": 50,
   "id": "c2832a85-9ccb-41ab-a5a2-a67de3635f7b",
   "metadata": {},
   "outputs": [
    {
     "name": "stdout",
     "output_type": "stream",
     "text": [
      "{'x': 10, 'y': 20, 'z': 30} {1: 10, 2: 20, 3: 30} {'m': True, 'n': True, 'o': False} {<class 'list'>: [1, 2, 2, 4, 4, 4, 4, 6]}\n",
      "<class 'dict'>\n"
     ]
    }
   ],
   "source": [
    "a = {\"x\":10,\"y\":20,\"z\":30}\n",
    "b = {1:10,2:20,3:30}\n",
    "c = {\"m\":True,\"n\":True,\"o\":False}\n",
    "d = {list:[1,2,2,4,4,4,4,6]}\n",
    "print(a,b,c,d)\n",
    "print(type(a))"
   ]
  },
  {
   "cell_type": "code",
   "execution_count": 51,
   "id": "90a83841-38b5-4d7f-b64b-de86056160dd",
   "metadata": {},
   "outputs": [
    {
     "name": "stdout",
     "output_type": "stream",
     "text": [
      "{'x': 10, 'y': 20, 'z': 30, 1: 10, 2: 20, 3: 30, 'm': True, 'n': True, 'o': False, 'fakelist': [1, 2, 2, 4, 4, 4, 4, 6]}\n"
     ]
    }
   ],
   "source": [
    "dictionary = {\"x\":10,\"y\":20,\"z\":30,1:10,2:20,3:30,\"m\":True,\"n\":True,\"o\":False,\"fakelist\":[1,2,2,4,4,4,4,6]}\n",
    "print(dictionary)"
   ]
  },
  {
   "cell_type": "code",
   "execution_count": 52,
   "id": "48e450b7-0412-4ed2-a805-b5b6f67b18ac",
   "metadata": {},
   "outputs": [
    {
     "name": "stdout",
     "output_type": "stream",
     "text": [
      "30 [1, 2, 2, 4, 4, 4, 4, 6]\n"
     ]
    }
   ],
   "source": [
    "# accessing items - access the items of the dictionary by referring to its key name\n",
    "\n",
    "dictionary = {\"x\":10,\"y\":20,\"z\":30,1:10,2:20,3:30,\"m\":True,\"n\":True,\"o\":False,\"fakelist\":[1,2,2,4,4,4,4,6]}\n",
    "\n",
    "a = dictionary[\"z\"]\n",
    "b = dictionary[\"fakelist\"]\n",
    "\n",
    "print(a,b)\n"
   ]
  },
  {
   "cell_type": "code",
   "execution_count": 53,
   "id": "2b76f431-2249-4406-9506-f9a229b40f5a",
   "metadata": {},
   "outputs": [
    {
     "name": "stdout",
     "output_type": "stream",
     "text": [
      "True\n"
     ]
    }
   ],
   "source": [
    "# another method to access the item\n",
    "dictionary = {\"x\":10,\"y\":20,\"z\":30,1:10,2:20,3:30,\"m\":True,\"n\":True,\"o\":False,\"fakelist\":[1,2,2,4,4,4,4,6]}\n",
    "\n",
    "a = dictionary.get(\"m\")\n",
    "print(a)\n"
   ]
  },
  {
   "cell_type": "code",
   "execution_count": 54,
   "id": "c32280d4-12ad-4f0f-8cf4-63bc4843e3d1",
   "metadata": {},
   "outputs": [
    {
     "name": "stdout",
     "output_type": "stream",
     "text": [
      "{'x': 10, 'y': 20, 'z': 30, 1: 10, 2: 20, 3: 30, 'm': True, 'n': True, 'o': False, 'fakelist': [1, 2, 2, 4, 4, 4, 6]}\n"
     ]
    }
   ],
   "source": [
    "# get keys : we can return a list of all the keys in dictionary\n",
    "\n",
    "dictionary = {\"x\":10,\"y\":20,\"z\":30,1:10,2:20,3:30,\"m\":True,\"n\":True,\"o\":False,\"fakelist\":[1,2,2,4,4,4,6]}\n",
    "\n",
    "dictionary.keys()\n",
    "print(dictionary)"
   ]
  },
  {
   "cell_type": "code",
   "execution_count": 55,
   "id": "271a051b-6b96-4ba0-9626-2518655dd4b1",
   "metadata": {},
   "outputs": [
    {
     "name": "stdout",
     "output_type": "stream",
     "text": [
      "{'x': 10, 'y': 20, 'z': 11111, 1: 10, 2: 20, 3: 30, 'm': True, 'n': True, 'o': False, 'fakelist': [1, 2, 2, 4, 4, 4, 6]}\n"
     ]
    }
   ],
   "source": [
    "# update the values\n",
    "dictionary = {\"x\":10,\"y\":20,\"z\":30,1:10,2:20,3:30,\"m\":True,\"n\":True,\"o\":False,\"fakelist\":[1,2,2,4,4,4,6]}\n",
    "dictionary[\"z\"] = 11111\n",
    "print(dictionary)"
   ]
  },
  {
   "cell_type": "code",
   "execution_count": 56,
   "id": "bbefdb41-6c6e-4214-bb39-7d6e9ac8a88f",
   "metadata": {},
   "outputs": [
    {
     "name": "stdout",
     "output_type": "stream",
     "text": [
      "{'b': 'ball', 'c': 'car', 'd': 'dog'}\n",
      "{'b': 'ball', 'c': 'car'}\n",
      "{'b': 'ball'}\n"
     ]
    }
   ],
   "source": [
    "# removing items: pop() method removes the item with specified keyname\n",
    "\n",
    "dictionary = {\"a\":\"apple\",\"b\":\"ball\",\"c\":\"car\",\"d\":\"dog\"}\n",
    "\n",
    "#print(dictionary.pop(\"a\"))\n",
    "#print(dictionary.popitem())\n",
    "#print(dictionary.pop(\"b\"))   #having different output\n",
    "\n",
    "dictionary.pop(\"a\")\n",
    "print(dictionary)\n",
    "\n",
    "dictionary.popitem()  # removes the last value\n",
    "print(dictionary)\n",
    "\n",
    "dictionary.popitem()  # removes the last value\n",
    "print(dictionary)\n",
    "\n"
   ]
  },
  {
   "cell_type": "code",
   "execution_count": 57,
   "id": "5c1f1e7f-579d-408a-a311-bae05b9c6abe",
   "metadata": {},
   "outputs": [],
   "source": [
    "# del deletes the dictionary\n",
    "\n",
    "dictionary = {\"a\":\"apple\",\"b\":\"ball\",\"c\":\"car\",\"d\":\"dog\"}\n",
    "\n",
    "del dictionary \n",
    "\n",
    "#print(dictionary)  # cannot print dictionary as dictionary is deleted"
   ]
  },
  {
   "cell_type": "code",
   "execution_count": 58,
   "id": "16ecdab9-0c25-48f2-aec8-5882cfd1bfe0",
   "metadata": {},
   "outputs": [
    {
     "name": "stdout",
     "output_type": "stream",
     "text": [
      "None\n"
     ]
    }
   ],
   "source": [
    "# clear() empties the dictionary\n",
    "\n",
    "dictionary = {\"a\":\"apple\",\"b\":\"ball\",\"c\":\"car\",\"d\":\"dog\"}\n",
    "\n",
    "print(dictionary.clear())"
   ]
  },
  {
   "cell_type": "code",
   "execution_count": 59,
   "id": "8b6eb155-03dc-4730-a79e-343f1feb00f3",
   "metadata": {},
   "outputs": [
    {
     "name": "stdout",
     "output_type": "stream",
     "text": [
      "{}\n"
     ]
    }
   ],
   "source": [
    "dictionary = {\"a\":\"apple\",\"b\":\"ball\",\"c\":\"car\",\"d\":\"dog\"}\n",
    "\n",
    "dictionary.clear()\n",
    "print(dictionary)\n"
   ]
  },
  {
   "cell_type": "code",
   "execution_count": 60,
   "id": "a037b817-6d06-47e7-adbd-daa49686f247",
   "metadata": {},
   "outputs": [],
   "source": [
    "# sets : it is a collection which is unordered and unindexed\n",
    "# sets are written in curly brackets\n",
    "# equivalent to sets in mathematics\n",
    "# order of elements in a set is undefined\n",
    "# you can add and delete the elements of a set\n",
    "# you can iterate the elements of the set\n",
    "# you can perform standard operations like union, intersection, difference etc\n",
    "# set can be of any datatype and also can contain different datatypes"
   ]
  },
  {
   "cell_type": "code",
   "execution_count": 61,
   "id": "0a1d3f01-3ed4-4231-b310-7cf383d2deb3",
   "metadata": {},
   "outputs": [
    {
     "name": "stdout",
     "output_type": "stream",
     "text": [
      "{'e', 'b', 'd', 'a', 'c'}\n"
     ]
    }
   ],
   "source": [
    "s = {\"a\",\"b\",\"c\",\"d\",\"e\"}\n",
    "print(s)"
   ]
  },
  {
   "cell_type": "code",
   "execution_count": 62,
   "id": "df8e9766-8cf3-49c5-b8e8-025378e8e3e0",
   "metadata": {},
   "outputs": [
    {
     "name": "stdout",
     "output_type": "stream",
     "text": [
      "{'e', 'b', 'd', 'a', 'c'}\n"
     ]
    }
   ],
   "source": [
    "s = {\"a\",\"b\",\"c\",\"d\",\"e\",\"a\"} # sets are unordered and cannot have duplicates\n",
    "print(s)\n"
   ]
  },
  {
   "cell_type": "code",
   "execution_count": 63,
   "id": "55424015-7818-4220-adc0-07717e833890",
   "metadata": {},
   "outputs": [
    {
     "name": "stdout",
     "output_type": "stream",
     "text": [
      "5\n"
     ]
    }
   ],
   "source": [
    "s = {\"a\",\"b\",\"c\",\"d\",\"e\"}\n",
    "print(len(s))"
   ]
  },
  {
   "cell_type": "code",
   "execution_count": 64,
   "id": "b56a96a2-342c-45af-a2ab-ba2a1e380309",
   "metadata": {},
   "outputs": [
    {
     "name": "stdout",
     "output_type": "stream",
     "text": [
      "{'apple', 'orange'}\n"
     ]
    }
   ],
   "source": [
    "# set() constructor\n",
    "\n",
    "s = set((\"apple\",\"orange\"))\n",
    "print(s)"
   ]
  },
  {
   "cell_type": "code",
   "execution_count": 65,
   "id": "b480e3ed-ae48-4d8e-b74b-fddda6d0869a",
   "metadata": {},
   "outputs": [
    {
     "name": "stdout",
     "output_type": "stream",
     "text": [
      "Yes, apple is present!\n"
     ]
    }
   ],
   "source": [
    "fruits = {\"apple\", \"banana\", \"cherry\"}  # Check if \"apple\" is present in the fruits set.\n",
    "if \"apple\" in  fruits:\n",
    "  print(\"Yes, apple is present!\")\n"
   ]
  },
  {
   "cell_type": "code",
   "execution_count": 66,
   "id": "1ee04034-bb71-4f60-a990-190282a04d6d",
   "metadata": {},
   "outputs": [
    {
     "name": "stdout",
     "output_type": "stream",
     "text": [
      "{'apple', 'banana', 'orange', 'cherry'}\n"
     ]
    }
   ],
   "source": [
    "fruits = {\"apple\", \"banana\", \"cherry\"} # Use the add method to add \"orange\" to the fruits set.\n",
    "\n",
    "fruits.add(\"orange\")\n",
    "\n",
    "print(fruits)"
   ]
  },
  {
   "cell_type": "code",
   "execution_count": 67,
   "id": "b74e5320-11a8-4180-89bb-c7c97908f029",
   "metadata": {},
   "outputs": [
    {
     "name": "stdout",
     "output_type": "stream",
     "text": [
      "{'grapes', 'orange', 'cherry', 'apple', 'mango', 'banana'}\n"
     ]
    }
   ],
   "source": [
    "fruits = {\"apple\", \"banana\", \"cherry\"}   # Use the correct method to add multiple items (more_fruits) to the fruits set.\n",
    "more_fruits = [\"orange\", \"mango\", \"grapes\"]\n",
    "\n",
    "fruits.update(more_fruits)\n",
    "\n",
    "print(fruits)"
   ]
  },
  {
   "cell_type": "code",
   "execution_count": 68,
   "id": "4795fd43-1d3b-4f9b-8ad0-d2ec6b617021",
   "metadata": {},
   "outputs": [
    {
     "name": "stdout",
     "output_type": "stream",
     "text": [
      "{'apple', 'cherry'}\n"
     ]
    }
   ],
   "source": [
    "fruits = {\"apple\", \"banana\", \"cherry\"}\n",
    "\n",
    "fruits.remove(\"banana\")\n",
    "\n",
    "print(fruits)"
   ]
  },
  {
   "cell_type": "code",
   "execution_count": 69,
   "id": "8d916bcf-5c21-4651-8cff-48328c4a4ab0",
   "metadata": {},
   "outputs": [],
   "source": [
    "# frozen sets - working with different operations\n",
    "# it has the characteristics present in sets\n",
    "# you cannot change the elements once it is assigned\n",
    "# can be created by using the function frozenset()\n",
    "# supports different operations: union(), difference(),symmetric difference, isdisjoint"
   ]
  },
  {
   "cell_type": "code",
   "execution_count": 70,
   "id": "0f4b8d44-7f68-4645-945f-b7bc4eaff2e5",
   "metadata": {},
   "outputs": [
    {
     "name": "stdout",
     "output_type": "stream",
     "text": [
      "frozenset({10, 20})\n"
     ]
    }
   ],
   "source": [
    "# difference\n",
    "\n",
    "A = frozenset({10, 20, 30})\n",
    "B = frozenset({30, 40, 50})\n",
    "print(A.difference(B))\n"
   ]
  },
  {
   "cell_type": "code",
   "execution_count": 71,
   "id": "b4dbf222-b902-4ff2-a66a-836497758aac",
   "metadata": {},
   "outputs": [
    {
     "name": "stdout",
     "output_type": "stream",
     "text": [
      "frozenset({30})\n"
     ]
    }
   ],
   "source": [
    "# intersection\n",
    "\n",
    "A = frozenset({10, 20, 30})\n",
    "B = frozenset({30, 40, 50})\n",
    "print(A.intersection(B))\n"
   ]
  },
  {
   "cell_type": "code",
   "execution_count": 72,
   "id": "2c5cb215-367a-4165-925e-b83817260ebd",
   "metadata": {},
   "outputs": [
    {
     "name": "stdout",
     "output_type": "stream",
     "text": [
      "frozenset({50, 20, 40, 10, 30})\n"
     ]
    }
   ],
   "source": [
    "# union\n",
    "\n",
    "A = frozenset({10, 20, 30})\n",
    "B = frozenset({30, 40, 50})\n",
    "print(A.union(B))\n"
   ]
  },
  {
   "cell_type": "code",
   "execution_count": 73,
   "id": "c5f83f63-7cc8-40f6-b604-ea59e85670d2",
   "metadata": {},
   "outputs": [
    {
     "name": "stdout",
     "output_type": "stream",
     "text": [
      "frozenset({10, 50})\n"
     ]
    }
   ],
   "source": [
    "# symmetric_difference\n",
    "\n",
    "A = frozenset({30, 40, 50})\n",
    "B = frozenset({30, 40, 10})\n",
    "print(A.symmetric_difference(B))\n"
   ]
  },
  {
   "cell_type": "code",
   "execution_count": 74,
   "id": "55408dff-026f-49c6-ac87-865f3925a270",
   "metadata": {},
   "outputs": [
    {
     "name": "stdout",
     "output_type": "stream",
     "text": [
      "False\n",
      "True\n"
     ]
    }
   ],
   "source": [
    "# isdisjoint\n",
    "\n",
    "A = frozenset({10, 20, 30})\n",
    "B = frozenset({30, 40, 50})\n",
    "print(A.isdisjoint(B))\n",
    "\n",
    "A = frozenset({10, 20, 80})\n",
    "B = frozenset({30, 40, 50})\n",
    "print(A.isdisjoint(B))\n",
    "\n"
   ]
  },
  {
   "cell_type": "code",
   "execution_count": 75,
   "id": "d745204a-6b90-405a-812c-d8a56d673abd",
   "metadata": {},
   "outputs": [
    {
     "name": "stdout",
     "output_type": "stream",
     "text": [
      "True\n",
      "False\n"
     ]
    }
   ],
   "source": [
    "# issubset\n",
    "\n",
    "A = frozenset({30, 40})\n",
    "B = frozenset({30, 40, 50})\n",
    "print(A.issubset(B))\n",
    "\n",
    "A = frozenset({30, 40, 80})\n",
    "B = frozenset({30, 40, 50})\n",
    "print(A.issubset(B))\n"
   ]
  },
  {
   "cell_type": "code",
   "execution_count": 76,
   "id": "42372b16-de25-40a6-b416-17600ab40166",
   "metadata": {},
   "outputs": [
    {
     "name": "stdout",
     "output_type": "stream",
     "text": [
      "True\n",
      "False\n"
     ]
    }
   ],
   "source": [
    "# issuperset\n",
    "\n",
    "A = frozenset({30, 40, 50})\n",
    "B = frozenset({30, 40})\n",
    "print(A.issuperset(B))\n",
    "\n",
    "A = frozenset({30, 40, 50})\n",
    "B = frozenset({30, 80})\n",
    "print(A.issuperset(B))"
   ]
  },
  {
   "cell_type": "code",
   "execution_count": 77,
   "id": "272e3197-9c37-4c4a-a04b-2adf3f17716c",
   "metadata": {},
   "outputs": [
    {
     "name": "stdout",
     "output_type": "stream",
     "text": [
      "frozenset({40, 50, 30})\n"
     ]
    }
   ],
   "source": [
    "# copy\n",
    "\n",
    "A = frozenset({30, 40, 50})\n",
    "B = A.copy()\n",
    "print(B)\n"
   ]
  },
  {
   "cell_type": "code",
   "execution_count": 78,
   "id": "4ad57c82-a835-47ba-9cf7-dba01e719345",
   "metadata": {},
   "outputs": [
    {
     "name": "stdout",
     "output_type": "stream",
     "text": [
      "frozenset({1, 2, 3, 4, 5, 6})\n",
      "frozenset({3, 4})\n",
      "frozenset({1, 2})\n",
      "frozenset({1, 2, 5, 6})\n"
     ]
    }
   ],
   "source": [
    "A = frozenset({1,2,3,4})\n",
    "B = frozenset({3,4,5,6})\n",
    "\n",
    "print(A.union(B))\n",
    "print(A.intersection(B))\n",
    "print(A.difference(B))\n",
    "print(A.symmetric_difference(B))\n"
   ]
  },
  {
   "cell_type": "code",
   "execution_count": 79,
   "id": "dc41636c-d474-4ae3-ab8c-6433432f6542",
   "metadata": {},
   "outputs": [
    {
     "name": "stdout",
     "output_type": "stream",
     "text": [
      "False\n",
      "False\n",
      "True\n"
     ]
    }
   ],
   "source": [
    "A = frozenset([1,2,3,4]) # ISDISJOINT\n",
    "B = frozenset([3,4,5,6])\n",
    "C = frozenset([5,6])\n",
    "\n",
    "print(A.isdisjoint(B))\n",
    "print(B.isdisjoint(A))\n",
    "print(A.isdisjoint(C))\n"
   ]
  },
  {
   "cell_type": "code",
   "execution_count": 80,
   "id": "24f8d30d-0faa-478c-8779-3fdf29df4ab3",
   "metadata": {},
   "outputs": [
    {
     "name": "stdout",
     "output_type": "stream",
     "text": [
      "False\n",
      "False\n",
      "True\n",
      "False\n"
     ]
    }
   ],
   "source": [
    "A = frozenset([1,2,3,4]) # subset\n",
    "B = frozenset([3,4,5,6])\n",
    "C = frozenset([5,6])\n",
    "\n",
    "print(A.issubset(B))\n",
    "print(B.issubset(A))\n",
    "print(C.issubset(B))\n",
    "print(C.issubset(A))"
   ]
  },
  {
   "cell_type": "code",
   "execution_count": 81,
   "id": "7f9abd9c-6e8f-4549-9a5c-b87e9a8b68e6",
   "metadata": {},
   "outputs": [
    {
     "name": "stdout",
     "output_type": "stream",
     "text": [
      "False\n",
      "False\n",
      "False\n",
      "True\n"
     ]
    }
   ],
   "source": [
    "A = frozenset([1,2,3,4]) # superset\n",
    "B = frozenset([3,4,5,6])\n",
    "C = frozenset([5,6])\n",
    "\n",
    "print(A.issuperset(B))\n",
    "print(A.issuperset(C))\n",
    "print(B.issuperset(A))\n",
    "print(B.issuperset(C))"
   ]
  },
  {
   "cell_type": "code",
   "execution_count": 82,
   "id": "2a0bdfdf-e6d4-474f-9f60-f72d2bba32ff",
   "metadata": {},
   "outputs": [
    {
     "name": "stdout",
     "output_type": "stream",
     "text": [
      "present\n",
      "Absent\n"
     ]
    }
   ],
   "source": [
    "# membership operators:\n",
    "\n",
    "listt = [1,2,3,4,5,6,7,8,9,10]\n",
    "\n",
    "x = 5\n",
    "c = 58\n",
    "y = 9\n",
    "\n",
    "if(x in listt):\n",
    "    print(\"present\")\n",
    "else:\n",
    "    print(\"absent\")\n",
    "\n",
    "if(c in listt):\n",
    "    print(\"present\")\n",
    "else:\n",
    "    print(\"Absent\")\n",
    "    "
   ]
  },
  {
   "cell_type": "code",
   "execution_count": 83,
   "id": "1e0932a8-2d71-40b1-9c68-2970fa12118d",
   "metadata": {},
   "outputs": [
    {
     "name": "stdout",
     "output_type": "stream",
     "text": [
      "True\n",
      "False\n",
      "True\n",
      "False\n",
      "True\n",
      "True\n"
     ]
    }
   ],
   "source": [
    "x = [\"a\",\"b\",\"c\",\"d\"]\n",
    "y = [\"a\",\"b\",\"c\",\"d\"]\n",
    "z = x\n",
    "print(x is z)\n",
    "print(x is y)\n",
    "print(z is x)\n",
    "print(y is z)\n",
    "print(x == y)\n",
    "print(x == z)"
   ]
  },
  {
   "cell_type": "code",
   "execution_count": 84,
   "id": "0d9838ba-3d52-4aff-8d56-2b38ff7f619f",
   "metadata": {},
   "outputs": [
    {
     "name": "stdout",
     "output_type": "stream",
     "text": [
      "a is smaller\n",
      "equal\n",
      "lesser\n"
     ]
    }
   ],
   "source": [
    "# decision making\n",
    "\n",
    "a = 1\n",
    "b = 2\n",
    "c = 3\n",
    "d = 4\n",
    "e = 5\n",
    "f = 6\n",
    "\n",
    "if (a>3):\n",
    "    print(\"a is greater\")\n",
    "else:\n",
    "    print(\"a is smaller\")\n",
    "    \n",
    "if (e == 5):\n",
    "    print(\"equal\")\n",
    "else:\n",
    "    print(\"not equal\")\n",
    "    \n",
    "if (a > e):\n",
    "    print(\"greater\")\n",
    "else:\n",
    "    print(\"lesser\")"
   ]
  },
  {
   "cell_type": "code",
   "execution_count": 85,
   "id": "5ef57c21-747d-4196-9971-bebf2d5498b3",
   "metadata": {},
   "outputs": [
    {
     "name": "stdin",
     "output_type": "stream",
     "text": [
      "enter your age 1412\n"
     ]
    },
    {
     "name": "stdout",
     "output_type": "stream",
     "text": [
      "adult\n"
     ]
    }
   ],
   "source": [
    "age = int(input(\"enter your age\"))\n",
    "\n",
    "if age >= 18:\n",
    "    print(\"adult\")\n",
    "else:\n",
    "    print(\"junior\")"
   ]
  },
  {
   "cell_type": "code",
   "execution_count": 86,
   "id": "7cef905b-a464-4643-a3f9-ee92dfa9ddb4",
   "metadata": {},
   "outputs": [
    {
     "name": "stdout",
     "output_type": "stream",
     "text": [
      "1\n"
     ]
    }
   ],
   "source": [
    "# nested if\n",
    "\n",
    "a = 1\n",
    "b = 2\n",
    "c = 3\n",
    "d = 4\n",
    "e = 5\n",
    "f = 6\n",
    "\n",
    "if a == 1:\n",
    "    print(\"1\")\n",
    "elif a == 2:\n",
    "    print(\"2\")\n",
    "elif a == 3:\n",
    "    print(\"3\")\n",
    "else:\n",
    "    print(\"nothing\")"
   ]
  },
  {
   "cell_type": "code",
   "execution_count": 87,
   "id": "7b2032e6-9f5a-4675-a5a4-6b9aa817c627",
   "metadata": {},
   "outputs": [
    {
     "name": "stdout",
     "output_type": "stream",
     "text": [
      "odd\n"
     ]
    }
   ],
   "source": [
    "# even or not\n",
    "\n",
    "a = 1\n",
    "b = 2\n",
    "c = 3\n",
    "d = 4\n",
    "e = 5\n",
    "f = 6\n",
    "\n",
    "if a % 2 == 0:\n",
    "    print(\"even\")\n",
    "else:\n",
    "    print(\"odd\")"
   ]
  },
  {
   "cell_type": "code",
   "execution_count": 91,
   "id": "aaf6c2cc-664c-43cc-9925-7f4e2aa9fc24",
   "metadata": {},
   "outputs": [
    {
     "name": "stdin",
     "output_type": "stream",
     "text": [
      "1st number 4545.24251\n",
      "2nd number 45141541024204.1241560\n",
      "3rd number 124651841.1491\n"
     ]
    },
    {
     "name": "stdout",
     "output_type": "stream",
     "text": [
      "largest number is:  45141541024204.125\n"
     ]
    }
   ],
   "source": [
    "# Example 1 : Program to print the largest of the three numbers\n",
    "\n",
    "x = float(input(\"1st number\"))\n",
    "y = float(input(\"2nd number\"))\n",
    "z = float(input(\"3rd number\"))\n",
    "\n",
    "if x > y and x > z:\n",
    "    print(\"largest number is: \", x)\n",
    "elif y > x and y > z:\n",
    "    print(\"largest number is: \", y)\n",
    "else:\n",
    "    print(\"largest number is: \", z)\n",
    "        \n"
   ]
  },
  {
   "cell_type": "code",
   "execution_count": null,
   "id": "40ba0cba-5867-48a7-9146-b1c623671f34",
   "metadata": {},
   "outputs": [],
   "source": []
  }
 ],
 "metadata": {
  "kernelspec": {
   "display_name": "Python 3 (ipykernel)",
   "language": "python",
   "name": "python3"
  },
  "language_info": {
   "codemirror_mode": {
    "name": "ipython",
    "version": 3
   },
   "file_extension": ".py",
   "mimetype": "text/x-python",
   "name": "python",
   "nbconvert_exporter": "python",
   "pygments_lexer": "ipython3",
   "version": "3.9.7"
  }
 },
 "nbformat": 4,
 "nbformat_minor": 5
}
