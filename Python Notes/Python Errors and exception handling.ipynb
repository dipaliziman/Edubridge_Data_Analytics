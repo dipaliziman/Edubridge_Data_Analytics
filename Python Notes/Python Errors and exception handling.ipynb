{
 "cells": [
  {
   "cell_type": "markdown",
   "id": "c47dff95",
   "metadata": {},
   "source": [
    "# # The problem without handling exceptions\n",
    "#The exception is an abnormal condition that halts the execution of the program\n",
    "#Suppose we have two variables a and b, which take the input from the user and perform the division of these values.\n",
    "#What if the user entered the zero as the denominator?"
   ]
  },
  {
   "cell_type": "code",
   "execution_count": 3,
   "id": "cec3bcdb",
   "metadata": {},
   "outputs": [
    {
     "name": "stdout",
     "output_type": "stream",
     "text": [
      "Enter a:10\n",
      "Enter b:0\n"
     ]
    },
    {
     "ename": "ZeroDivisionError",
     "evalue": "division by zero",
     "output_type": "error",
     "traceback": [
      "\u001b[1;31m---------------------------------------------------------------------------\u001b[0m",
      "\u001b[1;31mZeroDivisionError\u001b[0m                         Traceback (most recent call last)",
      "\u001b[1;32m<ipython-input-3-ed1941e4120f>\u001b[0m in \u001b[0;36m<module>\u001b[1;34m\u001b[0m\n\u001b[0;32m      1\u001b[0m \u001b[0ma\u001b[0m\u001b[1;33m=\u001b[0m\u001b[0mint\u001b[0m\u001b[1;33m(\u001b[0m\u001b[0minput\u001b[0m\u001b[1;33m(\u001b[0m\u001b[1;34m\"Enter a:\"\u001b[0m\u001b[1;33m)\u001b[0m\u001b[1;33m)\u001b[0m\u001b[1;33m\u001b[0m\u001b[1;33m\u001b[0m\u001b[0m\n\u001b[0;32m      2\u001b[0m \u001b[0mb\u001b[0m\u001b[1;33m=\u001b[0m\u001b[0mint\u001b[0m\u001b[1;33m(\u001b[0m\u001b[0minput\u001b[0m\u001b[1;33m(\u001b[0m\u001b[1;34m\"Enter b:\"\u001b[0m\u001b[1;33m)\u001b[0m\u001b[1;33m)\u001b[0m\u001b[1;33m\u001b[0m\u001b[1;33m\u001b[0m\u001b[0m\n\u001b[1;32m----> 3\u001b[1;33m \u001b[0mc\u001b[0m\u001b[1;33m=\u001b[0m\u001b[0ma\u001b[0m\u001b[1;33m/\u001b[0m\u001b[1;36m0\u001b[0m\u001b[1;33m\u001b[0m\u001b[1;33m\u001b[0m\u001b[0m\n\u001b[0m\u001b[0;32m      4\u001b[0m \u001b[0mprint\u001b[0m\u001b[1;33m(\u001b[0m\u001b[1;34m'a/b=%d'\u001b[0m \u001b[1;33m%\u001b[0m\u001b[0mc\u001b[0m\u001b[1;33m)\u001b[0m\u001b[1;33m\u001b[0m\u001b[1;33m\u001b[0m\u001b[0m\n\u001b[0;32m      5\u001b[0m \u001b[1;33m\u001b[0m\u001b[0m\n",
      "\u001b[1;31mZeroDivisionError\u001b[0m: division by zero"
     ]
    }
   ],
   "source": [
    "a=int(input(\"Enter a:\"))\n",
    "b=int(input(\"Enter b:\"))\n",
    "c=a/0\n",
    "print('a/b=%d' %c)\n",
    "\n",
    "#other code\n",
    "print(\"Hi i am other part of the program\")"
   ]
  },
  {
   "cell_type": "code",
   "execution_count": 4,
   "id": "84d736a5",
   "metadata": {},
   "outputs": [
    {
     "name": "stdout",
     "output_type": "stream",
     "text": [
      "Enter a:10\n",
      "Enter b:20\n",
      "a/b=0\n",
      "Hi i am other part of the program\n"
     ]
    }
   ],
   "source": [
    "a=int(input(\"Enter a:\"))\n",
    "b=int(input(\"Enter b:\"))\n",
    "c=a/b\n",
    "print('a/b=%d' %c)\n",
    "\n",
    "#other code\n",
    "print(\"Hi i am other part of the program\")"
   ]
  },
  {
   "cell_type": "markdown",
   "id": "3a95dcde",
   "metadata": {},
   "source": [
    "# Try except statement"
   ]
  },
  {
   "cell_type": "code",
   "execution_count": 5,
   "id": "9b51b298",
   "metadata": {},
   "outputs": [
    {
     "name": "stdout",
     "output_type": "stream",
     "text": [
      "Enter a:10\n",
      "Enter b:0\n",
      "Can't divide with zero\n"
     ]
    }
   ],
   "source": [
    "#if the python program contains suspicious code that may throw exception, we must place that code in the try block\n",
    "#The try block must be followed with the except statement, which contains a block of code that will be executes if there is\n",
    "#some exception in the try block\n",
    "#syntax: try:\n",
    "           #block of code\n",
    "         #except Exception 1:\n",
    "           #block of code\n",
    "         #except Exception 2:\n",
    "           #Block of code\n",
    "        #other code\n",
    "#eg: \n",
    "try:\n",
    "    a=int(input(\"Enter a:\"))\n",
    "    b=int(input(\"Enter b:\"))\n",
    "    c=a/b\n",
    "except:\n",
    "    print(\"Can't divide with zero\")    "
   ]
  },
  {
   "cell_type": "code",
   "execution_count": 6,
   "id": "f807341c",
   "metadata": {},
   "outputs": [
    {
     "name": "stdout",
     "output_type": "stream",
     "text": [
      "Enter a:10\n",
      "Enter b:0\n",
      "Can't divide with zero\n",
      "Exception\n"
     ]
    }
   ],
   "source": [
    "#using exception with else statement\n",
    "try:\n",
    "    a=int(input(\"Enter a:\"))\n",
    "    b=int(input(\"Enter b:\"))\n",
    "    c=a/b\n",
    "    print('a/b=%d'%c)\n",
    "    #using exception with except statement\n",
    "except Exception:\n",
    "    print(\"Can't divide with zero\")\n",
    "    print(\"Exception\")\n",
    "else:\n",
    "    print(\"Hi I am in the else block\")"
   ]
  },
  {
   "cell_type": "code",
   "execution_count": 8,
   "id": "06387c1b",
   "metadata": {},
   "outputs": [
    {
     "name": "stdout",
     "output_type": "stream",
     "text": [
      "Enter a:10\n",
      "Enter b:5\n",
      "a/b=2\n",
      "Hi I am in the else block\n"
     ]
    }
   ],
   "source": [
    "#else statement without exception\n",
    "try:\n",
    "    a=int(input(\"Enter a:\"))\n",
    "    b=int(input(\"Enter b:\"))\n",
    "    c=a/b\n",
    "    print('a/b=%d'%c)\n",
    "    #using exception with except statement\n",
    "except:\n",
    "    print(\"Can't divide with zero\")\n",
    "else:\n",
    "    print(\"Hi I am in the else block\")"
   ]
  },
  {
   "cell_type": "code",
   "execution_count": 9,
   "id": "63f81410",
   "metadata": {},
   "outputs": [
    {
     "name": "stdout",
     "output_type": "stream",
     "text": [
      "Enter a:10\n",
      "Enter b:0\n",
      "Can't divide with zero\n",
      "e\n"
     ]
    }
   ],
   "source": [
    "#The except statement using exception variable\n",
    "try:\n",
    "    a=int(input(\"Enter a:\"))\n",
    "    b=int(input(\"Enter b:\"))\n",
    "    c=a/b\n",
    "    print('a/b=%d'%c)\n",
    "    #using exception with except statement\n",
    "except Exception as e:\n",
    "    print(\"Can't divide with zero\")\n",
    "    print(\"e\")\n",
    "else:\n",
    "    print(\"Hi I am in the else block\")"
   ]
  },
  {
   "cell_type": "code",
   "execution_count": 13,
   "id": "10f257db",
   "metadata": {},
   "outputs": [
    {
     "name": "stdout",
     "output_type": "stream",
     "text": [
      "File not found\n"
     ]
    }
   ],
   "source": [
    "#points to be remembered\n",
    "#Python facilitates us to not specify the exception with the except statement\n",
    "#We can declare multiple exceptions in the statement since the try block may contain the statements which throw the different types \n",
    "#of errors\n",
    "#We can also specify an else block along with the try-except statement, which will be executed if no exception is raised in the try\n",
    "#block\n",
    "\n",
    "#eg:\n",
    "try:\n",
    "    fileptr=open(\"open.txt\",\"r\")\n",
    "except IOError:\n",
    "    print(\"File not found\")\n",
    "else:\n",
    "    print(\"The file opened successfully\")\n",
    "    fileptr.close()"
   ]
  },
  {
   "cell_type": "code",
   "execution_count": 15,
   "id": "90ca2188",
   "metadata": {},
   "outputs": [
    {
     "name": "stdout",
     "output_type": "stream",
     "text": [
      "Error,can't find the file\n"
     ]
    }
   ],
   "source": [
    "try:\n",
    "    fh=open(\"testfile.txt\",\"r\")\n",
    "    fh.write(\"This is my testing file\")\n",
    "except:\n",
    "    print(\"Error,can't find the file\")\n",
    "else:\n",
    "    print(\"Content is written\")"
   ]
  },
  {
   "cell_type": "code",
   "execution_count": 16,
   "id": "86b096f5",
   "metadata": {},
   "outputs": [
    {
     "name": "stdout",
     "output_type": "stream",
     "text": [
      "Arithmetic Error\n"
     ]
    }
   ],
   "source": [
    "#Declaring Multiple exceptions\n",
    "#The python allows us to declare the multiple exceptions with except clause.Declaring multiple exceptions is useful in the cases\n",
    "#where a try block throws multiple exceptions.\n",
    "##syntax: try:\n",
    "           #block of code\n",
    "         #except(< Exception 1>,<Exception 2....<Exception n>):\n",
    "           #block of code\n",
    "         #else:\n",
    "          #block of code\n",
    "#eg:\n",
    "try:\n",
    "    a=10/0;\n",
    "except(ArithmeticError,IOError):\n",
    "    print(\"Arithmetic Error\")\n",
    "else:\n",
    "    print(\"Successfully done\")"
   ]
  },
  {
   "cell_type": "code",
   "execution_count": 1,
   "id": "d40e0285",
   "metadata": {},
   "outputs": [
    {
     "name": "stdout",
     "output_type": "stream",
     "text": [
      "File closed\n",
      "Error\n"
     ]
    }
   ],
   "source": [
    "#The try....finally block-Finally statements which is used in the try statement is executed always\n",
    "#We can use finally block with the try block  in which we can pace the necessary code which must be  executed  before\n",
    "#the try statement throws an exception\n",
    "##syntax: try:\n",
    "           #block of code\n",
    "           #this may throw an exception\n",
    "          #finally:\n",
    "            #block of code\n",
    "            #this is executed always\n",
    "#eg:\n",
    "try:\n",
    "    fileptr=open(\"file3.txt\",\"r\")\n",
    "    try:\n",
    "        fileptr.write(\"Hi i am good today\")\n",
    "    finally:\n",
    "        fileptr.close()\n",
    "        print(\"File closed\")\n",
    "except:\n",
    "    print(\"Error\")\n",
    "            "
   ]
  },
  {
   "cell_type": "code",
   "execution_count": 4,
   "id": "f295f4af",
   "metadata": {},
   "outputs": [
    {
     "name": "stdout",
     "output_type": "stream",
     "text": [
      "Enter a positive integer: -6\n",
      "That is  a negative number!\n"
     ]
    }
   ],
   "source": [
    "try:  \n",
    "     num = int(input(\"Enter a positive integer: \"))  \n",
    "     if(num <= 0):  \n",
    "# we can pass the message in the raise statement  \n",
    "         raise ValueError(\"That is  a negative number!\")  \n",
    "except ValueError as e:  \n",
    "     print(e)  "
   ]
  },
  {
   "cell_type": "code",
   "execution_count": 6,
   "id": "ae7cd6b1",
   "metadata": {},
   "outputs": [
    {
     "name": "stderr",
     "output_type": "stream",
     "text": [
      "<>:4: SyntaxWarning: \"is\" with a literal. Did you mean \"==\"?\n",
      "<>:4: SyntaxWarning: \"is\" with a literal. Did you mean \"==\"?\n",
      "<ipython-input-6-2b1cb810247f>:4: SyntaxWarning: \"is\" with a literal. Did you mean \"==\"?\n",
      "  if b is 0:\n"
     ]
    },
    {
     "name": "stdout",
     "output_type": "stream",
     "text": [
      "Enter a:10\n",
      "Enter b:10\n",
      "a/b =  1.0\n"
     ]
    }
   ],
   "source": [
    "try:    \n",
    "    a = int(input(\"Enter a:\"))    \n",
    "    b = int(input(\"Enter b:\"))    \n",
    "    if b is 0:    \n",
    "        raise ArithmeticError  \n",
    "    else:    \n",
    "        print(\"a/b = \",a/b)    \n",
    "except ArithmeticError:    \n",
    "    print(\"The value of b can't be 0\")  "
   ]
  },
  {
   "cell_type": "code",
   "execution_count": null,
   "id": "61003dc3",
   "metadata": {},
   "outputs": [],
   "source": []
  }
 ],
 "metadata": {
  "kernelspec": {
   "display_name": "Python 3",
   "language": "python",
   "name": "python3"
  },
  "language_info": {
   "codemirror_mode": {
    "name": "ipython",
    "version": 3
   },
   "file_extension": ".py",
   "mimetype": "text/x-python",
   "name": "python",
   "nbconvert_exporter": "python",
   "pygments_lexer": "ipython3",
   "version": "3.8.8"
  }
 },
 "nbformat": 4,
 "nbformat_minor": 5
}
