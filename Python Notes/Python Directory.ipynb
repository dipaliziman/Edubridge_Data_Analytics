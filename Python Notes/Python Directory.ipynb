{
 "cells": [
  {
   "cell_type": "code",
   "execution_count": 2,
   "id": "51f2cea5",
   "metadata": {},
   "outputs": [
    {
     "name": "stdout",
     "output_type": "stream",
     "text": [
      "file is open\n"
     ]
    }
   ],
   "source": [
    "fileptr=(\"test.txt\",\"r\")\n",
    "if fileptr:\n",
    "    print(\"file is open\")"
   ]
  },
  {
   "cell_type": "code",
   "execution_count": 3,
   "id": "6fd21c68",
   "metadata": {},
   "outputs": [
    {
     "name": "stdout",
     "output_type": "stream",
     "text": [
      "What's your name? vikz\n",
      "vikz <class 'str'>\n",
      "Your age? 7\n",
      "7 <class 'str'>\n",
      "Your favourite colours? r\n",
      "list['r']\n",
      "list['r'] <class 'types.GenericAlias'>\n"
     ]
    }
   ],
   "source": [
    "name = input(\"What's your name? \")\n",
    "print(name,type(name))\n",
    "age = input(\"Your age? \")\n",
    "print(age, type(age))\n",
    "colours = list[input(\"Your favourite colours? \")]\n",
    "print(colours)\n",
    "print(colours, type(colours))\n"
   ]
  },
  {
   "cell_type": "markdown",
   "id": "09a05617",
   "metadata": {},
   "source": [
    "## python directory and file management\n"
   ]
  },
  {
   "cell_type": "markdown",
   "id": "86b3af49",
   "metadata": {},
   "source": [
    "## 1 Get Current Directory:\n",
    "getcwd() method:\n",
    "This method returns the current working directory in the form of a string"
   ]
  },
  {
   "cell_type": "code",
   "execution_count": 4,
   "id": "1c69d314",
   "metadata": {},
   "outputs": [
    {
     "data": {
      "text/plain": [
       "'D:\\\\PYTHON'"
      ]
     },
     "execution_count": 4,
     "metadata": {},
     "output_type": "execute_result"
    }
   ],
   "source": [
    "import os   \n",
    "os.getcwd()  # current workng directory\n"
   ]
  },
  {
   "cell_type": "markdown",
   "id": "73a4ef3d",
   "metadata": {},
   "source": [
    "## 2. Changing Directory:\n",
    "chdir() method\n",
    "The new path that we want to change to must be supplied as a string to this method. \n",
    "We can use both forward slash (/) or the backward slash (\\) to separate path elements.\n"
   ]
  },
  {
   "cell_type": "code",
   "execution_count": 5,
   "id": "11e6956e",
   "metadata": {},
   "outputs": [
    {
     "name": "stdout",
     "output_type": "stream",
     "text": [
      "Current directory : D:\\PYTHON\n",
      "Current directory : D:\\PYTHON\n"
     ]
    }
   ],
   "source": [
    "import os\n",
    " \n",
    "print(\"Current directory :\", os.getcwd())\n",
    " \n",
    "# Changing directory\n",
    "os.chdir('D:\\Python')\n",
    "print(\"Current directory :\", os.getcwd())\n"
   ]
  },
  {
   "cell_type": "markdown",
   "id": "72695a8c",
   "metadata": {},
   "source": [
    "## 3. List Directories and Files\n",
    "• All files and sub directories inside a directory can be known using the listdir() method.\n",
    "• This method takes in a path and returns a list of sub directories and files in that path.\n",
    "• If no path is specified, it returns from the current workingdirectory.\n"
   ]
  },
  {
   "cell_type": "code",
   "execution_count": 6,
   "id": "ded0a8f9",
   "metadata": {},
   "outputs": [
    {
     "data": {
      "text/plain": [
       "['.idea',\n",
       " '.ipynb_checkpoints',\n",
       " '6313 loops.ipynb',\n",
       " 'Batch 6313.ipynb',\n",
       " 'Class Assigment 7- sets and decision Making.ipynb',\n",
       " 'Class Assignment -11 problem statement basic python program.ipynb',\n",
       " 'Class Assignment 1- Basic.ipynb',\n",
       " 'Class Assignment 10 - Python programs.ipynb',\n",
       " 'Class Assignment 2- Strings.ipynb',\n",
       " 'Class Assignment 3-Python list.ipynb',\n",
       " 'class Assignment 4 - PythonTuples.ipynb',\n",
       " 'Class Assignment 5 - Dictinory.ipynb',\n",
       " 'Class Assignment 6- Python Operator.ipynb',\n",
       " 'class Assignment 8- loops and control statement practicle.ipynb',\n",
       " 'Class Assignment 9 Dictionary.ipynb',\n",
       " 'day-1 010522 Python.ipynb',\n",
       " 'day-2 010622 Python.ipynb',\n",
       " 'day-3 010722 Python.ipynb',\n",
       " 'day-4 011122 Python.ipynb',\n",
       " 'day-5 011222 Python.ipynb',\n",
       " 'day-6 011422 Python.ipynb',\n",
       " 'day-7 011722 Python.ipynb',\n",
       " 'directory',\n",
       " 'IO files.ipynb',\n",
       " 'new_dir',\n",
       " 'Python functions.ipynb',\n",
       " 'Salary_Data.csv',\n",
       " 'simple_linear_regression.ipynb',\n",
       " 'simple_linear_regression.R',\n",
       " 'Test 1 - 011322.ipynb',\n",
       " 'test.txt']"
      ]
     },
     "execution_count": 6,
     "metadata": {},
     "output_type": "execute_result"
    }
   ],
   "source": [
    "import os \n",
    "os.listdir()\n"
   ]
  },
  {
   "cell_type": "markdown",
   "id": "33e2c477",
   "metadata": {},
   "source": [
    "## 4. Making a New Directory\n",
    "mkdir() method\n",
    "This method takes in the path of the new directory. If the full path is not specified, the new directory is \n",
    "created in the current working directory.\n"
   ]
  },
  {
   "cell_type": "code",
   "execution_count": 12,
   "id": "6844014e",
   "metadata": {},
   "outputs": [],
   "source": [
    "import os\n",
    " \n",
    "# creates in current working directory\n",
    "os.mkdir('dir') \n",
    " \n",
    "# creates in D:\\\n",
    "os.mkdir('e:\\dir')\n"
   ]
  },
  {
   "cell_type": "markdown",
   "id": "81242bb5",
   "metadata": {},
   "source": [
    "## 5. Renaming a Directory or a File\n",
    "rename() method\n",
    "The first argument is the old name and the new name must be supplies as the second argument\n"
   ]
  },
  {
   "cell_type": "code",
   "execution_count": 18,
   "id": "d9027a2b",
   "metadata": {},
   "outputs": [],
   "source": [
    "import os\n",
    "os.rename('test.txt','test_renamed.txt')  ##for txt file\n",
    "\n",
    "os.rename('E:/dir','E:/abc')\n",
    "\n"
   ]
  },
  {
   "cell_type": "markdown",
   "id": "dde96fb2",
   "metadata": {},
   "source": [
    "## 6. Removing a directory\n",
    "os.rmdir() method is used to remove/delete a directory.\n",
    "The parameter passed is the path to that directory.\n",
    "It deletes the directory if and only if it is empty, otherwise raises an OSError.\n"
   ]
  },
  {
   "cell_type": "code",
   "execution_count": 22,
   "id": "41ec26b1",
   "metadata": {},
   "outputs": [
    {
     "name": "stdout",
     "output_type": "stream",
     "text": [
      "Error!! Directory not empty!!\n"
     ]
    }
   ],
   "source": [
    "import os\n",
    " \n",
    "dir_li=os.listdir('E:\\director')\n",
    " \n",
    "if len(dir_li)==0:\n",
    "  print(\"Error!! Directory not empty!!\")\n",
    "else:\n",
    "  os.rmdir('E:\\director')\n"
   ]
  },
  {
   "cell_type": "code",
   "execution_count": 23,
   "id": "fae45ef3",
   "metadata": {},
   "outputs": [
    {
     "name": "stdout",
     "output_type": "stream",
     "text": [
      "\n",
      "\n",
      "1 \n",
      "\n",
      "2 2 \n",
      "\n",
      "3 3 3 \n",
      "\n",
      "4 4 4 4 \n",
      "\n",
      "5 5 5 5 5 \n",
      "\n",
      "6 6 6 6 6 6 \n",
      "\n",
      "7 7 7 7 7 7 7 \n",
      "\n",
      "8 8 8 8 8 8 8 8 \n",
      "\n",
      "9 9 9 9 9 9 9 9 9 \n",
      "\n"
     ]
    }
   ],
   "source": [
    "for num in range(10):\n",
    "    for i in range(num):\n",
    "        print (num, end=\" \") #print number\n",
    "    # new line after each row to display pattern correctly\n",
    "    print(\"\\n\")\n"
   ]
  },
  {
   "cell_type": "code",
   "execution_count": 24,
   "id": "33e388f5",
   "metadata": {},
   "outputs": [
    {
     "name": "stdout",
     "output_type": "stream",
     "text": [
      "2\n"
     ]
    }
   ],
   "source": [
    "str_x = \"Emma is good developer. Emma is a writer\"\n",
    "# use count method of a str class\n",
    "cnt = str_x.count(\"Emma\")\n",
    "print(cnt)\n"
   ]
  },
  {
   "cell_type": "code",
   "execution_count": 25,
   "id": "0fdccd10",
   "metadata": {},
   "outputs": [
    {
     "name": "stdout",
     "output_type": "stream",
     "text": [
      "{'Ten': 10, 'Twenty': 20, 'Thirty': 30}\n"
     ]
    }
   ],
   "source": [
    "keys = ['Ten', 'Twenty', 'Thirty']\n",
    "values = [10, 20, 30]\n",
    "\n",
    "res_dict = dict(zip(keys, values))\n",
    "print(res_dict)\n"
   ]
  },
  {
   "cell_type": "code",
   "execution_count": 26,
   "id": "d2a40493",
   "metadata": {},
   "outputs": [
    {
     "name": "stdout",
     "output_type": "stream",
     "text": [
      "{'Ten': 10, 'Twenty': 20, 'Thirty': 30, 'Fourty': 40, 'Fifty': 50}\n"
     ]
    }
   ],
   "source": [
    "dict1 = {'Ten': 10, 'Twenty': 20, 'Thirty': 30}\n",
    "dict2 = {'Thirty': 30, 'Fourty': 40, 'Fifty': 50}\n",
    "\n",
    "dict3 = dict1.copy()\n",
    "dict3.update(dict2)\n",
    "print(dict3)\n"
   ]
  },
  {
   "cell_type": "code",
   "execution_count": null,
   "id": "af049c88",
   "metadata": {},
   "outputs": [],
   "source": [
    "Change value of a key in a \n",
    "Write a Python program to change Brad’s salary to 8500 in the following dictionary.\n",
    "sample_dict = {\n",
    "    'emp1': {'name': 'Jhon', 'salary': 7500},\n",
    "    'emp2': {'name': 'Emma', 'salary': 8000},\n",
    "    'emp3': {'name': 'Brad', 'salary': 500}\n",
    "}\n"
   ]
  }
 ],
 "metadata": {
  "kernelspec": {
   "display_name": "Python 3 (ipykernel)",
   "language": "python",
   "name": "python3"
  },
  "language_info": {
   "codemirror_mode": {
    "name": "ipython",
    "version": 3
   },
   "file_extension": ".py",
   "mimetype": "text/x-python",
   "name": "python",
   "nbconvert_exporter": "python",
   "pygments_lexer": "ipython3",
   "version": "3.9.7"
  }
 },
 "nbformat": 4,
 "nbformat_minor": 5
}
